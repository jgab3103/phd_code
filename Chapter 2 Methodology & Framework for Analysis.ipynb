{
 "metadata": {
  "name": "",
  "signature": "sha256:0e6eda0a1449514aabffa406d2c75d55b07f4275326f5e12c655d84fed85a2f4"
 },
 "nbformat": 3,
 "nbformat_minor": 0,
 "worksheets": [
  {
   "cells": [
    {
     "cell_type": "markdown",
     "metadata": {},
     "source": [
      "<h2>Chapter 2<br> Methodology and Framework of Analysis</h2>"
     ]
    },
    {
     "cell_type": "code",
     "collapsed": false,
     "input": [
      "import music21 as mu\n",
      "import numpy as np\n",
      "import pandas as pd\n",
      "%pylab inline\n",
      "import math\n",
      "from IPython.core.display import HTML\n",
      "from IPython.core.display import Image \n",
      "%load_ext music21.ipython21.ipExtension"
     ],
     "language": "python",
     "metadata": {},
     "outputs": [
      {
       "output_type": "stream",
       "stream": "stdout",
       "text": [
        "Populating the interactive namespace from numpy and matplotlib\n"
       ]
      }
     ],
     "prompt_number": 1
    },
    {
     "cell_type": "code",
     "collapsed": false,
     "input": [
      "e = mu.converter.parse('xml_files/ch_2_examples.xml')"
     ],
     "language": "python",
     "metadata": {},
     "outputs": [],
     "prompt_number": 2
    },
    {
     "cell_type": "code",
     "collapsed": false,
     "input": [
      "#utility method to track tables and figures in document\n",
      "class TableFigureCounter:\n",
      "    def __init__(self):\n",
      "        self.tab_count = 0\n",
      "        self.fig_count = 0\n",
      "    def get_next_tab(self, chapter=None):\n",
      "        self.tab_count = self.tab_count + 1\n",
      "        return 'Table ' + str(chapter) + '.' + str(self.tab_count)        \n",
      "    def get_next_fig(self, chapter=None):\n",
      "        self.fig_count = self.fig_count + 1\n",
      "        return 'Figure ' + str(chapter) + '.' + str(self.fig_count)\n",
      "    def reset(self):\n",
      "        self.tab_count = 0\n",
      "        self.fig_count = 0"
     ],
     "language": "python",
     "metadata": {},
     "outputs": [],
     "prompt_number": 3
    },
    {
     "cell_type": "code",
     "collapsed": false,
     "input": [
      "tab_fig = TableFigureCounter()"
     ],
     "language": "python",
     "metadata": {},
     "outputs": [],
     "prompt_number": 4
    },
    {
     "cell_type": "markdown",
     "metadata": {},
     "source": [
      "<h3>2.1 Introduction</h3>\n",
      "<p>Chapters 3 and 4 will provide a musical analysis of ten Keith Jarrett solos which have been listed in Table 2.x below in chronological order. These solos have been chosen as together they represent a broad cross section of Jarrett's work over a 20 year period and feature a variety of different tempos, time-signatures and harmonic progressions.</p>"
     ]
    },
    {
     "cell_type": "markdown",
     "metadata": {},
     "source": [
      "<table>\n",
      "<tr>\n",
      "<td><b>Name of Jazz Standard</b></td>\n",
      "<td><b>Name of Album</b></td>\n",
      "<td><b>Year Recorded</b></td>\n",
      "</tr>\n",
      "<tr>\n",
      "<td>Stella By Starlight</td>\n",
      "<td>Standards Vol. 1</td>\n",
      "<td>1983</td>\n",
      "<tr>\n",
      "<tr>\n",
      "<td>All The Things You Are</td>\n",
      "<td>Standards Live</td>\n",
      "<td>1985</td>\n",
      "<tr>\n",
      "\n",
      "\n",
      "<tr>\n",
      "<td>I'll Close My Eyes</td>\n",
      "<td>Live At The Blue Note, Vol. 1</td>\n",
      "<td>1994</td>\n",
      "<tr>\n",
      "\n",
      "\n",
      "<tr>\n",
      "<td>For Heavens Sake</td>\n",
      "<td>Live At The Blue Note, Vol. 2</td>\n",
      "<td>1994</td>\n",
      "<tr>\n",
      "<tr>\n",
      "<td>How Deep Is The Ocean</td>\n",
      "<td>Live At The Blue Note, Vol. 3</td>\n",
      "<td>1994</td>\n",
      "<tr>\n",
      "\n",
      "<tr>\n",
      "<td>Days Of Wine And Roses</td>\n",
      "<td>Live At The Blue Note, Vol. 5</td>\n",
      "<td>1994</td>\n",
      "<tr>\n",
      "\n",
      "<tr>\n",
      "<td>Autumn Leaves</td>\n",
      "<td>Tokyo 96</td>\n",
      "<td>1996</td>\n",
      "<tr>\n",
      "\n",
      "<tr>\n",
      "<td>Groovin' High</td>\n",
      "<td>Whisper Not</td>\n",
      "<td>1999</td>\n",
      "<tr>\n",
      "\n",
      "<tr>\n",
      "<td>If I Were A Bell</td>\n",
      "<td>Up For It</td>\n",
      "<td>2002</td>\n",
      "<tr>\n",
      "\n",
      "<tr>\n",
      "<td>Oleo</td>\n",
      "<td>My Foolish Heart</td>\n",
      "<td>2003</td>\n",
      "<tr>\n",
      "\n",
      "\n",
      "\n",
      "\n",
      "\n",
      "</table>\n"
     ]
    },
    {
     "cell_type": "markdown",
     "metadata": {},
     "source": [
      "<p>In order to undertake the analysis, information has been taken from the transcribed solos and placed into one large data-set. This data-set will be described in detail in the following section. All together, the ten improvised piano solos comprise around 20,000 notes.</p>\n",
      "\n",
      "<p>The purpose of the analysis is to understand how and when Keith Jarrett tends to play certain notes. Examples of the kinds of questions this analysis seeks to address are:</p><br>\n",
      "\n",
      "<ol><p>When Keith Jarrett improvises over a dominant seventh chord, which choice of note(s) are most likely and under what circumstances does this change?</p> </ol>\n",
      "<ol><p>If Keith Jarrett plays a certain note over a certain chord, to what degree of certainty is it possible to predict the notes occurring before and after this note?</p></ol>\n",
      "<ol><p>How influential is the melody of the jazz standard in determining note choice in an improvised solo?</p></ol>\n",
      "\n",
      "<p>It turns out that it is possible to answer these kinds questions with an unexpectedly high level of accuracy. It is unexpected because Keith Jarrett is known as an improvisor who does not repeat himself. Examining the solos under consideration here, this is certainly the case: throughout the 20'000 notes which together form all the melodic phrases to be analysed, no phrases are repeated. Yet in this analysis will show that it is still certainly possible to predict the next note Jarrett will play with a reasonable degree of accuracy.</p>\n",
      "\n",
      "<p>If it is possible to meaningfully answer the kinds of questions posed above, this provides a basis to address the wider concern of this dissertation: finding a structure or model that underpins these improvised solos. This structure can be examined to shed light on how creative decision making works in this context.</p>\n",
      "\n",
      "\n",
      "\n",
      "<h4>What is meant be note choice?</h4>\n",
      "<p>[MARK - this will actually in the introduction but I am just addressing it here as I know you will have an issue with it!]\n",
      "Although the analysis is investigating note choice, note choice here just means what notes appear on the music score and the order in which they appear on the score. There is obviously a much deeper psychological apparatus at work here that determines why Keith Jarrett makes a certain decision and whether it is subconscious or conscious, is not under consideration. The data-set that holds the information about the solos can here be regarded simply as log of decisions that have been made, for whatever reason, and the purpose the analysis is to understand the underlying trends in this log of decisions.</p>\n",
      "\n",
      "<h4>The Data Set</h4>\n",
      "\n",
      "<p>The data-set used in this analysis tracks two pieces of information in regard to the improvised solos listed above: what note Jarrett is playing during a given solo, and when (in relation to the other notes of the solo) he is playing it. There is also other information held in the data-set (such as which note precedes any particular note, the duration of a particular note etc.). Almost everything however, is derived from these two basic elements.</p> \n",
      "\n",
      "<p>The choice of note and when it is is played are readily identifiable elements a musical score (such as in Figure 2.x). They can also be visualised in Figure 2.x which shows a vertical axis indicating pitch and a horizontal axis indicating time (here measured in measures).</p>"
     ]
    },
    {
     "cell_type": "code",
     "collapsed": false,
     "input": [
      "tab_fig.reset()\n",
      "print tab_fig.get_next_fig(3)"
     ],
     "language": "python",
     "metadata": {},
     "outputs": [
      {
       "output_type": "stream",
       "stream": "stdout",
       "text": [
        "Figure 3.1\n"
       ]
      }
     ],
     "prompt_number": 5
    },
    {
     "cell_type": "code",
     "collapsed": false,
     "input": [
      "mu_stella = mu.converter.parse('xml_files/stella_by_starlight.xml')\n",
      "select = mu_stella.parts[1].measures(1,3)\n",
      "select.show()\n",
      "#Figure 3.7\n",
      "#Progression Em7b5 | A7 | Cm\n",
      "#Stella By Starlight (bars, 1-3)"
     ],
     "language": "python",
     "metadata": {},
     "outputs": [
      {
       "metadata": {},
       "output_type": "pyout",
       "png": "[encoded data removed]",
       "prompt_number": 6,
       "text": [
        "<music21.ipython21.objects.IPythonPNGObject at 0x110d05910>"
       ]
      }
     ],
     "prompt_number": 6
    },
    {
     "cell_type": "code",
     "collapsed": false,
     "input": [
      "print tab_fig.get_next_fig(2)"
     ],
     "language": "python",
     "metadata": {},
     "outputs": [
      {
       "output_type": "stream",
       "stream": "stdout",
       "text": [
        "Figure 2.2\n"
       ]
      }
     ],
     "prompt_number": 7
    },
    {
     "cell_type": "code",
     "collapsed": false,
     "input": [
      "s = mu.converter.parse('xml_files/stella_by_starlight.xml')\n",
      "p = mu.graph.PlotHorizontalBarPitchSpaceOffset(s.parts[1].measures(1,10))\n",
      "p.process() #"
     ],
     "language": "python",
     "metadata": {},
     "outputs": [
      {
       "metadata": {},
       "output_type": "display_data",
       "png": "[encoded data removed]",
       "text": [
        "<matplotlib.figure.Figure at 0x10a2e7c90>"
       ]
      }
     ],
     "prompt_number": 8
    },
    {
     "cell_type": "markdown",
     "metadata": {},
     "source": [
      "<p>The following section will outline the steps involved in creating the data-set as well as describing its features. These steps are:</p><br>\n",
      "\n",
      "<ol><p>(i) transcribing the solos from the recordings;</p></ol>\n",
      "<ol><p>(ii) inputing the transcribed solos into a music notation software program;</p></ol>\n",
      "<ol><p>(iii) exporting the transcriptions from the music notation software program in MusicXML format;</p></ol>\n",
      "<ol><p>(iv) converting the MusicXML into a useable data-set, or a set or records that holds information about each note in all of the solos.</p></ol>\n",
      "\n",
      "\n",
      "<h4>Transcribing the solos from the recordings</h4>\n",
      "\n",
      "<p>The ten solos were transcribed by hand, using the transcription software <b><u>Transcribe</b></u>. This software allows users to slow down audio files while retaining the pitch. It also provides functionality to let users easily navigate to any point in audio file, and place visual markers at different time points.</p>\n",
      "<p>There is always going to be level of approximation applied to the transcription process. Jazz musicians often place notes on different parts of the beat and it is not practical to transcribe these nuances. Jarrett in particular, will often make subtle changes to the time feel throughout a melodic passage, moving from playing just behind the beat to just in front of the beat. To account for these kinds of variances, figures such as swung 8th notes were transcribed as even eighth notes and the exact position of notes in relation to the beat was not recorded. This is standard practice when transcribing jazz solos and the score should be regarded as an approximation of the recording.</p>\n",
      "\n",
      "<h4>Inputing the transcribed solos into a music notation software program</h4>\n",
      "<p>The software programs <b><u>Sibelius</b></u> and <b><u>MuseScore</b></u> were used to input the transcriptions. As well as inputting the notes from each of the the solos, the chord names and chord changes of the songs were also included. An example of this (being the opening bars of Jarrett's solo in <i>Stella By Starlight</i>) can be seen in Figure 2.x below. </p>"
     ]
    },
    {
     "cell_type": "code",
     "collapsed": false,
     "input": [
      "print tab_fig.get_next_tab(2)"
     ],
     "language": "python",
     "metadata": {},
     "outputs": [
      {
       "output_type": "stream",
       "stream": "stdout",
       "text": [
        "Table 2.1\n"
       ]
      }
     ],
     "prompt_number": 9
    },
    {
     "cell_type": "code",
     "collapsed": false,
     "input": [
      "print tab_fig.get_next_fig(2)"
     ],
     "language": "python",
     "metadata": {},
     "outputs": [
      {
       "output_type": "stream",
       "stream": "stdout",
       "text": [
        "Figure 2.3\n"
       ]
      }
     ],
     "prompt_number": 10
    },
    {
     "cell_type": "code",
     "collapsed": false,
     "input": [
      "select = s.measures(1,4)\n",
      "select.show()"
     ],
     "language": "python",
     "metadata": {},
     "outputs": [
      {
       "metadata": {},
       "output_type": "pyout",
       "png": "[encoded data removed]",
       "prompt_number": 11,
       "text": [
        "<music21.ipython21.objects.IPythonPNGObject at 0x10d7b0690>"
       ]
      }
     ],
     "prompt_number": 11
    },
    {
     "cell_type": "markdown",
     "metadata": {},
     "source": [
      "<h4>Exporting the transcriptions from the music notation software program in MusicXML format</h4>\n",
      "\n",
      "<p>The solos were then exported from <u>Sibelius</u> and <u>Musescore</u> as ten separate MusicXML files. MusicXML is a a data format designed to be both machine readable and human readable and has been growing in popularity since its inception in 2006. Most information that would typically be found on a western music score can be encoded in MusicXML format. It is widely used in music software programs such as <u>Sibelius</u>, <u>Logic Pro</u> and <u>Finale</u> which all provide the functionality to import and export MusicXML. Although MusicXML has some similarities to the MIDI data specification, MIDI is far more limited in terms of the information it can capture (being primarily tempo, frequency, velocity). MusicXML can store up to 600 different attributes that might be found on a score (such as notes, chord symbols, fingerings, expression markings etc.).</p>\n",
      "\n",
      "<h4>Converting the MusicXML into a useable data-set</h4>\n",
      "\n",
      "<p>The Python programming language was used to convert the MusicXML files into a useable data-set. Python is a widely used an popular programming language based on the C programming language. It is considered a multi-purpose programming language and suited to a wide variety of applications, such as web development, scientific data analysis, and financial analysis. Like many programming languages, Python has a basic instructions set, but its functionality can also be extended by adding additional Python software libraries, which can enhance its functionality depending on the job at hand. A number of Python software libraries were used to assist in the creation of the data-set, the main ones being <u>Music21</u> and <u>Pandas.</u></p><br>\n",
      "\n",
      "<h4>Music21</h4> \n",
      "<p>The Python library <i>Music21</i> was designed to extend the functionality of the Python programming language to be able to easily work with MusicXML data. This software library makes it straight-forward to extract information from MusicXML files (such as note name, midi frequency and note position). This library was developed at MIT and has a wide range of applications for musical analysis, though in this case was chosen because of the convenience it affords when working with MusicXML data.</li></p>\n",
      "\n",
      "\n",
      "<h4>Pandas</h4>\n",
      "<p>The Python libary <i>Pandas</i> was designed to extend the Python programming language to include an sophisticated set of data preparation and analysis tools. It is used heavily in financial analysis (especially time-series analysis). It allows information to held in what are called 'Dataframes'. The Dataframe structure makes is possible to undertake wide range of data analysis tasks on a given data-set. A Dataframe can best be thought of as a structure that can hold a set of records (similar to a set of rows that might found in programs such as Excel). In this case, each record, or row, holds information about a particular note (such as the name of the note, the midi-frequency, the current tempo etc.).</p>\n",
      "<p>All together, there are 23,345 notes in the ten Keith Jarrett solos. The resulting data-set contains a row in a Dataframe for each of these notes. The first row in the data-set can seen in Table 2.x.</p>\n",
      "\n"
     ]
    },
    {
     "cell_type": "code",
     "collapsed": false,
     "input": [
      "mu_stella = mu.converter.parse('xml_files/stella_by_starlight.xml')\n",
      "mu_autumn = mu.converter.parse('xml_files/autumn_leaves_v2.xml')\n",
      "mu_if_i_were = mu.converter.parse('xml_files/if_i_were_a_bell.xml')\n",
      "mu_groovin = mu.converter.parse('xml_files/groovin_high.xml')\n",
      "mu_all_the_things = mu.converter.parse('xml_files/all_the_things_you_are.xml')\n",
      "def prep_data_from_xml(xml_file=''):\n",
      "    notes = mu.converter.parse(xml_file)\n",
      "    i = 0\n",
      "    parts_list = []\n",
      "    while i < len(notes.parts):\n",
      "        parts_list.append(notes.parts[i])\n",
      "        i = i + 1\n",
      "\n",
      "\n",
      "    notes_list = []\n",
      "    part_name_list = []\n",
      "    for part in parts_list:\n",
      "        a = part.flat.getElementsByClass(mu.note.Note)\n",
      "        b = part.id\n",
      "        notes_list.append(a)\n",
      "        part_name_list.append(b)\n",
      "\n",
      "\n",
      "\n",
      "#create lists\n",
      "    mel_notes = []\n",
      "    mel_pos = []\n",
      "\n",
      "    solo_notes = []\n",
      "    solo_pos = []\n",
      "\n",
      "    root_notes = []\n",
      "    root_pos = []\n",
      "\n",
      "\n",
      "    third_pos = []\n",
      "    third_notes = []\n",
      "\n",
      "    fifth_notes = []\n",
      "    fifth_pos = []\n",
      "\n",
      "    seventh_notes = []\n",
      "    seventh_pos = []\n",
      "\n",
      "#add notes from parts into lists\n",
      "    for note in notes_list[0]:\n",
      "        mel_pos.append(note.offset)\n",
      "        mel_notes.append(note.midi)\n",
      "    \n",
      "    for note in notes_list[1]:\n",
      "        solo_pos.append(note.offset)\n",
      "        solo_notes.append(note.midi)\n",
      "\n",
      "    for note in notes_list[5]:\n",
      "        root_pos.append(note.offset)\n",
      "        root_notes.append(note.midi)\n",
      "    \n",
      "    for note in notes_list[4]:\n",
      "        third_pos.append(note.offset)\n",
      "        third_notes.append(note.midi)\n",
      "    \n",
      "    for note in notes_list[3]:\n",
      "        fifth_pos.append(note.offset)\n",
      "        fifth_notes.append(note.midi)\n",
      "    \n",
      "    for note in notes_list[2]:\n",
      "        seventh_pos.append(note.offset)\n",
      "        seventh_notes.append(note.midi)\n",
      "\n",
      "\n",
      "\n",
      "# <p>Create Data Frames for each part showing location and frequency</p>\n",
      "\n",
      "\n",
      "\n",
      "    solo_df = pd.DataFrame({'part':0,\n",
      "                   'location': solo_pos,\n",
      "                   'note': solo_notes,\n",
      "                   })\n",
      "\n",
      "    root_df = pd.DataFrame({'part':1,\n",
      "                  'location':root_pos,\n",
      "                  'note': root_notes,\n",
      "                  })\n",
      "    third_df = pd.DataFrame({'part':2,\n",
      "                  'location':third_pos,\n",
      "                  'note': third_notes,\n",
      "                  })\n",
      "\n",
      "    fifth_df = pd.DataFrame({'part': 3,\n",
      "                         'location':fifth_pos,\n",
      "                         'note':fifth_notes,\n",
      "                         })\n",
      "    seventh_df = pd.DataFrame({'part': 4,\n",
      "                           'location':seventh_pos,\n",
      "                           'note':seventh_notes,\n",
      "                           })\n",
      "\n",
      "\n",
      "\n",
      "    solo_root_df = solo_df.append(root_df)\n",
      "    solo_root_third_df = solo_root_df.append(third_df)\n",
      "    solo_root_third_fifth_df = solo_root_third_df.append(fifth_df)\n",
      "    solo_root_third_fifth_seventh_df = solo_root_third_fifth_df.append(seventh_df)\n",
      "    all_note_events = solo_root_third_fifth_seventh_df\n",
      "    all_note_events = all_note_events.sort('location')\n",
      "\n",
      "\n",
      "    def create_root_col(note_event):\n",
      "        if note_event['part'] == 1:\n",
      "            return note_event['note']\n",
      "        else:\n",
      "            return None\n",
      "\n",
      "    def create_third_col(note_event):\n",
      "        if note_event['part'] == 2:\n",
      "            return note_event['note']\n",
      "        else:\n",
      "            return None\n",
      "    \n",
      "    def create_fifth_col(note_event):\n",
      "        if note_event['part'] == 3:\n",
      "            return note_event['note']\n",
      "        else:\n",
      "            return None\n",
      "    \n",
      "    def create_seventh_col(note_event):\n",
      "        if note_event['part'] == 4:\n",
      "            return note_event['note']\n",
      "        else:\n",
      "            return None\n",
      "    \n",
      "    \n",
      "\n",
      "    all_note_events['root'] = all_note_events.apply(create_root_col, axis=1)\n",
      "    all_note_events['third'] = all_note_events.apply(create_third_col, axis=1)\n",
      "    all_note_events['fifth'] = all_note_events.apply(create_fifth_col, axis=1)\n",
      "    all_note_events['seventh'] = all_note_events.apply(create_seventh_col, axis=1)\n",
      "\n",
      "\n",
      "    all_note_events = all_note_events.sort(['location', 'root'], ascending=[True, False])\n",
      "    all_note_events['root'] = all_note_events['root'].fillna(method=\"pad\")\n",
      "    \n",
      "    all_note_events = all_note_events.sort(['location', 'third'], ascending=[True, False])\n",
      "    all_note_events['third'] = all_note_events['third'].fillna(method='pad')\n",
      "    \n",
      "    all_note_events = all_note_events.sort(['location', 'fifth'], ascending=[True, False])\n",
      "    all_note_events['fifth'] = all_note_events['fifth'].fillna(method='pad')\n",
      "\n",
      "    all_note_events = all_note_events.sort(['location', 'seventh'], ascending=[True, False])\n",
      "    all_note_events['seventh'] = all_note_events['seventh'].fillna(method='pad')\n",
      "    all_note_events['measure'] = (all_note_events['location'] + 4) / 4\n",
      "    \n",
      "    solo_note_events = all_note_events[all_note_events.part == 0]\n",
      "\n",
      "    \n",
      "    solo_note_events['prep'] = solo_note_events['note'].shift(1)\n",
      "    solo_note_events['prep'] = solo_note_events['prep'] - solo_note_events['note']\n",
      "    solo_note_events['res'] = solo_note_events['note'].shift(-1)\n",
      "    solo_note_events['res'] = solo_note_events['res'] - solo_note_events['note']\n",
      "    solo_note_events['p_offset'] = solo_note_events['location'].shift(1)\n",
      "    solo_note_events['p_offset'] = abs(solo_note_events['p_offset'] - solo_note_events['location'])\n",
      "    solo_note_events['r_offset'] = solo_note_events['location'].shift(-1)\n",
      "    solo_note_events['r_offset'] = abs(solo_note_events['r_offset'] - solo_note_events['location'])\n",
      "    \n",
      "    def find_chord_type(row):\n",
      "        if row['third'] - row['root'] == 4 and row['fifth'] - row['third'] == 3 and row['seventh'] - row['fifth'] == 3:\n",
      "            return 'dominant_seventh'\n",
      "        elif row['third'] - row['root'] == 4 and row['fifth'] - row['third'] == 3 and row['seventh'] - row['fifth'] == 4:\n",
      "            return 'major_seventh'\n",
      "        elif row['third'] - row['root'] == 3 and row['fifth'] - row['third'] == 4 and row['seventh'] - row['fifth'] == 3:\n",
      "            return 'minor_seventh'\n",
      "        elif row['third'] - row['root'] == 3 and row['fifth'] - row['third'] == 3 and row['seventh'] - row['fifth'] == 4:\n",
      "            return 'minor_seventh_flat_five'\n",
      "        else:\n",
      "            return 'not_determined'\n",
      "\n",
      "    solo_note_events['chord_type'] = solo_note_events.apply(find_chord_type, axis=1)\n",
      "\n",
      "    def calc_dist_note_root(data_row):\n",
      "        x = (data_row['note'] - data_row['root']) % 12\n",
      "        return x\n",
      "    \n",
      "    \n",
      "    solo_note_events['dist_note_to_root'] = solo_note_events.apply(calc_dist_note_root, axis=1)\n",
      "    \n",
      "    \n",
      "    solo_note_events['current_tempo'] = 120.0\n",
      "    \n",
      "    \n",
      "    def calc_measure_floor(data_row):\n",
      "        x = math.floor(data_row.measure)\n",
      "        return x\n",
      "    \n",
      "    solo_note_events['c_measure'] = solo_note_events.apply(calc_measure_floor, axis=1)\n",
      "\n",
      "    \n",
      "    \n",
      "    \n",
      "    \n",
      "    return solo_note_events"
     ],
     "language": "python",
     "metadata": {},
     "outputs": [],
     "prompt_number": 12
    },
    {
     "cell_type": "code",
     "collapsed": false,
     "input": [
      "stella_by_starlight_solo = prep_data_from_xml('xml_files/stella_by_starlight.xml')"
     ],
     "language": "python",
     "metadata": {},
     "outputs": [
      {
       "output_type": "stream",
       "stream": "stderr",
       "text": [
        "-c:158: SettingWithCopyWarning: A value is trying to be set on a copy of a slice from a DataFrame.\n",
        "Try using .loc[row_index,col_indexer] = value instead\n",
        "-c:160: SettingWithCopyWarning: A value is trying to be set on a copy of a slice from a DataFrame.\n",
        "Try using .loc[row_index,col_indexer] = value instead\n"
       ]
      },
      {
       "output_type": "stream",
       "stream": "stderr",
       "text": [
        "-c:162: SettingWithCopyWarning: A value is trying to be set on a copy of a slice from a DataFrame.\n",
        "Try using .loc[row_index,col_indexer] = value instead\n",
        "-c:164: SettingWithCopyWarning: A value is trying to be set on a copy of a slice from a DataFrame.\n",
        "Try using .loc[row_index,col_indexer] = value instead\n"
       ]
      }
     ],
     "prompt_number": 13
    },
    {
     "cell_type": "code",
     "collapsed": false,
     "input": [
      "stella_by_starlight_solo['name'] = \"Stella By Starlight\""
     ],
     "language": "python",
     "metadata": {},
     "outputs": [],
     "prompt_number": 14
    },
    {
     "cell_type": "code",
     "collapsed": false,
     "input": [
      "autumn_leaves_solo = prep_data_from_xml('xml_files/autumn_leaves_v2.xml')"
     ],
     "language": "python",
     "metadata": {},
     "outputs": [],
     "prompt_number": 15
    },
    {
     "cell_type": "code",
     "collapsed": false,
     "input": [
      "autumn_leaves_solo['name'] = 'Autumn Leaves'"
     ],
     "language": "python",
     "metadata": {},
     "outputs": [],
     "prompt_number": 16
    },
    {
     "cell_type": "code",
     "collapsed": false,
     "input": [
      "if_i_were_a_bell_solo = prep_data_from_xml('xml_files/if_i_were_a_bell.xml')"
     ],
     "language": "python",
     "metadata": {},
     "outputs": [],
     "prompt_number": 17
    },
    {
     "cell_type": "code",
     "collapsed": false,
     "input": [
      "if_i_were_a_bell_solo['name'] = 'If I Were A Bell'"
     ],
     "language": "python",
     "metadata": {},
     "outputs": [],
     "prompt_number": 18
    },
    {
     "cell_type": "code",
     "collapsed": false,
     "input": [
      "groovin_high_solo = prep_data_from_xml('xml_files/groovin_high.xml')"
     ],
     "language": "python",
     "metadata": {},
     "outputs": [],
     "prompt_number": 19
    },
    {
     "cell_type": "code",
     "collapsed": false,
     "input": [
      "groovin_high_solo['name'] = 'Groovin High'"
     ],
     "language": "python",
     "metadata": {},
     "outputs": [],
     "prompt_number": 20
    },
    {
     "cell_type": "code",
     "collapsed": false,
     "input": [
      "all_the_things_you_are_solo = prep_data_from_xml('xml_files/all_the_things_you_are.xml')"
     ],
     "language": "python",
     "metadata": {},
     "outputs": [],
     "prompt_number": 21
    },
    {
     "cell_type": "code",
     "collapsed": false,
     "input": [
      "all_the_things_you_are_solo['name'] = 'All The Things You Are'"
     ],
     "language": "python",
     "metadata": {},
     "outputs": [],
     "prompt_number": 22
    },
    {
     "cell_type": "code",
     "collapsed": false,
     "input": [
      "data_set = pd.concat([all_the_things_you_are_solo, stella_by_starlight_solo, groovin_high_solo, autumn_leaves_solo, if_i_were_a_bell_solo], ignore_index=True)"
     ],
     "language": "python",
     "metadata": {},
     "outputs": [],
     "prompt_number": 23
    },
    {
     "cell_type": "code",
     "collapsed": false,
     "input": [
      "print tab_fig.get_next_tab(2)"
     ],
     "language": "python",
     "metadata": {},
     "outputs": [
      {
       "output_type": "stream",
       "stream": "stdout",
       "text": [
        "Table 2.2\n"
       ]
      }
     ],
     "prompt_number": 24
    },
    {
     "cell_type": "code",
     "collapsed": false,
     "input": [
      "display(HTML(data_set[1:2].to_html()))"
     ],
     "language": "python",
     "metadata": {},
     "outputs": [
      {
       "html": [
        "<table border=\"1\" class=\"dataframe\">\n",
        "  <thead>\n",
        "    <tr style=\"text-align: right;\">\n",
        "      <th></th>\n",
        "      <th>location</th>\n",
        "      <th>note</th>\n",
        "      <th>part</th>\n",
        "      <th>root</th>\n",
        "      <th>third</th>\n",
        "      <th>fifth</th>\n",
        "      <th>seventh</th>\n",
        "      <th>measure</th>\n",
        "      <th>prep</th>\n",
        "      <th>res</th>\n",
        "      <th>p_offset</th>\n",
        "      <th>r_offset</th>\n",
        "      <th>chord_type</th>\n",
        "      <th>dist_note_to_root</th>\n",
        "      <th>current_tempo</th>\n",
        "      <th>c_measure</th>\n",
        "      <th>name</th>\n",
        "    </tr>\n",
        "  </thead>\n",
        "  <tbody>\n",
        "    <tr>\n",
        "      <th>1</th>\n",
        "      <td> 2</td>\n",
        "      <td> 68</td>\n",
        "      <td> 0</td>\n",
        "      <td> 55</td>\n",
        "      <td> 58</td>\n",
        "      <td> 61</td>\n",
        "      <td> 65</td>\n",
        "      <td> 1.5</td>\n",
        "      <td> 2</td>\n",
        "      <td> 4</td>\n",
        "      <td> 1</td>\n",
        "      <td> 2</td>\n",
        "      <td> minor_seventh_flat_five</td>\n",
        "      <td> 1</td>\n",
        "      <td> 120</td>\n",
        "      <td> 1</td>\n",
        "      <td> All The Things You Are</td>\n",
        "    </tr>\n",
        "  </tbody>\n",
        "</table>"
       ],
       "metadata": {},
       "output_type": "display_data",
       "text": [
        "<IPython.core.display.HTML at 0x12aa0c3d0>"
       ]
      }
     ],
     "prompt_number": 25
    },
    {
     "cell_type": "markdown",
     "metadata": {},
     "source": [
      "<p>The row of data listed above shows 17 different pieces of information with names such as location, note, part, root etc. These pieces of information are also commonly called attributes. With the exception of the 'name' and 'current tempo', all of these attributes have been derived from two pieces of information taken from the MusicXML files: what note is being played in the course of a particular solo, and when it is being played. A description of each of the 17 attributes is given below.</p>\n",
      "\n",
      "<ul><b>1. location:</b>\n",
      "    <p>The location is a measure of time. It measures and describes how many crotchets or quarter-notes any particular note is away from the beginning of the particular solo in which it has been played.</p></ul>\n",
      "       \n",
      "<ul><b>2. note:</b>\n",
      "    <p>The note is the midi frequency of a each note in the solos. The midi-frequency is part of MIDI technical standard that assigns a unique number to each note through A0 through C8 (the range of 21 through to 108). Middle C in this standard is equivalent to the number 60.</p></ul>\n",
      "        \n",
      "<ul><b>3. part:</b>\n",
      "    <p>When the solos were inputted into the music software, 5 parts or staves were created (see Figure 2.x above): one for the solo, one for the fifth, seventh, third and the root of the accompanying chord. The notes in the solos all from part 0, but the part number attribute has been retained for future work.</p></ul>\n",
      "\n",
      "<ul><b>4. root:</b>\n",
      "    <p>The root is the midi-frequency of the root of chord over which the given solo note is being played. For example, if a note of the solo was to be played over a C dominant seventh chord, the root is the midi-frequency of the root of this chord (in this case the note C).</p></ul>\n",
      "        \n",
      "<ul><b>5. third:</b>\n",
      "    <p>The third is the midi-frequency of the third of the chord over which the solo note is being played.</p></ul>    \n",
      "\n",
      "<ul><b>6. fifth:</b>\n",
      "   <p>The fifth is the midi-frequency of the fifth of the chord over which the solo note is being played.</p></ul>\n",
      "\n",
      "<ul><b>7. seventh:</b>\n",
      "  <p>The seventh is the midi-frequency of the seventh of chord over which the solo note is being played.</p></ul>\n",
      "\n",
      "<ul><b>8. measure:</b>\n",
      "        <p>The measure is both measure and exact location of the measure of a solo note in relation to the solo that is part of.</p></ul>\n",
      "\n",
      "<ul><b>9. prep:</b>\n",
      "        <p>The prep is the distance between the midi-frequency of a note in a row of data, and the note in the previous row of data.</p></ul>\n",
      "\n",
      "<ul><b>10. res:</b>\n",
      "        <p>The res is the the distance between midi-frequency of a note in a row of data, and the note in the next row of data.</p></ul>\n",
      "\n",
      "<ul><b>11. p_offset:</b>\n",
      "        <p>The p_offset is a measure of time, being the distance in crotchets or quarter-notes between a note in a row of data, and the note in the previous row of data. It is used to ascertain whether the previous note in a solo should be considered as part of the current phrase as the current note.</p></ul>\n",
      "\n",
      "<ul><b>12. r_offset:</b>\n",
      "        <p>The r_offset is a measure of time, being the distance in crotchets quarter-notes between a note in a row of data, and the note in the previous row of data. It is used to ascertain whether the previous note in a solo should be conidered as part of the current phrase as the current note.</p></ul>\n",
      "\n",
      "<ul><b>13. chord_type:</b>\n",
      "        <p>This is calculated by examining the distance between the midi-frequencies of the root, third, fifth and seventh and assigning an appropriately named chord. For example if the distance betwen the root and third, the third and fifth and the fith and seventh, were all three semitones, this sould be a diminished seventh chord.</p></ul>\n",
      "\n",
      "<ul><b>14. dist_note_to_root:</b>\n",
      "        <p>The dist_note_to_root is the distance between the-midi frequency of the note of the solo and the midi frequency of the root.</p></ul>\n",
      "\n",
      "<ul><b>15. c_measure</b>\n",
      "        <p>The c_measure is the current measure that a note is being played in, and is useful when needing to acsertain how any particular chord fits into a wider harmonic progression.</p></ul>\n",
      "\n",
      "<ul><b>16. current_tempo</b>\n",
      "        <p>The current_tempo has not been taken from the MusicXML file. It has been calculated during the transcription process and manually added. </p></ul>\n",
      "\n",
      "<ul><b>17. name:</b>\n",
      "        <p>The name has also note been taken from the MusicXML file, but manually added, and is included as a convenience to make it easy to see which solo a note is a part of.</p></ul>\n",
      "        \n",
      "<p>This data-set also has an index, being a standard feature of the Pandas DataFrame (here numbered from 0 to 23,345). The order in which these solos were recorded (between 1983 and 2003) also reflects the order which the data-set was created. This makes it possible to do broad longitudinal analysis to understand how Jarrett's evolved over a 20 year period, and even to create a model of how they could continue to evolve. This will be taken up in chapter 5.</p>"
     ]
    },
    {
     "cell_type": "markdown",
     "metadata": {},
     "source": [
      "<h3>2.3 Framework for analysis</h3>"
     ]
    },
    {
     "cell_type": "markdown",
     "metadata": {},
     "source": [
      "<p>Before undertaking the analysis in detail, I want to outline some of the broader trends of the data-set. The motivation for doing this is to highlight that although there is no repetition of melodic phrases, there are are strongly pronounced characteristics to be found in this data, which is also widely seen both in jazz theory and jazz music. In particular, there are three key trends of note. They are: </p>\n",
      "<br>\n",
      "<ol><p>(i) the harmonic progressions that underpin the 10 solos in the data-set (and jazz standards more generally) are full of idiomatic chord progressions that are in practice modular and interchangeable;</p></ol><br>\n",
      "\n",
      "<ol><p>(ii) the individual chords that form the harmonic progressions of the 10 solos (and that are used in standards more generally) can be characterised as having strong voice leading relationships to one another;</p></ol><br> \n",
      "\n",
      "<ol><p>(iii) When the notes in the 10 solos are not moving in stepwise fashion they will most often be moving in arpeggio patterns based on harmony built in thirds.</p></ol>\n",
      "\n",
      "\n",
      "<h4>2.3.1 Modular and interchangeable harmonic progressions</h4>\n",
      "\n",
      "<p>The improvised solos in the data-set have been taken from songs that are all quite similar and these similarites can be found in jazz standards more generally. This can be seen both in the overall form of the songs, and the ubiquitous use of certain sequences chords, or harmonic progressions.</p>\n",
      "\n",
      "<p>The form of a jazz standards is typically made up of two to three distinct sections, where each of these sections may repeat with a small amount of variation. Though the length of each section may vary, most often the number of measures will be some multiple of four (for example a 12 or 16 bar section). A typical example of this can be seen in Duke Ellington's <u>Sophisticated Lady</u>. The first section, A, consists of 8 bars. This is immedietely repeated with a slightly different ending that leads into a B section. Following the B section, that 8 bars, the A section is played again, for 8 bars and the songs can be regarded as having an 'A-A-B-A' form. Jazz musicians will typically play the melody of the song during the first time through the form, and then play improvised across the on the form before returning to the song's melody. </p>\n",
      "\n",
      "<p>Both in this data set, and more widely in jazz standards, similiar harmonic progressions are common. As an example, consider what would be commonly called a 'two-five-one' progression, often denoted II-V-I. In a major key, this is a harmonic progression that starts with a II minor chord, and is then followed by a V dominant chord, and finishing with a I major chord (for example, Dm7 - G7 - CM7 in C Major).  Although this dissertation examines only ten songs and their respective solos, every jazz standard in Keith Jarrett's recorded output with his jazz trio (as well as the vast majority of jazz standards more generally) contains II-V-I progressions in both minor and major keys.</p>\n",
      "\n",
      "<p>There are many other harmonic progressions that are extrememly common in jazz standards. Consider those in Figure 2.x and 2.x.\n",
      "\n"
     ]
    },
    {
     "cell_type": "code",
     "collapsed": false,
     "input": [
      "print tab_fig.get_next_fig(2)"
     ],
     "language": "python",
     "metadata": {},
     "outputs": [
      {
       "output_type": "stream",
       "stream": "stdout",
       "text": [
        "Figure 2.4\n"
       ]
      }
     ],
     "prompt_number": 26
    },
    {
     "cell_type": "markdown",
     "metadata": {},
     "source": [
      "<p>|&nbsp;D minor7 &nbsp;  G dominant7|&nbsp;C Major7 &nbsp;&nbsp;   |&nbsp; G minor7&nbsp; C dominant7|&nbsp;F Major7&nbsp;&nbsp;&nbsp;&nbsp;|</p>"
     ]
    },
    {
     "cell_type": "code",
     "collapsed": false,
     "input": [
      "print tab_fig.get_next_fig(2)"
     ],
     "language": "python",
     "metadata": {},
     "outputs": [
      {
       "output_type": "stream",
       "stream": "stdout",
       "text": [
        "Figure 2.5\n"
       ]
      }
     ],
     "prompt_number": 27
    },
    {
     "cell_type": "markdown",
     "metadata": {},
     "source": [
      "<p>|&nbsp;D minor7 &nbsp;  G dominant7|&nbsp;C Major7 &nbsp;&nbsp;   |&nbsp; B minor7b5&nbsp; E dominant7|&nbsp;A minor7&nbsp;&nbsp;&nbsp;&nbsp;|</p>"
     ]
    },
    {
     "cell_type": "markdown",
     "metadata": {},
     "source": [
      "<p>Figure 2.x is a very common harmonic pogression used in jazz standards to modulate into the subdominant (in this example modulating from C major to F major). Figure 2.x is also very common, as a means of modulating to the relative minor (in this example modulating from C major to A minor). Note that in both cases, the harmonic progression is made by joining a II-V-I progressions in different keys.</p>\n",
      "\n",
      "<p>There is an expectation working jazz musicians will be able to play thousands of songs in any key in which they happen to be called. One of the reasons this is feasible is due to the modularity of harmonic progressions. Jazz standards can be seen as an amalgamation of generic chord sequences that musicians can put together in modular ways.</p>\n",
      "\n",
      "<p>There are many other idiomatic harmonic progressions that can be seen in jazz standards. Consider the opening chords of <u>My Funny Valentine</u>, <u>In A Sentimental Mood</u>, <u>Body and Soul</u> or <u>What Are You Doing The Rest of Your Life</u>. All of these chord progressions are identical and the opening chords of these particular jazz standards can be seen in Figure 2.x (here in the key of Eb minor)</p> \n"
     ]
    },
    {
     "cell_type": "code",
     "collapsed": false,
     "input": [
      "print tab_fig.get_next_fig(2)"
     ],
     "language": "python",
     "metadata": {},
     "outputs": [
      {
       "output_type": "stream",
       "stream": "stdout",
       "text": [
        "Figure 2.6\n"
       ]
      }
     ],
     "prompt_number": 28
    },
    {
     "cell_type": "markdown",
     "metadata": {},
     "source": [
      "<p>|&nbsp;E minor &nbsp;  E minorMajor7|&nbsp;E minor7 &nbsp;&nbsp;   |&nbsp; E minor6&nbsp;|</p>"
     ]
    },
    {
     "cell_type": "markdown",
     "metadata": {},
     "source": [
      "<p>In some cases, harmonic progression like those above can be interchanged with one another. Consider the progressions seem below in Figure 2.x, heard as the opening chords on a 2009 version of <u>What Are You Doing The Rest Of You Life</u>, recorded by David Newton and Heather Cairncross. This progression is used in place of the chords in Figure 2.x above, and is itself very common in jazz, heard in the opening bars of <u>It Never Entered My Mind</u> and <u>In The Wee Small Hours Of The Morning</u>."
     ]
    },
    {
     "cell_type": "code",
     "collapsed": false,
     "input": [
      "print tab_fig.get_next_fig(2)"
     ],
     "language": "python",
     "metadata": {},
     "outputs": [
      {
       "output_type": "stream",
       "stream": "stdout",
       "text": [
        "Figure 2.7\n"
       ]
      }
     ],
     "prompt_number": 29
    },
    {
     "cell_type": "markdown",
     "metadata": {},
     "source": [
      "<p>|&nbsp;E minor &nbsp;  C/E |&nbsp;E minor6 &nbsp;&nbsp;   |&nbsp; C/E&nbsp;|</p>"
     ]
    },
    {
     "cell_type": "markdown",
     "metadata": {},
     "source": [
      "<p>The choice of how and when to interchange harmonic progressions with is very much a determination made in real time by improvising musicians. When playing in a group, often the choice of harmonic progression will be influenced by what the others in the ensemble are doing. The progressions in Figure 2.x, 2.x and 2.x show three different ways through the opening four bars of a a twelve bar blues (here in the key of C), and they are all accepted as being appropriate. Improvising musicians will often change their choice of notes in real time when other musicians are playing these alternate harmonic progressions. </p>  "
     ]
    },
    {
     "cell_type": "code",
     "collapsed": false,
     "input": [
      "print tab_fig.get_next_fig(2)"
     ],
     "language": "python",
     "metadata": {},
     "outputs": [
      {
       "output_type": "stream",
       "stream": "stdout",
       "text": [
        "Figure 2.8\n"
       ]
      }
     ],
     "prompt_number": 30
    },
    {
     "cell_type": "markdown",
     "metadata": {},
     "source": [
      "<p>|&nbsp;C dominant7 &nbsp; |&nbsp;F dominant7 &nbsp;&nbsp;   |&nbsp;C dominant 7&nbsp;| G minor 7 C dominant 7|</p>"
     ]
    },
    {
     "cell_type": "code",
     "collapsed": false,
     "input": [
      "print tab_fig.get_next_fig(2)"
     ],
     "language": "python",
     "metadata": {},
     "outputs": [
      {
       "output_type": "stream",
       "stream": "stdout",
       "text": [
        "Figure 2.9\n"
       ]
      }
     ],
     "prompt_number": 31
    },
    {
     "cell_type": "markdown",
     "metadata": {},
     "source": [
      "<p>|&nbsp;C dominant7 &nbsp; |&nbsp;F dominant7 &nbsp;&nbsp;   |&nbsp;C dominant 7&nbsp;| C# minor 7 F# dominant 7|</p>"
     ]
    },
    {
     "cell_type": "code",
     "collapsed": false,
     "input": [
      "print tab_fig.get_next_fig(2)"
     ],
     "language": "python",
     "metadata": {},
     "outputs": [
      {
       "output_type": "stream",
       "stream": "stdout",
       "text": [
        "Figure 2.10\n"
       ]
      }
     ],
     "prompt_number": 32
    },
    {
     "cell_type": "markdown",
     "metadata": {},
     "source": [
      "<p>|&nbsp;C dominant7 &nbsp; |&nbsp;B minor7b5&nbsp;&nbsp;E Dominant 7   |&nbsp;A minor 7&nbsp;&nbsp;Ab minor7&nbsp;| G minor 7 F# dominant 7|</p>"
     ]
    },
    {
     "cell_type": "markdown",
     "metadata": {},
     "source": [
      "<p>The use of alternate harmonic progressions is not limited to choices musicians make in harmony, but also in melody. Consider the example below taken from Keith Jarrett's solo on <u>Groovin' High</u>. Here the underlying chord is an A minor. However, the melodic phrase outlines the harmonic progression seen in 2.x</p>"
     ]
    },
    {
     "cell_type": "code",
     "collapsed": false,
     "input": [
      "print tab_fig.get_next_fig(2)"
     ],
     "language": "python",
     "metadata": {},
     "outputs": [
      {
       "output_type": "stream",
       "stream": "stdout",
       "text": [
        "Figure 2.11\n"
       ]
      }
     ],
     "prompt_number": 33
    },
    {
     "cell_type": "code",
     "collapsed": false,
     "input": [
      "select = mu_groovin.parts[1].measures(69,70)\n",
      "select.show()"
     ],
     "language": "python",
     "metadata": {},
     "outputs": [
      {
       "metadata": {},
       "output_type": "pyout",
       "png": "[encoded data removed]",
       "prompt_number": 34,
       "text": [
        "<music21.ipython21.objects.IPythonPNGObject at 0x1256ab510>"
       ]
      }
     ],
     "prompt_number": 34
    },
    {
     "cell_type": "markdown",
     "metadata": {},
     "source": [
      "<h4>2.3.2 The importance of voice-leading</h4>\n",
      "\n",
      "<p>The chords that comprise the harmonic progressions typical of jazz standards have particular relationships to eachother, tyically the movement in semitones. In Figure 2.x, a II-V-I harmonic progression in C Major, the third and the seventh in D minor moves</p>"
     ]
    },
    {
     "cell_type": "code",
     "collapsed": false,
     "input": [
      "print tab_fig.get_next_fig(2)"
     ],
     "language": "python",
     "metadata": {},
     "outputs": [
      {
       "output_type": "stream",
       "stream": "stdout",
       "text": [
        "Figure 2.12\n"
       ]
      }
     ],
     "prompt_number": 35
    },
    {
     "cell_type": "code",
     "collapsed": false,
     "input": [
      "select = e.measures(1,2)\n",
      "select.show()"
     ],
     "language": "python",
     "metadata": {},
     "outputs": [
      {
       "metadata": {},
       "output_type": "pyout",
       "png": "[encoded data removed]",
       "prompt_number": 36,
       "text": [
        "<music21.ipython21.objects.IPythonPNGObject at 0x10b47fcd0>"
       ]
      }
     ],
     "prompt_number": 36
    },
    {
     "cell_type": "markdown",
     "metadata": {},
     "source": [
      "<p><i>MARK! bit below is still being reworked - I am trying to get across that this data set exhibits alot of the stuff we would expect to see in standard musicology, just gotta word it better </i>The above figure, shows a G7 dominant chord, where B4 and F5 resolve respectively to C5 and E5 via contrary motion. This extremely common chord progressions pinpoints an exact location between the G7 and Cmaj7 in terms of where they begin and end. The tritone of B and F, a very dissonant sound, resolves to the consonant C and E. Concepts such as disonance and consonance to subject in music, but there is a cultural assumption that this chord progression makes sense: notes belonging to the G dominant seventh chord function as leading tones which resolve to the notes in the C major seventh chord, moving a semitone. Many traditional music texts[1] talk about this inner voice leading in terms of the 'law of the shortest way' (Schoenberg), and there is a cultural assumption that movent of notes in these progressions moves the listener from experiencing a tension to a resolution. </p>\n",
      "\n",
      "<p>Many of the chord progressions that appear both in the data set and more widely in jazz have these properties, of movement of inner voices in semitones, to more from one chord to another, to exploit to heighten the experience of tension and resolution. Examples of typical jazz progessions and their voice leading properties can be seen in Figures 2.x (typically used opening chords to Summertime), 2.x (bars 3 and 4 of to <u>Sophisticated Lady</u>) and 2.x(bars 5 and 6 of <u>Nature Boy</u>)</p>"
     ]
    },
    {
     "cell_type": "code",
     "collapsed": false,
     "input": [
      "print tab_fig.get_next_fig(2)"
     ],
     "language": "python",
     "metadata": {},
     "outputs": [
      {
       "output_type": "stream",
       "stream": "stdout",
       "text": [
        "Figure 2.13\n"
       ]
      }
     ],
     "prompt_number": 37
    },
    {
     "cell_type": "code",
     "collapsed": false,
     "input": [
      "select = e.measures(34,36)\n",
      "select.show()"
     ],
     "language": "python",
     "metadata": {},
     "outputs": [
      {
       "metadata": {},
       "output_type": "pyout",
       "png": "[encoded data removed]",
       "prompt_number": 38,
       "text": [
        "<music21.ipython21.objects.IPythonPNGObject at 0x10df46b50>"
       ]
      }
     ],
     "prompt_number": 38
    },
    {
     "cell_type": "code",
     "collapsed": false,
     "input": [
      "print tab_fig.get_next_fig(2)"
     ],
     "language": "python",
     "metadata": {},
     "outputs": [
      {
       "output_type": "stream",
       "stream": "stdout",
       "text": [
        "Figure 2.14\n"
       ]
      }
     ],
     "prompt_number": 39
    },
    {
     "cell_type": "code",
     "collapsed": false,
     "input": [
      "select = e.measures(37,39)\n",
      "select.show()"
     ],
     "language": "python",
     "metadata": {},
     "outputs": [
      {
       "metadata": {},
       "output_type": "pyout",
       "png": "[encoded data removed]",
       "prompt_number": 40,
       "text": [
        "<music21.ipython21.objects.IPythonPNGObject at 0x1254b07d0>"
       ]
      }
     ],
     "prompt_number": 40
    },
    {
     "cell_type": "code",
     "collapsed": false,
     "input": [
      "print tab_fig.get_next_fig(2)"
     ],
     "language": "python",
     "metadata": {},
     "outputs": [
      {
       "output_type": "stream",
       "stream": "stdout",
       "text": [
        "Figure 2.15\n"
       ]
      }
     ],
     "prompt_number": 41
    },
    {
     "cell_type": "code",
     "collapsed": false,
     "input": [
      "select = e.measures(40,42)\n",
      "select.show()"
     ],
     "language": "python",
     "metadata": {},
     "outputs": [
      {
       "metadata": {},
       "output_type": "pyout",
       "png": "[encoded data removed]",
       "prompt_number": 42,
       "text": [
        "<music21.ipython21.objects.IPythonPNGObject at 0x1256ab310>"
       ]
      }
     ],
     "prompt_number": 42
    },
    {
     "cell_type": "markdown",
     "metadata": {},
     "source": [
      "<p>The purpose of including this in the analytical framework is to anchor note choice directly in the voice-leading of the harmony. Just over 56% of the notes chosen for this analysis are successed and preceeded by notes a tone or less away in distance. But its important not to indicate that Jarrett is drawing from the notes of some kind of scale. It can be shows that he plays all notes of the octave regardless of the underlying chord. Instead, much of the decision to play a certain note can be shown to be derived from the voice-leading properties between chord in the lead sheet, or from the chords sequencies that Jarrett is super-imposing onto the lead-sheet.</p>\n",
      "\n",
      "<p>Viewing melodic construction as being dependent on voice-leading properties of harmony also infers that there is no concept of chromatic passing tone. Each note in the improvisations that inform this data set, imply some kind of harmony and often indicate rapid changes between chords.</p>"
     ]
    },
    {
     "cell_type": "markdown",
     "metadata": {},
     "source": [
      "<h4>2.3.3 Step-wise motion verses arpeggios built in thirds</h4>\n",
      "\n",
      "<p>Voice-leading is a powerful with which to discuss how notes of the solo can function as leading tones to imply rapid changes in harmonic material. The other sie of this is those note passages which are based arpeggio patterns. Rather than acting as voice-leading to link chords, these notes outline chords and provide a way to not rapidly can be seen as way to elongate the sound of a particular chord. It is this interplay between notes functionin as leading tones, or in arpeggiated patterns that provides so much variety to solos under investigation.</p>\n",
      "\n",
      "<p>This, again is not something that is limited to Jarrett. Figures 2.x, Figure 2.x, Figure 2.x and Figure 2.x present very different ways of using arpeggiated patterns.\n",
      "</p>"
     ]
    },
    {
     "cell_type": "code",
     "collapsed": false,
     "input": [
      "print tab_fig.get_next_fig(2)"
     ],
     "language": "python",
     "metadata": {},
     "outputs": [
      {
       "output_type": "stream",
       "stream": "stdout",
       "text": [
        "Figure 2.16\n"
       ]
      }
     ],
     "prompt_number": 43
    },
    {
     "cell_type": "code",
     "collapsed": false,
     "input": [
      "select = e.measures(43,44)\n",
      "select.show()"
     ],
     "language": "python",
     "metadata": {},
     "outputs": [
      {
       "metadata": {},
       "output_type": "pyout",
       "png": "[encoded data removed]",
       "prompt_number": 44,
       "text": [
        "<music21.ipython21.objects.IPythonPNGObject at 0x1149c45d0>"
       ]
      }
     ],
     "prompt_number": 44
    },
    {
     "cell_type": "code",
     "collapsed": false,
     "input": [
      "print tab_fig.get_next_fig(2)"
     ],
     "language": "python",
     "metadata": {},
     "outputs": [
      {
       "output_type": "stream",
       "stream": "stdout",
       "text": [
        "Figure 2.17\n"
       ]
      }
     ],
     "prompt_number": 45
    },
    {
     "cell_type": "code",
     "collapsed": false,
     "input": [
      "select = e.measures(45,46)\n",
      "select.show()"
     ],
     "language": "python",
     "metadata": {},
     "outputs": [
      {
       "metadata": {},
       "output_type": "pyout",
       "png": "[encoded data removed]",
       "prompt_number": 46,
       "text": [
        "<music21.ipython21.objects.IPythonPNGObject at 0x10db8bad0>"
       ]
      }
     ],
     "prompt_number": 46
    },
    {
     "cell_type": "code",
     "collapsed": false,
     "input": [
      "print tab_fig.get_next_fig(2)"
     ],
     "language": "python",
     "metadata": {},
     "outputs": [
      {
       "output_type": "stream",
       "stream": "stdout",
       "text": [
        "Figure 2.18\n"
       ]
      }
     ],
     "prompt_number": 47
    },
    {
     "cell_type": "code",
     "collapsed": false,
     "input": [
      "select = e.measures(47,49)\n",
      "select.show()"
     ],
     "language": "python",
     "metadata": {},
     "outputs": [
      {
       "metadata": {},
       "output_type": "pyout",
       "png": "[encoded data removed]",
       "prompt_number": 48,
       "text": [
        "<music21.ipython21.objects.IPythonPNGObject at 0x10f8f3510>"
       ]
      }
     ],
     "prompt_number": 48
    },
    {
     "cell_type": "code",
     "collapsed": false,
     "input": [
      "print tab_fig.get_next_fig(2)"
     ],
     "language": "python",
     "metadata": {},
     "outputs": [
      {
       "output_type": "stream",
       "stream": "stdout",
       "text": [
        "Figure 2.19\n"
       ]
      }
     ],
     "prompt_number": 49
    },
    {
     "cell_type": "code",
     "collapsed": false,
     "input": [
      "select = e.measures(50,52)\n",
      "select.show()"
     ],
     "language": "python",
     "metadata": {},
     "outputs": [
      {
       "metadata": {},
       "output_type": "pyout",
       "png": "[encoded data removed]",
       "prompt_number": 50,
       "text": [
        "<music21.ipython21.objects.IPythonPNGObject at 0x115e31dd0>"
       ]
      }
     ],
     "prompt_number": 50
    },
    {
     "cell_type": "markdown",
     "metadata": {},
     "source": [
      "<p>These are very different approaches but all utilise arpeggios based on chords built in thirds. Charlie Parker, one of the pioneers of creating arpeggio patterns that utilised upper chord extensions (such as flat-ninth and flat-thirteenth and sharp-eleventh) which allows the sound of the chord to be elongated but also introduce other tensions. The Benny Goodman example, outlines a dominant chord in straightforward way. The third example is from Keith Jarrett, who substitutes chords on top of the chart chords and this technique will be explored further in Chapter 4. The final example is taken from Bach's <u>Well Tempered Clavier</u></p>\n",
      "<p>The interplay between using notes that infer voice leading and using notes that are part of arpeggio based patterns is the driving force behind all of Jarrett's solos and will be explored in detail across the next chapters</p>"
     ]
    },
    {
     "cell_type": "markdown",
     "metadata": {},
     "source": [
      "<h4>2.3.2 Finding a model to explain the data-set</h4>\n",
      "<p>\n",
      "<p>There is sometimes a sense in jazz that anything goes with regard to notes being chosen, but this is not the whole story. In fact this is not the case at all. Miles Davis claimed \u2018Its not the note you play that\u2019s the wrong note - it the note that you play afterwards that makes it right or wrong. Bill Evans claimed, \u2018There are no wrong notes, only wrong resolutions\u2019. One of the motivations for the following analysis is to show that these types statements are talk to an artform that extremely context driven. The choice of which note to play next (and this not to imply that it is in someway a conscious choice) is dependent on a range of factors at a given time. The analysis in the following chapters is aimed not to find a secret formula to play jazz, and simply learning the solos, but an extremely granular look of what is happening, to find a way to take very close views of what is going at different times and coompare these findings across the entire corpus. </p>"
     ]
    },
    {
     "cell_type": "code",
     "collapsed": false,
     "input": [
      "#save dataset to file for next section\n",
      "data_set.to_pickle('data_set_as_pk.pkl')"
     ],
     "language": "python",
     "metadata": {},
     "outputs": [],
     "prompt_number": 51
    }
   ],
   "metadata": {}
  }
 ]
}