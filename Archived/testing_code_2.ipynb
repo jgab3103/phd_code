{
 "metadata": {
  "name": "Phd Code V2"
 },
 "nbformat": 3,
 "nbformat_minor": 0,
 "worksheets": [
  {
   "cells": [
    {
     "cell_type": "markdown",
     "metadata": {},
     "source": [
      "<h2>Music analysis and search engine</h2>"
     ]
    },
    {
     "cell_type": "code",
     "collapsed": false,
     "input": [
      "import music21 as mu\n",
      "import numpy as np\n",
      "import pandas as pd\n",
      "%pylab inline\n",
      "from IPython.core.display import HTML"
     ],
     "language": "python",
     "metadata": {},
     "outputs": [
      {
       "output_type": "stream",
       "stream": "stdout",
       "text": [
        "\n",
        "Welcome to pylab, a matplotlib-based Python environment [backend: module://IPython.zmq.pylab.backend_inline].\n",
        "For more information, type 'help(pylab)'.\n"
       ]
      }
     ],
     "prompt_number": 3
    },
    {
     "cell_type": "markdown",
     "metadata": {},
     "source": [
      "<h2>1: Data Prep</h2"
     ]
    },
    {
     "cell_type": "code",
     "collapsed": false,
     "input": [
      "def prep_data_from_xml(xml_file=''):\n",
      "    notes = mu.converter.parse(xml_file)\n",
      "    i = 0\n",
      "    parts_list = []\n",
      "    while i < len(notes.parts):\n",
      "        parts_list.append(notes.parts[i])\n",
      "        i = i + 1\n",
      "\n",
      "\n",
      "    notes_list = []\n",
      "    part_name_list = []\n",
      "    for part in parts_list:\n",
      "        a = part.flat.getElementsByClass(mu.note.Note)\n",
      "        b = part.id\n",
      "        notes_list.append(a)\n",
      "        part_name_list.append(b)\n",
      "\n",
      "\n",
      "\n",
      "#create lists\n",
      "    mel_notes = []\n",
      "    mel_pos = []\n",
      "\n",
      "    solo_notes = []\n",
      "    solo_pos = []\n",
      "\n",
      "    root_notes = []\n",
      "    root_pos = []\n",
      "\n",
      "\n",
      "    third_pos = []\n",
      "    third_notes = []\n",
      "\n",
      "    fifth_notes = []\n",
      "    fifth_pos = []\n",
      "\n",
      "    seventh_notes = []\n",
      "    seventh_pos = []\n",
      "\n",
      "#add notes from parts into lists\n",
      "    for note in notes_list[0]:\n",
      "        mel_pos.append(note.offset)\n",
      "        mel_notes.append(note.midi)\n",
      "    \n",
      "    for note in notes_list[1]:\n",
      "        solo_pos.append(note.offset)\n",
      "        solo_notes.append(note.midi)\n",
      "\n",
      "    for note in notes_list[5]:\n",
      "        root_pos.append(note.offset)\n",
      "        root_notes.append(note.midi)\n",
      "    \n",
      "    for note in notes_list[4]:\n",
      "        third_pos.append(note.offset)\n",
      "        third_notes.append(note.midi)\n",
      "    \n",
      "    for note in notes_list[3]:\n",
      "        fifth_pos.append(note.offset)\n",
      "        fifth_notes.append(note.midi)\n",
      "    \n",
      "    for note in notes_list[2]:\n",
      "        seventh_pos.append(note.offset)\n",
      "        seventh_notes.append(note.midi)\n",
      "\n",
      "\n",
      "\n",
      "# <p>Create Data Frames for each part showing location and frequency</p>\n",
      "\n",
      "\n",
      "\n",
      "    solo_df = pd.DataFrame({'part':0,\n",
      "                   'location': solo_pos,\n",
      "                   'note': solo_notes,\n",
      "                   })\n",
      "\n",
      "    root_df = pd.DataFrame({'part':1,\n",
      "                  'location':root_pos,\n",
      "                  'note': root_notes,\n",
      "                  })\n",
      "    third_df = pd.DataFrame({'part':2,\n",
      "                  'location':third_pos,\n",
      "                  'note': third_notes,\n",
      "                  })\n",
      "\n",
      "    fifth_df = pd.DataFrame({'part': 3,\n",
      "                         'location':fifth_pos,\n",
      "                         'note':fifth_notes,\n",
      "                         })\n",
      "    seventh_df = pd.DataFrame({'part': 4,\n",
      "                           'location':seventh_pos,\n",
      "                           'note':seventh_notes,\n",
      "                           })\n",
      "\n",
      "\n",
      "\n",
      "    solo_root_df = solo_df.append(root_df)\n",
      "    solo_root_third_df = solo_root_df.append(third_df)\n",
      "    solo_root_third_fifth_df = solo_root_third_df.append(fifth_df)\n",
      "    solo_root_third_fifth_seventh_df = solo_root_third_fifth_df.append(seventh_df)\n",
      "    all_note_events = solo_root_third_fifth_seventh_df\n",
      "    all_note_events = all_note_events.sort('location')\n",
      "\n",
      "\n",
      "    def create_root_col(note_event):\n",
      "        if note_event['part'] == 1:\n",
      "            return note_event['note']\n",
      "        else:\n",
      "            return None\n",
      "\n",
      "    def create_third_col(note_event):\n",
      "        if note_event['part'] == 2:\n",
      "            return note_event['note']\n",
      "        else:\n",
      "            return None\n",
      "    \n",
      "    def create_fifth_col(note_event):\n",
      "        if note_event['part'] == 3:\n",
      "            return note_event['note']\n",
      "        else:\n",
      "            return None\n",
      "    \n",
      "    def create_seventh_col(note_event):\n",
      "        if note_event['part'] == 4:\n",
      "            return note_event['note']\n",
      "        else:\n",
      "            return None\n",
      "    \n",
      "    \n",
      "\n",
      "    all_note_events['root'] = all_note_events.apply(create_root_col, axis=1)\n",
      "    all_note_events['third'] = all_note_events.apply(create_third_col, axis=1)\n",
      "    all_note_events['fifth'] = all_note_events.apply(create_fifth_col, axis=1)\n",
      "    all_note_events['seventh'] = all_note_events.apply(create_seventh_col, axis=1)\n",
      "\n",
      "\n",
      "    all_note_events = all_note_events.sort(['location', 'root'], ascending=[True, False])\n",
      "    all_note_events['root'] = all_note_events['root'].fillna(method=\"pad\")\n",
      "    \n",
      "    all_note_events = all_note_events.sort(['location', 'third'], ascending=[True, False])\n",
      "    all_note_events['third'] = all_note_events['third'].fillna(method='pad')\n",
      "    \n",
      "    all_note_events = all_note_events.sort(['location', 'fifth'], ascending=[True, False])\n",
      "    all_note_events['fifth'] = all_note_events['fifth'].fillna(method='pad')\n",
      "\n",
      "    all_note_events = all_note_events.sort(['location', 'seventh'], ascending=[True, False])\n",
      "    all_note_events['seventh'] = all_note_events['seventh'].fillna(method='pad')\n",
      "    all_note_events['measure'] = (all_note_events['location'] + 4) / 4\n",
      "    \n",
      "    solo_note_events = all_note_events[all_note_events.part == 0]\n",
      "    solo_note_events['solo_in_data_set'] = 0\n",
      "    \n",
      "    solo_note_events['prep'] = solo_note_events['note'].shift(1)\n",
      "    solo_note_events['prep'] = solo_note_events['prep'] - solo_note_events['note']\n",
      "    solo_note_events['res'] = solo_note_events['note'].shift(-1)\n",
      "    solo_note_events['res'] = solo_note_events['res'] - solo_note_events['note']\n",
      "    solo_note_events['p_offset'] = solo_note_events['location'].shift(1)\n",
      "    solo_note_events['p_offset'] = abs(solo_note_events['p_offset'] - solo_note_events['location'])\n",
      "    solo_note_events['r_offset'] = solo_note_events['location'].shift(-1)\n",
      "    solo_note_events['r_offset'] = abs(solo_note_events['r_offset'] - solo_note_events['location'])\n",
      "    \n",
      "    def find_chord_type(row):\n",
      "        if row['third'] - row['root'] == 4 and row['fifth'] - row['third'] == 3 and row['seventh'] - row['fifth'] == 3:\n",
      "            return 'dominant_seventh'\n",
      "        elif row['third'] - row['root'] == 4 and row['fifth'] - row['third'] == 3 and row['seventh'] - row['fifth'] == 4:\n",
      "            return 'major_seventh'\n",
      "        elif row['third'] - row['root'] == 3 and row['fifth'] - row['third'] == 4 and row['seventh'] - row['fifth'] == 3:\n",
      "            return 'minor_seventh'\n",
      "        elif row['third'] - row['root'] == 3 and row['fifth'] - row['third'] == 3 and row['seventh'] - row['fifth'] == 4:\n",
      "            return 'minor_seventh_flat_five'\n",
      "        else:\n",
      "            return 'not_determined'\n",
      "\n",
      "    solo_note_events['chord_type'] = solo_note_events.apply(find_chord_type, axis=1)\n",
      "\n",
      "    def calc_dist_note_root(data_row):\n",
      "        x = (data_row['note'] - data_row['root']) % 12\n",
      "        return x\n",
      "    \n",
      "    \n",
      "    solo_note_events['dist_note_to_root'] = solo_note_events.apply(calc_dist_note_root, axis=1)\n",
      "\n",
      "    \n",
      "    \n",
      "    ####\n",
      "    \n",
      "    return solo_note_events"
     ],
     "language": "python",
     "metadata": {},
     "outputs": [],
     "prompt_number": 8
    },
    {
     "cell_type": "code",
     "collapsed": false,
     "input": [
      "test = prep_data_from_xml('xml_files/stella_by_starlight.xml')"
     ],
     "language": "python",
     "metadata": {},
     "outputs": [],
     "prompt_number": 10
    },
    {
     "cell_type": "code",
     "collapsed": false,
     "input": [
      "display(HTML(test[33:43].to_html()))"
     ],
     "language": "python",
     "metadata": {},
     "outputs": [
      {
       "html": [
        "<table border=\"1\" class=\"dataframe\">\n",
        "  <thead>\n",
        "    <tr style=\"text-align: right;\">\n",
        "      <th></th>\n",
        "      <th>location</th>\n",
        "      <th>note</th>\n",
        "      <th>part</th>\n",
        "      <th>root</th>\n",
        "      <th>third</th>\n",
        "      <th>fifth</th>\n",
        "      <th>seventh</th>\n",
        "      <th>measure</th>\n",
        "      <th>solo_in_data_set</th>\n",
        "      <th>prep</th>\n",
        "      <th>res</th>\n",
        "      <th>p_offset</th>\n",
        "      <th>r_offset</th>\n",
        "      <th>chord_type</th>\n",
        "      <th>dist_note_to_root</th>\n",
        "    </tr>\n",
        "  </thead>\n",
        "  <tbody>\n",
        "    <tr>\n",
        "      <th>33</th>\n",
        "      <td> 26.000000</td>\n",
        "      <td> 63</td>\n",
        "      <td> 0</td>\n",
        "      <td> 63</td>\n",
        "      <td> 67</td>\n",
        "      <td> 70</td>\n",
        "      <td> 74</td>\n",
        "      <td> 7.500000</td>\n",
        "      <td> 0</td>\n",
        "      <td> 2</td>\n",
        "      <td> 4</td>\n",
        "      <td> 0.333333</td>\n",
        "      <td> 0.333333</td>\n",
        "      <td>    major_seventh</td>\n",
        "      <td>  0</td>\n",
        "    </tr>\n",
        "    <tr>\n",
        "      <th>34</th>\n",
        "      <td> 26.333333</td>\n",
        "      <td> 67</td>\n",
        "      <td> 0</td>\n",
        "      <td> 63</td>\n",
        "      <td> 67</td>\n",
        "      <td> 70</td>\n",
        "      <td> 74</td>\n",
        "      <td> 7.583333</td>\n",
        "      <td> 0</td>\n",
        "      <td>-4</td>\n",
        "      <td> 3</td>\n",
        "      <td> 0.333333</td>\n",
        "      <td> 0.333333</td>\n",
        "      <td>    major_seventh</td>\n",
        "      <td>  4</td>\n",
        "    </tr>\n",
        "    <tr>\n",
        "      <th>35</th>\n",
        "      <td> 26.666667</td>\n",
        "      <td> 70</td>\n",
        "      <td> 0</td>\n",
        "      <td> 63</td>\n",
        "      <td> 67</td>\n",
        "      <td> 70</td>\n",
        "      <td> 74</td>\n",
        "      <td> 7.666667</td>\n",
        "      <td> 0</td>\n",
        "      <td>-3</td>\n",
        "      <td> 4</td>\n",
        "      <td> 0.333333</td>\n",
        "      <td> 0.333333</td>\n",
        "      <td>    major_seventh</td>\n",
        "      <td>  7</td>\n",
        "    </tr>\n",
        "    <tr>\n",
        "      <th>36</th>\n",
        "      <td> 27.000000</td>\n",
        "      <td> 74</td>\n",
        "      <td> 0</td>\n",
        "      <td> 63</td>\n",
        "      <td> 67</td>\n",
        "      <td> 70</td>\n",
        "      <td> 74</td>\n",
        "      <td> 7.750000</td>\n",
        "      <td> 0</td>\n",
        "      <td>-4</td>\n",
        "      <td> 3</td>\n",
        "      <td> 0.333333</td>\n",
        "      <td> 0.333333</td>\n",
        "      <td>    major_seventh</td>\n",
        "      <td> 11</td>\n",
        "    </tr>\n",
        "    <tr>\n",
        "      <th>37</th>\n",
        "      <td> 27.333333</td>\n",
        "      <td> 77</td>\n",
        "      <td> 0</td>\n",
        "      <td> 63</td>\n",
        "      <td> 67</td>\n",
        "      <td> 70</td>\n",
        "      <td> 74</td>\n",
        "      <td> 7.833333</td>\n",
        "      <td> 0</td>\n",
        "      <td>-3</td>\n",
        "      <td>-2</td>\n",
        "      <td> 0.333333</td>\n",
        "      <td> 0.333333</td>\n",
        "      <td>    major_seventh</td>\n",
        "      <td>  2</td>\n",
        "    </tr>\n",
        "    <tr>\n",
        "      <th>38</th>\n",
        "      <td> 27.666667</td>\n",
        "      <td> 75</td>\n",
        "      <td> 0</td>\n",
        "      <td> 63</td>\n",
        "      <td> 67</td>\n",
        "      <td> 70</td>\n",
        "      <td> 74</td>\n",
        "      <td> 7.916667</td>\n",
        "      <td> 0</td>\n",
        "      <td> 2</td>\n",
        "      <td>-5</td>\n",
        "      <td> 0.333333</td>\n",
        "      <td> 0.333333</td>\n",
        "      <td>    major_seventh</td>\n",
        "      <td>  0</td>\n",
        "    </tr>\n",
        "    <tr>\n",
        "      <th>39</th>\n",
        "      <td> 28.000000</td>\n",
        "      <td> 70</td>\n",
        "      <td> 0</td>\n",
        "      <td> 56</td>\n",
        "      <td> 60</td>\n",
        "      <td> 70</td>\n",
        "      <td> 66</td>\n",
        "      <td> 8.000000</td>\n",
        "      <td> 0</td>\n",
        "      <td> 5</td>\n",
        "      <td> 4</td>\n",
        "      <td> 0.333333</td>\n",
        "      <td> 0.333333</td>\n",
        "      <td>   not_determined</td>\n",
        "      <td>  2</td>\n",
        "    </tr>\n",
        "    <tr>\n",
        "      <th>40</th>\n",
        "      <td> 28.333333</td>\n",
        "      <td> 74</td>\n",
        "      <td> 0</td>\n",
        "      <td> 56</td>\n",
        "      <td> 60</td>\n",
        "      <td> 63</td>\n",
        "      <td> 66</td>\n",
        "      <td> 8.083333</td>\n",
        "      <td> 0</td>\n",
        "      <td>-4</td>\n",
        "      <td>-2</td>\n",
        "      <td> 0.333333</td>\n",
        "      <td> 0.333333</td>\n",
        "      <td> dominant_seventh</td>\n",
        "      <td>  6</td>\n",
        "    </tr>\n",
        "    <tr>\n",
        "      <th>41</th>\n",
        "      <td> 28.666667</td>\n",
        "      <td> 72</td>\n",
        "      <td> 0</td>\n",
        "      <td> 56</td>\n",
        "      <td> 60</td>\n",
        "      <td> 63</td>\n",
        "      <td> 66</td>\n",
        "      <td> 8.166667</td>\n",
        "      <td> 0</td>\n",
        "      <td> 2</td>\n",
        "      <td>-2</td>\n",
        "      <td> 0.333333</td>\n",
        "      <td> 0.333333</td>\n",
        "      <td> dominant_seventh</td>\n",
        "      <td>  4</td>\n",
        "    </tr>\n",
        "    <tr>\n",
        "      <th>42</th>\n",
        "      <td> 29.000000</td>\n",
        "      <td> 70</td>\n",
        "      <td> 0</td>\n",
        "      <td> 56</td>\n",
        "      <td> 60</td>\n",
        "      <td> 63</td>\n",
        "      <td> 66</td>\n",
        "      <td> 8.250000</td>\n",
        "      <td> 0</td>\n",
        "      <td> 2</td>\n",
        "      <td>-4</td>\n",
        "      <td> 0.333333</td>\n",
        "      <td> 0.333333</td>\n",
        "      <td> dominant_seventh</td>\n",
        "      <td>  2</td>\n",
        "    </tr>\n",
        "  </tbody>\n",
        "</table>"
       ],
       "output_type": "display_data",
       "text": [
        "<IPython.core.display.HTML at 0x10bf56d90>"
       ]
      }
     ],
     "prompt_number": 11
    },
    {
     "cell_type": "code",
     "collapsed": false,
     "input": [
      "notes = mu.converter.parse('xml_files/stella_by_starlight.xml')"
     ],
     "language": "python",
     "metadata": {},
     "outputs": [],
     "prompt_number": 3
    },
    {
     "cell_type": "code",
     "collapsed": false,
     "input": [
      "i = 0\n",
      "parts_list = []\n",
      "while i < len(notes.parts):\n",
      "    parts_list.append(notes.parts[i])\n",
      "    i = i + 1"
     ],
     "language": "python",
     "metadata": {},
     "outputs": [],
     "prompt_number": 4
    },
    {
     "cell_type": "code",
     "collapsed": false,
     "input": [
      "notes_list = []\n",
      "part_name_list = []\n",
      "for part in parts_list:\n",
      "    a = part.flat.getElementsByClass(mu.note.Note)\n",
      "    b = part.id\n",
      "    notes_list.append(a)\n",
      "    part_name_list.append(b)"
     ],
     "language": "python",
     "metadata": {},
     "outputs": [],
     "prompt_number": 5
    },
    {
     "cell_type": "markdown",
     "metadata": {},
     "source": [
      "<p>create lists to take all the note events for each part</p>"
     ]
    },
    {
     "cell_type": "code",
     "collapsed": false,
     "input": [
      "#create lists\n",
      "mel_notes = []\n",
      "mel_pos = []\n",
      "\n",
      "solo_notes = []\n",
      "solo_pos = []\n",
      "\n",
      "root_notes = []\n",
      "root_pos = []\n",
      "\n",
      "\n",
      "third_pos = []\n",
      "third_notes = []\n",
      "\n",
      "fifth_notes = []\n",
      "fifth_pos = []\n",
      "\n",
      "seventh_notes = []\n",
      "seventh_pos = []\n",
      "\n",
      "#add notes from parts into lists\n",
      "for note in notes_list[0]:\n",
      "    mel_pos.append(note.offset)\n",
      "    mel_notes.append(note.midi)\n",
      "    \n",
      "for note in notes_list[1]:\n",
      "    solo_pos.append(note.offset)\n",
      "    solo_notes.append(note.midi)\n",
      "\n",
      "for note in notes_list[5]:\n",
      "    root_pos.append(note.offset)\n",
      "    root_notes.append(note.midi)\n",
      "    \n",
      "for note in notes_list[4]:\n",
      "    third_pos.append(note.offset)\n",
      "    third_notes.append(note.midi)\n",
      "    \n",
      "for note in notes_list[3]:\n",
      "    fifth_pos.append(note.offset)\n",
      "    fifth_notes.append(note.midi)\n",
      "    \n",
      "for note in notes_list[2]:\n",
      "    seventh_pos.append(note.offset)\n",
      "    seventh_notes.append(note.midi)"
     ],
     "language": "python",
     "metadata": {},
     "outputs": [],
     "prompt_number": 6
    },
    {
     "cell_type": "markdown",
     "metadata": {},
     "source": [
      "<p>Create Data Frames for each part showing location and frequency</p>"
     ]
    },
    {
     "cell_type": "code",
     "collapsed": false,
     "input": [
      "solo_df = pd.DataFrame({'part':0,\n",
      "                   'location': solo_pos,\n",
      "                   'note': solo_notes,\n",
      "                   })\n",
      "\n",
      "root_df = pd.DataFrame({'part':1,\n",
      "                  'location':root_pos,\n",
      "                  'note': root_notes,\n",
      "                  })\n",
      "third_df = pd.DataFrame({'part':2,\n",
      "                  'location':third_pos,\n",
      "                  'note': third_notes,\n",
      "                  })\n",
      "\n",
      "fifth_df = pd.DataFrame({'part': 3,\n",
      "                         'location':fifth_pos,\n",
      "                         'note':fifth_notes,\n",
      "                         })\n",
      "seventh_df = pd.DataFrame({'part': 4,\n",
      "                           'location':seventh_pos,\n",
      "                           'note':seventh_notes,\n",
      "                           })\n"
     ],
     "language": "python",
     "metadata": {},
     "outputs": [],
     "prompt_number": 7
    },
    {
     "cell_type": "markdown",
     "metadata": {},
     "source": [
      "<p>Append all parts into one dataframe</p>"
     ]
    },
    {
     "cell_type": "code",
     "collapsed": false,
     "input": [
      "solo_root_df = solo_df.append(root_df)"
     ],
     "language": "python",
     "metadata": {},
     "outputs": [],
     "prompt_number": 8
    },
    {
     "cell_type": "code",
     "collapsed": false,
     "input": [
      "solo_root_third_df = solo_root_df.append(third_df)"
     ],
     "language": "python",
     "metadata": {},
     "outputs": [],
     "prompt_number": 9
    },
    {
     "cell_type": "code",
     "collapsed": false,
     "input": [
      "solo_root_third_fifth_df = solo_root_third_df.append(fifth_df)"
     ],
     "language": "python",
     "metadata": {},
     "outputs": [],
     "prompt_number": 10
    },
    {
     "cell_type": "code",
     "collapsed": false,
     "input": [
      "solo_root_third_fifth_seventh_df = solo_root_third_fifth_df.append(seventh_df)"
     ],
     "language": "python",
     "metadata": {},
     "outputs": [],
     "prompt_number": 11
    },
    {
     "cell_type": "code",
     "collapsed": false,
     "input": [
      "all_note_events = solo_root_third_fifth_seventh_df"
     ],
     "language": "python",
     "metadata": {},
     "outputs": [],
     "prompt_number": 12
    },
    {
     "cell_type": "code",
     "collapsed": false,
     "input": [
      "all_note_events = all_note_events.sort('location')"
     ],
     "language": "python",
     "metadata": {},
     "outputs": [],
     "prompt_number": 13
    },
    {
     "cell_type": "code",
     "collapsed": false,
     "input": [
      "def create_root_col(note_event):\n",
      "    if note_event['part'] == 1:\n",
      "        return note_event['note']\n",
      "    else:\n",
      "        return None\n",
      "\n",
      "def create_third_col(note_event):\n",
      "    if note_event['part'] == 2:\n",
      "        return note_event['note']\n",
      "    else:\n",
      "        return None\n",
      "    \n",
      "def create_fifth_col(note_event):\n",
      "    if note_event['part'] == 3:\n",
      "        return note_event['note']\n",
      "    else:\n",
      "        return None\n",
      "    \n",
      "def create_seventh_col(note_event):\n",
      "    if note_event['part'] == 4:\n",
      "        return note_event['note']\n",
      "    else:\n",
      "        return None\n",
      "    \n",
      "    \n",
      "\n",
      "all_note_events['root'] = all_note_events.apply(create_root_col, axis=1)\n",
      "all_note_events['third'] = all_note_events.apply(create_third_col, axis=1)\n",
      "all_note_events['fifth'] = all_note_events.apply(create_fifth_col, axis=1)\n",
      "all_note_events['seventh'] = all_note_events.apply(create_seventh_col, axis=1)"
     ],
     "language": "python",
     "metadata": {},
     "outputs": [],
     "prompt_number": 14
    },
    {
     "cell_type": "code",
     "collapsed": false,
     "input": [
      "#all_note_events = all_note_events.fillna(method='pad')\n",
      "#solo_note_events = all_note_events[all_note_events.part == 0]\n",
      "#all_note_events[0:50]"
     ],
     "language": "python",
     "metadata": {},
     "outputs": [],
     "prompt_number": 15
    },
    {
     "cell_type": "code",
     "collapsed": false,
     "input": [
      "all_note_events = all_note_events.sort(['location', 'root'], ascending=[True, False])"
     ],
     "language": "python",
     "metadata": {},
     "outputs": [],
     "prompt_number": 16
    },
    {
     "cell_type": "code",
     "collapsed": false,
     "input": [
      "all_note_events['root'] = all_note_events['root'].fillna(method=\"pad\")"
     ],
     "language": "python",
     "metadata": {},
     "outputs": [],
     "prompt_number": 17
    },
    {
     "cell_type": "code",
     "collapsed": false,
     "input": [
      "all_note_events = all_note_events.sort(['location', 'third'], ascending=[True, False])"
     ],
     "language": "python",
     "metadata": {},
     "outputs": [],
     "prompt_number": 18
    },
    {
     "cell_type": "code",
     "collapsed": false,
     "input": [
      "all_note_events['third'] = all_note_events['third'].fillna(method='pad')"
     ],
     "language": "python",
     "metadata": {},
     "outputs": [],
     "prompt_number": 19
    },
    {
     "cell_type": "code",
     "collapsed": false,
     "input": [
      "all_note_events = all_note_events.sort(['location', 'fifth'], ascending=[True, False])"
     ],
     "language": "python",
     "metadata": {},
     "outputs": [],
     "prompt_number": 20
    },
    {
     "cell_type": "code",
     "collapsed": false,
     "input": [
      "all_note_events['fifth'] = all_note_events['fifth'].fillna(method='pad')"
     ],
     "language": "python",
     "metadata": {},
     "outputs": [],
     "prompt_number": 21
    },
    {
     "cell_type": "code",
     "collapsed": false,
     "input": [
      "all_note_events = all_note_events.sort(['location', 'seventh'], ascending=[True, False])"
     ],
     "language": "python",
     "metadata": {},
     "outputs": [],
     "prompt_number": 22
    },
    {
     "cell_type": "code",
     "collapsed": false,
     "input": [
      "all_note_events['seventh'] = all_note_events['seventh'].fillna(method='pad')"
     ],
     "language": "python",
     "metadata": {},
     "outputs": [],
     "prompt_number": 23
    },
    {
     "cell_type": "code",
     "collapsed": false,
     "input": [
      "all_note_events['bar'] = (all_note_events['location'] + 4) / 4"
     ],
     "language": "python",
     "metadata": {},
     "outputs": [],
     "prompt_number": 24
    },
    {
     "cell_type": "code",
     "collapsed": false,
     "input": [
      "solo_note_events = all_note_events[all_note_events.part == 0]"
     ],
     "language": "python",
     "metadata": {},
     "outputs": [],
     "prompt_number": 25
    },
    {
     "cell_type": "code",
     "collapsed": false,
     "input": [
      "solo_note_events['solo_in_data_set'] = 0"
     ],
     "language": "python",
     "metadata": {},
     "outputs": [],
     "prompt_number": 26
    },
    {
     "cell_type": "code",
     "collapsed": false,
     "input": [
      "solo_note_events['prep'] = solo_note_events['note'].shift(1)"
     ],
     "language": "python",
     "metadata": {},
     "outputs": [],
     "prompt_number": 27
    },
    {
     "cell_type": "code",
     "collapsed": false,
     "input": [
      "solo_note_events['prep'] = solo_note_events['prep'] - solo_note_events['note']"
     ],
     "language": "python",
     "metadata": {},
     "outputs": [],
     "prompt_number": 28
    },
    {
     "cell_type": "code",
     "collapsed": false,
     "input": [
      "solo_note_events['res'] = solo_note_events['note'].shift(-1)"
     ],
     "language": "python",
     "metadata": {},
     "outputs": [],
     "prompt_number": 29
    },
    {
     "cell_type": "code",
     "collapsed": false,
     "input": [
      "solo_note_events['res'] = solo_note_events['res'] - solo_note_events['note']"
     ],
     "language": "python",
     "metadata": {},
     "outputs": [],
     "prompt_number": 30
    },
    {
     "cell_type": "code",
     "collapsed": false,
     "input": [
      "solo_note_events['p_offset'] = solo_note_events['location'].shift(1)"
     ],
     "language": "python",
     "metadata": {},
     "outputs": [],
     "prompt_number": 31
    },
    {
     "cell_type": "code",
     "collapsed": false,
     "input": [
      "solo_note_events['p_offset'] = abs(solo_note_events['p_offset'] - solo_note_events['location'])"
     ],
     "language": "python",
     "metadata": {},
     "outputs": [],
     "prompt_number": 32
    },
    {
     "cell_type": "code",
     "collapsed": false,
     "input": [
      "solo_note_events['r_offset'] = solo_note_events['location'].shift(-1)"
     ],
     "language": "python",
     "metadata": {},
     "outputs": [],
     "prompt_number": 33
    },
    {
     "cell_type": "code",
     "collapsed": false,
     "input": [
      "solo_note_events['r_offset'] = abs(solo_note_events['r_offset'] - solo_note_events['location'])"
     ],
     "language": "python",
     "metadata": {},
     "outputs": [],
     "prompt_number": 34
    },
    {
     "cell_type": "code",
     "collapsed": false,
     "input": [
      "display(HTML(solo_note_events[33:43].to_html()))"
     ],
     "language": "python",
     "metadata": {},
     "outputs": [
      {
       "html": [
        "<table border=\"1\" class=\"dataframe\">\n",
        "  <thead>\n",
        "    <tr style=\"text-align: right;\">\n",
        "      <th></th>\n",
        "      <th>location</th>\n",
        "      <th>note</th>\n",
        "      <th>part</th>\n",
        "      <th>root</th>\n",
        "      <th>third</th>\n",
        "      <th>fifth</th>\n",
        "      <th>seventh</th>\n",
        "      <th>bar</th>\n",
        "      <th>solo_in_data_set</th>\n",
        "      <th>prep</th>\n",
        "      <th>res</th>\n",
        "      <th>p_offset</th>\n",
        "      <th>r_offset</th>\n",
        "    </tr>\n",
        "  </thead>\n",
        "  <tbody>\n",
        "    <tr>\n",
        "      <th>33</th>\n",
        "      <td> 26.000000</td>\n",
        "      <td> 63</td>\n",
        "      <td> 0</td>\n",
        "      <td> 63</td>\n",
        "      <td> 67</td>\n",
        "      <td> 70</td>\n",
        "      <td> 74</td>\n",
        "      <td> 7.500000</td>\n",
        "      <td> 0</td>\n",
        "      <td> 2</td>\n",
        "      <td> 4</td>\n",
        "      <td> 0.333333</td>\n",
        "      <td> 0.333333</td>\n",
        "    </tr>\n",
        "    <tr>\n",
        "      <th>34</th>\n",
        "      <td> 26.333333</td>\n",
        "      <td> 67</td>\n",
        "      <td> 0</td>\n",
        "      <td> 63</td>\n",
        "      <td> 67</td>\n",
        "      <td> 70</td>\n",
        "      <td> 74</td>\n",
        "      <td> 7.583333</td>\n",
        "      <td> 0</td>\n",
        "      <td>-4</td>\n",
        "      <td> 3</td>\n",
        "      <td> 0.333333</td>\n",
        "      <td> 0.333333</td>\n",
        "    </tr>\n",
        "    <tr>\n",
        "      <th>35</th>\n",
        "      <td> 26.666667</td>\n",
        "      <td> 70</td>\n",
        "      <td> 0</td>\n",
        "      <td> 63</td>\n",
        "      <td> 67</td>\n",
        "      <td> 70</td>\n",
        "      <td> 74</td>\n",
        "      <td> 7.666667</td>\n",
        "      <td> 0</td>\n",
        "      <td>-3</td>\n",
        "      <td> 4</td>\n",
        "      <td> 0.333333</td>\n",
        "      <td> 0.333333</td>\n",
        "    </tr>\n",
        "    <tr>\n",
        "      <th>36</th>\n",
        "      <td> 27.000000</td>\n",
        "      <td> 74</td>\n",
        "      <td> 0</td>\n",
        "      <td> 63</td>\n",
        "      <td> 67</td>\n",
        "      <td> 70</td>\n",
        "      <td> 74</td>\n",
        "      <td> 7.750000</td>\n",
        "      <td> 0</td>\n",
        "      <td>-4</td>\n",
        "      <td> 3</td>\n",
        "      <td> 0.333333</td>\n",
        "      <td> 0.333333</td>\n",
        "    </tr>\n",
        "    <tr>\n",
        "      <th>37</th>\n",
        "      <td> 27.333333</td>\n",
        "      <td> 77</td>\n",
        "      <td> 0</td>\n",
        "      <td> 63</td>\n",
        "      <td> 67</td>\n",
        "      <td> 70</td>\n",
        "      <td> 74</td>\n",
        "      <td> 7.833333</td>\n",
        "      <td> 0</td>\n",
        "      <td>-3</td>\n",
        "      <td>-2</td>\n",
        "      <td> 0.333333</td>\n",
        "      <td> 0.333333</td>\n",
        "    </tr>\n",
        "    <tr>\n",
        "      <th>38</th>\n",
        "      <td> 27.666667</td>\n",
        "      <td> 75</td>\n",
        "      <td> 0</td>\n",
        "      <td> 63</td>\n",
        "      <td> 67</td>\n",
        "      <td> 70</td>\n",
        "      <td> 74</td>\n",
        "      <td> 7.916667</td>\n",
        "      <td> 0</td>\n",
        "      <td> 2</td>\n",
        "      <td>-5</td>\n",
        "      <td> 0.333333</td>\n",
        "      <td> 0.333333</td>\n",
        "    </tr>\n",
        "    <tr>\n",
        "      <th>39</th>\n",
        "      <td> 28.000000</td>\n",
        "      <td> 70</td>\n",
        "      <td> 0</td>\n",
        "      <td> 56</td>\n",
        "      <td> 60</td>\n",
        "      <td> 70</td>\n",
        "      <td> 66</td>\n",
        "      <td> 8.000000</td>\n",
        "      <td> 0</td>\n",
        "      <td> 5</td>\n",
        "      <td> 4</td>\n",
        "      <td> 0.333333</td>\n",
        "      <td> 0.333333</td>\n",
        "    </tr>\n",
        "    <tr>\n",
        "      <th>40</th>\n",
        "      <td> 28.333333</td>\n",
        "      <td> 74</td>\n",
        "      <td> 0</td>\n",
        "      <td> 56</td>\n",
        "      <td> 60</td>\n",
        "      <td> 63</td>\n",
        "      <td> 66</td>\n",
        "      <td> 8.083333</td>\n",
        "      <td> 0</td>\n",
        "      <td>-4</td>\n",
        "      <td>-2</td>\n",
        "      <td> 0.333333</td>\n",
        "      <td> 0.333333</td>\n",
        "    </tr>\n",
        "    <tr>\n",
        "      <th>41</th>\n",
        "      <td> 28.666667</td>\n",
        "      <td> 72</td>\n",
        "      <td> 0</td>\n",
        "      <td> 56</td>\n",
        "      <td> 60</td>\n",
        "      <td> 63</td>\n",
        "      <td> 66</td>\n",
        "      <td> 8.166667</td>\n",
        "      <td> 0</td>\n",
        "      <td> 2</td>\n",
        "      <td>-2</td>\n",
        "      <td> 0.333333</td>\n",
        "      <td> 0.333333</td>\n",
        "    </tr>\n",
        "    <tr>\n",
        "      <th>42</th>\n",
        "      <td> 29.000000</td>\n",
        "      <td> 70</td>\n",
        "      <td> 0</td>\n",
        "      <td> 56</td>\n",
        "      <td> 60</td>\n",
        "      <td> 63</td>\n",
        "      <td> 66</td>\n",
        "      <td> 8.250000</td>\n",
        "      <td> 0</td>\n",
        "      <td> 2</td>\n",
        "      <td>-4</td>\n",
        "      <td> 0.333333</td>\n",
        "      <td> 0.333333</td>\n",
        "    </tr>\n",
        "  </tbody>\n",
        "</table>"
       ],
       "output_type": "display_data",
       "text": [
        "<IPython.core.display.HTML at 0x10c7c6f10>"
       ]
      }
     ],
     "prompt_number": 35
    },
    {
     "cell_type": "markdown",
     "metadata": {},
     "source": [
      "<h2>2: Analysis</h2>"
     ]
    },
    {
     "cell_type": "markdown",
     "metadata": {},
     "source": [
      "<h3>General Remarks about the Dataset</h3>"
     ]
    },
    {
     "cell_type": "code",
     "collapsed": false,
     "input": [
      "#divide notes into chord types\n",
      "def find_chord_type(row):\n",
      "    if row['third'] - row['root'] == 4 and row['fifth'] - row['third'] == 3 and row['seventh'] - row['fifth'] == 3:\n",
      "        return 'dominant_seventh'\n",
      "    elif row['third'] - row['root'] == 4 and row['fifth'] - row['third'] == 3 and row['seventh'] - row['fifth'] == 4:\n",
      "        return 'major_seventh'\n",
      "    elif row['third'] - row['root'] == 3 and row['fifth'] - row['third'] == 4 and row['seventh'] - row['fifth'] == 3:\n",
      "        return 'minor_seventh'\n",
      "    elif row['third'] - row['root'] == 3 and row['fifth'] - row['third'] == 3 and row['seventh'] - row['fifth'] == 4:\n",
      "        return 'minor_seventh_flat_five'\n",
      "    else:\n",
      "        return 'not_determined'\n",
      "\n",
      "solo_note_events['chord_type'] = solo_note_events.apply(find_chord_type, axis=1)"
     ],
     "language": "python",
     "metadata": {},
     "outputs": [],
     "prompt_number": 36
    },
    {
     "cell_type": "code",
     "collapsed": false,
     "input": [],
     "language": "python",
     "metadata": {},
     "outputs": [],
     "prompt_number": 36
    },
    {
     "cell_type": "code",
     "collapsed": false,
     "input": [
      "def calc_dist_note_root(data_row):\n",
      "    x = (data_row['note'] - data_row['root']) % 12\n",
      "    return x\n",
      "    \n",
      "    \n",
      "solo_note_events['dist_note_to_root'] = solo_note_events.apply(calc_dist_note_root, axis=1)"
     ],
     "language": "python",
     "metadata": {},
     "outputs": [],
     "prompt_number": 37
    },
    {
     "cell_type": "code",
     "collapsed": false,
     "input": [
      "display(HTML(solo_note_events[5:15].to_html()))"
     ],
     "language": "python",
     "metadata": {},
     "outputs": [
      {
       "html": [
        "<table border=\"1\" class=\"dataframe\">\n",
        "  <thead>\n",
        "    <tr style=\"text-align: right;\">\n",
        "      <th></th>\n",
        "      <th>location</th>\n",
        "      <th>note</th>\n",
        "      <th>part</th>\n",
        "      <th>root</th>\n",
        "      <th>third</th>\n",
        "      <th>fifth</th>\n",
        "      <th>seventh</th>\n",
        "      <th>bar</th>\n",
        "      <th>solo_in_data_set</th>\n",
        "      <th>prep</th>\n",
        "      <th>res</th>\n",
        "      <th>p_offset</th>\n",
        "      <th>r_offset</th>\n",
        "      <th>chord_type</th>\n",
        "      <th>dist_note_to_root</th>\n",
        "    </tr>\n",
        "  </thead>\n",
        "  <tbody>\n",
        "    <tr>\n",
        "      <th>5 </th>\n",
        "      <td>  5.000000</td>\n",
        "      <td> 70</td>\n",
        "      <td> 0</td>\n",
        "      <td> 57</td>\n",
        "      <td> 61</td>\n",
        "      <td> 64</td>\n",
        "      <td> 67</td>\n",
        "      <td> 2.250000</td>\n",
        "      <td> 0</td>\n",
        "      <td>-3</td>\n",
        "      <td>-1</td>\n",
        "      <td> 0.500000</td>\n",
        "      <td> 1.000000</td>\n",
        "      <td> dominant_seventh</td>\n",
        "      <td> 1</td>\n",
        "    </tr>\n",
        "    <tr>\n",
        "      <th>6 </th>\n",
        "      <td>  6.000000</td>\n",
        "      <td> 69</td>\n",
        "      <td> 0</td>\n",
        "      <td> 57</td>\n",
        "      <td> 61</td>\n",
        "      <td> 64</td>\n",
        "      <td> 67</td>\n",
        "      <td> 2.500000</td>\n",
        "      <td> 0</td>\n",
        "      <td> 1</td>\n",
        "      <td> 0</td>\n",
        "      <td> 1.000000</td>\n",
        "      <td> 2.000000</td>\n",
        "      <td> dominant_seventh</td>\n",
        "      <td> 0</td>\n",
        "    </tr>\n",
        "    <tr>\n",
        "      <th>7 </th>\n",
        "      <td>  8.000000</td>\n",
        "      <td> 69</td>\n",
        "      <td> 0</td>\n",
        "      <td> 60</td>\n",
        "      <td> 63</td>\n",
        "      <td> 67</td>\n",
        "      <td> 70</td>\n",
        "      <td> 3.000000</td>\n",
        "      <td> 0</td>\n",
        "      <td> 0</td>\n",
        "      <td>-2</td>\n",
        "      <td> 2.000000</td>\n",
        "      <td> 1.500000</td>\n",
        "      <td>    minor_seventh</td>\n",
        "      <td> 9</td>\n",
        "    </tr>\n",
        "    <tr>\n",
        "      <th>8 </th>\n",
        "      <td>  9.500000</td>\n",
        "      <td> 67</td>\n",
        "      <td> 0</td>\n",
        "      <td> 60</td>\n",
        "      <td> 63</td>\n",
        "      <td> 67</td>\n",
        "      <td> 70</td>\n",
        "      <td> 3.375000</td>\n",
        "      <td> 0</td>\n",
        "      <td> 2</td>\n",
        "      <td>-4</td>\n",
        "      <td> 1.500000</td>\n",
        "      <td> 1.166667</td>\n",
        "      <td>    minor_seventh</td>\n",
        "      <td> 7</td>\n",
        "    </tr>\n",
        "    <tr>\n",
        "      <th>9 </th>\n",
        "      <td> 10.666667</td>\n",
        "      <td> 63</td>\n",
        "      <td> 0</td>\n",
        "      <td> 60</td>\n",
        "      <td> 63</td>\n",
        "      <td> 67</td>\n",
        "      <td> 70</td>\n",
        "      <td> 3.666667</td>\n",
        "      <td> 0</td>\n",
        "      <td> 4</td>\n",
        "      <td> 2</td>\n",
        "      <td> 1.166667</td>\n",
        "      <td> 0.666667</td>\n",
        "      <td>    minor_seventh</td>\n",
        "      <td> 3</td>\n",
        "    </tr>\n",
        "    <tr>\n",
        "      <th>10</th>\n",
        "      <td> 11.333333</td>\n",
        "      <td> 65</td>\n",
        "      <td> 0</td>\n",
        "      <td> 60</td>\n",
        "      <td> 63</td>\n",
        "      <td> 67</td>\n",
        "      <td> 70</td>\n",
        "      <td> 3.833333</td>\n",
        "      <td> 0</td>\n",
        "      <td>-2</td>\n",
        "      <td> 9</td>\n",
        "      <td> 0.666667</td>\n",
        "      <td> 0.666667</td>\n",
        "      <td>    minor_seventh</td>\n",
        "      <td> 5</td>\n",
        "    </tr>\n",
        "    <tr>\n",
        "      <th>11</th>\n",
        "      <td> 12.000000</td>\n",
        "      <td> 74</td>\n",
        "      <td> 0</td>\n",
        "      <td> 65</td>\n",
        "      <td> 69</td>\n",
        "      <td> 72</td>\n",
        "      <td> 75</td>\n",
        "      <td> 4.000000</td>\n",
        "      <td> 0</td>\n",
        "      <td>-9</td>\n",
        "      <td>-2</td>\n",
        "      <td> 0.666667</td>\n",
        "      <td> 0.500000</td>\n",
        "      <td> dominant_seventh</td>\n",
        "      <td> 9</td>\n",
        "    </tr>\n",
        "    <tr>\n",
        "      <th>12</th>\n",
        "      <td> 12.500000</td>\n",
        "      <td> 72</td>\n",
        "      <td> 0</td>\n",
        "      <td> 65</td>\n",
        "      <td> 69</td>\n",
        "      <td> 72</td>\n",
        "      <td> 75</td>\n",
        "      <td> 4.125000</td>\n",
        "      <td> 0</td>\n",
        "      <td> 2</td>\n",
        "      <td>-3</td>\n",
        "      <td> 0.500000</td>\n",
        "      <td> 0.500000</td>\n",
        "      <td> dominant_seventh</td>\n",
        "      <td> 7</td>\n",
        "    </tr>\n",
        "    <tr>\n",
        "      <th>13</th>\n",
        "      <td> 13.000000</td>\n",
        "      <td> 69</td>\n",
        "      <td> 0</td>\n",
        "      <td> 65</td>\n",
        "      <td> 69</td>\n",
        "      <td> 72</td>\n",
        "      <td> 75</td>\n",
        "      <td> 4.250000</td>\n",
        "      <td> 0</td>\n",
        "      <td> 3</td>\n",
        "      <td>-4</td>\n",
        "      <td> 0.500000</td>\n",
        "      <td> 0.500000</td>\n",
        "      <td> dominant_seventh</td>\n",
        "      <td> 4</td>\n",
        "    </tr>\n",
        "    <tr>\n",
        "      <th>14</th>\n",
        "      <td> 13.500000</td>\n",
        "      <td> 65</td>\n",
        "      <td> 0</td>\n",
        "      <td> 65</td>\n",
        "      <td> 69</td>\n",
        "      <td> 72</td>\n",
        "      <td> 75</td>\n",
        "      <td> 4.375000</td>\n",
        "      <td> 0</td>\n",
        "      <td> 4</td>\n",
        "      <td>-2</td>\n",
        "      <td> 0.500000</td>\n",
        "      <td> 0.500000</td>\n",
        "      <td> dominant_seventh</td>\n",
        "      <td> 0</td>\n",
        "    </tr>\n",
        "  </tbody>\n",
        "</table>"
       ],
       "output_type": "display_data",
       "text": [
        "<IPython.core.display.HTML at 0x10c0bdf10>"
       ]
      }
     ],
     "prompt_number": 38
    },
    {
     "cell_type": "markdown",
     "metadata": {},
     "source": [
      "<p>Find most common notes in solo</p>"
     ]
    },
    {
     "cell_type": "code",
     "collapsed": false,
     "input": [
      "most_common_notes_in_solo = (solo_note_events['note'] % 12).value_counts()"
     ],
     "language": "python",
     "metadata": {},
     "outputs": [],
     "prompt_number": 39
    },
    {
     "cell_type": "code",
     "collapsed": false,
     "input": [
      "most_common_notes_in_solo.plot(kind='bar')"
     ],
     "language": "python",
     "metadata": {},
     "outputs": [
      {
       "output_type": "pyout",
       "prompt_number": 40,
       "text": [
        "<matplotlib.axes.AxesSubplot at 0x10ff54450>"
       ]
      },
      {
       "output_type": "display_data",
       "png": "[encoded data removed]"
      }
     ],
     "prompt_number": 40
    },
    {
     "cell_type": "markdown",
     "metadata": {},
     "source": [
      "<p>Find most common frequences in the solo</p>"
     ]
    },
    {
     "cell_type": "code",
     "collapsed": false,
     "input": [
      "most_common_freqencies_in_solo = solo_note_events['note'].value_counts()"
     ],
     "language": "python",
     "metadata": {},
     "outputs": [],
     "prompt_number": 41
    },
    {
     "cell_type": "code",
     "collapsed": false,
     "input": [
      "most_common_freqencies_in_solo.plot(kind='bar')"
     ],
     "language": "python",
     "metadata": {},
     "outputs": [
      {
       "output_type": "pyout",
       "prompt_number": 42,
       "text": [
        "<matplotlib.axes.AxesSubplot at 0x10ff9cdd0>"
       ]
      },
      {
       "output_type": "display_data",
       "png": "[encoded data removed]"
      }
     ],
     "prompt_number": 42
    },
    {
     "cell_type": "markdown",
     "metadata": {},
     "source": [
      "<p>Is there a relationship between notes in the harmony and most frequent notes in the solo</p>"
     ]
    },
    {
     "cell_type": "code",
     "collapsed": false,
     "input": [
      "mod_sne = solo_note_events[['root', 'third', 'fifth', 'seventh']].stack()"
     ],
     "language": "python",
     "metadata": {},
     "outputs": [],
     "prompt_number": 43
    },
    {
     "cell_type": "code",
     "collapsed": false,
     "input": [
      "mod_sne.apply(lambda x: x % 12).value_counts().plot(kind='bar')"
     ],
     "language": "python",
     "metadata": {},
     "outputs": [
      {
       "output_type": "pyout",
       "prompt_number": 44,
       "text": [
        "<matplotlib.axes.AxesSubplot at 0x10a5eb490>"
       ]
      },
      {
       "output_type": "display_data",
       "png": "[encoded data removed]"
      }
     ],
     "prompt_number": 44
    },
    {
     "cell_type": "markdown",
     "metadata": {},
     "source": [
      "<p>Is there a relationship between the harmony and the most frequeny frequencies in the solo</p>"
     ]
    },
    {
     "cell_type": "code",
     "collapsed": false,
     "input": [
      "solo_note_events[['root', 'third', 'fifth', 'seventh']].stack().value_counts().plot(kind='bar')"
     ],
     "language": "python",
     "metadata": {},
     "outputs": [
      {
       "output_type": "pyout",
       "prompt_number": 45,
       "text": [
        "<matplotlib.axes.AxesSubplot at 0x10a569650>"
       ]
      },
      {
       "output_type": "display_data",
       "png": "[encoded data removed]"
      }
     ],
     "prompt_number": 45
    },
    {
     "cell_type": "markdown",
     "metadata": {},
     "source": [
      "<p>What is the spread of harmony across the dataset in terms of chord types</p>"
     ]
    },
    {
     "cell_type": "code",
     "collapsed": false,
     "input": [
      "solo_note_events['chord_type'].value_counts(normalize=True).plot(kind='bar')"
     ],
     "language": "python",
     "metadata": {},
     "outputs": [
      {
       "output_type": "pyout",
       "prompt_number": 46,
       "text": [
        "<matplotlib.axes.AxesSubplot at 0x10b87f710>"
       ]
      },
      {
       "output_type": "display_data",
       "png": "[encoded data removed]"
      }
     ],
     "prompt_number": 46
    },
    {
     "cell_type": "markdown",
     "metadata": {},
     "source": [
      "<p>Frequency of degrees</p>"
     ]
    },
    {
     "cell_type": "code",
     "collapsed": false,
     "input": [
      "solo_note_events['dist_note_to_root'].value_counts(normalize=True)"
     ],
     "language": "python",
     "metadata": {},
     "outputs": [
      {
       "output_type": "pyout",
       "prompt_number": 47,
       "text": [
        "0     0.126657\n",
        "7     0.106775\n",
        "2     0.102356\n",
        "10    0.097202\n",
        "4     0.092784\n",
        "3     0.090574\n",
        "5     0.087629\n",
        "11    0.069956\n",
        "6     0.068483\n",
        "9     0.064065\n",
        "8     0.050074\n",
        "1     0.043446\n",
        "dtype: float64"
       ]
      }
     ],
     "prompt_number": 47
    },
    {
     "cell_type": "code",
     "collapsed": false,
     "input": [
      "solo_note_events['dist_note_to_root'].value_counts().plot(kind='bar')"
     ],
     "language": "python",
     "metadata": {},
     "outputs": [
      {
       "output_type": "pyout",
       "prompt_number": 48,
       "text": [
        "<matplotlib.axes.AxesSubplot at 0x10b8b6790>"
       ]
      },
      {
       "output_type": "display_data",
       "png": "[encoded data removed]"
      }
     ],
     "prompt_number": 48
    },
    {
     "cell_type": "markdown",
     "metadata": {},
     "source": [
      "<h3>The Dominant Seventh Chord</h3>"
     ]
    },
    {
     "cell_type": "markdown",
     "metadata": {},
     "source": [
      "<p>Degree choice on the dominant seventh chord</p>"
     ]
    },
    {
     "cell_type": "code",
     "collapsed": false,
     "input": [
      "solo_note_events[solo_note_events.chord_type == 'dominant_seventh']['dist_note_to_root'].value_counts()"
     ],
     "language": "python",
     "metadata": {},
     "outputs": [
      {
       "output_type": "pyout",
       "prompt_number": 49,
       "text": [
        "0     72\n",
        "10    67\n",
        "7     64\n",
        "4     60\n",
        "2     47\n",
        "9     45\n",
        "6     38\n",
        "8     37\n",
        "5     32\n",
        "1     27\n",
        "11    19\n",
        "3     19\n",
        "dtype: int64"
       ]
      }
     ],
     "prompt_number": 49
    },
    {
     "cell_type": "code",
     "collapsed": false,
     "input": [
      "solo_note_events[solo_note_events.chord_type == 'dominant_seventh']['dist_note_to_root'].value_counts(normalize=True)"
     ],
     "language": "python",
     "metadata": {},
     "outputs": [
      {
       "output_type": "pyout",
       "prompt_number": 50,
       "text": [
        "0     0.136622\n",
        "10    0.127135\n",
        "7     0.121442\n",
        "4     0.113852\n",
        "2     0.089184\n",
        "9     0.085389\n",
        "6     0.072106\n",
        "8     0.070209\n",
        "5     0.060721\n",
        "1     0.051233\n",
        "11    0.036053\n",
        "3     0.036053\n",
        "dtype: float64"
       ]
      }
     ],
     "prompt_number": 50
    },
    {
     "cell_type": "code",
     "collapsed": false,
     "input": [
      "solo_note_events[solo_note_events.chord_type == 'dominant_seventh']['dist_note_to_root'].value_counts().plot(kind='bar')"
     ],
     "language": "python",
     "metadata": {},
     "outputs": [
      {
       "output_type": "pyout",
       "prompt_number": 51,
       "text": [
        "<matplotlib.axes.AxesSubplot at 0x10a537b50>"
       ]
      },
      {
       "output_type": "display_data",
       "png": "[encoded data removed]"
      }
     ],
     "prompt_number": 51
    },
    {
     "cell_type": "markdown",
     "metadata": {},
     "source": [
      "<h4>The root note in the dominant chord</h4>"
     ]
    },
    {
     "cell_type": "markdown",
     "metadata": {},
     "source": [
      "does it start and end phrases\n"
     ]
    },
    {
     "cell_type": "markdown",
     "metadata": {},
     "source": [
      "<p>How is the root prepared and resolved</p>"
     ]
    },
    {
     "cell_type": "code",
     "collapsed": false,
     "input": [
      "root_used_in_dom_seventh = solo_note_events[solo_note_events.chord_type == 'dominant_seventh'][solo_note_events.dist_note_to_root == 0][solo_note_events.p_offset <= 1][solo_note_events.r_offset <= 1].sort(columns='prep')\n",
      "                                                                                                               "
     ],
     "language": "python",
     "metadata": {},
     "outputs": [
      {
       "output_type": "stream",
       "stream": "stderr",
       "text": [
        "/Users/jamiegabriel/anaconda/lib/python2.7/site-packages/pandas/core/frame.py:1943: UserWarning: Boolean Series key will be reindexed to match DataFrame index.\n",
        "  \"DataFrame index.\", UserWarning)\n"
       ]
      }
     ],
     "prompt_number": 52
    },
    {
     "cell_type": "code",
     "collapsed": false,
     "input": [
      "display(HTML(root_used_in_dom_seventh[0:5].to_html()))"
     ],
     "language": "python",
     "metadata": {},
     "outputs": [
      {
       "html": [
        "<table border=\"1\" class=\"dataframe\">\n",
        "  <thead>\n",
        "    <tr style=\"text-align: right;\">\n",
        "      <th></th>\n",
        "      <th>location</th>\n",
        "      <th>note</th>\n",
        "      <th>part</th>\n",
        "      <th>root</th>\n",
        "      <th>third</th>\n",
        "      <th>fifth</th>\n",
        "      <th>seventh</th>\n",
        "      <th>bar</th>\n",
        "      <th>solo_in_data_set</th>\n",
        "      <th>prep</th>\n",
        "      <th>res</th>\n",
        "      <th>p_offset</th>\n",
        "      <th>r_offset</th>\n",
        "      <th>chord_type</th>\n",
        "      <th>dist_note_to_root</th>\n",
        "    </tr>\n",
        "  </thead>\n",
        "  <tbody>\n",
        "    <tr>\n",
        "      <th>1228</th>\n",
        "      <td> 573.000000</td>\n",
        "      <td> 74</td>\n",
        "      <td> 0</td>\n",
        "      <td> 62</td>\n",
        "      <td> 66</td>\n",
        "      <td> 69</td>\n",
        "      <td> 72</td>\n",
        "      <td> 144.250000</td>\n",
        "      <td> 0</td>\n",
        "      <td>-11</td>\n",
        "      <td>-4</td>\n",
        "      <td> 0.750000</td>\n",
        "      <td> 0.250000</td>\n",
        "      <td> dominant_seventh</td>\n",
        "      <td> 0</td>\n",
        "    </tr>\n",
        "    <tr>\n",
        "      <th>997 </th>\n",
        "      <td> 495.333333</td>\n",
        "      <td> 79</td>\n",
        "      <td> 0</td>\n",
        "      <td> 55</td>\n",
        "      <td> 59</td>\n",
        "      <td> 62</td>\n",
        "      <td> 65</td>\n",
        "      <td> 124.833333</td>\n",
        "      <td> 0</td>\n",
        "      <td> -8</td>\n",
        "      <td>-2</td>\n",
        "      <td> 0.333333</td>\n",
        "      <td> 0.333333</td>\n",
        "      <td> dominant_seventh</td>\n",
        "      <td> 0</td>\n",
        "    </tr>\n",
        "    <tr>\n",
        "      <th>827 </th>\n",
        "      <td> 405.000000</td>\n",
        "      <td> 70</td>\n",
        "      <td> 0</td>\n",
        "      <td> 58</td>\n",
        "      <td> 62</td>\n",
        "      <td> 65</td>\n",
        "      <td> 68</td>\n",
        "      <td> 102.250000</td>\n",
        "      <td> 0</td>\n",
        "      <td> -5</td>\n",
        "      <td>-1</td>\n",
        "      <td> 0.250000</td>\n",
        "      <td> 0.500000</td>\n",
        "      <td> dominant_seventh</td>\n",
        "      <td> 0</td>\n",
        "    </tr>\n",
        "    <tr>\n",
        "      <th>237 </th>\n",
        "      <td> 142.000000</td>\n",
        "      <td> 65</td>\n",
        "      <td> 0</td>\n",
        "      <td> 65</td>\n",
        "      <td> 69</td>\n",
        "      <td> 72</td>\n",
        "      <td> 75</td>\n",
        "      <td>  36.500000</td>\n",
        "      <td> 0</td>\n",
        "      <td> -5</td>\n",
        "      <td>-2</td>\n",
        "      <td> 0.250000</td>\n",
        "      <td> 0.333333</td>\n",
        "      <td> dominant_seventh</td>\n",
        "      <td> 0</td>\n",
        "    </tr>\n",
        "    <tr>\n",
        "      <th>711 </th>\n",
        "      <td> 356.333333</td>\n",
        "      <td> 69</td>\n",
        "      <td> 0</td>\n",
        "      <td> 57</td>\n",
        "      <td> 61</td>\n",
        "      <td> 64</td>\n",
        "      <td> 67</td>\n",
        "      <td>  90.083333</td>\n",
        "      <td> 0</td>\n",
        "      <td> -5</td>\n",
        "      <td> 3</td>\n",
        "      <td> 0.333333</td>\n",
        "      <td> 0.333333</td>\n",
        "      <td> dominant_seventh</td>\n",
        "      <td> 0</td>\n",
        "    </tr>\n",
        "  </tbody>\n",
        "</table>"
       ],
       "output_type": "display_data",
       "text": [
        "<IPython.core.display.HTML at 0x10a5565d0>"
       ]
      }
     ],
     "prompt_number": 53
    },
    {
     "cell_type": "code",
     "collapsed": false,
     "input": [
      "#distribution of preparation\n",
      "root_used_in_dom_seventh['prep'].value_counts()"
     ],
     "language": "python",
     "metadata": {},
     "outputs": [
      {
       "output_type": "pyout",
       "prompt_number": 54,
       "text": [
        " 4     11\n",
        "-1      8\n",
        " 1      8\n",
        "-2      7\n",
        "-3      5\n",
        "-4      5\n",
        "-5      5\n",
        " 2      4\n",
        " 3      2\n",
        " 0      2\n",
        "-8      1\n",
        "-11     1\n",
        " 10     1\n",
        "dtype: int64"
       ]
      }
     ],
     "prompt_number": 54
    },
    {
     "cell_type": "code",
     "collapsed": false,
     "input": [
      "root_used_in_dom_seventh['prep'].value_counts().plot(kind='bar')"
     ],
     "language": "python",
     "metadata": {},
     "outputs": [
      {
       "output_type": "pyout",
       "prompt_number": 55,
       "text": [
        "<matplotlib.axes.AxesSubplot at 0x10c0f75d0>"
       ]
      },
      {
       "output_type": "display_data",
       "png": "[encoded data removed]"
      }
     ],
     "prompt_number": 55
    },
    {
     "cell_type": "code",
     "collapsed": false,
     "input": [
      "#distribution of resolution"
     ],
     "language": "python",
     "metadata": {},
     "outputs": [],
     "prompt_number": 56
    },
    {
     "cell_type": "code",
     "collapsed": false,
     "input": [
      "root_used_in_dom_seventh['res'].value_counts(normalize=True)"
     ],
     "language": "python",
     "metadata": {},
     "outputs": [
      {
       "output_type": "pyout",
       "prompt_number": 57,
       "text": [
        "-1    0.233333\n",
        "-2    0.216667\n",
        " 4    0.100000\n",
        " 1    0.100000\n",
        " 3    0.083333\n",
        " 2    0.066667\n",
        "-4    0.050000\n",
        "-6    0.050000\n",
        "-5    0.033333\n",
        " 0    0.033333\n",
        " 6    0.016667\n",
        " 5    0.016667\n",
        "dtype: float64"
       ]
      }
     ],
     "prompt_number": 57
    },
    {
     "cell_type": "code",
     "collapsed": false,
     "input": [
      "root_used_in_dom_seventh['res'].value_counts().plot(kind=\"bar\")"
     ],
     "language": "python",
     "metadata": {},
     "outputs": [
      {
       "output_type": "pyout",
       "prompt_number": 58,
       "text": [
        "<matplotlib.axes.AxesSubplot at 0x10ce86390>"
       ]
      },
      {
       "output_type": "display_data",
       "png": "[encoded data removed]"
      }
     ],
     "prompt_number": 58
    },
    {
     "cell_type": "code",
     "collapsed": false,
     "input": [
      "display(HTML(root_used_in_dom_seventh[root_used_in_dom_seventh.prep == 1].sort(columns='res').to_html()))"
     ],
     "language": "python",
     "metadata": {},
     "outputs": [
      {
       "html": [
        "<table border=\"1\" class=\"dataframe\">\n",
        "  <thead>\n",
        "    <tr style=\"text-align: right;\">\n",
        "      <th></th>\n",
        "      <th>location</th>\n",
        "      <th>note</th>\n",
        "      <th>part</th>\n",
        "      <th>root</th>\n",
        "      <th>third</th>\n",
        "      <th>fifth</th>\n",
        "      <th>seventh</th>\n",
        "      <th>bar</th>\n",
        "      <th>solo_in_data_set</th>\n",
        "      <th>prep</th>\n",
        "      <th>res</th>\n",
        "      <th>p_offset</th>\n",
        "      <th>r_offset</th>\n",
        "      <th>chord_type</th>\n",
        "      <th>dist_note_to_root</th>\n",
        "    </tr>\n",
        "  </thead>\n",
        "  <tbody>\n",
        "    <tr>\n",
        "      <th>1020</th>\n",
        "      <td> 503.50</td>\n",
        "      <td> 65</td>\n",
        "      <td> 0</td>\n",
        "      <td> 65</td>\n",
        "      <td> 69</td>\n",
        "      <td> 72</td>\n",
        "      <td> 75</td>\n",
        "      <td> 126.8750</td>\n",
        "      <td> 0</td>\n",
        "      <td> 1</td>\n",
        "      <td>-2</td>\n",
        "      <td> 0.25</td>\n",
        "      <td> 0.25</td>\n",
        "      <td> dominant_seventh</td>\n",
        "      <td> 0</td>\n",
        "    </tr>\n",
        "    <tr>\n",
        "      <th>422 </th>\n",
        "      <td> 236.25</td>\n",
        "      <td> 67</td>\n",
        "      <td> 0</td>\n",
        "      <td> 55</td>\n",
        "      <td> 59</td>\n",
        "      <td> 62</td>\n",
        "      <td> 65</td>\n",
        "      <td>  60.0625</td>\n",
        "      <td> 0</td>\n",
        "      <td> 1</td>\n",
        "      <td>-1</td>\n",
        "      <td> 0.25</td>\n",
        "      <td> 0.25</td>\n",
        "      <td> dominant_seventh</td>\n",
        "      <td> 0</td>\n",
        "    </tr>\n",
        "    <tr>\n",
        "      <th>231 </th>\n",
        "      <td> 140.50</td>\n",
        "      <td> 65</td>\n",
        "      <td> 0</td>\n",
        "      <td> 65</td>\n",
        "      <td> 69</td>\n",
        "      <td> 72</td>\n",
        "      <td> 75</td>\n",
        "      <td>  36.1250</td>\n",
        "      <td> 0</td>\n",
        "      <td> 1</td>\n",
        "      <td>-1</td>\n",
        "      <td> 0.25</td>\n",
        "      <td> 0.25</td>\n",
        "      <td> dominant_seventh</td>\n",
        "      <td> 0</td>\n",
        "    </tr>\n",
        "    <tr>\n",
        "      <th>746 </th>\n",
        "      <td> 367.50</td>\n",
        "      <td> 67</td>\n",
        "      <td> 0</td>\n",
        "      <td> 55</td>\n",
        "      <td> 59</td>\n",
        "      <td> 62</td>\n",
        "      <td> 65</td>\n",
        "      <td>  92.8750</td>\n",
        "      <td> 0</td>\n",
        "      <td> 1</td>\n",
        "      <td>-1</td>\n",
        "      <td> 0.25</td>\n",
        "      <td> 0.25</td>\n",
        "      <td> dominant_seventh</td>\n",
        "      <td> 0</td>\n",
        "    </tr>\n",
        "    <tr>\n",
        "      <th>401 </th>\n",
        "      <td> 230.50</td>\n",
        "      <td> 69</td>\n",
        "      <td> 0</td>\n",
        "      <td> 57</td>\n",
        "      <td> 61</td>\n",
        "      <td> 64</td>\n",
        "      <td> 67</td>\n",
        "      <td>  58.6250</td>\n",
        "      <td> 0</td>\n",
        "      <td> 1</td>\n",
        "      <td>-1</td>\n",
        "      <td> 0.25</td>\n",
        "      <td> 0.25</td>\n",
        "      <td> dominant_seventh</td>\n",
        "      <td> 0</td>\n",
        "    </tr>\n",
        "    <tr>\n",
        "      <th>547 </th>\n",
        "      <td> 295.25</td>\n",
        "      <td> 69</td>\n",
        "      <td> 0</td>\n",
        "      <td> 57</td>\n",
        "      <td> 61</td>\n",
        "      <td> 64</td>\n",
        "      <td> 67</td>\n",
        "      <td>  74.8125</td>\n",
        "      <td> 0</td>\n",
        "      <td> 1</td>\n",
        "      <td>-1</td>\n",
        "      <td> 0.25</td>\n",
        "      <td> 0.25</td>\n",
        "      <td> dominant_seventh</td>\n",
        "      <td> 0</td>\n",
        "    </tr>\n",
        "    <tr>\n",
        "      <th>611 </th>\n",
        "      <td> 318.50</td>\n",
        "      <td> 62</td>\n",
        "      <td> 0</td>\n",
        "      <td> 62</td>\n",
        "      <td> 66</td>\n",
        "      <td> 69</td>\n",
        "      <td> 72</td>\n",
        "      <td>  80.6250</td>\n",
        "      <td> 0</td>\n",
        "      <td> 1</td>\n",
        "      <td>-1</td>\n",
        "      <td> 0.25</td>\n",
        "      <td> 0.25</td>\n",
        "      <td> dominant_seventh</td>\n",
        "      <td> 0</td>\n",
        "    </tr>\n",
        "    <tr>\n",
        "      <th>311 </th>\n",
        "      <td> 188.00</td>\n",
        "      <td> 62</td>\n",
        "      <td> 0</td>\n",
        "      <td> 62</td>\n",
        "      <td> 66</td>\n",
        "      <td> 69</td>\n",
        "      <td> 72</td>\n",
        "      <td>  48.0000</td>\n",
        "      <td> 0</td>\n",
        "      <td> 1</td>\n",
        "      <td> 6</td>\n",
        "      <td> 0.50</td>\n",
        "      <td> 1.00</td>\n",
        "      <td> dominant_seventh</td>\n",
        "      <td> 0</td>\n",
        "    </tr>\n",
        "  </tbody>\n",
        "</table>"
       ],
       "output_type": "display_data",
       "text": [
        "<IPython.core.display.HTML at 0x109ec5050>"
       ]
      }
     ],
     "prompt_number": 59
    }
   ],
   "metadata": {}
  }
 ]
}