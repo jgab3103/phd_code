{
 "metadata": {
  "name": "",
  "signature": "sha256:1ae1ca00f9688e5bb39331a84ff55b1454802128b837872173af6d2d41eb4931"
 },
 "nbformat": 3,
 "nbformat_minor": 0,
 "worksheets": [
  {
   "cells": [
    {
     "cell_type": "code",
     "collapsed": false,
     "input": [
      "from math import pi, sin\n",
      "from IPython.display import HTML\n",
      " "
     ],
     "language": "python",
     "metadata": {},
     "outputs": [],
     "prompt_number": 11
    },
    {
     "cell_type": "code",
     "collapsed": false,
     "input": [
      "# Add an input form similar to what we saw above\n",
      "input_form = \"\"\"\n",
      "asdfasdfasdf\n",
      "<audio id=\"audio2\" controls=\"controls\" style=\"width:600px\" preload=\"none\"\n",
      "   src=\"http://upload.wikimedia.org/wikipedia/commons/a/a9/Tromboon-sample.ogg\" >\n",
      "   <p>Your browser does not support the audio element</p>\n",
      "</audio>\n",
      "\n",
      "\n",
      "\"\"\"\n",
      "\n",
      "# here the javascript has a function to execute the code\n",
      "# within the input box, and a callback to handle the output.\n",
      "javascript = \"\"\"\n",
      "\n",
      "<script>\n",
      "  myAudio=document.getElementById('audio2');\n",
      "  myAudio.addEventListener('canplaythrough', function() {\n",
      "    this.currentTime = 10;\n",
      "    this.play();\n",
      "  });\n",
      "</script>\n",
      "\"\"\"\n",
      "\n",
      "HTML(input_form + javascript)"
     ],
     "language": "python",
     "metadata": {},
     "outputs": [
      {
       "html": [
        "\n",
        "asdfasdfasdf\n",
        "<audio id=\"audio2\" controls=\"controls\" style=\"width:600px\" preload=\"none\"\n",
        "   src=\"http://upload.wikimedia.org/wikipedia/commons/a/a9/Tromboon-sample.ogg\" >\n",
        "   <p>Your browser does not support the audio element</p>\n",
        "</audio>\n",
        "\n",
        "\n",
        "\n",
        "\n",
        "<script>\n",
        "  myAudio=document.getElementById('audio2');\n",
        "  myAudio.addEventListener('canplaythrough', function() {\n",
        "    this.currentTime = 10;\n",
        "    this.play();\n",
        "  });\n",
        "</script>\n"
       ],
       "metadata": {},
       "output_type": "pyout",
       "prompt_number": 43,
       "text": [
        "<IPython.core.display.HTML at 0x105e18810>"
       ]
      }
     ],
     "prompt_number": 43
    },
    {
     "cell_type": "code",
     "collapsed": false,
     "input": [
      "from IPython.html import widgets # Widget definitions\n",
      "from IPython.display import display "
     ],
     "language": "python",
     "metadata": {},
     "outputs": [],
     "prompt_number": 28
    },
    {
     "cell_type": "code",
     "collapsed": false,
     "input": [
      "form = widgets.ContainerWidget()\n",
      "first = widgets.SelectWidget(description='blah', values=['asdfsa', 'asdfasd'])\n",
      "last = widgets.TextWidget(description=\"Last Name:\")\n",
      "\n",
      "student = widgets.CheckboxWidget(description=\"Student:\", value=False)\n",
      "school_info = widgets.ContainerWidget(visible=False, children=[\n",
      "    widgets.TextWidget(description=\"School:\"),\n",
      "    widgets.IntTextWidget(description=\"Grade:\", min=0, max=12)\n",
      "    ])\n",
      "\n",
      "pet = widgets.TextWidget(description=\"Pet's Name:\")\n",
      "form.children = [first, last, student, school_info, pet]\n",
      "display(form)\n",
      "\n",
      "def on_student_toggle(name, value):\n",
      "    if value:\n",
      "        school_info.visible = True\n",
      "    else:\n",
      "        school_info.visible = False\n",
      "student.on_trait_change(on_student_toggle, 'value')"
     ],
     "language": "python",
     "metadata": {},
     "outputs": [],
     "prompt_number": 14
    },
    {
     "cell_type": "code",
     "collapsed": false,
     "input": [
      "from IPython.display import Audio\n",
      "Audio(url=\"http://www.nch.com.au/acm/8k16bitpcm.wav\", autoplay=False)"
     ],
     "language": "python",
     "metadata": {},
     "outputs": [
      {
       "html": [
        "\n",
        "                <audio controls=\"controls\" >\n",
        "                    <source src=\"http://www.nch.com.au/acm/8k16bitpcm.wav\" type=\"audio/x-wav\" />\n",
        "                    Your browser does not support the audio element.\n",
        "                </audio>\n",
        "              "
       ],
       "metadata": {},
       "output_type": "pyout",
       "prompt_number": 23,
       "text": [
        "<IPython.lib.display.Audio at 0x105cf7050>"
       ]
      }
     ],
     "prompt_number": 23
    },
    {
     "cell_type": "code",
     "collapsed": false,
     "input": [
      "Audio?"
     ],
     "language": "python",
     "metadata": {},
     "outputs": [],
     "prompt_number": 22
    },
    {
     "cell_type": "code",
     "collapsed": false,
     "input": [],
     "language": "python",
     "metadata": {},
     "outputs": []
    }
   ],
   "metadata": {}
  }
 ]
}