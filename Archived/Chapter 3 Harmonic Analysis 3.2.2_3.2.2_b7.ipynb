{
 "metadata": {
  "name": "",
  "signature": "sha256:29532161147ae0db368610462c4d3d8031aee7da2db9e4c6d6411e49f02778e4"
 },
 "nbformat": 3,
 "nbformat_minor": 0,
 "worksheets": [
  {
   "cells": [
    {
     "cell_type": "code",
     "collapsed": false,
     "input": [
      "import music21 as mu\n",
      "import numpy as np\n",
      "import pandas as pd\n",
      "%pylab inline\n",
      "from IPython.core.display import HTML\n",
      "from IPython.core.display import Image \n",
      "%load_ext music21.ipython21.ipExtension\n",
      "from utilities import TableFigureCounter"
     ],
     "language": "python",
     "metadata": {},
     "outputs": [
      {
       "output_type": "stream",
       "stream": "stdout",
       "text": [
        "Populating the interactive namespace from numpy and matplotlib\n"
       ]
      }
     ],
     "prompt_number": 1
    },
    {
     "cell_type": "code",
     "collapsed": false,
     "input": [
      "#load saved data\n",
      "data_set = pd.read_pickle('data_set_as_pk.pkl')\n",
      "mu_stella = mu.converter.parse('xml_files/stella_by_starlight.xml')\n",
      "mu_autumn = mu.converter.parse('xml_files/autumn_leaves_v2.xml')\n",
      "mu_if_i_were = mu.converter.parse('xml_files/if_i_were_a_bell.xml')\n",
      "mu_groovin = mu.converter.parse('xml_files/groovin_high.xml')\n",
      "mu_all_the_things = mu.converter.parse('xml_files/all_the_things_you_are.xml')"
     ],
     "language": "python",
     "metadata": {},
     "outputs": [],
     "prompt_number": 2
    },
    {
     "cell_type": "code",
     "collapsed": false,
     "input": [
      "tab_fig = TableFigureCounter(current_fig=18,current_tab=11)"
     ],
     "language": "python",
     "metadata": {},
     "outputs": [],
     "prompt_number": 3
    },
    {
     "cell_type": "markdown",
     "metadata": {},
     "source": [
      "<h3>3.2.2 Using the flat seventh in the Dominant Seventh Chord</h3>"
     ]
    },
    {
     "cell_type": "markdown",
     "metadata": {},
     "source": [
      "<p>Figure 3.x shows a passage taken from Keith Jarrett's solo in <u>All The Things You Are</u>, which contains the the flat-seventh degree being used on a dominant chord: a Bb5 on a C dominant seventh chord in the second bar. The use of the flat-seventh as a note choice on a dominant seventh chord is certainly regarded as an appropriate choice. Jazz theory and jazz instructional material often highlights the use of the flat-seventh (often in conjunction with the third), as being pivotal in outlining the character of the underlying chord. So it is not surprising to see its heavy utilisation in these improvisations. It is the second mostly likely note choice for Jarrett to use when improvising over the dominant seventh chord. However, similar to the root degree, there is a great deal of structure to be found in the way the flat-seventh degree is employed.</p>"
     ]
    },
    {
     "cell_type": "code",
     "collapsed": false,
     "input": [
      "print tab_fig.get_next_fig(3)"
     ],
     "language": "python",
     "metadata": {},
     "outputs": [
      {
       "output_type": "stream",
       "stream": "stdout",
       "text": [
        "Figure 3.19\n"
       ]
      }
     ],
     "prompt_number": 4
    },
    {
     "cell_type": "code",
     "collapsed": false,
     "input": [
      "print 'Stella By Starlight, Bar 109,110'\n",
      "select = mu_all_the_things.parts[1].measures(109,110)\n",
      "select.show()\n",
      "#Figure 3.7\n",
      "#Progression Em7b5 | A7 | Cm\n",
      "#Stella By Starlight (bars, 1-3)"
     ],
     "language": "python",
     "metadata": {},
     "outputs": [
      {
       "output_type": "stream",
       "stream": "stdout",
       "text": [
        "Stella By Starlight, Bar 109,110\n"
       ]
      },
      {
       "metadata": {},
       "output_type": "pyout",
       "png": "",
       "prompt_number": 5,
       "text": [
        "<music21.ipython21.objects.IPythonPNGObject at 0x1218cfd10>"
       ]
      }
     ],
     "prompt_number": 5
    },
    {
     "cell_type": "markdown",
     "metadata": {},
     "source": [
      "<h4>3.2.1.1 Using the flat seventh when soloing on the dominant chord: preparation and resolution</h4>\n",
      "\n",
      "<p>The graphs in Figure 3.x and Figure 3.x show the different ways in which the flat-seventh degree can be both prepared and resolved. The possible resolutions of the flat-seventh are approximately twice the number of possible preparations (meaning there are far more ways to resolve the flat-seventh than there are to prepare it). The flat-seventh degree is also similar to the root degree in its distribution of preparations and resolutions. There are pronounced first preferences in both its preparation (from two semitones above) and its resolution (to one semitone below) and a long tail of marginal cases.</p>"
     ]
    },
    {
     "cell_type": "code",
     "collapsed": false,
     "input": [
      "print tab_fig.get_next_fig(3)"
     ],
     "language": "python",
     "metadata": {},
     "outputs": [
      {
       "output_type": "stream",
       "stream": "stdout",
       "text": [
        "Figure 3.20\n"
       ]
      }
     ],
     "prompt_number": 6
    },
    {
     "cell_type": "code",
     "collapsed": false,
     "input": [
      "data_set[data_set.dist_note_to_root == 10]\\\n",
      "[data_set.chord_type=='dominant_seventh']\\\n",
      "[data_set.p_offset <= 0.5]\\\n",
      "[data_set.r_offset <= 0.5]\\\n",
      ".prep.value_counts(normalize=True).plot(kind=\"bar\", title=\"Preparations of the flat-seventh degree on the Dominant seventh\")"
     ],
     "language": "python",
     "metadata": {},
     "outputs": [
      {
       "output_type": "stream",
       "stream": "stderr",
       "text": [
        "/Users/jamiegabriel/anaconda/lib/python2.7/site-packages/pandas/core/frame.py:1686: UserWarning: Boolean Series key will be reindexed to match DataFrame index.\n",
        "  \"DataFrame index.\", UserWarning)\n"
       ]
      },
      {
       "metadata": {},
       "output_type": "pyout",
       "prompt_number": 7,
       "text": [
        "<matplotlib.axes.AxesSubplot at 0x123ebdad0>"
       ]
      },
      {
       "metadata": {},
       "output_type": "display_data",
       "png": "[encoded data removed]",
       "text": [
        "<matplotlib.figure.Figure at 0x123ebd690>"
       ]
      }
     ],
     "prompt_number": 7
    },
    {
     "cell_type": "code",
     "collapsed": false,
     "input": [
      "print tab_fig.get_next_fig(3)"
     ],
     "language": "python",
     "metadata": {},
     "outputs": [
      {
       "output_type": "stream",
       "stream": "stdout",
       "text": [
        "Figure 3.21\n"
       ]
      }
     ],
     "prompt_number": 8
    },
    {
     "cell_type": "code",
     "collapsed": false,
     "input": [
      "data_set[data_set.dist_note_to_root == 10]\\\n",
      "[data_set.chord_type=='dominant_seventh']\\\n",
      "[data_set.p_offset <= 0.5]\\\n",
      "[data_set.r_offset <= 0.5]\\\n",
      ".res.value_counts(normalize=True).plot(kind=\"bar\", title=\"Resolutions of the flat-seventh degree on the Dominant seventh\")"
     ],
     "language": "python",
     "metadata": {},
     "outputs": [
      {
       "metadata": {},
       "output_type": "pyout",
       "prompt_number": 9,
       "text": [
        "<matplotlib.axes.AxesSubplot at 0x123fced50>"
       ]
      },
      {
       "metadata": {},
       "output_type": "display_data",
       "png": "[encoded data removed]",
       "text": [
        "<matplotlib.figure.Figure at 0x123fd7bd0>"
       ]
      }
     ],
     "prompt_number": 9
    },
    {
     "cell_type": "markdown",
     "metadata": {},
     "source": [
      "<h4>3.2.2.2 Preparation of the flat seventh on the dominant chord from two semitones above</h4>"
     ]
    },
    {
     "cell_type": "markdown",
     "metadata": {},
     "source": [
      "<p>The most common thing for Jarrett to do when playing a flat-seventh degree is to precede this with a note that is two semitones above it (which would equate to the root degree of the dominant seventh). This correlates well to what we have already discovered in the previous section: if the most common degree on a dominant seventh is the root degree, it makes sense that it would be used in conjunction with another common note, in this case the flat-seventh degree.</p>\n",
      "\n",
      "<p>It is possible to examine a wide variety of the different types of preparations but in the following section I will examine the flat-seventh degree when it is prepared from two semitones above. Table 3.x below shows the different types of resolutions that can occur when this is the case and the data distribution is typical of things we have seen before. There is a clear majority of cases that resolve to a note one semitone lower. There is then a cluster of resolutions (here three semitones down and two semitones down) and this is followed by a long tail of exceptions.</p>"
     ]
    },
    {
     "cell_type": "code",
     "collapsed": false,
     "input": [
      "print tab_fig.get_next_tab(3)"
     ],
     "language": "python",
     "metadata": {},
     "outputs": [
      {
       "output_type": "stream",
       "stream": "stdout",
       "text": [
        "Table 3.12\n"
       ]
      }
     ],
     "prompt_number": 10
    },
    {
     "cell_type": "code",
     "collapsed": false,
     "input": [
      "data_set[data_set.dist_note_to_root == 10] \\\n",
      "[data_set.chord_type=='dominant_seventh'][data_set.prep == 2] \\\n",
      "[data_set.p_offset <= 0.5][data_set.r_offset <=0.5].groupby(['prep', 'res']).count().sort('note', ascending = False).iloc[:,1:2]\n"
     ],
     "language": "python",
     "metadata": {},
     "outputs": [
      {
       "html": [
        "<div style=\"max-height:1000px;max-width:1500px;overflow:auto;\">\n",
        "<table border=\"1\" class=\"dataframe\">\n",
        "  <thead>\n",
        "    <tr style=\"text-align: right;\">\n",
        "      <th></th>\n",
        "      <th></th>\n",
        "      <th>note</th>\n",
        "    </tr>\n",
        "    <tr>\n",
        "      <th>prep</th>\n",
        "      <th>res</th>\n",
        "      <th></th>\n",
        "    </tr>\n",
        "  </thead>\n",
        "  <tbody>\n",
        "    <tr>\n",
        "      <th rowspan=\"13\" valign=\"top\">2</th>\n",
        "      <th>-1</th>\n",
        "      <td> 27</td>\n",
        "    </tr>\n",
        "    <tr>\n",
        "      <th>-2</th>\n",
        "      <td> 13</td>\n",
        "    </tr>\n",
        "    <tr>\n",
        "      <th>-3</th>\n",
        "      <td> 13</td>\n",
        "    </tr>\n",
        "    <tr>\n",
        "      <th> 2</th>\n",
        "      <td>  4</td>\n",
        "    </tr>\n",
        "    <tr>\n",
        "      <th>-4</th>\n",
        "      <td>  3</td>\n",
        "    </tr>\n",
        "    <tr>\n",
        "      <th> 1</th>\n",
        "      <td>  2</td>\n",
        "    </tr>\n",
        "    <tr>\n",
        "      <th>-6</th>\n",
        "      <td>  2</td>\n",
        "    </tr>\n",
        "    <tr>\n",
        "      <th> 6</th>\n",
        "      <td>  1</td>\n",
        "    </tr>\n",
        "    <tr>\n",
        "      <th> 5</th>\n",
        "      <td>  1</td>\n",
        "    </tr>\n",
        "    <tr>\n",
        "      <th> 4</th>\n",
        "      <td>  1</td>\n",
        "    </tr>\n",
        "    <tr>\n",
        "      <th> 3</th>\n",
        "      <td>  1</td>\n",
        "    </tr>\n",
        "    <tr>\n",
        "      <th> 0</th>\n",
        "      <td>  1</td>\n",
        "    </tr>\n",
        "    <tr>\n",
        "      <th>-9</th>\n",
        "      <td>  1</td>\n",
        "    </tr>\n",
        "  </tbody>\n",
        "</table>\n",
        "<p>13 rows \u00d7 1 columns</p>\n",
        "</div>"
       ],
       "metadata": {},
       "output_type": "pyout",
       "prompt_number": 11,
       "text": [
        "          note\n",
        "prep res      \n",
        "2    -1     27\n",
        "     -2     13\n",
        "     -3     13\n",
        "      2      4\n",
        "     -4      3\n",
        "      1      2\n",
        "     -6      2\n",
        "      6      1\n",
        "      5      1\n",
        "      4      1\n",
        "      3      1\n",
        "      0      1\n",
        "     -9      1\n",
        "\n",
        "[13 rows x 1 columns]"
       ]
      }
     ],
     "prompt_number": 11
    },
    {
     "cell_type": "markdown",
     "metadata": {},
     "source": [
      "<p>The most likely outcome when preparing a flat-seventh from two semitones above will be to resolve it down one semitone.  The data-set has 27 examples of this scenario, which are listed Table 3.x. When this three-note structure occurs (from two semitones above, to the flat-seventh, to one semitone below), the data-set shows that it is most often restricted to the latter part of the bar, and only appears in the first part of the bar (though never the first beat) 18% of the time. There is also a fairly even distribution of this three-note structure starting from different midi frequencies, suggesting that although Jarrett utilises this structure quite heavily, he does not favour any particular notes on the piano keyboard over others.</p>"
     ]
    },
    {
     "cell_type": "code",
     "collapsed": false,
     "input": [
      "print tab_fig.get_next_tab(3)"
     ],
     "language": "python",
     "metadata": {},
     "outputs": [
      {
       "output_type": "stream",
       "stream": "stdout",
       "text": [
        "Table 3.13\n"
       ]
      }
     ],
     "prompt_number": 12
    },
    {
     "cell_type": "code",
     "collapsed": false,
     "input": [
      "data_set[data_set.dist_note_to_root == 10]\\\n",
      "[data_set.chord_type == 'dominant_seventh']\\\n",
      "[data_set.p_offset <=.5]\\\n",
      "[data_set.prep == 2][data_set.res == -1][['measure', 'name', 'note']].sort('name')"
     ],
     "language": "python",
     "metadata": {},
     "outputs": [
      {
       "html": [
        "<div style=\"max-height:1000px;max-width:1500px;overflow:auto;\">\n",
        "<table border=\"1\" class=\"dataframe\">\n",
        "  <thead>\n",
        "    <tr style=\"text-align: right;\">\n",
        "      <th></th>\n",
        "      <th>measure</th>\n",
        "      <th>name</th>\n",
        "      <th>note</th>\n",
        "    </tr>\n",
        "  </thead>\n",
        "  <tbody>\n",
        "    <tr>\n",
        "      <th>1685</th>\n",
        "      <td> 268.875000</td>\n",
        "      <td> All The Things You Are</td>\n",
        "      <td> 60</td>\n",
        "    </tr>\n",
        "    <tr>\n",
        "      <th>443 </th>\n",
        "      <td>  80.875000</td>\n",
        "      <td> All The Things You Are</td>\n",
        "      <td> 65</td>\n",
        "    </tr>\n",
        "    <tr>\n",
        "      <th>501 </th>\n",
        "      <td>  88.625000</td>\n",
        "      <td> All The Things You Are</td>\n",
        "      <td> 84</td>\n",
        "    </tr>\n",
        "    <tr>\n",
        "      <th>31  </th>\n",
        "      <td>   8.625000</td>\n",
        "      <td> All The Things You Are</td>\n",
        "      <td> 65</td>\n",
        "    </tr>\n",
        "    <tr>\n",
        "      <th>1809</th>\n",
        "      <td> 288.375000</td>\n",
        "      <td> All The Things You Are</td>\n",
        "      <td> 61</td>\n",
        "    </tr>\n",
        "    <tr>\n",
        "      <th>5099</th>\n",
        "      <td>  38.621354</td>\n",
        "      <td>          Autumn Leaves</td>\n",
        "      <td> 72</td>\n",
        "    </tr>\n",
        "    <tr>\n",
        "      <th>4966</th>\n",
        "      <td>  18.623958</td>\n",
        "      <td>          Autumn Leaves</td>\n",
        "      <td> 60</td>\n",
        "    </tr>\n",
        "    <tr>\n",
        "      <th>4123</th>\n",
        "      <td> 160.875000</td>\n",
        "      <td>           Groovin High</td>\n",
        "      <td> 71</td>\n",
        "    </tr>\n",
        "    <tr>\n",
        "      <th>3353</th>\n",
        "      <td>  26.875000</td>\n",
        "      <td>           Groovin High</td>\n",
        "      <td> 82</td>\n",
        "    </tr>\n",
        "    <tr>\n",
        "      <th>3911</th>\n",
        "      <td> 126.375000</td>\n",
        "      <td>           Groovin High</td>\n",
        "      <td> 80</td>\n",
        "    </tr>\n",
        "    <tr>\n",
        "      <th>4382</th>\n",
        "      <td> 206.125000</td>\n",
        "      <td>           Groovin High</td>\n",
        "      <td> 80</td>\n",
        "    </tr>\n",
        "    <tr>\n",
        "      <th>7520</th>\n",
        "      <td> 193.625000</td>\n",
        "      <td>       If I Were A Bell</td>\n",
        "      <td> 73</td>\n",
        "    </tr>\n",
        "    <tr>\n",
        "      <th>7731</th>\n",
        "      <td> 212.375000</td>\n",
        "      <td>       If I Were A Bell</td>\n",
        "      <td> 80</td>\n",
        "    </tr>\n",
        "    <tr>\n",
        "      <th>6391</th>\n",
        "      <td>  63.875000</td>\n",
        "      <td>       If I Were A Bell</td>\n",
        "      <td> 63</td>\n",
        "    </tr>\n",
        "    <tr>\n",
        "      <th>6433</th>\n",
        "      <td>  69.928571</td>\n",
        "      <td>       If I Were A Bell</td>\n",
        "      <td> 73</td>\n",
        "    </tr>\n",
        "    <tr>\n",
        "      <th>6806</th>\n",
        "      <td> 116.937500</td>\n",
        "      <td>       If I Were A Bell</td>\n",
        "      <td> 80</td>\n",
        "    </tr>\n",
        "    <tr>\n",
        "      <th>7246</th>\n",
        "      <td> 164.250000</td>\n",
        "      <td>       If I Were A Bell</td>\n",
        "      <td> 80</td>\n",
        "    </tr>\n",
        "    <tr>\n",
        "      <th>7295</th>\n",
        "      <td> 171.937500</td>\n",
        "      <td>       If I Were A Bell</td>\n",
        "      <td> 61</td>\n",
        "    </tr>\n",
        "    <tr>\n",
        "      <th>7359</th>\n",
        "      <td> 179.937500</td>\n",
        "      <td>       If I Were A Bell</td>\n",
        "      <td> 75</td>\n",
        "    </tr>\n",
        "    <tr>\n",
        "      <th>7742</th>\n",
        "      <td> 213.750000</td>\n",
        "      <td>       If I Were A Bell</td>\n",
        "      <td> 73</td>\n",
        "    </tr>\n",
        "    <tr>\n",
        "      <th>6028</th>\n",
        "      <td>   1.875000</td>\n",
        "      <td>       If I Were A Bell</td>\n",
        "      <td> 61</td>\n",
        "    </tr>\n",
        "    <tr>\n",
        "      <th>2495</th>\n",
        "      <td>  86.250000</td>\n",
        "      <td>    Stella By Starlight</td>\n",
        "      <td> 66</td>\n",
        "    </tr>\n",
        "    <tr>\n",
        "      <th>2599</th>\n",
        "      <td>  94.937500</td>\n",
        "      <td>    Stella By Starlight</td>\n",
        "      <td> 75</td>\n",
        "    </tr>\n",
        "    <tr>\n",
        "      <th>2146</th>\n",
        "      <td>  48.875000</td>\n",
        "      <td>    Stella By Starlight</td>\n",
        "      <td> 72</td>\n",
        "    </tr>\n",
        "    <tr>\n",
        "      <th>1844</th>\n",
        "      <td>   4.500000</td>\n",
        "      <td>    Stella By Starlight</td>\n",
        "      <td> 63</td>\n",
        "    </tr>\n",
        "    <tr>\n",
        "      <th>2923</th>\n",
        "      <td> 132.437500</td>\n",
        "      <td>    Stella By Starlight</td>\n",
        "      <td> 63</td>\n",
        "    </tr>\n",
        "    <tr>\n",
        "      <th>2501</th>\n",
        "      <td>  86.750000</td>\n",
        "      <td>    Stella By Starlight</td>\n",
        "      <td> 66</td>\n",
        "    </tr>\n",
        "  </tbody>\n",
        "</table>\n",
        "<p>27 rows \u00d7 3 columns</p>\n",
        "</div>"
       ],
       "metadata": {},
       "output_type": "pyout",
       "prompt_number": 13,
       "text": [
        "         measure                    name  note\n",
        "1685  268.875000  All The Things You Are    60\n",
        "443    80.875000  All The Things You Are    65\n",
        "501    88.625000  All The Things You Are    84\n",
        "31      8.625000  All The Things You Are    65\n",
        "1809  288.375000  All The Things You Are    61\n",
        "5099   38.621354           Autumn Leaves    72\n",
        "4966   18.623958           Autumn Leaves    60\n",
        "4123  160.875000            Groovin High    71\n",
        "3353   26.875000            Groovin High    82\n",
        "3911  126.375000            Groovin High    80\n",
        "4382  206.125000            Groovin High    80\n",
        "7520  193.625000        If I Were A Bell    73\n",
        "7731  212.375000        If I Were A Bell    80\n",
        "6391   63.875000        If I Were A Bell    63\n",
        "6433   69.928571        If I Were A Bell    73\n",
        "6806  116.937500        If I Were A Bell    80\n",
        "7246  164.250000        If I Were A Bell    80\n",
        "7295  171.937500        If I Were A Bell    61\n",
        "7359  179.937500        If I Were A Bell    75\n",
        "7742  213.750000        If I Were A Bell    73\n",
        "6028    1.875000        If I Were A Bell    61\n",
        "2495   86.250000     Stella By Starlight    66\n",
        "2599   94.937500     Stella By Starlight    75\n",
        "2146   48.875000     Stella By Starlight    72\n",
        "1844    4.500000     Stella By Starlight    63\n",
        "2923  132.437500     Stella By Starlight    63\n",
        "2501   86.750000     Stella By Starlight    66\n",
        "\n",
        "[27 rows x 3 columns]"
       ]
      }
     ],
     "prompt_number": 13
    },
    {
     "cell_type": "markdown",
     "metadata": {},
     "source": [
      "<p>One of the examples can be seen below in Figures 3.x, taken from <u>Stella By Starlight</u>, over over an F dominant seventh. Generally for all the examples, the resolution note is evenly distributed both on and off the beat.</p>"
     ]
    },
    {
     "cell_type": "code",
     "collapsed": false,
     "input": [
      "print tab_fig.get_next_fig(3)"
     ],
     "language": "python",
     "metadata": {},
     "outputs": [
      {
       "output_type": "stream",
       "stream": "stdout",
       "text": [
        "Figure 3.22\n"
       ]
      }
     ],
     "prompt_number": 14
    },
    {
     "cell_type": "code",
     "collapsed": false,
     "input": [
      "select = mu_stella.parts[1].measures(4,5)\n",
      "select.show()\n",
      "#is there a preference to major keys"
     ],
     "language": "python",
     "metadata": {},
     "outputs": [
      {
       "metadata": {},
       "output_type": "pyout",
       "png": "[encoded data removed]",
       "prompt_number": 15,
       "text": [
        "<music21.ipython21.objects.IPythonPNGObject at 0x10e292610>"
       ]
      }
     ],
     "prompt_number": 15
    },
    {
     "cell_type": "code",
     "collapsed": false,
     "input": [
      "print tab_fig.get_next_fig(3)"
     ],
     "language": "python",
     "metadata": {},
     "outputs": [
      {
       "output_type": "stream",
       "stream": "stdout",
       "text": [
        "Figure 3.23\n"
       ]
      }
     ],
     "prompt_number": 16
    },
    {
     "cell_type": "code",
     "collapsed": false,
     "input": [
      "select = mu_stella.parts[1].measures(132,133)\n",
      "select.show()"
     ],
     "language": "python",
     "metadata": {},
     "outputs": [
      {
       "metadata": {},
       "output_type": "pyout",
       "png": "[encoded data removed]",
       "prompt_number": 17,
       "text": [
        "<music21.ipython21.objects.IPythonPNGObject at 0x1208a1350>"
       ]
      }
     ],
     "prompt_number": 17
    },
    {
     "cell_type": "markdown",
     "metadata": {},
     "source": [
      "<p>These examples become more interesting when examining the wider progression in which they are part. Across the data-set, the dominant seventh chord occurs predominantly as part of a II-V-I progression. This will either be a minor II-V-I progression (for example D minor 7b5, followed by a G dominant 7, followed by a C minor 7) or a major II-V-I progression (for example a D minor followed by a G dominant 7, followed by a C major 7). The resolution of a flat-seventh degree by one semitone downwards is identical to the voice-leading that is found in the major II-V-I progression. So it is worth exploring whether this particular use of the flat-seventh takes place on a minor or major II-V-I.</p>\n",
      "\n",
      "<p>Table 3.x below shows a count of chord types that appear in the bar following the dominant seventh chord which contains the flat-seventh degree.</p>"
     ]
    },
    {
     "cell_type": "code",
     "collapsed": false,
     "input": [
      "measure_numbers = data_set[data_set.dist_note_to_root == 10]\\\n",
      "[data_set.chord_type == 'dominant_seventh']\\\n",
      "[data_set.p_offset <=.5][data_set.r_offset <= 0.5]\\\n",
      "[data_set.prep == 2][data_set.res == -1].c_measure + 1"
     ],
     "language": "python",
     "metadata": {},
     "outputs": [],
     "prompt_number": 18
    },
    {
     "cell_type": "code",
     "collapsed": false,
     "input": [
      "print tab_fig.get_next_tab(3)"
     ],
     "language": "python",
     "metadata": {},
     "outputs": [
      {
       "output_type": "stream",
       "stream": "stdout",
       "text": [
        "Table 3.14\n"
       ]
      }
     ],
     "prompt_number": 19
    },
    {
     "cell_type": "code",
     "collapsed": false,
     "input": [
      "data_set[data_set['c_measure'].isin(measure_numbers.tolist())]\\\n",
      "['chord_type'].value_counts()"
     ],
     "language": "python",
     "metadata": {},
     "outputs": [
      {
       "metadata": {},
       "output_type": "pyout",
       "prompt_number": 20,
       "text": [
        "dominant_seventh           224\n",
        "major_seventh              223\n",
        "minor_seventh              180\n",
        "minor_seventh_flat_five     87\n",
        "not_determined              55\n",
        "dtype: int64"
       ]
      }
     ],
     "prompt_number": 20
    },
    {
     "cell_type": "markdown",
     "metadata": {},
     "source": [
      "<p><i>Mark! Code that does this is glitchy but when working will show the above table as being accurate</i>\n",
      "\n",
      "<p>The above table shows that in the vast majority of cases, this use of the flat-seventh degree takes place on a major II-V-I harmonic progression. This means that if Jarrett plays a flat-seventh degree on a dominant seventh chord and resolves down a semitone, that there is an over 90% chance that this progression is part of major II V I.</p>\n",
      "\n",
      "<p>There are of course far more marginal uses of the flat-seventh degree. If the flat-seventh degree is prepared from two semitones above, the data-set shows that it is possible (though extremely unlikely) that it can be resolved to six, five or four semitones above. However, these outcomes only occur once through the entire dataset. The first of these examples (resolving up six semitones) can be seen in Figure 3.x below, on an F dominant seventh chord, where an Eb4 resolves to a A4. The example shows that it is part of repetitive sequence. So a possible conclusion here could repetitive sequence is influencing note choice.</p>"
     ]
    },
    {
     "cell_type": "code",
     "collapsed": false,
     "input": [
      "print tab_fig.get_next_fig(3)"
     ],
     "language": "python",
     "metadata": {},
     "outputs": [
      {
       "output_type": "stream",
       "stream": "stdout",
       "text": [
        "Figure 3.24\n"
       ]
      }
     ],
     "prompt_number": 21
    },
    {
     "cell_type": "code",
     "collapsed": false,
     "input": [
      "select = mu_stella.parts[1].measures(132,133)\n",
      "select.show()"
     ],
     "language": "python",
     "metadata": {},
     "outputs": [
      {
       "metadata": {},
       "output_type": "pyout",
       "png": "[encoded data removed]",
       "prompt_number": 22,
       "text": [
        "<music21.ipython21.objects.IPythonPNGObject at 0x1208a1250>"
       ]
      }
     ],
     "prompt_number": 22
    },
    {
     "cell_type": "markdown",
     "metadata": {},
     "source": [
      "<p>A second example below in Figure 3.x strengthens this hypothesis. In bar 118 of the solo of <u>Autumn Leaves</u> There is another F7 dominant chord, and the melodic phrase is a repetitive motive that crosses over two bars. This suggests that that the wider melodic phrase.</p>"
     ]
    },
    {
     "cell_type": "code",
     "collapsed": false,
     "input": [
      "print tab_fig.get_next_fig(3)"
     ],
     "language": "python",
     "metadata": {},
     "outputs": [
      {
       "output_type": "stream",
       "stream": "stdout",
       "text": [
        "Figure 3.25\n"
       ]
      }
     ],
     "prompt_number": 23
    },
    {
     "cell_type": "code",
     "collapsed": false,
     "input": [
      "select = mu_autumn.parts[1].measures(118,121)\n",
      "select.show()"
     ],
     "language": "python",
     "metadata": {},
     "outputs": [
      {
       "metadata": {},
       "output_type": "pyout",
       "png": "[encoded data removed]",
       "prompt_number": 24,
       "text": [
        "<music21.ipython21.objects.IPythonPNGObject at 0x12000eb10>"
       ]
      }
     ],
     "prompt_number": 24
    },
    {
     "cell_type": "markdown",
     "metadata": {},
     "source": [
      "<p>A final example can be seen in the 75th bar of <u>Autumn Leaves</u> seen in Figure 3.x below. Resolution of the flat-seventh is here seen to be 5 semitones upward,in the latter part of the first bar. The wider melodic phrase shows the use of of the G4 as an anchor note, which repeats throughout. When we examine Jarrett's use of the flat-ninth and sharp-ninth degree we will see they influence each other and that is happening in this example also.</p>"
     ]
    },
    {
     "cell_type": "code",
     "collapsed": false,
     "input": [
      "data_set[data_set.dist_note_to_root == 10]\\\n",
      "[data_set.chord_type == 'dominant_seventh']\\\n",
      "[data_set.p_offset <=.5]\\\n",
      "[data_set.prep == 2][data_set.res == 5][['measure', 'name', 'note']].sort('name')"
     ],
     "language": "python",
     "metadata": {},
     "outputs": [
      {
       "html": [
        "<div style=\"max-height:1000px;max-width:1500px;overflow:auto;\">\n",
        "<table border=\"1\" class=\"dataframe\">\n",
        "  <thead>\n",
        "    <tr style=\"text-align: right;\">\n",
        "      <th></th>\n",
        "      <th>measure</th>\n",
        "      <th>name</th>\n",
        "      <th>note</th>\n",
        "    </tr>\n",
        "  </thead>\n",
        "  <tbody>\n",
        "    <tr>\n",
        "      <th>5430</th>\n",
        "      <td> 86.605208</td>\n",
        "      <td> Autumn Leaves</td>\n",
        "      <td> 75</td>\n",
        "    </tr>\n",
        "  </tbody>\n",
        "</table>\n",
        "<p>1 rows \u00d7 3 columns</p>\n",
        "</div>"
       ],
       "metadata": {},
       "output_type": "pyout",
       "prompt_number": 25,
       "text": [
        "        measure           name  note\n",
        "5430  86.605208  Autumn Leaves    75\n",
        "\n",
        "[1 rows x 3 columns]"
       ]
      }
     ],
     "prompt_number": 25
    },
    {
     "cell_type": "code",
     "collapsed": false,
     "input": [
      "select = mu_autumn.parts[1].measures(75,76)\n",
      "select.show()"
     ],
     "language": "python",
     "metadata": {},
     "outputs": [
      {
       "metadata": {},
       "output_type": "pyout",
       "png": "[encoded data removed]",
       "prompt_number": 26,
       "text": [
        "<music21.ipython21.objects.IPythonPNGObject at 0x120eb0950>"
       ]
      }
     ],
     "prompt_number": 26
    },
    {
     "cell_type": "markdown",
     "metadata": {},
     "source": [
      "<p>Focusing just on resolutions of the flat-seventh. The most commonly occurring resolution was one semitone downwards and indicated that the dominant seventh was part of major II-V-I progression due to the identical voice-leading. What about the resolution of two semitones downwards. Does this indicate that the melodic phrase is taking place in a minor II-V-I progression?</p>\n",
      "\n",
      "<p>It turns out that this is the case over 95% of the time. If Jarrett uses a flat-seventh degree on the dominant seventh chord that has been prepared from 2 semitones above, and then resolves 2 semitones downward, the progression will be a minor II-V-I. All the examples are listed in Table 3.x below and can be views using the search engine in Appendix 5.</p>\n"
     ]
    },
    {
     "cell_type": "code",
     "collapsed": false,
     "input": [
      "print tab_fig.get_next_tab(3)"
     ],
     "language": "python",
     "metadata": {},
     "outputs": [
      {
       "output_type": "stream",
       "stream": "stdout",
       "text": [
        "Table 3.15\n"
       ]
      }
     ],
     "prompt_number": 31
    },
    {
     "cell_type": "code",
     "collapsed": false,
     "input": [
      "data_set[data_set.dist_note_to_root == 10]\\\n",
      "[data_set.chord_type == 'dominant_seventh']\\\n",
      "[data_set.p_offset <=.5][data_set.r_offset <=.5]\\\n",
      "[data_set.res == -2][data_set.prep==2][['measure', 'name', 'note']].sort('name')"
     ],
     "language": "python",
     "metadata": {},
     "outputs": [
      {
       "html": [
        "<div style=\"max-height:1000px;max-width:1500px;overflow:auto;\">\n",
        "<table border=\"1\" class=\"dataframe\">\n",
        "  <thead>\n",
        "    <tr style=\"text-align: right;\">\n",
        "      <th></th>\n",
        "      <th>measure</th>\n",
        "      <th>name</th>\n",
        "      <th>note</th>\n",
        "    </tr>\n",
        "  </thead>\n",
        "  <tbody>\n",
        "    <tr>\n",
        "      <th>5151</th>\n",
        "      <td>  46.744271</td>\n",
        "      <td>       Autumn Leaves</td>\n",
        "      <td> 72</td>\n",
        "    </tr>\n",
        "    <tr>\n",
        "      <th>5821</th>\n",
        "      <td> 142.844271</td>\n",
        "      <td>       Autumn Leaves</td>\n",
        "      <td> 60</td>\n",
        "    </tr>\n",
        "    <tr>\n",
        "      <th>5499</th>\n",
        "      <td>  96.855208</td>\n",
        "      <td>       Autumn Leaves</td>\n",
        "      <td> 65</td>\n",
        "    </tr>\n",
        "    <tr>\n",
        "      <th>5695</th>\n",
        "      <td> 122.346354</td>\n",
        "      <td>       Autumn Leaves</td>\n",
        "      <td> 72</td>\n",
        "    </tr>\n",
        "    <tr>\n",
        "      <th>5188</th>\n",
        "      <td>  52.869271</td>\n",
        "      <td>       Autumn Leaves</td>\n",
        "      <td> 65</td>\n",
        "    </tr>\n",
        "    <tr>\n",
        "      <th>5310</th>\n",
        "      <td>  70.868750</td>\n",
        "      <td>       Autumn Leaves</td>\n",
        "      <td> 72</td>\n",
        "    </tr>\n",
        "    <tr>\n",
        "      <th>3873</th>\n",
        "      <td> 118.875000</td>\n",
        "      <td>        Groovin High</td>\n",
        "      <td> 60</td>\n",
        "    </tr>\n",
        "    <tr>\n",
        "      <th>7780</th>\n",
        "      <td> 217.750000</td>\n",
        "      <td>    If I Were A Bell</td>\n",
        "      <td> 63</td>\n",
        "    </tr>\n",
        "    <tr>\n",
        "      <th>6980</th>\n",
        "      <td> 131.611111</td>\n",
        "      <td>    If I Were A Bell</td>\n",
        "      <td> 75</td>\n",
        "    </tr>\n",
        "    <tr>\n",
        "      <th>7629</th>\n",
        "      <td> 201.750000</td>\n",
        "      <td>    If I Were A Bell</td>\n",
        "      <td> 63</td>\n",
        "    </tr>\n",
        "    <tr>\n",
        "      <th>6938</th>\n",
        "      <td> 127.937500</td>\n",
        "      <td>    If I Were A Bell</td>\n",
        "      <td> 75</td>\n",
        "    </tr>\n",
        "    <tr>\n",
        "      <th>2827</th>\n",
        "      <td> 124.916667</td>\n",
        "      <td> Stella By Starlight</td>\n",
        "      <td> 77</td>\n",
        "    </tr>\n",
        "    <tr>\n",
        "      <th>1889</th>\n",
        "      <td>  10.625000</td>\n",
        "      <td> Stella By Starlight</td>\n",
        "      <td> 67</td>\n",
        "    </tr>\n",
        "  </tbody>\n",
        "</table>\n",
        "<p>13 rows \u00d7 3 columns</p>\n",
        "</div>"
       ],
       "metadata": {},
       "output_type": "pyout",
       "prompt_number": 28,
       "text": [
        "         measure                 name  note\n",
        "5151   46.744271        Autumn Leaves    72\n",
        "5821  142.844271        Autumn Leaves    60\n",
        "5499   96.855208        Autumn Leaves    65\n",
        "5695  122.346354        Autumn Leaves    72\n",
        "5188   52.869271        Autumn Leaves    65\n",
        "5310   70.868750        Autumn Leaves    72\n",
        "3873  118.875000         Groovin High    60\n",
        "7780  217.750000     If I Were A Bell    63\n",
        "6980  131.611111     If I Were A Bell    75\n",
        "7629  201.750000     If I Were A Bell    63\n",
        "6938  127.937500     If I Were A Bell    75\n",
        "2827  124.916667  Stella By Starlight    77\n",
        "1889   10.625000  Stella By Starlight    67\n",
        "\n",
        "[13 rows x 3 columns]"
       ]
      }
     ],
     "prompt_number": 28
    },
    {
     "cell_type": "markdown",
     "metadata": {},
     "source": [
      "<p>Before moving the the use of the fifth degree on dominant seventh chord, there is one more pattern to examine. Table 3.x lists all of the possible preparations when the flat-seventh resolves to two semitones downwards. It can be seen that the possible preparations will be either:</p>\n",
      "<ul>\n",
      "<li>one, two or three semitones higher or;</li>\n",
      "<li>one, two or three semitones lower.\n",
      "</ul>\n",
      "\n"
     ]
    },
    {
     "cell_type": "code",
     "collapsed": false,
     "input": [
      "data_set[data_set.dist_note_to_root == 10] \\\n",
      "[data_set.chord_type=='dominant_seventh'][data_set.res == -2] \\\n",
      "[data_set.p_offset <= 0.5][data_set.r_offset <=0.5].groupby(['res', 'prep']).count().sort('note', ascending = False).iloc[:,1:2]"
     ],
     "language": "python",
     "metadata": {},
     "outputs": [
      {
       "html": [
        "<div style=\"max-height:1000px;max-width:1500px;overflow:auto;\">\n",
        "<table border=\"1\" class=\"dataframe\">\n",
        "  <thead>\n",
        "    <tr style=\"text-align: right;\">\n",
        "      <th></th>\n",
        "      <th></th>\n",
        "      <th>note</th>\n",
        "    </tr>\n",
        "    <tr>\n",
        "      <th>res</th>\n",
        "      <th>prep</th>\n",
        "      <th></th>\n",
        "    </tr>\n",
        "  </thead>\n",
        "  <tbody>\n",
        "    <tr>\n",
        "      <th rowspan=\"6\" valign=\"top\">-2</th>\n",
        "      <th> 2</th>\n",
        "      <td> 13</td>\n",
        "    </tr>\n",
        "    <tr>\n",
        "      <th>-3</th>\n",
        "      <td>  6</td>\n",
        "    </tr>\n",
        "    <tr>\n",
        "      <th> 1</th>\n",
        "      <td>  3</td>\n",
        "    </tr>\n",
        "    <tr>\n",
        "      <th> 3</th>\n",
        "      <td>  2</td>\n",
        "    </tr>\n",
        "    <tr>\n",
        "      <th>-1</th>\n",
        "      <td>  2</td>\n",
        "    </tr>\n",
        "    <tr>\n",
        "      <th>-2</th>\n",
        "      <td>  1</td>\n",
        "    </tr>\n",
        "  </tbody>\n",
        "</table>\n",
        "<p>6 rows \u00d7 1 columns</p>\n",
        "</div>"
       ],
       "metadata": {},
       "output_type": "pyout",
       "prompt_number": 30,
       "text": [
        "          note\n",
        "res prep      \n",
        "-2   2      13\n",
        "    -3       6\n",
        "     1       3\n",
        "     3       2\n",
        "    -1       2\n",
        "    -2       1\n",
        "\n",
        "[6 rows x 1 columns]"
       ]
      }
     ],
     "prompt_number": 30
    },
    {
     "cell_type": "markdown",
     "metadata": {},
     "source": [
      "<p>This is certainly not a strict rule but the data-set shows that overwhelmingly there is unexpected symmetry tha can be seen in preparation and resolution of notes. If there are many options of resolution preparation of resolution going upwards, there will be often be the same options available to resolve downwards (though the distribution will not be equal). This is an unexpected symmetry: preparations and resolutions from below will often be mirrored to preparations and resolutions above.</p>"
     ]
    },
    {
     "cell_type": "code",
     "collapsed": false,
     "input": [],
     "language": "python",
     "metadata": {},
     "outputs": []
    }
   ],
   "metadata": {}
  }
 ]
}