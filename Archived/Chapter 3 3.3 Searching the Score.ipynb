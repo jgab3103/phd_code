{
 "metadata": {
  "name": "",
  "signature": "sha256:6cc8647877b43aa81b3121d0dbeff6f605e406d5c1d2bba53508dad739b55dba"
 },
 "nbformat": 3,
 "nbformat_minor": 0,
 "worksheets": [
  {
   "cells": [
    {
     "cell_type": "markdown",
     "metadata": {},
     "source": [
      "<h3>3.3 The probability of choosing a particular note</h3>"
     ]
    },
    {
     "cell_type": "markdown",
     "metadata": {},
     "source": [
      "<p>Its possible that to examine each of the 20'000 notes in the data set, it is not especially practical. From looking at the Dominant seventh, it is clear that that there are some kind of patterns. Certain notes are chosen in preference to other notes, Certain chords occur more often. Passages of notes are ofent not simply resolution or preparation, and this wil be taken up in the next chapter. However, the search is exploratory. Why does Kieth Jarrett choose to play a particular note rather than another. From the point of the view of the data set, its critical that decisions are taking place probability</p>"
     ]
    },
    {
     "cell_type": "code",
     "collapsed": false,
     "input": [],
     "language": "python",
     "metadata": {},
     "outputs": []
    }
   ],
   "metadata": {}
  }
 ]
}