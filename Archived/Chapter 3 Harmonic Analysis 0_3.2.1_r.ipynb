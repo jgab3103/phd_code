{
 "metadata": {
  "name": "",
  "signature": "sha256:1551ceac6bb1ed9496f9b753f55a7ea47345cc9767237ee4218be05031e576ee"
 },
 "nbformat": 3,
 "nbformat_minor": 0,
 "worksheets": [
  {
   "cells": [
    {
     "cell_type": "code",
     "collapsed": false,
     "input": [
      "import music21 as mu\n",
      "import numpy as np\n",
      "import pandas as pd\n",
      "%pylab inline\n",
      "from IPython.core.display import HTML\n",
      "from IPython.core.display import Image \n",
      "%load_ext music21.ipython21.ipExtension"
     ],
     "language": "python",
     "metadata": {},
     "outputs": [
      {
       "output_type": "stream",
       "stream": "stdout",
       "text": [
        "Populating the interactive namespace from numpy and matplotlib\n"
       ]
      }
     ],
     "prompt_number": 1
    },
    {
     "cell_type": "code",
     "collapsed": false,
     "input": [
      "#utility method to track tables and figures in document\n",
      "class TableFigureCounter:\n",
      "    def __init__(self):\n",
      "        self.tab_count = 0\n",
      "        self.fig_count = 0\n",
      "    def get_next_tab(self, chapter=None):\n",
      "        self.tab_count = self.tab_count + 1\n",
      "        return 'Table ' + str(chapter) + '.' + str(self.tab_count)        \n",
      "    def get_next_fig(self, chapter=None):\n",
      "        self.fig_count = self.fig_count + 1\n",
      "        return 'Figure ' + str(chapter) + '.' + str(self.fig_count)\n",
      "    def reset(self):\n",
      "        self.tab_count = 0\n",
      "        self.fig_count = 0"
     ],
     "language": "python",
     "metadata": {},
     "outputs": [],
     "prompt_number": 2
    },
    {
     "cell_type": "code",
     "collapsed": false,
     "input": [
      "#load saved data\n",
      "data_set = pd.read_pickle('data_set_as_pk.pkl')\n",
      "mu_stella = mu.converter.parse('xml_files/stella_by_starlight.xml')\n",
      "mu_autumn = mu.converter.parse('xml_files/autumn_leaves_v2.xml')\n",
      "mu_if_i_were = mu.converter.parse('xml_files/if_i_were_a_bell.xml')\n",
      "mu_groovin = mu.converter.parse('xml_files/groovin_high.xml')\n",
      "mu_all_the_things = mu.converter.parse('xml_files/all_the_things_you_are.xml')"
     ],
     "language": "python",
     "metadata": {},
     "outputs": [],
     "prompt_number": 3
    },
    {
     "cell_type": "code",
     "collapsed": false,
     "input": [
      "tab_fig = TableFigureCounter()"
     ],
     "language": "python",
     "metadata": {},
     "outputs": [],
     "prompt_number": 4
    },
    {
     "cell_type": "heading",
     "level": 1,
     "metadata": {},
     "source": [
      "<h1>Chapter 3 Harmonic Analysis</h1>\n",
      "<p class=\"phd_quote\">'Here's Miles,\"[Wynton Marsalis says and sings a phrase by Miles Davis].  \"I would say, \"Damn, why did he play like that? Here's 'Trane [Marsalis sings a passage by John Coltrane]. \"Trane's playing just the exact opposite. Why is 'Trane playing like that? When you are just learning jazz, everything is mystical\"(Berliner, 34).</p>\n",
      "\n",
      "<p>This quote above is taken from the opening pages of Peter Berliner's landmark study on jazz improvisation and highlights the critical problem of jazz improvisation: it is not clear what jazz improvisation really is. When musicians improvise in jazz, on some level decisions are being taken that result in certain notes being heard at certain times. Yet the reasons behind these decisions often remain unclear. Jazz musicians will often claim that they 'have no idea what [they] are going to do when they take a solo'(Berliner, 66). The mystical process of jazz improvisation is further complicated by musicians improvising jazz but sounding different to each other. Consider John Coltrane's choice of notes and construction of melodic phrases compared to Miles Davis, when they both played solos on Davis' 1958 record, <u>Kind of Blue</u>. Yet both solos are regarded as somehow being jazz.</p> \n",
      "    \n",
      "<p>The ambiguity that surrounds jazz improvisation also presents challenges to musicians who are trying to learn their craft. What kind of things should they practice? What note is appropriate to play at any given time? The jazz education landscape is littered with instructional texts that will often highlight the importance of playing certain notes from certain scales, or playing notes that are contained in the harmonic progressions that are being improvised over. But when looking at note choice in jazz solos, this clearly not what is going on, or at least not the complete story. Jazz musicians and educators alike will often also say that improvisation is also supposed to be spontaneous. There should be no preconception when about what is to be played. So how does the aspiring jazz musician seek to train him or herself to have no preconceived notion of what to play? As well as this almost mystical side to jazz improvisation there might also be best called the craft of being a jazz musician: the practical skills that are expected in any ensemble situation. Professional jazz musicians are expected to know thousands of jazz standards in any key, and expected to know the idiomatic things that often happen in these jazz standards. They are expected to be able to play at fast tempos and employ specific rhythmic patterns that are idiomatic of the genre. So how does a jazz musicians work in such a prescriptive environment but at the same time be somehow spontaneous?</p>\n",
      "\n",
      "<p>This chapter and the next will analyse what note choices are being made when Keith Jarrett when he improvising on a range of jazz standards. The purpose of the analysis is not to try and discover whether there is, or is not, some kind underlying preconception or underlying philosophy. Instead it is to understand when certain notes are chosen for Jarrett and if there is any structure to this. Part of the motivation for the analysis is to provide an insight into the practical issues faced by jazz musicians seeking to understand which notes are appropriate and when they are appropriate. </p>\n",
      "    \n",
      "<p>The analysis in this dissertation is completely data-driven. It examines the notes in the solos and the order which they are played. The analysis makes it possible to examine the harmonic progressions of these jazz standards with a view to understanding these progressions influence note choice. Each standard also has a main melody (being the main melody of the song written by the composer). This makes it possible to ascertain if there is a relationship between the main melody and the note choices in the solo. In this chapter, the focus will be on how individual chords and harmonic progressions can influence note choice. The following chapter will look at the ways in which series of notes are joined together to create melodies and these phrases.</p>\n",
      "    \n",
      "<p>The data set that informs this analysis will show that, even in Keith Jarrett's solos where no single phrase is ever repeated across the entire corpus (extremely unusual even for a jazz musician), there is rich and deep structure to be found. Not only does this shed light on how consciousness mediates creative decision making, but also makes it possible set the foundational of a model that can do this.</p> \n",
      "    \n",
      "<p>The benefit of taking a data-driven approach to the analysis is that it becomes possible to take everything into account, to discover nuanced contexts in which note choices are being made, and how often these contexts occur. It becomes feasible to interrogate any note in the data set to understand when it might and might not occur, and even attach a quantitative probability to this. While it may be feasible however, there also practical limitations that come with this approach. Therefor, this this chapter will take an in depth analysis of only the dominant seventh chord and explore how this chord influences note choice, and this choice changes depending on the chord's context. To be thorough, appendix 2 also shows the design of a search engine that users can use to examine when notes occur in what situations which a wide variety of parameters including different chords and tempos and a working version of the search engine can be found <a href=\"#\"> here.</a></p>"
     ]
    },
    {
     "cell_type": "markdown",
     "metadata": {},
     "source": [
      "<h2>3.1 The Data Set</h2>"
     ]
    },
    {
     "cell_type": "code",
     "collapsed": false,
     "input": [
      "tab_fig.reset()\n",
      "print tab_fig.get_next_tab(3)"
     ],
     "language": "python",
     "metadata": {},
     "outputs": [
      {
       "output_type": "stream",
       "stream": "stdout",
       "text": [
        "Table 3.1\n"
       ]
      }
     ],
     "prompt_number": 5
    },
    {
     "cell_type": "code",
     "collapsed": false,
     "input": [
      "data_set.describe()"
     ],
     "language": "python",
     "metadata": {},
     "outputs": [
      {
       "html": [
        "<div style=\"max-height:1000px;max-width:1500px;overflow:auto;\">\n",
        "<table border=\"1\" class=\"dataframe\">\n",
        "  <thead>\n",
        "    <tr style=\"text-align: right;\">\n",
        "      <th></th>\n",
        "      <th>location</th>\n",
        "      <th>note</th>\n",
        "      <th>part</th>\n",
        "      <th>root</th>\n",
        "      <th>third</th>\n",
        "      <th>fifth</th>\n",
        "      <th>seventh</th>\n",
        "      <th>measure</th>\n",
        "      <th>prep</th>\n",
        "      <th>res</th>\n",
        "      <th>p_offset</th>\n",
        "      <th>r_offset</th>\n",
        "      <th>dist_note_to_root</th>\n",
        "      <th>current_tempo</th>\n",
        "      <th>c_measure</th>\n",
        "    </tr>\n",
        "  </thead>\n",
        "  <tbody>\n",
        "    <tr>\n",
        "      <th>count</th>\n",
        "      <td> 7858.000000</td>\n",
        "      <td> 7858.000000</td>\n",
        "      <td> 7858</td>\n",
        "      <td> 7858.000000</td>\n",
        "      <td> 7858.000000</td>\n",
        "      <td> 7858.000000</td>\n",
        "      <td> 7858.000000</td>\n",
        "      <td> 7858.000000</td>\n",
        "      <td> 7853.000000</td>\n",
        "      <td> 7853.000000</td>\n",
        "      <td> 7853.000000</td>\n",
        "      <td> 7853.000000</td>\n",
        "      <td> 7858.000000</td>\n",
        "      <td> 7858</td>\n",
        "      <td> 7858.000000</td>\n",
        "    </tr>\n",
        "    <tr>\n",
        "      <th>mean</th>\n",
        "      <td>  487.630360</td>\n",
        "      <td>   70.103080</td>\n",
        "      <td>    0</td>\n",
        "      <td>   59.118733</td>\n",
        "      <td>   62.766862</td>\n",
        "      <td>   65.916391</td>\n",
        "      <td>   69.436243</td>\n",
        "      <td>  122.907590</td>\n",
        "      <td>   -0.000127</td>\n",
        "      <td>    0.000127</td>\n",
        "      <td>    0.578613</td>\n",
        "      <td>    0.578613</td>\n",
        "      <td>    5.358488</td>\n",
        "      <td>  120</td>\n",
        "      <td>  122.442479</td>\n",
        "    </tr>\n",
        "    <tr>\n",
        "      <th>std</th>\n",
        "      <td>  292.757246</td>\n",
        "      <td>    6.276381</td>\n",
        "      <td>    0</td>\n",
        "      <td>    3.588163</td>\n",
        "      <td>    3.581678</td>\n",
        "      <td>    3.602780</td>\n",
        "      <td>    3.609601</td>\n",
        "      <td>   73.189311</td>\n",
        "      <td>    3.638340</td>\n",
        "      <td>    3.638340</td>\n",
        "      <td>    0.679753</td>\n",
        "      <td>    0.679753</td>\n",
        "      <td>    3.446626</td>\n",
        "      <td>    0</td>\n",
        "      <td>   73.193612</td>\n",
        "    </tr>\n",
        "    <tr>\n",
        "      <th>min</th>\n",
        "      <td>    0.000000</td>\n",
        "      <td>   46.000000</td>\n",
        "      <td>    0</td>\n",
        "      <td>   51.000000</td>\n",
        "      <td>   56.000000</td>\n",
        "      <td>   59.000000</td>\n",
        "      <td>   62.000000</td>\n",
        "      <td>    1.000000</td>\n",
        "      <td>  -31.000000</td>\n",
        "      <td>  -20.000000</td>\n",
        "      <td>    0.083333</td>\n",
        "      <td>    0.083333</td>\n",
        "      <td>    0.000000</td>\n",
        "      <td>  120</td>\n",
        "      <td>    1.000000</td>\n",
        "    </tr>\n",
        "    <tr>\n",
        "      <th>25%</th>\n",
        "      <td>  258.500000</td>\n",
        "      <td>   66.000000</td>\n",
        "      <td>    0</td>\n",
        "      <td>   56.000000</td>\n",
        "      <td>   60.000000</td>\n",
        "      <td>   63.000000</td>\n",
        "      <td>   67.000000</td>\n",
        "      <td>   65.625000</td>\n",
        "      <td>   -2.000000</td>\n",
        "      <td>   -2.000000</td>\n",
        "      <td>    0.333333</td>\n",
        "      <td>    0.333333</td>\n",
        "      <td>    2.000000</td>\n",
        "      <td>  120</td>\n",
        "      <td>   65.000000</td>\n",
        "    </tr>\n",
        "    <tr>\n",
        "      <th>50%</th>\n",
        "      <td>  469.000000</td>\n",
        "      <td>   70.000000</td>\n",
        "      <td>    0</td>\n",
        "      <td>   58.000000</td>\n",
        "      <td>   62.000000</td>\n",
        "      <td>   65.000000</td>\n",
        "      <td>   69.000000</td>\n",
        "      <td>  118.250000</td>\n",
        "      <td>    0.000000</td>\n",
        "      <td>    0.000000</td>\n",
        "      <td>    0.500000</td>\n",
        "      <td>    0.500000</td>\n",
        "      <td>    5.000000</td>\n",
        "      <td>  120</td>\n",
        "      <td>  118.000000</td>\n",
        "    </tr>\n",
        "    <tr>\n",
        "      <th>75%</th>\n",
        "      <td>  695.500000</td>\n",
        "      <td>   74.000000</td>\n",
        "      <td>    0</td>\n",
        "      <td>   63.000000</td>\n",
        "      <td>   66.000000</td>\n",
        "      <td>   69.000000</td>\n",
        "      <td>   73.000000</td>\n",
        "      <td>  174.875000</td>\n",
        "      <td>    2.000000</td>\n",
        "      <td>    2.000000</td>\n",
        "      <td>    0.500000</td>\n",
        "      <td>    0.500000</td>\n",
        "      <td>    8.000000</td>\n",
        "      <td>  120</td>\n",
        "      <td>  174.000000</td>\n",
        "    </tr>\n",
        "    <tr>\n",
        "      <th>max</th>\n",
        "      <td> 1159.500000</td>\n",
        "      <td>   89.000000</td>\n",
        "      <td>    0</td>\n",
        "      <td>   65.000000</td>\n",
        "      <td>   69.000000</td>\n",
        "      <td>   72.000000</td>\n",
        "      <td>   76.000000</td>\n",
        "      <td>  290.875000</td>\n",
        "      <td>   20.000000</td>\n",
        "      <td>   31.000000</td>\n",
        "      <td>   11.500000</td>\n",
        "      <td>   11.500000</td>\n",
        "      <td>   11.000000</td>\n",
        "      <td>  120</td>\n",
        "      <td>  290.000000</td>\n",
        "    </tr>\n",
        "  </tbody>\n",
        "</table>\n",
        "<p>8 rows \u00d7 15 columns</p>\n",
        "</div>"
       ],
       "metadata": {},
       "output_type": "pyout",
       "prompt_number": 6,
       "text": [
        "          location         note  part         root        third        fifth  \\\n",
        "count  7858.000000  7858.000000  7858  7858.000000  7858.000000  7858.000000   \n",
        "mean    487.630360    70.103080     0    59.118733    62.766862    65.916391   \n",
        "std     292.757246     6.276381     0     3.588163     3.581678     3.602780   \n",
        "min       0.000000    46.000000     0    51.000000    56.000000    59.000000   \n",
        "25%     258.500000    66.000000     0    56.000000    60.000000    63.000000   \n",
        "50%     469.000000    70.000000     0    58.000000    62.000000    65.000000   \n",
        "75%     695.500000    74.000000     0    63.000000    66.000000    69.000000   \n",
        "max    1159.500000    89.000000     0    65.000000    69.000000    72.000000   \n",
        "\n",
        "           seventh      measure         prep          res     p_offset  \\\n",
        "count  7858.000000  7858.000000  7853.000000  7853.000000  7853.000000   \n",
        "mean     69.436243   122.907590    -0.000127     0.000127     0.578613   \n",
        "std       3.609601    73.189311     3.638340     3.638340     0.679753   \n",
        "min      62.000000     1.000000   -31.000000   -20.000000     0.083333   \n",
        "25%      67.000000    65.625000    -2.000000    -2.000000     0.333333   \n",
        "50%      69.000000   118.250000     0.000000     0.000000     0.500000   \n",
        "75%      73.000000   174.875000     2.000000     2.000000     0.500000   \n",
        "max      76.000000   290.875000    20.000000    31.000000    11.500000   \n",
        "\n",
        "          r_offset  dist_note_to_root  current_tempo    c_measure  \n",
        "count  7853.000000        7858.000000           7858  7858.000000  \n",
        "mean      0.578613           5.358488            120   122.442479  \n",
        "std       0.679753           3.446626              0    73.193612  \n",
        "min       0.083333           0.000000            120     1.000000  \n",
        "25%       0.333333           2.000000            120    65.000000  \n",
        "50%       0.500000           5.000000            120   118.000000  \n",
        "75%       0.500000           8.000000            120   174.000000  \n",
        "max      11.500000          11.000000            120   290.000000  \n",
        "\n",
        "[8 rows x 15 columns]"
       ]
      }
     ],
     "prompt_number": 6
    },
    {
     "cell_type": "markdown",
     "metadata": {},
     "source": [
      "<p>The above table (Table 3.x) presents some basic summary data about the data-set. There are 7858(<i>MARK! - this will grow to 20k notes, just working with the smaller data set at the moment</i>) rows of data, each representing a note in one of the ten Keith Jarrett's solos under investigation. At such a high level it may seem that there is not much of a conclusion to be drawn here. But even here there are valuable insights to be found. For example, although at any one time in any given solo there are 88 notes that could possibly be played (being the notes found on piano), Jarrett only utilises 48 of these (being between Db3 and F6). Additionally, some notes are utilised far more than others. The table below (Table 3.x) lists, in descending order, each note (here denoted by its midi frequency) and the amount of times it appears in the data set. Underneath this is a statistical summary of the data. A C5 is the most common note to be found in Jarrett's solos.</p>"
     ]
    },
    {
     "cell_type": "code",
     "collapsed": false,
     "input": [
      "print tab_fig.get_next_tab(3)\n",
      "print \"Midi Frequency\", \"\\tCount\""
     ],
     "language": "python",
     "metadata": {},
     "outputs": [
      {
       "output_type": "stream",
       "stream": "stdout",
       "text": [
        "Table 3.2\n",
        "Midi Frequency \tCount\n"
       ]
      }
     ],
     "prompt_number": 7
    },
    {
     "cell_type": "code",
     "collapsed": false,
     "input": [
      "data_set.note.value_counts()\n"
     ],
     "language": "python",
     "metadata": {},
     "outputs": [
      {
       "metadata": {},
       "output_type": "pyout",
       "prompt_number": 8,
       "text": [
        "72    607\n",
        "67    561\n",
        "70    552\n",
        "68    501\n",
        "74    501\n",
        "75    479\n",
        "65    428\n",
        "63    368\n",
        "69    368\n",
        "73    322\n",
        "77    320\n",
        "62    304\n",
        "71    304\n",
        "66    252\n",
        "79    245\n",
        "64    226\n",
        "76    213\n",
        "60    177\n",
        "78    160\n",
        "61    155\n",
        "80    124\n",
        "82    119\n",
        "81    105\n",
        "58     78\n",
        "84     72\n",
        "59     68\n",
        "57     44\n",
        "83     41\n",
        "55     34\n",
        "56     29\n",
        "85     22\n",
        "86     22\n",
        "87     16\n",
        "53      9\n",
        "54      8\n",
        "51      7\n",
        "88      5\n",
        "49      4\n",
        "52      2\n",
        "89      2\n",
        "50      2\n",
        "46      1\n",
        "48      1\n",
        "dtype: int64"
       ]
      }
     ],
     "prompt_number": 8
    },
    {
     "cell_type": "code",
     "collapsed": false,
     "input": [
      "data_set.note.value_counts().describe()"
     ],
     "language": "python",
     "metadata": {},
     "outputs": [
      {
       "metadata": {},
       "output_type": "pyout",
       "prompt_number": 9,
       "text": [
        "count     43.000000\n",
        "mean     182.744186\n",
        "std      188.523725\n",
        "min        1.000000\n",
        "25%       19.000000\n",
        "50%      119.000000\n",
        "75%      312.000000\n",
        "max      607.000000\n",
        "dtype: float64"
       ]
      }
     ],
     "prompt_number": 9
    },
    {
     "cell_type": "markdown",
     "metadata": {},
     "source": [
      "<p>The data-set shows that Jarrett not only utilises a limited range of the piano for solos (which is perhaps obvious), but also that some notes are favoured substantially more than others ( those from E4 to F5). The structure of the data-set makes it easy to explore of how the range of Jarrett's note choices evolve during a solo (showing a tendency toward higher and lower frequencies toward the end of a solo) and this will be taken up in more detail in the chapter 4.</p>"
     ]
    },
    {
     "cell_type": "markdown",
     "metadata": {},
     "source": [
      "<p>In addition to examining when certain midi frequencies occur (which denote every key on the piano), it is possible to look on at the notes themselves, regardless of the octave in which they may appear. The figure below (Figure 3.x) provides a visualisation of this. The y-axis shows the count of occurrences of particular notes regardless of octave, and the x-axis lists which notes these are (a legend for this can be seen below the graph). This graph reveals that some notes (such as Eb, C, G and D) occur approximately twice as much as some other notes notes (such as B, F#, E and C#).</p>\n"
     ]
    },
    {
     "cell_type": "code",
     "collapsed": false,
     "input": [
      "print tab_fig.get_next_tab(3)"
     ],
     "language": "python",
     "metadata": {},
     "outputs": [
      {
       "output_type": "stream",
       "stream": "stdout",
       "text": [
        "Table 3.3\n"
       ]
      }
     ],
     "prompt_number": 10
    },
    {
     "cell_type": "code",
     "collapsed": false,
     "input": [
      "(data_set.note % 12).value_counts().plot(kind=\"bar\", title=\"Note count (restricted to one octave)\")"
     ],
     "language": "python",
     "metadata": {},
     "outputs": [
      {
       "metadata": {},
       "output_type": "pyout",
       "prompt_number": 11,
       "text": [
        "<matplotlib.axes.AxesSubplot at 0x111fed510>"
       ]
      },
      {
       "metadata": {},
       "output_type": "display_data",
       "png": "[encoded data removed]",
       "text": [
        "<matplotlib.figure.Figure at 0x10ab87490>"
       ]
      }
     ],
     "prompt_number": 11
    },
    {
     "cell_type": "markdown",
     "metadata": {},
     "source": [
      "\n",
      "<table>\n",
      "    <tr>\n",
      "        <td>Degree Number</td>\n",
      "        <td>Note Name</td>\n",
      "    </tr>\n",
      "    <tr>\n",
      "        <td>0</td>\n",
      "        <td>C</td>\n",
      "    </tr>\n",
      "        <tr>\n",
      "        <td>1</td>\n",
      "        <td>C#/Db</td>\n",
      "    </tr>    <tr>\n",
      "        <td>2</td>\n",
      "        <td>D</td>\n",
      "    </tr>    <tr>\n",
      "        <td>3</td>\n",
      "        <td>D#/Eb</td>\n",
      "    </tr>    <tr>\n",
      "        <td>4</td>\n",
      "        <td>E</td>\n",
      "    </tr>    <tr>\n",
      "        <td>5</td>\n",
      "        <td>F</td>\n",
      "    </tr>    <tr>\n",
      "        <td>6</td>\n",
      "        <td>F#/Gb</td>\n",
      "    </tr>    <tr>\n",
      "        <td>7</td>\n",
      "        <td>G</td>\n",
      "    </tr>    <tr>\n",
      "        <td>8</td>\n",
      "        <td>G#/Ab</td>\n",
      "    </tr>    <tr>\n",
      "        <td>9</td>\n",
      "        <td>A</td>\n",
      "    </tr>    <tr>\n",
      "        <td>10</td>\n",
      "        <td>A#/Bb</td>\n",
      "    </tr>    <tr>\n",
      "        <td>11</td>\n",
      "        <td>B</td>\n",
      "    </tr>\n",
      "    \n",
      "</table>"
     ]
    },
    {
     "cell_type": "markdown",
     "metadata": {},
     "source": [
      "<p>It now becomes possible to establish the first clear link between the notes found in the solo and the notes found in the chords that form the underlying harmonic progressions. The notes that are more common in the solos, are those that also are contained in the harmonic progressions of the data-set. Other notes that which do not occur as much in the solos (notes such as the B, F# and E) are seldom seen in the harmonic progressions of the data set.</p>\n",
      "\n",
      "<p>In a way, this should be obvious. It makes intuitive sense (and is often discussed in jazz instructional materials) that notes in the solo should have some kind of correlation to the notes in the harmonic progressions. However, when exploring the the data-set it quickly becomes apparent that there is a much deeper story. Note choice is also heavily mediated by things such as rhythmic placement and the surrounding notes.</p>\n"
     ]
    },
    {
     "cell_type": "markdown",
     "metadata": {},
     "source": [
      "<p>Ignoring the notes of the solos, it is possible to consider only the notes of the harmonic progressions in the data-set. Table 3.x below shows a count of the all notes (regardless of the octave in which they appear) in the harmonic progressions. Once again, there is a high number of notes such C, Eb G D which occur more often that other notes such as F#, E and B</p>"
     ]
    },
    {
     "cell_type": "code",
     "collapsed": false,
     "input": [
      "print tab_fig.get_next_fig(3)"
     ],
     "language": "python",
     "metadata": {},
     "outputs": [
      {
       "output_type": "stream",
       "stream": "stdout",
       "text": [
        "Figure 3.1\n"
       ]
      }
     ],
     "prompt_number": 12
    },
    {
     "cell_type": "code",
     "collapsed": false,
     "input": [
      "solo_to_chord_degree_relationship = data_set[['root', 'third', 'fifth', 'seventh']].stack()\n",
      "solo_to_chord_degree_relationship.apply(lambda x: x % 12).value_counts().plot(kind='bar', title=\"Note count of notes in chord\")"
     ],
     "language": "python",
     "metadata": {},
     "outputs": [
      {
       "metadata": {},
       "output_type": "pyout",
       "prompt_number": 13,
       "text": [
        "<matplotlib.axes.AxesSubplot at 0x12228f750>"
       ]
      },
      {
       "metadata": {},
       "output_type": "display_data",
       "png": "[encoded data removed]",
       "text": [
        "<matplotlib.figure.Figure at 0x1222b31d0>"
       ]
      }
     ],
     "prompt_number": 13
    },
    {
     "cell_type": "markdown",
     "metadata": {},
     "source": [
      "<p>The evidence of there being some kind of relationship between the notes in the solos and the notes in the harmonic progressions also holds up well when examining individual solos in the data-set. Figures 3.x below shows a count of notes (regardless of octave) in the harmonic progressions of 3 songs taken from the data set. Figure 3.x shows a count of the notes of the solos in those same songs(regardless of octave)and a correlation can be seen.</p>"
     ]
    },
    {
     "cell_type": "code",
     "collapsed": false,
     "input": [
      "print tab_fig.get_next_fig(3)"
     ],
     "language": "python",
     "metadata": {},
     "outputs": [
      {
       "output_type": "stream",
       "stream": "stdout",
       "text": [
        "Figure 3.2\n"
       ]
      }
     ],
     "prompt_number": 14
    },
    {
     "cell_type": "code",
     "collapsed": false,
     "input": [
      "fig, axes = plt.subplots(nrows=1, ncols=3, figsize=(12,4))\n",
      "a = data_set[data_set.name == \"Stella By Starlight\"]\n",
      "a_solo_to_chord_degree_relationship = a[['root', 'third', 'fifth', 'seventh']].stack()\n",
      "a_solo_to_chord_degree_relationship.apply(lambda x: x % 12).value_counts().plot(ax=axes[0], kind='bar', title=\"Stella By Starlight\")\n",
      "b = data_set[data_set.name == \"All The Things You Are\"]\n",
      "b_solo_to_chord_degree_relationship = b[['root', 'third', 'fifth', 'seventh']].stack()\n",
      "b_solo_to_chord_degree_relationship.apply(lambda x: x % 12).value_counts().plot(ax=axes[1], kind='bar', title=\"All The Things You Are\")\n",
      "c = data_set[data_set.name == \"Groovin High\"]\n",
      "c_solo_to_chord_degree_relationship = c[['root', 'third', 'fifth', 'seventh']].stack()\n",
      "c_solo_to_chord_degree_relationship.apply(lambda x: x % 12).value_counts().plot(ax=axes[2], kind='bar', title=\"Groovin' High\")"
     ],
     "language": "python",
     "metadata": {},
     "outputs": [
      {
       "metadata": {},
       "output_type": "pyout",
       "prompt_number": 15,
       "text": [
        "<matplotlib.axes.AxesSubplot at 0x111421d90>"
       ]
      },
      {
       "metadata": {},
       "output_type": "display_data",
       "png": "[encoded data removed]",
       "text": [
        "<matplotlib.figure.Figure at 0x111a19f10>"
       ]
      }
     ],
     "prompt_number": 15
    },
    {
     "cell_type": "code",
     "collapsed": false,
     "input": [
      "print tab_fig.get_next_fig(3)"
     ],
     "language": "python",
     "metadata": {},
     "outputs": [
      {
       "output_type": "stream",
       "stream": "stdout",
       "text": [
        "Figure 3.3\n"
       ]
      }
     ],
     "prompt_number": 16
    },
    {
     "cell_type": "code",
     "collapsed": false,
     "input": [
      "#put in look at each of the solos and with a graph here\n",
      "fig, axes = plt.subplots(nrows=1, ncols=3, figsize=(12,4))\n",
      "#axes[0].set_ylabel('frequency')\n",
      "#axes[1].set_xlabel('Degrees of the chord')\n",
      "a = data_set[data_set.name == \"Stella By Starlight\"]\n",
      "(a.note % 12).value_counts().plot(ax=axes[0], kind='bar', title=\"Stella By Starlight\")\n",
      "b = data_set[data_set.name == \"All The Things You Are\"]\n",
      "(b.note % 12).value_counts().plot(ax=axes[1], kind='bar', title=\"All The Things You Are\")\n",
      "c = data_set[data_set.name == \"Groovin High\"]\n",
      "(c.note % 12).value_counts().plot(ax=axes[2], kind='bar', title=\"Groovin' High\")\n"
     ],
     "language": "python",
     "metadata": {},
     "outputs": [
      {
       "metadata": {},
       "output_type": "pyout",
       "prompt_number": 17,
       "text": [
        "<matplotlib.axes.AxesSubplot at 0x11ec33810>"
       ]
      },
      {
       "metadata": {},
       "output_type": "display_data",
       "png": "[encoded data removed]",
       "text": [
        "<matplotlib.figure.Figure at 0x1167bd5d0>"
       ]
      }
     ],
     "prompt_number": 17
    },
    {
     "cell_type": "markdown",
     "metadata": {},
     "source": [
      "<p>The data-set can also be examined to find out which chord types are the most common overall. Table 3.x below shows a normalised distribution of the different chord types which can also be visualised in Figure 3.x. The dominant seventh is the most common chord type, and if the trend in the-data set holds for jazz standards broadly, this suggests something interesting for aspiring jazz improvisor: it makes mores considerably more sense to spend time learning how to improvise on dominant chords, because they will be the ones that most often are played.</p>"
     ]
    },
    {
     "cell_type": "code",
     "collapsed": false,
     "input": [
      "print tab_fig.get_next_tab(3)"
     ],
     "language": "python",
     "metadata": {},
     "outputs": [
      {
       "output_type": "stream",
       "stream": "stdout",
       "text": [
        "Table 3.4\n"
       ]
      }
     ],
     "prompt_number": 18
    },
    {
     "cell_type": "code",
     "collapsed": false,
     "input": [
      "data_set.chord_type.value_counts(normalize=True)"
     ],
     "language": "python",
     "metadata": {},
     "outputs": [
      {
       "metadata": {},
       "output_type": "pyout",
       "prompt_number": 19,
       "text": [
        "dominant_seventh           0.359124\n",
        "major_seventh              0.279588\n",
        "minor_seventh              0.197251\n",
        "minor_seventh_flat_five    0.108043\n",
        "not_determined             0.055994\n",
        "dtype: float64"
       ]
      }
     ],
     "prompt_number": 19
    },
    {
     "cell_type": "code",
     "collapsed": false,
     "input": [
      "print tab_fig.get_next_fig(3)"
     ],
     "language": "python",
     "metadata": {},
     "outputs": [
      {
       "output_type": "stream",
       "stream": "stdout",
       "text": [
        "Figure 3.4\n"
       ]
      }
     ],
     "prompt_number": 20
    },
    {
     "cell_type": "code",
     "collapsed": false,
     "input": [
      "data_set['chord_type'].value_counts(normalize=True).plot(kind='bar', title=\"Percentage of different chord types\")"
     ],
     "language": "python",
     "metadata": {},
     "outputs": [
      {
       "metadata": {},
       "output_type": "pyout",
       "prompt_number": 21,
       "text": [
        "<matplotlib.axes.AxesSubplot at 0x115641b90>"
       ]
      },
      {
       "metadata": {},
       "output_type": "display_data",
       "png": "[encoded data removed]",
       "text": [
        "<matplotlib.figure.Figure at 0x12228fa90>"
       ]
      }
     ],
     "prompt_number": 21
    },
    {
     "cell_type": "markdown",
     "metadata": {},
     "source": [
      "<p>There is another, perhaps more interesting comparison that can be drawn here. The data-set shows that, on average, the number of notes played on a dominant chords is significantly higher than the number of notes played on any other chord type. This means that Jarrett plays more densely playing on a dominant chord. Table 3.x below shows a comparison between the proportion of dominant chords in a particular standard and the proportion of notes in the solo that are played over the dominant chords standard. The conclusion that can be drawn here is that, not only does the dominant chord occur more often in this data-set, but more notes in the solo are played when it does occur.</p>"
     ]
    },
    {
     "cell_type": "code",
     "collapsed": false,
     "input": [
      "print tab_fig.get_next_tab(3)"
     ],
     "language": "python",
     "metadata": {},
     "outputs": [
      {
       "output_type": "stream",
       "stream": "stdout",
       "text": [
        "Table 3.5\n"
       ]
      }
     ],
     "prompt_number": 22
    },
    {
     "cell_type": "markdown",
     "metadata": {},
     "source": [
      "\n",
      "\n",
      "<table>\n",
      "    <tr>\n",
      "        <td width=200>Jazz Standard</td>\n",
      "        <td width = 200>% of times dominant chord occurs in standard</td>\n",
      "        <td width = 200>% number of notes in solo played over the dominant chord</td>\n",
      "    </tr>\n",
      "    <tr>\n",
      "        <td>Stella By Starlight</td>\n",
      "        <td>44.5%</td>\n",
      "        <td>43.4%</td>\n",
      "    </tr>\n",
      "       <tr>\n",
      "        <td>All The Things You Are</td>\n",
      "        <td>28.0%</td>\n",
      "        <td>43.4%</td>\n",
      "    </tr>\n",
      "        <tr>\n",
      "        <td>Groovin High</td>\n",
      "        <td>30.5%</td>\n",
      "        <td>53.4%</td>\n",
      "    </tr>\n",
      "        <tr>\n",
      "        <td>If I Were A Bell</td>\n",
      "        <td>44.5%</td>\n",
      "        <td>50.4%</td>\n",
      "    </tr>\n",
      "        <tr>\n",
      "        <td>Autumn Leaves</td>\n",
      "        <td>24.5%</td>\n",
      "        <td>31.4%</td>\n",
      "    </tr>\n",
      "</table>"
     ]
    },
    {
     "cell_type": "markdown",
     "metadata": {},
     "source": [
      "<p>Chapter 5 will show that the dominant chord is in fact far more ubiquitous the above figures suggest. Jarrett, like many other jazz musicians, will often superimpose the notes of a dominant chord (in arpeggio form) on the other chords types and this notion (called reharmonisation) will be examined in detail in that chapter.</p>\n",
      "\n",
      "<p>For the aspiring jazz pianist, this cursory examination of the data-set presents some useful insights: solos should take place in a limited range on the piano; the range will be more limited at the beginning of solo; notes used in the solos have a relationship to notes found in the harmonic progressions; when a dominant chord is played, soloing should be more dense than at other times. However there are also significant limits in examining the data at this level. To look more deeply at the structure of these solos, I will examine the dominant seventh chord type in the following section, in order to explore the context in which note choices are made.</p>"
     ]
    },
    {
     "cell_type": "markdown",
     "metadata": {},
     "source": [
      "<h2>3.2 The Dominant Seventh Chord</h2>"
     ]
    },
    {
     "cell_type": "code",
     "collapsed": false,
     "input": [
      "print tab_fig.get_next_fig(3)"
     ],
     "language": "python",
     "metadata": {},
     "outputs": [
      {
       "output_type": "stream",
       "stream": "stdout",
       "text": [
        "Figure 3.5\n"
       ]
      }
     ],
     "prompt_number": 23
    },
    {
     "cell_type": "code",
     "collapsed": false,
     "input": [
      "c = mu.chord.Chord(\"C4 E4 G4 B-4\")\n",
      "c.show()"
     ],
     "language": "python",
     "metadata": {},
     "outputs": [
      {
       "metadata": {},
       "output_type": "pyout",
       "png": "[encoded data removed]",
       "prompt_number": 24,
       "text": [
        "<music21.ipython21.objects.IPythonPNGObject at 0x11d7cc250>"
       ]
      }
     ],
     "prompt_number": 24
    },
    {
     "cell_type": "markdown",
     "metadata": {},
     "source": [
      "<p>Seen here with a root of C4, the dominant seventh chord is the most commonly occurring chord in the harmonic progressions of the data-set. The analysis in the following section will focus on the which degrees are chosen when this chord is played, how these degrees are prepared and resolved, and whether there is some kind of structure that can be found.</p>\n",
      "\n",
      "<p>The data-set shows that when playing on a dominant seventh the chord, Keith Jarrett will utilise also possible degrees. Table 3.x below lists these possible degrees.</p>"
     ]
    },
    {
     "cell_type": "code",
     "collapsed": false,
     "input": [
      "print tab_fig.get_next_tab(3)"
     ],
     "language": "python",
     "metadata": {},
     "outputs": [
      {
       "output_type": "stream",
       "stream": "stdout",
       "text": [
        "Table 3.6\n"
       ]
      }
     ],
     "prompt_number": 25
    },
    {
     "cell_type": "markdown",
     "metadata": {},
     "source": [
      "\n",
      "<table>\n",
      "    <tr>\n",
      "        <td width=100>Degree Number</td>\n",
      "        <td with=500>Degree Name</td>\n",
      "        <td>Note name when root of dominant seventh is C</td>\n",
      "    </tr>\n",
      "    <tr>\n",
      "        <td>0</td>\n",
      "        <td>root</td>\n",
      "        <td>C</td>\n",
      "    </tr>\n",
      "        <tr>\n",
      "        <td>1</td>\n",
      "        <td>flat ninth</td>\n",
      "        <td>C#/Db</td>\n",
      "    </tr>    <tr>\n",
      "        <td>2</td>\n",
      "        <td>ninth</td>\n",
      "        <td>D</td>\n",
      "    </tr>    <tr>\n",
      "        <td>3</td>\n",
      "        <td>sharp ninth</td>\n",
      "        <td>D#/Eb</td>\n",
      "    </tr>    <tr>\n",
      "        <td>4</td>\n",
      "        <td>major third</td>\n",
      "        <td>E</td>\n",
      "    </tr>    <tr>\n",
      "        <td>5</td>\n",
      "        <td>eleventh</td>\n",
      "        <td>F</td>\n",
      "    </tr>    <tr>\n",
      "        <td>6</td>\n",
      "        <td>sharp eleventh</td>\n",
      "        <td>F#/Gb</td>\n",
      "    </tr>    <tr>\n",
      "        <td>7</td>\n",
      "        <td>fifth</td>\n",
      "        <td>G</td>\n",
      "    </tr>    <tr>\n",
      "        <td>8</td>\n",
      "        <td>flat thirteenth</td>\n",
      "        <td>G#/Ab</td>\n",
      "    </tr>    <tr>\n",
      "        <td>9</td>\n",
      "        <td>thirteenth</td>\n",
      "        <td>A</td>\n",
      "    </tr>    <tr>\n",
      "        <td>10</td>\n",
      "        <td>flat seventh</td>\n",
      "        <td>A#/Bb</td>\n",
      "    </tr>    <tr>\n",
      "        <td>11</td>\n",
      "        <td>major seventh</td>\n",
      "        <td>B</td>\n",
      "    </tr>\n",
      "    \n",
      "</table>\n",
      "\n",
      "\n",
      "<p>Table 3.x below lists each degree (regardless of the root note of the dominant chord) and the number of times Jarrett plays it when a dominant seventh chord occurs in a harmonic progression within the data-set. This immediately challenges the view that often arises in jazz instructional materials, that the correct notes to play on a dominant seventh chord should belong to a particular scale, or some kind of subset of notes in the octave. The data-set shows that in fact, all 12 notes in an octave can be played on a dominant seventh chord. The table below also challenges another view commonly seen in jazz instructional texts: that chord tones (in particular thirds and sevenths) should be played most often. Here it is actually the fifth degree (for example the a G5 on a C dominant seventh chord) that is actually the most common choice of note to play in a solo, followed by the root degree.</p>\n"
     ]
    },
    {
     "cell_type": "code",
     "collapsed": false,
     "input": [
      "print tab_fig.get_next_tab(3)"
     ],
     "language": "python",
     "metadata": {},
     "outputs": [
      {
       "output_type": "stream",
       "stream": "stdout",
       "text": [
        "Table 3.7\n"
       ]
      }
     ],
     "prompt_number": 26
    },
    {
     "cell_type": "code",
     "collapsed": false,
     "input": [
      "data_set[data_set.chord_type == 'dominant_seventh']['dist_note_to_root'].value_counts()"
     ],
     "language": "python",
     "metadata": {},
     "outputs": [
      {
       "metadata": {},
       "output_type": "pyout",
       "prompt_number": 27,
       "text": [
        "0     351\n",
        "10    344\n",
        "7     342\n",
        "4     313\n",
        "9     245\n",
        "2     236\n",
        "1     203\n",
        "5     198\n",
        "3     177\n",
        "8     167\n",
        "6     134\n",
        "11    112\n",
        "dtype: int64"
       ]
      }
     ],
     "prompt_number": 27
    },
    {
     "cell_type": "markdown",
     "metadata": {},
     "source": [
      "<p>Although the data-set can clearly establish that any note can be be played when soloing over a dominant seventh chord, it is important not to draw the conclusion that this somehow suggests any note is permissible in jazz improvisation under investigation here, or that improvised melodies are the result of some kind of musical free-for all. Often when talking of jazz, there is even a kind of folklore that strengthens this view. Miles Davis claimed, \"Do not fear mistakes, there are none\". Herbie Hancock claimed, \"Jazz is about being in the moment\". Regardless of what such sentiments might mean, the evidence from this data will show that jazz is not an anything-goes art-form. There is a deep and subtle framework governing note choice to be found here, one that speaks directly to the human ability to make context based decisions in linear time, that reflect a balance between repetition and variety.</p>\n",
      "\n",
      "<p>It is not practical to go through all the examples of each degree and the multitude of ways that it is prepared and resolved (though the reader can explore this in the <a href=\"#\"> search engine</a>) detailed the appendix x. The following sections are not intended to be an exhaustive survey showing everything that could possibly happen in regard to note choice, but instead the aim is to highlight some of the key findings, starting with most common choice of note (the root degree) and ending with the least common choice (the major seventh). Each section will provide an overview of of the preparation and resolution of the various degree types, and then look more in detail at specific examples of how the degrees are prepared and resolved.</p>"
     ]
    },
    {
     "cell_type": "markdown",
     "metadata": {},
     "source": [
      "<h3>3.2.1 The root degree on the Dominant Seventh Chord</h3>"
     ]
    },
    {
     "cell_type": "markdown",
     "metadata": {},
     "source": [
      "<p>The second measure in Figure 3.x below shows an A5, being a root played A Dominant 7 chord from the opening measures of  Keith Jarrett's solo on <i>Stella By Starlight</i>. The root degree is the most likely choice that Jarrett will make on a dominant seventh chord, occurs 351 times in the data set. Overall (which chord type is not taken into account), the root note is the second most commonly occurring note in the solos.</p>"
     ]
    },
    {
     "cell_type": "code",
     "collapsed": false,
     "input": [
      "print tab_fig.get_next_fig(3)"
     ],
     "language": "python",
     "metadata": {},
     "outputs": [
      {
       "output_type": "stream",
       "stream": "stdout",
       "text": [
        "Figure 3.6\n"
       ]
      }
     ],
     "prompt_number": 28
    },
    {
     "cell_type": "code",
     "collapsed": false,
     "input": [
      "select = mu_stella.parts[1].measures(1,3)\n",
      "select.show()\n",
      "#Figure 3.7\n",
      "#Progression Em7b5 | A7 | Cm\n",
      "#Stella By Starlight (bars, 1-3)"
     ],
     "language": "python",
     "metadata": {},
     "outputs": [
      {
       "metadata": {},
       "output_type": "pyout",
       "png": "[encoded data removed]",
       "prompt_number": 29,
       "text": [
        "<music21.ipython21.objects.IPythonPNGObject at 0x11f1dffd0>"
       ]
      }
     ],
     "prompt_number": 29
    },
    {
     "cell_type": "markdown",
     "metadata": {},
     "source": [
      "<p>By preparation and resolution, I simply mean notes come before and after the note that is being examined. For example, in Figure 3.x above, the A5 is prepared by a Bb5 and resolved by by a G5.</p>\n",
      "\n",
      "<p>The graphs below, Figure 3.x and Figure 3.x, show the different ways that the root degree can be prepared and resolved when being used in a dominant seventh chord. The horizontal x-axis in both of these graphs denotes the distance (in semitones) away from the root note, and the y-axis denotes the number of examples that can be found in the data-set.</p>"
     ]
    },
    {
     "cell_type": "code",
     "collapsed": false,
     "input": [
      "print tab_fig.get_next_fig(3)"
     ],
     "language": "python",
     "metadata": {},
     "outputs": [
      {
       "output_type": "stream",
       "stream": "stdout",
       "text": [
        "Figure 3.7\n"
       ]
      }
     ],
     "prompt_number": 30
    },
    {
     "cell_type": "code",
     "collapsed": false,
     "input": [
      "pl = data_set[data_set.dist_note_to_root == 0]\\\n",
      "    [data_set.chord_type=='dominant_seventh']\\\n",
      "    [data_set.p_offset <= 0.5].prep.value_counts().\\\n",
      "    plot(kind='bar', title=\"Preparation of the Root Degree\")\n",
      "\n",
      "pl.set_xlabel('Distance in semitones between root degree and previous note in the solo')\n",
      "pl.set_ylabel('Frequency')"
     ],
     "language": "python",
     "metadata": {},
     "outputs": [
      {
       "output_type": "stream",
       "stream": "stderr",
       "text": [
        "/Users/jamiegabriel/anaconda/lib/python2.7/site-packages/pandas/core/frame.py:1686: UserWarning: Boolean Series key will be reindexed to match DataFrame index.\n",
        "  \"DataFrame index.\", UserWarning)\n"
       ]
      },
      {
       "metadata": {},
       "output_type": "pyout",
       "prompt_number": 31,
       "text": [
        "<matplotlib.text.Text at 0x110a9c710>"
       ]
      },
      {
       "metadata": {},
       "output_type": "display_data",
       "png": "[encoded data removed]",
       "text": [
        "<matplotlib.figure.Figure at 0x11d3c3b50>"
       ]
      }
     ],
     "prompt_number": 31
    },
    {
     "cell_type": "code",
     "collapsed": false,
     "input": [
      "print tab_fig.get_next_fig(3)"
     ],
     "language": "python",
     "metadata": {},
     "outputs": [
      {
       "output_type": "stream",
       "stream": "stdout",
       "text": [
        "Figure 3.8\n"
       ]
      }
     ],
     "prompt_number": 32
    },
    {
     "cell_type": "code",
     "collapsed": false,
     "input": [
      "pl = data_set[data_set.dist_note_to_root == 0]\\\n",
      "[data_set.chord_type=='dominant_seventh']\\\n",
      "[data_set.p_offset <= 0.5].res.value_counts().\\\n",
      "plot(kind='bar', title=\"Resolution of the root degree\")\n",
      "\n",
      "pl.set_xlabel('Distance in semitones between root degree and next note in the solo')\n",
      "pl.set_ylabel('Frequency')"
     ],
     "language": "python",
     "metadata": {},
     "outputs": [
      {
       "metadata": {},
       "output_type": "pyout",
       "prompt_number": 33,
       "text": [
        "<matplotlib.text.Text at 0x11f1309d0>"
       ]
      },
      {
       "metadata": {},
       "output_type": "display_data",
       "png": "[encoded data removed]",
       "text": [
        "<matplotlib.figure.Figure at 0x11a5d9a10>"
       ]
      }
     ],
     "prompt_number": 33
    },
    {
     "cell_type": "markdown",
     "metadata": {},
     "source": [
      "<p>The figures above suggest that the root degree is not used in an indiscriminate fashion. The data-set shows that there are in fact very strict constraints in place around exactly how the root degree is to be prepared and resolved when used on a dominant chord. For example it is far more likely that the root note will be prepared from either a semitone above (for example a Db5 leading to a C5 on a C dominant seventh chord) or from two semitones below (for example a Bb5 leading to a C5 on a C dominant seventh chord) and far less likely it will be prepared from a 4 semitones below (for example an Ab4 leading to a C5 on a C dominant seventh chord). Conversely, It is not at all possible to prepare the root note from 6 semitones above (for example, an F#5 leading to a C5). Although the F# if commonly regarded as a viable note choice for improvisation on a dominant seventh, if the root degree is played, it is not permissible given this data-set to use an F# beforehand.</p>"
     ]
    },
    {
     "cell_type": "markdown",
     "metadata": {},
     "source": [
      "<p>Table 3.x shows a closer view of the data which focuses not only on the use of the root degree, but also its most common preparation: from a semitone above (for example a Db5 leading to a C5 on a C dominant seventh chord). There are 72 instances in total where this happens. The table also lists a count of the different ways the root note is then resolved. It shows that overwhelmingly this resolution will be to either to two semitones below or to one semitone below (together there is a 65% chance that one of these outcomes will occur). This can be compared with the likelihood that the root note will resolve to a note 4 semitones below (for example a Db5 leading to a C5 leading to Ab4 on a C dominant seventh chord) which is only 6.9%.</p>\n",
      "\n",
      "<p>I have mentioned that Jarrett is known as someone who does not repeat himself and when taking into account all of the melodic phrases that have been encoded into the data-set, this is indeed the case. However, there is deeper story here. The data-set begins to show that there is in fact repetition, and a great deal of it. When the melodic phrases in this data set are broken into 3-note structures (being the preparation note, the note under investigation, and the resolution note) repetition begins to emerge.</p>\n",
      "\n",
      "<p>The following sections will also show that this general model outlined in Table 3.x below (where, if a preparation note is given, around 60-70% of found examples will only have 2 possibilities in terms of the resolution note) holds across the entire data-set. Table 3.x below also reveals a long tail of different ways to resolve (here being to a note four semitones below, through to a note 19 semitones below), each of which is not very likely in itself. It is this long tail of exceptions which allows the variety to be part of the solos and I will show that the exceptions are actually linked the main melody of the jazz standard on which the solo is being played.</p>"
     ]
    },
    {
     "cell_type": "code",
     "collapsed": false,
     "input": [
      "print tab_fig.get_next_tab(3)"
     ],
     "language": "python",
     "metadata": {},
     "outputs": [
      {
       "output_type": "stream",
       "stream": "stdout",
       "text": [
        "Table 3.8\n"
       ]
      }
     ],
     "prompt_number": 34
    },
    {
     "cell_type": "code",
     "collapsed": false,
     "input": [
      "data_set[data_set.dist_note_to_root == 0] \\\n",
      "[data_set.chord_type=='dominant_seventh'][data_set.prep == 1] \\\n",
      "[data_set.p_offset <= 0.5][data_set.r_offset <=0.5].groupby(['prep', 'res']).count().sort('note', ascending = False).iloc[:,1:2]\n",
      "#Table 3.7"
     ],
     "language": "python",
     "metadata": {},
     "outputs": [
      {
       "html": [
        "<div style=\"max-height:1000px;max-width:1500px;overflow:auto;\">\n",
        "<table border=\"1\" class=\"dataframe\">\n",
        "  <thead>\n",
        "    <tr style=\"text-align: right;\">\n",
        "      <th></th>\n",
        "      <th></th>\n",
        "      <th>note</th>\n",
        "    </tr>\n",
        "    <tr>\n",
        "      <th>prep</th>\n",
        "      <th>res</th>\n",
        "      <th></th>\n",
        "    </tr>\n",
        "  </thead>\n",
        "  <tbody>\n",
        "    <tr>\n",
        "      <th rowspan=\"12\" valign=\"top\">1</th>\n",
        "      <th>-2 </th>\n",
        "      <td> 25</td>\n",
        "    </tr>\n",
        "    <tr>\n",
        "      <th>-1 </th>\n",
        "      <td> 22</td>\n",
        "    </tr>\n",
        "    <tr>\n",
        "      <th>-4 </th>\n",
        "      <td>  4</td>\n",
        "    </tr>\n",
        "    <tr>\n",
        "      <th> 1 </th>\n",
        "      <td>  3</td>\n",
        "    </tr>\n",
        "    <tr>\n",
        "      <th> 3 </th>\n",
        "      <td>  2</td>\n",
        "    </tr>\n",
        "    <tr>\n",
        "      <th> 11</th>\n",
        "      <td>  1</td>\n",
        "    </tr>\n",
        "    <tr>\n",
        "      <th> 8 </th>\n",
        "      <td>  1</td>\n",
        "    </tr>\n",
        "    <tr>\n",
        "      <th> 4 </th>\n",
        "      <td>  1</td>\n",
        "    </tr>\n",
        "    <tr>\n",
        "      <th> 2 </th>\n",
        "      <td>  1</td>\n",
        "    </tr>\n",
        "    <tr>\n",
        "      <th> 0 </th>\n",
        "      <td>  1</td>\n",
        "    </tr>\n",
        "    <tr>\n",
        "      <th>-3 </th>\n",
        "      <td>  1</td>\n",
        "    </tr>\n",
        "    <tr>\n",
        "      <th>-5 </th>\n",
        "      <td>  1</td>\n",
        "    </tr>\n",
        "  </tbody>\n",
        "</table>\n",
        "<p>12 rows \u00d7 1 columns</p>\n",
        "</div>"
       ],
       "metadata": {},
       "output_type": "pyout",
       "prompt_number": 35,
       "text": [
        "          note\n",
        "prep res      \n",
        "1    -2     25\n",
        "     -1     22\n",
        "     -4      4\n",
        "      1      3\n",
        "      3      2\n",
        "      11     1\n",
        "      8      1\n",
        "      4      1\n",
        "      2      1\n",
        "      0      1\n",
        "     -3      1\n",
        "     -5      1\n",
        "\n",
        "[12 rows x 1 columns]"
       ]
      }
     ],
     "prompt_number": 35
    },
    {
     "cell_type": "markdown",
     "metadata": {},
     "source": [
      "<p>It is also possible to search the data-set for the specific details of these examples and render the associated musical passage. The table above notes that there are 25 examples of instances where the root note is preceded by a note one semitone above and resolved to a note two semitones below. Table 3.x below shows these details (here only as 2 row extract).</p>"
     ]
    },
    {
     "cell_type": "code",
     "collapsed": false,
     "input": [
      "print tab_fig.get_next_tab(3)"
     ],
     "language": "python",
     "metadata": {},
     "outputs": [
      {
       "output_type": "stream",
       "stream": "stdout",
       "text": [
        "Table 3.9\n"
       ]
      }
     ],
     "prompt_number": 36
    },
    {
     "cell_type": "code",
     "collapsed": false,
     "input": [
      "data_set[data_set.dist_note_to_root == 0]\\\n",
      "[data_set.chord_type == 'dominant_seventh']\\\n",
      "[data_set.p_offset <=.5][data_set.r_offset <= 0.5] \\\n",
      "[data_set.prep == 1][data_set.res == -2][['measure', 'name', 'note']].sort('name')"
     ],
     "language": "python",
     "metadata": {},
     "outputs": [
      {
       "html": [
        "<div style=\"max-height:1000px;max-width:1500px;overflow:auto;\">\n",
        "<table border=\"1\" class=\"dataframe\">\n",
        "  <thead>\n",
        "    <tr style=\"text-align: right;\">\n",
        "      <th></th>\n",
        "      <th>measure</th>\n",
        "      <th>name</th>\n",
        "      <th>note</th>\n",
        "    </tr>\n",
        "  </thead>\n",
        "  <tbody>\n",
        "    <tr>\n",
        "      <th>1684</th>\n",
        "      <td> 268.750000</td>\n",
        "      <td> All The Things You Are</td>\n",
        "      <td> 62</td>\n",
        "    </tr>\n",
        "    <tr>\n",
        "      <th>5187</th>\n",
        "      <td>  52.744271</td>\n",
        "      <td>          Autumn Leaves</td>\n",
        "      <td> 67</td>\n",
        "    </tr>\n",
        "    <tr>\n",
        "      <th>5279</th>\n",
        "      <td>  66.993750</td>\n",
        "      <td>          Autumn Leaves</td>\n",
        "      <td> 65</td>\n",
        "    </tr>\n",
        "    <tr>\n",
        "      <th>5771</th>\n",
        "      <td> 134.552604</td>\n",
        "      <td>          Autumn Leaves</td>\n",
        "      <td> 74</td>\n",
        "    </tr>\n",
        "    <tr>\n",
        "      <th>4965</th>\n",
        "      <td>  18.498958</td>\n",
        "      <td>          Autumn Leaves</td>\n",
        "      <td> 62</td>\n",
        "    </tr>\n",
        "    <tr>\n",
        "      <th>5098</th>\n",
        "      <td>  38.496354</td>\n",
        "      <td>          Autumn Leaves</td>\n",
        "      <td> 74</td>\n",
        "    </tr>\n",
        "    <tr>\n",
        "      <th>3872</th>\n",
        "      <td> 118.750000</td>\n",
        "      <td>           Groovin High</td>\n",
        "      <td> 62</td>\n",
        "    </tr>\n",
        "    <tr>\n",
        "      <th>3910</th>\n",
        "      <td> 126.250000</td>\n",
        "      <td>           Groovin High</td>\n",
        "      <td> 82</td>\n",
        "    </tr>\n",
        "    <tr>\n",
        "      <th>3726</th>\n",
        "      <td>  90.500000</td>\n",
        "      <td>           Groovin High</td>\n",
        "      <td> 72</td>\n",
        "    </tr>\n",
        "    <tr>\n",
        "      <th>7358</th>\n",
        "      <td> 179.875000</td>\n",
        "      <td>       If I Were A Bell</td>\n",
        "      <td> 77</td>\n",
        "    </tr>\n",
        "    <tr>\n",
        "      <th>7377</th>\n",
        "      <td> 181.750000</td>\n",
        "      <td>       If I Were A Bell</td>\n",
        "      <td> 75</td>\n",
        "    </tr>\n",
        "    <tr>\n",
        "      <th>7628</th>\n",
        "      <td> 201.687500</td>\n",
        "      <td>       If I Were A Bell</td>\n",
        "      <td> 65</td>\n",
        "    </tr>\n",
        "    <tr>\n",
        "      <th>7663</th>\n",
        "      <td> 203.875000</td>\n",
        "      <td>       If I Were A Bell</td>\n",
        "      <td> 75</td>\n",
        "    </tr>\n",
        "    <tr>\n",
        "      <th>7693</th>\n",
        "      <td> 207.875000</td>\n",
        "      <td>       If I Were A Bell</td>\n",
        "      <td> 72</td>\n",
        "    </tr>\n",
        "    <tr>\n",
        "      <th>7741</th>\n",
        "      <td> 213.625000</td>\n",
        "      <td>       If I Were A Bell</td>\n",
        "      <td> 75</td>\n",
        "    </tr>\n",
        "    <tr>\n",
        "      <th>7779</th>\n",
        "      <td> 217.687500</td>\n",
        "      <td>       If I Were A Bell</td>\n",
        "      <td> 65</td>\n",
        "    </tr>\n",
        "    <tr>\n",
        "      <th>6027</th>\n",
        "      <td>   1.750000</td>\n",
        "      <td>       If I Were A Bell</td>\n",
        "      <td> 63</td>\n",
        "    </tr>\n",
        "    <tr>\n",
        "      <th>6111</th>\n",
        "      <td>  15.875000</td>\n",
        "      <td>       If I Were A Bell</td>\n",
        "      <td> 72</td>\n",
        "    </tr>\n",
        "    <tr>\n",
        "      <th>6390</th>\n",
        "      <td>  63.750000</td>\n",
        "      <td>       If I Were A Bell</td>\n",
        "      <td> 65</td>\n",
        "    </tr>\n",
        "    <tr>\n",
        "      <th>6937</th>\n",
        "      <td> 127.875000</td>\n",
        "      <td>       If I Were A Bell</td>\n",
        "      <td> 77</td>\n",
        "    </tr>\n",
        "    <tr>\n",
        "      <th>6979</th>\n",
        "      <td> 131.555556</td>\n",
        "      <td>       If I Were A Bell</td>\n",
        "      <td> 77</td>\n",
        "    </tr>\n",
        "    <tr>\n",
        "      <th>7078</th>\n",
        "      <td> 137.875000</td>\n",
        "      <td>       If I Were A Bell</td>\n",
        "      <td> 77</td>\n",
        "    </tr>\n",
        "    <tr>\n",
        "      <th>7286</th>\n",
        "      <td> 170.583333</td>\n",
        "      <td>       If I Were A Bell</td>\n",
        "      <td> 70</td>\n",
        "    </tr>\n",
        "    <tr>\n",
        "      <th>7294</th>\n",
        "      <td> 171.875000</td>\n",
        "      <td>       If I Were A Bell</td>\n",
        "      <td> 63</td>\n",
        "    </tr>\n",
        "    <tr>\n",
        "      <th>2849</th>\n",
        "      <td> 126.875000</td>\n",
        "      <td>    Stella By Starlight</td>\n",
        "      <td> 65</td>\n",
        "    </tr>\n",
        "  </tbody>\n",
        "</table>\n",
        "<p>25 rows \u00d7 3 columns</p>\n",
        "</div>"
       ],
       "metadata": {},
       "output_type": "pyout",
       "prompt_number": 37,
       "text": [
        "         measure                    name  note\n",
        "1684  268.750000  All The Things You Are    62\n",
        "5187   52.744271           Autumn Leaves    67\n",
        "5279   66.993750           Autumn Leaves    65\n",
        "5771  134.552604           Autumn Leaves    74\n",
        "4965   18.498958           Autumn Leaves    62\n",
        "5098   38.496354           Autumn Leaves    74\n",
        "3872  118.750000            Groovin High    62\n",
        "3910  126.250000            Groovin High    82\n",
        "3726   90.500000            Groovin High    72\n",
        "7358  179.875000        If I Were A Bell    77\n",
        "7377  181.750000        If I Were A Bell    75\n",
        "7628  201.687500        If I Were A Bell    65\n",
        "7663  203.875000        If I Were A Bell    75\n",
        "7693  207.875000        If I Were A Bell    72\n",
        "7741  213.625000        If I Were A Bell    75\n",
        "7779  217.687500        If I Were A Bell    65\n",
        "6027    1.750000        If I Were A Bell    63\n",
        "6111   15.875000        If I Were A Bell    72\n",
        "6390   63.750000        If I Were A Bell    65\n",
        "6937  127.875000        If I Were A Bell    77\n",
        "6979  131.555556        If I Were A Bell    77\n",
        "7078  137.875000        If I Were A Bell    77\n",
        "7286  170.583333        If I Were A Bell    70\n",
        "7294  171.875000        If I Were A Bell    63\n",
        "2849  126.875000     Stella By Starlight    65\n",
        "\n",
        "[25 rows x 3 columns]"
       ]
      }
     ],
     "prompt_number": 37
    },
    {
     "cell_type": "markdown",
     "metadata": {},
     "source": [
      "<p>The three examples show some of these examples. The last 3 notes in the first bar of Figue 3.x shows a preparation note of a Gb4 leading to an F4 (the root degree of the F7 dominant seventh chord), and resolving to an Eb4. In the second example, seen in Figure 3.x, the middle of the bar has a preparation note of Db5 leading to the root degree (this time the note C, the root degree of a C7 dominant seventh) resolving to a Bb4.</p>"
     ]
    },
    {
     "cell_type": "code",
     "collapsed": false,
     "input": [
      "print tab_fig.get_next_fig(3)"
     ],
     "language": "python",
     "metadata": {},
     "outputs": [
      {
       "output_type": "stream",
       "stream": "stdout",
       "text": [
        "Figure 3.9\n"
       ]
      }
     ],
     "prompt_number": 38
    },
    {
     "cell_type": "code",
     "collapsed": false,
     "input": [
      "select = mu_stella.parts[1].measures(126,127)\n",
      "select.show()"
     ],
     "language": "python",
     "metadata": {},
     "outputs": [
      {
       "metadata": {},
       "output_type": "pyout",
       "png": "[encoded data removed]",
       "prompt_number": 39,
       "text": [
        "<music21.ipython21.objects.IPythonPNGObject at 0x1223a7a50>"
       ]
      }
     ],
     "prompt_number": 39
    },
    {
     "cell_type": "code",
     "collapsed": false,
     "input": [
      "print tab_fig.get_next_fig(3)"
     ],
     "language": "python",
     "metadata": {},
     "outputs": [
      {
       "output_type": "stream",
       "stream": "stdout",
       "text": [
        "Figure 3.10\n"
       ]
      }
     ],
     "prompt_number": 40
    },
    {
     "cell_type": "code",
     "collapsed": false,
     "input": [
      "select = mu_groovin.parts[1].measures(90,91)\n",
      "select.show()"
     ],
     "language": "python",
     "metadata": {},
     "outputs": [
      {
       "metadata": {},
       "output_type": "pyout",
       "png": "[encoded data removed]",
       "prompt_number": 41,
       "text": [
        "<music21.ipython21.objects.IPythonPNGObject at 0x11d0b61d0>"
       ]
      }
     ],
     "prompt_number": 41
    },
    {
     "cell_type": "markdown",
     "metadata": {},
     "source": [
      "<p>The next example, Figure 3.x is almost identical to the one in the Figure 3.x above but the root note of D instead of C. Here, over a D7 chord the passage of notes is Eb5 followed by a to D5, followed by a C5.</p> "
     ]
    },
    {
     "cell_type": "code",
     "collapsed": false,
     "input": [
      "print tab_fig.get_next_fig(3)"
     ],
     "language": "python",
     "metadata": {},
     "outputs": [
      {
       "output_type": "stream",
       "stream": "stdout",
       "text": [
        "Figure 3.11\n"
       ]
      }
     ],
     "prompt_number": 42
    },
    {
     "cell_type": "code",
     "collapsed": false,
     "input": [
      "select = mu_autumn.parts[1].measures(38,39)\n",
      "select.show()"
     ],
     "language": "python",
     "metadata": {},
     "outputs": [
      {
       "metadata": {},
       "output_type": "pyout",
       "png": "[encoded data removed]",
       "prompt_number": 43,
       "text": [
        "<music21.ipython21.objects.IPythonPNGObject at 0x12296f690>"
       ]
      }
     ],
     "prompt_number": 43
    },
    {
     "cell_type": "markdown",
     "metadata": {},
     "source": [
      "<p>These examples are not only the same in terms of the thee notes passage they use. The data-set can yield other important pieces of information too. The use of this three-note structure happens only in passages where notes are of the same duration (i.e. all eighth-notes or quarter-notes). There are many instances in the data set where Jarrett plays far more freely with the time, (for example of playing groupings of five or seven notes and playing notes of different duration within the one phrase). In particular, at at slower tempos, this figure does not occur. The data-set also shows that there is no bias in terms of which particular root degree is chosen. Finally, Jarrett never uses this three-note structure in the first part of the bar and there is over a 90% chance that the root degree will on the beat when this three-note structure is used.</p> "
     ]
    },
    {
     "cell_type": "markdown",
     "metadata": {},
     "source": [
      "<p>It is worth pausing for a moment and considering just what this type of analysis has allowed us to do. Consider that one of the issues jazz musicians face, especially when they are first learning: the problem of not being able to play things that 'sound like jazz', even though they are using notes that are regarded as appropriate. The type of analysis being undertake allows musicians to go to take a far more nuanced approach. It shows that it is not about finding an appropriate note that might be played or which scale has the right notes, but rather about finding the correct placement of this note and the surrounding notes, and to easily see numerous examples. For aspiring jazz musicians, this type of analysis allows a just-in-time approach to learning how to improvise.</p>\n",
      "\n",
      "<p>This analysis also shows that, if it is possible to set the context and scope carefully in order to apply right kind of lens to the data, things start to become predictable. The exploration above has allowed us to find out that, if the root degree is played on a dominant chord, there is a 25% chance it will have been preceded by a note that is a semitone above. If that is the case, there is then a 30% chance it will be resolved to a note that two semitones below. If all of these things happen, then there is then a 100% chance that the notes are taking place in the middle to latter part of the bar, that they are in a passage of notes is equal duration, and a 90% chance the root degree will be on the beat. Having these kinds of probabilities being attached to this data opens the way to creating a sophisticated generative music model, which will be taken up in chapter 5.</p> "
     ]
    },
    {
     "cell_type": "markdown",
     "metadata": {},
     "source": [
      "<p>There are of course far more marginal things happening in this data-set in regard to how the root degree on the dominant seventh is used. Still considering the root degree being prepared from a semitone above, there is then only a three percent chance that it will then resolve up three semitones (only two instances in the entire data-set). It is worth investigating these to ascertain if there is something underlying this marginality. The first example is seen in Figure 3.x from <u>If I Were A Bell</u>. It shows the root note on a C dominant seventh leading to a Eb5. Intuitively, this three-note structure seems to arise as part of the requirements of the repetitive diatonic sequence (a very rare thing for rare for Jarrett to do). The usual behaviour of the root degree being prepared by a semitone above has been undermined by the requirements of the sequence.</p>"
     ]
    },
    {
     "cell_type": "code",
     "collapsed": false,
     "input": [
      "print tab_fig.get_next_fig(3)"
     ],
     "language": "python",
     "metadata": {},
     "outputs": [
      {
       "output_type": "stream",
       "stream": "stdout",
       "text": [
        "Figure 3.12\n"
       ]
      }
     ],
     "prompt_number": 44
    },
    {
     "cell_type": "code",
     "collapsed": false,
     "input": [
      "select = mu_if_i_were.parts[1].measures(15,16)\n",
      "select.show()"
     ],
     "language": "python",
     "metadata": {},
     "outputs": [
      {
       "metadata": {},
       "output_type": "pyout",
       "png": "[encoded data removed]",
       "prompt_number": 45,
       "text": [
        "<music21.ipython21.objects.IPythonPNGObject at 0x117b94b90>"
       ]
      }
     ],
     "prompt_number": 45
    },
    {
     "cell_type": "markdown",
     "metadata": {},
     "source": [
      "<p>The other example of the root degree being prepared from one semitone above, and then resolved to three semitones upwards, can be seen below in Figure 3.x. It occurs on an F dominant seventh chord. The data-set shows that it is extremely rare for Jarrett to play in the range around F3 where this example is taking place. A possible explanation for this marginal case is perhaps then related to the usual playing range of Jarrett's improvisations. In any case, what both of these examples suggest is that there are other factors in play here, other than the calculation of probabilities around three-note structures. The use of repetitive motifs (no matter rare they might be) and the practicalities of where the right hand is playing on the piano,both appear to have some (albeit limited) bearing on note choice. In the following chapter I will take up these issues in more detail but the point to make here is that the marginal preparations and resolutions do not occur for simply no reason: there are influencing factors driving all of these decisions.</p> "
     ]
    },
    {
     "cell_type": "code",
     "collapsed": false,
     "input": [
      "print tab_fig.get_next_fig(3)"
     ],
     "language": "python",
     "metadata": {},
     "outputs": [
      {
       "output_type": "stream",
       "stream": "stdout",
       "text": [
        "Figure 3.13\n"
       ]
      }
     ],
     "prompt_number": 46
    },
    {
     "cell_type": "code",
     "collapsed": false,
     "input": [
      "select = mu_autumn.parts[1].measures(98,99)\n",
      "select.show()"
     ],
     "language": "python",
     "metadata": {},
     "outputs": [
      {
       "metadata": {},
       "output_type": "pyout",
       "png": "[encoded data removed]",
       "prompt_number": 47,
       "text": [
        "<music21.ipython21.objects.IPythonPNGObject at 0x117c95150>"
       ]
      }
     ],
     "prompt_number": 47
    },
    {
     "cell_type": "markdown",
     "metadata": {},
     "source": [
      "<p>It is possible to invert the approach we have been taking toward this analysis. Rather than focusing just on the different types of preparations, it is possible to examine the data-set from the point of view of the resolutions of the root degree, to explore what kind of preparations they are likely to have. Table 3.x below shows a summary of those cases where the root degree is resolved to a note that is two semitones above (for example a C4 note being followed by D4 note on a C dominant seventh chord), and all of its possible preparations. The resolution to two semitones above is not common, but particularly interesting as it shows the use of a natural ninth (the D4 resolution note in the example) being used on a dominant chord. The natural ninth is not usually cited as an ideal note choice for a dominant chord and most instructional texts will instead favor the use of the sharp or flat ninth as they appear in scales choices more often associated with the improvising over the dominant chord (such as the altered scale).</p>"
     ]
    },
    {
     "cell_type": "code",
     "collapsed": false,
     "input": [
      "print tab_fig.get_next_tab(3)"
     ],
     "language": "python",
     "metadata": {},
     "outputs": [
      {
       "output_type": "stream",
       "stream": "stdout",
       "text": [
        "Table 3.10\n"
       ]
      }
     ],
     "prompt_number": 48
    },
    {
     "cell_type": "code",
     "collapsed": false,
     "input": [
      "data_set[data_set.dist_note_to_root == 0] \\\n",
      "[data_set.chord_type=='dominant_seventh'][data_set.res == 2] \\\n",
      "[data_set.p_offset <= 0.5].groupby(['res', 'prep']).count().sort('note', ascending = False).iloc[:,1:2]"
     ],
     "language": "python",
     "metadata": {},
     "outputs": [
      {
       "html": [
        "<div style=\"max-height:1000px;max-width:1500px;overflow:auto;\">\n",
        "<table border=\"1\" class=\"dataframe\">\n",
        "  <thead>\n",
        "    <tr style=\"text-align: right;\">\n",
        "      <th></th>\n",
        "      <th></th>\n",
        "      <th>note</th>\n",
        "    </tr>\n",
        "    <tr>\n",
        "      <th>res</th>\n",
        "      <th>prep</th>\n",
        "      <th></th>\n",
        "    </tr>\n",
        "  </thead>\n",
        "  <tbody>\n",
        "    <tr>\n",
        "      <th rowspan=\"8\" valign=\"top\">2</th>\n",
        "      <th>-2</th>\n",
        "      <td> 9</td>\n",
        "    </tr>\n",
        "    <tr>\n",
        "      <th> 2</th>\n",
        "      <td> 2</td>\n",
        "    </tr>\n",
        "    <tr>\n",
        "      <th> 7</th>\n",
        "      <td> 1</td>\n",
        "    </tr>\n",
        "    <tr>\n",
        "      <th> 4</th>\n",
        "      <td> 1</td>\n",
        "    </tr>\n",
        "    <tr>\n",
        "      <th> 1</th>\n",
        "      <td> 1</td>\n",
        "    </tr>\n",
        "    <tr>\n",
        "      <th>-1</th>\n",
        "      <td> 1</td>\n",
        "    </tr>\n",
        "    <tr>\n",
        "      <th>-5</th>\n",
        "      <td> 1</td>\n",
        "    </tr>\n",
        "    <tr>\n",
        "      <th>-7</th>\n",
        "      <td> 1</td>\n",
        "    </tr>\n",
        "  </tbody>\n",
        "</table>\n",
        "<p>8 rows \u00d7 1 columns</p>\n",
        "</div>"
       ],
       "metadata": {},
       "output_type": "pyout",
       "prompt_number": 49,
       "text": [
        "          note\n",
        "res prep      \n",
        "2   -2       9\n",
        "     2       2\n",
        "     7       1\n",
        "     4       1\n",
        "     1       1\n",
        "    -1       1\n",
        "    -5       1\n",
        "    -7       1\n",
        "\n",
        "[8 rows x 1 columns]"
       ]
      }
     ],
     "prompt_number": 49
    },
    {
     "cell_type": "markdown",
     "metadata": {},
     "source": [
      "<p>Looking at the probabilities generated by the table above, it can be seen that when the root note on the dominant seventh is resolved to two semitones above, there is a more than 50% chance that the root degree would have been prepared from tw semitones below. An example of this can be seen below in Figure 3.x which shows the root note of a Bb dominant seventh chord, being resolved to a C5, after being prepared by Ab4.</p>"
     ]
    },
    {
     "cell_type": "code",
     "collapsed": false,
     "input": [
      "print tab_fig.get_next_fig(3)"
     ],
     "language": "python",
     "metadata": {},
     "outputs": [
      {
       "output_type": "stream",
       "stream": "stdout",
       "text": [
        "Figure 3.14\n"
       ]
      }
     ],
     "prompt_number": 50
    },
    {
     "cell_type": "code",
     "collapsed": false,
     "input": [
      "select = mu_if_i_were.parts[1].measures(148,150)\n",
      "select.show()"
     ],
     "language": "python",
     "metadata": {},
     "outputs": [
      {
       "metadata": {},
       "output_type": "pyout",
       "png": "[encoded data removed]",
       "prompt_number": 51,
       "text": [
        "<music21.ipython21.objects.IPythonPNGObject at 0x10cd50610>"
       ]
      }
     ],
     "prompt_number": 51
    },
    {
     "cell_type": "markdown",
     "metadata": {},
     "source": [
      "<p>The use of the ninth degree will be taken up in more detail in a later section, but what is interesting to note here (and this holds for all of the examples) is that when this three-note structure is used, it is part of of a diatonic passage (using the scale of Eb Major in the example above and the scale of Bb Major in the example below). A major scale (or any other scale) is an arbitrary sctructure, a cultural construct though is often used to explain or explore music theory (Vanderlay, 98). Although the data-set completely invalidates the notion that note choices are being driven by scales, scalar passages do still emerge. The data-set shows that the major scale is employed as an idiomatic device in some phrases of the solos. The use of the root degree in conjunction with a preparatory note two semitones below and and a resolution note two semitones above, usually being found within larger phrases is shows this this idiomatic device at work. A second example of this can be seen in the second bar of the excerpt below in Figure 3.x at the end of the second bar.</p>"
     ]
    },
    {
     "cell_type": "code",
     "collapsed": false,
     "input": [
      "print tab_fig.get_next_fig(3)"
     ],
     "language": "python",
     "metadata": {},
     "outputs": [
      {
       "output_type": "stream",
       "stream": "stdout",
       "text": [
        "Figure 3.15\n"
       ]
      }
     ],
     "prompt_number": 52
    },
    {
     "cell_type": "code",
     "collapsed": false,
     "input": [
      "select = mu_if_i_were.parts[1].measures(164,166)\n",
      "select.show()"
     ],
     "language": "python",
     "metadata": {},
     "outputs": [
      {
       "metadata": {},
       "output_type": "pyout",
       "png": "[encoded data removed]",
       "prompt_number": 53,
       "text": [
        "<music21.ipython21.objects.IPythonPNGObject at 0x117b94810>"
       ]
      }
     ],
     "prompt_number": 53
    },
    {
     "cell_type": "markdown",
     "metadata": {},
     "source": [
      "<p>Before moving on to the various uses of the fifth degree on the dominant seventh, one further example will be considered. This can be seen in Figure 3.x. below. Although the first bar of this example is taking place on an F dominant seventh, the melodic phrase is far more typical occur on a minor seventh chord (in this C minor chord). A possible reason for this is that the II-V-I progression is ubiquituous in the solos and jazz more generally. So the notes of a II chord will often be super-imposed on the first part of the bar of the V chord. This is a typical device used in jazz, a kind of super-imposition of the sound of one chord on an other. This device is often called reharmonisation and in Chapter V we will explore how Jarrett uses this in more detail.</p>  "
     ]
    },
    {
     "cell_type": "code",
     "collapsed": false,
     "input": [
      "print tab_fig.get_next_fig(3)"
     ],
     "language": "python",
     "metadata": {},
     "outputs": [
      {
       "output_type": "stream",
       "stream": "stdout",
       "text": [
        "Figure 3.16\n"
       ]
      }
     ],
     "prompt_number": 54
    },
    {
     "cell_type": "code",
     "collapsed": false,
     "input": [
      "select = mu_stella.parts[1].measures(94,96)\n",
      "select.show()"
     ],
     "language": "python",
     "metadata": {},
     "outputs": [
      {
       "metadata": {},
       "output_type": "pyout",
       "png": "[encoded data removed]",
       "prompt_number": 55,
       "text": [
        "<music21.ipython21.objects.IPythonPNGObject at 0x123c1d650>"
       ]
      }
     ],
     "prompt_number": 55
    },
    {
     "cell_type": "markdown",
     "metadata": {},
     "source": [
      "<hr><a href=\"http://localhost:8888/notebooks/Chapter%202%20%26%203%20Methodology%20and%20Harmonic%20Analyisis.ipynb#Chapter-3-Harmonic-Analysis\">test doc hyperlink...</a>\n",
      "<h4>Footnotes Chapter 3</h4>\n",
      "<p>[1] Note that offset has here been set to less than or equal to 9.5</p>"
     ]
    }
   ],
   "metadata": {}
  }
 ]
}