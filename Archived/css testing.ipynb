{
 "metadata": {
  "name": "",
  "signature": "sha256:3934393fa07396b2bc4c5b5e21282a858a08fec7e3d88fcace5c07f628b62522"
 },
 "nbformat": 3,
 "nbformat_minor": 0,
 "worksheets": [
  {
   "cells": [
    {
     "cell_type": "code",
     "collapsed": false,
     "input": [
      "%%bash \n",
      "curl  --noproxy localhost  http://localhost:8888/static/custom/custom.css"
     ],
     "language": "python",
     "metadata": {},
     "outputs": [
      {
       "output_type": "stream",
       "stream": "stdout",
       "text": [
        "/*\n",
        "Placeholder for custom user CSS\n",
        "\n",
        "mainly to be overridden in profile/static/custom/custom.css\n",
        "\n",
        "This will always be an empty file in IPython\n",
        "*/\n",
        "\n",
        "<style>\n",
        "    div.cell{\n",
        "        width:210mm\n",
        "        margin-left:auto;\n",
        "        margin-right:auto;\n",
        "    }\n",
        "p {\n",
        "  \n",
        "\tfont-family: \"Charis SIL\", serif;\n",
        "\ttext-align:center;\n",
        "\twidth: 210mm;\n",
        "}\n",
        "\n",
        "    h1 {\n",
        "        text-align:center;\n",
        "        font-family:courier;\n",
        "    }\n",
        "</style>"
       ]
      },
      {
       "output_type": "stream",
       "stream": "stderr",
       "text": [
        "  % Total    % Received % Xferd  Average Speed   Time    Time     Time  Current\n",
        "                                 Dload  Upload   Total   Spent    Left  Speed\n",
        "\r",
        "  0     0    0     0    0     0      0      0 --:--:-- --:--:-- --:--:--     0\r",
        "100   406  100   406    0     0   171k      0 --:--:-- --:--:-- --:--:--  198k\n"
       ]
      }
     ],
     "prompt_number": 1
    },
    {
     "cell_type": "markdown",
     "metadata": {},
     "source": [
      "<h1>asdfasdf</h1>"
     ]
    },
    {
     "cell_type": "markdown",
     "metadata": {},
     "source": [
      "Asymmetrical locavore stumptown Vice. Sartorial Truffaut disrupt normcore pour-over Etsy hashtag, Thundercats raw denim artisan freegan Shoreditch plaid. Pug kitsch keffiyeh Tumblr McSweeney's cardigan, cliche church-key actually cred. Sriracha High Life Brooklyn Godard, Marfa kogi chillwave swag tattooed squid cray selfies. Jean shorts Kickstarter meggings typewriter. PBR normcore butcher crucifix, keytar semiotics meggings Schlitz letterpress sartorial Austin aesthetic brunch. Squid stumptown chambray, kitsch crucifix iPhone literally slow-carb Tumblr DIY Etsy craft beer 8-bit.\n",
      "\n",
      "Pop-up 8-bit banjo you probably haven't heard of them before they sold out butcher sriracha, chia crucifix bitters. Narwhal normcore beard skateboard, selvage kitsch scenester Echo Park yr Shoreditch messenger bag gluten-free. Post-ironic street art YOLO, lo-fi sriracha chambray fap. Tonx Carles butcher, hoodie Thundercats church-key pickled meh ethnic typewriter pour-over blog. Hella drinking vinegar kitsch farm-to-table Carles irony. Keffiyeh cornhole wolf, typewriter authentic hella retro disrupt you probably haven't heard of them. Carles locavore mumblecore disrupt."
     ]
    },
    {
     "cell_type": "code",
     "collapsed": false,
     "input": [],
     "language": "python",
     "metadata": {},
     "outputs": []
    }
   ],
   "metadata": {}
  }
 ]
}