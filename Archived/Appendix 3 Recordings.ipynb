{
 "metadata": {
  "name": "",
  "signature": "sha256:fdea1171fd84d16fa1a3b9040446e7be7293ab8b17294be6142ee2377b8f6ca0"
 },
 "nbformat": 3,
 "nbformat_minor": 0,
 "worksheets": [
  {
   "cells": [
    {
     "cell_type": "code",
     "collapsed": false,
     "input": [],
     "language": "python",
     "metadata": {},
     "outputs": []
    }
   ],
   "metadata": {}
  }
 ]
}