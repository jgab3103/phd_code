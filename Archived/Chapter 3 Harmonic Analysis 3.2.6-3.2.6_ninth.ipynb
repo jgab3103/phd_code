{
 "metadata": {
  "name": "",
  "signature": "sha256:407143b9a32729ff5dc7230416bcd38582774438438ce1a49c933cdfd06ebe74"
 },
 "nbformat": 3,
 "nbformat_minor": 0,
 "worksheets": [
  {
   "cells": [
    {
     "cell_type": "code",
     "collapsed": false,
     "input": [
      "import music21 as mu\n",
      "import numpy as np\n",
      "import pandas as pd\n",
      "%pylab inline\n",
      "from IPython.core.display import HTML\n",
      "from IPython.core.display import Image \n",
      "%load_ext music21.ipython21.ipExtension"
     ],
     "language": "python",
     "metadata": {},
     "outputs": [
      {
       "output_type": "stream",
       "stream": "stdout",
       "text": [
        "Populating the interactive namespace from numpy and matplotlib\n"
       ]
      }
     ],
     "prompt_number": 2
    },
    {
     "cell_type": "code",
     "collapsed": false,
     "input": [
      "#utility method to track tables and figures in document\n",
      "class TableFigureCounter:\n",
      "    def __init__(self):\n",
      "        self.tab_count = 0\n",
      "        self.fig_count = 0\n",
      "    def get_next_tab(self, chapter=None):\n",
      "        self.tab_count = self.tab_count + 1\n",
      "        return 'Table ' + str(chapter) + '.' + str(self.tab_count)        \n",
      "    def get_next_fig(self, chapter=None):\n",
      "        self.fig_count = self.fig_count + 1\n",
      "        return 'Figure ' + str(chapter) + '.' + str(self.fig_count)\n",
      "    def reset(self):\n",
      "        self.tab_count = 0\n",
      "        self.fig_count = 0"
     ],
     "language": "python",
     "metadata": {},
     "outputs": [],
     "prompt_number": 3
    },
    {
     "cell_type": "code",
     "collapsed": false,
     "input": [
      "#load saved data\n",
      "data_set = pd.read_pickle('data_set_as_pk.pkl')\n",
      "mu_stella = mu.converter.parse('xml_files/stella_by_starlight.xml')\n",
      "mu_autumn = mu.converter.parse('xml_files/autumn_leaves_v2.xml')\n",
      "mu_if_i_were = mu.converter.parse('xml_files/if_i_were_a_bell.xml')\n",
      "mu_groovin = mu.converter.parse('xml_files/groovin_high.xml')\n",
      "mu_all_the_things = mu.converter.parse('xml_files/all_the_things_you_are.xml')"
     ],
     "language": "python",
     "metadata": {},
     "outputs": [],
     "prompt_number": 4
    },
    {
     "cell_type": "code",
     "collapsed": false,
     "input": [
      "tab_fig = TableFigureCounter()"
     ],
     "language": "python",
     "metadata": {},
     "outputs": [],
     "prompt_number": 5
    },
    {
     "cell_type": "markdown",
     "metadata": {},
     "source": [
      "<h3>3.2.6 Using the ninth in the Dominant Seventh Chord</h3>"
     ]
    },
    {
     "cell_type": "code",
     "collapsed": false,
     "input": [
      "print tab_fig.get_next_fig(3)"
     ],
     "language": "python",
     "metadata": {},
     "outputs": [
      {
       "output_type": "stream",
       "stream": "stdout",
       "text": [
        "Figure 3.1\n"
       ]
      }
     ],
     "prompt_number": 6
    },
    {
     "cell_type": "code",
     "collapsed": false,
     "input": [
      "select = mu_all_the_things.parts[1].measures(108,110)\n",
      "select.show()\n",
      "#Figure 3.7\n",
      "#Progression Em7b5 | A7 | Cm\n",
      "#Stella By Starlight (bars, 1-3)"
     ],
     "language": "python",
     "metadata": {},
     "outputs": [
      {
       "metadata": {},
       "output_type": "pyout",
       "png": "[encoded data removed]",
       "prompt_number": 7,
       "text": [
        "<music21.ipython21.objects.IPythonPNGObject at 0x1240a6090>"
       ]
      }
     ],
     "prompt_number": 7
    },
    {
     "cell_type": "code",
     "collapsed": false,
     "input": [],
     "language": "python",
     "metadata": {},
     "outputs": [],
     "prompt_number": 7
    },
    {
     "cell_type": "markdown",
     "metadata": {},
     "source": [
      "<h4>3.2.6.1 Preparation and Resolution of the ninth in the dominant chord</h4>\n",
      "<p>The ninth in the dominant chord has very clear pathways defined, once again the tendacny of each note, distribution is tend to occur, and as to be expected, see that with the less common notes, there is a less likely that they will move in thirds. This is still prevalent at this stage but it is starting to break down. The ninth (for example a D5 played on CDom 7 chord is most often preceeded by a F5 in this case, of the eleventh. This is the first time introduced, changes the underlying nature of the chord and the idea of reharmonisation. Is this reharmonisation? Figure 3.x shows this very common device. Is this still a CDominant seventh chord, has its quality been altered. The variion is in place All the preparations (listed in Table 3.x) there are less possibilites than the 5th of dominant seventh chord. After the possibility of preparation from 5 semitones above (for example a G5 preparing a D5) all the preparations are marginal and exceptions </p>"
     ]
    },
    {
     "cell_type": "code",
     "collapsed": false,
     "input": [
      "data_set[data_set.dist_note_to_root == 2]\\\n",
      "[data_set.chord_type=='dominant_seventh']\\\n",
      "[data_set.p_offset <= 0.5]\\\n",
      "[data_set.r_offset <= 0.5].prep.value_counts().plot(kind='bar')"
     ],
     "language": "python",
     "metadata": {},
     "outputs": [
      {
       "output_type": "stream",
       "stream": "stderr",
       "text": [
        "/Users/jamiegabriel/anaconda/lib/python2.7/site-packages/pandas/core/frame.py:1686: UserWarning: Boolean Series key will be reindexed to match DataFrame index.\n",
        "  \"DataFrame index.\", UserWarning)\n"
       ]
      },
      {
       "metadata": {},
       "output_type": "pyout",
       "prompt_number": 8,
       "text": [
        "<matplotlib.axes.AxesSubplot at 0x124125c90>"
       ]
      },
      {
       "metadata": {},
       "output_type": "display_data",
       "png": "[encoded data removed]",
       "text": [
        "<matplotlib.figure.Figure at 0x124125850>"
       ]
      }
     ],
     "prompt_number": 8
    },
    {
     "cell_type": "markdown",
     "metadata": {},
     "source": [
      "<p>Table 3.x lists the possible resolutions of the ninth on the dominant chord. There is clear majority here that the resolution wil be to an semitone higher (for example a D5 leading to an Eb5 on a CDom7 chord. This is fairly unexpected but shows Jarrett again using what could be considered an altered note (the sharp-ninth or Eb in this case) in conjunction with the ninth (the D5 here). There is more variation the possible ways to resolve the ninth that prepare it.</p>"
     ]
    },
    {
     "cell_type": "code",
     "collapsed": false,
     "input": [
      "data_set[data_set.dist_note_to_root == 2]\\\n",
      "[data_set.chord_type=='dominant_seventh']\\\n",
      "[data_set.p_offset <= 0.5]\\\n",
      "[data_set.r_offset <= 0.5].res.value_counts().plot(kind='bar')"
     ],
     "language": "python",
     "metadata": {},
     "outputs": [
      {
       "metadata": {},
       "output_type": "pyout",
       "prompt_number": 9,
       "text": [
        "<matplotlib.axes.AxesSubplot at 0x11edcb710>"
       ]
      },
      {
       "metadata": {},
       "output_type": "display_data",
       "png": "[encoded data removed]",
       "text": [
        "<matplotlib.figure.Figure at 0x10abf1190>"
       ]
      }
     ],
     "prompt_number": 9
    },
    {
     "cell_type": "markdown",
     "metadata": {},
     "source": [
      "<h4>3.2.6.2 Preparation of the ninth on the dominant chord</h4>"
     ]
    },
    {
     "cell_type": "markdown",
     "metadata": {},
     "source": [
      "<p>Clearly the most common way the ninth is prepard is from 3 semitones above. Table 3.x below shows typical patterns "
     ]
    },
    {
     "cell_type": "code",
     "collapsed": false,
     "input": [
      "data_set[data_set.dist_note_to_root == 2] \\\n",
      "[data_set.chord_type=='dominant_seventh'][data_set.prep == 3] \\\n",
      "[data_set.p_offset <= 0.5].groupby(['prep', 'res']).count().sort('note', ascending = False)\n",
      "#Table 3.7"
     ],
     "language": "python",
     "metadata": {},
     "outputs": [
      {
       "html": [
        "<div style=\"max-height:1000px;max-width:1500px;overflow:auto;\">\n",
        "<table border=\"1\" class=\"dataframe\">\n",
        "  <thead>\n",
        "    <tr style=\"text-align: right;\">\n",
        "      <th></th>\n",
        "      <th></th>\n",
        "      <th>location</th>\n",
        "      <th>note</th>\n",
        "      <th>part</th>\n",
        "      <th>root</th>\n",
        "      <th>third</th>\n",
        "      <th>fifth</th>\n",
        "      <th>seventh</th>\n",
        "      <th>measure</th>\n",
        "      <th>prep</th>\n",
        "      <th>res</th>\n",
        "      <th>p_offset</th>\n",
        "      <th>r_offset</th>\n",
        "      <th>chord_type</th>\n",
        "      <th>dist_note_to_root</th>\n",
        "      <th>current_tempo</th>\n",
        "      <th>c_measure</th>\n",
        "      <th>name</th>\n",
        "    </tr>\n",
        "    <tr>\n",
        "      <th>prep</th>\n",
        "      <th>res</th>\n",
        "      <th></th>\n",
        "      <th></th>\n",
        "      <th></th>\n",
        "      <th></th>\n",
        "      <th></th>\n",
        "      <th></th>\n",
        "      <th></th>\n",
        "      <th></th>\n",
        "      <th></th>\n",
        "      <th></th>\n",
        "      <th></th>\n",
        "      <th></th>\n",
        "      <th></th>\n",
        "      <th></th>\n",
        "      <th></th>\n",
        "      <th></th>\n",
        "      <th></th>\n",
        "    </tr>\n",
        "  </thead>\n",
        "  <tbody>\n",
        "    <tr>\n",
        "      <th rowspan=\"11\" valign=\"top\">3</th>\n",
        "      <th> 1 </th>\n",
        "      <td> 16</td>\n",
        "      <td> 16</td>\n",
        "      <td> 16</td>\n",
        "      <td> 16</td>\n",
        "      <td> 16</td>\n",
        "      <td> 16</td>\n",
        "      <td> 16</td>\n",
        "      <td> 16</td>\n",
        "      <td> 16</td>\n",
        "      <td> 16</td>\n",
        "      <td> 16</td>\n",
        "      <td> 16</td>\n",
        "      <td> 16</td>\n",
        "      <td> 16</td>\n",
        "      <td> 16</td>\n",
        "      <td> 16</td>\n",
        "      <td> 16</td>\n",
        "    </tr>\n",
        "    <tr>\n",
        "      <th>-4 </th>\n",
        "      <td>  8</td>\n",
        "      <td>  8</td>\n",
        "      <td>  8</td>\n",
        "      <td>  8</td>\n",
        "      <td>  8</td>\n",
        "      <td>  8</td>\n",
        "      <td>  8</td>\n",
        "      <td>  8</td>\n",
        "      <td>  8</td>\n",
        "      <td>  8</td>\n",
        "      <td>  8</td>\n",
        "      <td>  8</td>\n",
        "      <td>  8</td>\n",
        "      <td>  8</td>\n",
        "      <td>  8</td>\n",
        "      <td>  8</td>\n",
        "      <td>  8</td>\n",
        "    </tr>\n",
        "    <tr>\n",
        "      <th> 2 </th>\n",
        "      <td>  7</td>\n",
        "      <td>  7</td>\n",
        "      <td>  7</td>\n",
        "      <td>  7</td>\n",
        "      <td>  7</td>\n",
        "      <td>  7</td>\n",
        "      <td>  7</td>\n",
        "      <td>  7</td>\n",
        "      <td>  7</td>\n",
        "      <td>  7</td>\n",
        "      <td>  7</td>\n",
        "      <td>  7</td>\n",
        "      <td>  7</td>\n",
        "      <td>  7</td>\n",
        "      <td>  7</td>\n",
        "      <td>  7</td>\n",
        "      <td>  7</td>\n",
        "    </tr>\n",
        "    <tr>\n",
        "      <th> 3 </th>\n",
        "      <td>  3</td>\n",
        "      <td>  3</td>\n",
        "      <td>  3</td>\n",
        "      <td>  3</td>\n",
        "      <td>  3</td>\n",
        "      <td>  3</td>\n",
        "      <td>  3</td>\n",
        "      <td>  3</td>\n",
        "      <td>  3</td>\n",
        "      <td>  3</td>\n",
        "      <td>  3</td>\n",
        "      <td>  3</td>\n",
        "      <td>  3</td>\n",
        "      <td>  3</td>\n",
        "      <td>  3</td>\n",
        "      <td>  3</td>\n",
        "      <td>  3</td>\n",
        "    </tr>\n",
        "    <tr>\n",
        "      <th>-2 </th>\n",
        "      <td>  3</td>\n",
        "      <td>  3</td>\n",
        "      <td>  3</td>\n",
        "      <td>  3</td>\n",
        "      <td>  3</td>\n",
        "      <td>  3</td>\n",
        "      <td>  3</td>\n",
        "      <td>  3</td>\n",
        "      <td>  3</td>\n",
        "      <td>  3</td>\n",
        "      <td>  3</td>\n",
        "      <td>  3</td>\n",
        "      <td>  3</td>\n",
        "      <td>  3</td>\n",
        "      <td>  3</td>\n",
        "      <td>  3</td>\n",
        "      <td>  3</td>\n",
        "    </tr>\n",
        "    <tr>\n",
        "      <th>-3 </th>\n",
        "      <td>  2</td>\n",
        "      <td>  2</td>\n",
        "      <td>  2</td>\n",
        "      <td>  2</td>\n",
        "      <td>  2</td>\n",
        "      <td>  2</td>\n",
        "      <td>  2</td>\n",
        "      <td>  2</td>\n",
        "      <td>  2</td>\n",
        "      <td>  2</td>\n",
        "      <td>  2</td>\n",
        "      <td>  2</td>\n",
        "      <td>  2</td>\n",
        "      <td>  2</td>\n",
        "      <td>  2</td>\n",
        "      <td>  2</td>\n",
        "      <td>  2</td>\n",
        "    </tr>\n",
        "    <tr>\n",
        "      <th> 14</th>\n",
        "      <td>  1</td>\n",
        "      <td>  1</td>\n",
        "      <td>  1</td>\n",
        "      <td>  1</td>\n",
        "      <td>  1</td>\n",
        "      <td>  1</td>\n",
        "      <td>  1</td>\n",
        "      <td>  1</td>\n",
        "      <td>  1</td>\n",
        "      <td>  1</td>\n",
        "      <td>  1</td>\n",
        "      <td>  1</td>\n",
        "      <td>  1</td>\n",
        "      <td>  1</td>\n",
        "      <td>  1</td>\n",
        "      <td>  1</td>\n",
        "      <td>  1</td>\n",
        "    </tr>\n",
        "    <tr>\n",
        "      <th> 10</th>\n",
        "      <td>  1</td>\n",
        "      <td>  1</td>\n",
        "      <td>  1</td>\n",
        "      <td>  1</td>\n",
        "      <td>  1</td>\n",
        "      <td>  1</td>\n",
        "      <td>  1</td>\n",
        "      <td>  1</td>\n",
        "      <td>  1</td>\n",
        "      <td>  1</td>\n",
        "      <td>  1</td>\n",
        "      <td>  1</td>\n",
        "      <td>  1</td>\n",
        "      <td>  1</td>\n",
        "      <td>  1</td>\n",
        "      <td>  1</td>\n",
        "      <td>  1</td>\n",
        "    </tr>\n",
        "    <tr>\n",
        "      <th> 8 </th>\n",
        "      <td>  1</td>\n",
        "      <td>  1</td>\n",
        "      <td>  1</td>\n",
        "      <td>  1</td>\n",
        "      <td>  1</td>\n",
        "      <td>  1</td>\n",
        "      <td>  1</td>\n",
        "      <td>  1</td>\n",
        "      <td>  1</td>\n",
        "      <td>  1</td>\n",
        "      <td>  1</td>\n",
        "      <td>  1</td>\n",
        "      <td>  1</td>\n",
        "      <td>  1</td>\n",
        "      <td>  1</td>\n",
        "      <td>  1</td>\n",
        "      <td>  1</td>\n",
        "    </tr>\n",
        "    <tr>\n",
        "      <th> 5 </th>\n",
        "      <td>  1</td>\n",
        "      <td>  1</td>\n",
        "      <td>  1</td>\n",
        "      <td>  1</td>\n",
        "      <td>  1</td>\n",
        "      <td>  1</td>\n",
        "      <td>  1</td>\n",
        "      <td>  1</td>\n",
        "      <td>  1</td>\n",
        "      <td>  1</td>\n",
        "      <td>  1</td>\n",
        "      <td>  1</td>\n",
        "      <td>  1</td>\n",
        "      <td>  1</td>\n",
        "      <td>  1</td>\n",
        "      <td>  1</td>\n",
        "      <td>  1</td>\n",
        "    </tr>\n",
        "    <tr>\n",
        "      <th> 4 </th>\n",
        "      <td>  1</td>\n",
        "      <td>  1</td>\n",
        "      <td>  1</td>\n",
        "      <td>  1</td>\n",
        "      <td>  1</td>\n",
        "      <td>  1</td>\n",
        "      <td>  1</td>\n",
        "      <td>  1</td>\n",
        "      <td>  1</td>\n",
        "      <td>  1</td>\n",
        "      <td>  1</td>\n",
        "      <td>  1</td>\n",
        "      <td>  1</td>\n",
        "      <td>  1</td>\n",
        "      <td>  1</td>\n",
        "      <td>  1</td>\n",
        "      <td>  1</td>\n",
        "    </tr>\n",
        "  </tbody>\n",
        "</table>\n",
        "<p>11 rows \u00d7 17 columns</p>\n",
        "</div>"
       ],
       "metadata": {},
       "output_type": "pyout",
       "prompt_number": 10,
       "text": [
        "          location  note  part  root  third  fifth  seventh  measure  prep  \\\n",
        "prep res                                                                     \n",
        "3     1         16    16    16    16     16     16       16       16    16   \n",
        "     -4          8     8     8     8      8      8        8        8     8   \n",
        "      2          7     7     7     7      7      7        7        7     7   \n",
        "      3          3     3     3     3      3      3        3        3     3   \n",
        "     -2          3     3     3     3      3      3        3        3     3   \n",
        "     -3          2     2     2     2      2      2        2        2     2   \n",
        "      14         1     1     1     1      1      1        1        1     1   \n",
        "      10         1     1     1     1      1      1        1        1     1   \n",
        "      8          1     1     1     1      1      1        1        1     1   \n",
        "      5          1     1     1     1      1      1        1        1     1   \n",
        "      4          1     1     1     1      1      1        1        1     1   \n",
        "\n",
        "          res  p_offset  r_offset  chord_type  dist_note_to_root  \\\n",
        "prep res                                                           \n",
        "3     1    16        16        16          16                 16   \n",
        "     -4     8         8         8           8                  8   \n",
        "      2     7         7         7           7                  7   \n",
        "      3     3         3         3           3                  3   \n",
        "     -2     3         3         3           3                  3   \n",
        "     -3     2         2         2           2                  2   \n",
        "      14    1         1         1           1                  1   \n",
        "      10    1         1         1           1                  1   \n",
        "      8     1         1         1           1                  1   \n",
        "      5     1         1         1           1                  1   \n",
        "      4     1         1         1           1                  1   \n",
        "\n",
        "          current_tempo  c_measure  name  \n",
        "prep res                                  \n",
        "3     1              16         16    16  \n",
        "     -4               8          8     8  \n",
        "      2               7          7     7  \n",
        "      3               3          3     3  \n",
        "     -2               3          3     3  \n",
        "     -3               2          2     2  \n",
        "      14              1          1     1  \n",
        "      10              1          1     1  \n",
        "      8               1          1     1  \n",
        "      5               1          1     1  \n",
        "      4               1          1     1  \n",
        "\n",
        "[11 rows x 17 columns]"
       ]
      }
     ],
     "prompt_number": 10
    },
    {
     "cell_type": "markdown",
     "metadata": {},
     "source": [
      "<p>Examples of this can be seen below and its worth looking closely at a number of examples where a ninth is prepared a minor third upwards and resolved a semitone upwards, typical along with typical resolutions and that the most common movement is a passage of a minor third above, resolving to to a semitone above some examples can be seen below. What is these three examples is that they all part of identical 4 note phrases and this is used by Jarrett fairly often. Note that all the phrases are quite different. This is leads ot the hypothesis that Jarrett will do farily idomatic things for the duration of 3 of notes, before moving to another, so the phrases are extremely modular, connecting micro-phrases together</p>"
     ]
    },
    {
     "cell_type": "code",
     "collapsed": false,
     "input": [
      "print tab_fig.get_next_fig(3)"
     ],
     "language": "python",
     "metadata": {},
     "outputs": [
      {
       "output_type": "stream",
       "stream": "stdout",
       "text": [
        "Figure 3.2\n"
       ]
      }
     ],
     "prompt_number": 11
    },
    {
     "cell_type": "code",
     "collapsed": false,
     "input": [
      "select = mu_autumn.parts[1].measures(50,51)\n",
      "select.show()\n",
      "#E note from G resoling to F"
     ],
     "language": "python",
     "metadata": {},
     "outputs": [
      {
       "metadata": {},
       "output_type": "pyout",
       "png": "[encoded data removed]",
       "prompt_number": 12,
       "text": [
        "<music21.ipython21.objects.IPythonPNGObject at 0x111c60250>"
       ]
      }
     ],
     "prompt_number": 12
    },
    {
     "cell_type": "code",
     "collapsed": false,
     "input": [
      "print tab_fig.get_next_fig(3)"
     ],
     "language": "python",
     "metadata": {},
     "outputs": [
      {
       "output_type": "stream",
       "stream": "stdout",
       "text": [
        "Figure 3.3\n"
       ]
      }
     ],
     "prompt_number": 13
    },
    {
     "cell_type": "code",
     "collapsed": false,
     "input": [
      "select = mu_stella.parts[1].measures(126,127)\n",
      "select.show()\n",
      "#F7 chord prep from Bb gonig to G#"
     ],
     "language": "python",
     "metadata": {},
     "outputs": [
      {
       "metadata": {},
       "output_type": "pyout",
       "png": "[encoded data removed]",
       "prompt_number": 14,
       "text": [
        "<music21.ipython21.objects.IPythonPNGObject at 0x10bf48590>"
       ]
      }
     ],
     "prompt_number": 14
    },
    {
     "cell_type": "code",
     "collapsed": false,
     "input": [
      "print tab_fig.get_next_fig(3)"
     ],
     "language": "python",
     "metadata": {},
     "outputs": [
      {
       "output_type": "stream",
       "stream": "stdout",
       "text": [
        "Figure 3.4\n"
       ]
      }
     ],
     "prompt_number": 15
    },
    {
     "cell_type": "code",
     "collapsed": false,
     "input": [
      "select = mu_stella.parts[1].measures(81,82)\n",
      "select.show()\n",
      "#G7 chord prep from c, to target a"
     ],
     "language": "python",
     "metadata": {},
     "outputs": [
      {
       "metadata": {},
       "output_type": "pyout",
       "png": "[encoded data removed]",
       "prompt_number": 16,
       "text": [
        "<music21.ipython21.objects.IPythonPNGObject at 0x11194dc90>"
       ]
      }
     ],
     "prompt_number": 16
    },
    {
     "cell_type": "markdown",
     "metadata": {},
     "source": [
      "<p>The next chapter will take up how sequences of notes are used in far more detail, but what else can be noted, is that this sequence of four notes is not particular to Jarrett. Figure 3.x show the same 4 note phrases found in a Charlie Parker solo and a Bud Powell solo. This challenges originality, that the playing is taken from lineage of other music, and variation. Improvisation, is not about completely original melody, but about assimiliting what has gone before and manifesting this in new ways. Also interesting to note, is rhythm is always the same. Lineage, using 4 note pattern, use is the same way it is seen elsewhere</p>\n"
     ]
    },
    {
     "cell_type": "code",
     "collapsed": false,
     "input": [
      "print tab_fig.get_next_fig(3)"
     ],
     "language": "python",
     "metadata": {},
     "outputs": [
      {
       "output_type": "stream",
       "stream": "stdout",
       "text": [
        "Figure 3.5\n"
       ]
      }
     ],
     "prompt_number": 17
    },
    {
     "cell_type": "code",
     "collapsed": false,
     "input": [
      "#music example Charlie Parker doing same thing as above examples"
     ],
     "language": "python",
     "metadata": {},
     "outputs": [],
     "prompt_number": 18
    },
    {
     "cell_type": "code",
     "collapsed": false,
     "input": [
      "print tab_fig.get_next_fig(3)"
     ],
     "language": "python",
     "metadata": {},
     "outputs": [
      {
       "output_type": "stream",
       "stream": "stdout",
       "text": [
        "Figure 3.6\n"
       ]
      }
     ],
     "prompt_number": 19
    },
    {
     "cell_type": "code",
     "collapsed": false,
     "input": [
      "#music example of Bud Powell doing same thing as above examples"
     ],
     "language": "python",
     "metadata": {},
     "outputs": [],
     "prompt_number": 20
    },
    {
     "cell_type": "markdown",
     "metadata": {},
     "source": [
      "<p>Also, as mentioned above, all of these examples suggest a reharmonisation, the super imposition of a II-V progression on a dominant chord. viewing these examples in context of an alternate underlying progression. There are a number of ways that this might be interpreted. It is perhaps a dominant sus chord, or a II chord. But this is fairly subjective and it would be more likely to say that this suggests that fluidy of chord progressions and melody in relation to these chord progressions</p>"
     ]
    },
    {
     "cell_type": "code",
     "collapsed": false,
     "input": [
      "print tab_fig.get_next_fig(3)"
     ],
     "language": "python",
     "metadata": {},
     "outputs": [
      {
       "output_type": "stream",
       "stream": "stdout",
       "text": [
        "Figure 3.7\n"
       ]
      }
     ],
     "prompt_number": 21
    },
    {
     "cell_type": "code",
     "collapsed": false,
     "input": [
      "#music example showing different harmonisations of one of the above passages"
     ],
     "language": "python",
     "metadata": {},
     "outputs": [],
     "prompt_number": 22
    },
    {
     "cell_type": "markdown",
     "metadata": {},
     "source": [
      "<p>Staying with the ninth being preceeded the by a note 3 semitones higher, there is of course other ways in which it is resolved, and two of the most common are down 4 semitones (for ) or up two semitones(for example). Of the former, this arpgeegio ssion built in thirds (so common in the data set),and the use of successive thirds is so common. Figures 3.x and 3.x show typical examples of this</p>"
     ]
    },
    {
     "cell_type": "code",
     "collapsed": false,
     "input": [
      "print tab_fig.get_next_fig(3)"
     ],
     "language": "python",
     "metadata": {},
     "outputs": [
      {
       "output_type": "stream",
       "stream": "stdout",
       "text": [
        "Figure 3.8\n"
       ]
      }
     ],
     "prompt_number": 23
    },
    {
     "cell_type": "code",
     "collapsed": false,
     "input": [
      "select = mu_groovin.parts[1].measures(50,51)\n",
      "select.show()\n",
      "#c note is target, down to Ab"
     ],
     "language": "python",
     "metadata": {},
     "outputs": [
      {
       "metadata": {},
       "output_type": "pyout",
       "png": "[encoded data removed]",
       "prompt_number": 24,
       "text": [
        "<music21.ipython21.objects.IPythonPNGObject at 0x10cbe6c50>"
       ]
      }
     ],
     "prompt_number": 24
    },
    {
     "cell_type": "code",
     "collapsed": false,
     "input": [
      "print tab_fig.get_next_fig(3)"
     ],
     "language": "python",
     "metadata": {},
     "outputs": [
      {
       "output_type": "stream",
       "stream": "stdout",
       "text": [
        "Figure 3.9\n"
       ]
      }
     ],
     "prompt_number": 25
    },
    {
     "cell_type": "code",
     "collapsed": false,
     "input": [
      "select = mu_all_the_things.parts[1].measures(260,262)\n",
      "select.show()\n",
      "#g7 and a note"
     ],
     "language": "python",
     "metadata": {},
     "outputs": [
      {
       "metadata": {},
       "output_type": "pyout",
       "png": "[encoded data removed]",
       "prompt_number": 26,
       "text": [
        "<music21.ipython21.objects.IPythonPNGObject at 0x10bf489d0>"
       ]
      }
     ],
     "prompt_number": 26
    },
    {
     "cell_type": "markdown",
     "metadata": {},
     "source": [
      "<p>Just as likely is the possibility that it will resolve a tone upwards and this would mean resolveing to the 3rd of the dominant seventh. Examples of this can be seen in Figures 3.x and 3.x and this shows that there going to both a major and and minor tonality</p>"
     ]
    },
    {
     "cell_type": "code",
     "collapsed": false,
     "input": [
      "print tab_fig.get_next_fig(3)"
     ],
     "language": "python",
     "metadata": {},
     "outputs": [
      {
       "output_type": "stream",
       "stream": "stdout",
       "text": [
        "Figure 3.10\n"
       ]
      }
     ],
     "prompt_number": 27
    },
    {
     "cell_type": "code",
     "collapsed": false,
     "input": [
      "select = mu_stella.parts[1].measures(50,51)\n",
      "select.show()"
     ],
     "language": "python",
     "metadata": {},
     "outputs": [
      {
       "metadata": {},
       "output_type": "pyout",
       "png": "[encoded data removed]",
       "prompt_number": 28,
       "text": [
        "<music21.ipython21.objects.IPythonPNGObject at 0x10c505490>"
       ]
      }
     ],
     "prompt_number": 28
    },
    {
     "cell_type": "code",
     "collapsed": false,
     "input": [
      "print tab_fig.get_next_fig(3)"
     ],
     "language": "python",
     "metadata": {},
     "outputs": [
      {
       "output_type": "stream",
       "stream": "stdout",
       "text": [
        "Figure 3.11\n"
       ]
      }
     ],
     "prompt_number": 29
    },
    {
     "cell_type": "code",
     "collapsed": false,
     "input": [
      "select = mu_stella.parts[1].measures(68,69)\n",
      "select.show()"
     ],
     "language": "python",
     "metadata": {},
     "outputs": [
      {
       "metadata": {},
       "output_type": "pyout",
       "png": "[encoded data removed]",
       "prompt_number": 30,
       "text": [
        "<music21.ipython21.objects.IPythonPNGObject at 0x120c9ad90>"
       ]
      }
     ],
     "prompt_number": 30
    },
    {
     "cell_type": "markdown",
     "metadata": {},
     "source": [
      "<p>Although certainly not as common as being prepared a minor third above, it is also possible to prepare the ninth from 4 semitones below and a summary of this is seen in Table 3.x. Increasingly in the dataset, marginal probablilities but also showing how there are often 4 note motifs which are throughout Jarrett's playing and chained together. The most likely thing to occur here, preparing from 4 semitones below and resolving to five semitones below happens only 8 times in the entire data set of almost 8000 notes so is marginal</p>"
     ]
    },
    {
     "cell_type": "code",
     "collapsed": false,
     "input": [
      "print tab_fig.get_next_tab(3)"
     ],
     "language": "python",
     "metadata": {},
     "outputs": [
      {
       "output_type": "stream",
       "stream": "stdout",
       "text": [
        "Table 3.1\n"
       ]
      }
     ],
     "prompt_number": 31
    },
    {
     "cell_type": "code",
     "collapsed": false,
     "input": [
      "data_set[data_set.dist_note_to_root == 2] \\\n",
      "[data_set.chord_type=='dominant_seventh'][data_set.prep == -4] \\\n",
      "[data_set.p_offset <= 0.5].groupby(['prep', 'res']).count().sort('note', ascending = False)"
     ],
     "language": "python",
     "metadata": {},
     "outputs": [
      {
       "html": [
        "<div style=\"max-height:1000px;max-width:1500px;overflow:auto;\">\n",
        "<table border=\"1\" class=\"dataframe\">\n",
        "  <thead>\n",
        "    <tr style=\"text-align: right;\">\n",
        "      <th></th>\n",
        "      <th></th>\n",
        "      <th>location</th>\n",
        "      <th>note</th>\n",
        "      <th>part</th>\n",
        "      <th>root</th>\n",
        "      <th>third</th>\n",
        "      <th>fifth</th>\n",
        "      <th>seventh</th>\n",
        "      <th>measure</th>\n",
        "      <th>prep</th>\n",
        "      <th>res</th>\n",
        "      <th>p_offset</th>\n",
        "      <th>r_offset</th>\n",
        "      <th>chord_type</th>\n",
        "      <th>dist_note_to_root</th>\n",
        "      <th>current_tempo</th>\n",
        "      <th>c_measure</th>\n",
        "      <th>name</th>\n",
        "    </tr>\n",
        "    <tr>\n",
        "      <th>prep</th>\n",
        "      <th>res</th>\n",
        "      <th></th>\n",
        "      <th></th>\n",
        "      <th></th>\n",
        "      <th></th>\n",
        "      <th></th>\n",
        "      <th></th>\n",
        "      <th></th>\n",
        "      <th></th>\n",
        "      <th></th>\n",
        "      <th></th>\n",
        "      <th></th>\n",
        "      <th></th>\n",
        "      <th></th>\n",
        "      <th></th>\n",
        "      <th></th>\n",
        "      <th></th>\n",
        "      <th></th>\n",
        "    </tr>\n",
        "  </thead>\n",
        "  <tbody>\n",
        "    <tr>\n",
        "      <th rowspan=\"9\" valign=\"top\">-4</th>\n",
        "      <th>-5</th>\n",
        "      <td> 8</td>\n",
        "      <td> 8</td>\n",
        "      <td> 8</td>\n",
        "      <td> 8</td>\n",
        "      <td> 8</td>\n",
        "      <td> 8</td>\n",
        "      <td> 8</td>\n",
        "      <td> 8</td>\n",
        "      <td> 8</td>\n",
        "      <td> 8</td>\n",
        "      <td> 8</td>\n",
        "      <td> 8</td>\n",
        "      <td> 8</td>\n",
        "      <td> 8</td>\n",
        "      <td> 8</td>\n",
        "      <td> 8</td>\n",
        "      <td> 8</td>\n",
        "    </tr>\n",
        "    <tr>\n",
        "      <th> 3</th>\n",
        "      <td> 7</td>\n",
        "      <td> 7</td>\n",
        "      <td> 7</td>\n",
        "      <td> 7</td>\n",
        "      <td> 7</td>\n",
        "      <td> 7</td>\n",
        "      <td> 7</td>\n",
        "      <td> 7</td>\n",
        "      <td> 7</td>\n",
        "      <td> 7</td>\n",
        "      <td> 7</td>\n",
        "      <td> 7</td>\n",
        "      <td> 7</td>\n",
        "      <td> 7</td>\n",
        "      <td> 7</td>\n",
        "      <td> 7</td>\n",
        "      <td> 7</td>\n",
        "    </tr>\n",
        "    <tr>\n",
        "      <th>-6</th>\n",
        "      <td> 4</td>\n",
        "      <td> 4</td>\n",
        "      <td> 4</td>\n",
        "      <td> 4</td>\n",
        "      <td> 4</td>\n",
        "      <td> 4</td>\n",
        "      <td> 4</td>\n",
        "      <td> 4</td>\n",
        "      <td> 4</td>\n",
        "      <td> 4</td>\n",
        "      <td> 4</td>\n",
        "      <td> 4</td>\n",
        "      <td> 4</td>\n",
        "      <td> 4</td>\n",
        "      <td> 4</td>\n",
        "      <td> 4</td>\n",
        "      <td> 4</td>\n",
        "    </tr>\n",
        "    <tr>\n",
        "      <th>-2</th>\n",
        "      <td> 3</td>\n",
        "      <td> 3</td>\n",
        "      <td> 3</td>\n",
        "      <td> 3</td>\n",
        "      <td> 3</td>\n",
        "      <td> 3</td>\n",
        "      <td> 3</td>\n",
        "      <td> 3</td>\n",
        "      <td> 3</td>\n",
        "      <td> 3</td>\n",
        "      <td> 3</td>\n",
        "      <td> 3</td>\n",
        "      <td> 3</td>\n",
        "      <td> 3</td>\n",
        "      <td> 3</td>\n",
        "      <td> 3</td>\n",
        "      <td> 3</td>\n",
        "    </tr>\n",
        "    <tr>\n",
        "      <th>-1</th>\n",
        "      <td> 2</td>\n",
        "      <td> 2</td>\n",
        "      <td> 2</td>\n",
        "      <td> 2</td>\n",
        "      <td> 2</td>\n",
        "      <td> 2</td>\n",
        "      <td> 2</td>\n",
        "      <td> 2</td>\n",
        "      <td> 2</td>\n",
        "      <td> 2</td>\n",
        "      <td> 2</td>\n",
        "      <td> 2</td>\n",
        "      <td> 2</td>\n",
        "      <td> 2</td>\n",
        "      <td> 2</td>\n",
        "      <td> 2</td>\n",
        "      <td> 2</td>\n",
        "    </tr>\n",
        "    <tr>\n",
        "      <th>-4</th>\n",
        "      <td> 2</td>\n",
        "      <td> 2</td>\n",
        "      <td> 2</td>\n",
        "      <td> 2</td>\n",
        "      <td> 2</td>\n",
        "      <td> 2</td>\n",
        "      <td> 2</td>\n",
        "      <td> 2</td>\n",
        "      <td> 2</td>\n",
        "      <td> 2</td>\n",
        "      <td> 2</td>\n",
        "      <td> 2</td>\n",
        "      <td> 2</td>\n",
        "      <td> 2</td>\n",
        "      <td> 2</td>\n",
        "      <td> 2</td>\n",
        "      <td> 2</td>\n",
        "    </tr>\n",
        "    <tr>\n",
        "      <th> 2</th>\n",
        "      <td> 1</td>\n",
        "      <td> 1</td>\n",
        "      <td> 1</td>\n",
        "      <td> 1</td>\n",
        "      <td> 1</td>\n",
        "      <td> 1</td>\n",
        "      <td> 1</td>\n",
        "      <td> 1</td>\n",
        "      <td> 1</td>\n",
        "      <td> 1</td>\n",
        "      <td> 1</td>\n",
        "      <td> 1</td>\n",
        "      <td> 1</td>\n",
        "      <td> 1</td>\n",
        "      <td> 1</td>\n",
        "      <td> 1</td>\n",
        "      <td> 1</td>\n",
        "    </tr>\n",
        "    <tr>\n",
        "      <th> 1</th>\n",
        "      <td> 1</td>\n",
        "      <td> 1</td>\n",
        "      <td> 1</td>\n",
        "      <td> 1</td>\n",
        "      <td> 1</td>\n",
        "      <td> 1</td>\n",
        "      <td> 1</td>\n",
        "      <td> 1</td>\n",
        "      <td> 1</td>\n",
        "      <td> 1</td>\n",
        "      <td> 1</td>\n",
        "      <td> 1</td>\n",
        "      <td> 1</td>\n",
        "      <td> 1</td>\n",
        "      <td> 1</td>\n",
        "      <td> 1</td>\n",
        "      <td> 1</td>\n",
        "    </tr>\n",
        "    <tr>\n",
        "      <th>-3</th>\n",
        "      <td> 1</td>\n",
        "      <td> 1</td>\n",
        "      <td> 1</td>\n",
        "      <td> 1</td>\n",
        "      <td> 1</td>\n",
        "      <td> 1</td>\n",
        "      <td> 1</td>\n",
        "      <td> 1</td>\n",
        "      <td> 1</td>\n",
        "      <td> 1</td>\n",
        "      <td> 1</td>\n",
        "      <td> 1</td>\n",
        "      <td> 1</td>\n",
        "      <td> 1</td>\n",
        "      <td> 1</td>\n",
        "      <td> 1</td>\n",
        "      <td> 1</td>\n",
        "    </tr>\n",
        "  </tbody>\n",
        "</table>\n",
        "<p>9 rows \u00d7 17 columns</p>\n",
        "</div>"
       ],
       "metadata": {},
       "output_type": "pyout",
       "prompt_number": 32,
       "text": [
        "          location  note  part  root  third  fifth  seventh  measure  prep  \\\n",
        "prep res                                                                     \n",
        "-4   -5          8     8     8     8      8      8        8        8     8   \n",
        "      3          7     7     7     7      7      7        7        7     7   \n",
        "     -6          4     4     4     4      4      4        4        4     4   \n",
        "     -2          3     3     3     3      3      3        3        3     3   \n",
        "     -1          2     2     2     2      2      2        2        2     2   \n",
        "     -4          2     2     2     2      2      2        2        2     2   \n",
        "      2          1     1     1     1      1      1        1        1     1   \n",
        "      1          1     1     1     1      1      1        1        1     1   \n",
        "     -3          1     1     1     1      1      1        1        1     1   \n",
        "\n",
        "          res  p_offset  r_offset  chord_type  dist_note_to_root  \\\n",
        "prep res                                                           \n",
        "-4   -5     8         8         8           8                  8   \n",
        "      3     7         7         7           7                  7   \n",
        "     -6     4         4         4           4                  4   \n",
        "     -2     3         3         3           3                  3   \n",
        "     -1     2         2         2           2                  2   \n",
        "     -4     2         2         2           2                  2   \n",
        "      2     1         1         1           1                  1   \n",
        "      1     1         1         1           1                  1   \n",
        "     -3     1         1         1           1                  1   \n",
        "\n",
        "          current_tempo  c_measure  name  \n",
        "prep res                                  \n",
        "-4   -5               8          8     8  \n",
        "      3               7          7     7  \n",
        "     -6               4          4     4  \n",
        "     -2               3          3     3  \n",
        "     -1               2          2     2  \n",
        "     -4               2          2     2  \n",
        "      2               1          1     1  \n",
        "      1               1          1     1  \n",
        "     -3               1          1     1  \n",
        "\n",
        "[9 rows x 17 columns]"
       ]
      }
     ],
     "prompt_number": 32
    },
    {
     "cell_type": "markdown",
     "metadata": {},
     "source": [
      "<p>Examples of this can be seen in figures 3.x and 3.x, which again show this part of 4 note identical pattern</p>"
     ]
    },
    {
     "cell_type": "code",
     "collapsed": false,
     "input": [
      "print tab_fig.get_next_fig(3)"
     ],
     "language": "python",
     "metadata": {},
     "outputs": [
      {
       "output_type": "stream",
       "stream": "stdout",
       "text": [
        "Figure 3.12\n"
       ]
      }
     ],
     "prompt_number": 33
    },
    {
     "cell_type": "code",
     "collapsed": false,
     "input": [
      "select = mu_autumn.parts[1].measures(150,151)\n",
      "select.show()\n",
      "#F7"
     ],
     "language": "python",
     "metadata": {},
     "outputs": [
      {
       "metadata": {},
       "output_type": "pyout",
       "png": "[encoded data removed]",
       "prompt_number": 34,
       "text": [
        "<music21.ipython21.objects.IPythonPNGObject at 0x1246901d0>"
       ]
      }
     ],
     "prompt_number": 34
    },
    {
     "cell_type": "code",
     "collapsed": false,
     "input": [
      "print tab_fig.get_next_fig(3)"
     ],
     "language": "python",
     "metadata": {},
     "outputs": [
      {
       "output_type": "stream",
       "stream": "stdout",
       "text": [
        "Figure 3.13\n"
       ]
      }
     ],
     "prompt_number": 35
    },
    {
     "cell_type": "code",
     "collapsed": false,
     "input": [
      "select = mu_stella.parts[1].measures(136,137)\n",
      "select.show()\n",
      "#Ab7"
     ],
     "language": "python",
     "metadata": {},
     "outputs": [
      {
       "metadata": {},
       "output_type": "pyout",
       "png": "[encoded data removed]",
       "prompt_number": 36,
       "text": [
        "<music21.ipython21.objects.IPythonPNGObject at 0x124f10dd0>"
       ]
      }
     ],
     "prompt_number": 36
    },
    {
     "cell_type": "markdown",
     "metadata": {},
     "source": [
      "<h4>3.2.6.3 Resolution of the ninth in the dominant chord</p>"
     ]
    },
    {
     "cell_type": "markdown",
     "metadata": {},
     "source": [
      "<p>Tabl3 3.x the most common resolutions fo the ninth in the dominant seventh chord. As to be exected, the most common resolution, form a semitone upwards coincides with the most common preparation which ther were examples earlier (of 3 semitones upwards) but it is also worth considering the large number of unique things that are happening</p>"
     ]
    },
    {
     "cell_type": "code",
     "collapsed": false,
     "input": [
      "data_set[data_set.dist_note_to_root == 2] \\\n",
      "[data_set.chord_type=='dominant_seventh'][data_set.res == 1] \\\n",
      "[data_set.p_offset <= 0.5] \\\n",
      "[data_set.r_offset <= 0.5].groupby(['res', 'prep']).count().sort('note', ascending = False)\n",
      "#Table 3.7"
     ],
     "language": "python",
     "metadata": {},
     "outputs": [
      {
       "html": [
        "<div style=\"max-height:1000px;max-width:1500px;overflow:auto;\">\n",
        "<table border=\"1\" class=\"dataframe\">\n",
        "  <thead>\n",
        "    <tr style=\"text-align: right;\">\n",
        "      <th></th>\n",
        "      <th></th>\n",
        "      <th>location</th>\n",
        "      <th>note</th>\n",
        "      <th>part</th>\n",
        "      <th>root</th>\n",
        "      <th>third</th>\n",
        "      <th>fifth</th>\n",
        "      <th>seventh</th>\n",
        "      <th>measure</th>\n",
        "      <th>prep</th>\n",
        "      <th>res</th>\n",
        "      <th>p_offset</th>\n",
        "      <th>r_offset</th>\n",
        "      <th>chord_type</th>\n",
        "      <th>dist_note_to_root</th>\n",
        "      <th>current_tempo</th>\n",
        "      <th>c_measure</th>\n",
        "      <th>name</th>\n",
        "    </tr>\n",
        "    <tr>\n",
        "      <th>res</th>\n",
        "      <th>prep</th>\n",
        "      <th></th>\n",
        "      <th></th>\n",
        "      <th></th>\n",
        "      <th></th>\n",
        "      <th></th>\n",
        "      <th></th>\n",
        "      <th></th>\n",
        "      <th></th>\n",
        "      <th></th>\n",
        "      <th></th>\n",
        "      <th></th>\n",
        "      <th></th>\n",
        "      <th></th>\n",
        "      <th></th>\n",
        "      <th></th>\n",
        "      <th></th>\n",
        "      <th></th>\n",
        "    </tr>\n",
        "  </thead>\n",
        "  <tbody>\n",
        "    <tr>\n",
        "      <th rowspan=\"11\" valign=\"top\">1</th>\n",
        "      <th> 3</th>\n",
        "      <td> 16</td>\n",
        "      <td> 16</td>\n",
        "      <td> 16</td>\n",
        "      <td> 16</td>\n",
        "      <td> 16</td>\n",
        "      <td> 16</td>\n",
        "      <td> 16</td>\n",
        "      <td> 16</td>\n",
        "      <td> 16</td>\n",
        "      <td> 16</td>\n",
        "      <td> 16</td>\n",
        "      <td> 16</td>\n",
        "      <td> 16</td>\n",
        "      <td> 16</td>\n",
        "      <td> 16</td>\n",
        "      <td> 16</td>\n",
        "      <td> 16</td>\n",
        "    </tr>\n",
        "    <tr>\n",
        "      <th>-2</th>\n",
        "      <td>  8</td>\n",
        "      <td>  8</td>\n",
        "      <td>  8</td>\n",
        "      <td>  8</td>\n",
        "      <td>  8</td>\n",
        "      <td>  8</td>\n",
        "      <td>  8</td>\n",
        "      <td>  8</td>\n",
        "      <td>  8</td>\n",
        "      <td>  8</td>\n",
        "      <td>  8</td>\n",
        "      <td>  8</td>\n",
        "      <td>  8</td>\n",
        "      <td>  8</td>\n",
        "      <td>  8</td>\n",
        "      <td>  8</td>\n",
        "      <td>  8</td>\n",
        "    </tr>\n",
        "    <tr>\n",
        "      <th>-1</th>\n",
        "      <td>  6</td>\n",
        "      <td>  6</td>\n",
        "      <td>  6</td>\n",
        "      <td>  6</td>\n",
        "      <td>  6</td>\n",
        "      <td>  6</td>\n",
        "      <td>  6</td>\n",
        "      <td>  6</td>\n",
        "      <td>  6</td>\n",
        "      <td>  6</td>\n",
        "      <td>  6</td>\n",
        "      <td>  6</td>\n",
        "      <td>  6</td>\n",
        "      <td>  6</td>\n",
        "      <td>  6</td>\n",
        "      <td>  6</td>\n",
        "      <td>  6</td>\n",
        "    </tr>\n",
        "    <tr>\n",
        "      <th> 2</th>\n",
        "      <td>  2</td>\n",
        "      <td>  2</td>\n",
        "      <td>  2</td>\n",
        "      <td>  2</td>\n",
        "      <td>  2</td>\n",
        "      <td>  2</td>\n",
        "      <td>  2</td>\n",
        "      <td>  2</td>\n",
        "      <td>  2</td>\n",
        "      <td>  2</td>\n",
        "      <td>  2</td>\n",
        "      <td>  2</td>\n",
        "      <td>  2</td>\n",
        "      <td>  2</td>\n",
        "      <td>  2</td>\n",
        "      <td>  2</td>\n",
        "      <td>  2</td>\n",
        "    </tr>\n",
        "    <tr>\n",
        "      <th> 1</th>\n",
        "      <td>  2</td>\n",
        "      <td>  2</td>\n",
        "      <td>  2</td>\n",
        "      <td>  2</td>\n",
        "      <td>  2</td>\n",
        "      <td>  2</td>\n",
        "      <td>  2</td>\n",
        "      <td>  2</td>\n",
        "      <td>  2</td>\n",
        "      <td>  2</td>\n",
        "      <td>  2</td>\n",
        "      <td>  2</td>\n",
        "      <td>  2</td>\n",
        "      <td>  2</td>\n",
        "      <td>  2</td>\n",
        "      <td>  2</td>\n",
        "      <td>  2</td>\n",
        "    </tr>\n",
        "    <tr>\n",
        "      <th> 8</th>\n",
        "      <td>  1</td>\n",
        "      <td>  1</td>\n",
        "      <td>  1</td>\n",
        "      <td>  1</td>\n",
        "      <td>  1</td>\n",
        "      <td>  1</td>\n",
        "      <td>  1</td>\n",
        "      <td>  1</td>\n",
        "      <td>  1</td>\n",
        "      <td>  1</td>\n",
        "      <td>  1</td>\n",
        "      <td>  1</td>\n",
        "      <td>  1</td>\n",
        "      <td>  1</td>\n",
        "      <td>  1</td>\n",
        "      <td>  1</td>\n",
        "      <td>  1</td>\n",
        "    </tr>\n",
        "    <tr>\n",
        "      <th> 7</th>\n",
        "      <td>  1</td>\n",
        "      <td>  1</td>\n",
        "      <td>  1</td>\n",
        "      <td>  1</td>\n",
        "      <td>  1</td>\n",
        "      <td>  1</td>\n",
        "      <td>  1</td>\n",
        "      <td>  1</td>\n",
        "      <td>  1</td>\n",
        "      <td>  1</td>\n",
        "      <td>  1</td>\n",
        "      <td>  1</td>\n",
        "      <td>  1</td>\n",
        "      <td>  1</td>\n",
        "      <td>  1</td>\n",
        "      <td>  1</td>\n",
        "      <td>  1</td>\n",
        "    </tr>\n",
        "    <tr>\n",
        "      <th> 5</th>\n",
        "      <td>  1</td>\n",
        "      <td>  1</td>\n",
        "      <td>  1</td>\n",
        "      <td>  1</td>\n",
        "      <td>  1</td>\n",
        "      <td>  1</td>\n",
        "      <td>  1</td>\n",
        "      <td>  1</td>\n",
        "      <td>  1</td>\n",
        "      <td>  1</td>\n",
        "      <td>  1</td>\n",
        "      <td>  1</td>\n",
        "      <td>  1</td>\n",
        "      <td>  1</td>\n",
        "      <td>  1</td>\n",
        "      <td>  1</td>\n",
        "      <td>  1</td>\n",
        "    </tr>\n",
        "    <tr>\n",
        "      <th>-3</th>\n",
        "      <td>  1</td>\n",
        "      <td>  1</td>\n",
        "      <td>  1</td>\n",
        "      <td>  1</td>\n",
        "      <td>  1</td>\n",
        "      <td>  1</td>\n",
        "      <td>  1</td>\n",
        "      <td>  1</td>\n",
        "      <td>  1</td>\n",
        "      <td>  1</td>\n",
        "      <td>  1</td>\n",
        "      <td>  1</td>\n",
        "      <td>  1</td>\n",
        "      <td>  1</td>\n",
        "      <td>  1</td>\n",
        "      <td>  1</td>\n",
        "      <td>  1</td>\n",
        "    </tr>\n",
        "    <tr>\n",
        "      <th>-4</th>\n",
        "      <td>  1</td>\n",
        "      <td>  1</td>\n",
        "      <td>  1</td>\n",
        "      <td>  1</td>\n",
        "      <td>  1</td>\n",
        "      <td>  1</td>\n",
        "      <td>  1</td>\n",
        "      <td>  1</td>\n",
        "      <td>  1</td>\n",
        "      <td>  1</td>\n",
        "      <td>  1</td>\n",
        "      <td>  1</td>\n",
        "      <td>  1</td>\n",
        "      <td>  1</td>\n",
        "      <td>  1</td>\n",
        "      <td>  1</td>\n",
        "      <td>  1</td>\n",
        "    </tr>\n",
        "    <tr>\n",
        "      <th>-7</th>\n",
        "      <td>  1</td>\n",
        "      <td>  1</td>\n",
        "      <td>  1</td>\n",
        "      <td>  1</td>\n",
        "      <td>  1</td>\n",
        "      <td>  1</td>\n",
        "      <td>  1</td>\n",
        "      <td>  1</td>\n",
        "      <td>  1</td>\n",
        "      <td>  1</td>\n",
        "      <td>  1</td>\n",
        "      <td>  1</td>\n",
        "      <td>  1</td>\n",
        "      <td>  1</td>\n",
        "      <td>  1</td>\n",
        "      <td>  1</td>\n",
        "      <td>  1</td>\n",
        "    </tr>\n",
        "  </tbody>\n",
        "</table>\n",
        "<p>11 rows \u00d7 17 columns</p>\n",
        "</div>"
       ],
       "metadata": {},
       "output_type": "pyout",
       "prompt_number": 45,
       "text": [
        "          location  note  part  root  third  fifth  seventh  measure  prep  \\\n",
        "res prep                                                                     \n",
        "1    3          16    16    16    16     16     16       16       16    16   \n",
        "    -2           8     8     8     8      8      8        8        8     8   \n",
        "    -1           6     6     6     6      6      6        6        6     6   \n",
        "     2           2     2     2     2      2      2        2        2     2   \n",
        "     1           2     2     2     2      2      2        2        2     2   \n",
        "     8           1     1     1     1      1      1        1        1     1   \n",
        "     7           1     1     1     1      1      1        1        1     1   \n",
        "     5           1     1     1     1      1      1        1        1     1   \n",
        "    -3           1     1     1     1      1      1        1        1     1   \n",
        "    -4           1     1     1     1      1      1        1        1     1   \n",
        "    -7           1     1     1     1      1      1        1        1     1   \n",
        "\n",
        "          res  p_offset  r_offset  chord_type  dist_note_to_root  \\\n",
        "res prep                                                           \n",
        "1    3     16        16        16          16                 16   \n",
        "    -2      8         8         8           8                  8   \n",
        "    -1      6         6         6           6                  6   \n",
        "     2      2         2         2           2                  2   \n",
        "     1      2         2         2           2                  2   \n",
        "     8      1         1         1           1                  1   \n",
        "     7      1         1         1           1                  1   \n",
        "     5      1         1         1           1                  1   \n",
        "    -3      1         1         1           1                  1   \n",
        "    -4      1         1         1           1                  1   \n",
        "    -7      1         1         1           1                  1   \n",
        "\n",
        "          current_tempo  c_measure  name  \n",
        "res prep                                  \n",
        "1    3               16         16    16  \n",
        "    -2                8          8     8  \n",
        "    -1                6          6     6  \n",
        "     2                2          2     2  \n",
        "     1                2          2     2  \n",
        "     8                1          1     1  \n",
        "     7                1          1     1  \n",
        "     5                1          1     1  \n",
        "    -3                1          1     1  \n",
        "    -4                1          1     1  \n",
        "    -7                1          1     1  \n",
        "\n",
        "[11 rows x 17 columns]"
       ]
      }
     ],
     "prompt_number": 45
    },
    {
     "cell_type": "markdown",
     "metadata": {},
     "source": [
      "<p>A number of marginal cases cases can be seen below and its worth looking at these as things that never happen elsewhere and can be seen in Figure 3.x, 3.x and 3.x</p>"
     ]
    },
    {
     "cell_type": "code",
     "collapsed": false,
     "input": [
      "print tab_fig.get_next_fig(3)"
     ],
     "language": "python",
     "metadata": {},
     "outputs": [
      {
       "output_type": "stream",
       "stream": "stdout",
       "text": [
        "Figure 3.14\n"
       ]
      }
     ],
     "prompt_number": 48
    },
    {
     "cell_type": "code",
     "collapsed": false,
     "input": [
      "select = mu_if_i_were.parts[1].measures(133,134)\n",
      "select.show()\n",
      "#f natural in whihc never happens elsevwer, prep 5 semitones above"
     ],
     "language": "python",
     "metadata": {},
     "outputs": [
      {
       "metadata": {},
       "output_type": "pyout",
       "png": "[encoded data removed]",
       "prompt_number": 47,
       "text": [
        "<music21.ipython21.objects.IPythonPNGObject at 0x11809be50>"
       ]
      }
     ],
     "prompt_number": 47
    },
    {
     "cell_type": "code",
     "collapsed": false,
     "input": [
      "print tab_fig.get_next_fig(3)"
     ],
     "language": "python",
     "metadata": {},
     "outputs": [
      {
       "output_type": "stream",
       "stream": "stdout",
       "text": [
        "Figure 3.15\n"
       ]
      }
     ],
     "prompt_number": 50
    },
    {
     "cell_type": "code",
     "collapsed": false,
     "input": [
      "select = mu_groovin.parts[1].measures(187,189)\n",
      "select.show()\n",
      "#g in second bar prep fro e natural - really unsuual"
     ],
     "language": "python",
     "metadata": {},
     "outputs": [
      {
       "metadata": {},
       "output_type": "pyout",
       "png": "[encoded data removed]",
       "prompt_number": 55,
       "text": [
        "<music21.ipython21.objects.IPythonPNGObject at 0x1251399d0>"
       ]
      }
     ],
     "prompt_number": 55
    },
    {
     "cell_type": "code",
     "collapsed": false,
     "input": [
      "print tab_fig.get_next_fig(3)"
     ],
     "language": "python",
     "metadata": {},
     "outputs": [
      {
       "output_type": "stream",
       "stream": "stdout",
       "text": [
        "Figure 3.16\n"
       ]
      }
     ],
     "prompt_number": 57
    },
    {
     "cell_type": "code",
     "collapsed": false,
     "input": [
      "select = mu_groovin.parts[1].measures(267,268)\n",
      "select.show()\n",
      "#g prepared by Eb and resolved one up. "
     ],
     "language": "python",
     "metadata": {},
     "outputs": [
      {
       "metadata": {},
       "output_type": "pyout",
       "png": "[encoded data removed]",
       "prompt_number": 58,
       "text": [
        "<music21.ipython21.objects.IPythonPNGObject at 0x120c9a350>"
       ]
      }
     ],
     "prompt_number": 58
    },
    {
     "cell_type": "markdown",
     "metadata": {},
     "source": [
      "<p>These kinds of figure melodic figures seems unusual that Jarrett would play a 3 note melodic figure just once across the whole data set. However looking more closely this is acually note the case. Taking the case of a ninth being prepared by four semitones below and being resolved up one semitone althought it occurs very rarely, happens very often minor seventh, and minor seventh flat five chord. This suggests, that note choice and note sequences is not driven by an underlying chord</p>"
     ]
    },
    {
     "cell_type": "code",
     "collapsed": false,
     "input": [
      "print tab_fig.get_next_tab(3)"
     ],
     "language": "python",
     "metadata": {},
     "outputs": [
      {
       "output_type": "stream",
       "stream": "stdout",
       "text": [
        "Table 3.2\n"
       ]
      }
     ],
     "prompt_number": 64
    },
    {
     "cell_type": "code",
     "collapsed": false,
     "input": [
      "#Table 3.6\n",
      "data_set[data_set.dist_note_to_root == 2]\\\n",
      "[data_set.p_offset <=0.5]\\\n",
      "[data_set.r_offset <= 0.5]\\\n",
      "[data_set.res == 1] \\\n",
      "[data_set.prep == -4]\\\n",
      ".sort('res', ascending=False)"
     ],
     "language": "python",
     "metadata": {},
     "outputs": [
      {
       "html": [
        "<div style=\"max-height:1000px;max-width:1500px;overflow:auto;\">\n",
        "<table border=\"1\" class=\"dataframe\">\n",
        "  <thead>\n",
        "    <tr style=\"text-align: right;\">\n",
        "      <th></th>\n",
        "      <th>location</th>\n",
        "      <th>note</th>\n",
        "      <th>part</th>\n",
        "      <th>root</th>\n",
        "      <th>third</th>\n",
        "      <th>fifth</th>\n",
        "      <th>seventh</th>\n",
        "      <th>measure</th>\n",
        "      <th>prep</th>\n",
        "      <th>res</th>\n",
        "      <th>p_offset</th>\n",
        "      <th>r_offset</th>\n",
        "      <th>chord_type</th>\n",
        "      <th>dist_note_to_root</th>\n",
        "      <th>current_tempo</th>\n",
        "      <th>c_measure</th>\n",
        "      <th>name</th>\n",
        "    </tr>\n",
        "  </thead>\n",
        "  <tbody>\n",
        "    <tr>\n",
        "      <th>6610</th>\n",
        "      <td>  350.333333</td>\n",
        "      <td> 74</td>\n",
        "      <td> 0</td>\n",
        "      <td> 60</td>\n",
        "      <td> 63</td>\n",
        "      <td> 66</td>\n",
        "      <td> 70</td>\n",
        "      <td>  88.583333</td>\n",
        "      <td>-4</td>\n",
        "      <td> 1</td>\n",
        "      <td> 0.333333</td>\n",
        "      <td> 0.333333</td>\n",
        "      <td> minor_seventh_flat_five</td>\n",
        "      <td> 2</td>\n",
        "      <td> 120</td>\n",
        "      <td>  88</td>\n",
        "      <td>       If I Were A Bell</td>\n",
        "    </tr>\n",
        "    <tr>\n",
        "      <th>6457</th>\n",
        "      <td>  285.000000</td>\n",
        "      <td> 74</td>\n",
        "      <td> 0</td>\n",
        "      <td> 60</td>\n",
        "      <td> 63</td>\n",
        "      <td> 66</td>\n",
        "      <td> 70</td>\n",
        "      <td>  72.250000</td>\n",
        "      <td>-4</td>\n",
        "      <td> 1</td>\n",
        "      <td> 0.250000</td>\n",
        "      <td> 0.200000</td>\n",
        "      <td> minor_seventh_flat_five</td>\n",
        "      <td> 2</td>\n",
        "      <td> 120</td>\n",
        "      <td>  72</td>\n",
        "      <td>       If I Were A Bell</td>\n",
        "    </tr>\n",
        "    <tr>\n",
        "      <th>6305</th>\n",
        "      <td>  191.666667</td>\n",
        "      <td> 79</td>\n",
        "      <td> 0</td>\n",
        "      <td> 53</td>\n",
        "      <td> 56</td>\n",
        "      <td> 60</td>\n",
        "      <td> 63</td>\n",
        "      <td>  48.916667</td>\n",
        "      <td>-4</td>\n",
        "      <td> 1</td>\n",
        "      <td> 0.333333</td>\n",
        "      <td> 0.333333</td>\n",
        "      <td>           minor_seventh</td>\n",
        "      <td> 2</td>\n",
        "      <td> 120</td>\n",
        "      <td>  48</td>\n",
        "      <td>       If I Were A Bell</td>\n",
        "    </tr>\n",
        "    <tr>\n",
        "      <th>5503</th>\n",
        "      <td>  385.420833</td>\n",
        "      <td> 74</td>\n",
        "      <td> 0</td>\n",
        "      <td> 60</td>\n",
        "      <td> 63</td>\n",
        "      <td> 67</td>\n",
        "      <td> 70</td>\n",
        "      <td>  97.355208</td>\n",
        "      <td>-4</td>\n",
        "      <td> 1</td>\n",
        "      <td> 0.500000</td>\n",
        "      <td> 0.500000</td>\n",
        "      <td>           minor_seventh</td>\n",
        "      <td> 2</td>\n",
        "      <td> 120</td>\n",
        "      <td>  97</td>\n",
        "      <td>          Autumn Leaves</td>\n",
        "    </tr>\n",
        "    <tr>\n",
        "      <th>5223</th>\n",
        "      <td>  227.477083</td>\n",
        "      <td> 71</td>\n",
        "      <td> 0</td>\n",
        "      <td> 57</td>\n",
        "      <td> 60</td>\n",
        "      <td> 63</td>\n",
        "      <td> 67</td>\n",
        "      <td>  57.869271</td>\n",
        "      <td>-4</td>\n",
        "      <td> 1</td>\n",
        "      <td> 0.500000</td>\n",
        "      <td> 0.500000</td>\n",
        "      <td> minor_seventh_flat_five</td>\n",
        "      <td> 2</td>\n",
        "      <td> 120</td>\n",
        "      <td>  57</td>\n",
        "      <td>          Autumn Leaves</td>\n",
        "    </tr>\n",
        "    <tr>\n",
        "      <th>4729</th>\n",
        "      <td> 1066.000000</td>\n",
        "      <td> 79</td>\n",
        "      <td> 0</td>\n",
        "      <td> 65</td>\n",
        "      <td> 69</td>\n",
        "      <td> 72</td>\n",
        "      <td> 75</td>\n",
        "      <td> 267.500000</td>\n",
        "      <td>-4</td>\n",
        "      <td> 1</td>\n",
        "      <td> 0.500000</td>\n",
        "      <td> 0.500000</td>\n",
        "      <td>        dominant_seventh</td>\n",
        "      <td> 2</td>\n",
        "      <td> 120</td>\n",
        "      <td> 267</td>\n",
        "      <td>           Groovin High</td>\n",
        "    </tr>\n",
        "    <tr>\n",
        "      <th>3313</th>\n",
        "      <td>   81.000000</td>\n",
        "      <td> 71</td>\n",
        "      <td> 0</td>\n",
        "      <td> 57</td>\n",
        "      <td> 60</td>\n",
        "      <td> 64</td>\n",
        "      <td> 67</td>\n",
        "      <td>  21.250000</td>\n",
        "      <td>-4</td>\n",
        "      <td> 1</td>\n",
        "      <td> 0.500000</td>\n",
        "      <td> 0.500000</td>\n",
        "      <td>           minor_seventh</td>\n",
        "      <td> 2</td>\n",
        "      <td> 120</td>\n",
        "      <td>  21</td>\n",
        "      <td>           Groovin High</td>\n",
        "    </tr>\n",
        "    <tr>\n",
        "      <th>3101</th>\n",
        "      <td>  591.500000</td>\n",
        "      <td> 74</td>\n",
        "      <td> 0</td>\n",
        "      <td> 60</td>\n",
        "      <td> 63</td>\n",
        "      <td> 67</td>\n",
        "      <td> 70</td>\n",
        "      <td> 148.875000</td>\n",
        "      <td>-4</td>\n",
        "      <td> 1</td>\n",
        "      <td> 0.500000</td>\n",
        "      <td> 0.500000</td>\n",
        "      <td>           minor_seventh</td>\n",
        "      <td> 2</td>\n",
        "      <td> 120</td>\n",
        "      <td> 148</td>\n",
        "      <td>    Stella By Starlight</td>\n",
        "    </tr>\n",
        "    <tr>\n",
        "      <th>2904</th>\n",
        "      <td>  521.000000</td>\n",
        "      <td> 74</td>\n",
        "      <td> 0</td>\n",
        "      <td> 60</td>\n",
        "      <td> 63</td>\n",
        "      <td> 67</td>\n",
        "      <td> 70</td>\n",
        "      <td> 131.250000</td>\n",
        "      <td>-4</td>\n",
        "      <td> 1</td>\n",
        "      <td> 0.250000</td>\n",
        "      <td> 0.250000</td>\n",
        "      <td>           minor_seventh</td>\n",
        "      <td> 2</td>\n",
        "      <td> 120</td>\n",
        "      <td> 131</td>\n",
        "      <td>    Stella By Starlight</td>\n",
        "    </tr>\n",
        "    <tr>\n",
        "      <th>1369</th>\n",
        "      <td>  878.500000</td>\n",
        "      <td> 72</td>\n",
        "      <td> 0</td>\n",
        "      <td> 58</td>\n",
        "      <td> 61</td>\n",
        "      <td> 65</td>\n",
        "      <td> 68</td>\n",
        "      <td> 220.625000</td>\n",
        "      <td>-4</td>\n",
        "      <td> 1</td>\n",
        "      <td> 0.500000</td>\n",
        "      <td> 0.500000</td>\n",
        "      <td>           minor_seventh</td>\n",
        "      <td> 2</td>\n",
        "      <td> 120</td>\n",
        "      <td> 220</td>\n",
        "      <td> All The Things You Are</td>\n",
        "    </tr>\n",
        "    <tr>\n",
        "      <th>945 </th>\n",
        "      <td>  618.000000</td>\n",
        "      <td> 74</td>\n",
        "      <td> 0</td>\n",
        "      <td> 60</td>\n",
        "      <td> 63</td>\n",
        "      <td> 67</td>\n",
        "      <td> 70</td>\n",
        "      <td> 155.500000</td>\n",
        "      <td>-4</td>\n",
        "      <td> 1</td>\n",
        "      <td> 0.500000</td>\n",
        "      <td> 0.500000</td>\n",
        "      <td>           minor_seventh</td>\n",
        "      <td> 2</td>\n",
        "      <td> 120</td>\n",
        "      <td> 155</td>\n",
        "      <td> All The Things You Are</td>\n",
        "    </tr>\n",
        "  </tbody>\n",
        "</table>\n",
        "<p>11 rows \u00d7 17 columns</p>\n",
        "</div>"
       ],
       "metadata": {},
       "output_type": "pyout",
       "prompt_number": 63,
       "text": [
        "         location  note  part  root  third  fifth  seventh     measure  prep  \\\n",
        "6610   350.333333    74     0    60     63     66       70   88.583333    -4   \n",
        "6457   285.000000    74     0    60     63     66       70   72.250000    -4   \n",
        "6305   191.666667    79     0    53     56     60       63   48.916667    -4   \n",
        "5503   385.420833    74     0    60     63     67       70   97.355208    -4   \n",
        "5223   227.477083    71     0    57     60     63       67   57.869271    -4   \n",
        "4729  1066.000000    79     0    65     69     72       75  267.500000    -4   \n",
        "3313    81.000000    71     0    57     60     64       67   21.250000    -4   \n",
        "3101   591.500000    74     0    60     63     67       70  148.875000    -4   \n",
        "2904   521.000000    74     0    60     63     67       70  131.250000    -4   \n",
        "1369   878.500000    72     0    58     61     65       68  220.625000    -4   \n",
        "945    618.000000    74     0    60     63     67       70  155.500000    -4   \n",
        "\n",
        "      res  p_offset  r_offset               chord_type  dist_note_to_root  \\\n",
        "6610    1  0.333333  0.333333  minor_seventh_flat_five                  2   \n",
        "6457    1  0.250000  0.200000  minor_seventh_flat_five                  2   \n",
        "6305    1  0.333333  0.333333            minor_seventh                  2   \n",
        "5503    1  0.500000  0.500000            minor_seventh                  2   \n",
        "5223    1  0.500000  0.500000  minor_seventh_flat_five                  2   \n",
        "4729    1  0.500000  0.500000         dominant_seventh                  2   \n",
        "3313    1  0.500000  0.500000            minor_seventh                  2   \n",
        "3101    1  0.500000  0.500000            minor_seventh                  2   \n",
        "2904    1  0.250000  0.250000            minor_seventh                  2   \n",
        "1369    1  0.500000  0.500000            minor_seventh                  2   \n",
        "945     1  0.500000  0.500000            minor_seventh                  2   \n",
        "\n",
        "      current_tempo  c_measure                    name  \n",
        "6610            120         88        If I Were A Bell  \n",
        "6457            120         72        If I Were A Bell  \n",
        "6305            120         48        If I Were A Bell  \n",
        "5503            120         97           Autumn Leaves  \n",
        "5223            120         57           Autumn Leaves  \n",
        "4729            120        267            Groovin High  \n",
        "3313            120         21            Groovin High  \n",
        "3101            120        148     Stella By Starlight  \n",
        "2904            120        131     Stella By Starlight  \n",
        "1369            120        220  All The Things You Are  \n",
        "945             120        155  All The Things You Are  \n",
        "\n",
        "[11 rows x 17 columns]"
       ]
      }
     ],
     "prompt_number": 63
    },
    {
     "cell_type": "code",
     "collapsed": false,
     "input": [],
     "language": "python",
     "metadata": {},
     "outputs": [],
     "prompt_number": 38
    }
   ],
   "metadata": {}
  }
 ]
}