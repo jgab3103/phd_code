{
 "metadata": {
  "name": "",
  "signature": "sha256:2e274d30b6dc631cf91eabb973a6a418ff71178af2ea8b744af8b443152d5985"
 },
 "nbformat": 3,
 "nbformat_minor": 0,
 "worksheets": [
  {
   "cells": [
    {
     "cell_type": "code",
     "collapsed": false,
     "input": [
      "import music21 as mu\n",
      "import numpy as np\n",
      "import pandas as pd\n",
      "%pylab inline\n",
      "from IPython.core.display import HTML\n",
      "from IPython.core.display import Image \n",
      "%load_ext music21.ipython21.ipExtension\n",
      "from IPython import display"
     ],
     "language": "python",
     "metadata": {},
     "outputs": [
      {
       "output_type": "stream",
       "stream": "stdout",
       "text": [
        "Populating the interactive namespace from numpy and matplotlib\n",
        "The music21.ipython21.ipExtension extension is already loaded. To reload it, use:\n",
        "  %reload_ext music21.ipython21.ipExtension\n"
       ]
      },
      {
       "output_type": "stream",
       "stream": "stderr",
       "text": [
        "WARNING: pylab import has clobbered these variables: ['display']\n",
        "`%matplotlib` prevents importing * from pylab and numpy\n"
       ]
      }
     ],
     "prompt_number": 31
    },
    {
     "cell_type": "code",
     "collapsed": false,
     "input": [
      "display.HTML(\"\\\n",
      "<audio id='stella'controls='controls' currentTime=5><source src='music_files/stella_by_starlight.mp3'></audio>\\\n",
      "<script> \\\n",
      "</script> \")\\"
     ],
     "language": "python",
     "metadata": {},
     "outputs": [
      {
       "html": [
        "<audio id='stella'controls='controls' currentTime=5><source src='music_files/stella_by_starlight.mp3'></audio><script> </script> "
       ],
       "metadata": {},
       "output_type": "pyout",
       "prompt_number": 37,
       "text": [
        "<IPython.core.display.HTML at 0x10ac1a6d0>"
       ]
      }
     ],
     "prompt_number": 37
    },
    {
     "cell_type": "code",
     "collapsed": false,
     "input": [
      "display.HTML(\"\\\n",
      "<audio id='stella'controls='controls' currentTime=5><source src='music_files/all_the_things.m4a'></audio>\\\n",
      "<script> \\\n",
      "</script> \")\\"
     ],
     "language": "python",
     "metadata": {},
     "outputs": [
      {
       "html": [
        "<audio id='stella'controls='controls' currentTime=5><source src='music_files/all_the_things.m4a'></audio><script> </script> "
       ],
       "metadata": {},
       "output_type": "pyout",
       "prompt_number": 40,
       "text": [
        "<IPython.core.display.HTML at 0x10ac1af90>"
       ]
      }
     ],
     "prompt_number": 40
    },
    {
     "cell_type": "code",
     "collapsed": false,
     "input": [],
     "language": "python",
     "metadata": {},
     "outputs": []
    }
   ],
   "metadata": {}
  }
 ]
}