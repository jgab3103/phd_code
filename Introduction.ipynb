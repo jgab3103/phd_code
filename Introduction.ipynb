{
 "metadata": {
  "name": "",
  "signature": "sha256:707983f4a3a2797ccaf96810828907b9c62ab37b3aeefbb71a0bd5826d1f03b0"
 },
 "nbformat": 3,
 "nbformat_minor": 0,
 "worksheets": [
  {
   "cells": [
    {
     "cell_type": "markdown",
     "metadata": {},
     "source": [
      "<a href =\"http://localhost:8888/notebooks/Chapter%202%20%26%203%20Methodology%20and%20Harmonic%20Analyisis.ipynb\">Chapter 2 and 3</a>"
     ]
    },
    {
     "cell_type": "heading",
     "level": 1,
     "metadata": {},
     "source": [
      "blahddasdfasd\n"
     ]
    },
    {
     "cell_type": "code",
     "collapsed": false,
     "input": [],
     "language": "python",
     "metadata": {},
     "outputs": []
    }
   ],
   "metadata": {}
  }
 ]
}