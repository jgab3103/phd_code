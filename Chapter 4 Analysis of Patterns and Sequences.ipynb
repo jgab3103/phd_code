{
 "metadata": {
  "name": "",
  "signature": "sha256:aec9d45b6f5e32a3a35fa2aa4caa3fc2d6e778dbee86b7521ed8086645d37cb8"
 },
 "nbformat": 3,
 "nbformat_minor": 0,
 "worksheets": []
}