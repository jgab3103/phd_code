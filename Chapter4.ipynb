{
 "cells": [
  {
   "cell_type": "code",
   "execution_count": 1,
   "metadata": {
    "collapsed": false
   },
   "outputs": [
    {
     "name": "stdout",
     "output_type": "stream",
     "text": [
      "Populating the interactive namespace from numpy and matplotlib\n"
     ]
    }
   ],
   "source": [
    "import pandas as pd\n",
    "from IPython.core.display import HTML\n",
    "import numpy as np\n",
    "import music21 as mu\n",
    "import pymongo\n",
    "%pylab inline\n",
    "from pymongo import MongoClient\n",
    "from bs4 import BeautifulSoup\n",
    "import re\n",
    "import pydash as py_\n",
    "pd.set_option('display.mpl_style', 'default')\n",
    "plt.rcParams['figure.figsize'] = (15, 5)\n",
    "import math\n",
    "\n",
    "\n",
    "# This is necessary to show lots of columns in pandas 0.12. \n",
    "# Not necessary in pandas 0.13.\n",
    "pd.set_option('display.width', 5000) \n",
    "pd.set_option('display.max_columns', 60)\n"
   ]
  },
  {
   "cell_type": "code",
   "execution_count": 2,
   "metadata": {
    "collapsed": true
   },
   "outputs": [],
   "source": [
    "def cleanAccidental(data_row):\n",
    "    accidentalString = str(data_row['accidental'])\n",
    "    test = re.sub('<[^>]*>', '', accidentalString)\n",
    "    return str(test) \n",
    "\n",
    "def cleanNoteName(data_row):\n",
    "    accidentalString = str(data_row['noteName'])\n",
    "    test = re.sub('<[^>]*>', '', accidentalString)\n",
    "    return str(test) \n",
    "\n",
    "def cleanOctave(data_row):\n",
    "    accidentalString = str(data_row['octave'])\n",
    "    test = re.sub('<[^>]*>', '', accidentalString)\n",
    "    return str(test) \n",
    "\n",
    "def cleanRest(data_row):\n",
    "    restVal = -1\n",
    "    restAsString = str(data_row['restFlag'])\n",
    "    if restAsString != 'None':\n",
    "        restVal ='rest'\n",
    "    else:\n",
    "        restVal = 'note'\n",
    "\n",
    "    return str(restVal)\n",
    "\n",
    "def cleanPart(data_row):\n",
    "    accidentalString = str(data_row['instrument'])\n",
    "    test = accidentalString[3:5]\n",
    "    return str(test) \n",
    "\n",
    "def convertDurationAsPerQuarterNoteIsOneBeat(data_row):\n",
    "    asFloat = float(data_row['duration'])\n",
    "    asFloat = asFloat / 256\n",
    "    asFloat = floor(asFloat * 100) / 100.0\n",
    "    \n",
    "    return round(asFloat, 2)\n",
    "\n",
    "\n",
    "\n",
    "def midiNumberAssign(data_row):\n",
    "    offsetForC = 0\n",
    "    offsetForD = 2\n",
    "    offsetForE = 4\n",
    "    offsetForF = 5\n",
    "    offsetForG = 7\n",
    "    offsetForA = 9\n",
    "    offsetForB = 11\n",
    "\n",
    "    def adjustForAccidental(accidentalVal):\n",
    "        if accidentalVal == 'None':\n",
    "            return 0\n",
    "        else:\n",
    "            return int(accidentalVal)\n",
    "\n",
    "    if data_row['octave'] != \"None\":\n",
    "        baseVal = int(data_row['octave']) * 12\n",
    "        if data_row['noteName'] == 'C':\n",
    "            return baseVal + adjustForAccidental(data_row['accidental'])\n",
    "        elif data_row['noteName'] == 'D':\n",
    "            return baseVal + offsetForD + adjustForAccidental(data_row['accidental'])\n",
    "        elif data_row['noteName'] == 'E':\n",
    "            return baseVal + offsetForE + adjustForAccidental(data_row['accidental'])\n",
    "        elif data_row['noteName'] == 'F':\n",
    "            return baseVal + offsetForF + adjustForAccidental(data_row['accidental'])\n",
    "        elif data_row['noteName'] == 'G':\n",
    "            return baseVal + offsetForG + adjustForAccidental(data_row['accidental'])\n",
    "        elif data_row['noteName'] == 'A':\n",
    "            return baseVal + offsetForA + adjustForAccidental(data_row['accidental'])\n",
    "        elif data_row['noteName'] == 'B':\n",
    "            return baseVal + offsetForB + adjustForAccidental(data_row['accidental'])\n",
    "\n",
    "\n",
    "\n",
    "def adjustForAccidental(accidentalVal):\n",
    "    if accidentalVal == 'None':\n",
    "        return 0\n",
    "    else:\n",
    "        return int(accidentalVal)\n",
    "\n",
    "    if data_row['octave'] != \"None\":\n",
    "        baseVal = int(data_row['octave']) * 12\n",
    "        if data_row['noteName'] == 'C':\n",
    "            return baseVal + adjustForAccidental(data_row['accidental'])\n",
    "        elif data_row['noteName'] == 'D':\n",
    "            return baseVal + offsetForD + adjustForAccidental(data_row['accidental'])\n",
    "        elif data_row['noteName'] == 'E':\n",
    "            return baseVal + offsetForE + adjustForAccidental(data_row['accidental'])\n",
    "        elif data_row['noteName'] == 'F':\n",
    "            return baseVal + offsetForF + adjustForAccidental(data_row['accidental'])\n",
    "        elif data_row['noteName'] == 'G':\n",
    "            return baseVal + offsetForG + adjustForAccidental(data_row['accidental'])\n",
    "        elif data_row['noteName'] == 'A':\n",
    "            return baseVal + offsetForA + adjustForAccidental(data_row['accidental'])\n",
    "        elif data_row['noteName'] == 'B':\n",
    "            return baseVal + offsetForB + adjustForAccidental(data_row['accidental'])\n",
    "\n",
    "def fixTiedNotes(data_row):\n",
    "    tieFlagString = str(data_row['tieFlag'])\n",
    "    durationToAdd = -1\n",
    "    if tieFlagString == '<tie type=\"stop\"></tie>':\n",
    "        durationToAdd = data_row['quarterNoteDuration']\n",
    "    else:\n",
    "        durationToAdd = 0\n",
    "\n",
    "    return durationToAdd\n",
    "\n",
    "\n",
    "def getChordRootAsInt(data_row):\n",
    "    x = data_row['chordDisplayName']\n",
    "    if x != -1:    \n",
    "        chordLetterVal = data_row['chordDisplayName'][0:2]\n",
    "        #print chordLetterVal\n",
    "        if chordLetterVal.strip() == 'C':\n",
    "            return 0\n",
    "        elif chordLetterVal.strip() =='C#':\n",
    "            return 1\n",
    "        elif chordLetterVal.strip() == 'Db':\n",
    "            return 1\n",
    "        elif chordLetterVal.strip() == 'D':\n",
    "            return 2\n",
    "        elif chordLetterVal.strip() == 'D#':\n",
    "            return 3\n",
    "        elif chordLetterVal.strip() == 'Eb':\n",
    "            return 3\n",
    "        elif chordLetterVal.strip() == 'E':\n",
    "            return 4\n",
    "        elif chordLetterVal.strip() == 'F':\n",
    "            return 5\n",
    "        elif chordLetterVal.strip() == 'F#':\n",
    "            return 6\n",
    "        elif chordLetterVal.strip() == 'Gb':\n",
    "            return 6\n",
    "        elif chordLetterVal.strip() == 'G':\n",
    "            return 7\n",
    "        elif chordLetterVal.strip() == 'G#':\n",
    "            return 8\n",
    "        elif chordLetterVal.strip() == 'Ab':\n",
    "            return 8\n",
    "        elif chordLetterVal.strip() == 'A':\n",
    "            return 9\n",
    "        elif chordLetterVal.strip() == 'A#':\n",
    "            return 10\n",
    "        elif chordLetterVal.strip() == 'Bb':\n",
    "            return 10\n",
    "        elif chordLetterVal.strip() == 'B':\n",
    "            return 11\n",
    "        else:\n",
    "            return -1\n",
    "       \n",
    "\n",
    "\n",
    "    \n",
    "def getChordTypeAsInt(data_row):\n",
    "    x = data_row['chordDisplayName']\n",
    "    if x != -1:\n",
    "        #print x\n",
    "        chordType = re.findall('\\s(.*)', x)\n",
    "        chordType = str(chordType[0])\n",
    "        if chordType == 'maj7':\n",
    "            return 0\n",
    "        elif chordType == 'min7':\n",
    "            return 1\n",
    "        elif chordType == 'dom7':\n",
    "            return 2\n",
    "        elif chordType == 'dim7':\n",
    "            return 3\n",
    "        elif chordType == 'maj7b5':\n",
    "            return 4\n",
    "        elif chordType == 'maj7#5':\n",
    "            return 5\n",
    "        elif chordType == 'maj7sus4':\n",
    "            return 6\n",
    "        elif chordType == 'min7b5':\n",
    "            return 7\n",
    "        elif chordType == 'dom7b5':\n",
    "            return 8\n",
    "        elif chordType == 'dom7#5':\n",
    "            return 9\n",
    "        elif chordType == 'dom7sus4':\n",
    "            return 10\n",
    "        \n",
    "        return chordType\n",
    "\n",
    "\n",
    "def chordTypeForDisplay(data_row):\n",
    "    x = data_row['chordDisplayName']\n",
    "    if x != -1:\n",
    "        chordType = re.findall('\\s(.*)', x)   \n",
    "        chordType = str(chordType[0])\n",
    "        return chordType\n",
    "    \n",
    "    \n",
    "def chordBassAsInt(data_row):\n",
    "    x = data_row['chordDisplayName']\n",
    "    if x != -1:\n",
    "        x = str(x)\n",
    "        indexOfBackslash = x.find('/')\n",
    "        if indexOfBackslash == -1:\n",
    "            return -1\n",
    "        else:\n",
    "            #function to deal with bass note\n",
    "            return 'placeholder'\n",
    "    \n",
    "\n",
    "def concatenateNoteNamesAndAccidentals(data_row):\n",
    "    retString = str(data_row['noteName'])\n",
    "    if data_row['accidental'] == '-1':\n",
    "        retString = retString + 'b'\n",
    "    elif data_row['accidental'] == '1':\n",
    "        retString = retString + '#'\n",
    "    retString = retString + str(data_row['octave'])\n",
    "    return retString\n",
    "\n",
    "\n",
    "def concatenateNoteNamesAndAccidentalsNoOctave(data_row):\n",
    "    retString = str(data_row['noteName'])\n",
    "    if data_row['accidental'] == '-1':\n",
    "        retString = retString + 'b'\n",
    "    elif data_row['accidental'] == '1':\n",
    "        retString = retString + '#'\n",
    "\n",
    "    return retString\n"
   ]
  },
  {
   "cell_type": "code",
   "execution_count": 3,
   "metadata": {
    "collapsed": false
   },
   "outputs": [],
   "source": [
    "#get next 10 chords\n",
    "# instrument\n",
    "class CreateDataSetFromXML:\n",
    "    def __init__(self, xmlFile=\"\", performerName=\"\", composerName=\"\", \n",
    "                 genre=\"\", numberOfParts=-1, title=\"\", yearOfComposition=\"\", \n",
    "                 yearOfPerformance=\"\", ongoingTempo=-1, tempoChangeIsOccuring = False):\n",
    "        self.xmlFile = xmlFile\n",
    "        self.genre = genre\n",
    "        self.numberOfParts = numberOfParts\n",
    "        self.parsedXMLData = \"\"\n",
    "        self.df = \"\"\n",
    "        self.performerName = performerName\n",
    "        self.composerName = composerName\n",
    "        self.genre = genre\n",
    "        self.numberOfParts = numberOfParts\n",
    "        self.title = title\n",
    "        self.yearOfComposition = yearOfComposition\n",
    "        self.yearOfPerformance = yearOfPerformance\n",
    "        self.ongoingTempo = ongoingTempo\n",
    "        self.tempoChangeIsOccuring = tempoChangeIsOccuring\n",
    "\n",
    "    def convertXMLToDataFrame(self):\n",
    "        parsedXMLData = BeautifulSoup(open(self.xmlFile))\n",
    "        allNotes = parsedXMLData.findAll('note')\n",
    "        listOfNoteEvents = []\n",
    "        for note in allNotes:\n",
    "            dictForNoteEvent = {}\n",
    "            if note.parent.words:\n",
    "                chord =  str(note.parent.words.text)\n",
    "            else:\n",
    "                chord = -1\n",
    "            dictForNoteEvent['chordDisplayName'] = chord\n",
    "            dictForNoteEvent['restFlag'] = note.rest\n",
    "            dictForNoteEvent['noteName'] = note.step\n",
    "            dictForNoteEvent['octave'] = note.octave\n",
    "            dictForNoteEvent['duration'] = note.duration.text\n",
    "            dictForNoteEvent['instrument'] = note.instrument.attrs.values()\n",
    "            dictForNoteEvent['accidental'] = note.alter\n",
    "            dictForNoteEvent['tieFlag'] = str(note.tie)\n",
    "\n",
    "            listOfNoteEvents.append(dictForNoteEvent)\n",
    "        self.parsedXMLData = listOfNoteEvents\n",
    "        self.df = pd.DataFrame(self.parsedXMLData)\n",
    "        \n",
    "    def cleanDataFrame(self):\n",
    "        '''initial clean of dataframe'''\n",
    "        self.df['performerName'] = self.performerName\n",
    "        self.df['composerName'] = self.composerName\n",
    "        self.df['genre'] = self.genre\n",
    "        self.df['numberOfParts'] = self.numberOfParts\n",
    "        self.df['title'] = self.title\n",
    "        self.df['yearOfComposition'] = self.yearOfComposition\n",
    "        self.df['yearOfPerformance'] = self.yearOfPerformance\n",
    "        self.df['ongoingTempo'] = self.ongoingTempo\n",
    "        self.df['title'] = self.title\n",
    "        self.df['accidental'] = self.df.apply(cleanAccidental, axis=1) \n",
    "        self.df['noteName'] = self.df.apply(cleanNoteName, axis=1) \n",
    "        self.df['octave'] = self.df.apply(cleanOctave, axis=1) \n",
    "        self.df['restFlag'] = self.df.apply(cleanRest, axis=1)\n",
    "        self.df['part'] = self.df.apply(cleanPart, axis=1)\n",
    "        self.df['quarterNoteDuration'] = self.df.apply(convertDurationAsPerQuarterNoteIsOneBeat, axis=1)\n",
    "        self.df['midiNumber'] = self.df.apply(midiNumberAssign, axis=1)\n",
    "        self.df['valueToAddToTiedNote']=self.df.apply(fixTiedNotes, axis=1)\n",
    "        self.df['noteDisplayName'] = self.df.apply(concatenateNoteNamesAndAccidentals, axis=1)\n",
    "        self.df['noteDisplayNameNoOctave'] = self.df.apply(concatenateNoteNamesAndAccidentalsNoOctave, axis=1)\n",
    "        self.df['moveTieForFix'] = self.df['valueToAddToTiedNote'].shift(-1)\n",
    "        self.df = self.df[self.df.tieFlag != '<tie type=\"stop\"></tie>']\n",
    "        self.df['updatedQuarterNoteDuration'] = self.df['quarterNoteDuration'] + self.df['moveTieForFix']\n",
    "        self.df['quarterNoteDuration'] = self.df['updatedQuarterNoteDuration']\n",
    "        self.df['nextNoteFreqDistance'] = self.df['midiNumber'].shift(-1)\n",
    "        self.df['nextNoteFreqDistance'] = self.df['nextNoteFreqDistance'] - self.df['midiNumber']\n",
    "\n",
    "\n",
    "        \n",
    "    def fixLocation(self):\n",
    "        pianoPart = self.df[self.df['part'] == 'P1']\n",
    "        bassPart = self.df[self.df['part'] == 'P2']\n",
    "        pianoPart['noteEventLocation'] = pianoPart['quarterNoteDuration'].cumsum()\n",
    "        bassPart['noteEventLocation'] = bassPart['quarterNoteDuration'].cumsum()\n",
    "        pianoPart['noteEventStartingLocation'] = pianoPart['noteEventLocation'].shift()\n",
    "        bassPart['noteEventStartingLocation'] = bassPart['noteEventLocation'].shift()\n",
    "        self.df = pd.concat([pianoPart, bassPart], axis=0)\n",
    "        self.df['noteEventStartingLocation'].fillna(0.0, inplace=True)\n",
    "        self.df = self.df.sort(['noteEventStartingLocation', 'part'], ascending=[1,0])\n",
    "        #display(HTML(self.df[0:100].to_html()))\n",
    "        self.df = self.df.reset_index(drop=True)\n",
    "\n",
    "\n",
    "    def updateChordNumericalData(self):\n",
    "        self.df['chordRootAsInt'] = self.df.apply(getChordRootAsInt, axis=1)\n",
    "        self.df['chordTypeAsInt'] = self.df.apply(getChordTypeAsInt, axis=1)\n",
    "        self.df['chordBassAsInt'] = self.df.apply(chordBassAsInt, axis=1)\n",
    "        self.df['chordTypeDisplay'] = self.df.apply(chordTypeForDisplay, axis=1)\n",
    "        self.df['chordTypeDisplay'].fillna(method='ffill', inplace=True)\n",
    "        \n",
    "        \n",
    "    def fillChordVals(self):\n",
    "        self.df['chordDisplayName'].replace(-1, np.nan, inplace = True)\n",
    "        self.df['chordDisplayName'].fillna(method='ffill', inplace=True)\n",
    "\n",
    "    \n",
    "    def removeUnusedColumns(self):\n",
    "        del self.df['tieFlag']\n",
    "        del self.df['valueToAddToTiedNote']\n",
    "        del self.df['moveTieForFix']\n",
    "        del self.df['accidental']\n",
    "        del self.df['noteName']\n",
    "        del self.df['octave']\n",
    "        del self.df['updatedQuarterNoteDuration']\n",
    "        del self.df['instrument']\n",
    "        del self.df['duration']\n",
    "\n",
    "\n",
    "    def returnPreparedDataFrame(self):\n",
    "        return self.df\n",
    "        "
   ]
  },
  {
   "cell_type": "markdown",
   "metadata": {},
   "source": [
    "<h2>Data Preparation</h2>"
   ]
  },
  {
   "cell_type": "code",
   "execution_count": 4,
   "metadata": {
    "collapsed": false,
    "scrolled": true
   },
   "outputs": [],
   "source": [
    "stellaData = CreateDataSetFromXML(xmlFile=\"FinalDataSet/XMLFiles/JazzSolos/KJStellaByStarlight1983_1534_161.xml\", \n",
    "                                  performerName=\"Keith Jarrett\", composerName=\"Victor Young\", genre=\"jazz\", \n",
    "                                  numberOfParts=2, title=\"Stella By Starlight\", \n",
    "                                  yearOfComposition=\"1943\", yearOfPerformance=\"1983\", \n",
    "                                  ongoingTempo=120, tempoChangeIsOccuring = False)\n",
    "stellaData.convertXMLToDataFrame()\n",
    "stellaData.cleanDataFrame()\n",
    "stellaData.fixLocation()\n",
    "stellaData.updateChordNumericalData()\n",
    "stellaData.removeUnusedColumns()\n",
    "stellaData.fillChordVals()\n",
    "stellaDf = stellaData.returnPreparedDataFrame()"
   ]
  },
  {
   "cell_type": "code",
   "execution_count": 5,
   "metadata": {
    "collapsed": false
   },
   "outputs": [],
   "source": [
    "#stellaDf.head(100)"
   ]
  },
  {
   "cell_type": "code",
   "execution_count": 6,
   "metadata": {
    "collapsed": false
   },
   "outputs": [],
   "source": [
    "groovinData = CreateDataSetFromXML(xmlFile=\"FinalDataSet/XMLFiles/JazzSolos/KJGroovinHigh1999_1996_290.xml\", \n",
    "                                  performerName=\"Keith Jarrett\", composerName=\"Dizzy Gillespie\", genre=\"jazz\", \n",
    "                                  numberOfParts=2, title=\"Groovin High\", \n",
    "                                  yearOfComposition=\"1943\", yearOfPerformance=\"1999\", \n",
    "                                  ongoingTempo=120, tempoChangeIsOccuring = False)\n",
    "groovinData.convertXMLToDataFrame()\n",
    "groovinData.cleanDataFrame()\n",
    "groovinData.fixLocation()\n",
    "groovinData.updateChordNumericalData()\n",
    "groovinData.removeUnusedColumns()\n",
    "groovinData.fillChordVals()\n",
    "groovinDf = groovinData.returnPreparedDataFrame()"
   ]
  },
  {
   "cell_type": "code",
   "execution_count": 7,
   "metadata": {
    "collapsed": false
   },
   "outputs": [],
   "source": [
    "autumnData = CreateDataSetFromXML(xmlFile=\"FinalDataSet/XMLFiles/JazzSolos/KJAutumnLeaves1996_1371_192.xml\", \n",
    "                                  performerName=\"Keith Jarrett\", composerName=\"Joseph Kosma\", genre=\"jazz\", \n",
    "                                  numberOfParts=2, title=\"Autumn Leaves\", \n",
    "                                  yearOfComposition=\"1943\", yearOfPerformance=\"2002\", \n",
    "                                  ongoingTempo=120, tempoChangeIsOccuring = False)\n",
    "autumnData.convertXMLToDataFrame()\n",
    "autumnData.cleanDataFrame()\n",
    "autumnData.fixLocation()\n",
    "autumnData.updateChordNumericalData()\n",
    "autumnData.removeUnusedColumns()\n",
    "autumnData.fillChordVals()\n",
    "autumnDf = autumnData.returnPreparedDataFrame()"
   ]
  },
  {
   "cell_type": "code",
   "execution_count": 8,
   "metadata": {
    "collapsed": true
   },
   "outputs": [],
   "source": [
    "ifIWereData = CreateDataSetFromXML(xmlFile=\"FinalDataSet/XMLFiles/JazzSolos/KJIfIWereABell2002_2161_227.xml\", \n",
    "                                  performerName=\"Keith Jarrett\", composerName=\"Frank Loesser\", genre=\"jazz\", \n",
    "                                  numberOfParts=2, title=\"If I Were A Bell\", \n",
    "                                  yearOfComposition=\"1943\", yearOfPerformance=\"1999\", \n",
    "                                  ongoingTempo=120, tempoChangeIsOccuring = False)\n",
    "ifIWereData.convertXMLToDataFrame()\n",
    "ifIWereData.cleanDataFrame()\n",
    "ifIWereData.fixLocation()\n",
    "ifIWereData.updateChordNumericalData()\n",
    "ifIWereData.removeUnusedColumns()\n",
    "ifIWereData.fillChordVals()\n",
    "ifIWereDf = ifIWereData.returnPreparedDataFrame()"
   ]
  },
  {
   "cell_type": "code",
   "execution_count": 9,
   "metadata": {
    "collapsed": true
   },
   "outputs": [],
   "source": [
    "allTheThingsData = CreateDataSetFromXML(xmlFile=\"FinalDataSet/XMLFiles/JazzSolos/KJAllTheThingsYouAre1983_2143_290.xml\", \n",
    "                                  performerName=\"Keith Jarrett\", composerName=\"Someone\", genre=\"jazz\", \n",
    "                                  numberOfParts=2, title=\"All The Things You Are\", \n",
    "                                  yearOfComposition=\"1943\", yearOfPerformance=\"1983\", \n",
    "                                  ongoingTempo=120, tempoChangeIsOccuring = False)\n",
    "allTheThingsData.convertXMLToDataFrame()\n",
    "allTheThingsData.cleanDataFrame()\n",
    "allTheThingsData.fixLocation()\n",
    "allTheThingsData.updateChordNumericalData()\n",
    "allTheThingsData.removeUnusedColumns()\n",
    "allTheThingsData.fillChordVals()\n",
    "allTheThingsDf = allTheThingsData.returnPreparedDataFrame()"
   ]
  },
  {
   "cell_type": "code",
   "execution_count": 10,
   "metadata": {
    "collapsed": false
   },
   "outputs": [],
   "source": [
    "df = pd.concat([stellaDf, groovinDf, autumnDf, ifIWereDf, allTheThingsDf], axis=0)\n",
    "#df = stellaDf"
   ]
  },
  {
   "cell_type": "code",
   "execution_count": 11,
   "metadata": {
    "collapsed": false
   },
   "outputs": [],
   "source": [
    "#df.tail(500)"
   ]
  },
  {
   "cell_type": "code",
   "execution_count": 12,
   "metadata": {
    "collapsed": false
   },
   "outputs": [
    {
     "data": {
      "text/plain": [
       "If I Were A Bell          2628\n",
       "All The Things You Are    2375\n",
       "Groovin High              2118\n",
       "Stella By Starlight       1801\n",
       "Autumn Leaves             1461\n",
       "dtype: int64"
      ]
     },
     "execution_count": 12,
     "metadata": {},
     "output_type": "execute_result"
    }
   ],
   "source": [
    "df['title'].value_counts()"
   ]
  },
  {
   "cell_type": "code",
   "execution_count": 13,
   "metadata": {
    "collapsed": false
   },
   "outputs": [],
   "source": [
    "#df['accidental'].value_counts()"
   ]
  },
  {
   "cell_type": "markdown",
   "metadata": {},
   "source": [
    "<h3>Chapter 4 - An analysis of melody</h3>\n",
    "\n",
    "<br>\n",
    "<ol>\n",
    "<li><a href=\"#introduction\">Introduction</a></li>\n",
    "<li><a href=\"#someGeneralCharacteristics\">Some General Characteristics</a></li>\n",
    "<li><a href=\"#phraseLength\">Phrase Length</a></li>\n",
    "<li><a href=\"#microphrase\">Commonly used patterns within phrases</a></li>\n",
    "<li><a href=\"#keySignature\">The influence of key signature</a></li>\n",
    "<li><a href=\"#repetitionAndSequences\">Repetition and sequences</a></li>\n",
    "<li><a href=\"#rhythm\">The use of rhythm</a></li>\n",
    "<li><a href=\"#contour\">Melodic contours</a></li>\n",
    "<li><a href=\"#tempo\">The influence of tempo</a></li>\n",
    "<li><a href=\"#timeSignaure\">The influence of time signature</a></li>\n",
    "<li><a href=\"#songLocation\">How melodic phrases are affected by the place they occur</a></li>\n",
    "\n",
    "</ol>\n",
    "\n"
   ]
  },
  {
   "cell_type": "markdown",
   "metadata": {},
   "source": [
    "<h4><a id=\"introduction\">Introduction</a></h4>\n",
    "<div>\n",
    "    The following two chapters will undertake a data driven analysis of 10 Keith Jarrett solos. The first of the chapters will cover questions regarding melody and rhythm. Melody and Rhythm, often regarded as seperate components have here been covered together, as a case can be made that there are interdependcies betwen them. What is the data revealing about jazz improvisation practice\n",
    "</div>\n",
    "<div>\n",
    "    it is difficult ot differentiate rhtymic devices from melodic devicies so they will be dealt with together. The previous chapters have emphasised that this data driven, so no assumptions, but the practical usefulness of the findings are aimed at according with the findings of the previous chapter. The kinds of questions that can be asked explore typical happen in jazz, questions of taste. How long should and improvised phrase be? Is there an ideal length and does this change depending on the tempo and chord progression? Is key a factor? Do different tonal centres tend to lead toward different used, registers. Does the length of prhase change over time. Is Keith Jarrett's development moving towards a particular type of phrases. The main concerns of jazz music outlined in the previous chapters are drivers for the kinds of questions that are being asked\n",
    "</div>"
   ]
  },
  {
   "cell_type": "code",
   "execution_count": 14,
   "metadata": {
    "collapsed": true
   },
   "outputs": [],
   "source": [
    "soloMetaData = pd.read_csv('miscData/soloMetaData.csv')"
   ]
  },
  {
   "cell_type": "code",
   "execution_count": 15,
   "metadata": {
    "collapsed": false,
    "scrolled": true
   },
   "outputs": [
    {
     "data": {
      "text/html": [
       "<div>\n",
       "<table border=\"1\" class=\"dataframe\">\n",
       "  <thead>\n",
       "    <tr style=\"text-align: right;\">\n",
       "      <th></th>\n",
       "      <th>Title</th>\n",
       "      <th>Year Recorded</th>\n",
       "      <th>Key Signature</th>\n",
       "      <th>Tempo of this perf</th>\n",
       "      <th>Time Signature</th>\n",
       "      <th>Length</th>\n",
       "    </tr>\n",
       "  </thead>\n",
       "  <tbody>\n",
       "    <tr>\n",
       "      <th>0</th>\n",
       "      <td>Stella By Starlight</td>\n",
       "      <td>1983</td>\n",
       "      <td>Bb Major</td>\n",
       "      <td>220</td>\n",
       "      <td>4/4.</td>\n",
       "      <td>296</td>\n",
       "    </tr>\n",
       "    <tr>\n",
       "      <th>1</th>\n",
       "      <td>Groovin High</td>\n",
       "      <td>1999</td>\n",
       "      <td>Eb Major</td>\n",
       "      <td>180</td>\n",
       "      <td>4/4.</td>\n",
       "      <td>189</td>\n",
       "    </tr>\n",
       "    <tr>\n",
       "      <th>2</th>\n",
       "      <td>If I Were A Bell</td>\n",
       "      <td>2002</td>\n",
       "      <td>Ab Major</td>\n",
       "      <td>178</td>\n",
       "      <td>4/4.</td>\n",
       "      <td>187</td>\n",
       "    </tr>\n",
       "    <tr>\n",
       "      <th>3</th>\n",
       "      <td>Autumn Leaves</td>\n",
       "      <td>1996</td>\n",
       "      <td>G minor</td>\n",
       "      <td>200</td>\n",
       "      <td>4/4.</td>\n",
       "      <td>200</td>\n",
       "    </tr>\n",
       "    <tr>\n",
       "      <th>4</th>\n",
       "      <td>All The Things You Are</td>\n",
       "      <td>1983</td>\n",
       "      <td>Ab Major</td>\n",
       "      <td>120</td>\n",
       "      <td>4/4.</td>\n",
       "      <td>300</td>\n",
       "    </tr>\n",
       "  </tbody>\n",
       "</table>\n",
       "</div>"
      ],
      "text/plain": [
       "                    Title  Year Recorded Key Signature  Tempo of this perf Time Signature  Length \n",
       "0     Stella By Starlight           1983      Bb Major                 220           4/4.      296\n",
       "1            Groovin High           1999      Eb Major                 180           4/4.      189\n",
       "2        If I Were A Bell           2002      Ab Major                 178           4/4.      187\n",
       "3           Autumn Leaves           1996       G minor                 200           4/4.      200\n",
       "4  All The Things You Are           1983      Ab Major                 120           4/4.      300"
      ]
     },
     "execution_count": 15,
     "metadata": {},
     "output_type": "execute_result"
    }
   ],
   "source": [
    "soloMetaData"
   ]
  },
  {
   "cell_type": "markdown",
   "metadata": {},
   "source": [
    "<p>'Here's Miles,\"[Wynton Marsalis says and sings a phrase by Miles Davis].  \"I would say, \"Damn, why did he play like that? Here's 'Trane [Marsalis sings a passage by John Coltrane]. \"Trane's playing just the exact opposite. Why is 'Trane playing like that? When you are just learning jazz, everything is mystical\"(Berliner, 34).</p>  <p>This quote above is taken from the opening pages of Peter Berliner's landmark study on jazz improvisation and highlights the critical problem of jazz improvisation: it is not clear what jazz improvisation really is. When musicians improvise in jazz, on some level decisions are being taken that result in certain notes being heard at certain times. Yet the reasons behind these decisions often remain unclear. Jazz musicians will often claim that they 'have no idea what [they] are going to do when they take a solo'(Berliner, 66). The mystical process of jazz improvisation is further complicated by musicians improvising jazz but sounding different to each other. Consider John Coltrane's choice of notes and construction of melodic phrases compared to Miles Davis, when they both played solos on Davis' 1958 record, <u>Kind of Blue</u>. Yet both solos are regarded as somehow being jazz.</p>       <p>The ambiguity that surrounds jazz improvisation also presents challenges to musicians who are trying to learn their craft. What kind of things should they practice? What note is appropriate to play at any given time? The jazz education landscape is littered with instructional texts that will often highlight the importance of playing certain notes from certain scales, or playing notes that are contained in the harmonic progressions that are being improvised over. But when looking at note choice in jazz solos, this clearly not what is going on, or at least not the complete story. Jazz musicians and educators alike will often also say that improvisation is also supposed to be spontaneous. There should be no preconception when about what is to be played. So how does the aspiring jazz musician seek to train him or herself to have no preconceived notion of what to play? As well as this almost mystical side to jazz improvisation there might also be best called the craft of being a jazz musician: the practical skills that are expected in any ensemble situation. Professional jazz musicians are expected to know thousands of jazz standards in any key, and expected to know the idiomatic things that often happen in these jazz standards. They are expected to be able to play at fast tempos and employ specific rhythmic patterns that are idiomatic of the genre. So how does a jazz musicians work in such a prescriptive environment but at the same time be somehow spontaneous?</p>  <p>This chapter and the next will analyse what note choices are being made when Keith Jarrett when he improvising on a range of jazz standards. The purpose of the analysis is not to try and discover whether there is, or is not, some kind underlying preconception or underlying philosophy. Instead it is to understand when certain notes are chosen for Jarrett and if there is any structure to this. Part of the motivation for the analysis is to provide an insight into the practical issues faced by jazz musicians seeking to understand which notes are appropriate and when they are appropriate. </p>      <p>The analysis in this dissertation is completely data-driven. It examines the notes in the solos and the order which they are played. The analysis makes it possible to examine the harmonic progressions of these jazz standards with a view to understanding these progressions influence note choice. Each standard also has a main melody (being the main melody of the song written by the composer). This makes it possible to ascertain if there is a relationship between the main melody and the note choices in the solo. In this chapter, the focus will be on how individual chords and harmonic progressions can influence note choice. The following chapter will look at the ways in which series of notes are joined together to create melodies and these phrases.</p>      <p>The data set that informs this analysis will show that, even in Keith Jarrett's solos where no single phrase is ever repeated across the entire corpus (extremely unusual even for a jazz musician), there is rich and deep structure to be found. Not only does this shed light on how consciousness mediates creative decision making, but also makes it possible set the foundational of a model that can do this.</p>       <p>The benefit of taking a data-driven approach to the analysis is that it becomes possible to take everything into account, to discover nuanced contexts in which note choices are being made, and how often these contexts occur. It becomes feasible to interrogate any note in the data set to understand when it might and might not occur, and even attach a quantitative probability to this. While it may be feasible however, there also practical limitations that come with this approach. Therefor, this this chapter will take an in depth analysis of only the dominant seventh chord and explore how this chord influences note choice, and this choice changes depending on the chord's context. To be thorough, appendix 2 also shows the design of a search engine that users can use to examine when notes occur in what situations which a wide variety of parameters including different chords and tempos and a working version of the search engine can be found <a href=\"#\"> here.</a></p>\n",
    "  <div>\n",
    "    It may seem counter intuitive that phrase has a relathioship not to harmony, but in this chapter we will consider the role of phrases only, irrespective of harmony. It turns our that there is a remarkable similiarity, a stattistically significant correlation between phrases regardless of the harmony in which they occur. The following chapter will deal with the harmony\n",
    "</div>"
   ]
  },
  {
   "cell_type": "markdown",
   "metadata": {},
   "source": [
    "<h4><a id=\"someGeneralCharacteristics\">Some General Characterstics</a></h4>"
   ]
  },
  {
   "cell_type": "code",
   "execution_count": 16,
   "metadata": {
    "collapsed": false
   },
   "outputs": [
    {
     "data": {
      "text/plain": [
       "chordDisplayName              object\n",
       "restFlag                      object\n",
       "performerName                 object\n",
       "composerName                  object\n",
       "genre                         object\n",
       "numberOfParts                  int64\n",
       "title                         object\n",
       "yearOfComposition             object\n",
       "yearOfPerformance             object\n",
       "ongoingTempo                   int64\n",
       "part                          object\n",
       "quarterNoteDuration          float64\n",
       "midiNumber                   float64\n",
       "noteDisplayName               object\n",
       "noteDisplayNameNoOctave       object\n",
       "nextNoteFreqDistance         float64\n",
       "noteEventLocation            float64\n",
       "noteEventStartingLocation    float64\n",
       "chordRootAsInt               float64\n",
       "chordTypeAsInt               float64\n",
       "chordBassAsInt               float64\n",
       "chordTypeDisplay              object\n",
       "dtype: object"
      ]
     },
     "execution_count": 16,
     "metadata": {},
     "output_type": "execute_result"
    }
   ],
   "source": [
    "df.dtypes"
   ]
  },
  {
   "cell_type": "code",
   "execution_count": 48,
   "metadata": {
    "collapsed": false
   },
   "outputs": [
    {
     "data": {
      "text/html": [
       "<div>\n",
       "<table border=\"1\" class=\"dataframe\">\n",
       "  <thead>\n",
       "    <tr style=\"text-align: right;\">\n",
       "      <th></th>\n",
       "      <th>chordDisplayName</th>\n",
       "      <th>restFlag</th>\n",
       "      <th>performerName</th>\n",
       "      <th>composerName</th>\n",
       "      <th>genre</th>\n",
       "      <th>numberOfParts</th>\n",
       "      <th>title</th>\n",
       "      <th>yearOfComposition</th>\n",
       "      <th>yearOfPerformance</th>\n",
       "      <th>ongoingTempo</th>\n",
       "      <th>part</th>\n",
       "      <th>quarterNoteDuration</th>\n",
       "      <th>midiNumber</th>\n",
       "      <th>noteDisplayName</th>\n",
       "      <th>noteDisplayNameNoOctave</th>\n",
       "      <th>nextNoteFreqDistance</th>\n",
       "      <th>noteEventLocation</th>\n",
       "      <th>noteEventStartingLocation</th>\n",
       "      <th>chordRootAsInt</th>\n",
       "      <th>chordTypeAsInt</th>\n",
       "      <th>chordBassAsInt</th>\n",
       "      <th>chordTypeDisplay</th>\n",
       "    </tr>\n",
       "  </thead>\n",
       "  <tbody>\n",
       "    <tr>\n",
       "      <th>0</th>\n",
       "      <td>E min7b5</td>\n",
       "      <td>note</td>\n",
       "      <td>Keith Jarrett</td>\n",
       "      <td>Victor Young</td>\n",
       "      <td>jazz</td>\n",
       "      <td>2</td>\n",
       "      <td>Stella By Starlight</td>\n",
       "      <td>1943</td>\n",
       "      <td>1983</td>\n",
       "      <td>120</td>\n",
       "      <td>P2</td>\n",
       "      <td>4</td>\n",
       "      <td>52</td>\n",
       "      <td>E4</td>\n",
       "      <td>E</td>\n",
       "      <td>-7</td>\n",
       "      <td>4</td>\n",
       "      <td>0</td>\n",
       "      <td>4</td>\n",
       "      <td>7</td>\n",
       "      <td>-1</td>\n",
       "      <td>min7b5</td>\n",
       "    </tr>\n",
       "  </tbody>\n",
       "</table>\n",
       "</div>"
      ],
      "text/plain": [
       "  chordDisplayName restFlag  performerName  composerName genre  numberOfParts                title yearOfComposition yearOfPerformance  ongoingTempo part  quarterNoteDuration  midiNumber noteDisplayName noteDisplayNameNoOctave  nextNoteFreqDistance  noteEventLocation  noteEventStartingLocation  chordRootAsInt  chordTypeAsInt  chordBassAsInt chordTypeDisplay\n",
       "0         E min7b5     note  Keith Jarrett  Victor Young  jazz              2  Stella By Starlight              1943              1983           120   P2                    4          52              E4                       E                    -7                  4                          0               4               7              -1           min7b5"
      ]
     },
     "execution_count": 48,
     "metadata": {},
     "output_type": "execute_result"
    }
   ],
   "source": [
    "df.head(1)"
   ]
  },
  {
   "cell_type": "code",
   "execution_count": 46,
   "metadata": {
    "collapsed": false
   },
   "outputs": [
    {
     "data": {
      "text/plain": [
       "10383"
      ]
     },
     "execution_count": 46,
     "metadata": {},
     "output_type": "execute_result"
    }
   ],
   "source": [
    "df['restFlag'].count()"
   ]
  },
  {
   "cell_type": "markdown",
   "metadata": {},
   "source": [
    "<div>The complete corpus of data (available in appendix 1 as a downloadable .csv file) contains 10 solos, each between 3 and 7 minutes long. All together, they comprise 10,383 rows of data. Each row can be considered as some kind of music event, either a note or rest takin gplace on the score and each record contains a number of metadata type characteristics (such as title, performer etc.) Each record contains 19 data attributes which can be seen in teh table above</div>\n",
    "\n"
   ]
  },
  {
   "cell_type": "markdown",
   "metadata": {},
   "source": [
    "<div>Before going into depth it is worth considering some general characteristics of this dataset. Below, Figure x shows all the possible things that can happen in these solos. Across the corpus there are over 1200 instances of rest, the next most common thing that happens is C5 of F4</div>"
   ]
  },
  {
   "cell_type": "code",
   "execution_count": 21,
   "metadata": {
    "collapsed": false
   },
   "outputs": [
    {
     "data": {
      "text/plain": [
       "<matplotlib.axes.AxesSubplot at 0x113271bd0>"
      ]
     },
     "execution_count": 21,
     "metadata": {},
     "output_type": "execute_result"
    },
    {
     "data": {
      "image/png": "[encoded data removed]",
      "text/plain": [
       "<matplotlib.figure.Figure at 0x115cb82d0>"
      ]
     },
     "metadata": {},
     "output_type": "display_data"
    }
   ],
   "source": [
    "#df2 = df[df['noteDisplayName'] != 'NoneNone']\n",
    "df['noteDisplayName'].value_counts().plot(kind=\"bar\")"
   ]
  },
  {
   "cell_type": "markdown",
   "metadata": {},
   "source": [
    "<div>At a very high level, some interesting telling things about the data, when considering that 88 notes, and it is possible that any can be played at any time, and there is no repetition. While there are 88 possible notes that Jarrett might play, the improvised solos take place across a far smaller fante. Possible to play all 88 notes of the piano keyboard, but Jarrett uses less than half of these, only 43% of the avaialble notes certainly note the case that jazz solos utilise all 38 possible notes of th piano keybaord</div>\n",
    "<div>"
   ]
  },
  {
   "cell_type": "code",
   "execution_count": 22,
   "metadata": {
    "collapsed": false
   },
   "outputs": [
    {
     "data": {
      "text/plain": [
       "43"
      ]
     },
     "execution_count": 22,
     "metadata": {},
     "output_type": "execute_result"
    }
   ],
   "source": [
    "#the amount of notes used in solos\n",
    "len(df['midiNumber'].value_counts().values)"
   ]
  },
  {
   "cell_type": "code",
   "execution_count": 23,
   "metadata": {
    "collapsed": false
   },
   "outputs": [
    {
     "data": {
      "text/plain": [
       "5067"
      ]
     },
     "execution_count": 23,
     "metadata": {},
     "output_type": "execute_result"
    }
   ],
   "source": [
    "#the most common note used\n",
    "df['midiNumber'].value_counts().values[0:10].sum()"
   ]
  },
  {
   "cell_type": "code",
   "execution_count": 24,
   "metadata": {
    "collapsed": false
   },
   "outputs": [
    {
     "data": {
      "text/plain": [
       "0.48800924588269284"
      ]
     },
     "execution_count": 24,
     "metadata": {},
     "output_type": "execute_result"
    }
   ],
   "source": [
    "float(df['midiNumber'].value_counts().values[0:10].sum()) / df['restFlag'].count()"
   ]
  },
  {
   "cell_type": "code",
   "execution_count": 25,
   "metadata": {
    "collapsed": false
   },
   "outputs": [
    {
     "data": {
      "text/plain": [
       "<matplotlib.axes.AxesSubplot at 0x115c9c590>"
      ]
     },
     "execution_count": 25,
     "metadata": {},
     "output_type": "execute_result"
    },
    {
     "data": {
      "image/png": "[encoded data removed]",
      "text/plain": [
       "<matplotlib.figure.Figure at 0x116085a50>"
      ]
     },
     "metadata": {},
     "output_type": "display_data"
    }
   ],
   "source": [
    "df2 = df[df['noteDisplayNameNoOctave'] != 'None']\n",
    "df2['noteDisplayNameNoOctave'].value_counts().plot(kind=\"bar\")"
   ]
  },
  {
   "cell_type": "markdown",
   "metadata": {},
   "source": [
    "\n",
    "<div>Not only do the notes take place on a far smaller range(D5, F4...) account for 52% o the notes played. Even though there appears to be much variation, phrase, no repetition, possible notes all possible notes, the data suggests that leaving everything else aside, there is not as much variation extrememly limited, it is not the case, there is not as much randomness in this data</div>\n",
    "<br>\n",
    "<div>\n",
    "   What is driving note choice, It is possible to show that Jarrett uses all twelve notes of the octave regadless of the chord. There are instances. So is there a way to show global trends in note choice?\n",
    "    It is self evident to expect Jarrett uses a smaller range, limitations of the nature of right hand of the piano, the immediete questions might be to ask that if some more common than others and can any reason be found for this? But a deeper question here is whether The data-set shows that Jarrett not only utilises a limited range of the piano for solos (which is perhaps obvious), but it is not a uniform distribution. \n",
    "   In addition to examining when certain midi frequencies occur (which denote every key on the piano), it is possible to look on at the notes themselves, regardless of the octave in which they may appear. The figure below (Figure 3.x) provides a visualisation of this. The y-axis shows the count of occurrences of particular notes regardless of octave, and the x-axis lists which notes these are (a legend for this can be seen below the graph). This graph reveals that some notes (such as Eb, C, G and D) occur approximately twice as much as some other notes notes (such as B, F#, E and C#). Although Jarrett uses all 12 notes of the octave and is it possible to find the 12 notes in play during, not all of these notes are used interchangeably, and the underlying key signature of the work importany determiner</div>\n"
   ]
  },
  {
   "cell_type": "code",
   "execution_count": 26,
   "metadata": {
    "collapsed": false,
    "scrolled": true
   },
   "outputs": [
    {
     "data": {
      "image/png": "[encoded data removed]",
      "text/plain": [
       "<matplotlib.figure.Figure at 0x115d1c690>"
      ]
     },
     "metadata": {},
     "output_type": "display_data"
    }
   ],
   "source": [
    "fig, axes = plt.subplots(nrows=2,ncols=3)\n",
    "\n",
    "df2[df2['title'] == 'Stella By Starlight']['noteDisplayNameNoOctave'].value_counts()[0:10].plot(kind=\"bar\", ax=axes[0,0], figsize=(20, 10), title='Stella By Starlight')\n",
    "df2[df2['title'] == 'Autumn Leaves']['noteDisplayNameNoOctave'].value_counts()[0:10].plot(kind=\"bar\", ax=axes[0,1], figsize=(20, 10), title='Autumn Leaves')\n",
    "df2[df2['title'] == 'Groovin High']['noteDisplayNameNoOctave'].value_counts()[0:10].plot(kind=\"bar\", ax=axes[0,2], figsize=(20, 10), title='Groovin High')\n",
    "df2[df2['title'] == 'All The Things You Are']['noteDisplayNameNoOctave'].value_counts()[0:10].plot(kind=\"bar\", ax=axes[1,0], figsize=(20, 10), title='All The Things You Are')\n",
    "df2[df2['title'] == 'If I Were A Bell']['noteDisplayNameNoOctave'].value_counts()[0:10].plot(kind=\"bar\", ax=axes[1,1], figsize=(20, 10), title='If I Were A Bell')\n",
    "subplots_adjust(left=None, bottom=None, right=None, top=None, wspace=None, hspace=0.8)\n",
    "\n",
    "left  = 0.125  # the left side of the subplots of the figure\n",
    "right = 0.9    # the right side of the subplots of the figure\n",
    "bottom = 0.1   # the bottom of the subplots of the figure\n",
    "top = 0.9      # the top of the subplots of the figure\n",
    "wspace = 0.2   # the amount of width reserved for blank space between subplots\n",
    "hspace = 0.5   # the amount of height reserved for white space between subplots"
   ]
  },
  {
   "cell_type": "markdown",
   "metadata": {},
   "source": [
    "<div>The collorary of this to examine note choice that seldom occurs. The figure below shows"
   ]
  },
  {
   "cell_type": "markdown",
   "metadata": {},
   "source": [
    "<h5>The most seldom occuring notes</h5>"
   ]
  },
  {
   "cell_type": "code",
   "execution_count": 27,
   "metadata": {
    "collapsed": false,
    "scrolled": true
   },
   "outputs": [
    {
     "data": {
      "image/png": "[encoded data removed]",
      "text/plain": [
       "<matplotlib.figure.Figure at 0x116480910>"
      ]
     },
     "metadata": {},
     "output_type": "display_data"
    }
   ],
   "source": [
    "fig, axes = plt.subplots(nrows=2,ncols=3)\n",
    "\n",
    "df2[df2['title'] == 'Stella By Starlight']['noteDisplayNameNoOctave'].value_counts()[-10:].plot(kind=\"bar\", ax=axes[0,0], figsize=(20, 10), title='Stella By Starlight')\n",
    "df2[df2['title'] == 'Autumn Leaves']['noteDisplayNameNoOctave'].value_counts()[-10:].plot(kind=\"bar\", ax=axes[0,1], figsize=(20, 10), title='Autumn Leaves')\n",
    "df2[df2['title'] == 'Groovin High']['noteDisplayNameNoOctave'].value_counts()[-10:].plot(kind=\"bar\", ax=axes[0,2], figsize=(20, 10), title='Groovin High')\n",
    "df2[df2['title'] == 'All The Things You Are']['noteDisplayNameNoOctave'].value_counts()[-10:].plot(kind=\"bar\", ax=axes[1,0], figsize=(20, 10), title='All The Things You Are')\n",
    "df2[df2['title'] == 'If I Were A Bell']['noteDisplayNameNoOctave'].value_counts()[-10:].plot(kind=\"bar\", ax=axes[1,1], figsize=(20, 10), title='If I Were A Bell')\n",
    "subplots_adjust(left=None, bottom=None, right=None, top=None, wspace=None, hspace=0.8)\n",
    "\n",
    "left  = 0.125  # the left side of the subplots of the figure\n",
    "right = 0.9    # the right side of the subplots of the figure\n",
    "bottom = 0.1   # the bottom of the subplots of the figure\n",
    "top = 0.9      # the top of the subplots of the figure\n",
    "wspace = 0.2   # the amount of width reserved for blank space between subplots\n",
    "hspace = 0.5   # the amount of height reserved for white space between subplots"
   ]
  },
  {
   "cell_type": "code",
   "execution_count": null,
   "metadata": {
    "collapsed": true
   },
   "outputs": [],
   "source": []
  },
  {
   "cell_type": "markdown",
   "metadata": {},
   "source": [
    "<p>It now becomes possible to establish the first clear link between the notes found in the solo and the notes found in the chords that form the underlying harmonic progressions and it is what can be found. The notes that are more common in the solos, are those that also are contained in the harmonic progressions of the data-set. Other notes that which do not occur as much in the solos (notes such as the B, F# and E) are seldom seen in the harmonic progressions of the data set. But the stndards under position</p>\n",
    "\n",
    "<p>In a way, this should be obvious. It makes intuitive sense (and is often discussed in jazz instructional materials) that notes in the solo should have some kind of correlation to the notes in the harmonic progressions. However, when exploring the the data-set it quickly becomes apparent that there is a much deeper story. It is impossible to describe jazz in terms of using a particular scale.</p>"
   ]
  },
  {
   "cell_type": "markdown",
   "metadata": {},
   "source": [
    "    \n",
    "   "
   ]
  },
  {
   "cell_type": "code",
   "execution_count": 28,
   "metadata": {
    "collapsed": false
   },
   "outputs": [
    {
     "data": {
      "image/png": "[encoded data removed]",
      "text/plain": [
       "<matplotlib.figure.Figure at 0x116c8a710>"
      ]
     },
     "metadata": {},
     "output_type": "display_data"
    }
   ],
   "source": [
    "#df2 = df[df['title'] == 'Stella By Starlight']\n",
    "\n",
    "fig, axes = plt.subplots(nrows=3,ncols=2)\n",
    "df[df['title'] == 'Stella By Starlight'].groupby('chordTypeDisplay')['chordDisplayName', 'midiNumber'].count().plot(kind=\"bar\", ax=axes[0,0], figsize=(20, 10), title='Stella By Starlight - 1983')\n",
    "df[df['title'] == 'If I Were A Bell'].groupby('chordTypeDisplay')['chordDisplayName', 'midiNumber'].count().plot(kind=\"bar\", ax=axes[0,1], figsize=(20, 10), title='If I Were A Bell - 2002')\n",
    "df[df['title'] == 'All The Things You Are'].groupby('chordTypeDisplay')['chordDisplayName', 'midiNumber'].count().plot(kind=\"bar\", ax=axes[1,0], figsize=(20, 10), title='All The Things You Are - 1983')\n",
    "df[df['title'] == 'Autumn Leaves'].groupby('chordTypeDisplay')['chordDisplayName', 'midiNumber'].count().plot(kind=\"bar\", ax=axes[1,1], figsize=(20, 10), title='Autumn Leaves - 1994')\n",
    "df[df['title'] == 'Groovin High'].groupby('chordTypeDisplay')['chordDisplayName', 'midiNumber'].count().plot(kind=\"bar\", ax=axes[2,0], figsize=(20, 10), title='Groovin High - 1999')\n",
    "\n",
    "\n",
    "\n",
    "\n",
    "\n",
    "\n",
    "#subplots_adjust(left=None, bottom=None, right=None, top=None, wspace=None, hspace=0.8)\n",
    "\n",
    "left  = 0.125  # the left side of the subplots of the figure\n",
    "right = 0.9    # the right side of the subplots of the figure\n",
    "bottom = 0.1   # the bottom of the subplots of the figure\n",
    "top = 0.9      # the top of the subplots of the figure\n",
    "wspace = 0.2   # the amount of width reserved for blank space between subplots\n",
    "hspace = 0.5   # the amount of height reserved for white space between subplots"
   ]
  },
  {
   "cell_type": "markdown",
   "metadata": {
    "collapsed": true
   },
   "source": [
    "<div>Although at the level of phrase, there is no repetition, there is certainly repection and prediction that can be found in this data set. For the choice of playing a note of rest, Jarrett is certainly favouring playing a note. The amount of notes is note changing, but the min7b5 chord appears to have more variabiity in what is played. There is strucure and predictability. In the next chapter covering harmony it will turn out that the if the min7b5 chord occurs as part of a II-V-I progression it will have more notes played over it, as opposed Also at this level at least, jarretts playing is not changing over a 20 year period </div>"
   ]
  },
  {
   "cell_type": "markdown",
   "metadata": {},
   "source": [
    "<h4><a id=\"phraseLength\">Phrase Length</a></h4>"
   ]
  },
  {
   "cell_type": "code",
   "execution_count": 156,
   "metadata": {
    "collapsed": false
   },
   "outputs": [
    {
     "data": {
      "text/html": [
       "<div>\n",
       "<table border=\"1\" class=\"dataframe\">\n",
       "  <thead>\n",
       "    <tr style=\"text-align: right;\">\n",
       "      <th></th>\n",
       "      <th>chordDisplayName</th>\n",
       "      <th>restFlag</th>\n",
       "      <th>performerName</th>\n",
       "      <th>composerName</th>\n",
       "      <th>genre</th>\n",
       "      <th>numberOfParts</th>\n",
       "      <th>title</th>\n",
       "      <th>yearOfComposition</th>\n",
       "      <th>yearOfPerformance</th>\n",
       "      <th>ongoingTempo</th>\n",
       "      <th>part</th>\n",
       "      <th>quarterNoteDuration</th>\n",
       "      <th>midiNumber</th>\n",
       "      <th>noteDisplayName</th>\n",
       "      <th>noteDisplayNameNoOctave</th>\n",
       "      <th>nextNoteFreqDistance</th>\n",
       "      <th>noteEventLocation</th>\n",
       "      <th>noteEventStartingLocation</th>\n",
       "      <th>chordRootAsInt</th>\n",
       "      <th>chordTypeAsInt</th>\n",
       "      <th>chordBassAsInt</th>\n",
       "      <th>chordTypeDisplay</th>\n",
       "    </tr>\n",
       "  </thead>\n",
       "  <tbody>\n",
       "    <tr>\n",
       "      <th>0</th>\n",
       "      <td>E min7b5</td>\n",
       "      <td>note</td>\n",
       "      <td>Keith Jarrett</td>\n",
       "      <td>Victor Young</td>\n",
       "      <td>jazz</td>\n",
       "      <td>2</td>\n",
       "      <td>Stella By Starlight</td>\n",
       "      <td>1943</td>\n",
       "      <td>1983</td>\n",
       "      <td>120</td>\n",
       "      <td>P2</td>\n",
       "      <td>4</td>\n",
       "      <td>52</td>\n",
       "      <td>E4</td>\n",
       "      <td>E</td>\n",
       "      <td>-7</td>\n",
       "      <td>4</td>\n",
       "      <td>0</td>\n",
       "      <td>4</td>\n",
       "      <td>7</td>\n",
       "      <td>-1</td>\n",
       "      <td>min7b5</td>\n",
       "    </tr>\n",
       "  </tbody>\n",
       "</table>\n",
       "</div>"
      ],
      "text/plain": [
       "  chordDisplayName restFlag  performerName  composerName genre  numberOfParts                title yearOfComposition yearOfPerformance  ongoingTempo part  quarterNoteDuration  midiNumber noteDisplayName noteDisplayNameNoOctave  nextNoteFreqDistance  noteEventLocation  noteEventStartingLocation  chordRootAsInt  chordTypeAsInt  chordBassAsInt chordTypeDisplay\n",
       "0         E min7b5     note  Keith Jarrett  Victor Young  jazz              2  Stella By Starlight              1943              1983           120   P2                    4          52              E4                       E                    -7                  4                          0               4               7              -1           min7b5"
      ]
     },
     "execution_count": 156,
     "metadata": {},
     "output_type": "execute_result"
    }
   ],
   "source": [
    "df.head(1)"
   ]
  },
  {
   "cell_type": "code",
   "execution_count": 157,
   "metadata": {
    "collapsed": true
   },
   "outputs": [],
   "source": [
    "df2 = df[df['part'] == 'P1']\n",
    "rowIt = df2.iterrows()"
   ]
  },
  {
   "cell_type": "code",
   "execution_count": 158,
   "metadata": {
    "collapsed": true
   },
   "outputs": [],
   "source": [
    "theList = []\n",
    "\n",
    "for index, row in rowIt:\n",
    "    if str(row['restFlag']) == 'rest':\n",
    "        theList.append(-1)\n",
    "    else:\n",
    "        theList.append(row['quarterNoteDuration'])\n",
    "        "
   ]
  },
  {
   "cell_type": "code",
   "execution_count": 159,
   "metadata": {
    "collapsed": true
   },
   "outputs": [],
   "source": [
    "chunkedDurationArray = []\n",
    "tempArray = []\n",
    "\n",
    "for x in theList:\n",
    "    if x != -1:\n",
    "        tempArray.append(x)\n",
    "    if x == -1:\n",
    "        chunkedDurationArray.append(tempArray)\n",
    "        tempArray = []\n",
    "        "
   ]
  },
  {
   "cell_type": "markdown",
   "metadata": {},
   "source": [
    "<div>\n",
    "    From a rhythmic point of view, \n",
    "</div>"
   ]
  },
  {
   "cell_type": "code",
   "execution_count": 160,
   "metadata": {
    "collapsed": false
   },
   "outputs": [],
   "source": [
    "listOfPhraseLengthsAboveOne = []\n",
    "for eachItem in chunkedDurationArray:\n",
    "    if len(eachItem) > 1:\n",
    "        listOfPhraseLengthsAboveOne.append(len(eachItem))\n",
    "#chunkedDurationArray[0:10]"
   ]
  },
  {
   "cell_type": "code",
   "execution_count": 161,
   "metadata": {
    "collapsed": false
   },
   "outputs": [
    {
     "data": {
      "text/plain": [
       "1004"
      ]
     },
     "execution_count": 161,
     "metadata": {},
     "output_type": "execute_result"
    }
   ],
   "source": [
    "len(chunkedDurationArray)"
   ]
  },
  {
   "cell_type": "code",
   "execution_count": 168,
   "metadata": {
    "collapsed": false
   },
   "outputs": [],
   "source": [
    "df3 = pd.DataFrame(listOfPhraseLengthsAboveOne, columns=['phraseLength'])"
   ]
  },
  {
   "cell_type": "code",
   "execution_count": 169,
   "metadata": {
    "collapsed": false
   },
   "outputs": [
    {
     "data": {
      "text/plain": [
       "404"
      ]
     },
     "execution_count": 169,
     "metadata": {},
     "output_type": "execute_result"
    }
   ],
   "source": [
    "len(df3)"
   ]
  },
  {
   "cell_type": "markdown",
   "metadata": {},
   "source": [
    "<div>\n",
    "    Across the entire corpus there is a total of 4 melodic phrases. These are calculated as any sequence of more than two notes. Each phrase reveals information about characteristics of pitch, melody, and occurs at a paricular location and and occurs at a particular tempo in a particular song, all of whicy can be seen as indicators. Broadly speaking, the data reveals that. It is hard to glean much information from phrase length. Phrases over 25 notes in length do occur but they are rare\n",
    "</div>"
   ]
  },
  {
   "cell_type": "code",
   "execution_count": 170,
   "metadata": {
    "collapsed": false
   },
   "outputs": [
    {
     "data": {
      "text/plain": [
       "array([[<matplotlib.axes.AxesSubplot object at 0x1186a41d0>]], dtype=object)"
      ]
     },
     "execution_count": 170,
     "metadata": {},
     "output_type": "execute_result"
    },
    {
     "data": {
      "image/png": "[encoded data removed]",
      "text/plain": [
       "<matplotlib.figure.Figure at 0x1186a4210>"
      ]
     },
     "metadata": {},
     "output_type": "display_data"
    }
   ],
   "source": [
    "df3.hist(bins=30)"
   ]
  },
  {
   "cell_type": "markdown",
   "metadata": {},
   "source": [
    "The majority of phrases "
   ]
  },
  {
   "cell_type": "code",
   "execution_count": 34,
   "metadata": {
    "collapsed": true
   },
   "outputs": [],
   "source": [
    "#for stuff in chunkedDurationArray:\n",
    " #   print len(stuff)"
   ]
  },
  {
   "cell_type": "code",
   "execution_count": 35,
   "metadata": {
    "collapsed": true
   },
   "outputs": [],
   "source": [
    "#df[df['part'] == 'P1']['midiNumber'][0:30].plot()"
   ]
  },
  {
   "cell_type": "markdown",
   "metadata": {},
   "source": []
  },
  {
   "cell_type": "markdown",
   "metadata": {},
   "source": [
    "<div>\n",
    "    In the music of keith Jarrett\n",
    "</div>"
   ]
  },
  {
   "cell_type": "markdown",
   "metadata": {},
   "source": [
    "<h4><a id=\"microphrase\">Commonly used patterns within phrases</a></h4>"
   ]
  },
  {
   "cell_type": "markdown",
   "metadata": {},
   "source": [
    "<h4><a id=\"keySignature\">The influence of key signature</a></h4>"
   ]
  },
  {
   "cell_type": "markdown",
   "metadata": {},
   "source": [
    "<h4><a id=\"repetitionAndSequences\">Repetition and sequences</a></h4>"
   ]
  },
  {
   "cell_type": "markdown",
   "metadata": {},
   "source": [
    "<h4><a id=\"rhythm\">The use of rhythm</a></h4>"
   ]
  },
  {
   "cell_type": "markdown",
   "metadata": {
    "collapsed": true
   },
   "source": [
    "<h4><a id=\"contour\">Melodic contours</a></h4>"
   ]
  },
  {
   "cell_type": "markdown",
   "metadata": {},
   "source": [
    "<h4><a id=\"tempo\">The influence of tempo</a></h4>"
   ]
  },
  {
   "cell_type": "markdown",
   "metadata": {},
   "source": [
    "<h4><a id=\"timeSignaure\">The influence of time signature</a></h4>"
   ]
  },
  {
   "cell_type": "markdown",
   "metadata": {},
   "source": [
    "<h4><a id=\"songLocation\">How melodic phrases are affected by the place they occur</a></h4>"
   ]
  },
  {
   "cell_type": "code",
   "execution_count": null,
   "metadata": {
    "collapsed": false
   },
   "outputs": [],
   "source": []
  },
  {
   "cell_type": "markdown",
   "metadata": {},
   "source": [
    "<span id=\"myid\">placeholder</span>"
   ]
  },
  {
   "cell_type": "code",
   "execution_count": null,
   "metadata": {
    "collapsed": false
   },
   "outputs": [],
   "source": []
  },
  {
   "cell_type": "code",
   "execution_count": 36,
   "metadata": {
    "collapsed": false
   },
   "outputs": [],
   "source": [
    "test = df['nextNoteFreqDistance'].as_matrix()"
   ]
  },
  {
   "cell_type": "code",
   "execution_count": 37,
   "metadata": {
    "collapsed": false
   },
   "outputs": [],
   "source": [
    "B = np.array_split(test,4)"
   ]
  },
  {
   "cell_type": "code",
   "execution_count": 38,
   "metadata": {
    "collapsed": false
   },
   "outputs": [
    {
     "data": {
      "text/plain": [
       "[array([ -7.,  nan,  nan, ...,  nan,  -7.,  nan]),\n",
       " array([  4.,  -4.,   6., ...,  -6.,  nan,  nan]),\n",
       " array([  5.,   5.,  -1., ...,  nan,  nan,  nan]),\n",
       " array([ nan,  nan,  nan, ...,  nan,  nan,  nan])]"
      ]
     },
     "execution_count": 38,
     "metadata": {},
     "output_type": "execute_result"
    }
   ],
   "source": [
    "B"
   ]
  },
  {
   "cell_type": "code",
   "execution_count": 39,
   "metadata": {
    "collapsed": false
   },
   "outputs": [],
   "source": [
    "#py_.chunk(df['nextNoteFreqDistance'].values(), 3)"
   ]
  },
  {
   "cell_type": "code",
   "execution_count": 40,
   "metadata": {
    "collapsed": false
   },
   "outputs": [],
   "source": [
    "partOneAsMatrix = df[df['part'] == 'P1']\n",
    "matrix = partOneAsMatrix[['part','quarterNoteDuration','noteEventStartingLocation', 'midiNumber']].as_matrix()"
   ]
  },
  {
   "cell_type": "code",
   "execution_count": 41,
   "metadata": {
    "collapsed": false
   },
   "outputs": [
    {
     "data": {
      "text/plain": [
       "array([['P1', 0.5, 0.0, 55.0],\n",
       "       ['P1', 0.5, 0.5, nan],\n",
       "       ['P1', 0.5, 1.0, nan],\n",
       "       ['P1', 0.5, 1.5, 57.0],\n",
       "       ['P1', 1.0, 2.0, 58.0],\n",
       "       ['P1', 1.0, 3.0, 57.0],\n",
       "       ['P1', 0.5, 4.0, nan],\n",
       "       ['P1', 0.5, 4.5, 55.0],\n",
       "       ['P1', 1.0, 5.0, 58.0],\n",
       "       ['P1', 3.0, 6.0, 57.0],\n",
       "       ['P1', 0.5, 9.0, nan],\n",
       "       ['P1', 0.5, 9.5, 55.0],\n",
       "       ['P1', 0.66, 10.0, nan],\n",
       "       ['P1', 0.66, 10.66, 51.0],\n",
       "       ['P1', 0.66, 11.32, 53.0],\n",
       "       ['P1', 0.5, 11.98, 62.0],\n",
       "       ['P1', 0.5, 12.48, 60.0],\n",
       "       ['P1', 0.5, 12.98, 57.0],\n",
       "       ['P1', 0.5, 13.48, 53.0],\n",
       "       ['P1', 0.5, 13.98, 51.0]], dtype=object)"
      ]
     },
     "execution_count": 41,
     "metadata": {},
     "output_type": "execute_result"
    }
   ],
   "source": [
    "matrix[0:20]"
   ]
  },
  {
   "cell_type": "code",
   "execution_count": 42,
   "metadata": {
    "collapsed": false
   },
   "outputs": [],
   "source": [
    "#create \n",
    "threeNoteSequences = []\n",
    "phraseLength = 3\n",
    "\n",
    "\n",
    "for x in range(len(matrix)):\n",
    "    noteTuple= []\n",
    "    currentNote = matrix[x][3]\n",
    "    #print matrix[x]\n",
    "    noteTuple.append(str(currentNote))\n",
    "    #secondNote = None\n",
    "    #thirdNote = None\n",
    "    \n",
    "    try:\n",
    "        secondNote = matrix[x+1][3]\n",
    "        noteTuple.append(str(secondNote))\n",
    "        \n",
    "    except: \n",
    "        pass\n",
    "    \n",
    "    try:\n",
    "        thirdNote = matrix[x+2][3]\n",
    "        noteTuple.append(str(thirdNote))\n",
    "    except: \n",
    "        pass\n",
    "    \n",
    "    threeNoteSequences.append(noteTuple)\n",
    "    \n",
    "    \n",
    "\n",
    "\n",
    "#print threeNoteSequences"
   ]
  },
  {
   "cell_type": "code",
   "execution_count": 43,
   "metadata": {
    "collapsed": true
   },
   "outputs": [],
   "source": [
    "df2 = pd.DataFrame(threeNoteSequences, columns=['one', 'two', 'three'])"
   ]
  },
  {
   "cell_type": "code",
   "execution_count": 44,
   "metadata": {
    "collapsed": false
   },
   "outputs": [],
   "source": [
    "df2['next'] = (df2['one'] +  df2['two'] +  df2['three'])"
   ]
  },
  {
   "cell_type": "code",
   "execution_count": 45,
   "metadata": {
    "collapsed": false
   },
   "outputs": [
    {
     "data": {
      "text/html": [
       "<div>\n",
       "<table border=\"1\" class=\"dataframe\">\n",
       "  <thead>\n",
       "    <tr style=\"text-align: right;\">\n",
       "      <th></th>\n",
       "      <th>one</th>\n",
       "      <th>two</th>\n",
       "      <th>three</th>\n",
       "      <th>next</th>\n",
       "    </tr>\n",
       "  </thead>\n",
       "  <tbody>\n",
       "    <tr>\n",
       "      <th>0</th>\n",
       "      <td>55.0</td>\n",
       "      <td>nan</td>\n",
       "      <td>nan</td>\n",
       "      <td>55.0nannan</td>\n",
       "    </tr>\n",
       "    <tr>\n",
       "      <th>1</th>\n",
       "      <td>nan</td>\n",
       "      <td>nan</td>\n",
       "      <td>57.0</td>\n",
       "      <td>nannan57.0</td>\n",
       "    </tr>\n",
       "    <tr>\n",
       "      <th>2</th>\n",
       "      <td>nan</td>\n",
       "      <td>57.0</td>\n",
       "      <td>58.0</td>\n",
       "      <td>nan57.058.0</td>\n",
       "    </tr>\n",
       "    <tr>\n",
       "      <th>3</th>\n",
       "      <td>57.0</td>\n",
       "      <td>58.0</td>\n",
       "      <td>57.0</td>\n",
       "      <td>57.058.057.0</td>\n",
       "    </tr>\n",
       "    <tr>\n",
       "      <th>4</th>\n",
       "      <td>58.0</td>\n",
       "      <td>57.0</td>\n",
       "      <td>nan</td>\n",
       "      <td>58.057.0nan</td>\n",
       "    </tr>\n",
       "    <tr>\n",
       "      <th>5</th>\n",
       "      <td>57.0</td>\n",
       "      <td>nan</td>\n",
       "      <td>55.0</td>\n",
       "      <td>57.0nan55.0</td>\n",
       "    </tr>\n",
       "    <tr>\n",
       "      <th>6</th>\n",
       "      <td>nan</td>\n",
       "      <td>55.0</td>\n",
       "      <td>58.0</td>\n",
       "      <td>nan55.058.0</td>\n",
       "    </tr>\n",
       "    <tr>\n",
       "      <th>7</th>\n",
       "      <td>55.0</td>\n",
       "      <td>58.0</td>\n",
       "      <td>57.0</td>\n",
       "      <td>55.058.057.0</td>\n",
       "    </tr>\n",
       "    <tr>\n",
       "      <th>8</th>\n",
       "      <td>58.0</td>\n",
       "      <td>57.0</td>\n",
       "      <td>nan</td>\n",
       "      <td>58.057.0nan</td>\n",
       "    </tr>\n",
       "    <tr>\n",
       "      <th>9</th>\n",
       "      <td>57.0</td>\n",
       "      <td>nan</td>\n",
       "      <td>55.0</td>\n",
       "      <td>57.0nan55.0</td>\n",
       "    </tr>\n",
       "    <tr>\n",
       "      <th>10</th>\n",
       "      <td>nan</td>\n",
       "      <td>55.0</td>\n",
       "      <td>nan</td>\n",
       "      <td>nan55.0nan</td>\n",
       "    </tr>\n",
       "    <tr>\n",
       "      <th>11</th>\n",
       "      <td>55.0</td>\n",
       "      <td>nan</td>\n",
       "      <td>51.0</td>\n",
       "      <td>55.0nan51.0</td>\n",
       "    </tr>\n",
       "    <tr>\n",
       "      <th>12</th>\n",
       "      <td>nan</td>\n",
       "      <td>51.0</td>\n",
       "      <td>53.0</td>\n",
       "      <td>nan51.053.0</td>\n",
       "    </tr>\n",
       "    <tr>\n",
       "      <th>13</th>\n",
       "      <td>51.0</td>\n",
       "      <td>53.0</td>\n",
       "      <td>62.0</td>\n",
       "      <td>51.053.062.0</td>\n",
       "    </tr>\n",
       "    <tr>\n",
       "      <th>14</th>\n",
       "      <td>53.0</td>\n",
       "      <td>62.0</td>\n",
       "      <td>60.0</td>\n",
       "      <td>53.062.060.0</td>\n",
       "    </tr>\n",
       "    <tr>\n",
       "      <th>15</th>\n",
       "      <td>62.0</td>\n",
       "      <td>60.0</td>\n",
       "      <td>57.0</td>\n",
       "      <td>62.060.057.0</td>\n",
       "    </tr>\n",
       "    <tr>\n",
       "      <th>16</th>\n",
       "      <td>60.0</td>\n",
       "      <td>57.0</td>\n",
       "      <td>53.0</td>\n",
       "      <td>60.057.053.0</td>\n",
       "    </tr>\n",
       "    <tr>\n",
       "      <th>17</th>\n",
       "      <td>57.0</td>\n",
       "      <td>53.0</td>\n",
       "      <td>51.0</td>\n",
       "      <td>57.053.051.0</td>\n",
       "    </tr>\n",
       "    <tr>\n",
       "      <th>18</th>\n",
       "      <td>53.0</td>\n",
       "      <td>51.0</td>\n",
       "      <td>50.0</td>\n",
       "      <td>53.051.050.0</td>\n",
       "    </tr>\n",
       "    <tr>\n",
       "      <th>19</th>\n",
       "      <td>51.0</td>\n",
       "      <td>50.0</td>\n",
       "      <td>nan</td>\n",
       "      <td>51.050.0nan</td>\n",
       "    </tr>\n",
       "    <tr>\n",
       "      <th>20</th>\n",
       "      <td>50.0</td>\n",
       "      <td>nan</td>\n",
       "      <td>nan</td>\n",
       "      <td>50.0nannan</td>\n",
       "    </tr>\n",
       "    <tr>\n",
       "      <th>21</th>\n",
       "      <td>nan</td>\n",
       "      <td>nan</td>\n",
       "      <td>51.0</td>\n",
       "      <td>nannan51.0</td>\n",
       "    </tr>\n",
       "    <tr>\n",
       "      <th>22</th>\n",
       "      <td>nan</td>\n",
       "      <td>51.0</td>\n",
       "      <td>52.0</td>\n",
       "      <td>nan51.052.0</td>\n",
       "    </tr>\n",
       "    <tr>\n",
       "      <th>23</th>\n",
       "      <td>51.0</td>\n",
       "      <td>52.0</td>\n",
       "      <td>53.0</td>\n",
       "      <td>51.052.053.0</td>\n",
       "    </tr>\n",
       "    <tr>\n",
       "      <th>24</th>\n",
       "      <td>52.0</td>\n",
       "      <td>53.0</td>\n",
       "      <td>55.0</td>\n",
       "      <td>52.053.055.0</td>\n",
       "    </tr>\n",
       "    <tr>\n",
       "      <th>25</th>\n",
       "      <td>53.0</td>\n",
       "      <td>55.0</td>\n",
       "      <td>56.0</td>\n",
       "      <td>53.055.056.0</td>\n",
       "    </tr>\n",
       "    <tr>\n",
       "      <th>26</th>\n",
       "      <td>55.0</td>\n",
       "      <td>56.0</td>\n",
       "      <td>55.0</td>\n",
       "      <td>55.056.055.0</td>\n",
       "    </tr>\n",
       "    <tr>\n",
       "      <th>27</th>\n",
       "      <td>56.0</td>\n",
       "      <td>55.0</td>\n",
       "      <td>53.0</td>\n",
       "      <td>56.055.053.0</td>\n",
       "    </tr>\n",
       "    <tr>\n",
       "      <th>28</th>\n",
       "      <td>55.0</td>\n",
       "      <td>53.0</td>\n",
       "      <td>51.0</td>\n",
       "      <td>55.053.051.0</td>\n",
       "    </tr>\n",
       "    <tr>\n",
       "      <th>29</th>\n",
       "      <td>53.0</td>\n",
       "      <td>51.0</td>\n",
       "      <td>50.0</td>\n",
       "      <td>53.051.050.0</td>\n",
       "    </tr>\n",
       "    <tr>\n",
       "      <th>...</th>\n",
       "      <td>...</td>\n",
       "      <td>...</td>\n",
       "      <td>...</td>\n",
       "      <td>...</td>\n",
       "    </tr>\n",
       "    <tr>\n",
       "      <th>8732</th>\n",
       "      <td>nan</td>\n",
       "      <td>nan</td>\n",
       "      <td>nan</td>\n",
       "      <td>nannannan</td>\n",
       "    </tr>\n",
       "    <tr>\n",
       "      <th>8733</th>\n",
       "      <td>nan</td>\n",
       "      <td>nan</td>\n",
       "      <td>nan</td>\n",
       "      <td>nannannan</td>\n",
       "    </tr>\n",
       "    <tr>\n",
       "      <th>8734</th>\n",
       "      <td>nan</td>\n",
       "      <td>nan</td>\n",
       "      <td>nan</td>\n",
       "      <td>nannannan</td>\n",
       "    </tr>\n",
       "    <tr>\n",
       "      <th>8735</th>\n",
       "      <td>nan</td>\n",
       "      <td>nan</td>\n",
       "      <td>nan</td>\n",
       "      <td>nannannan</td>\n",
       "    </tr>\n",
       "    <tr>\n",
       "      <th>8736</th>\n",
       "      <td>nan</td>\n",
       "      <td>nan</td>\n",
       "      <td>nan</td>\n",
       "      <td>nannannan</td>\n",
       "    </tr>\n",
       "    <tr>\n",
       "      <th>8737</th>\n",
       "      <td>nan</td>\n",
       "      <td>nan</td>\n",
       "      <td>nan</td>\n",
       "      <td>nannannan</td>\n",
       "    </tr>\n",
       "    <tr>\n",
       "      <th>8738</th>\n",
       "      <td>nan</td>\n",
       "      <td>nan</td>\n",
       "      <td>nan</td>\n",
       "      <td>nannannan</td>\n",
       "    </tr>\n",
       "    <tr>\n",
       "      <th>8739</th>\n",
       "      <td>nan</td>\n",
       "      <td>nan</td>\n",
       "      <td>nan</td>\n",
       "      <td>nannannan</td>\n",
       "    </tr>\n",
       "    <tr>\n",
       "      <th>8740</th>\n",
       "      <td>nan</td>\n",
       "      <td>nan</td>\n",
       "      <td>nan</td>\n",
       "      <td>nannannan</td>\n",
       "    </tr>\n",
       "    <tr>\n",
       "      <th>8741</th>\n",
       "      <td>nan</td>\n",
       "      <td>nan</td>\n",
       "      <td>nan</td>\n",
       "      <td>nannannan</td>\n",
       "    </tr>\n",
       "    <tr>\n",
       "      <th>8742</th>\n",
       "      <td>nan</td>\n",
       "      <td>nan</td>\n",
       "      <td>nan</td>\n",
       "      <td>nannannan</td>\n",
       "    </tr>\n",
       "    <tr>\n",
       "      <th>8743</th>\n",
       "      <td>nan</td>\n",
       "      <td>nan</td>\n",
       "      <td>nan</td>\n",
       "      <td>nannannan</td>\n",
       "    </tr>\n",
       "    <tr>\n",
       "      <th>8744</th>\n",
       "      <td>nan</td>\n",
       "      <td>nan</td>\n",
       "      <td>nan</td>\n",
       "      <td>nannannan</td>\n",
       "    </tr>\n",
       "    <tr>\n",
       "      <th>8745</th>\n",
       "      <td>nan</td>\n",
       "      <td>nan</td>\n",
       "      <td>nan</td>\n",
       "      <td>nannannan</td>\n",
       "    </tr>\n",
       "    <tr>\n",
       "      <th>8746</th>\n",
       "      <td>nan</td>\n",
       "      <td>nan</td>\n",
       "      <td>nan</td>\n",
       "      <td>nannannan</td>\n",
       "    </tr>\n",
       "    <tr>\n",
       "      <th>8747</th>\n",
       "      <td>nan</td>\n",
       "      <td>nan</td>\n",
       "      <td>nan</td>\n",
       "      <td>nannannan</td>\n",
       "    </tr>\n",
       "    <tr>\n",
       "      <th>8748</th>\n",
       "      <td>nan</td>\n",
       "      <td>nan</td>\n",
       "      <td>nan</td>\n",
       "      <td>nannannan</td>\n",
       "    </tr>\n",
       "    <tr>\n",
       "      <th>8749</th>\n",
       "      <td>nan</td>\n",
       "      <td>nan</td>\n",
       "      <td>nan</td>\n",
       "      <td>nannannan</td>\n",
       "    </tr>\n",
       "    <tr>\n",
       "      <th>8750</th>\n",
       "      <td>nan</td>\n",
       "      <td>nan</td>\n",
       "      <td>nan</td>\n",
       "      <td>nannannan</td>\n",
       "    </tr>\n",
       "    <tr>\n",
       "      <th>8751</th>\n",
       "      <td>nan</td>\n",
       "      <td>nan</td>\n",
       "      <td>nan</td>\n",
       "      <td>nannannan</td>\n",
       "    </tr>\n",
       "    <tr>\n",
       "      <th>8752</th>\n",
       "      <td>nan</td>\n",
       "      <td>nan</td>\n",
       "      <td>nan</td>\n",
       "      <td>nannannan</td>\n",
       "    </tr>\n",
       "    <tr>\n",
       "      <th>8753</th>\n",
       "      <td>nan</td>\n",
       "      <td>nan</td>\n",
       "      <td>nan</td>\n",
       "      <td>nannannan</td>\n",
       "    </tr>\n",
       "    <tr>\n",
       "      <th>8754</th>\n",
       "      <td>nan</td>\n",
       "      <td>nan</td>\n",
       "      <td>nan</td>\n",
       "      <td>nannannan</td>\n",
       "    </tr>\n",
       "    <tr>\n",
       "      <th>8755</th>\n",
       "      <td>nan</td>\n",
       "      <td>nan</td>\n",
       "      <td>nan</td>\n",
       "      <td>nannannan</td>\n",
       "    </tr>\n",
       "    <tr>\n",
       "      <th>8756</th>\n",
       "      <td>nan</td>\n",
       "      <td>nan</td>\n",
       "      <td>nan</td>\n",
       "      <td>nannannan</td>\n",
       "    </tr>\n",
       "    <tr>\n",
       "      <th>8757</th>\n",
       "      <td>nan</td>\n",
       "      <td>nan</td>\n",
       "      <td>nan</td>\n",
       "      <td>nannannan</td>\n",
       "    </tr>\n",
       "    <tr>\n",
       "      <th>8758</th>\n",
       "      <td>nan</td>\n",
       "      <td>nan</td>\n",
       "      <td>nan</td>\n",
       "      <td>nannannan</td>\n",
       "    </tr>\n",
       "    <tr>\n",
       "      <th>8759</th>\n",
       "      <td>nan</td>\n",
       "      <td>nan</td>\n",
       "      <td>nan</td>\n",
       "      <td>nannannan</td>\n",
       "    </tr>\n",
       "    <tr>\n",
       "      <th>8760</th>\n",
       "      <td>nan</td>\n",
       "      <td>nan</td>\n",
       "      <td>None</td>\n",
       "      <td>NaN</td>\n",
       "    </tr>\n",
       "    <tr>\n",
       "      <th>8761</th>\n",
       "      <td>nan</td>\n",
       "      <td>None</td>\n",
       "      <td>None</td>\n",
       "      <td>NaN</td>\n",
       "    </tr>\n",
       "  </tbody>\n",
       "</table>\n",
       "<p>8762 rows × 4 columns</p>\n",
       "</div>"
      ],
      "text/plain": [
       "       one   two three          next\n",
       "0     55.0   nan   nan    55.0nannan\n",
       "1      nan   nan  57.0    nannan57.0\n",
       "2      nan  57.0  58.0   nan57.058.0\n",
       "3     57.0  58.0  57.0  57.058.057.0\n",
       "4     58.0  57.0   nan   58.057.0nan\n",
       "5     57.0   nan  55.0   57.0nan55.0\n",
       "6      nan  55.0  58.0   nan55.058.0\n",
       "7     55.0  58.0  57.0  55.058.057.0\n",
       "8     58.0  57.0   nan   58.057.0nan\n",
       "9     57.0   nan  55.0   57.0nan55.0\n",
       "10     nan  55.0   nan    nan55.0nan\n",
       "11    55.0   nan  51.0   55.0nan51.0\n",
       "12     nan  51.0  53.0   nan51.053.0\n",
       "13    51.0  53.0  62.0  51.053.062.0\n",
       "14    53.0  62.0  60.0  53.062.060.0\n",
       "15    62.0  60.0  57.0  62.060.057.0\n",
       "16    60.0  57.0  53.0  60.057.053.0\n",
       "17    57.0  53.0  51.0  57.053.051.0\n",
       "18    53.0  51.0  50.0  53.051.050.0\n",
       "19    51.0  50.0   nan   51.050.0nan\n",
       "20    50.0   nan   nan    50.0nannan\n",
       "21     nan   nan  51.0    nannan51.0\n",
       "22     nan  51.0  52.0   nan51.052.0\n",
       "23    51.0  52.0  53.0  51.052.053.0\n",
       "24    52.0  53.0  55.0  52.053.055.0\n",
       "25    53.0  55.0  56.0  53.055.056.0\n",
       "26    55.0  56.0  55.0  55.056.055.0\n",
       "27    56.0  55.0  53.0  56.055.053.0\n",
       "28    55.0  53.0  51.0  55.053.051.0\n",
       "29    53.0  51.0  50.0  53.051.050.0\n",
       "...    ...   ...   ...           ...\n",
       "8732   nan   nan   nan     nannannan\n",
       "8733   nan   nan   nan     nannannan\n",
       "8734   nan   nan   nan     nannannan\n",
       "8735   nan   nan   nan     nannannan\n",
       "8736   nan   nan   nan     nannannan\n",
       "8737   nan   nan   nan     nannannan\n",
       "8738   nan   nan   nan     nannannan\n",
       "8739   nan   nan   nan     nannannan\n",
       "8740   nan   nan   nan     nannannan\n",
       "8741   nan   nan   nan     nannannan\n",
       "8742   nan   nan   nan     nannannan\n",
       "8743   nan   nan   nan     nannannan\n",
       "8744   nan   nan   nan     nannannan\n",
       "8745   nan   nan   nan     nannannan\n",
       "8746   nan   nan   nan     nannannan\n",
       "8747   nan   nan   nan     nannannan\n",
       "8748   nan   nan   nan     nannannan\n",
       "8749   nan   nan   nan     nannannan\n",
       "8750   nan   nan   nan     nannannan\n",
       "8751   nan   nan   nan     nannannan\n",
       "8752   nan   nan   nan     nannannan\n",
       "8753   nan   nan   nan     nannannan\n",
       "8754   nan   nan   nan     nannannan\n",
       "8755   nan   nan   nan     nannannan\n",
       "8756   nan   nan   nan     nannannan\n",
       "8757   nan   nan   nan     nannannan\n",
       "8758   nan   nan   nan     nannannan\n",
       "8759   nan   nan   nan     nannannan\n",
       "8760   nan   nan  None           NaN\n",
       "8761   nan  None  None           NaN\n",
       "\n",
       "[8762 rows x 4 columns]"
      ]
     },
     "execution_count": 45,
     "metadata": {},
     "output_type": "execute_result"
    }
   ],
   "source": [
    "df2"
   ]
  },
  {
   "cell_type": "code",
   "execution_count": 44,
   "metadata": {
    "collapsed": false
   },
   "outputs": [
    {
     "data": {
      "text/plain": [
       "nannannan       378\n",
       "58.056.055.0     32\n",
       "60.061.062.0     31\n",
       "55.058.062.0     31\n",
       "67.066.065.0     29\n",
       "60.062.063.0     28\n",
       "63.062.060.0     28\n",
       "nannan55.0       28\n",
       "60.059.058.0     28\n",
       "62.063.065.0     28\n",
       "55.056.058.0     27\n",
       "61.060.058.0     26\n",
       "53.051.050.0     25\n",
       "62.063.064.0     25\n",
       "56.058.059.0     24\n",
       "65.064.063.0     24\n",
       "nannan60.0       23\n",
       "63.061.060.0     23\n",
       "53.056.060.0     23\n",
       "66.065.063.0     23\n",
       "56.057.060.0     23\n",
       "58.062.065.0     23\n",
       "63.060.061.0     23\n",
       "53.055.056.0     23\n",
       "59.058.056.0     22\n",
       "53.052.051.0     22\n",
       "65.063.062.0     22\n",
       "56.060.063.0     22\n",
       "62.063.062.0     21\n",
       "54.053.051.0     21\n",
       "               ... \n",
       "48.049.047.0      1\n",
       "60.053.0nan       1\n",
       "60.058.061.0      1\n",
       "43.0nan53.0       1\n",
       "71.067.064.0      1\n",
       "50.049.047.0      1\n",
       "55.059.0nan       1\n",
       "46.043.046.0      1\n",
       "54.0nan59.0       1\n",
       "52.052.051.0      1\n",
       "70.066.062.0      1\n",
       "nan48.047.0       1\n",
       "72.075.077.0      1\n",
       "51.051.055.0      1\n",
       "nan62.055.0       1\n",
       "55.067.070.0      1\n",
       "47.058.047.0      1\n",
       "53.060.059.0      1\n",
       "67.070.0nan       1\n",
       "63.055.0nan       1\n",
       "54.058.052.0      1\n",
       "57.059.056.0      1\n",
       "67.069.069.0      1\n",
       "71.072.070.0      1\n",
       "53.060.055.0      1\n",
       "59.052.055.0      1\n",
       "75.075.0nan       1\n",
       "64.059.055.0      1\n",
       "57.058.051.0      1\n",
       "58.053.062.0      1\n",
       "dtype: int64"
      ]
     },
     "execution_count": 44,
     "metadata": {},
     "output_type": "execute_result"
    }
   ],
   "source": [
    "df2['next'].value_counts()"
   ]
  },
  {
   "cell_type": "code",
   "execution_count": 45,
   "metadata": {
    "collapsed": false
   },
   "outputs": [],
   "source": [
    "#df2['merged'] = str(df2[1]) + ',' + str(df2[2])"
   ]
  },
  {
   "cell_type": "code",
   "execution_count": 46,
   "metadata": {
    "collapsed": false
   },
   "outputs": [],
   "source": [
    "#df2['merged'].value_counts()"
   ]
  },
  {
   "cell_type": "code",
   "execution_count": null,
   "metadata": {
    "collapsed": true
   },
   "outputs": [],
   "source": []
  },
  {
   "cell_type": "code",
   "execution_count": null,
   "metadata": {
    "collapsed": true
   },
   "outputs": [],
   "source": []
  }
 ],
 "metadata": {
  "kernelspec": {
   "display_name": "Python 2",
   "language": "python",
   "name": "python2"
  },
  "language_info": {
   "codemirror_mode": {
    "name": "ipython",
    "version": 2
   },
   "file_extension": ".py",
   "mimetype": "text/x-python",
   "name": "python",
   "nbconvert_exporter": "python",
   "pygments_lexer": "ipython2",
   "version": "2.7.6"
  }
 },
 "nbformat": 4,
 "nbformat_minor": 0
}
