{
 "metadata": {
  "name": "",
  "signature": "sha256:3eafe6d0bf9075bd4c3380273e1e8d9ba97b07deb2f40a3011f9c0802794ba31"
 },
 "nbformat": 3,
 "nbformat_minor": 0,
 "worksheets": [
  {
   "cells": [
    {
     "cell_type": "code",
     "collapsed": false,
     "input": [
      "import music21 as mu\n",
      "import numpy as np\n",
      "import pandas as pd\n",
      "%pylab inline\n",
      "from IPython.core.display import HTML\n",
      "from IPython.core.display import Image \n",
      "%load_ext music21.ipython21.ipExtension\n",
      "from utilities import TableFigureCounter"
     ],
     "language": "python",
     "metadata": {},
     "outputs": [
      {
       "output_type": "stream",
       "stream": "stdout",
       "text": [
        "Populating the interactive namespace from numpy and matplotlib\n"
       ]
      }
     ],
     "prompt_number": 2
    },
    {
     "cell_type": "code",
     "collapsed": false,
     "input": [
      "#load saved data\n",
      "data_set = pd.read_pickle('data_set_as_pk.pkl')\n",
      "mu_stella = mu.converter.parse('xml_files/stella_by_starlight.xml')\n",
      "mu_autumn = mu.converter.parse('xml_files/autumn_leaves_v2.xml')\n",
      "mu_if_i_were = mu.converter.parse('xml_files/if_i_were_a_bell.xml')\n",
      "mu_groovin = mu.converter.parse('xml_files/groovin_high.xml')\n",
      "mu_all_the_things = mu.converter.parse('xml_files/all_the_things_you_are.xml')"
     ],
     "language": "python",
     "metadata": {},
     "outputs": [],
     "prompt_number": 3
    },
    {
     "cell_type": "code",
     "collapsed": false,
     "input": [
      "tab_fig = TableFigureCounter(current_fig=43,current_tab=33)"
     ],
     "language": "python",
     "metadata": {},
     "outputs": [],
     "prompt_number": 4
    },
    {
     "cell_type": "markdown",
     "metadata": {},
     "source": [
      "<h3>3.2.3 The fifth degree in the Dominant Seventh Chord</h3>"
     ]
    },
    {
     "cell_type": "markdown",
     "metadata": {},
     "source": [
      "<p>Figure 3.x below shows a phrase played over a G dominant seventh chord. The opening note of this phrase is D5 or the fith degree of the dominant seventh Unlike the flat-seventh degree and the root degree, the fifth is here being used both in the first half of the bar, and as the first note of the melodic phrase.</p> "
     ]
    },
    {
     "cell_type": "code",
     "collapsed": false,
     "input": [
      "print tab_fig.get_next_fig(3)"
     ],
     "language": "python",
     "metadata": {},
     "outputs": [
      {
       "output_type": "stream",
       "stream": "stdout",
       "text": [
        "Figure 3.44\n"
       ]
      }
     ],
     "prompt_number": 5
    },
    {
     "cell_type": "code",
     "collapsed": false,
     "input": [
      "select = mu_stella.parts[1].measures(50,50)\n",
      "select.show()"
     ],
     "language": "python",
     "metadata": {},
     "outputs": [
      {
       "metadata": {},
       "output_type": "pyout",
       "png": "[encoded data removed]",
       "prompt_number": 6,
       "text": [
        "<music21.ipython21.objects.IPythonPNGObject at 0x1243adfd0>"
       ]
      }
     ],
     "prompt_number": 6
    },
    {
     "cell_type": "markdown",
     "metadata": {},
     "source": [
      "<p>It is unexpected that the fifth degree would be so heavily utilised as a note choice on the dominant seventh chord. In most jazz theory texts, the fifth degree is not regarded as being a good note choice, as opposed to the third degree and flat-seventh, or even the altered ninth and fifth. Jazz theory texts also often suggest that the flat-five and sharp-five degrees (which can be seen in altered and dominant scales) are more approriate. Also, the fifth degree is almost never used as a note choice which playing a dominant seventh chord. When Jarrett plays a dominant seventh chord, it is far more likely that the fifth will be altered or ommitted altegother. Yet in improvised phrases, for Jarrett at least, the fifth degree is important. In fact, the choice of the fifth degree as a note a note choice on the dominant chord occurs more than than the flat-five degree and sharp-five degree combined. The fifth degree also comes very close to being Jarrett's second most favoured note choice on a dominant seventh. There are 342 examples in the data-set of the fifth degree on the dominant seventh chord, and 344 examples of the flat-seventh degree. In the next chapter I will shows that the use of the fifth degree is related to Jarrett being heavily influenced by given jazz standard on which he improvising.</p>"
     ]
    },
    {
     "cell_type": "markdown",
     "metadata": {},
     "source": [
      "<p>Like the root degree and flat-seventh degree of the dominant seventh that have been explored so far, there are again clear trends to be found in the preparation of the fifth degree. There are clusters of things that are almost equally likely to happen, and a long tail of exceptions. Unlike the root degree and the flat-seventh however, there is not a clear majority that can be seen in the way the fifth degree is prepared. The fifth degree is almost equally as likely to be prepared from three semitones below (for example an E5 being played prior to a G5 on a C dominant seventh chord) or from two semitones above (for example a A5 leading to a G5 on a C Dominant 7 chord).All possible preparations can be seen in Figure 3.x.</p>"
     ]
    },
    {
     "cell_type": "code",
     "collapsed": false,
     "input": [
      "print tab_fig.get_next_fig(3)"
     ],
     "language": "python",
     "metadata": {},
     "outputs": [
      {
       "output_type": "stream",
       "stream": "stdout",
       "text": [
        "Figure 3.61\n"
       ]
      }
     ],
     "prompt_number": 49
    },
    {
     "cell_type": "code",
     "collapsed": false,
     "input": [
      "data_set[data_set.dist_note_to_root == 7]\\\n",
      "[data_set.chord_type=='dominant_seventh']\\\n",
      "[data_set.p_offset <= 0.5]\\\n",
      "[data_set.r_offset <= 0.5].prep.value_counts().plot(kind='bar', title=\"Preparation of Fifth Degree on a Dominant Seventh\")"
     ],
     "language": "python",
     "metadata": {},
     "outputs": [
      {
       "metadata": {},
       "output_type": "pyout",
       "prompt_number": 50,
       "text": [
        "<matplotlib.axes.AxesSubplot at 0x118a91350>"
       ]
      },
      {
       "metadata": {},
       "output_type": "display_data",
       "png": "[encoded data removed]",
       "text": [
        "<matplotlib.figure.Figure at 0x118a91a50>"
       ]
      }
     ],
     "prompt_number": 50
    },
    {
     "cell_type": "markdown",
     "metadata": {},
     "source": [
      "<p>The resolution of the fifth degree does see a clear majority of cases  (though it is a smaller majority than the previous degrees under consideration) resolving up 3 semitones (for example a G5 resolving to a Bb5 on a CDom7 chord). This is followed by a a number of clusters where equally likely things can happen. </p>"
     ]
    },
    {
     "cell_type": "code",
     "collapsed": false,
     "input": [
      "print tab_fig.get_next_fig(3)"
     ],
     "language": "python",
     "metadata": {},
     "outputs": [
      {
       "output_type": "stream",
       "stream": "stdout",
       "text": [
        "Figure 3.46\n"
       ]
      }
     ],
     "prompt_number": 9
    },
    {
     "cell_type": "code",
     "collapsed": false,
     "input": [
      "data_set[data_set.dist_note_to_root == 7]\\\n",
      "[data_set.chord_type=='dominant_seventh']\\\n",
      "[data_set.p_offset <= 0.5]\\\n",
      "[data_set.r_offset <= 0.5].res.value_counts().plot(kind='bar', title=\"Resolution of Fifth Degree on a Dominant Seventh\")"
     ],
     "language": "python",
     "metadata": {},
     "outputs": [
      {
       "metadata": {},
       "output_type": "pyout",
       "prompt_number": 10,
       "text": [
        "<matplotlib.axes.AxesSubplot at 0x11ec3fc90>"
       ]
      },
      {
       "metadata": {},
       "output_type": "display_data",
       "png": "[encoded data removed]",
       "text": [
        "<matplotlib.figure.Figure at 0x12499ba50>"
       ]
      }
     ],
     "prompt_number": 10
    },
    {
     "cell_type": "markdown",
     "metadata": {},
     "source": [
      "<p>The first major difference to note in terms of how the fifth degree is prepared and resolved is that, unlike the previous degrees, preparations and resolutions are not most likely to happen in step-wise fashion. In the three-note stuctures we have examined so far, did not exceeed two semitones.</p>\n",
      "\n",
      "<p>This general trend of the most commonly used notes being prepared in step-wise fashion actually holds throug the entire data-set. Figure 3.x below shows a count of the most likely preparatory notes (starting with preparation from one semitone downwards (just over 1200 examples) to preparation from five semitones upwards (aproximattely 300 examples).</p>"
     ]
    },
    {
     "cell_type": "code",
     "collapsed": false,
     "input": [
      "print tab_fig.get_next_fig(3)"
     ],
     "language": "python",
     "metadata": {},
     "outputs": [
      {
       "output_type": "stream",
       "stream": "stdout",
       "text": [
        "Figure 3.47\n"
       ]
      }
     ],
     "prompt_number": 11
    },
    {
     "cell_type": "code",
     "collapsed": false,
     "input": [
      "data_set['prep'].value_counts().ix[:5].plot(kind='bar',\n",
      "                                            title='All preparatory notes in the data-set')"
     ],
     "language": "python",
     "metadata": {},
     "outputs": [
      {
       "metadata": {},
       "output_type": "pyout",
       "prompt_number": 54,
       "text": [
        "<matplotlib.axes.AxesSubplot at 0x126a07d10>"
       ]
      },
      {
       "metadata": {},
       "output_type": "display_data",
       "png": "[encoded data removed]",
       "text": [
        "<matplotlib.figure.Figure at 0x126975b90>"
       ]
      }
     ],
     "prompt_number": 54
    },
    {
     "cell_type": "markdown",
     "metadata": {},
     "source": [
      "<p>Figure 3.x belows shows the top nine most common resolutions across the entire data-set. They are of course symmetrical to the prparations (i.e. if the most common preparation note is from one semitone below, it makes sense the that the most common resolution is to one semione below). Both figures show show that stepwise preparations and resolutinos dominate the data-set.</p>"
     ]
    },
    {
     "cell_type": "code",
     "collapsed": false,
     "input": [
      "print tab_fig.get_next_fig(3)"
     ],
     "language": "python",
     "metadata": {},
     "outputs": [
      {
       "output_type": "stream",
       "stream": "stdout",
       "text": [
        "Figure 3.48\n"
       ]
      }
     ],
     "prompt_number": 13
    },
    {
     "cell_type": "code",
     "collapsed": false,
     "input": [
      "data_set['res'].value_counts().ix[:5].plot(kind='bar',\n",
      "                                            title='All preparatory notes in the data-set')"
     ],
     "language": "python",
     "metadata": {},
     "outputs": [
      {
       "metadata": {},
       "output_type": "pyout",
       "prompt_number": 14,
       "text": [
        "<matplotlib.axes.AxesSubplot at 0x1117d0150>"
       ]
      },
      {
       "metadata": {},
       "output_type": "display_data",
       "png": "[encoded data removed]",
       "text": [
        "<matplotlib.figure.Figure at 0x10b4f9890>"
       ]
      }
     ],
     "prompt_number": 14
    },
    {
     "cell_type": "markdown",
     "metadata": {},
     "source": [
      "<p>The fifth degree is different in that it is predominantly prepared and resolved via thirds (a distance of either three or four semitones). Therefor, instead of being seen in passages that have stepwise motion, the fifth is more often found with arpeggio patterns. Table 3.x below provides more detail around the most common type of preparation fo the fifth degree, (from three semitones below). The overwhelming majority of resolutions that occur in this case to 3 semitones above (for example an E5 leading to a G5 followed by a Bb5).</p>"
     ]
    },
    {
     "cell_type": "code",
     "collapsed": false,
     "input": [
      "print tab_fig.get_next_tab(3)"
     ],
     "language": "python",
     "metadata": {},
     "outputs": [
      {
       "output_type": "stream",
       "stream": "stdout",
       "text": [
        "Table 3.34\n"
       ]
      }
     ],
     "prompt_number": 15
    },
    {
     "cell_type": "code",
     "collapsed": false,
     "input": [
      "data_set[data_set.dist_note_to_root == 7] \\\n",
      "[data_set.chord_type=='dominant_seventh'][data_set.prep == -3] \\\n",
      "[data_set.p_offset <= 0.5][data_set.r_offset <= 0.5].groupby(['prep', 'res']).count().sort('note', ascending = False).iloc[:,1:2]\n",
      "#Table 3.7"
     ],
     "language": "python",
     "metadata": {},
     "outputs": [
      {
       "html": [
        "<div style=\"max-height:1000px;max-width:1500px;overflow:auto;\">\n",
        "<table border=\"1\" class=\"dataframe\">\n",
        "  <thead>\n",
        "    <tr style=\"text-align: right;\">\n",
        "      <th></th>\n",
        "      <th></th>\n",
        "      <th>note</th>\n",
        "    </tr>\n",
        "    <tr>\n",
        "      <th>prep</th>\n",
        "      <th>res</th>\n",
        "      <th></th>\n",
        "    </tr>\n",
        "  </thead>\n",
        "  <tbody>\n",
        "    <tr>\n",
        "      <th rowspan=\"13\" valign=\"top\">-3</th>\n",
        "      <th> 3</th>\n",
        "      <td> 20</td>\n",
        "    </tr>\n",
        "    <tr>\n",
        "      <th>-2</th>\n",
        "      <td>  7</td>\n",
        "    </tr>\n",
        "    <tr>\n",
        "      <th>-3</th>\n",
        "      <td>  5</td>\n",
        "    </tr>\n",
        "    <tr>\n",
        "      <th>-1</th>\n",
        "      <td>  4</td>\n",
        "    </tr>\n",
        "    <tr>\n",
        "      <th>-5</th>\n",
        "      <td>  4</td>\n",
        "    </tr>\n",
        "    <tr>\n",
        "      <th> 5</th>\n",
        "      <td>  3</td>\n",
        "    </tr>\n",
        "    <tr>\n",
        "      <th> 2</th>\n",
        "      <td>  3</td>\n",
        "    </tr>\n",
        "    <tr>\n",
        "      <th>-6</th>\n",
        "      <td>  2</td>\n",
        "    </tr>\n",
        "    <tr>\n",
        "      <th> 7</th>\n",
        "      <td>  1</td>\n",
        "    </tr>\n",
        "    <tr>\n",
        "      <th> 1</th>\n",
        "      <td>  1</td>\n",
        "    </tr>\n",
        "    <tr>\n",
        "      <th> 0</th>\n",
        "      <td>  1</td>\n",
        "    </tr>\n",
        "    <tr>\n",
        "      <th>-4</th>\n",
        "      <td>  1</td>\n",
        "    </tr>\n",
        "    <tr>\n",
        "      <th>-7</th>\n",
        "      <td>  1</td>\n",
        "    </tr>\n",
        "  </tbody>\n",
        "</table>\n",
        "<p>13 rows \u00d7 1 columns</p>\n",
        "</div>"
       ],
       "metadata": {},
       "output_type": "pyout",
       "prompt_number": 16,
       "text": [
        "          note\n",
        "prep res      \n",
        "-3    3     20\n",
        "     -2      7\n",
        "     -3      5\n",
        "     -1      4\n",
        "     -5      4\n",
        "      5      3\n",
        "      2      3\n",
        "     -6      2\n",
        "      7      1\n",
        "      1      1\n",
        "      0      1\n",
        "     -4      1\n",
        "     -7      1\n",
        "\n",
        "[13 rows x 1 columns]"
       ]
      }
     ],
     "prompt_number": 16
    },
    {
     "cell_type": "markdown",
     "metadata": {},
     "source": [
      "<p>Table 3.x below lists all the places in the data-set that the fifth degree on the dominant seventh is prepared by a note three semitones below and resolved to a note that is three semitones higher. Unlike the root degree and the flat-seventh degree, the use of the fifth occurrs in the beginning of the bar in 75% of cases.</p>"
     ]
    },
    {
     "cell_type": "code",
     "collapsed": false,
     "input": [
      "print tab_fig.get_next_tab(3)"
     ],
     "language": "python",
     "metadata": {},
     "outputs": [
      {
       "output_type": "stream",
       "stream": "stdout",
       "text": [
        "Table 3.35\n"
       ]
      }
     ],
     "prompt_number": 17
    },
    {
     "cell_type": "code",
     "collapsed": false,
     "input": [
      "data_set[data_set.dist_note_to_root == 7]\\\n",
      "[data_set.chord_type == 'dominant_seventh']\\\n",
      "[data_set.p_offset <=.5][data_set.r_offset <= 0.5] \\\n",
      "[data_set.prep == -3][data_set.res == 3][['measure', 'name', 'note']].sort('name')"
     ],
     "language": "python",
     "metadata": {},
     "outputs": [
      {
       "html": [
        "<div style=\"max-height:1000px;max-width:1500px;overflow:auto;\">\n",
        "<table border=\"1\" class=\"dataframe\">\n",
        "  <thead>\n",
        "    <tr style=\"text-align: right;\">\n",
        "      <th></th>\n",
        "      <th>measure</th>\n",
        "      <th>name</th>\n",
        "      <th>note</th>\n",
        "    </tr>\n",
        "  </thead>\n",
        "  <tbody>\n",
        "    <tr>\n",
        "      <th>246 </th>\n",
        "      <td>  49.500000</td>\n",
        "      <td> All The Things You Are</td>\n",
        "      <td> 65</td>\n",
        "    </tr>\n",
        "    <tr>\n",
        "      <th>1040</th>\n",
        "      <td> 168.250000</td>\n",
        "      <td> All The Things You Are</td>\n",
        "      <td> 66</td>\n",
        "    </tr>\n",
        "    <tr>\n",
        "      <th>648 </th>\n",
        "      <td> 110.583333</td>\n",
        "      <td> All The Things You Are</td>\n",
        "      <td> 67</td>\n",
        "    </tr>\n",
        "    <tr>\n",
        "      <th>3900</th>\n",
        "      <td> 122.250000</td>\n",
        "      <td>           Groovin High</td>\n",
        "      <td> 79</td>\n",
        "    </tr>\n",
        "    <tr>\n",
        "      <th>3986</th>\n",
        "      <td> 139.875000</td>\n",
        "      <td>           Groovin High</td>\n",
        "      <td> 60</td>\n",
        "    </tr>\n",
        "    <tr>\n",
        "      <th>4278</th>\n",
        "      <td> 188.375000</td>\n",
        "      <td>           Groovin High</td>\n",
        "      <td> 72</td>\n",
        "    </tr>\n",
        "    <tr>\n",
        "      <th>4486</th>\n",
        "      <td> 230.000000</td>\n",
        "      <td>           Groovin High</td>\n",
        "      <td> 69</td>\n",
        "    </tr>\n",
        "    <tr>\n",
        "      <th>3347</th>\n",
        "      <td>  26.125000</td>\n",
        "      <td>           Groovin High</td>\n",
        "      <td> 79</td>\n",
        "    </tr>\n",
        "    <tr>\n",
        "      <th>3615</th>\n",
        "      <td>  74.375000</td>\n",
        "      <td>           Groovin High</td>\n",
        "      <td> 67</td>\n",
        "    </tr>\n",
        "    <tr>\n",
        "      <th>7643</th>\n",
        "      <td> 202.562500</td>\n",
        "      <td>       If I Were A Bell</td>\n",
        "      <td> 65</td>\n",
        "    </tr>\n",
        "    <tr>\n",
        "      <th>7783</th>\n",
        "      <td> 218.062500</td>\n",
        "      <td>       If I Were A Bell</td>\n",
        "      <td> 65</td>\n",
        "    </tr>\n",
        "    <tr>\n",
        "      <th>6240</th>\n",
        "      <td>  36.375000</td>\n",
        "      <td>       If I Were A Bell</td>\n",
        "      <td> 65</td>\n",
        "    </tr>\n",
        "    <tr>\n",
        "      <th>6268</th>\n",
        "      <td>  42.125000</td>\n",
        "      <td>       If I Were A Bell</td>\n",
        "      <td> 65</td>\n",
        "    </tr>\n",
        "    <tr>\n",
        "      <th>6943</th>\n",
        "      <td> 128.250000</td>\n",
        "      <td>       If I Were A Bell</td>\n",
        "      <td> 77</td>\n",
        "    </tr>\n",
        "    <tr>\n",
        "      <th>7223</th>\n",
        "      <td> 159.875000</td>\n",
        "      <td>       If I Were A Bell</td>\n",
        "      <td> 60</td>\n",
        "    </tr>\n",
        "    <tr>\n",
        "      <th>7282</th>\n",
        "      <td> 170.333333</td>\n",
        "      <td>       If I Were A Bell</td>\n",
        "      <td> 65</td>\n",
        "    </tr>\n",
        "    <tr>\n",
        "      <th>7499</th>\n",
        "      <td> 192.375000</td>\n",
        "      <td>       If I Were A Bell</td>\n",
        "      <td> 65</td>\n",
        "    </tr>\n",
        "    <tr>\n",
        "      <th>7547</th>\n",
        "      <td> 195.625000</td>\n",
        "      <td>       If I Were A Bell</td>\n",
        "      <td> 72</td>\n",
        "    </tr>\n",
        "    <tr>\n",
        "      <th>7553</th>\n",
        "      <td> 196.166667</td>\n",
        "      <td>       If I Were A Bell</td>\n",
        "      <td> 65</td>\n",
        "    </tr>\n",
        "    <tr>\n",
        "      <th>3074</th>\n",
        "      <td> 145.312500</td>\n",
        "      <td>    Stella By Starlight</td>\n",
        "      <td> 62</td>\n",
        "    </tr>\n",
        "  </tbody>\n",
        "</table>\n",
        "<p>20 rows \u00d7 3 columns</p>\n",
        "</div>"
       ],
       "metadata": {},
       "output_type": "pyout",
       "prompt_number": 18,
       "text": [
        "         measure                    name  note\n",
        "246    49.500000  All The Things You Are    65\n",
        "1040  168.250000  All The Things You Are    66\n",
        "648   110.583333  All The Things You Are    67\n",
        "3900  122.250000            Groovin High    79\n",
        "3986  139.875000            Groovin High    60\n",
        "4278  188.375000            Groovin High    72\n",
        "4486  230.000000            Groovin High    69\n",
        "3347   26.125000            Groovin High    79\n",
        "3615   74.375000            Groovin High    67\n",
        "7643  202.562500        If I Were A Bell    65\n",
        "7783  218.062500        If I Were A Bell    65\n",
        "6240   36.375000        If I Were A Bell    65\n",
        "6268   42.125000        If I Were A Bell    65\n",
        "6943  128.250000        If I Were A Bell    77\n",
        "7223  159.875000        If I Were A Bell    60\n",
        "7282  170.333333        If I Were A Bell    65\n",
        "7499  192.375000        If I Were A Bell    65\n",
        "7547  195.625000        If I Were A Bell    72\n",
        "7553  196.166667        If I Were A Bell    65\n",
        "3074  145.312500     Stella By Starlight    62\n",
        "\n",
        "[20 rows x 3 columns]"
       ]
      }
     ],
     "prompt_number": 18
    },
    {
     "cell_type": "markdown",
     "metadata": {},
     "source": [
      "<p>Two of these examples can be seen below and both show an an A4 being prepared by an F#4 and resolved by a C4. Although the phrases are quiet different, the similiarity is not due to the same three-note structure. The phrases are identical for six notes before turning to something else.</p>"
     ]
    },
    {
     "cell_type": "code",
     "collapsed": false,
     "input": [
      "print tab_fig.get_next_fig(3)"
     ],
     "language": "python",
     "metadata": {},
     "outputs": [
      {
       "output_type": "stream",
       "stream": "stdout",
       "text": [
        "Figure 3.62\n"
       ]
      }
     ],
     "prompt_number": 55
    },
    {
     "cell_type": "code",
     "collapsed": false,
     "input": [
      "select = mu_groovin.parts[1].measures(73,74)\n",
      "select.show()"
     ],
     "language": "python",
     "metadata": {},
     "outputs": [
      {
       "metadata": {},
       "output_type": "pyout",
       "png": "[encoded data removed]",
       "prompt_number": 67,
       "text": [
        "<music21.ipython21.objects.IPythonPNGObject at 0x122719510>"
       ]
      }
     ],
     "prompt_number": 67
    },
    {
     "cell_type": "code",
     "collapsed": false,
     "input": [
      "print tab_fig.get_next_fig(3)"
     ],
     "language": "python",
     "metadata": {},
     "outputs": [
      {
       "output_type": "stream",
       "stream": "stdout",
       "text": [
        "Figure 3.49\n"
       ]
      }
     ],
     "prompt_number": 19
    },
    {
     "cell_type": "code",
     "collapsed": false,
     "input": [
      "select = mu_groovin.parts[1].measures(229,231)\n",
      "select.show()"
     ],
     "language": "python",
     "metadata": {},
     "outputs": [
      {
       "metadata": {},
       "output_type": "pyout",
       "png": "[encoded data removed]",
       "prompt_number": 57,
       "text": [
        "<music21.ipython21.objects.IPythonPNGObject at 0x122802650>"
       ]
      }
     ],
     "prompt_number": 57
    },
    {
     "cell_type": "markdown",
     "metadata": {},
     "source": [
      "<p>Taking a wider lens to both the examples above, it seems that melodic phrases that include the  generall how the use of the fifth should be hanlded, there are no strict guideliness on which parts of the beat to place it, however, there are the range of three-note structure will most typically be 6-7 semitones, wheras the range of root, will typically be two to three semitones."
     ]
    },
    {
     "cell_type": "code",
     "collapsed": false,
     "input": [
      "print tab_fig.get_next_fig(3)"
     ],
     "language": "python",
     "metadata": {},
     "outputs": [
      {
       "output_type": "stream",
       "stream": "stdout",
       "text": [
        "Figure 3.50\n"
       ]
      }
     ],
     "prompt_number": 21
    },
    {
     "cell_type": "code",
     "collapsed": false,
     "input": [
      "select = mu_groovin.parts[1].measures(170,172)\n",
      "select.show()"
     ],
     "language": "python",
     "metadata": {},
     "outputs": [
      {
       "metadata": {},
       "output_type": "pyout",
       "png": "[encoded data removed]",
       "prompt_number": 22,
       "text": [
        "<music21.ipython21.objects.IPythonPNGObject at 0x1129f8a50>"
       ]
      }
     ],
     "prompt_number": 22
    },
    {
     "cell_type": "markdown",
     "metadata": {},
     "source": [
      "<p>It is almost the same likliehodd that preparation will be from 2 semitones up than three semitones below, and this means that if Keith Jarrett plays the fifth degree, it is almost equally likely that it has been prepared from two different directions. If the preparation is from 2 semitiones higher, it is then equally likely that it will be resolved down down five semitones or down one semitone. A summary of these examples can be seen below. </p>"
     ]
    },
    {
     "cell_type": "code",
     "collapsed": false,
     "input": [
      "print tab_fig.get_next_fig(3)"
     ],
     "language": "python",
     "metadata": {},
     "outputs": [
      {
       "output_type": "stream",
       "stream": "stdout",
       "text": [
        "Figure 3.51\n"
       ]
      }
     ],
     "prompt_number": 23
    },
    {
     "cell_type": "code",
     "collapsed": false,
     "input": [
      "data_set[data_set.dist_note_to_root == 7] \\\n",
      "[data_set.chord_type=='dominant_seventh'][data_set.prep == 2] \\\n",
      "[data_set.p_offset <= 0.5][data_set.r_offset <= 0.5].groupby(['prep', 'res']).count().sort('note', ascending = False).iloc[:,1:2]\n",
      "#Table 3.7"
     ],
     "language": "python",
     "metadata": {},
     "outputs": [
      {
       "html": [
        "<div style=\"max-height:1000px;max-width:1500px;overflow:auto;\">\n",
        "<table border=\"1\" class=\"dataframe\">\n",
        "  <thead>\n",
        "    <tr style=\"text-align: right;\">\n",
        "      <th></th>\n",
        "      <th></th>\n",
        "      <th>note</th>\n",
        "    </tr>\n",
        "    <tr>\n",
        "      <th>prep</th>\n",
        "      <th>res</th>\n",
        "      <th></th>\n",
        "    </tr>\n",
        "  </thead>\n",
        "  <tbody>\n",
        "    <tr>\n",
        "      <th rowspan=\"14\" valign=\"top\">2</th>\n",
        "      <th>-5</th>\n",
        "      <td> 11</td>\n",
        "    </tr>\n",
        "    <tr>\n",
        "      <th>-1</th>\n",
        "      <td> 10</td>\n",
        "    </tr>\n",
        "    <tr>\n",
        "      <th>-2</th>\n",
        "      <td>  9</td>\n",
        "    </tr>\n",
        "    <tr>\n",
        "      <th>-3</th>\n",
        "      <td>  5</td>\n",
        "    </tr>\n",
        "    <tr>\n",
        "      <th> 5</th>\n",
        "      <td>  4</td>\n",
        "    </tr>\n",
        "    <tr>\n",
        "      <th> 3</th>\n",
        "      <td>  3</td>\n",
        "    </tr>\n",
        "    <tr>\n",
        "      <th> 1</th>\n",
        "      <td>  3</td>\n",
        "    </tr>\n",
        "    <tr>\n",
        "      <th> 8</th>\n",
        "      <td>  1</td>\n",
        "    </tr>\n",
        "    <tr>\n",
        "      <th> 7</th>\n",
        "      <td>  1</td>\n",
        "    </tr>\n",
        "    <tr>\n",
        "      <th> 6</th>\n",
        "      <td>  1</td>\n",
        "    </tr>\n",
        "    <tr>\n",
        "      <th> 2</th>\n",
        "      <td>  1</td>\n",
        "    </tr>\n",
        "    <tr>\n",
        "      <th> 0</th>\n",
        "      <td>  1</td>\n",
        "    </tr>\n",
        "    <tr>\n",
        "      <th>-4</th>\n",
        "      <td>  1</td>\n",
        "    </tr>\n",
        "    <tr>\n",
        "      <th>-6</th>\n",
        "      <td>  1</td>\n",
        "    </tr>\n",
        "  </tbody>\n",
        "</table>\n",
        "<p>14 rows \u00d7 1 columns</p>\n",
        "</div>"
       ],
       "metadata": {},
       "output_type": "pyout",
       "prompt_number": 24,
       "text": [
        "          note\n",
        "prep res      \n",
        "2    -5     11\n",
        "     -1     10\n",
        "     -2      9\n",
        "     -3      5\n",
        "      5      4\n",
        "      3      3\n",
        "      1      3\n",
        "      8      1\n",
        "      7      1\n",
        "      6      1\n",
        "      2      1\n",
        "      0      1\n",
        "     -4      1\n",
        "     -6      1\n",
        "\n",
        "[14 rows x 1 columns]"
       ]
      }
     ],
     "prompt_number": 24
    },
    {
     "cell_type": "markdown",
     "metadata": {},
     "source": [
      " Examples of each of these can be seen in Figures 3.x, 3.x and 3.x</p>"
     ]
    },
    {
     "cell_type": "code",
     "collapsed": false,
     "input": [
      "data_set[data_set.dist_note_to_root == 7]\\\n",
      "[data_set.chord_type == 'dominant_seventh']\\\n",
      "[data_set.p_offset <=.5][data_set.r_offset <= 0.5] \\\n",
      "[data_set.prep == 2][data_set.res == -5] \\\n",
      "[['measure', 'name', 'note']].sort('name')"
     ],
     "language": "python",
     "metadata": {},
     "outputs": [
      {
       "html": [
        "<div style=\"max-height:1000px;max-width:1500px;overflow:auto;\">\n",
        "<table border=\"1\" class=\"dataframe\">\n",
        "  <thead>\n",
        "    <tr style=\"text-align: right;\">\n",
        "      <th></th>\n",
        "      <th>measure</th>\n",
        "      <th>name</th>\n",
        "      <th>note</th>\n",
        "    </tr>\n",
        "  </thead>\n",
        "  <tbody>\n",
        "    <tr>\n",
        "      <th>152 </th>\n",
        "      <td>  32.625000</td>\n",
        "      <td> All The Things You Are</td>\n",
        "      <td> 73</td>\n",
        "    </tr>\n",
        "    <tr>\n",
        "      <th>365 </th>\n",
        "      <td>  68.625000</td>\n",
        "      <td> All The Things You Are</td>\n",
        "      <td> 73</td>\n",
        "    </tr>\n",
        "    <tr>\n",
        "      <th>866 </th>\n",
        "      <td> 140.500000</td>\n",
        "      <td> All The Things You Are</td>\n",
        "      <td> 61</td>\n",
        "    </tr>\n",
        "    <tr>\n",
        "      <th>1100</th>\n",
        "      <td> 176.250000</td>\n",
        "      <td> All The Things You Are</td>\n",
        "      <td> 61</td>\n",
        "    </tr>\n",
        "    <tr>\n",
        "      <th>3562</th>\n",
        "      <td>  64.625000</td>\n",
        "      <td>           Groovin High</td>\n",
        "      <td> 80</td>\n",
        "    </tr>\n",
        "    <tr>\n",
        "      <th>4671</th>\n",
        "      <td> 256.750000</td>\n",
        "      <td>           Groovin High</td>\n",
        "      <td> 80</td>\n",
        "    </tr>\n",
        "    <tr>\n",
        "      <th>3384</th>\n",
        "      <td>  32.500000</td>\n",
        "      <td>           Groovin High</td>\n",
        "      <td> 80</td>\n",
        "    </tr>\n",
        "    <tr>\n",
        "      <th>4308</th>\n",
        "      <td> 192.750000</td>\n",
        "      <td>           Groovin High</td>\n",
        "      <td> 80</td>\n",
        "    </tr>\n",
        "    <tr>\n",
        "      <th>7794</th>\n",
        "      <td> 218.791667</td>\n",
        "      <td>       If I Were A Bell</td>\n",
        "      <td> 65</td>\n",
        "    </tr>\n",
        "    <tr>\n",
        "      <th>3013</th>\n",
        "      <td> 140.812500</td>\n",
        "      <td>    Stella By Starlight</td>\n",
        "      <td> 70</td>\n",
        "    </tr>\n",
        "    <tr>\n",
        "      <th>1957</th>\n",
        "      <td>  21.583333</td>\n",
        "      <td>    Stella By Starlight</td>\n",
        "      <td> 75</td>\n",
        "    </tr>\n",
        "  </tbody>\n",
        "</table>\n",
        "<p>11 rows \u00d7 3 columns</p>\n",
        "</div>"
       ],
       "metadata": {},
       "output_type": "pyout",
       "prompt_number": 25,
       "text": [
        "         measure                    name  note\n",
        "152    32.625000  All The Things You Are    73\n",
        "365    68.625000  All The Things You Are    73\n",
        "866   140.500000  All The Things You Are    61\n",
        "1100  176.250000  All The Things You Are    61\n",
        "3562   64.625000            Groovin High    80\n",
        "4671  256.750000            Groovin High    80\n",
        "3384   32.500000            Groovin High    80\n",
        "4308  192.750000            Groovin High    80\n",
        "7794  218.791667        If I Were A Bell    65\n",
        "3013  140.812500     Stella By Starlight    70\n",
        "1957   21.583333     Stella By Starlight    75\n",
        "\n",
        "[11 rows x 3 columns]"
       ]
      }
     ],
     "prompt_number": 25
    },
    {
     "cell_type": "code",
     "collapsed": false,
     "input": [
      "print tab_fig.get_next_fig(3)"
     ],
     "language": "python",
     "metadata": {},
     "outputs": [
      {
       "output_type": "stream",
       "stream": "stdout",
       "text": [
        "Figure 3.52\n"
       ]
      }
     ],
     "prompt_number": 26
    },
    {
     "cell_type": "code",
     "collapsed": false,
     "input": [
      "select = mu_groovin.parts[1].measures(64,65)\n",
      "select.show()\n"
     ],
     "language": "python",
     "metadata": {},
     "outputs": [
      {
       "metadata": {},
       "output_type": "pyout",
       "png": "[encoded data removed]",
       "prompt_number": 27,
       "text": [
        "<music21.ipython21.objects.IPythonPNGObject at 0x1243ad250>"
       ]
      }
     ],
     "prompt_number": 27
    },
    {
     "cell_type": "code",
     "collapsed": false,
     "input": [
      "select = mu_groovin.parts[1].measures(256,257)\n",
      "select.show()\n"
     ],
     "language": "python",
     "metadata": {},
     "outputs": [
      {
       "metadata": {},
       "output_type": "pyout",
       "png": "[encoded data removed]",
       "prompt_number": 28,
       "text": [
        "<music21.ipython21.objects.IPythonPNGObject at 0x120392a10>"
       ]
      }
     ],
     "prompt_number": 28
    },
    {
     "cell_type": "code",
     "collapsed": false,
     "input": [
      "select = mu_groovin.parts[1].measures(32,33)\n",
      "select.show()\n"
     ],
     "language": "python",
     "metadata": {},
     "outputs": [
      {
       "metadata": {},
       "output_type": "pyout",
       "png": "[encoded data removed]",
       "prompt_number": 29,
       "text": [
        "<music21.ipython21.objects.IPythonPNGObject at 0x1119787d0>"
       ]
      }
     ],
     "prompt_number": 29
    },
    {
     "cell_type": "code",
     "collapsed": false,
     "input": [
      "select = mu_stella.parts[1].measures(140,141)\n",
      "select.show()\n"
     ],
     "language": "python",
     "metadata": {},
     "outputs": [
      {
       "metadata": {},
       "output_type": "pyout",
       "png": "[encoded data removed]",
       "prompt_number": 30,
       "text": [
        "<music21.ipython21.objects.IPythonPNGObject at 0x124e12910>"
       ]
      }
     ],
     "prompt_number": 30
    },
    {
     "cell_type": "code",
     "collapsed": false,
     "input": [],
     "language": "python",
     "metadata": {},
     "outputs": [],
     "prompt_number": 30
    },
    {
     "cell_type": "code",
     "collapsed": false,
     "input": [],
     "language": "python",
     "metadata": {},
     "outputs": [],
     "prompt_number": 30
    },
    {
     "cell_type": "code",
     "collapsed": false,
     "input": [
      "print tab_fig.get_next_fig(3)"
     ],
     "language": "python",
     "metadata": {},
     "outputs": [
      {
       "output_type": "stream",
       "stream": "stdout",
       "text": [
        "Figure 3.53\n"
       ]
      }
     ],
     "prompt_number": 31
    },
    {
     "cell_type": "code",
     "collapsed": false,
     "input": [
      "select = mu_groovin.parts[1].measures(32,34)\n",
      "select.show()\n",
      "#Bb4 to Ab4 to G4\n"
     ],
     "language": "python",
     "metadata": {},
     "outputs": [
      {
       "metadata": {},
       "output_type": "pyout",
       "png": "[encoded data removed]",
       "prompt_number": 32,
       "text": [
        "<music21.ipython21.objects.IPythonPNGObject at 0x12518c590>"
       ]
      }
     ],
     "prompt_number": 32
    },
    {
     "cell_type": "markdown",
     "metadata": {},
     "source": [
      "<p>Figure 3.x also shows a substute dominant chord acting in the progression VII, seen below - put in example, example of very common voice leading, if it was a Bb chord, so the voice leading stays similiar but the progression has been substitued. In the next chapter we will look at sequences more closely, this melodic is very common.</p>"
     ]
    },
    {
     "cell_type": "code",
     "collapsed": false,
     "input": [
      "print tab_fig.get_next_fig(3)"
     ],
     "language": "python",
     "metadata": {},
     "outputs": [
      {
       "output_type": "stream",
       "stream": "stdout",
       "text": [
        "Figure 3.54\n"
       ]
      }
     ],
     "prompt_number": 33
    },
    {
     "cell_type": "code",
     "collapsed": false,
     "input": [
      "select = mu_stella.parts[1].measures(126,127)\n",
      "select.show()\n",
      "#Gb4 to F4 to Eb4"
     ],
     "language": "python",
     "metadata": {},
     "outputs": [
      {
       "metadata": {},
       "output_type": "pyout",
       "png": "[encoded data removed]",
       "prompt_number": 34,
       "text": [
        "<music21.ipython21.objects.IPythonPNGObject at 0x1253f7250>"
       ]
      }
     ],
     "prompt_number": 34
    },
    {
     "cell_type": "markdown",
     "metadata": {},
     "source": [
      "<p>This example also shows, the dominant substiute chord, Ab7Dom being substiuted for F7 chord. If the F7 chord is reteined, it would again be the flat ninth, leading to the root to the seventh, which is extrememly common. </p> \n",
      "<p>This raises the point that note choice of the fifth of the dominant chord, is actually influenced the the voiceleading found on the V I</p>"
     ]
    },
    {
     "cell_type": "code",
     "collapsed": false,
     "input": [
      "print tab_fig.get_next_fig(3)"
     ],
     "language": "python",
     "metadata": {},
     "outputs": [
      {
       "output_type": "stream",
       "stream": "stdout",
       "text": [
        "Figure 3.55\n"
       ]
      }
     ],
     "prompt_number": 35
    },
    {
     "cell_type": "code",
     "collapsed": false,
     "input": [
      "# bill evans example"
     ],
     "language": "python",
     "metadata": {},
     "outputs": [],
     "prompt_number": 36
    },
    {
     "cell_type": "markdown",
     "metadata": {},
     "source": [
      "<p>Mirroring the trends in the preparation of the 5th on a dominant chord, the resolution is minor third up or a minor 3rd down, reinforcing the evidence that the fifth is used in arpeggio patterns, or in stepwise motion. Examples can be seen in the search engine in Appendix. </p>\n",
      "<p>Looking at the marginal cases, resolution is up fifth (for example a G5 leading to D5 on a CDom7 chord) or a resolution of fifth below(for example a G5 leading to a C5 on a CDom7 chord). In these more marginal cases, there are not overt trends, things do not tend to happen in certain ways. Table 3.x and Table 3.x"
     ]
    },
    {
     "cell_type": "code",
     "collapsed": false,
     "input": [
      "data_set[data_set.dist_note_to_root == 7] \\\n",
      "[data_set.chord_type=='dominant_seventh'][data_set.res == 7] \\\n",
      "[data_set.p_offset <= 0.5][data_set.r_offset <= 0.5].groupby(['res', 'prep']).count().sort('note', ascending = False).iloc[:,1:2]"
     ],
     "language": "python",
     "metadata": {},
     "outputs": [
      {
       "html": [
        "<div style=\"max-height:1000px;max-width:1500px;overflow:auto;\">\n",
        "<table border=\"1\" class=\"dataframe\">\n",
        "  <thead>\n",
        "    <tr style=\"text-align: right;\">\n",
        "      <th></th>\n",
        "      <th></th>\n",
        "      <th>note</th>\n",
        "    </tr>\n",
        "    <tr>\n",
        "      <th>res</th>\n",
        "      <th>prep</th>\n",
        "      <th></th>\n",
        "    </tr>\n",
        "  </thead>\n",
        "  <tbody>\n",
        "    <tr>\n",
        "      <th rowspan=\"4\" valign=\"top\">7</th>\n",
        "      <th> 5</th>\n",
        "      <td> 2</td>\n",
        "    </tr>\n",
        "    <tr>\n",
        "      <th> 3</th>\n",
        "      <td> 2</td>\n",
        "    </tr>\n",
        "    <tr>\n",
        "      <th> 2</th>\n",
        "      <td> 1</td>\n",
        "    </tr>\n",
        "    <tr>\n",
        "      <th>-3</th>\n",
        "      <td> 1</td>\n",
        "    </tr>\n",
        "  </tbody>\n",
        "</table>\n",
        "<p>4 rows \u00d7 1 columns</p>\n",
        "</div>"
       ],
       "metadata": {},
       "output_type": "pyout",
       "prompt_number": 37,
       "text": [
        "          note\n",
        "res prep      \n",
        "7    5       2\n",
        "     3       2\n",
        "     2       1\n",
        "    -3       1\n",
        "\n",
        "[4 rows x 1 columns]"
       ]
      }
     ],
     "prompt_number": 37
    },
    {
     "cell_type": "code",
     "collapsed": false,
     "input": [
      "data_set[data_set.dist_note_to_root == 7] \\\n",
      "[data_set.chord_type=='dominant_seventh'][data_set.res == -7] \\\n",
      "[data_set.p_offset <= 0.5][data_set.r_offset <= 0.5].groupby(['res', 'prep']).count().sort('note', ascending = False).iloc[:,1:2]"
     ],
     "language": "python",
     "metadata": {},
     "outputs": [
      {
       "html": [
        "<div style=\"max-height:1000px;max-width:1500px;overflow:auto;\">\n",
        "<table border=\"1\" class=\"dataframe\">\n",
        "  <thead>\n",
        "    <tr style=\"text-align: right;\">\n",
        "      <th></th>\n",
        "      <th></th>\n",
        "      <th>note</th>\n",
        "    </tr>\n",
        "    <tr>\n",
        "      <th>res</th>\n",
        "      <th>prep</th>\n",
        "      <th></th>\n",
        "    </tr>\n",
        "  </thead>\n",
        "  <tbody>\n",
        "    <tr>\n",
        "      <th rowspan=\"5\" valign=\"top\">-7</th>\n",
        "      <th>-2</th>\n",
        "      <td> 2</td>\n",
        "    </tr>\n",
        "    <tr>\n",
        "      <th>-3</th>\n",
        "      <td> 1</td>\n",
        "    </tr>\n",
        "    <tr>\n",
        "      <th>-6</th>\n",
        "      <td> 1</td>\n",
        "    </tr>\n",
        "    <tr>\n",
        "      <th>-7</th>\n",
        "      <td> 1</td>\n",
        "    </tr>\n",
        "    <tr>\n",
        "      <th>-8</th>\n",
        "      <td> 1</td>\n",
        "    </tr>\n",
        "  </tbody>\n",
        "</table>\n",
        "<p>5 rows \u00d7 1 columns</p>\n",
        "</div>"
       ],
       "metadata": {},
       "output_type": "pyout",
       "prompt_number": 38,
       "text": [
        "          note\n",
        "res prep      \n",
        "-7  -2       2\n",
        "    -3       1\n",
        "    -6       1\n",
        "    -7       1\n",
        "    -8       1\n",
        "\n",
        "[5 rows x 1 columns]"
       ]
      }
     ],
     "prompt_number": 38
    },
    {
     "cell_type": "markdown",
     "metadata": {},
     "source": [
      "<p>Examples of preparing fifth below can be seen below this can be seen below. Looking more closely a the examples, finds that the use of the fifth below as a preperation are exlusively limited to one song in the data set, If I Were A Bell which melodic figure of a fifth. Provides solid evidence for the influenced by the melody, and although it it possible to talk in general terms about what Jarrett does, relative to all data set, all the songs, there is a counterpart to this, that some note choices are locally made in terms of which partiular place. In the next next chapter this will be taken up, the relation, compare contour in melody of th lead sheet</p>\n",
      "<p>Figure 3.x shows the main melody of If I were a bell and Figures 3.x through 3.x also show how this is imitated in the solo, manifesting itself as the movment between the fifth degree being preceeded a fifth below</p>"
     ]
    },
    {
     "cell_type": "code",
     "collapsed": false,
     "input": [
      "print tab_fig.get_next_fig(3)"
     ],
     "language": "python",
     "metadata": {},
     "outputs": [
      {
       "output_type": "stream",
       "stream": "stdout",
       "text": [
        "Figure 3.56\n"
       ]
      }
     ],
     "prompt_number": 39
    },
    {
     "cell_type": "code",
     "collapsed": false,
     "input": [
      "#if i were a bell mel excerpt"
     ],
     "language": "python",
     "metadata": {},
     "outputs": [],
     "prompt_number": 40
    },
    {
     "cell_type": "code",
     "collapsed": false,
     "input": [
      "print tab_fig.get_next_fig(3)"
     ],
     "language": "python",
     "metadata": {},
     "outputs": [
      {
       "output_type": "stream",
       "stream": "stdout",
       "text": [
        "Figure 3.57\n"
       ]
      }
     ],
     "prompt_number": 41
    },
    {
     "cell_type": "code",
     "collapsed": false,
     "input": [
      "select = mu_if_i_were.parts[1].measures(211,212)\n",
      "select.show()\n",
      "#C at end of bar to G"
     ],
     "language": "python",
     "metadata": {},
     "outputs": [
      {
       "metadata": {},
       "output_type": "pyout",
       "png": "[encoded data removed]",
       "prompt_number": 42,
       "text": [
        "<music21.ipython21.objects.IPythonPNGObject at 0x117829690>"
       ]
      }
     ],
     "prompt_number": 42
    },
    {
     "cell_type": "code",
     "collapsed": false,
     "input": [
      "print tab_fig.get_next_fig(3)"
     ],
     "language": "python",
     "metadata": {},
     "outputs": [
      {
       "output_type": "stream",
       "stream": "stdout",
       "text": [
        "Figure 3.58\n"
       ]
      }
     ],
     "prompt_number": 43
    },
    {
     "cell_type": "code",
     "collapsed": false,
     "input": [
      "select = mu_if_i_were.parts[1].measures(138,139)\n",
      "select.show()\n",
      "#F to C"
     ],
     "language": "python",
     "metadata": {},
     "outputs": [
      {
       "metadata": {},
       "output_type": "pyout",
       "png": "[encoded data removed]",
       "prompt_number": 44,
       "text": [
        "<music21.ipython21.objects.IPythonPNGObject at 0x11153c390>"
       ]
      }
     ],
     "prompt_number": 44
    },
    {
     "cell_type": "code",
     "collapsed": false,
     "input": [
      "print tab_fig.get_next_fig(3)"
     ],
     "language": "python",
     "metadata": {},
     "outputs": [
      {
       "output_type": "stream",
       "stream": "stdout",
       "text": [
        "Figure 3.59\n"
       ]
      }
     ],
     "prompt_number": 45
    },
    {
     "cell_type": "code",
     "collapsed": false,
     "input": [
      "select = mu_if_i_were.parts[1].measures(64,65)\n",
      "select.show()\n",
      "#F to C"
     ],
     "language": "python",
     "metadata": {},
     "outputs": [
      {
       "metadata": {},
       "output_type": "pyout",
       "png": "[encoded data removed]",
       "prompt_number": 46,
       "text": [
        "<music21.ipython21.objects.IPythonPNGObject at 0x12518c490>"
       ]
      }
     ],
     "prompt_number": 46
    },
    {
     "cell_type": "code",
     "collapsed": false,
     "input": [
      "print tab_fig.get_next_fig(3)"
     ],
     "language": "python",
     "metadata": {},
     "outputs": [
      {
       "output_type": "stream",
       "stream": "stdout",
       "text": [
        "Figure 3.60\n"
       ]
      }
     ],
     "prompt_number": 47
    },
    {
     "cell_type": "code",
     "collapsed": false,
     "input": [
      "select = mu_if_i_were.parts[1].measures(20,21)\n",
      "select.show()\n",
      "#F to C"
     ],
     "language": "python",
     "metadata": {},
     "outputs": [
      {
       "metadata": {},
       "output_type": "pyout",
       "png": "[encoded data removed]",
       "prompt_number": 48,
       "text": [
        "<music21.ipython21.objects.IPythonPNGObject at 0x1175edf50>"
       ]
      }
     ],
     "prompt_number": 48
    }
   ],
   "metadata": {}
  }
 ]
}