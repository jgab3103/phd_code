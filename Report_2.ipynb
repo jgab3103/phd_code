{
 "cells": [
  {
   "cell_type": "code",
   "execution_count": 1,
   "metadata": {
    "collapsed": false
   },
   "outputs": [
    {
     "name": "stdout",
     "output_type": "stream",
     "text": [
      "Populating the interactive namespace from numpy and matplotlib\n"
     ]
    }
   ],
   "source": [
    "import pandas as pd\n",
    "from IPython.core.display import HTML\n",
    "from IPython.core.display import Image \n",
    "%load_ext music21.ipython21.ipExtension\n",
    "import numpy as np\n",
    "import music21 as mu\n",
    "import pymongo\n",
    "%pylab inline\n",
    "from pymongo import MongoClient\n",
    "from bs4 import BeautifulSoup\n",
    "import re\n",
    "import pydash as py_\n",
    "pd.set_option('display.mpl_style', 'default')\n",
    "plt.rcParams['figure.figsize'] = (15, 5)\n",
    "import math\n",
    "import music21 as mu\n",
    "from functools import partial\n",
    "\n",
    "# This is necessary to show lots of columns in pandas 0.12. \n",
    "# Not necessary in pandas 0.13.\n",
    "pd.set_option('display.width', 5000) \n",
    "pd.set_option('display.max_columns', 60)\n"
   ]
  },
  {
   "cell_type": "code",
   "execution_count": 2,
   "metadata": {
    "collapsed": false
   },
   "outputs": [],
   "source": [
    "muAutumnLeaves = mu.converter.parse('FinalDataSet/XMLFiles/JazzSolos/KJAutumnLeaves1996_1371_192.xml')\n",
    "muStellaByStarlight = mu.converter.parse('FinalDataSet/XMLFiles/JazzSolos/KJStellaByStarlight1983_1534_161.xml')\n",
    "muGroovinHigh = mu.converter.parse('FinalDataSet/XMLFiles/JazzSolos/KJGroovinHigh1999_1996_290.xml')\n",
    "muAllTheThingsYouAre = mu.converter.parse('FinalDataSet/XMLFiles/JazzSolos/KJAllTheThingsYouAre1983_2143_290.xml')\n",
    "muIfIWereABell = mu.converter.parse('FinalDataSet/XMLFiles/JazzSolos/KJIfIWereABell2002_2161_227.xml')"
   ]
  },
  {
   "cell_type": "markdown",
   "metadata": {},
   "source": [
    "<h2>Data Preparation</h2>"
   ]
  },
  {
   "cell_type": "code",
   "execution_count": 3,
   "metadata": {
    "collapsed": false
   },
   "outputs": [],
   "source": [
    "df = pd.read_pickle('data_set_as_pk.pkl')"
   ]
  },
  {
   "cell_type": "markdown",
   "metadata": {},
   "source": [
    "<h4><a id=\"microphrase\">Commonly used patterns within phrases</a></h4>"
   ]
  },
  {
   "cell_type": "markdown",
   "metadata": {},
   "source": [
    "<div>issue that at soe level there is no repeitiion, but this is not the whole story..looking at parts of prhases, there is repetitions. Notes commonly lead to other notes, there, are if particular phrases are not identical, this suggests that parts of phrases are identical finds that there is a great deal o repetition</div>\n",
    "<div>The first questions would be, in any phrase what are the biggest microphrase? Is key important?</div>\n",
    "<br>\n",
    "<div>THere are 3 critical piece of infomation for these musical praes, the frequency of the note, the duration of the note and the position of the note. Do somethings always happen on a certain beat</div>\n",
    "<div>Looking at patterns of differnet sizes, find whre the repetiions are occuring, is repetion happening because of differnt key, is it driven regaless of rhythm, if we don't take rhythm into account, does this lots or repetition. How is repetition occuring actually taking place here? THe other as pect to take into account is meter. Do things tend to happen more on the beat of the bar. We are looking at phrase in a certain way, so not where there is tiny break</div>"
   ]
  },
  {
   "cell_type": "markdown",
   "metadata": {},
   "source": [
    "<h5> Two note phrases</h5>"
   ]
  },
  {
   "cell_type": "markdown",
   "metadata": {},
   "source": [
    "<div>2 note phrases first what is happening....</div>"
   ]
  },
  {
   "cell_type": "code",
   "execution_count": 4,
   "metadata": {
    "collapsed": false
   },
   "outputs": [],
   "source": [
    "def titleAsString(data_row):\n",
    "    titleAsString = str(data_row[0][0:1][0])\n",
    "    locationAsString = str(data_row[0][1:2][0])\n",
    "    return titleAsString + ', measure: ' + locationAsString\n",
    "\n",
    "def concatenatePhrase(x, data_row):\n",
    "    phraseString = ''\n",
    "    startingIndexForNoteDetails = x[1]\n",
    "    endingIndexForNoteDetails = x[2]\n",
    "    \n",
    "    for i in range(0, x[0]):\n",
    "        phraseString = phraseString + str(data_row[i][startingIndexForNoteDetails:endingIndexForNoteDetails])\n",
    "\n",
    "    return phraseString\n",
    "\n",
    "def flagIfNoFrequency(x, data_row):\n",
    "    flag = 0\n",
    "    for i in range(0, x):\n",
    "        if np.isnan(data_row[i][2]):\n",
    "            flag = 1\n",
    "    return flag"
   ]
  },
  {
   "cell_type": "code",
   "execution_count": 5,
   "metadata": {
    "collapsed": false
   },
   "outputs": [],
   "source": [
    "class CreateDataFramesForTwoNotePhraseAnalysis:\n",
    "    def __init__(self, dataFrame=\"\", numberOfNotesInPhrase = -1):\n",
    "        self.df = dataFrame\n",
    "        self.microPhraseArray = -1\n",
    "        self.twoNotePhrases = -1\n",
    "        self.startValueToIncludeFrequencyInPhrase = 2\n",
    "        self.startValueToExludeFrequency = 3\n",
    "        self.endValueToExcludeRelativeFrequency = 4\n",
    "        self.endValueToIncludeAllNoteDetails = 5\n",
    "        self.numberOfNotesInPhrase = numberOfNotesInPhrase\n",
    "\n",
    "    def createDataFrames(self):\n",
    "        dfForPhrasePatterns = self.df[self.df['part'] == 'P1'][['title','measure', 'midiNumber', 'quarterNoteDuration', 'nextNoteFreqDistance', 'noteEventStartingLocation', 'Location in measure']]\n",
    "        listOfNotes = dfForPhrasePatterns.values.tolist()\n",
    "        microPhraseLength = self.numberOfNotesInPhrase\n",
    "        microPhraseArray = []\n",
    "        microPhrase = []\n",
    "        for x in range(0, len(listOfNotes)):\n",
    "            counter = 0\n",
    "            while(counter < microPhraseLength):\n",
    "                try:\n",
    "                    val = listOfNotes[x + counter]\n",
    "                except:\n",
    "                    pass\n",
    "                microPhrase.append(val)\n",
    "                counter = counter + 1\n",
    "            microPhraseArray.append(microPhrase)\n",
    "            microPhrase = []\n",
    "            \n",
    "        self.twoNotePhrases = pd.DataFrame(microPhraseArray)\n",
    "\n",
    "        self.twoNotePhrases['Title and location'] = self.twoNotePhrases.apply(titleAsString, axis=1)\n",
    "        self.twoNotePhrases['Phrase with absolute frequency and duration'] = self.twoNotePhrases.apply(partial(concatenatePhrase, (self.numberOfNotesInPhrase, self.startValueToIncludeFrequencyInPhrase, self.endValueToIncludeAllNoteDetails)), axis=1)\n",
    "        self.twoNotePhrases['Phrase with relative frequency and duration'] = self.twoNotePhrases.apply(partial(concatenatePhrase, (self.numberOfNotesInPhrase, self.startValueToExludeFrequency, self.endValueToIncludeAllNoteDetails)), axis=1)\n",
    "        self.twoNotePhrases['Phrase with absolute frequency only'] = self.twoNotePhrases.apply(partial(concatenatePhrase, (self.numberOfNotesInPhrase, self.startValueToIncludeFrequencyInPhrase,self.startValueToExludeFrequency)), axis=1)\n",
    "        self.twoNotePhrases['Phrase with duration only'] = self.twoNotePhrases.apply(partial(concatenatePhrase, (self.numberOfNotesInPhrase, self.startValueToExludeFrequency, self.endValueToExcludeRelativeFrequency)), axis=1)\n",
    "        self.twoNotePhrases['Phrase with relative frequency only'] = self.twoNotePhrases.apply(partial(concatenatePhrase, (self.numberOfNotesInPhrase, self.endValueToExcludeRelativeFrequency, self.endValueToIncludeAllNoteDetails)), axis=1)\n",
    "        self.twoNotePhrases['No Frequency'] = self.twoNotePhrases.apply(partial(flagIfNoFrequency, self.numberOfNotesInPhrase), axis=1)\n",
    "\n",
    "    def removeGhostPhrasesAndUnneededColumns(self):\n",
    "        self.twoNotePhrases = self.twoNotePhrases[self.twoNotePhrases['No Frequency'] == 0]\n",
    "        for i in range(0, self.numberOfNotesInPhrase):\n",
    "            del self.twoNotePhrases[i]\n",
    "        del self.twoNotePhrases['No Frequency']\n",
    "\n",
    "    def returnDataFramesForAnalysis(self):\n",
    "        #print self.twoNotePhrases\n",
    "        return self.twoNotePhrases\n"
   ]
  },
  {
   "cell_type": "code",
   "execution_count": 6,
   "metadata": {
    "collapsed": false
   },
   "outputs": [],
   "source": [
    "createTwoNotePhraseData = CreateDataFramesForTwoNotePhraseAnalysis(df, 2)\n",
    "createTwoNotePhraseData.createDataFrames()\n",
    "createTwoNotePhraseData.removeGhostPhrasesAndUnneededColumns()\n",
    "twoNotephrases = createTwoNotePhraseData.returnDataFramesForAnalysis()\n",
    "\n",
    "createThreeNotePhraseData = CreateDataFramesForTwoNotePhraseAnalysis(df, 3)\n",
    "createThreeNotePhraseData.createDataFrames()\n",
    "createThreeNotePhraseData.removeGhostPhrasesAndUnneededColumns()\n",
    "threeNotephrases = createThreeNotePhraseData.returnDataFramesForAnalysis()\n",
    "\n",
    "createFourNotePhraseData = CreateDataFramesForTwoNotePhraseAnalysis(df, 4)\n",
    "createFourNotePhraseData.createDataFrames()\n",
    "createFourNotePhraseData.removeGhostPhrasesAndUnneededColumns()\n",
    "fourNotephrases = createFourNotePhraseData.returnDataFramesForAnalysis()\n",
    "\n",
    "createFiveNotePhraseData = CreateDataFramesForTwoNotePhraseAnalysis(df, 5)\n",
    "createFiveNotePhraseData.createDataFrames()\n",
    "createFiveNotePhraseData.removeGhostPhrasesAndUnneededColumns()\n",
    "fiveNotephrases = createFiveNotePhraseData.returnDataFramesForAnalysis()\n",
    "\n",
    "createSixNotePhraseData = CreateDataFramesForTwoNotePhraseAnalysis(df, 6)\n",
    "createSixNotePhraseData.createDataFrames()\n",
    "createSixNotePhraseData.removeGhostPhrasesAndUnneededColumns()\n",
    "sixNotephrases = createSixNotePhraseData.returnDataFramesForAnalysis()\n",
    "\n",
    "createSevenNotePhraseData = CreateDataFramesForTwoNotePhraseAnalysis(df, 7)\n",
    "createSevenNotePhraseData.createDataFrames()\n",
    "createSevenNotePhraseData.removeGhostPhrasesAndUnneededColumns()\n",
    "sevenNotephrases = createSevenNotePhraseData.returnDataFramesForAnalysis()\n",
    "\n",
    "createEightNotePhraseData = CreateDataFramesForTwoNotePhraseAnalysis(df, 8)\n",
    "createEightNotePhraseData.createDataFrames()\n",
    "createEightNotePhraseData.removeGhostPhrasesAndUnneededColumns()\n",
    "eightNotephrases = createEightNotePhraseData.returnDataFramesForAnalysis()\n",
    "\n",
    "createNineNotePhraseData = CreateDataFramesForTwoNotePhraseAnalysis(df, 9)\n",
    "createNineNotePhraseData.createDataFrames()\n",
    "createNineNotePhraseData.removeGhostPhrasesAndUnneededColumns()\n",
    "nineNotephrases = createNineNotePhraseData.returnDataFramesForAnalysis()\n",
    "\n",
    "createTenNotePhraseData = CreateDataFramesForTwoNotePhraseAnalysis(df, 10)\n",
    "createTenNotePhraseData.createDataFrames()\n",
    "createTenNotePhraseData.removeGhostPhrasesAndUnneededColumns()\n",
    "tenNotephrases = createTenNotePhraseData.returnDataFramesForAnalysis()\n"
   ]
  },
  {
   "cell_type": "code",
   "execution_count": 8,
   "metadata": {
    "collapsed": false
   },
   "outputs": [],
   "source": [
    "arrayOfPhraseData = [twoNotephrases, threeNotephrases, fourNotephrases, fiveNotephrases, sixNotephrases, sevenNotephrases, eightNotephrases, nineNotephrases, tenNotephrases]"
   ]
  },
  {
   "cell_type": "markdown",
   "metadata": {},
   "source": [
    "<div>We are trying to find out where there is repetition. And we can ask about repetition in diffent ways</div>"
   ]
  },
  {
   "cell_type": "code",
   "execution_count": 37,
   "metadata": {
    "collapsed": false
   },
   "outputs": [],
   "source": [
    "arrayOne = []\n",
    "arrayTwo = []\n",
    "arrayThree = []\n",
    "arrayFour = []\n",
    "arrayFive = []\n",
    "for x in range(0, len(arrayOfPhraseData)):\n",
    "    arrayOne.append(arrayOfPhraseData[x]['Phrase with absolute frequency and duration'].value_counts()[0])\n",
    "    arrayTwo.append(arrayOfPhraseData[x]['Phrase with relative frequency and duration'].value_counts()[0])\n",
    "    arrayThree.append(arrayOfPhraseData[x]['Phrase with absolute frequency only'].value_counts()[0])\n",
    "    arrayFour.append(arrayOfPhraseData[x]['Phrase with relative frequency only'].value_counts()[0])\n",
    "    arrayFive.append(arrayOfPhraseData[x]['Phrase with duration only'].value_counts()[0])"
   ]
  },
  {
   "cell_type": "code",
   "execution_count": 42,
   "metadata": {
    "collapsed": true
   },
   "outputs": [],
   "source": [
    "test = pd.DataFrame({'Highest incidence of phrases with the same absolute frequency and duration':arrayOne, \n",
    "                     'Highest incidence of phrases with the same relative Frequency and duration': arrayTwo,\n",
    "                      'Highest incidence of phrases with the same absolute frequency': arrayThree,\n",
    "                      'Highest incidence of phrases with the same relative frequency': arrayFour})"
   ]
  },
  {
   "cell_type": "code",
   "execution_count": 43,
   "metadata": {
    "collapsed": false
   },
   "outputs": [
    {
     "data": {
      "text/plain": [
       "[25, 11, 6, 3, 3, 3, 2, 2, 1]"
      ]
     },
     "execution_count": 43,
     "metadata": {},
     "output_type": "execute_result"
    }
   ],
   "source": [
    "arrayOne"
   ]
  },
  {
   "cell_type": "markdown",
   "metadata": {},
   "source": [
    "<div>We are looking the top amoutn of repetition here</div>"
   ]
  },
  {
   "cell_type": "code",
   "execution_count": 44,
   "metadata": {
    "collapsed": false,
    "scrolled": true
   },
   "outputs": [
    {
     "data": {
      "text/plain": [
       "<matplotlib.axes.AxesSubplot at 0x110bead90>"
      ]
     },
     "execution_count": 44,
     "metadata": {},
     "output_type": "execute_result"
    },
    {
     "data": {
      "image/png": "[encoded data removed]",
      "text/plain": [
       "<matplotlib.figure.Figure at 0x110bf3b90>"
      ]
     },
     "metadata": {},
     "output_type": "display_data"
    }
   ],
   "source": [
    "test.plot(kind =\"bar\", title=\"Phrases in Keith Jarrett solos\")"
   ]
  },
  {
   "cell_type": "code",
   "execution_count": 45,
   "metadata": {
    "collapsed": true
   },
   "outputs": [],
   "source": [
    "test['Highest incidence of phrases with the same durations'] =  arrayFive"
   ]
  },
  {
   "cell_type": "code",
   "execution_count": 46,
   "metadata": {
    "collapsed": false
   },
   "outputs": [
    {
     "data": {
      "text/plain": [
       "<matplotlib.axes.AxesSubplot at 0x110d8a490>"
      ]
     },
     "execution_count": 46,
     "metadata": {},
     "output_type": "execute_result"
    },
    {
     "data": {
      "image/png": "[encoded data removed]",
      "text/plain": [
       "<matplotlib.figure.Figure at 0x110c3f910>"
      ]
     },
     "metadata": {},
     "output_type": "display_data"
    }
   ],
   "source": [
    "test.plot(kind =\"bar\", title=\"Phrases in Keith Jarrett solos\")"
   ]
  },
  {
   "cell_type": "markdown",
   "metadata": {},
   "source": [
    "<div>So what about some actual examples</div>"
   ]
  },
  {
   "cell_type": "code",
   "execution_count": 163,
   "metadata": {
    "collapsed": false
   },
   "outputs": [
    {
     "data": {
      "image/png": "[encoded data removed]",
      "text/plain": [
       "<music21.ipython21.objects.IPythonPNGObject at 0x112d40210>"
      ]
     },
     "execution_count": 163,
     "metadata": {},
     "output_type": "execute_result"
    }
   ],
   "source": [
    "select = muAllTheThingsYouAre.parts[0].measures(32,34)\n",
    "select.show()"
   ]
  },
  {
   "cell_type": "code",
   "execution_count": 164,
   "metadata": {
    "collapsed": false
   },
   "outputs": [
    {
     "data": {
      "image/png": "[encoded data removed]",
      "text/plain": [
       "<music21.ipython21.objects.IPythonPNGObject at 0x112d67f10>"
      ]
     },
     "execution_count": 164,
     "metadata": {},
     "output_type": "execute_result"
    }
   ],
   "source": [
    "select = muAllTheThingsYouAre.parts[0].measures(68,69)\n",
    "select.show()"
   ]
  },
  {
   "cell_type": "code",
   "execution_count": 130,
   "metadata": {
    "collapsed": false
   },
   "outputs": [],
   "source": [
    "test = pd.DataFrame(phrases['Phrase with absolute frequency and duration'].value_counts())\n",
    "test['Phrase Details'] = test.index\n",
    "test['Value counts'] = test[0]\n",
    "test = test.reset_index(drop = True)\n",
    "del test[0]"
   ]
  },
  {
   "cell_type": "code",
   "execution_count": 165,
   "metadata": {
    "collapsed": false
   },
   "outputs": [
    {
     "data": {
      "text/html": [
       "<div>\n",
       "<table border=\"1\" class=\"dataframe\">\n",
       "  <thead>\n",
       "    <tr style=\"text-align: right;\">\n",
       "      <th></th>\n",
       "      <th>Title and location</th>\n",
       "      <th>Phrase with relative frequency and duration</th>\n",
       "      <th>Phrase with absolute frequency only</th>\n",
       "      <th>Phrase with duration only</th>\n",
       "      <th>Phrase with relative frequency only</th>\n",
       "    </tr>\n",
       "    <tr>\n",
       "      <th>Phrase with absolute frequency and duration</th>\n",
       "      <th></th>\n",
       "      <th></th>\n",
       "      <th></th>\n",
       "      <th></th>\n",
       "      <th></th>\n",
       "    </tr>\n",
       "  </thead>\n",
       "  <tbody>\n",
       "    <tr>\n",
       "      <th>[37.0, 0.25, 1.0][38.0, 0.25, 3.0][41.0, 0.25, 4.0]</th>\n",
       "      <td>1</td>\n",
       "      <td>1</td>\n",
       "      <td>1</td>\n",
       "      <td>1</td>\n",
       "      <td>1</td>\n",
       "    </tr>\n",
       "    <tr>\n",
       "      <th>[37.0, 0.25, 2.0][39.0, 0.25, -2.0][37.0, 0.25, 1.0]</th>\n",
       "      <td>1</td>\n",
       "      <td>1</td>\n",
       "      <td>1</td>\n",
       "      <td>1</td>\n",
       "      <td>1</td>\n",
       "    </tr>\n",
       "    <tr>\n",
       "      <th>[38.0, 0.25, 3.0][41.0, 0.25, 4.0][45.0, 0.25, 3.0]</th>\n",
       "      <td>1</td>\n",
       "      <td>1</td>\n",
       "      <td>1</td>\n",
       "      <td>1</td>\n",
       "      <td>1</td>\n",
       "    </tr>\n",
       "    <tr>\n",
       "      <th>[38.0, 0.33, 1.0][39.0, 0.33, -3.0][36.0, 0.33, nan]</th>\n",
       "      <td>1</td>\n",
       "      <td>1</td>\n",
       "      <td>1</td>\n",
       "      <td>1</td>\n",
       "      <td>1</td>\n",
       "    </tr>\n",
       "    <tr>\n",
       "      <th>[39.0, 0.25, -2.0][37.0, 0.25, 1.0][38.0, 0.25, 3.0]</th>\n",
       "      <td>1</td>\n",
       "      <td>1</td>\n",
       "      <td>1</td>\n",
       "      <td>1</td>\n",
       "      <td>1</td>\n",
       "    </tr>\n",
       "    <tr>\n",
       "      <th>[39.0, 0.5, -2.0][37.0, 0.25, 2.0][39.0, 0.25, -2.0]</th>\n",
       "      <td>1</td>\n",
       "      <td>1</td>\n",
       "      <td>1</td>\n",
       "      <td>1</td>\n",
       "      <td>1</td>\n",
       "    </tr>\n",
       "    <tr>\n",
       "      <th>[39.0, 0.5, 9.0][48.0, 0.5, -3.0][45.0, 0.5, 1.0]</th>\n",
       "      <td>1</td>\n",
       "      <td>1</td>\n",
       "      <td>1</td>\n",
       "      <td>1</td>\n",
       "      <td>1</td>\n",
       "    </tr>\n",
       "    <tr>\n",
       "      <th>[40.0, 0.33, -2.0][38.0, 0.33, 1.0][39.0, 0.33, -3.0]</th>\n",
       "      <td>1</td>\n",
       "      <td>1</td>\n",
       "      <td>1</td>\n",
       "      <td>1</td>\n",
       "      <td>1</td>\n",
       "    </tr>\n",
       "    <tr>\n",
       "      <th>[41.0, 0.25, 1.0][42.0, 0.25, 1.0][43.0, 0.25, 2.0]</th>\n",
       "      <td>1</td>\n",
       "      <td>1</td>\n",
       "      <td>1</td>\n",
       "      <td>1</td>\n",
       "      <td>1</td>\n",
       "    </tr>\n",
       "    <tr>\n",
       "      <th>[41.0, 0.25, 10.0][51.0, 0.25, -7.0][44.0, 0.25, 4.0]</th>\n",
       "      <td>1</td>\n",
       "      <td>1</td>\n",
       "      <td>1</td>\n",
       "      <td>1</td>\n",
       "      <td>1</td>\n",
       "    </tr>\n",
       "    <tr>\n",
       "      <th>[41.0, 0.25, 4.0][45.0, 0.25, 3.0][48.0, 0.33, -3.0]</th>\n",
       "      <td>1</td>\n",
       "      <td>1</td>\n",
       "      <td>1</td>\n",
       "      <td>1</td>\n",
       "      <td>1</td>\n",
       "    </tr>\n",
       "    <tr>\n",
       "      <th>[41.0, 0.33, -1.0][40.0, 0.33, -2.0][38.0, 0.33, 1.0]</th>\n",
       "      <td>1</td>\n",
       "      <td>1</td>\n",
       "      <td>1</td>\n",
       "      <td>1</td>\n",
       "      <td>1</td>\n",
       "    </tr>\n",
       "    <tr>\n",
       "      <th>[41.0, 0.33, -2.0][39.0, 0.5, -2.0][37.0, 0.25, 2.0]</th>\n",
       "      <td>1</td>\n",
       "      <td>1</td>\n",
       "      <td>1</td>\n",
       "      <td>1</td>\n",
       "      <td>1</td>\n",
       "    </tr>\n",
       "    <tr>\n",
       "      <th>[41.0, 0.33, 5.0][46.0, 0.33, 4.0][50.0, 0.33, 1.0]</th>\n",
       "      <td>1</td>\n",
       "      <td>1</td>\n",
       "      <td>1</td>\n",
       "      <td>1</td>\n",
       "      <td>1</td>\n",
       "    </tr>\n",
       "    <tr>\n",
       "      <th>[41.0, 0.5, 14.0][55.0, 0.5, -4.0][51.0, 0.5, 1.0]</th>\n",
       "      <td>1</td>\n",
       "      <td>1</td>\n",
       "      <td>1</td>\n",
       "      <td>1</td>\n",
       "      <td>1</td>\n",
       "    </tr>\n",
       "    <tr>\n",
       "      <th>[41.0, 0.5, 3.0][44.0, 0.5, 7.0][51.0, 1.0, -1.0]</th>\n",
       "      <td>1</td>\n",
       "      <td>1</td>\n",
       "      <td>1</td>\n",
       "      <td>1</td>\n",
       "      <td>1</td>\n",
       "    </tr>\n",
       "    <tr>\n",
       "      <th>[42.0, 0.25, -1.0][41.0, 0.25, 10.0][51.0, 0.25, -7.0]</th>\n",
       "      <td>1</td>\n",
       "      <td>1</td>\n",
       "      <td>1</td>\n",
       "      <td>1</td>\n",
       "      <td>1</td>\n",
       "    </tr>\n",
       "    <tr>\n",
       "      <th>[42.0, 0.25, 1.0][43.0, 0.25, 2.0][45.0, 0.25, 3.0]</th>\n",
       "      <td>1</td>\n",
       "      <td>1</td>\n",
       "      <td>1</td>\n",
       "      <td>1</td>\n",
       "      <td>1</td>\n",
       "    </tr>\n",
       "    <tr>\n",
       "      <th>[42.0, 0.33, -1.0][41.0, 0.33, -1.0][40.0, 0.33, -2.0]</th>\n",
       "      <td>1</td>\n",
       "      <td>1</td>\n",
       "      <td>1</td>\n",
       "      <td>1</td>\n",
       "      <td>1</td>\n",
       "    </tr>\n",
       "    <tr>\n",
       "      <th>[42.0, 0.33, 1.0][43.0, 0.33, -1.0][42.0, 0.5, 1.0]</th>\n",
       "      <td>1</td>\n",
       "      <td>1</td>\n",
       "      <td>1</td>\n",
       "      <td>1</td>\n",
       "      <td>1</td>\n",
       "    </tr>\n",
       "    <tr>\n",
       "      <th>[42.0, 0.33, 1.0][43.0, 0.33, 2.0][45.0, 0.33, 1.0]</th>\n",
       "      <td>1</td>\n",
       "      <td>1</td>\n",
       "      <td>1</td>\n",
       "      <td>1</td>\n",
       "      <td>1</td>\n",
       "    </tr>\n",
       "    <tr>\n",
       "      <th>[42.0, 0.5, -1.0][41.0, 0.5, 3.0][44.0, 0.5, 7.0]</th>\n",
       "      <td>1</td>\n",
       "      <td>1</td>\n",
       "      <td>1</td>\n",
       "      <td>1</td>\n",
       "      <td>1</td>\n",
       "    </tr>\n",
       "    <tr>\n",
       "      <th>[42.0, 0.5, -5.0][37.0, 0.5, 2.0][39.0, 1.0, nan]</th>\n",
       "      <td>1</td>\n",
       "      <td>1</td>\n",
       "      <td>1</td>\n",
       "      <td>1</td>\n",
       "      <td>1</td>\n",
       "    </tr>\n",
       "    <tr>\n",
       "      <th>[42.0, 0.5, 1.0][43.0, 0.5, 2.0][45.0, 0.5, 2.0]</th>\n",
       "      <td>1</td>\n",
       "      <td>1</td>\n",
       "      <td>1</td>\n",
       "      <td>1</td>\n",
       "      <td>1</td>\n",
       "    </tr>\n",
       "    <tr>\n",
       "      <th>[43.0, 0.25, -6.0][37.0, 0.25, -3.0][34.0, 0.25, nan]</th>\n",
       "      <td>1</td>\n",
       "      <td>1</td>\n",
       "      <td>1</td>\n",
       "      <td>1</td>\n",
       "      <td>1</td>\n",
       "    </tr>\n",
       "    <tr>\n",
       "      <th>[43.0, 0.25, 1.0][44.0, 0.25, 4.0][48.0, 0.25, 3.0]</th>\n",
       "      <td>1</td>\n",
       "      <td>1</td>\n",
       "      <td>1</td>\n",
       "      <td>1</td>\n",
       "      <td>1</td>\n",
       "    </tr>\n",
       "    <tr>\n",
       "      <th>[43.0, 0.25, 2.0][45.0, 0.25, 3.0][48.0, 0.25, -3.0]</th>\n",
       "      <td>1</td>\n",
       "      <td>1</td>\n",
       "      <td>1</td>\n",
       "      <td>1</td>\n",
       "      <td>1</td>\n",
       "    </tr>\n",
       "    <tr>\n",
       "      <th>[43.0, 0.25, 3.0][46.0, 0.25, 4.0][50.0, 0.25, -3.0]</th>\n",
       "      <td>1</td>\n",
       "      <td>1</td>\n",
       "      <td>1</td>\n",
       "      <td>1</td>\n",
       "      <td>1</td>\n",
       "    </tr>\n",
       "    <tr>\n",
       "      <th>[43.0, 0.25, 7.0][50.0, 0.25, -7.0][43.0, 0.25, 5.0]</th>\n",
       "      <td>1</td>\n",
       "      <td>1</td>\n",
       "      <td>1</td>\n",
       "      <td>1</td>\n",
       "      <td>1</td>\n",
       "    </tr>\n",
       "    <tr>\n",
       "      <th>[43.0, 0.33, -1.0][42.0, 0.33, -1.0][41.0, 0.33, -1.0]</th>\n",
       "      <td>1</td>\n",
       "      <td>1</td>\n",
       "      <td>1</td>\n",
       "      <td>1</td>\n",
       "      <td>1</td>\n",
       "    </tr>\n",
       "    <tr>\n",
       "      <th>...</th>\n",
       "      <td>...</td>\n",
       "      <td>...</td>\n",
       "      <td>...</td>\n",
       "      <td>...</td>\n",
       "      <td>...</td>\n",
       "    </tr>\n",
       "    <tr>\n",
       "      <th>[74.0, 0.25, -5.0][69.0, 0.25, -3.0][66.0, 0.25, 2.0]</th>\n",
       "      <td>1</td>\n",
       "      <td>1</td>\n",
       "      <td>1</td>\n",
       "      <td>1</td>\n",
       "      <td>1</td>\n",
       "    </tr>\n",
       "    <tr>\n",
       "      <th>[74.0, 0.25, -6.0][68.0, 0.25, -3.0][65.0, 0.25, 2.0]</th>\n",
       "      <td>1</td>\n",
       "      <td>1</td>\n",
       "      <td>1</td>\n",
       "      <td>1</td>\n",
       "      <td>1</td>\n",
       "    </tr>\n",
       "    <tr>\n",
       "      <th>[74.0, 0.25, -7.0][67.0, 0.25, -3.0][64.0, 0.25, 8.0]</th>\n",
       "      <td>1</td>\n",
       "      <td>1</td>\n",
       "      <td>1</td>\n",
       "      <td>1</td>\n",
       "      <td>1</td>\n",
       "    </tr>\n",
       "    <tr>\n",
       "      <th>[74.0, 0.25, 1.0][75.0, 0.25, 1.0][76.0, 0.25, 1.0]</th>\n",
       "      <td>1</td>\n",
       "      <td>1</td>\n",
       "      <td>1</td>\n",
       "      <td>1</td>\n",
       "      <td>1</td>\n",
       "    </tr>\n",
       "    <tr>\n",
       "      <th>[74.0, 0.5, -1.0][73.0, 0.5, -1.0][72.0, 0.5, -2.0]</th>\n",
       "      <td>1</td>\n",
       "      <td>1</td>\n",
       "      <td>1</td>\n",
       "      <td>1</td>\n",
       "      <td>1</td>\n",
       "    </tr>\n",
       "    <tr>\n",
       "      <th>[74.0, 0.5, -1.0][73.0, 0.5, -3.0][70.0, 0.5, -4.0]</th>\n",
       "      <td>1</td>\n",
       "      <td>1</td>\n",
       "      <td>1</td>\n",
       "      <td>1</td>\n",
       "      <td>1</td>\n",
       "    </tr>\n",
       "    <tr>\n",
       "      <th>[74.0, 0.5, -2.0][72.0, 0.5, -1.0][71.0, 0.5, -2.0]</th>\n",
       "      <td>1</td>\n",
       "      <td>1</td>\n",
       "      <td>1</td>\n",
       "      <td>1</td>\n",
       "      <td>1</td>\n",
       "    </tr>\n",
       "    <tr>\n",
       "      <th>[74.0, 0.5, -2.0][72.0, 0.5, -3.0][69.0, 0.5, -2.0]</th>\n",
       "      <td>1</td>\n",
       "      <td>1</td>\n",
       "      <td>1</td>\n",
       "      <td>1</td>\n",
       "      <td>1</td>\n",
       "    </tr>\n",
       "    <tr>\n",
       "      <th>[74.0, 0.5, -2.0][72.0, 0.5, -5.0][67.0, 0.5, 2.0]</th>\n",
       "      <td>1</td>\n",
       "      <td>1</td>\n",
       "      <td>1</td>\n",
       "      <td>1</td>\n",
       "      <td>1</td>\n",
       "    </tr>\n",
       "    <tr>\n",
       "      <th>[74.0, 0.5, -9.0][65.0, 0.5, -2.0][63.0, 0.5, 1.0]</th>\n",
       "      <td>1</td>\n",
       "      <td>1</td>\n",
       "      <td>1</td>\n",
       "      <td>1</td>\n",
       "      <td>1</td>\n",
       "    </tr>\n",
       "    <tr>\n",
       "      <th>[74.0, 0.5, -9.0][65.0, 0.5, 4.0][69.0, 0.5, 3.0]</th>\n",
       "      <td>1</td>\n",
       "      <td>1</td>\n",
       "      <td>1</td>\n",
       "      <td>1</td>\n",
       "      <td>1</td>\n",
       "    </tr>\n",
       "    <tr>\n",
       "      <th>[74.0, 1.0, -5.0][69.0, 0.5, -3.0][66.0, 0.5, -4.0]</th>\n",
       "      <td>1</td>\n",
       "      <td>1</td>\n",
       "      <td>1</td>\n",
       "      <td>1</td>\n",
       "      <td>1</td>\n",
       "    </tr>\n",
       "    <tr>\n",
       "      <th>[75.0, 0.19, -1.0][74.0, 0.2, -1.0][73.0, 0.25, -1.0]</th>\n",
       "      <td>1</td>\n",
       "      <td>1</td>\n",
       "      <td>1</td>\n",
       "      <td>1</td>\n",
       "      <td>1</td>\n",
       "    </tr>\n",
       "    <tr>\n",
       "      <th>[75.0, 0.25, -2.0][73.0, 0.25, -1.0][72.0, 0.25, -2.0]</th>\n",
       "      <td>2</td>\n",
       "      <td>2</td>\n",
       "      <td>2</td>\n",
       "      <td>2</td>\n",
       "      <td>2</td>\n",
       "    </tr>\n",
       "    <tr>\n",
       "      <th>[75.0, 0.25, 1.0][76.0, 0.25, 1.0][77.0, 0.25, -1.0]</th>\n",
       "      <td>1</td>\n",
       "      <td>1</td>\n",
       "      <td>1</td>\n",
       "      <td>1</td>\n",
       "      <td>1</td>\n",
       "    </tr>\n",
       "    <tr>\n",
       "      <th>[75.0, 0.33, 1.0][76.0, 0.33, -11.0][65.0, 0.5, 2.0]</th>\n",
       "      <td>1</td>\n",
       "      <td>1</td>\n",
       "      <td>1</td>\n",
       "      <td>1</td>\n",
       "      <td>1</td>\n",
       "    </tr>\n",
       "    <tr>\n",
       "      <th>[75.0, 0.5, -1.0][74.0, 0.25, -1.0][73.0, 0.25, -1.0]</th>\n",
       "      <td>1</td>\n",
       "      <td>1</td>\n",
       "      <td>1</td>\n",
       "      <td>1</td>\n",
       "      <td>1</td>\n",
       "    </tr>\n",
       "    <tr>\n",
       "      <th>[75.0, 0.5, -1.0][74.0, 0.5, -1.0][73.0, 0.5, -1.0]</th>\n",
       "      <td>1</td>\n",
       "      <td>1</td>\n",
       "      <td>1</td>\n",
       "      <td>1</td>\n",
       "      <td>1</td>\n",
       "    </tr>\n",
       "    <tr>\n",
       "      <th>[75.0, 0.5, -2.0][73.0, 0.5, -2.0][71.0, 0.5, -1.0]</th>\n",
       "      <td>1</td>\n",
       "      <td>1</td>\n",
       "      <td>1</td>\n",
       "      <td>1</td>\n",
       "      <td>1</td>\n",
       "    </tr>\n",
       "    <tr>\n",
       "      <th>[75.0, 0.5, -2.0][73.0, 0.5, -5.0][68.0, 0.5, -3.0]</th>\n",
       "      <td>1</td>\n",
       "      <td>1</td>\n",
       "      <td>1</td>\n",
       "      <td>1</td>\n",
       "      <td>1</td>\n",
       "    </tr>\n",
       "    <tr>\n",
       "      <th>[75.0, 0.5, -5.0][70.0, 0.5, 1.0][71.0, 0.5, -3.0]</th>\n",
       "      <td>1</td>\n",
       "      <td>1</td>\n",
       "      <td>1</td>\n",
       "      <td>1</td>\n",
       "      <td>1</td>\n",
       "    </tr>\n",
       "    <tr>\n",
       "      <th>[75.0, 0.5, -5.0][70.0, 0.5, 2.0][72.0, 0.5, 1.0]</th>\n",
       "      <td>1</td>\n",
       "      <td>1</td>\n",
       "      <td>1</td>\n",
       "      <td>1</td>\n",
       "      <td>1</td>\n",
       "    </tr>\n",
       "    <tr>\n",
       "      <th>[75.0, 0.5, 1.0][76.0, 0.5, -1.0][75.0, 0.5, -2.0]</th>\n",
       "      <td>1</td>\n",
       "      <td>1</td>\n",
       "      <td>1</td>\n",
       "      <td>1</td>\n",
       "      <td>1</td>\n",
       "    </tr>\n",
       "    <tr>\n",
       "      <th>[75.0, 0.5, 2.0][77.0, 0.5, -5.0][72.0, 0.5, 3.0]</th>\n",
       "      <td>1</td>\n",
       "      <td>1</td>\n",
       "      <td>1</td>\n",
       "      <td>1</td>\n",
       "      <td>1</td>\n",
       "    </tr>\n",
       "    <tr>\n",
       "      <th>[76.0, 0.25, 1.0][77.0, 0.25, -1.0][76.0, 0.25, -1.0]</th>\n",
       "      <td>1</td>\n",
       "      <td>1</td>\n",
       "      <td>1</td>\n",
       "      <td>1</td>\n",
       "      <td>1</td>\n",
       "    </tr>\n",
       "    <tr>\n",
       "      <th>[76.0, 0.33, -11.0][65.0, 0.5, 2.0][67.0, 0.5, 1.0]</th>\n",
       "      <td>1</td>\n",
       "      <td>1</td>\n",
       "      <td>1</td>\n",
       "      <td>1</td>\n",
       "      <td>1</td>\n",
       "    </tr>\n",
       "    <tr>\n",
       "      <th>[76.0, 0.5, -1.0][75.0, 0.5, -1.0][74.0, 0.5, -1.0]</th>\n",
       "      <td>1</td>\n",
       "      <td>1</td>\n",
       "      <td>1</td>\n",
       "      <td>1</td>\n",
       "      <td>1</td>\n",
       "    </tr>\n",
       "    <tr>\n",
       "      <th>[76.0, 0.5, -1.0][75.0, 0.5, -2.0][73.0, 0.5, -2.0]</th>\n",
       "      <td>1</td>\n",
       "      <td>1</td>\n",
       "      <td>1</td>\n",
       "      <td>1</td>\n",
       "      <td>1</td>\n",
       "    </tr>\n",
       "    <tr>\n",
       "      <th>[77.0, 0.25, -1.0][76.0, 0.25, -1.0][75.0, 0.25, nan]</th>\n",
       "      <td>1</td>\n",
       "      <td>1</td>\n",
       "      <td>1</td>\n",
       "      <td>1</td>\n",
       "      <td>1</td>\n",
       "    </tr>\n",
       "    <tr>\n",
       "      <th>[77.0, 0.5, -5.0][72.0, 0.5, 3.0][75.0, 0.66, 0.0]</th>\n",
       "      <td>1</td>\n",
       "      <td>1</td>\n",
       "      <td>1</td>\n",
       "      <td>1</td>\n",
       "      <td>1</td>\n",
       "    </tr>\n",
       "  </tbody>\n",
       "</table>\n",
       "<p>5777 rows × 5 columns</p>\n",
       "</div>"
      ],
      "text/plain": [
       "                                                    Title and location  Phrase with relative frequency and duration  Phrase with absolute frequency only  Phrase with duration only  Phrase with relative frequency only\n",
       "Phrase with absolute frequency and duration                                                                                                                                                                             \n",
       "[37.0, 0.25, 1.0][38.0, 0.25, 3.0][41.0, 0.25, ...                   1                                            1                                    1                          1                                    1\n",
       "[37.0, 0.25, 2.0][39.0, 0.25, -2.0][37.0, 0.25,...                   1                                            1                                    1                          1                                    1\n",
       "[38.0, 0.25, 3.0][41.0, 0.25, 4.0][45.0, 0.25, ...                   1                                            1                                    1                          1                                    1\n",
       "[38.0, 0.33, 1.0][39.0, 0.33, -3.0][36.0, 0.33,...                   1                                            1                                    1                          1                                    1\n",
       "[39.0, 0.25, -2.0][37.0, 0.25, 1.0][38.0, 0.25,...                   1                                            1                                    1                          1                                    1\n",
       "[39.0, 0.5, -2.0][37.0, 0.25, 2.0][39.0, 0.25, ...                   1                                            1                                    1                          1                                    1\n",
       "[39.0, 0.5, 9.0][48.0, 0.5, -3.0][45.0, 0.5, 1.0]                    1                                            1                                    1                          1                                    1\n",
       "[40.0, 0.33, -2.0][38.0, 0.33, 1.0][39.0, 0.33,...                   1                                            1                                    1                          1                                    1\n",
       "[41.0, 0.25, 1.0][42.0, 0.25, 1.0][43.0, 0.25, ...                   1                                            1                                    1                          1                                    1\n",
       "[41.0, 0.25, 10.0][51.0, 0.25, -7.0][44.0, 0.25...                   1                                            1                                    1                          1                                    1\n",
       "[41.0, 0.25, 4.0][45.0, 0.25, 3.0][48.0, 0.33, ...                   1                                            1                                    1                          1                                    1\n",
       "[41.0, 0.33, -1.0][40.0, 0.33, -2.0][38.0, 0.33...                   1                                            1                                    1                          1                                    1\n",
       "[41.0, 0.33, -2.0][39.0, 0.5, -2.0][37.0, 0.25,...                   1                                            1                                    1                          1                                    1\n",
       "[41.0, 0.33, 5.0][46.0, 0.33, 4.0][50.0, 0.33, ...                   1                                            1                                    1                          1                                    1\n",
       "[41.0, 0.5, 14.0][55.0, 0.5, -4.0][51.0, 0.5, 1.0]                   1                                            1                                    1                          1                                    1\n",
       "[41.0, 0.5, 3.0][44.0, 0.5, 7.0][51.0, 1.0, -1.0]                    1                                            1                                    1                          1                                    1\n",
       "[42.0, 0.25, -1.0][41.0, 0.25, 10.0][51.0, 0.25...                   1                                            1                                    1                          1                                    1\n",
       "[42.0, 0.25, 1.0][43.0, 0.25, 2.0][45.0, 0.25, ...                   1                                            1                                    1                          1                                    1\n",
       "[42.0, 0.33, -1.0][41.0, 0.33, -1.0][40.0, 0.33...                   1                                            1                                    1                          1                                    1\n",
       "[42.0, 0.33, 1.0][43.0, 0.33, -1.0][42.0, 0.5, ...                   1                                            1                                    1                          1                                    1\n",
       "[42.0, 0.33, 1.0][43.0, 0.33, 2.0][45.0, 0.33, ...                   1                                            1                                    1                          1                                    1\n",
       "[42.0, 0.5, -1.0][41.0, 0.5, 3.0][44.0, 0.5, 7.0]                    1                                            1                                    1                          1                                    1\n",
       "[42.0, 0.5, -5.0][37.0, 0.5, 2.0][39.0, 1.0, nan]                    1                                            1                                    1                          1                                    1\n",
       "[42.0, 0.5, 1.0][43.0, 0.5, 2.0][45.0, 0.5, 2.0]                     1                                            1                                    1                          1                                    1\n",
       "[43.0, 0.25, -6.0][37.0, 0.25, -3.0][34.0, 0.25...                   1                                            1                                    1                          1                                    1\n",
       "[43.0, 0.25, 1.0][44.0, 0.25, 4.0][48.0, 0.25, ...                   1                                            1                                    1                          1                                    1\n",
       "[43.0, 0.25, 2.0][45.0, 0.25, 3.0][48.0, 0.25, ...                   1                                            1                                    1                          1                                    1\n",
       "[43.0, 0.25, 3.0][46.0, 0.25, 4.0][50.0, 0.25, ...                   1                                            1                                    1                          1                                    1\n",
       "[43.0, 0.25, 7.0][50.0, 0.25, -7.0][43.0, 0.25,...                   1                                            1                                    1                          1                                    1\n",
       "[43.0, 0.33, -1.0][42.0, 0.33, -1.0][41.0, 0.33...                   1                                            1                                    1                          1                                    1\n",
       "...                                                                ...                                          ...                                  ...                        ...                                  ...\n",
       "[74.0, 0.25, -5.0][69.0, 0.25, -3.0][66.0, 0.25...                   1                                            1                                    1                          1                                    1\n",
       "[74.0, 0.25, -6.0][68.0, 0.25, -3.0][65.0, 0.25...                   1                                            1                                    1                          1                                    1\n",
       "[74.0, 0.25, -7.0][67.0, 0.25, -3.0][64.0, 0.25...                   1                                            1                                    1                          1                                    1\n",
       "[74.0, 0.25, 1.0][75.0, 0.25, 1.0][76.0, 0.25, ...                   1                                            1                                    1                          1                                    1\n",
       "[74.0, 0.5, -1.0][73.0, 0.5, -1.0][72.0, 0.5, -...                   1                                            1                                    1                          1                                    1\n",
       "[74.0, 0.5, -1.0][73.0, 0.5, -3.0][70.0, 0.5, -...                   1                                            1                                    1                          1                                    1\n",
       "[74.0, 0.5, -2.0][72.0, 0.5, -1.0][71.0, 0.5, -...                   1                                            1                                    1                          1                                    1\n",
       "[74.0, 0.5, -2.0][72.0, 0.5, -3.0][69.0, 0.5, -...                   1                                            1                                    1                          1                                    1\n",
       "[74.0, 0.5, -2.0][72.0, 0.5, -5.0][67.0, 0.5, 2.0]                   1                                            1                                    1                          1                                    1\n",
       "[74.0, 0.5, -9.0][65.0, 0.5, -2.0][63.0, 0.5, 1.0]                   1                                            1                                    1                          1                                    1\n",
       "[74.0, 0.5, -9.0][65.0, 0.5, 4.0][69.0, 0.5, 3.0]                    1                                            1                                    1                          1                                    1\n",
       "[74.0, 1.0, -5.0][69.0, 0.5, -3.0][66.0, 0.5, -...                   1                                            1                                    1                          1                                    1\n",
       "[75.0, 0.19, -1.0][74.0, 0.2, -1.0][73.0, 0.25,...                   1                                            1                                    1                          1                                    1\n",
       "[75.0, 0.25, -2.0][73.0, 0.25, -1.0][72.0, 0.25...                   2                                            2                                    2                          2                                    2\n",
       "[75.0, 0.25, 1.0][76.0, 0.25, 1.0][77.0, 0.25, ...                   1                                            1                                    1                          1                                    1\n",
       "[75.0, 0.33, 1.0][76.0, 0.33, -11.0][65.0, 0.5,...                   1                                            1                                    1                          1                                    1\n",
       "[75.0, 0.5, -1.0][74.0, 0.25, -1.0][73.0, 0.25,...                   1                                            1                                    1                          1                                    1\n",
       "[75.0, 0.5, -1.0][74.0, 0.5, -1.0][73.0, 0.5, -...                   1                                            1                                    1                          1                                    1\n",
       "[75.0, 0.5, -2.0][73.0, 0.5, -2.0][71.0, 0.5, -...                   1                                            1                                    1                          1                                    1\n",
       "[75.0, 0.5, -2.0][73.0, 0.5, -5.0][68.0, 0.5, -...                   1                                            1                                    1                          1                                    1\n",
       "[75.0, 0.5, -5.0][70.0, 0.5, 1.0][71.0, 0.5, -3.0]                   1                                            1                                    1                          1                                    1\n",
       "[75.0, 0.5, -5.0][70.0, 0.5, 2.0][72.0, 0.5, 1.0]                    1                                            1                                    1                          1                                    1\n",
       "[75.0, 0.5, 1.0][76.0, 0.5, -1.0][75.0, 0.5, -2.0]                   1                                            1                                    1                          1                                    1\n",
       "[75.0, 0.5, 2.0][77.0, 0.5, -5.0][72.0, 0.5, 3.0]                    1                                            1                                    1                          1                                    1\n",
       "[76.0, 0.25, 1.0][77.0, 0.25, -1.0][76.0, 0.25,...                   1                                            1                                    1                          1                                    1\n",
       "[76.0, 0.33, -11.0][65.0, 0.5, 2.0][67.0, 0.5, ...                   1                                            1                                    1                          1                                    1\n",
       "[76.0, 0.5, -1.0][75.0, 0.5, -1.0][74.0, 0.5, -...                   1                                            1                                    1                          1                                    1\n",
       "[76.0, 0.5, -1.0][75.0, 0.5, -2.0][73.0, 0.5, -...                   1                                            1                                    1                          1                                    1\n",
       "[77.0, 0.25, -1.0][76.0, 0.25, -1.0][75.0, 0.25...                   1                                            1                                    1                          1                                    1\n",
       "[77.0, 0.5, -5.0][72.0, 0.5, 3.0][75.0, 0.66, 0.0]                   1                                            1                                    1                          1                                    1\n",
       "\n",
       "[5777 rows x 5 columns]"
      ]
     },
     "execution_count": 165,
     "metadata": {},
     "output_type": "execute_result"
    }
   ],
   "source": [
    "test"
   ]
  },
  {
   "cell_type": "code",
   "execution_count": 133,
   "metadata": {
    "collapsed": false
   },
   "outputs": [
    {
     "data": {
      "text/plain": [
       "<matplotlib.axes.AxesSubplot at 0x112367d50>"
      ]
     },
     "execution_count": 133,
     "metadata": {},
     "output_type": "execute_result"
    },
    {
     "data": {
      "image/png": "[encoded data removed]",
      "text/plain": [
       "<matplotlib.figure.Figure at 0x1126a2d50>"
      ]
     },
     "metadata": {},
     "output_type": "display_data"
    }
   ],
   "source": [
    "test['Value counts'].value_counts().plot(kind=\"bar\")"
   ]
  },
  {
   "cell_type": "code",
   "execution_count": 107,
   "metadata": {
    "collapsed": false
   },
   "outputs": [
    {
     "data": {
      "text/plain": [
       "array([[ '[55.0, 0.5, 3.0][58.0, 0.5, 4.0][62.0, 0.5, 3.0][65.0, 0.5, -3.0][62.0, 0.5, 1.0]',\n",
       "        3],\n",
       "       [ '[62.0, 0.5, 3.0][65.0, 0.5, 4.0][69.0, 0.5, 3.0][72.0, 0.5, -3.0][69.0, 0.5, 1.0]',\n",
       "        3],\n",
       "       [ '[68.0, 0.5, -1.0][67.0, 0.5, -1.0][66.0, 0.5, -1.0][65.0, 0.5, -1.0][64.0, 0.5, -1.0]',\n",
       "        3],\n",
       "       ..., \n",
       "       [ '[64.0, 0.19, 3.0][67.0, 0.19, -3.0][64.0, 0.19, -4.0][60.0, 0.19, -3.0][57.0, 0.2, 6.0]',\n",
       "        1],\n",
       "       [ '[39.0, 0.5, -2.0][37.0, 0.25, 2.0][39.0, 0.25, -2.0][37.0, 0.25, 1.0][38.0, 0.25, 3.0]',\n",
       "        1],\n",
       "       [ '[55.0, 0.5, -1.0][54.0, 0.5, -4.0][50.0, 0.5, 3.0][53.0, 0.5, -2.0][51.0, 0.5, 1.0]',\n",
       "        1]], dtype=object)"
      ]
     },
     "execution_count": 107,
     "metadata": {},
     "output_type": "execute_result"
    }
   ],
   "source": [
    "test.values"
   ]
  },
  {
   "cell_type": "code",
   "execution_count": 20,
   "metadata": {
    "collapsed": false
   },
   "outputs": [
    {
     "data": {
      "text/plain": [
       "Phrase          3158\n",
       "Value Counts    3158\n",
       "dtype: int64"
      ]
     },
     "execution_count": 20,
     "metadata": {},
     "output_type": "execute_result"
    }
   ],
   "source": [
    "allTwoNotePhrases[allTwoNotePhrases['Value Counts'] < 2].count()"
   ]
  },
  {
   "cell_type": "code",
   "execution_count": 21,
   "metadata": {
    "collapsed": false
   },
   "outputs": [
    {
     "data": {
      "text/plain": [
       "0.7352735739231665"
      ]
     },
     "execution_count": 21,
     "metadata": {},
     "output_type": "execute_result"
    }
   ],
   "source": [
    "3158.0 / 4295"
   ]
  },
  {
   "cell_type": "code",
   "execution_count": 22,
   "metadata": {
    "collapsed": false
   },
   "outputs": [
    {
     "data": {
      "text/plain": [
       "3095"
      ]
     },
     "execution_count": 22,
     "metadata": {},
     "output_type": "execute_result"
    }
   ],
   "source": [
    "len(twoNotePhrases['Phrase'].value_counts()[1200:])"
   ]
  },
  {
   "cell_type": "markdown",
   "metadata": {},
   "source": [
    "<div>The first thing it reveal is that things tend not to happen very often. There are are 4295 unquie two note combinations, this looks at any frequency folowwed by any other frequence, any duration followed by another duration. So at this level there is queit a lot of variation. hwoever over 3158 of these only occur once. Means that 75% of the 2 note phrases are actually unique. So there is lots of invention going on here it would mke more sense to look at particular songs, if the correlation to key holds</div>"
   ]
  },
  {
   "cell_type": "code",
   "execution_count": 23,
   "metadata": {
    "collapsed": false
   },
   "outputs": [],
   "source": [
    "stellaTwoNotePhrases = phrasesOfVariableLengths[phrasesOfVariableLengths['Title and location'].str.contains('Stell')]['Phrase'].value_counts()"
   ]
  },
  {
   "cell_type": "code",
   "execution_count": 24,
   "metadata": {
    "collapsed": false
   },
   "outputs": [],
   "source": [
    "stellaTwoNotePhrases = pd.DataFrame(stellaTwoNotePhrases)"
   ]
  },
  {
   "cell_type": "code",
   "execution_count": 25,
   "metadata": {
    "collapsed": false
   },
   "outputs": [],
   "source": [
    "stellaTwoNotePhrases['Phrase'] = stellaTwoNotePhrases.index\n",
    "stellaTwoNotePhrases['Value counts'] = stellaTwoNotePhrases[0]\n",
    "stellaTwoNotePhrases = stellaTwoNotePhrases.reset_index(drop = True)"
   ]
  },
  {
   "cell_type": "code",
   "execution_count": 26,
   "metadata": {
    "collapsed": false
   },
   "outputs": [
    {
     "data": {
      "text/plain": [
       "1001"
      ]
     },
     "execution_count": 26,
     "metadata": {},
     "output_type": "execute_result"
    }
   ],
   "source": [
    "stellaTwoNotePhrases['Value counts'].count()"
   ]
  },
  {
   "cell_type": "code",
   "execution_count": 27,
   "metadata": {
    "collapsed": false
   },
   "outputs": [
    {
     "data": {
      "text/plain": [
       "840"
      ]
     },
     "execution_count": 27,
     "metadata": {},
     "output_type": "execute_result"
    }
   ],
   "source": [
    "stellaTwoNotePhrases[stellaTwoNotePhrases['Value counts'] < 2][0].count() "
   ]
  },
  {
   "cell_type": "markdown",
   "metadata": {},
   "source": [
    "<div>This changes to 84%, whcih means there is not much variation. It suggests that perhaps the issue is mroe about something else, igure frequency </div>"
   ]
  },
  {
   "cell_type": "code",
   "execution_count": null,
   "metadata": {
    "collapsed": true
   },
   "outputs": [],
   "source": []
  },
  {
   "cell_type": "code",
   "execution_count": null,
   "metadata": {
    "collapsed": true
   },
   "outputs": [],
   "source": []
  },
  {
   "cell_type": "code",
   "execution_count": null,
   "metadata": {
    "collapsed": true
   },
   "outputs": [],
   "source": []
  },
  {
   "cell_type": "markdown",
   "metadata": {},
   "source": [
    "<div>As oppsed a very large amount of variation, here is a different story - so this means that key is not that important for Jarrett - there ends up being lots or repetiions - Jarrett does not tend to do idiomatic things, bu</div>"
   ]
  },
  {
   "cell_type": "code",
   "execution_count": 34,
   "metadata": {
    "collapsed": true
   },
   "outputs": [],
   "source": [
    "#repeat function to ignore frequency\n",
    "def titleAsString(data_row):\n",
    "    titleAsString = str(data_row[0][0:1][0])\n",
    "    locationAsString = str(data_row[0][1:2][0])\n",
    "    return titleAsString + ', measure: ' + locationAsString\n",
    "\n",
    "def concatenatePhrase(data_row):\n",
    "    #print len(phrasesOfVariableLengths.columns)\n",
    "    a = data_row[0][2:3]\n",
    "    b = data_row[1][2:3]\n",
    "#     c = data_row[2][2:5]\n",
    "#     d = data_row[3][2:5]\n",
    "    return str(a) + str(b)\n",
    "\n",
    "phrasesOfVariableLengths['Title and location'] = phrasesOfVariableLengths.apply(titleAsString, axis=1)\n",
    "phrasesOfVariableLengths['Phrase'] = phrasesOfVariableLengths.apply(concatenatePhrase, axis=1)"
   ]
  },
  {
   "cell_type": "code",
   "execution_count": 35,
   "metadata": {
    "collapsed": true
   },
   "outputs": [],
   "source": [
    "twoNotePhrasesJustFrequency = pd.DataFrame(phrasesOfVariableLengths['Phrase'].value_counts())\n",
    "twoNotePhrasesJustFrequency['Phrase'] = twoNotePhrasesJustFrequency.index\n",
    "twoNotePhrasesJustFrequency['Value counts'] = twoNotePhrasesJustFrequency[0]\n",
    "twoNotePhrasesJustFrequency = twoNotePhrasesJustFrequency.reset_index(drop = True)"
   ]
  },
  {
   "cell_type": "code",
   "execution_count": 36,
   "metadata": {
    "collapsed": false
   },
   "outputs": [
    {
     "data": {
      "text/plain": [
       "<matplotlib.axes.AxesSubplot at 0x10a317fd0>"
      ]
     },
     "execution_count": 36,
     "metadata": {},
     "output_type": "execute_result"
    },
    {
     "data": {
      "image/png": "[encoded data removed]",
      "text/plain": [
       "<matplotlib.figure.Figure at 0x10a3cc9d0>"
      ]
     },
     "metadata": {},
     "output_type": "display_data"
    }
   ],
   "source": [
    "twoNotePhrasesJustFrequency['Value counts'][0:60].plot(kind=\"bar\")"
   ]
  },
  {
   "cell_type": "markdown",
   "metadata": {},
   "source": [
    "<div>So it appears the combination of rhtym and frequency - two note rhythm patterns are common, two note frequency, but ability to interchange these things is key - Jarrets; ability to use both these variables to extremes</div>"
   ]
  },
  {
   "cell_type": "markdown",
   "metadata": {},
   "source": [
    "<div>Wo what about for different types of patterns, 7 note patterns</div>"
   ]
  },
  {
   "cell_type": "code",
   "execution_count": 44,
   "metadata": {
    "collapsed": false
   },
   "outputs": [],
   "source": [
    "note0 = mu.note.Note(\"F5\")\n",
    "note0.duration.type = 'half'\n",
    "note1 = mu.note.Note(\"C4\")\n",
    "note1.duration.type = 'eighth'\n",
    "note2 = mu.note.Note(\"F#4\")\n",
    "\n",
    "streamOne = mu.stream.Stream()\n",
    "streamOne.append(note0)\n",
    "streamOne.append(note1)\n",
    "streamOne.append(note2)"
   ]
  },
  {
   "cell_type": "code",
   "execution_count": 45,
   "metadata": {
    "collapsed": false
   },
   "outputs": [],
   "source": [
    "#streamOne.show()"
   ]
  },
  {
   "cell_type": "markdown",
   "metadata": {},
   "source": [
    "<h5> Two note phrases</h5>"
   ]
  },
  {
   "cell_type": "markdown",
   "metadata": {},
   "source": [
    "<h5> Three note phrases</h5>"
   ]
  },
  {
   "cell_type": "markdown",
   "metadata": {},
   "source": [
    "<h5> Four note phrases</h5>"
   ]
  },
  {
   "cell_type": "markdown",
   "metadata": {},
   "source": [
    "<h5> Five note phrases</h5>"
   ]
  },
  {
   "cell_type": "code",
   "execution_count": null,
   "metadata": {
    "collapsed": true
   },
   "outputs": [],
   "source": []
  },
  {
   "cell_type": "code",
   "execution_count": null,
   "metadata": {
    "collapsed": true
   },
   "outputs": [],
   "source": []
  },
  {
   "cell_type": "code",
   "execution_count": null,
   "metadata": {
    "collapsed": true
   },
   "outputs": [],
   "source": []
  },
  {
   "cell_type": "code",
   "execution_count": null,
   "metadata": {
    "collapsed": true
   },
   "outputs": [],
   "source": []
  },
  {
   "cell_type": "code",
   "execution_count": null,
   "metadata": {
    "collapsed": true
   },
   "outputs": [],
   "source": []
  },
  {
   "cell_type": "code",
   "execution_count": null,
   "metadata": {
    "collapsed": true
   },
   "outputs": [],
   "source": []
  },
  {
   "cell_type": "code",
   "execution_count": null,
   "metadata": {
    "collapsed": true
   },
   "outputs": [],
   "source": []
  },
  {
   "cell_type": "code",
   "execution_count": null,
   "metadata": {
    "collapsed": true
   },
   "outputs": [],
   "source": []
  },
  {
   "cell_type": "code",
   "execution_count": null,
   "metadata": {
    "collapsed": true
   },
   "outputs": [],
   "source": []
  },
  {
   "cell_type": "code",
   "execution_count": null,
   "metadata": {
    "collapsed": true
   },
   "outputs": [],
   "source": []
  },
  {
   "cell_type": "code",
   "execution_count": null,
   "metadata": {
    "collapsed": true
   },
   "outputs": [],
   "source": []
  },
  {
   "cell_type": "code",
   "execution_count": null,
   "metadata": {
    "collapsed": true
   },
   "outputs": [],
   "source": []
  },
  {
   "cell_type": "code",
   "execution_count": 412,
   "metadata": {
    "collapsed": false
   },
   "outputs": [
    {
     "data": {
      "text/plain": [
       "<matplotlib.axes.AxesSubplot at 0x12562d210>"
      ]
     },
     "execution_count": 412,
     "metadata": {},
     "output_type": "execute_result"
    },
    {
     "data": {
      "image/png": "[encoded data removed]",
      "text/plain": [
       "<matplotlib.figure.Figure at 0x125606f10>"
      ]
     },
     "metadata": {},
     "output_type": "display_data"
    }
   ],
   "source": [
    "df.groupby(['title', 'chordTypeDisplay'])['chordTypeDisplay'].count().plot(kind=\"bar\")"
   ]
  },
  {
   "cell_type": "markdown",
   "metadata": {
    "collapsed": true
   },
   "source": [
    "<div>The first thing we might ask is to keep key relvant. what is the most common figure that might be found</div>"
   ]
  },
  {
   "cell_type": "markdown",
   "metadata": {},
   "source": [
    "<h4><a id=\"keySignature\">The influence of key signature</a></h4>"
   ]
  },
  {
   "cell_type": "markdown",
   "metadata": {},
   "source": [
    "<h4><a id=\"repetitionAndSequences\">Repetition and sequences</a></h4>"
   ]
  },
  {
   "cell_type": "markdown",
   "metadata": {},
   "source": [
    "<h4><a id=\"rhythm\">The use of rhythm</a></h4>"
   ]
  },
  {
   "cell_type": "markdown",
   "metadata": {
    "collapsed": true
   },
   "source": [
    "<h4><a id=\"contour\">Melodic contours</a></h4>"
   ]
  },
  {
   "cell_type": "markdown",
   "metadata": {},
   "source": [
    "<h4><a id=\"tempo\">The influence of tempo</a></h4>"
   ]
  },
  {
   "cell_type": "markdown",
   "metadata": {},
   "source": [
    "<h4><a id=\"timeSignaure\">The influence of time signature</a></h4>"
   ]
  },
  {
   "cell_type": "markdown",
   "metadata": {},
   "source": [
    "<h4><a id=\"songLocation\">How melodic phrases are affected by the place they occur</a></h4>"
   ]
  },
  {
   "cell_type": "code",
   "execution_count": null,
   "metadata": {
    "collapsed": false
   },
   "outputs": [],
   "source": []
  },
  {
   "cell_type": "code",
   "execution_count": null,
   "metadata": {
    "collapsed": false
   },
   "outputs": [],
   "source": []
  },
  {
   "cell_type": "code",
   "execution_count": null,
   "metadata": {
    "collapsed": true
   },
   "outputs": [],
   "source": []
  },
  {
   "cell_type": "code",
   "execution_count": null,
   "metadata": {
    "collapsed": true
   },
   "outputs": [],
   "source": []
  }
 ],
 "metadata": {
  "kernelspec": {
   "display_name": "Python 2",
   "language": "python",
   "name": "python2"
  },
  "language_info": {
   "codemirror_mode": {
    "name": "ipython",
    "version": 2
   },
   "file_extension": ".py",
   "mimetype": "text/x-python",
   "name": "python",
   "nbconvert_exporter": "python",
   "pygments_lexer": "ipython2",
   "version": "2.7.6"
  }
 },
 "nbformat": 4,
 "nbformat_minor": 0
}
