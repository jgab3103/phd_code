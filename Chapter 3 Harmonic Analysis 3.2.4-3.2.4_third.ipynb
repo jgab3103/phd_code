{
 "metadata": {
  "name": "",
  "signature": "sha256:03fce4efdad86941c0f3c49ccba58f67baeeffafb982bf56143295f21c48c6ac"
 },
 "nbformat": 3,
 "nbformat_minor": 0,
 "worksheets": [
  {
   "cells": [
    {
     "cell_type": "code",
     "collapsed": false,
     "input": [
      "import music21 as mu\n",
      "import numpy as np\n",
      "import pandas as pd\n",
      "%pylab inline\n",
      "from IPython.core.display import HTML\n",
      "from IPython.core.display import Image \n",
      "%load_ext music21.ipython21.ipExtension"
     ],
     "language": "python",
     "metadata": {},
     "outputs": [
      {
       "output_type": "stream",
       "stream": "stdout",
       "text": [
        "Populating the interactive namespace from numpy and matplotlib\n"
       ]
      }
     ],
     "prompt_number": 1
    },
    {
     "cell_type": "code",
     "collapsed": false,
     "input": [
      "#utility method to track tables and figures in document\n",
      "class TableFigureCounter:\n",
      "    def __init__(self):\n",
      "        self.tab_count = 0\n",
      "        self.fig_count = 0\n",
      "    def get_next_tab(self, chapter=None):\n",
      "        self.tab_count = self.tab_count + 1\n",
      "        return 'Table ' + str(chapter) + '.' + str(self.tab_count)        \n",
      "    def get_next_fig(self, chapter=None):\n",
      "        self.fig_count = self.fig_count + 1\n",
      "        return 'Figure ' + str(chapter) + '.' + str(self.fig_count)\n",
      "    def reset(self):\n",
      "        self.tab_count = 0\n",
      "        self.fig_count = 0"
     ],
     "language": "python",
     "metadata": {},
     "outputs": [],
     "prompt_number": 2
    },
    {
     "cell_type": "code",
     "collapsed": false,
     "input": [
      "#load saved data\n",
      "data_set = pd.read_pickle('data_set_as_pk.pkl')\n",
      "mu_stella = mu.converter.parse('xml_files/stella_by_starlight.xml')\n",
      "mu_autumn = mu.converter.parse('xml_files/autumn_leaves_v2.xml')\n",
      "mu_if_i_were = mu.converter.parse('xml_files/if_i_were_a_bell.xml')\n",
      "mu_groovin = mu.converter.parse('xml_files/groovin_high.xml')\n",
      "mu_all_the_things = mu.converter.parse('xml_files/all_the_things_you_are.xml')"
     ],
     "language": "python",
     "metadata": {},
     "outputs": [],
     "prompt_number": 3
    },
    {
     "cell_type": "code",
     "collapsed": false,
     "input": [
      "tab_fig = TableFigureCounter()"
     ],
     "language": "python",
     "metadata": {},
     "outputs": [],
     "prompt_number": 4
    },
    {
     "cell_type": "markdown",
     "metadata": {},
     "source": [
      "<h3>3.2.4 Using the major third in the Dominant Seventh Chord</h3>"
     ]
    },
    {
     "cell_type": "code",
     "collapsed": false,
     "input": [
      "print tab_fig.get_next_fig(3)"
     ],
     "language": "python",
     "metadata": {},
     "outputs": [
      {
       "output_type": "stream",
       "stream": "stdout",
       "text": [
        "Figure 3.1\n"
       ]
      }
     ],
     "prompt_number": 5
    },
    {
     "cell_type": "code",
     "collapsed": false,
     "input": [
      "select = mu_all_the_things.parts[1].measures(108,110)\n",
      "select.show()\n",
      "#Figure 3.7\n",
      "#Progression Em7b5 | A7 | Cm\n",
      "#Stella By Starlight (bars, 1-3)"
     ],
     "language": "python",
     "metadata": {},
     "outputs": [
      {
       "metadata": {},
       "output_type": "pyout",
       "png": "[encoded data removed]",
       "prompt_number": 6,
       "text": [
        "<music21.ipython21.objects.IPythonPNGObject at 0x123bbf110>"
       ]
      }
     ],
     "prompt_number": 6
    },
    {
     "cell_type": "markdown",
     "metadata": {},
     "source": [
      "<h4>3.2.4.1 Preparation and Resolution of the fifth in the dominant chord</h4>\n",
      "<p>It is unexpected that the major third comes after the fith as a the most common note to be found on a dominant seventh chord and not only this, but it is significantly less. The root, seventh and fifth are almost equal in terms of the likeliehood that they might appear, however the the major third is significantly less likely. Similar to the more common notes however, the data reveals a clustering thirds, tones and semitones as ways of both preparing and resolving  the major third. Larger intervals occur much more rarely and, like the other degrees there is virtually no instances of the the third being repeated, though this seems not likely to be the third, but general characteristic of the data set. Overwhelmingly the most common way to prepare the morhor third is from a semitone below (for example an Eb5 leading to an E5 on a CDom7 Chord). This again reinforces that Jarrett tends to use altered notes as blues or voice leading figures. Table 3.x shows the list of possible preparations of the major third on a dominant chord</p>"
     ]
    },
    {
     "cell_type": "code",
     "collapsed": false,
     "input": [
      "print tab_fig.get_next_tab(3)"
     ],
     "language": "python",
     "metadata": {},
     "outputs": [
      {
       "output_type": "stream",
       "stream": "stdout",
       "text": [
        "Table 3.1\n"
       ]
      }
     ],
     "prompt_number": 7
    },
    {
     "cell_type": "code",
     "collapsed": false,
     "input": [
      "data_set[data_set.dist_note_to_root == 4]\\\n",
      "[data_set.chord_type=='dominant_seventh']\\\n",
      "[data_set.p_offset <= 0.5]\\\n",
      "[data_set.r_offset <= 0.5].prep.value_counts().plot(kind='bar')"
     ],
     "language": "python",
     "metadata": {},
     "outputs": [
      {
       "output_type": "stream",
       "stream": "stderr",
       "text": [
        "/Users/jamiegabriel/anaconda/lib/python2.7/site-packages/pandas/core/frame.py:1686: UserWarning: Boolean Series key will be reindexed to match DataFrame index.\n",
        "  \"DataFrame index.\", UserWarning)\n"
       ]
      },
      {
       "metadata": {},
       "output_type": "pyout",
       "prompt_number": 8,
       "text": [
        "<matplotlib.axes.AxesSubplot at 0x123c1dd90>"
       ]
      },
      {
       "metadata": {},
       "output_type": "display_data",
       "png": "[encoded data removed]",
       "text": [
        "<matplotlib.figure.Figure at 0x123c1d950>"
       ]
      }
     ],
     "prompt_number": 8
    },
    {
     "cell_type": "markdown",
     "metadata": {},
     "source": [
      "<p>Table 3.x shows the list of possible resolutions and reveals a somewhoat more smooth distribution of possibilities and also clearly shows that there are more choices available in its resolution that its preparation. There is a clear majority case here, that the resolution will mostl likely be 3 semitones upwards (for example a E5 resolsving to a G5 on a CDom 7 chord) and this is not unexpected given the prevalence of the the use of the 5th in the dominant chord</p>"
     ]
    },
    {
     "cell_type": "code",
     "collapsed": false,
     "input": [
      "data_set[data_set.dist_note_to_root == 4]\\\n",
      "[data_set.chord_type=='dominant_seventh']\\\n",
      "[data_set.p_offset <= 0.5]\\\n",
      "[data_set.r_offset <= 0.5].res.value_counts().plot(kind='bar')"
     ],
     "language": "python",
     "metadata": {},
     "outputs": [
      {
       "metadata": {},
       "output_type": "pyout",
       "prompt_number": 9,
       "text": [
        "<matplotlib.axes.AxesSubplot at 0x123c73710>"
       ]
      },
      {
       "metadata": {},
       "output_type": "display_data",
       "png": "[encoded data removed]",
       "text": [
        "<matplotlib.figure.Figure at 0x10abeedd0>"
       ]
      }
     ],
     "prompt_number": 9
    },
    {
     "cell_type": "markdown",
     "metadata": {},
     "source": [
      "<h4>3.2.4.2 Preparation of the major third on the dominant chord</h4>"
     ]
    },
    {
     "cell_type": "markdown",
     "metadata": {},
     "source": [
      "<p>The most common preparation of the major third on the dominant seventh chord is from a semitone below and table 3.x shows the different ways that it is resolved "
     ]
    },
    {
     "cell_type": "code",
     "collapsed": false,
     "input": [
      "data_set[data_set.dist_note_to_root == 4] \\\n",
      "[data_set.chord_type=='dominant_seventh'][data_set.prep == -1] \\\n",
      "[data_set.p_offset <= 0.5][data_set.r_offset <= 0.5].groupby(['prep', 'res']).count().sort('note', ascending = False)\n",
      "#Table 3.7"
     ],
     "language": "python",
     "metadata": {},
     "outputs": [
      {
       "html": [
        "<div style=\"max-height:1000px;max-width:1500px;overflow:auto;\">\n",
        "<table border=\"1\" class=\"dataframe\">\n",
        "  <thead>\n",
        "    <tr style=\"text-align: right;\">\n",
        "      <th></th>\n",
        "      <th></th>\n",
        "      <th>location</th>\n",
        "      <th>note</th>\n",
        "      <th>part</th>\n",
        "      <th>root</th>\n",
        "      <th>third</th>\n",
        "      <th>fifth</th>\n",
        "      <th>seventh</th>\n",
        "      <th>measure</th>\n",
        "      <th>prep</th>\n",
        "      <th>res</th>\n",
        "      <th>p_offset</th>\n",
        "      <th>r_offset</th>\n",
        "      <th>chord_type</th>\n",
        "      <th>dist_note_to_root</th>\n",
        "      <th>current_tempo</th>\n",
        "      <th>c_measure</th>\n",
        "      <th>name</th>\n",
        "    </tr>\n",
        "    <tr>\n",
        "      <th>prep</th>\n",
        "      <th>res</th>\n",
        "      <th></th>\n",
        "      <th></th>\n",
        "      <th></th>\n",
        "      <th></th>\n",
        "      <th></th>\n",
        "      <th></th>\n",
        "      <th></th>\n",
        "      <th></th>\n",
        "      <th></th>\n",
        "      <th></th>\n",
        "      <th></th>\n",
        "      <th></th>\n",
        "      <th></th>\n",
        "      <th></th>\n",
        "      <th></th>\n",
        "      <th></th>\n",
        "      <th></th>\n",
        "    </tr>\n",
        "  </thead>\n",
        "  <tbody>\n",
        "    <tr>\n",
        "      <th rowspan=\"13\" valign=\"top\">-1</th>\n",
        "      <th> 3 </th>\n",
        "      <td> 18</td>\n",
        "      <td> 18</td>\n",
        "      <td> 18</td>\n",
        "      <td> 18</td>\n",
        "      <td> 18</td>\n",
        "      <td> 18</td>\n",
        "      <td> 18</td>\n",
        "      <td> 18</td>\n",
        "      <td> 18</td>\n",
        "      <td> 18</td>\n",
        "      <td> 18</td>\n",
        "      <td> 18</td>\n",
        "      <td> 18</td>\n",
        "      <td> 18</td>\n",
        "      <td> 18</td>\n",
        "      <td> 18</td>\n",
        "      <td> 18</td>\n",
        "    </tr>\n",
        "    <tr>\n",
        "      <th>-1 </th>\n",
        "      <td>  8</td>\n",
        "      <td>  8</td>\n",
        "      <td>  8</td>\n",
        "      <td>  8</td>\n",
        "      <td>  8</td>\n",
        "      <td>  8</td>\n",
        "      <td>  8</td>\n",
        "      <td>  8</td>\n",
        "      <td>  8</td>\n",
        "      <td>  8</td>\n",
        "      <td>  8</td>\n",
        "      <td>  8</td>\n",
        "      <td>  8</td>\n",
        "      <td>  8</td>\n",
        "      <td>  8</td>\n",
        "      <td>  8</td>\n",
        "      <td>  8</td>\n",
        "    </tr>\n",
        "    <tr>\n",
        "      <th>-3 </th>\n",
        "      <td>  8</td>\n",
        "      <td>  8</td>\n",
        "      <td>  8</td>\n",
        "      <td>  8</td>\n",
        "      <td>  8</td>\n",
        "      <td>  8</td>\n",
        "      <td>  8</td>\n",
        "      <td>  8</td>\n",
        "      <td>  8</td>\n",
        "      <td>  8</td>\n",
        "      <td>  8</td>\n",
        "      <td>  8</td>\n",
        "      <td>  8</td>\n",
        "      <td>  8</td>\n",
        "      <td>  8</td>\n",
        "      <td>  8</td>\n",
        "      <td>  8</td>\n",
        "    </tr>\n",
        "    <tr>\n",
        "      <th> 4 </th>\n",
        "      <td>  5</td>\n",
        "      <td>  5</td>\n",
        "      <td>  5</td>\n",
        "      <td>  5</td>\n",
        "      <td>  5</td>\n",
        "      <td>  5</td>\n",
        "      <td>  5</td>\n",
        "      <td>  5</td>\n",
        "      <td>  5</td>\n",
        "      <td>  5</td>\n",
        "      <td>  5</td>\n",
        "      <td>  5</td>\n",
        "      <td>  5</td>\n",
        "      <td>  5</td>\n",
        "      <td>  5</td>\n",
        "      <td>  5</td>\n",
        "      <td>  5</td>\n",
        "    </tr>\n",
        "    <tr>\n",
        "      <th> 5 </th>\n",
        "      <td>  4</td>\n",
        "      <td>  4</td>\n",
        "      <td>  4</td>\n",
        "      <td>  4</td>\n",
        "      <td>  4</td>\n",
        "      <td>  4</td>\n",
        "      <td>  4</td>\n",
        "      <td>  4</td>\n",
        "      <td>  4</td>\n",
        "      <td>  4</td>\n",
        "      <td>  4</td>\n",
        "      <td>  4</td>\n",
        "      <td>  4</td>\n",
        "      <td>  4</td>\n",
        "      <td>  4</td>\n",
        "      <td>  4</td>\n",
        "      <td>  4</td>\n",
        "    </tr>\n",
        "    <tr>\n",
        "      <th> 1 </th>\n",
        "      <td>  4</td>\n",
        "      <td>  4</td>\n",
        "      <td>  4</td>\n",
        "      <td>  4</td>\n",
        "      <td>  4</td>\n",
        "      <td>  4</td>\n",
        "      <td>  4</td>\n",
        "      <td>  4</td>\n",
        "      <td>  4</td>\n",
        "      <td>  4</td>\n",
        "      <td>  4</td>\n",
        "      <td>  4</td>\n",
        "      <td>  4</td>\n",
        "      <td>  4</td>\n",
        "      <td>  4</td>\n",
        "      <td>  4</td>\n",
        "      <td>  4</td>\n",
        "    </tr>\n",
        "    <tr>\n",
        "      <th> 2 </th>\n",
        "      <td>  3</td>\n",
        "      <td>  3</td>\n",
        "      <td>  3</td>\n",
        "      <td>  3</td>\n",
        "      <td>  3</td>\n",
        "      <td>  3</td>\n",
        "      <td>  3</td>\n",
        "      <td>  3</td>\n",
        "      <td>  3</td>\n",
        "      <td>  3</td>\n",
        "      <td>  3</td>\n",
        "      <td>  3</td>\n",
        "      <td>  3</td>\n",
        "      <td>  3</td>\n",
        "      <td>  3</td>\n",
        "      <td>  3</td>\n",
        "      <td>  3</td>\n",
        "    </tr>\n",
        "    <tr>\n",
        "      <th>-4 </th>\n",
        "      <td>  3</td>\n",
        "      <td>  3</td>\n",
        "      <td>  3</td>\n",
        "      <td>  3</td>\n",
        "      <td>  3</td>\n",
        "      <td>  3</td>\n",
        "      <td>  3</td>\n",
        "      <td>  3</td>\n",
        "      <td>  3</td>\n",
        "      <td>  3</td>\n",
        "      <td>  3</td>\n",
        "      <td>  3</td>\n",
        "      <td>  3</td>\n",
        "      <td>  3</td>\n",
        "      <td>  3</td>\n",
        "      <td>  3</td>\n",
        "      <td>  3</td>\n",
        "    </tr>\n",
        "    <tr>\n",
        "      <th> 8 </th>\n",
        "      <td>  2</td>\n",
        "      <td>  2</td>\n",
        "      <td>  2</td>\n",
        "      <td>  2</td>\n",
        "      <td>  2</td>\n",
        "      <td>  2</td>\n",
        "      <td>  2</td>\n",
        "      <td>  2</td>\n",
        "      <td>  2</td>\n",
        "      <td>  2</td>\n",
        "      <td>  2</td>\n",
        "      <td>  2</td>\n",
        "      <td>  2</td>\n",
        "      <td>  2</td>\n",
        "      <td>  2</td>\n",
        "      <td>  2</td>\n",
        "      <td>  2</td>\n",
        "    </tr>\n",
        "    <tr>\n",
        "      <th>-5 </th>\n",
        "      <td>  2</td>\n",
        "      <td>  2</td>\n",
        "      <td>  2</td>\n",
        "      <td>  2</td>\n",
        "      <td>  2</td>\n",
        "      <td>  2</td>\n",
        "      <td>  2</td>\n",
        "      <td>  2</td>\n",
        "      <td>  2</td>\n",
        "      <td>  2</td>\n",
        "      <td>  2</td>\n",
        "      <td>  2</td>\n",
        "      <td>  2</td>\n",
        "      <td>  2</td>\n",
        "      <td>  2</td>\n",
        "      <td>  2</td>\n",
        "      <td>  2</td>\n",
        "    </tr>\n",
        "    <tr>\n",
        "      <th> 10</th>\n",
        "      <td>  1</td>\n",
        "      <td>  1</td>\n",
        "      <td>  1</td>\n",
        "      <td>  1</td>\n",
        "      <td>  1</td>\n",
        "      <td>  1</td>\n",
        "      <td>  1</td>\n",
        "      <td>  1</td>\n",
        "      <td>  1</td>\n",
        "      <td>  1</td>\n",
        "      <td>  1</td>\n",
        "      <td>  1</td>\n",
        "      <td>  1</td>\n",
        "      <td>  1</td>\n",
        "      <td>  1</td>\n",
        "      <td>  1</td>\n",
        "      <td>  1</td>\n",
        "    </tr>\n",
        "    <tr>\n",
        "      <th> 0 </th>\n",
        "      <td>  1</td>\n",
        "      <td>  1</td>\n",
        "      <td>  1</td>\n",
        "      <td>  1</td>\n",
        "      <td>  1</td>\n",
        "      <td>  1</td>\n",
        "      <td>  1</td>\n",
        "      <td>  1</td>\n",
        "      <td>  1</td>\n",
        "      <td>  1</td>\n",
        "      <td>  1</td>\n",
        "      <td>  1</td>\n",
        "      <td>  1</td>\n",
        "      <td>  1</td>\n",
        "      <td>  1</td>\n",
        "      <td>  1</td>\n",
        "      <td>  1</td>\n",
        "    </tr>\n",
        "    <tr>\n",
        "      <th>-11</th>\n",
        "      <td>  1</td>\n",
        "      <td>  1</td>\n",
        "      <td>  1</td>\n",
        "      <td>  1</td>\n",
        "      <td>  1</td>\n",
        "      <td>  1</td>\n",
        "      <td>  1</td>\n",
        "      <td>  1</td>\n",
        "      <td>  1</td>\n",
        "      <td>  1</td>\n",
        "      <td>  1</td>\n",
        "      <td>  1</td>\n",
        "      <td>  1</td>\n",
        "      <td>  1</td>\n",
        "      <td>  1</td>\n",
        "      <td>  1</td>\n",
        "      <td>  1</td>\n",
        "    </tr>\n",
        "  </tbody>\n",
        "</table>\n",
        "<p>13 rows \u00d7 17 columns</p>\n",
        "</div>"
       ],
       "metadata": {},
       "output_type": "pyout",
       "prompt_number": 10,
       "text": [
        "          location  note  part  root  third  fifth  seventh  measure  prep  \\\n",
        "prep res                                                                     \n",
        "-1    3         18    18    18    18     18     18       18       18    18   \n",
        "     -1          8     8     8     8      8      8        8        8     8   \n",
        "     -3          8     8     8     8      8      8        8        8     8   \n",
        "      4          5     5     5     5      5      5        5        5     5   \n",
        "      5          4     4     4     4      4      4        4        4     4   \n",
        "      1          4     4     4     4      4      4        4        4     4   \n",
        "      2          3     3     3     3      3      3        3        3     3   \n",
        "     -4          3     3     3     3      3      3        3        3     3   \n",
        "      8          2     2     2     2      2      2        2        2     2   \n",
        "     -5          2     2     2     2      2      2        2        2     2   \n",
        "      10         1     1     1     1      1      1        1        1     1   \n",
        "      0          1     1     1     1      1      1        1        1     1   \n",
        "     -11         1     1     1     1      1      1        1        1     1   \n",
        "\n",
        "          res  p_offset  r_offset  chord_type  dist_note_to_root  \\\n",
        "prep res                                                           \n",
        "-1    3    18        18        18          18                 18   \n",
        "     -1     8         8         8           8                  8   \n",
        "     -3     8         8         8           8                  8   \n",
        "      4     5         5         5           5                  5   \n",
        "      5     4         4         4           4                  4   \n",
        "      1     4         4         4           4                  4   \n",
        "      2     3         3         3           3                  3   \n",
        "     -4     3         3         3           3                  3   \n",
        "      8     2         2         2           2                  2   \n",
        "     -5     2         2         2           2                  2   \n",
        "      10    1         1         1           1                  1   \n",
        "      0     1         1         1           1                  1   \n",
        "     -11    1         1         1           1                  1   \n",
        "\n",
        "          current_tempo  c_measure  name  \n",
        "prep res                                  \n",
        "-1    3              18         18    18  \n",
        "     -1               8          8     8  \n",
        "     -3               8          8     8  \n",
        "      4               5          5     5  \n",
        "      5               4          4     4  \n",
        "      1               4          4     4  \n",
        "      2               3          3     3  \n",
        "     -4               3          3     3  \n",
        "      8               2          2     2  \n",
        "     -5               2          2     2  \n",
        "      10              1          1     1  \n",
        "      0               1          1     1  \n",
        "     -11              1          1     1  \n",
        "\n",
        "[13 rows x 17 columns]"
       ]
      }
     ],
     "prompt_number": 10
    },
    {
     "cell_type": "markdown",
     "metadata": {},
     "source": [
      "<p>The most common way, resolving 3 semitones higher also shows another instance of being part of a 4 note pattern which will be taken up in more detail in the next chapter. relating to the high number of resutions up a 3 semitones, this is a very common3 note figure that is used</p>"
     ]
    },
    {
     "cell_type": "code",
     "collapsed": false,
     "input": [
      "print tab_fig.get_next_fig(3)"
     ],
     "language": "python",
     "metadata": {},
     "outputs": [
      {
       "output_type": "stream",
       "stream": "stdout",
       "text": [
        "Figure 3.2\n"
       ]
      }
     ],
     "prompt_number": 11
    },
    {
     "cell_type": "code",
     "collapsed": false,
     "input": [
      "select = mu_stella.parts[1].measures(81,82)\n",
      "select.show()\n",
      "#on g 7, B"
     ],
     "language": "python",
     "metadata": {},
     "outputs": [
      {
       "metadata": {},
       "output_type": "pyout",
       "png": "[encoded data removed]",
       "prompt_number": 12,
       "text": [
        "<music21.ipython21.objects.IPythonPNGObject at 0x111889c50>"
       ]
      }
     ],
     "prompt_number": 12
    },
    {
     "cell_type": "code",
     "collapsed": false,
     "input": [
      "print tab_fig.get_next_fig(3)"
     ],
     "language": "python",
     "metadata": {},
     "outputs": [
      {
       "output_type": "stream",
       "stream": "stdout",
       "text": [
        "Figure 3.3\n"
       ]
      }
     ],
     "prompt_number": 13
    },
    {
     "cell_type": "code",
     "collapsed": false,
     "input": [
      "select = mu_stella.parts[1].measures(126,127)\n",
      "select.show()"
     ],
     "language": "python",
     "metadata": {},
     "outputs": [
      {
       "metadata": {},
       "output_type": "pyout",
       "png": "[encoded data removed]",
       "prompt_number": 14,
       "text": [
        "<music21.ipython21.objects.IPythonPNGObject at 0x113f8f5d0>"
       ]
      }
     ],
     "prompt_number": 14
    },
    {
     "cell_type": "code",
     "collapsed": false,
     "input": [
      "print tab_fig.get_next_fig(3)"
     ],
     "language": "python",
     "metadata": {},
     "outputs": [
      {
       "output_type": "stream",
       "stream": "stdout",
       "text": [
        "Figure 3.4\n"
       ]
      }
     ],
     "prompt_number": 15
    },
    {
     "cell_type": "code",
     "collapsed": false,
     "input": [
      "select = mu_if_i_were.parts[1].measures(202,203)\n",
      "select.show()\n",
      "#Bb7 example - "
     ],
     "language": "python",
     "metadata": {},
     "outputs": [
      {
       "metadata": {},
       "output_type": "pyout",
       "png": "[encoded data removed]",
       "prompt_number": 16,
       "text": [
        "<music21.ipython21.objects.IPythonPNGObject at 0x1118f1250>"
       ]
      }
     ],
     "prompt_number": 16
    },
    {
     "cell_type": "markdown",
     "metadata": {},
     "source": [
      "<p>It is equally likely that when preparing a major third from a semitone below, it will then resolve to a semitone lower or 3 semitones lower.Figure 3.x shows the latter</p>"
     ]
    },
    {
     "cell_type": "code",
     "collapsed": false,
     "input": [
      "print tab_fig.get_next_fig(3)"
     ],
     "language": "python",
     "metadata": {},
     "outputs": [
      {
       "output_type": "stream",
       "stream": "stdout",
       "text": [
        "Figure 3.5\n"
       ]
      }
     ],
     "prompt_number": 20
    },
    {
     "cell_type": "code",
     "collapsed": false,
     "input": [
      "select = mu_autumn.parts[1].measures(170,171)\n",
      "select.show()\n",
      "#a note"
     ],
     "language": "python",
     "metadata": {},
     "outputs": [
      {
       "metadata": {},
       "output_type": "pyout",
       "png": "[encoded data removed]",
       "prompt_number": 23,
       "text": [
        "<music21.ipython21.objects.IPythonPNGObject at 0x1115ce6d0>"
       ]
      }
     ],
     "prompt_number": 23
    },
    {
     "cell_type": "code",
     "collapsed": false,
     "input": [
      "print tab_fig.get_next_fig(3)"
     ],
     "language": "python",
     "metadata": {},
     "outputs": [
      {
       "output_type": "stream",
       "stream": "stdout",
       "text": [
        "Figure 3.6\n"
       ]
      }
     ],
     "prompt_number": 21
    },
    {
     "cell_type": "code",
     "collapsed": false,
     "input": [
      "select = mu_autumn.parts[1].measures(168,169)\n",
      "select.show()\n",
      "#b natural on g7"
     ],
     "language": "python",
     "metadata": {},
     "outputs": [
      {
       "metadata": {},
       "output_type": "pyout",
       "png": "[encoded data removed]",
       "prompt_number": 25,
       "text": [
        "<music21.ipython21.objects.IPythonPNGObject at 0x111c886d0>"
       ]
      }
     ],
     "prompt_number": 25
    },
    {
     "cell_type": "code",
     "collapsed": false,
     "input": [
      "#Table 3.6aaa\n",
      "data_set[data_set.dist_note_to_root == 4]\\\n",
      "[data_set.chord_type == 'dominant_seventh']\\\n",
      "[data_set.p_offset <=.5]\\\n",
      "[data_set.r_offset <= 0.5]\\\n",
      "[data_set.prep == -1] \\\n",
      "[data_set.res == -3]\\\n",
      ".sort('res', ascending=False)"
     ],
     "language": "python",
     "metadata": {},
     "outputs": [
      {
       "html": [
        "<div style=\"max-height:1000px;max-width:1500px;overflow:auto;\">\n",
        "<table border=\"1\" class=\"dataframe\">\n",
        "  <thead>\n",
        "    <tr style=\"text-align: right;\">\n",
        "      <th></th>\n",
        "      <th>location</th>\n",
        "      <th>note</th>\n",
        "      <th>part</th>\n",
        "      <th>root</th>\n",
        "      <th>third</th>\n",
        "      <th>fifth</th>\n",
        "      <th>seventh</th>\n",
        "      <th>measure</th>\n",
        "      <th>prep</th>\n",
        "      <th>res</th>\n",
        "      <th>p_offset</th>\n",
        "      <th>r_offset</th>\n",
        "      <th>chord_type</th>\n",
        "      <th>dist_note_to_root</th>\n",
        "      <th>current_tempo</th>\n",
        "      <th>c_measure</th>\n",
        "      <th>name</th>\n",
        "    </tr>\n",
        "  </thead>\n",
        "  <tbody>\n",
        "    <tr>\n",
        "      <th>7492</th>\n",
        "      <td> 762.500000</td>\n",
        "      <td> 69</td>\n",
        "      <td> 0</td>\n",
        "      <td> 53</td>\n",
        "      <td> 57</td>\n",
        "      <td> 60</td>\n",
        "      <td> 63</td>\n",
        "      <td> 191.625000</td>\n",
        "      <td>-1</td>\n",
        "      <td>-3</td>\n",
        "      <td> 0.250000</td>\n",
        "      <td> 0.25</td>\n",
        "      <td> dominant_seventh</td>\n",
        "      <td> 4</td>\n",
        "      <td> 120</td>\n",
        "      <td> 191</td>\n",
        "      <td>    If I Were A Bell</td>\n",
        "    </tr>\n",
        "    <tr>\n",
        "      <th>5999</th>\n",
        "      <td> 670.850000</td>\n",
        "      <td> 83</td>\n",
        "      <td> 0</td>\n",
        "      <td> 55</td>\n",
        "      <td> 59</td>\n",
        "      <td> 62</td>\n",
        "      <td> 65</td>\n",
        "      <td> 168.712500</td>\n",
        "      <td>-1</td>\n",
        "      <td>-3</td>\n",
        "      <td> 0.500000</td>\n",
        "      <td> 0.50</td>\n",
        "      <td> dominant_seventh</td>\n",
        "      <td> 4</td>\n",
        "      <td> 120</td>\n",
        "      <td> 168</td>\n",
        "      <td>       Autumn Leaves</td>\n",
        "    </tr>\n",
        "    <tr>\n",
        "      <th>5837</th>\n",
        "      <td> 589.877083</td>\n",
        "      <td> 71</td>\n",
        "      <td> 0</td>\n",
        "      <td> 55</td>\n",
        "      <td> 59</td>\n",
        "      <td> 62</td>\n",
        "      <td> 65</td>\n",
        "      <td> 148.469271</td>\n",
        "      <td>-1</td>\n",
        "      <td>-3</td>\n",
        "      <td> 0.500000</td>\n",
        "      <td> 0.50</td>\n",
        "      <td> dominant_seventh</td>\n",
        "      <td> 4</td>\n",
        "      <td> 120</td>\n",
        "      <td> 148</td>\n",
        "      <td>       Autumn Leaves</td>\n",
        "    </tr>\n",
        "    <tr>\n",
        "      <th>5656</th>\n",
        "      <td> 461.385417</td>\n",
        "      <td> 71</td>\n",
        "      <td> 0</td>\n",
        "      <td> 55</td>\n",
        "      <td> 59</td>\n",
        "      <td> 62</td>\n",
        "      <td> 65</td>\n",
        "      <td> 116.346354</td>\n",
        "      <td>-1</td>\n",
        "      <td>-3</td>\n",
        "      <td> 0.500000</td>\n",
        "      <td> 0.50</td>\n",
        "      <td> dominant_seventh</td>\n",
        "      <td> 4</td>\n",
        "      <td> 120</td>\n",
        "      <td> 116</td>\n",
        "      <td>       Autumn Leaves</td>\n",
        "    </tr>\n",
        "    <tr>\n",
        "      <th>3870</th>\n",
        "      <td> 470.000000</td>\n",
        "      <td> 66</td>\n",
        "      <td> 0</td>\n",
        "      <td> 62</td>\n",
        "      <td> 66</td>\n",
        "      <td> 69</td>\n",
        "      <td> 72</td>\n",
        "      <td> 118.500000</td>\n",
        "      <td>-1</td>\n",
        "      <td>-3</td>\n",
        "      <td> 0.500000</td>\n",
        "      <td> 0.50</td>\n",
        "      <td> dominant_seventh</td>\n",
        "      <td> 4</td>\n",
        "      <td> 120</td>\n",
        "      <td> 118</td>\n",
        "      <td>        Groovin High</td>\n",
        "    </tr>\n",
        "    <tr>\n",
        "      <th>3681</th>\n",
        "      <td> 327.000000</td>\n",
        "      <td> 62</td>\n",
        "      <td> 0</td>\n",
        "      <td> 58</td>\n",
        "      <td> 62</td>\n",
        "      <td> 65</td>\n",
        "      <td> 68</td>\n",
        "      <td>  82.750000</td>\n",
        "      <td>-1</td>\n",
        "      <td>-3</td>\n",
        "      <td> 0.500000</td>\n",
        "      <td> 0.50</td>\n",
        "      <td> dominant_seventh</td>\n",
        "      <td> 4</td>\n",
        "      <td> 120</td>\n",
        "      <td>  82</td>\n",
        "      <td>        Groovin High</td>\n",
        "    </tr>\n",
        "    <tr>\n",
        "      <th>3055</th>\n",
        "      <td> 572.000000</td>\n",
        "      <td> 66</td>\n",
        "      <td> 0</td>\n",
        "      <td> 62</td>\n",
        "      <td> 66</td>\n",
        "      <td> 69</td>\n",
        "      <td> 72</td>\n",
        "      <td> 144.000000</td>\n",
        "      <td>-1</td>\n",
        "      <td>-3</td>\n",
        "      <td> 0.250000</td>\n",
        "      <td> 0.25</td>\n",
        "      <td> dominant_seventh</td>\n",
        "      <td> 4</td>\n",
        "      <td> 120</td>\n",
        "      <td> 144</td>\n",
        "      <td> Stella By Starlight</td>\n",
        "    </tr>\n",
        "    <tr>\n",
        "      <th>2058</th>\n",
        "      <td> 140.000000</td>\n",
        "      <td> 69</td>\n",
        "      <td> 0</td>\n",
        "      <td> 65</td>\n",
        "      <td> 69</td>\n",
        "      <td> 72</td>\n",
        "      <td> 75</td>\n",
        "      <td>  36.000000</td>\n",
        "      <td>-1</td>\n",
        "      <td>-3</td>\n",
        "      <td> 0.333333</td>\n",
        "      <td> 0.25</td>\n",
        "      <td> dominant_seventh</td>\n",
        "      <td> 4</td>\n",
        "      <td> 120</td>\n",
        "      <td>  36</td>\n",
        "      <td> Stella By Starlight</td>\n",
        "    </tr>\n",
        "  </tbody>\n",
        "</table>\n",
        "<p>8 rows \u00d7 17 columns</p>\n",
        "</div>"
       ],
       "metadata": {},
       "output_type": "pyout",
       "prompt_number": 24,
       "text": [
        "        location  note  part  root  third  fifth  seventh     measure  prep  \\\n",
        "7492  762.500000    69     0    53     57     60       63  191.625000    -1   \n",
        "5999  670.850000    83     0    55     59     62       65  168.712500    -1   \n",
        "5837  589.877083    71     0    55     59     62       65  148.469271    -1   \n",
        "5656  461.385417    71     0    55     59     62       65  116.346354    -1   \n",
        "3870  470.000000    66     0    62     66     69       72  118.500000    -1   \n",
        "3681  327.000000    62     0    58     62     65       68   82.750000    -1   \n",
        "3055  572.000000    66     0    62     66     69       72  144.000000    -1   \n",
        "2058  140.000000    69     0    65     69     72       75   36.000000    -1   \n",
        "\n",
        "      res  p_offset  r_offset        chord_type  dist_note_to_root  \\\n",
        "7492   -3  0.250000      0.25  dominant_seventh                  4   \n",
        "5999   -3  0.500000      0.50  dominant_seventh                  4   \n",
        "5837   -3  0.500000      0.50  dominant_seventh                  4   \n",
        "5656   -3  0.500000      0.50  dominant_seventh                  4   \n",
        "3870   -3  0.500000      0.50  dominant_seventh                  4   \n",
        "3681   -3  0.500000      0.50  dominant_seventh                  4   \n",
        "3055   -3  0.250000      0.25  dominant_seventh                  4   \n",
        "2058   -3  0.333333      0.25  dominant_seventh                  4   \n",
        "\n",
        "      current_tempo  c_measure                 name  \n",
        "7492            120        191     If I Were A Bell  \n",
        "5999            120        168        Autumn Leaves  \n",
        "5837            120        148        Autumn Leaves  \n",
        "5656            120        116        Autumn Leaves  \n",
        "3870            120        118         Groovin High  \n",
        "3681            120         82         Groovin High  \n",
        "3055            120        144  Stella By Starlight  \n",
        "2058            120         36  Stella By Starlight  \n",
        "\n",
        "[8 rows x 17 columns]"
       ]
      }
     ],
     "prompt_number": 24
    },
    {
     "cell_type": "code",
     "collapsed": false,
     "input": [],
     "language": "python",
     "metadata": {},
     "outputs": [],
     "prompt_number": 17
    },
    {
     "cell_type": "markdown",
     "metadata": {},
     "source": [
      "<h4>3.2.4.3 Resolution of the major third in the dominant chord</h4>"
     ]
    },
    {
     "cell_type": "code",
     "collapsed": false,
     "input": [
      "#Table 3.6\n",
      "data_set[data_set.dist_note_to_root == 7]\\\n",
      "[data_set.chord_type == 'dominant_seventh']\\\n",
      "[data_set.p_offset <=.5]\\\n",
      "[data_set.res == 3] \\\n",
      "[0:5].sort('res', ascending=False)"
     ],
     "language": "python",
     "metadata": {},
     "outputs": [
      {
       "html": [
        "<div style=\"max-height:1000px;max-width:1500px;overflow:auto;\">\n",
        "<table border=\"1\" class=\"dataframe\">\n",
        "  <thead>\n",
        "    <tr style=\"text-align: right;\">\n",
        "      <th></th>\n",
        "      <th>location</th>\n",
        "      <th>note</th>\n",
        "      <th>part</th>\n",
        "      <th>root</th>\n",
        "      <th>third</th>\n",
        "      <th>fifth</th>\n",
        "      <th>seventh</th>\n",
        "      <th>measure</th>\n",
        "      <th>prep</th>\n",
        "      <th>res</th>\n",
        "      <th>p_offset</th>\n",
        "      <th>r_offset</th>\n",
        "      <th>chord_type</th>\n",
        "      <th>dist_note_to_root</th>\n",
        "      <th>current_tempo</th>\n",
        "      <th>c_measure</th>\n",
        "      <th>name</th>\n",
        "    </tr>\n",
        "  </thead>\n",
        "  <tbody>\n",
        "    <tr>\n",
        "      <th>792</th>\n",
        "      <td> 508.500000</td>\n",
        "      <td> 69</td>\n",
        "      <td> 0</td>\n",
        "      <td> 62</td>\n",
        "      <td> 66</td>\n",
        "      <td> 69</td>\n",
        "      <td> 72</td>\n",
        "      <td> 128.125000</td>\n",
        "      <td> 4</td>\n",
        "      <td> 3</td>\n",
        "      <td> 0.500000</td>\n",
        "      <td> 0.500000</td>\n",
        "      <td> dominant_seventh</td>\n",
        "      <td> 7</td>\n",
        "      <td> 120</td>\n",
        "      <td> 128</td>\n",
        "      <td> All The Things You Are</td>\n",
        "    </tr>\n",
        "    <tr>\n",
        "      <th>648</th>\n",
        "      <td> 438.333333</td>\n",
        "      <td> 67</td>\n",
        "      <td> 0</td>\n",
        "      <td> 60</td>\n",
        "      <td> 64</td>\n",
        "      <td> 67</td>\n",
        "      <td> 70</td>\n",
        "      <td> 110.583333</td>\n",
        "      <td>-3</td>\n",
        "      <td> 3</td>\n",
        "      <td> 0.333333</td>\n",
        "      <td> 0.333333</td>\n",
        "      <td> dominant_seventh</td>\n",
        "      <td> 7</td>\n",
        "      <td> 120</td>\n",
        "      <td> 110</td>\n",
        "      <td> All The Things You Are</td>\n",
        "    </tr>\n",
        "    <tr>\n",
        "      <th>275</th>\n",
        "      <td> 207.000000</td>\n",
        "      <td> 69</td>\n",
        "      <td> 0</td>\n",
        "      <td> 62</td>\n",
        "      <td> 66</td>\n",
        "      <td> 69</td>\n",
        "      <td> 72</td>\n",
        "      <td>  52.750000</td>\n",
        "      <td>-1</td>\n",
        "      <td> 3</td>\n",
        "      <td> 0.333333</td>\n",
        "      <td> 0.333333</td>\n",
        "      <td> dominant_seventh</td>\n",
        "      <td> 7</td>\n",
        "      <td> 120</td>\n",
        "      <td>  52</td>\n",
        "      <td> All The Things You Are</td>\n",
        "    </tr>\n",
        "    <tr>\n",
        "      <th>246</th>\n",
        "      <td> 194.000000</td>\n",
        "      <td> 65</td>\n",
        "      <td> 0</td>\n",
        "      <td> 58</td>\n",
        "      <td> 62</td>\n",
        "      <td> 65</td>\n",
        "      <td> 68</td>\n",
        "      <td>  49.500000</td>\n",
        "      <td>-3</td>\n",
        "      <td> 3</td>\n",
        "      <td> 0.500000</td>\n",
        "      <td> 0.500000</td>\n",
        "      <td> dominant_seventh</td>\n",
        "      <td> 7</td>\n",
        "      <td> 120</td>\n",
        "      <td>  49</td>\n",
        "      <td> All The Things You Are</td>\n",
        "    </tr>\n",
        "    <tr>\n",
        "      <th>186</th>\n",
        "      <td> 151.000000</td>\n",
        "      <td> 67</td>\n",
        "      <td> 0</td>\n",
        "      <td> 60</td>\n",
        "      <td> 64</td>\n",
        "      <td> 67</td>\n",
        "      <td> 70</td>\n",
        "      <td>  38.750000</td>\n",
        "      <td> 5</td>\n",
        "      <td> 3</td>\n",
        "      <td> 0.500000</td>\n",
        "      <td> 0.500000</td>\n",
        "      <td> dominant_seventh</td>\n",
        "      <td> 7</td>\n",
        "      <td> 120</td>\n",
        "      <td>  38</td>\n",
        "      <td> All The Things You Are</td>\n",
        "    </tr>\n",
        "  </tbody>\n",
        "</table>\n",
        "<p>5 rows \u00d7 17 columns</p>\n",
        "</div>"
       ],
       "metadata": {},
       "output_type": "pyout",
       "prompt_number": 19,
       "text": [
        "       location  note  part  root  third  fifth  seventh     measure  prep  \\\n",
        "792  508.500000    69     0    62     66     69       72  128.125000     4   \n",
        "648  438.333333    67     0    60     64     67       70  110.583333    -3   \n",
        "275  207.000000    69     0    62     66     69       72   52.750000    -1   \n",
        "246  194.000000    65     0    58     62     65       68   49.500000    -3   \n",
        "186  151.000000    67     0    60     64     67       70   38.750000     5   \n",
        "\n",
        "     res  p_offset  r_offset        chord_type  dist_note_to_root  \\\n",
        "792    3  0.500000  0.500000  dominant_seventh                  7   \n",
        "648    3  0.333333  0.333333  dominant_seventh                  7   \n",
        "275    3  0.333333  0.333333  dominant_seventh                  7   \n",
        "246    3  0.500000  0.500000  dominant_seventh                  7   \n",
        "186    3  0.500000  0.500000  dominant_seventh                  7   \n",
        "\n",
        "     current_tempo  c_measure                    name  \n",
        "792            120        128  All The Things You Are  \n",
        "648            120        110  All The Things You Are  \n",
        "275            120         52  All The Things You Are  \n",
        "246            120         49  All The Things You Are  \n",
        "186            120         38  All The Things You Are  \n",
        "\n",
        "[5 rows x 17 columns]"
       ]
      }
     ],
     "prompt_number": 19
    },
    {
     "cell_type": "code",
     "collapsed": false,
     "input": [],
     "language": "python",
     "metadata": {},
     "outputs": [],
     "prompt_number": 19
    }
   ],
   "metadata": {}
  }
 ]
}