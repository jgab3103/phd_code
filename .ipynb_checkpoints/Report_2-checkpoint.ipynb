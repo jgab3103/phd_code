{
 "cells": [
  {
   "cell_type": "code",
   "execution_count": 1,
   "metadata": {
    "collapsed": false
   },
   "outputs": [
    {
     "name": "stdout",
     "output_type": "stream",
     "text": [
      "Populating the interactive namespace from numpy and matplotlib\n"
     ]
    }
   ],
   "source": [
    "import pandas as pd\n",
    "from IPython.core.display import HTML\n",
    "from IPython.core.display import Image \n",
    "%load_ext music21.ipython21.ipExtension\n",
    "import numpy as np\n",
    "import music21 as mu\n",
    "import pymongo\n",
    "%pylab inline\n",
    "from pymongo import MongoClient\n",
    "from bs4 import BeautifulSoup\n",
    "import re\n",
    "import pydash as py_\n",
    "pd.set_option('display.mpl_style', 'default')\n",
    "plt.rcParams['figure.figsize'] = (15, 5)\n",
    "import math\n",
    "import music21 as mu\n",
    "from functools import partial\n",
    "\n",
    "# This is necessary to show lots of columns in pandas 0.12. \n",
    "# Not necessary in pandas 0.13.\n",
    "pd.set_option('display.width', 5000) \n",
    "pd.set_option('display.max_columns', 60)\n"
   ]
  },
  {
   "cell_type": "code",
   "execution_count": 2,
   "metadata": {
    "collapsed": false
   },
   "outputs": [],
   "source": [
    "muAutumnLeaves = mu.converter.parse('FinalDataSet/XMLFiles/JazzSolos/KJAutumnLeaves1996_1371_192.xml')\n",
    "muStellaByStarlight = mu.converter.parse('FinalDataSet/XMLFiles/JazzSolos/KJStellaByStarlight1983_1534_161.xml')\n",
    "muGroovinHigh = mu.converter.parse('FinalDataSet/XMLFiles/JazzSolos/KJGroovinHigh1999_1996_290.xml')\n",
    "muAllTheThingsYouAre = mu.converter.parse('FinalDataSet/XMLFiles/JazzSolos/KJAllTheThingsYouAre1983_2143_290.xml')\n",
    "muIfIWereABell = mu.converter.parse('FinalDataSet/XMLFiles/JazzSolos/KJIfIWereABell2002_2161_227.xml')"
   ]
  },
  {
   "cell_type": "markdown",
   "metadata": {},
   "source": [
    "<h2>Data Preparation</h2>"
   ]
  },
  {
   "cell_type": "code",
   "execution_count": 3,
   "metadata": {
    "collapsed": false
   },
   "outputs": [],
   "source": [
    "df = pd.read_pickle('data_set_as_pk.pkl')"
   ]
  },
  {
   "cell_type": "markdown",
   "metadata": {},
   "source": [
    "<h4><a id=\"microphrase\">Structure of phrases and microphrases</a></h4>"
   ]
  },
  {
   "cell_type": "markdown",
   "metadata": {},
   "source": [
    "<div>issue that at soe level there is no repeitiion, but this is not the whole story..looking at parts of prhases, there is repetitions. Notes commonly lead to other notes, there, are if particular phrases are not identical, this suggests that parts of phrases are identical finds that there is a great deal o repetition</div>\n",
    "<div>The first questions would be, in any phrase what are the biggest microphrase? Is key important?</div>\n",
    "<br>\n",
    "<div>In any group of notes linear, are 3 critical piece of infomation for these musical praes, the frequency of the note, the duration of the note and the position of the note. Here we are defining a phrase as one note directly aftern another Do somethings always happen on a certain beat</div>\n",
    "<div>Wuesiton is,  at patterns of differnet sizes, find whre the repetiions are occuring, is repetion happening because of differnt key, is it driven regaless of rhythm, if we don't take rhythm into account, does this lots or repetition. How is repetition occuring actually taking place here? THe other as pect to take into account is meter. Do things tend to happen more on the beat of the bar. We are looking at phrase in a certain way, so not where there is tiny break</div>"
   ]
  },
  {
   "cell_type": "markdown",
   "metadata": {},
   "source": [
    "<div>2 note phrases first what is happening....</div>"
   ]
  },
  {
   "cell_type": "code",
   "execution_count": 4,
   "metadata": {
    "collapsed": false
   },
   "outputs": [],
   "source": [
    "#utilitity methods to build phrases\n",
    "def titleAsString(data_row):\n",
    "    titleAsString = str(data_row[0][0:1][0])\n",
    "    locationAsString = str(data_row[0][1:2][0])\n",
    "    return titleAsString + ', measure: ' + locationAsString\n",
    "\n",
    "def concatenatePhrase(x, data_row):\n",
    "    phraseString = ''\n",
    "    startingIndexForNoteDetails = x[1]\n",
    "    endingIndexForNoteDetails = x[2]\n",
    "    \n",
    "    for i in range(0, x[0]):\n",
    "        phraseString = phraseString + str(data_row[i][startingIndexForNoteDetails:endingIndexForNoteDetails])\n",
    "\n",
    "    return phraseString\n",
    "\n",
    "def flagIfNoFrequency(x, data_row):\n",
    "    flag = 0\n",
    "    for i in range(0, x):\n",
    "        if np.isnan(data_row[i][2]):\n",
    "            flag = 1\n",
    "    return flag"
   ]
  },
  {
   "cell_type": "code",
   "execution_count": 5,
   "metadata": {
    "collapsed": false
   },
   "outputs": [],
   "source": [
    "#class to break notes up into individual phrases and track different lengths of phrases\n",
    "class CreateDataFramesForTwoNotePhraseAnalysis:\n",
    "    def __init__(self, dataFrame=\"\", numberOfNotesInPhrase = -1):\n",
    "        self.df = dataFrame\n",
    "        self.microPhraseArray = -1\n",
    "        self.twoNotePhrases = -1\n",
    "        self.startValueToIncludeFrequencyInPhrase = 2\n",
    "        self.startValueToExludeFrequency = 3\n",
    "        self.endValueToExcludeRelativeFrequency = 4\n",
    "        self.endValueToIncludeAllNoteDetails = 5\n",
    "        self.numberOfNotesInPhrase = numberOfNotesInPhrase\n",
    "\n",
    "    def createDataFrames(self):\n",
    "        dfForPhrasePatterns = self.df[self.df['part'] == 'P1'][['title','measure', 'midiNumber', 'quarterNoteDuration', 'nextNoteFreqDistance', 'noteEventStartingLocation', 'Location in measure']]\n",
    "        listOfNotes = dfForPhrasePatterns.values.tolist()\n",
    "        microPhraseLength = self.numberOfNotesInPhrase\n",
    "        microPhraseArray = []\n",
    "        microPhrase = []\n",
    "        for x in range(0, len(listOfNotes)):\n",
    "            counter = 0\n",
    "            while(counter < microPhraseLength):\n",
    "                try:\n",
    "                    val = listOfNotes[x + counter]\n",
    "                except:\n",
    "                    pass\n",
    "                microPhrase.append(val)\n",
    "                counter = counter + 1\n",
    "            microPhraseArray.append(microPhrase)\n",
    "            microPhrase = []\n",
    "            \n",
    "        self.twoNotePhrases = pd.DataFrame(microPhraseArray)\n",
    "\n",
    "        self.twoNotePhrases['Title and location'] = self.twoNotePhrases.apply(titleAsString, axis=1)\n",
    "        self.twoNotePhrases['Phrase with absolute frequency and duration'] = self.twoNotePhrases.apply(partial(concatenatePhrase, (self.numberOfNotesInPhrase, self.startValueToIncludeFrequencyInPhrase, self.endValueToIncludeAllNoteDetails)), axis=1)\n",
    "        self.twoNotePhrases['Phrase with relative frequency and duration'] = self.twoNotePhrases.apply(partial(concatenatePhrase, (self.numberOfNotesInPhrase, self.startValueToExludeFrequency, self.endValueToIncludeAllNoteDetails)), axis=1)\n",
    "        self.twoNotePhrases['Phrase with absolute frequency only'] = self.twoNotePhrases.apply(partial(concatenatePhrase, (self.numberOfNotesInPhrase, self.startValueToIncludeFrequencyInPhrase,self.startValueToExludeFrequency)), axis=1)\n",
    "        self.twoNotePhrases['Phrase with duration only'] = self.twoNotePhrases.apply(partial(concatenatePhrase, (self.numberOfNotesInPhrase, self.startValueToExludeFrequency, self.endValueToExcludeRelativeFrequency)), axis=1)\n",
    "        self.twoNotePhrases['Phrase with relative frequency only'] = self.twoNotePhrases.apply(partial(concatenatePhrase, (self.numberOfNotesInPhrase, self.endValueToExcludeRelativeFrequency, self.endValueToIncludeAllNoteDetails)), axis=1)\n",
    "        self.twoNotePhrases['No Frequency'] = self.twoNotePhrases.apply(partial(flagIfNoFrequency, self.numberOfNotesInPhrase), axis=1)\n",
    "\n",
    "    def removeGhostPhrasesAndUnneededColumns(self):\n",
    "        self.twoNotePhrases = self.twoNotePhrases[self.twoNotePhrases['No Frequency'] == 0]\n",
    "        for i in range(0, self.numberOfNotesInPhrase):\n",
    "            del self.twoNotePhrases[i]\n",
    "        del self.twoNotePhrases['No Frequency']\n",
    "\n",
    "    def returnDataFramesForAnalysis(self):\n",
    "        #print self.twoNotePhrases\n",
    "        return self.twoNotePhrases\n"
   ]
  },
  {
   "cell_type": "code",
   "execution_count": 6,
   "metadata": {
    "collapsed": false
   },
   "outputs": [],
   "source": [
    "createTwoNotePhraseData = CreateDataFramesForTwoNotePhraseAnalysis(df, 2)\n",
    "createTwoNotePhraseData.createDataFrames()\n",
    "createTwoNotePhraseData.removeGhostPhrasesAndUnneededColumns()\n",
    "twoNotephrases = createTwoNotePhraseData.returnDataFramesForAnalysis()\n",
    "\n",
    "createThreeNotePhraseData = CreateDataFramesForTwoNotePhraseAnalysis(df, 3)\n",
    "createThreeNotePhraseData.createDataFrames()\n",
    "createThreeNotePhraseData.removeGhostPhrasesAndUnneededColumns()\n",
    "threeNotephrases = createThreeNotePhraseData.returnDataFramesForAnalysis()\n",
    "\n",
    "createFourNotePhraseData = CreateDataFramesForTwoNotePhraseAnalysis(df, 4)\n",
    "createFourNotePhraseData.createDataFrames()\n",
    "createFourNotePhraseData.removeGhostPhrasesAndUnneededColumns()\n",
    "fourNotephrases = createFourNotePhraseData.returnDataFramesForAnalysis()\n",
    "\n",
    "createFiveNotePhraseData = CreateDataFramesForTwoNotePhraseAnalysis(df, 5)\n",
    "createFiveNotePhraseData.createDataFrames()\n",
    "createFiveNotePhraseData.removeGhostPhrasesAndUnneededColumns()\n",
    "fiveNotephrases = createFiveNotePhraseData.returnDataFramesForAnalysis()\n",
    "\n",
    "createSixNotePhraseData = CreateDataFramesForTwoNotePhraseAnalysis(df, 6)\n",
    "createSixNotePhraseData.createDataFrames()\n",
    "createSixNotePhraseData.removeGhostPhrasesAndUnneededColumns()\n",
    "sixNotephrases = createSixNotePhraseData.returnDataFramesForAnalysis()\n",
    "\n",
    "createSevenNotePhraseData = CreateDataFramesForTwoNotePhraseAnalysis(df, 7)\n",
    "createSevenNotePhraseData.createDataFrames()\n",
    "createSevenNotePhraseData.removeGhostPhrasesAndUnneededColumns()\n",
    "sevenNotephrases = createSevenNotePhraseData.returnDataFramesForAnalysis()\n",
    "\n",
    "createEightNotePhraseData = CreateDataFramesForTwoNotePhraseAnalysis(df, 8)\n",
    "createEightNotePhraseData.createDataFrames()\n",
    "createEightNotePhraseData.removeGhostPhrasesAndUnneededColumns()\n",
    "eightNotephrases = createEightNotePhraseData.returnDataFramesForAnalysis()\n",
    "\n",
    "createNineNotePhraseData = CreateDataFramesForTwoNotePhraseAnalysis(df, 9)\n",
    "createNineNotePhraseData.createDataFrames()\n",
    "createNineNotePhraseData.removeGhostPhrasesAndUnneededColumns()\n",
    "nineNotephrases = createNineNotePhraseData.returnDataFramesForAnalysis()\n",
    "\n",
    "createTenNotePhraseData = CreateDataFramesForTwoNotePhraseAnalysis(df, 10)\n",
    "createTenNotePhraseData.createDataFrames()\n",
    "createTenNotePhraseData.removeGhostPhrasesAndUnneededColumns()\n",
    "tenNotephrases = createTenNotePhraseData.returnDataFramesForAnalysis()\n"
   ]
  },
  {
   "cell_type": "code",
   "execution_count": 7,
   "metadata": {
    "collapsed": false
   },
   "outputs": [],
   "source": [
    "arrayOfPhraseData = [twoNotephrases, threeNotephrases, fourNotephrases, fiveNotephrases, sixNotephrases, sevenNotephrases, eightNotephrases, nineNotephrases, tenNotephrases]"
   ]
  },
  {
   "cell_type": "markdown",
   "metadata": {},
   "source": [
    "<div>So what does one of these look like?</div>"
   ]
  },
  {
   "cell_type": "code",
   "execution_count": 8,
   "metadata": {
    "collapsed": false
   },
   "outputs": [
    {
     "data": {
      "text/html": [
       "<div>\n",
       "<table border=\"1\" class=\"dataframe\">\n",
       "  <thead>\n",
       "    <tr style=\"text-align: right;\">\n",
       "      <th></th>\n",
       "      <th>Title and location</th>\n",
       "      <th>Phrase with absolute frequency and duration</th>\n",
       "      <th>Phrase with relative frequency and duration</th>\n",
       "      <th>Phrase with absolute frequency only</th>\n",
       "      <th>Phrase with duration only</th>\n",
       "      <th>Phrase with relative frequency only</th>\n",
       "    </tr>\n",
       "  </thead>\n",
       "  <tbody>\n",
       "    <tr>\n",
       "      <th>13</th>\n",
       "      <td>Stella By Starlight, measure: 3.0</td>\n",
       "      <td>[51.0, 0.66, 2.0][53.0, 0.66, 9.0][62.0, 0.5, ...</td>\n",
       "      <td>[0.66, 2.0][0.66, 9.0][0.5, -2.0][0.5, -3.0][0...</td>\n",
       "      <td>[51.0][53.0][62.0][60.0][57.0][53.0][51.0][50.0]</td>\n",
       "      <td>[0.66][0.66][0.5][0.5][0.5][0.5][0.5][1.5]</td>\n",
       "      <td>[2.0][9.0][-2.0][-3.0][-4.0][-2.0][-1.0][nan]</td>\n",
       "    </tr>\n",
       "    <tr>\n",
       "      <th>23</th>\n",
       "      <td>Stella By Starlight, measure: 5.0</td>\n",
       "      <td>[51.0, 0.33, 1.0][52.0, 0.33, 1.0][53.0, 0.33,...</td>\n",
       "      <td>[0.33, 1.0][0.33, 1.0][0.33, 2.0][0.33, 1.0][0...</td>\n",
       "      <td>[51.0][52.0][53.0][55.0][56.0][55.0][53.0][51.0]</td>\n",
       "      <td>[0.33][0.33][0.33][0.33][0.33][0.33][0.33][0.33]</td>\n",
       "      <td>[1.0][1.0][2.0][1.0][-1.0][-2.0][-2.0][-1.0]</td>\n",
       "    </tr>\n",
       "    <tr>\n",
       "      <th>24</th>\n",
       "      <td>Stella By Starlight, measure: 5.0</td>\n",
       "      <td>[52.0, 0.33, 1.0][53.0, 0.33, 2.0][55.0, 0.33,...</td>\n",
       "      <td>[0.33, 1.0][0.33, 2.0][0.33, 1.0][0.33, -1.0][...</td>\n",
       "      <td>[52.0][53.0][55.0][56.0][55.0][53.0][51.0][50.0]</td>\n",
       "      <td>[0.33][0.33][0.33][0.33][0.33][0.33][0.33][0.33]</td>\n",
       "      <td>[1.0][2.0][1.0][-1.0][-2.0][-2.0][-1.0][-2.0]</td>\n",
       "    </tr>\n",
       "    <tr>\n",
       "      <th>25</th>\n",
       "      <td>Stella By Starlight, measure: 5.0</td>\n",
       "      <td>[53.0, 0.33, 2.0][55.0, 0.33, 1.0][56.0, 0.33,...</td>\n",
       "      <td>[0.33, 2.0][0.33, 1.0][0.33, -1.0][0.33, -2.0]...</td>\n",
       "      <td>[53.0][55.0][56.0][55.0][53.0][51.0][50.0][48.0]</td>\n",
       "      <td>[0.33][0.33][0.33][0.33][0.33][0.33][0.33][0.33]</td>\n",
       "      <td>[2.0][1.0][-1.0][-2.0][-2.0][-1.0][-2.0][2.0]</td>\n",
       "    </tr>\n",
       "    <tr>\n",
       "      <th>26</th>\n",
       "      <td>Stella By Starlight, measure: 5.0</td>\n",
       "      <td>[55.0, 0.33, 1.0][56.0, 0.33, -1.0][55.0, 0.33...</td>\n",
       "      <td>[0.33, 1.0][0.33, -1.0][0.33, -2.0][0.33, -2.0...</td>\n",
       "      <td>[55.0][56.0][55.0][53.0][51.0][50.0][48.0][50.0]</td>\n",
       "      <td>[0.33][0.33][0.33][0.33][0.33][0.33][0.33][0.33]</td>\n",
       "      <td>[1.0][-1.0][-2.0][-2.0][-1.0][-2.0][2.0][-2.0]</td>\n",
       "    </tr>\n",
       "  </tbody>\n",
       "</table>\n",
       "</div>"
      ],
      "text/plain": [
       "                   Title and location        Phrase with absolute frequency and duration        Phrase with relative frequency and duration               Phrase with absolute frequency only                         Phrase with duration only             Phrase with relative frequency only\n",
       "13  Stella By Starlight, measure: 3.0  [51.0, 0.66, 2.0][53.0, 0.66, 9.0][62.0, 0.5, ...  [0.66, 2.0][0.66, 9.0][0.5, -2.0][0.5, -3.0][0...  [51.0][53.0][62.0][60.0][57.0][53.0][51.0][50.0]        [0.66][0.66][0.5][0.5][0.5][0.5][0.5][1.5]   [2.0][9.0][-2.0][-3.0][-4.0][-2.0][-1.0][nan]\n",
       "23  Stella By Starlight, measure: 5.0  [51.0, 0.33, 1.0][52.0, 0.33, 1.0][53.0, 0.33,...  [0.33, 1.0][0.33, 1.0][0.33, 2.0][0.33, 1.0][0...  [51.0][52.0][53.0][55.0][56.0][55.0][53.0][51.0]  [0.33][0.33][0.33][0.33][0.33][0.33][0.33][0.33]    [1.0][1.0][2.0][1.0][-1.0][-2.0][-2.0][-1.0]\n",
       "24  Stella By Starlight, measure: 5.0  [52.0, 0.33, 1.0][53.0, 0.33, 2.0][55.0, 0.33,...  [0.33, 1.0][0.33, 2.0][0.33, 1.0][0.33, -1.0][...  [52.0][53.0][55.0][56.0][55.0][53.0][51.0][50.0]  [0.33][0.33][0.33][0.33][0.33][0.33][0.33][0.33]   [1.0][2.0][1.0][-1.0][-2.0][-2.0][-1.0][-2.0]\n",
       "25  Stella By Starlight, measure: 5.0  [53.0, 0.33, 2.0][55.0, 0.33, 1.0][56.0, 0.33,...  [0.33, 2.0][0.33, 1.0][0.33, -1.0][0.33, -2.0]...  [53.0][55.0][56.0][55.0][53.0][51.0][50.0][48.0]  [0.33][0.33][0.33][0.33][0.33][0.33][0.33][0.33]   [2.0][1.0][-1.0][-2.0][-2.0][-1.0][-2.0][2.0]\n",
       "26  Stella By Starlight, measure: 5.0  [55.0, 0.33, 1.0][56.0, 0.33, -1.0][55.0, 0.33...  [0.33, 1.0][0.33, -1.0][0.33, -2.0][0.33, -2.0...  [55.0][56.0][55.0][53.0][51.0][50.0][48.0][50.0]  [0.33][0.33][0.33][0.33][0.33][0.33][0.33][0.33]  [1.0][-1.0][-2.0][-2.0][-1.0][-2.0][2.0][-2.0]"
      ]
     },
     "execution_count": 8,
     "metadata": {},
     "output_type": "execute_result"
    }
   ],
   "source": [
    "eightNotephrases.head()"
   ]
  },
  {
   "cell_type": "markdown",
   "metadata": {},
   "source": [
    "<div>This informaito is telling us that at in Stella by Starlight, at bar 3, there is an eight note phrase. It can be seen in figure x below and can be definied in different ways - so exact frequencies and durations, meaning 'Phrase with absolute frequency and duration', or only durations. This means it is possible use this informaiton to find out if exact phrases of this type exist elsewohere in the corpus. Are there any exact repetion. The intuioion here is that the same phrase never appears twoice in this data set. But that does stack up. What if we ignored absolute freq, key does not matter, do we find the same thing repeating? What if we ignored duration. The key here is to understand, similair things happening, so although the same phrase never appears more than once, certain things often happen, certain prhases"
   ]
  },
  {
   "cell_type": "code",
   "execution_count": 9,
   "metadata": {
    "collapsed": false
   },
   "outputs": [
    {
     "data": {
      "image/png": "[encoded data removed]",
      "text/plain": [
       "<music21.ipython21.objects.IPythonPNGObject at 0x11740b9d0>"
      ]
     },
     "execution_count": 9,
     "metadata": {},
     "output_type": "execute_result"
    }
   ],
   "source": [
    "select = muStellaByStarlight.parts[0].measures(3,4)\n",
    "select.show()"
   ]
  },
  {
   "cell_type": "markdown",
   "metadata": {},
   "source": [
    "<div> We have information aout the phrases</div>\n",
    "\n",
    "<div>We are trying to find out where there is repetition. And we can ask about repetition in diffent ways</div>\n",
    "<div>For the purpose of the analsis we are defining phrase as:\n",
    "    <ul>\n",
    "        <li>Any linear sequence of notes where these is no break</li>\n",
    "        <li>Any group of notes two or more notes long</li>\n",
    "    </ul>\n",
    "    The idea is to understand where the repetioin is occuring\n",
    "</div>"
   ]
  },
  {
   "cell_type": "code",
   "execution_count": 10,
   "metadata": {
    "collapsed": false
   },
   "outputs": [],
   "source": [
    "arrayOne = []\n",
    "arrayTwo = []\n",
    "arrayThree = []\n",
    "arrayFour = []\n",
    "arrayFive = []\n",
    "for x in range(0, len(arrayOfPhraseData)):\n",
    "    arrayOne.append(arrayOfPhraseData[x]['Phrase with absolute frequency and duration'].value_counts()[0])\n",
    "    arrayTwo.append(arrayOfPhraseData[x]['Phrase with relative frequency and duration'].value_counts()[0])\n",
    "    arrayThree.append(arrayOfPhraseData[x]['Phrase with absolute frequency only'].value_counts()[0])\n",
    "    arrayFour.append(arrayOfPhraseData[x]['Phrase with relative frequency only'].value_counts()[0])\n",
    "    arrayFive.append(arrayOfPhraseData[x]['Phrase with duration only'].value_counts()[0])"
   ]
  },
  {
   "cell_type": "code",
   "execution_count": 11,
   "metadata": {
    "collapsed": true
   },
   "outputs": [],
   "source": [
    "repeatingPhrases = pd.DataFrame({'Phrases that the same absolute frequencies and same durations':arrayOne, \n",
    "                     'Phrases that the same relative frequencies and same durations': arrayTwo,\n",
    "                      'Phrases that have the same absolute frequencies': arrayThree,\n",
    "                      'Phrases that have the same relative frequencies': arrayFour})"
   ]
  },
  {
   "cell_type": "code",
   "execution_count": 12,
   "metadata": {
    "collapsed": false
   },
   "outputs": [],
   "source": [
    "repeatingPhrases.index = ['Two note phrases', 'Three note phrases', 'Four note phrases', 'Five note phrases', 'Six note phrases', 'Seven note phrases', 'Eight note phrases', 'Nine note phrases', 'Ten note phrases']"
   ]
  },
  {
   "cell_type": "code",
   "execution_count": 13,
   "metadata": {
    "collapsed": false
   },
   "outputs": [
    {
     "data": {
      "text/html": [
       "<div>\n",
       "<table border=\"1\" class=\"dataframe\">\n",
       "  <thead>\n",
       "    <tr style=\"text-align: right;\">\n",
       "      <th></th>\n",
       "      <th>Phrases that have the same absolute frequencies</th>\n",
       "      <th>Phrases that have the same relative frequencies</th>\n",
       "      <th>Phrases that the same absolute frequencies and same durations</th>\n",
       "      <th>Phrases that the same relative frequencies and same durations</th>\n",
       "    </tr>\n",
       "  </thead>\n",
       "  <tbody>\n",
       "    <tr>\n",
       "      <th>Two note phrases</th>\n",
       "      <td>114</td>\n",
       "      <td>332</td>\n",
       "      <td>25</td>\n",
       "      <td>178</td>\n",
       "    </tr>\n",
       "    <tr>\n",
       "      <th>Three note phrases</th>\n",
       "      <td>32</td>\n",
       "      <td>140</td>\n",
       "      <td>11</td>\n",
       "      <td>73</td>\n",
       "    </tr>\n",
       "    <tr>\n",
       "      <th>Four note phrases</th>\n",
       "      <td>16</td>\n",
       "      <td>48</td>\n",
       "      <td>6</td>\n",
       "      <td>28</td>\n",
       "    </tr>\n",
       "    <tr>\n",
       "      <th>Five note phrases</th>\n",
       "      <td>9</td>\n",
       "      <td>22</td>\n",
       "      <td>3</td>\n",
       "      <td>13</td>\n",
       "    </tr>\n",
       "    <tr>\n",
       "      <th>Six note phrases</th>\n",
       "      <td>5</td>\n",
       "      <td>10</td>\n",
       "      <td>3</td>\n",
       "      <td>7</td>\n",
       "    </tr>\n",
       "    <tr>\n",
       "      <th>Seven note phrases</th>\n",
       "      <td>4</td>\n",
       "      <td>5</td>\n",
       "      <td>3</td>\n",
       "      <td>4</td>\n",
       "    </tr>\n",
       "    <tr>\n",
       "      <th>Eight note phrases</th>\n",
       "      <td>3</td>\n",
       "      <td>3</td>\n",
       "      <td>2</td>\n",
       "      <td>2</td>\n",
       "    </tr>\n",
       "    <tr>\n",
       "      <th>Nine note phrases</th>\n",
       "      <td>3</td>\n",
       "      <td>3</td>\n",
       "      <td>2</td>\n",
       "      <td>2</td>\n",
       "    </tr>\n",
       "    <tr>\n",
       "      <th>Ten note phrases</th>\n",
       "      <td>2</td>\n",
       "      <td>2</td>\n",
       "      <td>1</td>\n",
       "      <td>2</td>\n",
       "    </tr>\n",
       "  </tbody>\n",
       "</table>\n",
       "</div>"
      ],
      "text/plain": [
       "                    Phrases that have the same absolute frequencies  Phrases that have the same relative frequencies  Phrases that the same absolute frequencies and same durations  Phrases that the same relative frequencies and same durations\n",
       "Two note phrases                                                114                                              332                                                 25                                                            178            \n",
       "Three note phrases                                               32                                              140                                                 11                                                             73            \n",
       "Four note phrases                                                16                                               48                                                  6                                                             28            \n",
       "Five note phrases                                                 9                                               22                                                  3                                                             13            \n",
       "Six note phrases                                                  5                                               10                                                  3                                                              7            \n",
       "Seven note phrases                                                4                                                5                                                  3                                                              4            \n",
       "Eight note phrases                                                3                                                3                                                  2                                                              2            \n",
       "Nine note phrases                                                 3                                                3                                                  2                                                              2            \n",
       "Ten note phrases                                                  2                                                2                                                  1                                                              2            "
      ]
     },
     "execution_count": 13,
     "metadata": {},
     "output_type": "execute_result"
    }
   ],
   "source": [
    "repeatingPhrases"
   ]
  },
  {
   "cell_type": "markdown",
   "metadata": {},
   "source": [
    "<div>We are looking the top amoutn of repetition here. This and the plot shows that ignore duration and absolute frequency, there is lots or repetions. Ignore duration, just one note following another, there are high incidences of repeition. If the next relative frequencies and duratsion, this followed by just absolute frequ3ncies, the durations. This says that Jarrett key is not so much an issue, comfortable playing in all keys, playing similiar meolodies and uses rhythm in some way to mask the repetions </div>"
   ]
  },
  {
   "cell_type": "markdown",
   "metadata": {},
   "source": [
    "<div>That is not to say there is no repeition. In fact, nine note There are no identical ten note phrases, but there are two identical nine note phrases in Jarrett, finding there are in fact two</div>"
   ]
  },
  {
   "cell_type": "code",
   "execution_count": 14,
   "metadata": {
    "collapsed": false
   },
   "outputs": [
    {
     "data": {
      "text/html": [
       "<div>\n",
       "<table border=\"1\" class=\"dataframe\">\n",
       "  <thead>\n",
       "    <tr style=\"text-align: right;\">\n",
       "      <th></th>\n",
       "      <th>Title and location</th>\n",
       "      <th>Phrase with absolute frequency and duration</th>\n",
       "      <th>Phrase with relative frequency and duration</th>\n",
       "      <th>Phrase with absolute frequency only</th>\n",
       "      <th>Phrase with duration only</th>\n",
       "      <th>Phrase with relative frequency only</th>\n",
       "    </tr>\n",
       "  </thead>\n",
       "  <tbody>\n",
       "    <tr>\n",
       "      <th>6900</th>\n",
       "      <td>All The Things You Are, measure: 32.0</td>\n",
       "      <td>[63.0, 0.5, -2.0][61.0, 0.5, -5.0][56.0, 0.5, ...</td>\n",
       "      <td>[0.5, -2.0][0.5, -5.0][0.5, -4.0][0.5, -1.0][0...</td>\n",
       "      <td>[63.0][61.0][56.0][52.0][51.0][49.0][48.0][51....</td>\n",
       "      <td>[0.5][0.5][0.5][0.5][0.5][0.5][0.5][0.5][0.5]</td>\n",
       "      <td>[-2.0][-5.0][-4.0][-1.0][-2.0][-1.0][3.0][4.0]...</td>\n",
       "    </tr>\n",
       "    <tr>\n",
       "      <th>7144</th>\n",
       "      <td>All The Things You Are, measure: 68.0</td>\n",
       "      <td>[63.0, 0.5, -2.0][61.0, 0.5, -5.0][56.0, 0.5, ...</td>\n",
       "      <td>[0.5, -2.0][0.5, -5.0][0.5, -4.0][0.5, -1.0][0...</td>\n",
       "      <td>[63.0][61.0][56.0][52.0][51.0][49.0][48.0][51....</td>\n",
       "      <td>[0.5][0.5][0.5][0.5][0.5][0.5][0.5][0.5][0.5]</td>\n",
       "      <td>[-2.0][-5.0][-4.0][-1.0][-2.0][-1.0][3.0][4.0]...</td>\n",
       "    </tr>\n",
       "  </tbody>\n",
       "</table>\n",
       "</div>"
      ],
      "text/plain": [
       "                         Title and location        Phrase with absolute frequency and duration        Phrase with relative frequency and duration                Phrase with absolute frequency only                      Phrase with duration only                Phrase with relative frequency only\n",
       "6900  All The Things You Are, measure: 32.0  [63.0, 0.5, -2.0][61.0, 0.5, -5.0][56.0, 0.5, ...  [0.5, -2.0][0.5, -5.0][0.5, -4.0][0.5, -1.0][0...  [63.0][61.0][56.0][52.0][51.0][49.0][48.0][51....  [0.5][0.5][0.5][0.5][0.5][0.5][0.5][0.5][0.5]  [-2.0][-5.0][-4.0][-1.0][-2.0][-1.0][3.0][4.0]...\n",
       "7144  All The Things You Are, measure: 68.0  [63.0, 0.5, -2.0][61.0, 0.5, -5.0][56.0, 0.5, ...  [0.5, -2.0][0.5, -5.0][0.5, -4.0][0.5, -1.0][0...  [63.0][61.0][56.0][52.0][51.0][49.0][48.0][51....  [0.5][0.5][0.5][0.5][0.5][0.5][0.5][0.5][0.5]  [-2.0][-5.0][-4.0][-1.0][-2.0][-1.0][3.0][4.0]..."
      ]
     },
     "execution_count": 14,
     "metadata": {},
     "output_type": "execute_result"
    }
   ],
   "source": [
    "nineNotephrases[nineNotephrases['Phrase with absolute frequency and duration']== '[63.0, 0.5, -2.0][61.0, 0.5, -5.0][56.0, 0.5, -4.0][52.0, 0.5, -1.0][51.0, 0.5, -2.0][49.0, 0.5, -1.0][48.0, 0.5, 3.0][51.0, 0.5, 4.0][55.0, 0.5, 3.0]']"
   ]
  },
  {
   "cell_type": "code",
   "execution_count": 15,
   "metadata": {
    "collapsed": false
   },
   "outputs": [
    {
     "data": {
      "image/png": "[encoded data removed]",
      "text/plain": [
       "<music21.ipython21.objects.IPythonPNGObject at 0x11744d290>"
      ]
     },
     "execution_count": 15,
     "metadata": {},
     "output_type": "execute_result"
    }
   ],
   "source": [
    "select = muAllTheThingsYouAre.parts[0].measures(32,33)\n",
    "select.show()"
   ]
  },
  {
   "cell_type": "code",
   "execution_count": 16,
   "metadata": {
    "collapsed": false
   },
   "outputs": [
    {
     "data": {
      "image/png": "[encoded data removed]",
      "text/plain": [
       "<music21.ipython21.objects.IPythonPNGObject at 0x1178cc510>"
      ]
     },
     "execution_count": 16,
     "metadata": {},
     "output_type": "execute_result"
    }
   ],
   "source": [
    "select = muAllTheThingsYouAre.parts[0].measures(68,69)\n",
    "select.show()"
   ]
  },
  {
   "cell_type": "markdown",
   "metadata": {},
   "source": [
    "<div>Generally, repetition is very low looking at phrase below tells us that....</div>"
   ]
  },
  {
   "cell_type": "code",
   "execution_count": 17,
   "metadata": {
    "collapsed": false,
    "scrolled": true
   },
   "outputs": [
    {
     "data": {
      "text/plain": [
       "<matplotlib.axes.AxesSubplot at 0x117418210>"
      ]
     },
     "execution_count": 17,
     "metadata": {},
     "output_type": "execute_result"
    },
    {
     "data": {
      "image/png": "[encoded data removed]",
      "text/plain": [
       "<matplotlib.figure.Figure at 0x11741e8d0>"
      ]
     },
     "metadata": {},
     "output_type": "display_data"
    }
   ],
   "source": [
    "repeatingPhrases.plot(kind =\"bar\", title=\"Phrases in Keith Jarrett\")"
   ]
  },
  {
   "cell_type": "markdown",
   "metadata": {},
   "source": [
    "<div>So what do some of these phrases look like? THe data tells us:\n",
    "    <ul>\n",
    "        <li>Play any first  note</li>\n",
    "        <li>Play a second note three semitones higher than the first note</li>\n",
    "        <li>Play a third note four semitones than the second note\n",
    "        <li>Play a fourth note three semitones higher than thethird note</li>\n",
    "        <li>Play a fifth note three semitones lower than the fourth note</li>\n",
    "        <li>Play a sixth note one semitone lower than the fifth note</li>\n",
    "        \n",
    "    </ul>\n",
    "\n",
    "\n",
    "</div>"
   ]
  },
  {
   "cell_type": "code",
   "execution_count": 18,
   "metadata": {
    "collapsed": false
   },
   "outputs": [
    {
     "data": {
      "text/html": [
       "<div>\n",
       "<table border=\"1\" class=\"dataframe\">\n",
       "  <thead>\n",
       "    <tr style=\"text-align: right;\">\n",
       "      <th></th>\n",
       "      <th>Title and location</th>\n",
       "      <th>Phrase with absolute frequency and duration</th>\n",
       "      <th>Phrase with relative frequency and duration</th>\n",
       "      <th>Phrase with absolute frequency only</th>\n",
       "      <th>Phrase with duration only</th>\n",
       "      <th>Phrase with relative frequency only</th>\n",
       "    </tr>\n",
       "  </thead>\n",
       "  <tbody>\n",
       "    <tr>\n",
       "      <th>127</th>\n",
       "      <td>Stella By Starlight, measure: 19.0</td>\n",
       "      <td>[62.0, 0.5, 3.0][65.0, 0.5, 4.0][69.0, 0.5, 3....</td>\n",
       "      <td>[0.5, 3.0][0.5, 4.0][0.5, 3.0][0.5, -3.0][0.5,...</td>\n",
       "      <td>[62.0][65.0][69.0][72.0][69.0]</td>\n",
       "      <td>[0.5][0.5][0.5][0.5][0.5]</td>\n",
       "      <td>[3.0][4.0][3.0][-3.0][1.0]</td>\n",
       "    </tr>\n",
       "    <tr>\n",
       "      <th>225</th>\n",
       "      <td>Stella By Starlight, measure: 33.0</td>\n",
       "      <td>[55.0, 0.33, 3.0][58.0, 0.33, 4.0][62.0, 0.33,...</td>\n",
       "      <td>[0.33, 3.0][0.33, 4.0][0.33, 3.0][0.33, -3.0][...</td>\n",
       "      <td>[55.0][58.0][62.0][65.0][62.0]</td>\n",
       "      <td>[0.33][0.33][0.33][0.33][0.33]</td>\n",
       "      <td>[3.0][4.0][3.0][-3.0][1.0]</td>\n",
       "    </tr>\n",
       "    <tr>\n",
       "      <th>412</th>\n",
       "      <td>Stella By Starlight, measure: 55.0</td>\n",
       "      <td>[50.0, 0.25, 3.0][53.0, 0.25, 4.0][57.0, 0.25,...</td>\n",
       "      <td>[0.25, 3.0][0.25, 4.0][0.25, 3.0][0.25, -3.0][...</td>\n",
       "      <td>[50.0][53.0][57.0][60.0][57.0]</td>\n",
       "      <td>[0.25][0.25][0.25][0.25][0.25]</td>\n",
       "      <td>[3.0][4.0][3.0][-3.0][1.0]</td>\n",
       "    </tr>\n",
       "    <tr>\n",
       "      <th>494</th>\n",
       "      <td>Stella By Starlight, measure: 64.0</td>\n",
       "      <td>[50.0, 0.66, 3.0][53.0, 0.66, 4.0][57.0, 0.5, ...</td>\n",
       "      <td>[0.66, 3.0][0.66, 4.0][0.5, 3.0][0.5, -3.0][0....</td>\n",
       "      <td>[50.0][53.0][57.0][60.0][57.0]</td>\n",
       "      <td>[0.66][0.66][0.5][0.5][0.33]</td>\n",
       "      <td>[3.0][4.0][3.0][-3.0][1.0]</td>\n",
       "    </tr>\n",
       "    <tr>\n",
       "      <th>1246</th>\n",
       "      <td>Stella By Starlight, measure: 137.0</td>\n",
       "      <td>[50.0, 0.25, 3.0][53.0, 0.25, 4.0][57.0, 0.25,...</td>\n",
       "      <td>[0.25, 3.0][0.25, 4.0][0.25, 3.0][0.25, -3.0][...</td>\n",
       "      <td>[50.0][53.0][57.0][60.0][57.0]</td>\n",
       "      <td>[0.25][0.25][0.25][0.25][0.25]</td>\n",
       "      <td>[3.0][4.0][3.0][-3.0][1.0]</td>\n",
       "    </tr>\n",
       "    <tr>\n",
       "      <th>1285</th>\n",
       "      <td>Stella By Starlight, measure: 139.0</td>\n",
       "      <td>[53.0, 0.25, 3.0][56.0, 0.25, 4.0][60.0, 0.25,...</td>\n",
       "      <td>[0.25, 3.0][0.25, 4.0][0.25, 3.0][0.25, -3.0][...</td>\n",
       "      <td>[53.0][56.0][60.0][63.0][60.0]</td>\n",
       "      <td>[0.25][0.25][0.25][0.25][0.25]</td>\n",
       "      <td>[3.0][4.0][3.0][-3.0][1.0]</td>\n",
       "    </tr>\n",
       "    <tr>\n",
       "      <th>1650</th>\n",
       "      <td>Groovin High, measure: 15.0</td>\n",
       "      <td>[55.0, 0.5, 3.0][58.0, 0.5, 4.0][62.0, 0.5, 3....</td>\n",
       "      <td>[0.5, 3.0][0.5, 4.0][0.5, 3.0][0.5, -3.0][0.5,...</td>\n",
       "      <td>[55.0][58.0][62.0][65.0][62.0]</td>\n",
       "      <td>[0.5][0.5][0.5][0.5][0.5]</td>\n",
       "      <td>[3.0][4.0][3.0][-3.0][1.0]</td>\n",
       "    </tr>\n",
       "    <tr>\n",
       "      <th>1695</th>\n",
       "      <td>Groovin High, measure: 21.0</td>\n",
       "      <td>[57.0, 0.5, 3.0][60.0, 0.5, 4.0][64.0, 0.5, 3....</td>\n",
       "      <td>[0.5, 3.0][0.5, 4.0][0.5, 3.0][0.5, -3.0][0.5,...</td>\n",
       "      <td>[57.0][60.0][64.0][67.0][64.0]</td>\n",
       "      <td>[0.5][0.5][0.5][0.5][0.5]</td>\n",
       "      <td>[3.0][4.0][3.0][-3.0][1.0]</td>\n",
       "    </tr>\n",
       "    <tr>\n",
       "      <th>1721</th>\n",
       "      <td>Groovin High, measure: 25.0</td>\n",
       "      <td>[55.0, 0.5, 3.0][58.0, 0.5, 4.0][62.0, 0.5, 3....</td>\n",
       "      <td>[0.5, 3.0][0.5, 4.0][0.5, 3.0][0.5, -3.0][0.5,...</td>\n",
       "      <td>[55.0][58.0][62.0][65.0][62.0]</td>\n",
       "      <td>[0.5][0.5][0.5][0.5][0.5]</td>\n",
       "      <td>[3.0][4.0][3.0][-3.0][1.0]</td>\n",
       "    </tr>\n",
       "    <tr>\n",
       "      <th>2047</th>\n",
       "      <td>Groovin High, measure: 79.0</td>\n",
       "      <td>[62.0, 0.5, 3.0][65.0, 0.5, 4.0][69.0, 0.5, 3....</td>\n",
       "      <td>[0.5, 3.0][0.5, 4.0][0.5, 3.0][0.5, -3.0][0.5,...</td>\n",
       "      <td>[62.0][65.0][69.0][72.0][69.0]</td>\n",
       "      <td>[0.5][0.5][0.5][0.5][0.5]</td>\n",
       "      <td>[3.0][4.0][3.0][-3.0][1.0]</td>\n",
       "    </tr>\n",
       "    <tr>\n",
       "      <th>2104</th>\n",
       "      <td>Groovin High, measure: 88.0</td>\n",
       "      <td>[55.0, 0.5, 3.0][58.0, 0.5, 4.0][62.0, 0.5, 3....</td>\n",
       "      <td>[0.5, 3.0][0.5, 4.0][0.5, 3.0][0.5, -3.0][0.5,...</td>\n",
       "      <td>[55.0][58.0][62.0][65.0][62.0]</td>\n",
       "      <td>[0.5][0.5][0.5][0.5][0.5]</td>\n",
       "      <td>[3.0][4.0][3.0][-3.0][1.0]</td>\n",
       "    </tr>\n",
       "    <tr>\n",
       "      <th>2806</th>\n",
       "      <td>Groovin High, measure: 199.0</td>\n",
       "      <td>[62.0, 0.5, 3.0][65.0, 0.5, 4.0][69.0, 0.5, 3....</td>\n",
       "      <td>[0.5, 3.0][0.5, 4.0][0.5, 3.0][0.5, -3.0][0.5,...</td>\n",
       "      <td>[62.0][65.0][69.0][72.0][69.0]</td>\n",
       "      <td>[0.5][0.5][0.5][0.5][0.5]</td>\n",
       "      <td>[3.0][4.0][3.0][-3.0][1.0]</td>\n",
       "    </tr>\n",
       "    <tr>\n",
       "      <th>2964</th>\n",
       "      <td>Groovin High, measure: 230.0</td>\n",
       "      <td>[53.0, 0.5, 3.0][56.0, 0.5, 4.0][60.0, 0.5, 3....</td>\n",
       "      <td>[0.5, 3.0][0.5, 4.0][0.5, 3.0][0.5, -3.0][0.5,...</td>\n",
       "      <td>[53.0][56.0][60.0][63.0][60.0]</td>\n",
       "      <td>[0.5][0.5][0.5][0.5][0.5]</td>\n",
       "      <td>[3.0][4.0][3.0][-3.0][1.0]</td>\n",
       "    </tr>\n",
       "    <tr>\n",
       "      <th>3199</th>\n",
       "      <td>Groovin High, measure: 266.0</td>\n",
       "      <td>[50.0, 0.5, 3.0][53.0, 0.5, 4.0][57.0, 0.5, 3....</td>\n",
       "      <td>[0.5, 3.0][0.5, 4.0][0.5, 3.0][0.25, -3.0][0.7...</td>\n",
       "      <td>[50.0][53.0][57.0][60.0][57.0]</td>\n",
       "      <td>[0.5][0.5][0.5][0.25][0.75]</td>\n",
       "      <td>[3.0][4.0][3.0][-3.0][1.0]</td>\n",
       "    </tr>\n",
       "    <tr>\n",
       "      <th>4543</th>\n",
       "      <td>Autumn Leaves, measure: 166.0</td>\n",
       "      <td>[50.0, 0.33, 3.0][53.0, 0.33, 4.0][57.0, 0.33,...</td>\n",
       "      <td>[0.33, 3.0][0.33, 4.0][0.33, 3.0][0.33, -3.0][...</td>\n",
       "      <td>[50.0][53.0][57.0][60.0][57.0]</td>\n",
       "      <td>[0.33][0.33][0.33][0.33][0.33]</td>\n",
       "      <td>[3.0][4.0][3.0][-3.0][1.0]</td>\n",
       "    </tr>\n",
       "    <tr>\n",
       "      <th>4611</th>\n",
       "      <td>If I Were A Bell, measure: 2.0</td>\n",
       "      <td>[48.0, 0.5, 3.0][51.0, 0.5, 4.0][55.0, 0.5, 3....</td>\n",
       "      <td>[0.5, 3.0][0.5, 4.0][0.5, 3.0][0.5, -3.0][0.5,...</td>\n",
       "      <td>[48.0][51.0][55.0][58.0][55.0]</td>\n",
       "      <td>[0.5][0.5][0.5][0.5][0.5]</td>\n",
       "      <td>[3.0][4.0][3.0][-3.0][1.0]</td>\n",
       "    </tr>\n",
       "    <tr>\n",
       "      <th>6329</th>\n",
       "      <td>If I Were A Bell, measure: 202.0</td>\n",
       "      <td>[53.0, 0.25, 3.0][56.0, 0.25, 4.0][60.0, 0.25,...</td>\n",
       "      <td>[0.25, 3.0][0.25, 4.0][0.25, 3.0][0.25, -3.0][...</td>\n",
       "      <td>[53.0][56.0][60.0][63.0][60.0]</td>\n",
       "      <td>[0.25][0.25][0.25][0.25][0.25]</td>\n",
       "      <td>[3.0][4.0][3.0][-3.0][1.0]</td>\n",
       "    </tr>\n",
       "    <tr>\n",
       "      <th>7234</th>\n",
       "      <td>All The Things You Are, measure: 80.0</td>\n",
       "      <td>[52.0, 0.5, 3.0][55.0, 0.5, 4.0][59.0, 0.5, 3....</td>\n",
       "      <td>[0.5, 3.0][0.5, 4.0][0.5, 3.0][0.5, -3.0][0.5,...</td>\n",
       "      <td>[52.0][55.0][59.0][62.0][59.0]</td>\n",
       "      <td>[0.5][0.5][0.5][0.5][0.5]</td>\n",
       "      <td>[3.0][4.0][3.0][-3.0][1.0]</td>\n",
       "    </tr>\n",
       "    <tr>\n",
       "      <th>7367</th>\n",
       "      <td>All The Things You Are, measure: 99.0</td>\n",
       "      <td>[48.0, 0.5, 3.0][51.0, 0.5, 4.0][55.0, 0.5, 3....</td>\n",
       "      <td>[0.5, 3.0][0.5, 4.0][0.5, 3.0][0.5, -3.0][0.5,...</td>\n",
       "      <td>[48.0][51.0][55.0][58.0][55.0]</td>\n",
       "      <td>[0.5][0.5][0.5][0.5][0.5]</td>\n",
       "      <td>[3.0][4.0][3.0][-3.0][1.0]</td>\n",
       "    </tr>\n",
       "    <tr>\n",
       "      <th>7560</th>\n",
       "      <td>All The Things You Are, measure: 122.0</td>\n",
       "      <td>[55.0, 0.33, 3.0][58.0, 0.33, 4.0][62.0, 0.33,...</td>\n",
       "      <td>[0.33, 3.0][0.33, 4.0][0.33, 3.0][0.33, -3.0][...</td>\n",
       "      <td>[55.0][58.0][62.0][65.0][62.0]</td>\n",
       "      <td>[0.33][0.33][0.33][0.33][0.33]</td>\n",
       "      <td>[3.0][4.0][3.0][-3.0][1.0]</td>\n",
       "    </tr>\n",
       "    <tr>\n",
       "      <th>8364</th>\n",
       "      <td>All The Things You Are, measure: 237.0</td>\n",
       "      <td>[47.0, 0.5, 3.0][50.0, 0.5, 4.0][54.0, 0.5, 3....</td>\n",
       "      <td>[0.5, 3.0][0.5, 4.0][0.5, 3.0][0.5, -3.0][0.5,...</td>\n",
       "      <td>[47.0][50.0][54.0][57.0][54.0]</td>\n",
       "      <td>[0.5][0.5][0.5][0.5][0.5]</td>\n",
       "      <td>[3.0][4.0][3.0][-3.0][1.0]</td>\n",
       "    </tr>\n",
       "    <tr>\n",
       "      <th>8575</th>\n",
       "      <td>All The Things You Are, measure: 268.0</td>\n",
       "      <td>[47.0, 0.5, 3.0][50.0, 0.5, 4.0][54.0, 0.5, 3....</td>\n",
       "      <td>[0.5, 3.0][0.5, 4.0][0.5, 3.0][0.5, -3.0][0.5,...</td>\n",
       "      <td>[47.0][50.0][54.0][57.0][54.0]</td>\n",
       "      <td>[0.5][0.5][0.5][0.5][0.5]</td>\n",
       "      <td>[3.0][4.0][3.0][-3.0][1.0]</td>\n",
       "    </tr>\n",
       "  </tbody>\n",
       "</table>\n",
       "</div>"
      ],
      "text/plain": [
       "                          Title and location        Phrase with absolute frequency and duration        Phrase with relative frequency and duration Phrase with absolute frequency only       Phrase with duration only Phrase with relative frequency only\n",
       "127       Stella By Starlight, measure: 19.0  [62.0, 0.5, 3.0][65.0, 0.5, 4.0][69.0, 0.5, 3....  [0.5, 3.0][0.5, 4.0][0.5, 3.0][0.5, -3.0][0.5,...      [62.0][65.0][69.0][72.0][69.0]       [0.5][0.5][0.5][0.5][0.5]          [3.0][4.0][3.0][-3.0][1.0]\n",
       "225       Stella By Starlight, measure: 33.0  [55.0, 0.33, 3.0][58.0, 0.33, 4.0][62.0, 0.33,...  [0.33, 3.0][0.33, 4.0][0.33, 3.0][0.33, -3.0][...      [55.0][58.0][62.0][65.0][62.0]  [0.33][0.33][0.33][0.33][0.33]          [3.0][4.0][3.0][-3.0][1.0]\n",
       "412       Stella By Starlight, measure: 55.0  [50.0, 0.25, 3.0][53.0, 0.25, 4.0][57.0, 0.25,...  [0.25, 3.0][0.25, 4.0][0.25, 3.0][0.25, -3.0][...      [50.0][53.0][57.0][60.0][57.0]  [0.25][0.25][0.25][0.25][0.25]          [3.0][4.0][3.0][-3.0][1.0]\n",
       "494       Stella By Starlight, measure: 64.0  [50.0, 0.66, 3.0][53.0, 0.66, 4.0][57.0, 0.5, ...  [0.66, 3.0][0.66, 4.0][0.5, 3.0][0.5, -3.0][0....      [50.0][53.0][57.0][60.0][57.0]    [0.66][0.66][0.5][0.5][0.33]          [3.0][4.0][3.0][-3.0][1.0]\n",
       "1246     Stella By Starlight, measure: 137.0  [50.0, 0.25, 3.0][53.0, 0.25, 4.0][57.0, 0.25,...  [0.25, 3.0][0.25, 4.0][0.25, 3.0][0.25, -3.0][...      [50.0][53.0][57.0][60.0][57.0]  [0.25][0.25][0.25][0.25][0.25]          [3.0][4.0][3.0][-3.0][1.0]\n",
       "1285     Stella By Starlight, measure: 139.0  [53.0, 0.25, 3.0][56.0, 0.25, 4.0][60.0, 0.25,...  [0.25, 3.0][0.25, 4.0][0.25, 3.0][0.25, -3.0][...      [53.0][56.0][60.0][63.0][60.0]  [0.25][0.25][0.25][0.25][0.25]          [3.0][4.0][3.0][-3.0][1.0]\n",
       "1650             Groovin High, measure: 15.0  [55.0, 0.5, 3.0][58.0, 0.5, 4.0][62.0, 0.5, 3....  [0.5, 3.0][0.5, 4.0][0.5, 3.0][0.5, -3.0][0.5,...      [55.0][58.0][62.0][65.0][62.0]       [0.5][0.5][0.5][0.5][0.5]          [3.0][4.0][3.0][-3.0][1.0]\n",
       "1695             Groovin High, measure: 21.0  [57.0, 0.5, 3.0][60.0, 0.5, 4.0][64.0, 0.5, 3....  [0.5, 3.0][0.5, 4.0][0.5, 3.0][0.5, -3.0][0.5,...      [57.0][60.0][64.0][67.0][64.0]       [0.5][0.5][0.5][0.5][0.5]          [3.0][4.0][3.0][-3.0][1.0]\n",
       "1721             Groovin High, measure: 25.0  [55.0, 0.5, 3.0][58.0, 0.5, 4.0][62.0, 0.5, 3....  [0.5, 3.0][0.5, 4.0][0.5, 3.0][0.5, -3.0][0.5,...      [55.0][58.0][62.0][65.0][62.0]       [0.5][0.5][0.5][0.5][0.5]          [3.0][4.0][3.0][-3.0][1.0]\n",
       "2047             Groovin High, measure: 79.0  [62.0, 0.5, 3.0][65.0, 0.5, 4.0][69.0, 0.5, 3....  [0.5, 3.0][0.5, 4.0][0.5, 3.0][0.5, -3.0][0.5,...      [62.0][65.0][69.0][72.0][69.0]       [0.5][0.5][0.5][0.5][0.5]          [3.0][4.0][3.0][-3.0][1.0]\n",
       "2104             Groovin High, measure: 88.0  [55.0, 0.5, 3.0][58.0, 0.5, 4.0][62.0, 0.5, 3....  [0.5, 3.0][0.5, 4.0][0.5, 3.0][0.5, -3.0][0.5,...      [55.0][58.0][62.0][65.0][62.0]       [0.5][0.5][0.5][0.5][0.5]          [3.0][4.0][3.0][-3.0][1.0]\n",
       "2806            Groovin High, measure: 199.0  [62.0, 0.5, 3.0][65.0, 0.5, 4.0][69.0, 0.5, 3....  [0.5, 3.0][0.5, 4.0][0.5, 3.0][0.5, -3.0][0.5,...      [62.0][65.0][69.0][72.0][69.0]       [0.5][0.5][0.5][0.5][0.5]          [3.0][4.0][3.0][-3.0][1.0]\n",
       "2964            Groovin High, measure: 230.0  [53.0, 0.5, 3.0][56.0, 0.5, 4.0][60.0, 0.5, 3....  [0.5, 3.0][0.5, 4.0][0.5, 3.0][0.5, -3.0][0.5,...      [53.0][56.0][60.0][63.0][60.0]       [0.5][0.5][0.5][0.5][0.5]          [3.0][4.0][3.0][-3.0][1.0]\n",
       "3199            Groovin High, measure: 266.0  [50.0, 0.5, 3.0][53.0, 0.5, 4.0][57.0, 0.5, 3....  [0.5, 3.0][0.5, 4.0][0.5, 3.0][0.25, -3.0][0.7...      [50.0][53.0][57.0][60.0][57.0]     [0.5][0.5][0.5][0.25][0.75]          [3.0][4.0][3.0][-3.0][1.0]\n",
       "4543           Autumn Leaves, measure: 166.0  [50.0, 0.33, 3.0][53.0, 0.33, 4.0][57.0, 0.33,...  [0.33, 3.0][0.33, 4.0][0.33, 3.0][0.33, -3.0][...      [50.0][53.0][57.0][60.0][57.0]  [0.33][0.33][0.33][0.33][0.33]          [3.0][4.0][3.0][-3.0][1.0]\n",
       "4611          If I Were A Bell, measure: 2.0  [48.0, 0.5, 3.0][51.0, 0.5, 4.0][55.0, 0.5, 3....  [0.5, 3.0][0.5, 4.0][0.5, 3.0][0.5, -3.0][0.5,...      [48.0][51.0][55.0][58.0][55.0]       [0.5][0.5][0.5][0.5][0.5]          [3.0][4.0][3.0][-3.0][1.0]\n",
       "6329        If I Were A Bell, measure: 202.0  [53.0, 0.25, 3.0][56.0, 0.25, 4.0][60.0, 0.25,...  [0.25, 3.0][0.25, 4.0][0.25, 3.0][0.25, -3.0][...      [53.0][56.0][60.0][63.0][60.0]  [0.25][0.25][0.25][0.25][0.25]          [3.0][4.0][3.0][-3.0][1.0]\n",
       "7234   All The Things You Are, measure: 80.0  [52.0, 0.5, 3.0][55.0, 0.5, 4.0][59.0, 0.5, 3....  [0.5, 3.0][0.5, 4.0][0.5, 3.0][0.5, -3.0][0.5,...      [52.0][55.0][59.0][62.0][59.0]       [0.5][0.5][0.5][0.5][0.5]          [3.0][4.0][3.0][-3.0][1.0]\n",
       "7367   All The Things You Are, measure: 99.0  [48.0, 0.5, 3.0][51.0, 0.5, 4.0][55.0, 0.5, 3....  [0.5, 3.0][0.5, 4.0][0.5, 3.0][0.5, -3.0][0.5,...      [48.0][51.0][55.0][58.0][55.0]       [0.5][0.5][0.5][0.5][0.5]          [3.0][4.0][3.0][-3.0][1.0]\n",
       "7560  All The Things You Are, measure: 122.0  [55.0, 0.33, 3.0][58.0, 0.33, 4.0][62.0, 0.33,...  [0.33, 3.0][0.33, 4.0][0.33, 3.0][0.33, -3.0][...      [55.0][58.0][62.0][65.0][62.0]  [0.33][0.33][0.33][0.33][0.33]          [3.0][4.0][3.0][-3.0][1.0]\n",
       "8364  All The Things You Are, measure: 237.0  [47.0, 0.5, 3.0][50.0, 0.5, 4.0][54.0, 0.5, 3....  [0.5, 3.0][0.5, 4.0][0.5, 3.0][0.5, -3.0][0.5,...      [47.0][50.0][54.0][57.0][54.0]       [0.5][0.5][0.5][0.5][0.5]          [3.0][4.0][3.0][-3.0][1.0]\n",
       "8575  All The Things You Are, measure: 268.0  [47.0, 0.5, 3.0][50.0, 0.5, 4.0][54.0, 0.5, 3....  [0.5, 3.0][0.5, 4.0][0.5, 3.0][0.5, -3.0][0.5,...      [47.0][50.0][54.0][57.0][54.0]       [0.5][0.5][0.5][0.5][0.5]          [3.0][4.0][3.0][-3.0][1.0]"
      ]
     },
     "execution_count": 18,
     "metadata": {},
     "output_type": "execute_result"
    }
   ],
   "source": [
    "fiveNotephrases[fiveNotephrases['Phrase with relative frequency only']== '[3.0][4.0][3.0][-3.0][1.0]']"
   ]
  },
  {
   "cell_type": "markdown",
   "metadata": {},
   "source": [
    "<div>First examples is starting on the D note, continuing for 5 note pattern</div>"
   ]
  },
  {
   "cell_type": "code",
   "execution_count": 19,
   "metadata": {
    "collapsed": false
   },
   "outputs": [
    {
     "data": {
      "text/plain": [
       "[3.0][4.0][3.0][-3.0][1.0]    22\n",
       "dtype: int64"
      ]
     },
     "execution_count": 19,
     "metadata": {},
     "output_type": "execute_result"
    }
   ],
   "source": [
    "fiveNotephrases['Phrase with relative frequency only'].value_counts()[0:1]"
   ]
  },
  {
   "cell_type": "code",
   "execution_count": 20,
   "metadata": {
    "collapsed": false
   },
   "outputs": [
    {
     "data": {
      "image/png": "[encoded data removed]",
      "text/plain": [
       "<music21.ipython21.objects.IPythonPNGObject at 0x1178cdc50>"
      ]
     },
     "execution_count": 20,
     "metadata": {},
     "output_type": "execute_result"
    }
   ],
   "source": [
    "select = muStellaByStarlight.parts[0].measures(19,20)\n",
    "select.show()"
   ]
  },
  {
   "cell_type": "markdown",
   "metadata": {},
   "source": [
    "<div>Second example is same key</div>"
   ]
  },
  {
   "cell_type": "code",
   "execution_count": 21,
   "metadata": {
    "collapsed": false
   },
   "outputs": [
    {
     "data": {
      "image/png": "[encoded data removed]",
      "text/plain": [
       "<music21.ipython21.objects.IPythonPNGObject at 0x1173f4a90>"
      ]
     },
     "execution_count": 21,
     "metadata": {},
     "output_type": "execute_result"
    }
   ],
   "source": [
    "select = muStellaByStarlight.parts[0].measures(55,56)\n",
    "select.show()"
   ]
  },
  {
   "cell_type": "markdown",
   "metadata": {},
   "source": [
    "<div>Third example is A minor seventh</div>"
   ]
  },
  {
   "cell_type": "code",
   "execution_count": 22,
   "metadata": {
    "collapsed": false
   },
   "outputs": [
    {
     "data": {
      "image/png": "[encoded data removed]",
      "text/plain": [
       "<music21.ipython21.objects.IPythonPNGObject at 0x117529790>"
      ]
     },
     "execution_count": 22,
     "metadata": {},
     "output_type": "execute_result"
    }
   ],
   "source": [
    "select = muGroovinHigh.parts[0].measures(21,22)\n",
    "select.show()"
   ]
  },
  {
   "cell_type": "markdown",
   "metadata": {},
   "source": [
    "<div>Fourth example is D minor seventh</div>"
   ]
  },
  {
   "cell_type": "code",
   "execution_count": 23,
   "metadata": {
    "collapsed": false
   },
   "outputs": [
    {
     "data": {
      "image/png": "[encoded data removed]",
      "text/plain": [
       "<music21.ipython21.objects.IPythonPNGObject at 0x117525f50>"
      ]
     },
     "execution_count": 23,
     "metadata": {},
     "output_type": "execute_result"
    }
   ],
   "source": [
    "select = muAllTheThingsYouAre.parts[0].measures(99,100)\n",
    "select.show()"
   ]
  },
  {
   "cell_type": "markdown",
   "metadata": {},
   "source": [
    "<div>Chapter six will take up this further, depth, search for examples can be made easy, aural excerside, learnig jazz, what shuld be learning in different keys, but this is an idiomatic melodic device</div>"
   ]
  },
  {
   "cell_type": "markdown",
   "metadata": {},
   "source": [
    "<div>Puttin in durations is an issue, because duration doesnt seem related - lets include it...</div>"
   ]
  },
  {
   "cell_type": "code",
   "execution_count": 24,
   "metadata": {
    "collapsed": true
   },
   "outputs": [],
   "source": [
    "repeatingPhrases['Phrases that have the same durations'] =  arrayFive"
   ]
  },
  {
   "cell_type": "code",
   "execution_count": 25,
   "metadata": {
    "collapsed": false
   },
   "outputs": [
    {
     "data": {
      "text/plain": [
       "<matplotlib.axes.AxesSubplot at 0x1188d5c10>"
      ]
     },
     "execution_count": 25,
     "metadata": {},
     "output_type": "execute_result"
    },
    {
     "data": {
      "image/png": "[encoded data removed]",
      "text/plain": [
       "<matplotlib.figure.Figure at 0x117476190>"
      ]
     },
     "metadata": {},
     "output_type": "display_data"
    }
   ],
   "source": [
    "repeatingPhrases.plot(kind =\"bar\", title=\"Phrases in Keith Jarrett solos\")"
   ]
  },
  {
   "cell_type": "markdown",
   "metadata": {},
   "source": [
    "<div>Even ten note examples - have same durations - almost 2000 examples of 10 notes phrases, aspect of modern jazz tendency to play even phrases. This is partly inflated number as 15 note phrase will be counted as 5 identical prhases</div>"
   ]
  },
  {
   "cell_type": "code",
   "execution_count": 26,
   "metadata": {
    "collapsed": false
   },
   "outputs": [
    {
     "data": {
      "text/plain": [
       "[0.5][0.5][0.5][0.5][0.5][0.5][0.5][0.5][0.5][0.5]    1907\n",
       "dtype: int64"
      ]
     },
     "execution_count": 26,
     "metadata": {},
     "output_type": "execute_result"
    }
   ],
   "source": [
    "tenNotephrases['Phrase with duration only'].value_counts()[0:1]"
   ]
  },
  {
   "cell_type": "markdown",
   "metadata": {},
   "source": [
    "<div>So what about some actual examples</div>"
   ]
  },
  {
   "cell_type": "code",
   "execution_count": 27,
   "metadata": {
    "collapsed": false
   },
   "outputs": [
    {
     "data": {
      "text/html": [
       "<div>\n",
       "<table border=\"1\" class=\"dataframe\">\n",
       "  <thead>\n",
       "    <tr style=\"text-align: right;\">\n",
       "      <th></th>\n",
       "      <th>Title and location</th>\n",
       "      <th>Phrase with absolute frequency and duration</th>\n",
       "      <th>Phrase with relative frequency and duration</th>\n",
       "      <th>Phrase with absolute frequency only</th>\n",
       "      <th>Phrase with duration only</th>\n",
       "      <th>Phrase with relative frequency only</th>\n",
       "    </tr>\n",
       "  </thead>\n",
       "  <tbody>\n",
       "    <tr>\n",
       "      <th>88</th>\n",
       "      <td>Stella By Starlight, measure: 13.0</td>\n",
       "      <td>[60.0, 0.5, 10.0][70.0, 0.5, -1.0][69.0, 0.5, ...</td>\n",
       "      <td>[0.5, 10.0][0.5, -1.0][0.5, -2.0][0.5, -2.0][0...</td>\n",
       "      <td>[60.0][70.0][69.0][67.0][65.0][64.0][62.0][60....</td>\n",
       "      <td>[0.5][0.5][0.5][0.5][0.5][0.5][0.5][0.5][0.5][...</td>\n",
       "      <td>[10.0][-1.0][-2.0][-2.0][-1.0][-2.0][-2.0][-2....</td>\n",
       "    </tr>\n",
       "    <tr>\n",
       "      <th>89</th>\n",
       "      <td>Stella By Starlight, measure: 13.0</td>\n",
       "      <td>[70.0, 0.5, -1.0][69.0, 0.5, -2.0][67.0, 0.5, ...</td>\n",
       "      <td>[0.5, -1.0][0.5, -2.0][0.5, -2.0][0.5, -1.0][0...</td>\n",
       "      <td>[70.0][69.0][67.0][65.0][64.0][62.0][60.0][58....</td>\n",
       "      <td>[0.5][0.5][0.5][0.5][0.5][0.5][0.5][0.5][0.5][...</td>\n",
       "      <td>[-1.0][-2.0][-2.0][-1.0][-2.0][-2.0][-2.0][-1....</td>\n",
       "    </tr>\n",
       "    <tr>\n",
       "      <th>90</th>\n",
       "      <td>Stella By Starlight, measure: 13.0</td>\n",
       "      <td>[69.0, 0.5, -2.0][67.0, 0.5, -2.0][65.0, 0.5, ...</td>\n",
       "      <td>[0.5, -2.0][0.5, -2.0][0.5, -1.0][0.5, -2.0][0...</td>\n",
       "      <td>[69.0][67.0][65.0][64.0][62.0][60.0][58.0][57....</td>\n",
       "      <td>[0.5][0.5][0.5][0.5][0.5][0.5][0.5][0.5][0.5][...</td>\n",
       "      <td>[-2.0][-2.0][-1.0][-2.0][-2.0][-2.0][-1.0][-2....</td>\n",
       "    </tr>\n",
       "    <tr>\n",
       "      <th>91</th>\n",
       "      <td>Stella By Starlight, measure: 13.0</td>\n",
       "      <td>[67.0, 0.5, -2.0][65.0, 0.5, -1.0][64.0, 0.5, ...</td>\n",
       "      <td>[0.5, -2.0][0.5, -1.0][0.5, -2.0][0.5, -2.0][0...</td>\n",
       "      <td>[67.0][65.0][64.0][62.0][60.0][58.0][57.0][55....</td>\n",
       "      <td>[0.5][0.5][0.5][0.5][0.5][0.5][0.5][0.5][0.5][...</td>\n",
       "      <td>[-2.0][-1.0][-2.0][-2.0][-2.0][-1.0][-2.0][-1....</td>\n",
       "    </tr>\n",
       "    <tr>\n",
       "      <th>92</th>\n",
       "      <td>Stella By Starlight, measure: 13.0</td>\n",
       "      <td>[65.0, 0.5, -1.0][64.0, 0.5, -2.0][62.0, 0.5, ...</td>\n",
       "      <td>[0.5, -1.0][0.5, -2.0][0.5, -2.0][0.5, -2.0][0...</td>\n",
       "      <td>[65.0][64.0][62.0][60.0][58.0][57.0][55.0][54....</td>\n",
       "      <td>[0.5][0.5][0.5][0.5][0.5][0.5][0.5][0.5][0.5][...</td>\n",
       "      <td>[-1.0][-2.0][-2.0][-2.0][-1.0][-2.0][-1.0][1.0...</td>\n",
       "    </tr>\n",
       "  </tbody>\n",
       "</table>\n",
       "</div>"
      ],
      "text/plain": [
       "                    Title and location        Phrase with absolute frequency and duration        Phrase with relative frequency and duration                Phrase with absolute frequency only                          Phrase with duration only                Phrase with relative frequency only\n",
       "88  Stella By Starlight, measure: 13.0  [60.0, 0.5, 10.0][70.0, 0.5, -1.0][69.0, 0.5, ...  [0.5, 10.0][0.5, -1.0][0.5, -2.0][0.5, -2.0][0...  [60.0][70.0][69.0][67.0][65.0][64.0][62.0][60....  [0.5][0.5][0.5][0.5][0.5][0.5][0.5][0.5][0.5][...  [10.0][-1.0][-2.0][-2.0][-1.0][-2.0][-2.0][-2....\n",
       "89  Stella By Starlight, measure: 13.0  [70.0, 0.5, -1.0][69.0, 0.5, -2.0][67.0, 0.5, ...  [0.5, -1.0][0.5, -2.0][0.5, -2.0][0.5, -1.0][0...  [70.0][69.0][67.0][65.0][64.0][62.0][60.0][58....  [0.5][0.5][0.5][0.5][0.5][0.5][0.5][0.5][0.5][...  [-1.0][-2.0][-2.0][-1.0][-2.0][-2.0][-2.0][-1....\n",
       "90  Stella By Starlight, measure: 13.0  [69.0, 0.5, -2.0][67.0, 0.5, -2.0][65.0, 0.5, ...  [0.5, -2.0][0.5, -2.0][0.5, -1.0][0.5, -2.0][0...  [69.0][67.0][65.0][64.0][62.0][60.0][58.0][57....  [0.5][0.5][0.5][0.5][0.5][0.5][0.5][0.5][0.5][...  [-2.0][-2.0][-1.0][-2.0][-2.0][-2.0][-1.0][-2....\n",
       "91  Stella By Starlight, measure: 13.0  [67.0, 0.5, -2.0][65.0, 0.5, -1.0][64.0, 0.5, ...  [0.5, -2.0][0.5, -1.0][0.5, -2.0][0.5, -2.0][0...  [67.0][65.0][64.0][62.0][60.0][58.0][57.0][55....  [0.5][0.5][0.5][0.5][0.5][0.5][0.5][0.5][0.5][...  [-2.0][-1.0][-2.0][-2.0][-2.0][-1.0][-2.0][-1....\n",
       "92  Stella By Starlight, measure: 13.0  [65.0, 0.5, -1.0][64.0, 0.5, -2.0][62.0, 0.5, ...  [0.5, -1.0][0.5, -2.0][0.5, -2.0][0.5, -2.0][0...  [65.0][64.0][62.0][60.0][58.0][57.0][55.0][54....  [0.5][0.5][0.5][0.5][0.5][0.5][0.5][0.5][0.5][...  [-1.0][-2.0][-2.0][-2.0][-1.0][-2.0][-1.0][1.0..."
      ]
     },
     "execution_count": 27,
     "metadata": {},
     "output_type": "execute_result"
    }
   ],
   "source": [
    "tenNotephrases[tenNotephrases['Phrase with duration only'] == '[0.5][0.5][0.5][0.5][0.5][0.5][0.5][0.5][0.5][0.5]'].head()"
   ]
  },
  {
   "cell_type": "markdown",
   "metadata": {},
   "source": [
    "<div>This tells us something about the nature of melody creation in moden jazz, and regularity of phrases, but liettle else</div>"
   ]
  },
  {
   "cell_type": "code",
   "execution_count": 28,
   "metadata": {
    "collapsed": false
   },
   "outputs": [
    {
     "data": {
      "image/png": "[encoded data removed]",
      "text/plain": [
       "<music21.ipython21.objects.IPythonPNGObject at 0x116c24290>"
      ]
     },
     "execution_count": 28,
     "metadata": {},
     "output_type": "execute_result"
    }
   ],
   "source": [
    "select = muStellaByStarlight.parts[0].measures(13,14)\n",
    "select.show()"
   ]
  },
  {
   "cell_type": "markdown",
   "metadata": {},
   "source": [
    "<div>Returning to two note phrases....real limits on phrases with relative frequency only....</div>"
   ]
  },
  {
   "cell_type": "code",
   "execution_count": 29,
   "metadata": {
    "collapsed": false
   },
   "outputs": [
    {
     "data": {
      "text/html": [
       "<div>\n",
       "<table border=\"1\" class=\"dataframe\">\n",
       "  <thead>\n",
       "    <tr style=\"text-align: right;\">\n",
       "      <th></th>\n",
       "      <th>Title and location</th>\n",
       "      <th>Phrase with absolute frequency and duration</th>\n",
       "      <th>Phrase with relative frequency and duration</th>\n",
       "      <th>Phrase with absolute frequency only</th>\n",
       "      <th>Phrase with duration only</th>\n",
       "      <th>Phrase with relative frequency only</th>\n",
       "    </tr>\n",
       "  </thead>\n",
       "  <tbody>\n",
       "    <tr>\n",
       "      <th>count</th>\n",
       "      <td>7340</td>\n",
       "      <td>7340</td>\n",
       "      <td>7340</td>\n",
       "      <td>7340</td>\n",
       "      <td>7340</td>\n",
       "      <td>7340</td>\n",
       "    </tr>\n",
       "    <tr>\n",
       "      <th>unique</th>\n",
       "      <td>1090</td>\n",
       "      <td>4295</td>\n",
       "      <td>1575</td>\n",
       "      <td>546</td>\n",
       "      <td>107</td>\n",
       "      <td>386</td>\n",
       "    </tr>\n",
       "    <tr>\n",
       "      <th>top</th>\n",
       "      <td>Stella By Starlight, measure: 129.0</td>\n",
       "      <td>[58.0, 0.5, -2.0][56.0, 0.5, -1.0]</td>\n",
       "      <td>[0.5, -1.0][0.5, -1.0]</td>\n",
       "      <td>[62.0][63.0]</td>\n",
       "      <td>[0.5][0.5]</td>\n",
       "      <td>[-1.0][-1.0]</td>\n",
       "    </tr>\n",
       "    <tr>\n",
       "      <th>freq</th>\n",
       "      <td>19</td>\n",
       "      <td>25</td>\n",
       "      <td>178</td>\n",
       "      <td>114</td>\n",
       "      <td>4093</td>\n",
       "      <td>332</td>\n",
       "    </tr>\n",
       "  </tbody>\n",
       "</table>\n",
       "</div>"
      ],
      "text/plain": [
       "                         Title and location Phrase with absolute frequency and duration Phrase with relative frequency and duration Phrase with absolute frequency only Phrase with duration only Phrase with relative frequency only\n",
       "count                                  7340                                        7340                                        7340                                7340                      7340                                7340\n",
       "unique                                 1090                                        4295                                        1575                                 546                       107                                 386\n",
       "top     Stella By Starlight, measure: 129.0          [58.0, 0.5, -2.0][56.0, 0.5, -1.0]                      [0.5, -1.0][0.5, -1.0]                        [62.0][63.0]                [0.5][0.5]                        [-1.0][-1.0]\n",
       "freq                                     19                                          25                                         178                                 114                      4093                                 332"
      ]
     },
     "execution_count": 29,
     "metadata": {},
     "output_type": "execute_result"
    }
   ],
   "source": [
    "twoNotephrases.describe()"
   ]
  },
  {
   "cell_type": "code",
   "execution_count": 30,
   "metadata": {
    "collapsed": false
   },
   "outputs": [],
   "source": [
    "twoNotePhrasesWithOver100Ocurrences = twoNotephrases['Phrase with relative frequency only'].value_counts()"
   ]
  },
  {
   "cell_type": "code",
   "execution_count": 31,
   "metadata": {
    "collapsed": false
   },
   "outputs": [],
   "source": [
    "twoNotePhraseValueCounts = pd.DataFrame(twoNotePhrasesWithOver100Ocurrences, columns=(['Value Counts']))"
   ]
  },
  {
   "cell_type": "code",
   "execution_count": 32,
   "metadata": {
    "collapsed": false
   },
   "outputs": [
    {
     "data": {
      "text/html": [
       "<div>\n",
       "<table border=\"1\" class=\"dataframe\">\n",
       "  <thead>\n",
       "    <tr style=\"text-align: right;\">\n",
       "      <th></th>\n",
       "      <th>Value Counts</th>\n",
       "    </tr>\n",
       "  </thead>\n",
       "  <tbody>\n",
       "    <tr>\n",
       "      <th>[-1.0][-1.0]</th>\n",
       "      <td>332</td>\n",
       "    </tr>\n",
       "    <tr>\n",
       "      <th>[-1.0][-2.0]</th>\n",
       "      <td>280</td>\n",
       "    </tr>\n",
       "    <tr>\n",
       "      <th>[1.0][1.0]</th>\n",
       "      <td>270</td>\n",
       "    </tr>\n",
       "    <tr>\n",
       "      <th>[-2.0][-1.0]</th>\n",
       "      <td>266</td>\n",
       "    </tr>\n",
       "    <tr>\n",
       "      <th>[2.0][1.0]</th>\n",
       "      <td>199</td>\n",
       "    </tr>\n",
       "    <tr>\n",
       "      <th>[1.0][2.0]</th>\n",
       "      <td>197</td>\n",
       "    </tr>\n",
       "    <tr>\n",
       "      <th>[-3.0][1.0]</th>\n",
       "      <td>169</td>\n",
       "    </tr>\n",
       "    <tr>\n",
       "      <th>[1.0][3.0]</th>\n",
       "      <td>153</td>\n",
       "    </tr>\n",
       "    <tr>\n",
       "      <th>[-2.0][-2.0]</th>\n",
       "      <td>150</td>\n",
       "    </tr>\n",
       "    <tr>\n",
       "      <th>[3.0][4.0]</th>\n",
       "      <td>149</td>\n",
       "    </tr>\n",
       "    <tr>\n",
       "      <th>[4.0][3.0]</th>\n",
       "      <td>144</td>\n",
       "    </tr>\n",
       "    <tr>\n",
       "      <th>[1.0][-1.0]</th>\n",
       "      <td>139</td>\n",
       "    </tr>\n",
       "    <tr>\n",
       "      <th>[-1.0][1.0]</th>\n",
       "      <td>137</td>\n",
       "    </tr>\n",
       "    <tr>\n",
       "      <th>[3.0][-2.0]</th>\n",
       "      <td>131</td>\n",
       "    </tr>\n",
       "    <tr>\n",
       "      <th>[3.0][-3.0]</th>\n",
       "      <td>127</td>\n",
       "    </tr>\n",
       "    <tr>\n",
       "      <th>[-3.0][-4.0]</th>\n",
       "      <td>120</td>\n",
       "    </tr>\n",
       "    <tr>\n",
       "      <th>[-2.0][1.0]</th>\n",
       "      <td>111</td>\n",
       "    </tr>\n",
       "    <tr>\n",
       "      <th>[-2.0][-3.0]</th>\n",
       "      <td>110</td>\n",
       "    </tr>\n",
       "    <tr>\n",
       "      <th>[2.0][2.0]</th>\n",
       "      <td>102</td>\n",
       "    </tr>\n",
       "  </tbody>\n",
       "</table>\n",
       "</div>"
      ],
      "text/plain": [
       "              Value Counts\n",
       "[-1.0][-1.0]           332\n",
       "[-1.0][-2.0]           280\n",
       "[1.0][1.0]             270\n",
       "[-2.0][-1.0]           266\n",
       "[2.0][1.0]             199\n",
       "[1.0][2.0]             197\n",
       "[-3.0][1.0]            169\n",
       "[1.0][3.0]             153\n",
       "[-2.0][-2.0]           150\n",
       "[3.0][4.0]             149\n",
       "[4.0][3.0]             144\n",
       "[1.0][-1.0]            139\n",
       "[-1.0][1.0]            137\n",
       "[3.0][-2.0]            131\n",
       "[3.0][-3.0]            127\n",
       "[-3.0][-4.0]           120\n",
       "[-2.0][1.0]            111\n",
       "[-2.0][-3.0]           110\n",
       "[2.0][2.0]             102"
      ]
     },
     "execution_count": 32,
     "metadata": {},
     "output_type": "execute_result"
    }
   ],
   "source": [
    "twoNotePhraseValueCounts[twoNotePhraseValueCounts['Value Counts'] > 100]"
   ]
  },
  {
   "cell_type": "markdown",
   "metadata": {},
   "source": [
    "<div>check out how the limited range</div>"
   ]
  },
  {
   "cell_type": "code",
   "execution_count": 33,
   "metadata": {
    "collapsed": true
   },
   "outputs": [],
   "source": [
    "fiveNotePhrasesWithOver100Ocurrences = fiveNotephrases['Phrase with relative frequency only'].value_counts()"
   ]
  },
  {
   "cell_type": "code",
   "execution_count": 34,
   "metadata": {
    "collapsed": true
   },
   "outputs": [],
   "source": [
    "fiveNotePhraseValueCounts = pd.DataFrame(fiveNotePhrasesWithOver100Ocurrences, columns=(['Value Counts']))"
   ]
  },
  {
   "cell_type": "code",
   "execution_count": 35,
   "metadata": {
    "collapsed": false
   },
   "outputs": [
    {
     "data": {
      "text/html": [
       "<div>\n",
       "<table border=\"1\" class=\"dataframe\">\n",
       "  <thead>\n",
       "    <tr style=\"text-align: right;\">\n",
       "      <th></th>\n",
       "      <th>Value Counts</th>\n",
       "    </tr>\n",
       "  </thead>\n",
       "  <tbody>\n",
       "    <tr>\n",
       "      <th>[3.0][4.0][3.0][-3.0][1.0]</th>\n",
       "      <td>22</td>\n",
       "    </tr>\n",
       "    <tr>\n",
       "      <th>[-1.0][-1.0][-1.0][-1.0][-1.0]</th>\n",
       "      <td>17</td>\n",
       "    </tr>\n",
       "    <tr>\n",
       "      <th>[-2.0][-1.0][-1.0][-1.0][-1.0]</th>\n",
       "      <td>15</td>\n",
       "    </tr>\n",
       "    <tr>\n",
       "      <th>[-1.0][-1.0][-1.0][-3.0][1.0]</th>\n",
       "      <td>15</td>\n",
       "    </tr>\n",
       "    <tr>\n",
       "      <th>[-1.0][-2.0][-1.0][-1.0][-1.0]</th>\n",
       "      <td>15</td>\n",
       "    </tr>\n",
       "    <tr>\n",
       "      <th>[1.0][1.0][1.0][-1.0][-1.0]</th>\n",
       "      <td>14</td>\n",
       "    </tr>\n",
       "    <tr>\n",
       "      <th>[-1.0][-1.0][-1.0][-2.0][1.0]</th>\n",
       "      <td>14</td>\n",
       "    </tr>\n",
       "    <tr>\n",
       "      <th>[-1.0][-1.0][-3.0][1.0][1.0]</th>\n",
       "      <td>13</td>\n",
       "    </tr>\n",
       "    <tr>\n",
       "      <th>[1.0][2.0][2.0][1.0][2.0]</th>\n",
       "      <td>12</td>\n",
       "    </tr>\n",
       "    <tr>\n",
       "      <th>[-1.0][-1.0][-1.0][-1.0][-2.0]</th>\n",
       "      <td>12</td>\n",
       "    </tr>\n",
       "    <tr>\n",
       "      <th>[1.0][1.0][-1.0][-1.0][-1.0]</th>\n",
       "      <td>11</td>\n",
       "    </tr>\n",
       "    <tr>\n",
       "      <th>[1.0][3.0][4.0][3.0][-3.0]</th>\n",
       "      <td>11</td>\n",
       "    </tr>\n",
       "    <tr>\n",
       "      <th>[3.0][4.0][-6.0][1.0][3.0]</th>\n",
       "      <td>11</td>\n",
       "    </tr>\n",
       "    <tr>\n",
       "      <th>[1.0][1.0][1.0][1.0][1.0]</th>\n",
       "      <td>11</td>\n",
       "    </tr>\n",
       "  </tbody>\n",
       "</table>\n",
       "</div>"
      ],
      "text/plain": [
       "                                Value Counts\n",
       "[3.0][4.0][3.0][-3.0][1.0]                22\n",
       "[-1.0][-1.0][-1.0][-1.0][-1.0]            17\n",
       "[-2.0][-1.0][-1.0][-1.0][-1.0]            15\n",
       "[-1.0][-1.0][-1.0][-3.0][1.0]             15\n",
       "[-1.0][-2.0][-1.0][-1.0][-1.0]            15\n",
       "[1.0][1.0][1.0][-1.0][-1.0]               14\n",
       "[-1.0][-1.0][-1.0][-2.0][1.0]             14\n",
       "[-1.0][-1.0][-3.0][1.0][1.0]              13\n",
       "[1.0][2.0][2.0][1.0][2.0]                 12\n",
       "[-1.0][-1.0][-1.0][-1.0][-2.0]            12\n",
       "[1.0][1.0][-1.0][-1.0][-1.0]              11\n",
       "[1.0][3.0][4.0][3.0][-3.0]                11\n",
       "[3.0][4.0][-6.0][1.0][3.0]                11\n",
       "[1.0][1.0][1.0][1.0][1.0]                 11"
      ]
     },
     "execution_count": 35,
     "metadata": {},
     "output_type": "execute_result"
    }
   ],
   "source": [
    "fiveNotePhraseValueCounts[fiveNotePhraseValueCounts['Value Counts'] > 10]"
   ]
  },
  {
   "cell_type": "markdown",
   "metadata": {},
   "source": [
    "<div>Even with 5 note phrases, not much movement - steps preferred, also note that 3s and 4s occur together, lots of ones, some clustering....</div>"
   ]
  },
  {
   "cell_type": "markdown",
   "metadata": {},
   "source": [
    "<div>As oppsed a very large amount of variation, here is a different story - so this means that key is not that important for Jarrett - there ends up being lots or repetiions - Jarrett does not tend to do idiomatic things, but - taking any two notes, likely - characterised by movements of tones and semitones.... </div>"
   ]
  },
  {
   "cell_type": "markdown",
   "metadata": {},
   "source": [
    "<div>So it appears the combination of rhtym and frequency - two note rhythm patterns are common, two note frequency, but ability to interchange these things is key - Jarrets; ability to use both these variables to extremes</div>"
   ]
  },
  {
   "cell_type": "markdown",
   "metadata": {},
   "source": [
    "<div>Wo what about for different types of patterns, 7 note patterns</div>"
   ]
  },
  {
   "cell_type": "code",
   "execution_count": null,
   "metadata": {
    "collapsed": true
   },
   "outputs": [],
   "source": []
  },
  {
   "cell_type": "code",
   "execution_count": null,
   "metadata": {
    "collapsed": true
   },
   "outputs": [],
   "source": []
  },
  {
   "cell_type": "code",
   "execution_count": null,
   "metadata": {
    "collapsed": true
   },
   "outputs": [],
   "source": []
  },
  {
   "cell_type": "code",
   "execution_count": 44,
   "metadata": {
    "collapsed": false
   },
   "outputs": [],
   "source": [
    "note0 = mu.note.Note(\"F5\")\n",
    "note0.duration.type = 'half'\n",
    "note1 = mu.note.Note(\"C4\")\n",
    "note1.duration.type = 'eighth'\n",
    "note2 = mu.note.Note(\"F#4\")\n",
    "\n",
    "streamOne = mu.stream.Stream()\n",
    "streamOne.append(note0)\n",
    "streamOne.append(note1)\n",
    "streamOne.append(note2)"
   ]
  },
  {
   "cell_type": "code",
   "execution_count": 45,
   "metadata": {
    "collapsed": false
   },
   "outputs": [],
   "source": [
    "#streamOne.show()"
   ]
  },
  {
   "cell_type": "code",
   "execution_count": null,
   "metadata": {
    "collapsed": true
   },
   "outputs": [],
   "source": []
  },
  {
   "cell_type": "code",
   "execution_count": null,
   "metadata": {
    "collapsed": true
   },
   "outputs": [],
   "source": []
  },
  {
   "cell_type": "code",
   "execution_count": null,
   "metadata": {
    "collapsed": true
   },
   "outputs": [],
   "source": []
  },
  {
   "cell_type": "code",
   "execution_count": null,
   "metadata": {
    "collapsed": true
   },
   "outputs": [],
   "source": []
  },
  {
   "cell_type": "code",
   "execution_count": null,
   "metadata": {
    "collapsed": true
   },
   "outputs": [],
   "source": []
  },
  {
   "cell_type": "code",
   "execution_count": null,
   "metadata": {
    "collapsed": true
   },
   "outputs": [],
   "source": []
  },
  {
   "cell_type": "code",
   "execution_count": null,
   "metadata": {
    "collapsed": true
   },
   "outputs": [],
   "source": []
  },
  {
   "cell_type": "code",
   "execution_count": null,
   "metadata": {
    "collapsed": true
   },
   "outputs": [],
   "source": []
  },
  {
   "cell_type": "code",
   "execution_count": null,
   "metadata": {
    "collapsed": true
   },
   "outputs": [],
   "source": []
  },
  {
   "cell_type": "code",
   "execution_count": null,
   "metadata": {
    "collapsed": true
   },
   "outputs": [],
   "source": []
  },
  {
   "cell_type": "code",
   "execution_count": null,
   "metadata": {
    "collapsed": true
   },
   "outputs": [],
   "source": []
  },
  {
   "cell_type": "code",
   "execution_count": null,
   "metadata": {
    "collapsed": true
   },
   "outputs": [],
   "source": []
  },
  {
   "cell_type": "markdown",
   "metadata": {
    "collapsed": true
   },
   "source": [
    "<div>The first thing we might ask is to keep key relvant. what is the most common figure that might be found</div>"
   ]
  },
  {
   "cell_type": "markdown",
   "metadata": {},
   "source": [
    "<h4><a id=\"rhythm\">The use of rhythm !!!!!</a></h4>"
   ]
  },
  {
   "cell_type": "markdown",
   "metadata": {},
   "source": [
    "<h4><a id=\"tempo\">The influence of tempo!!!!</a></h4>"
   ]
  },
  {
   "cell_type": "markdown",
   "metadata": {},
   "source": [
    "<h4><a id=\"timeSignaure\">The influence of time signature!!!!</a></h4>"
   ]
  },
  {
   "cell_type": "markdown",
   "metadata": {},
   "source": [
    "<h4><a id=\"songLocation\">How melodic phrases are affected by the place they occur!!!</a></h4>"
   ]
  },
  {
   "cell_type": "code",
   "execution_count": null,
   "metadata": {
    "collapsed": true
   },
   "outputs": [],
   "source": []
  },
  {
   "cell_type": "code",
   "execution_count": null,
   "metadata": {
    "collapsed": true
   },
   "outputs": [],
   "source": []
  },
  {
   "cell_type": "markdown",
   "metadata": {},
   "source": [
    "<h4><a id=\"songLocation\">More so[histicated stuff</a></h4>"
   ]
  },
  {
   "cell_type": "code",
   "execution_count": null,
   "metadata": {
    "collapsed": true
   },
   "outputs": [],
   "source": []
  },
  {
   "cell_type": "code",
   "execution_count": null,
   "metadata": {
    "collapsed": true
   },
   "outputs": [],
   "source": []
  },
  {
   "cell_type": "code",
   "execution_count": null,
   "metadata": {
    "collapsed": true
   },
   "outputs": [],
   "source": []
  },
  {
   "cell_type": "code",
   "execution_count": null,
   "metadata": {
    "collapsed": true
   },
   "outputs": [],
   "source": []
  },
  {
   "cell_type": "code",
   "execution_count": 37,
   "metadata": {
    "collapsed": false
   },
   "outputs": [
    {
     "data": {
      "text/plain": [
       "<matplotlib.axes.AxesSubplot at 0x119490950>"
      ]
     },
     "execution_count": 37,
     "metadata": {},
     "output_type": "execute_result"
    },
    {
     "data": {
      "image/png": "[encoded data removed]",
      "text/plain": [
       "<matplotlib.figure.Figure at 0x117528c50>"
      ]
     },
     "metadata": {},
     "output_type": "display_data"
    }
   ],
   "source": [
    "df.groupby(['title', 'chordTypeDisplay'])['chordTypeDisplay'].count().plot(kind=\"bar\")"
   ]
  },
  {
   "cell_type": "code",
   "execution_count": null,
   "metadata": {
    "collapsed": true
   },
   "outputs": [],
   "source": []
  }
 ],
 "metadata": {
  "kernelspec": {
   "display_name": "Python 2",
   "language": "python",
   "name": "python2"
  },
  "language_info": {
   "codemirror_mode": {
    "name": "ipython",
    "version": 2
   },
   "file_extension": ".py",
   "mimetype": "text/x-python",
   "name": "python",
   "nbconvert_exporter": "python",
   "pygments_lexer": "ipython2",
   "version": "2.7.6"
  }
 },
 "nbformat": 4,
 "nbformat_minor": 0
}
