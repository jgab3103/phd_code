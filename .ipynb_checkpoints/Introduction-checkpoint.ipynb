{
 "metadata": {
  "name": "",
  "signature": "sha256:ca5af3e438dea4e920f02f3ebeabea8ca991119a9cb44bfb96cbfb0276565400"
 },
 "nbformat": 3,
 "nbformat_minor": 0,
 "worksheets": [
  {
   "cells": [
    {
     "cell_type": "markdown",
     "metadata": {},
     "source": [
      "<a href =\"http://localhost:8888/notebooks/Chapter%202%20%26%203%20Methodology%20and%20Harmonic%20Analyisis.ipynb\">Chapter 2 and 3</a>"
     ]
    },
    {
     "cell_type": "code",
     "collapsed": false,
     "input": [],
     "language": "python",
     "metadata": {},
     "outputs": []
    }
   ],
   "metadata": {}
  }
 ]
}