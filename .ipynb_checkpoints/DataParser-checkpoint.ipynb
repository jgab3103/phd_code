{
 "cells": [
  {
   "cell_type": "code",
   "execution_count": 62,
   "metadata": {
    "collapsed": false
   },
   "outputs": [
    {
     "name": "stdout",
     "output_type": "stream",
     "text": [
      "Populating the interactive namespace from numpy and matplotlib\n"
     ]
    }
   ],
   "source": [
    "import pandas as pd\n",
    "%pylab inline\n",
    "import numpy as np\n",
    "import matplotlib\n",
    "import music21 as mu\n",
    "import pymongo\n",
    "from pymongo import MongoClient\n",
    "from bs4 import BeautifulSoup"
   ]
  },
  {
   "cell_type": "code",
   "execution_count": 6,
   "metadata": {
    "collapsed": false
   },
   "outputs": [
    {
     "data": {
      "text/plain": [
       "u'/Users/jamiegabriel/Desktop/phd_code'"
      ]
     },
     "execution_count": 6,
     "metadata": {},
     "output_type": "execute_result"
    }
   ],
   "source": [
    "pwd"
   ]
  },
  {
   "cell_type": "code",
   "execution_count": 9,
   "metadata": {
    "collapsed": false
   },
   "outputs": [],
   "source": [
    "soup = BeautifulSoup(open('FinalDataSet/XMLFiles/JazzSolos/KJAllTheThingsYouAre1983_2143_290.xml'))"
   ]
  },
  {
   "cell_type": "code",
   "execution_count": 26,
   "metadata": {
    "collapsed": false
   },
   "outputs": [],
   "source": [
    "notesDataFrame = pd.DataFrame\n",
    "notes = soup.find_all('note')"
   ]
  },
  {
   "cell_type": "code",
   "execution_count": 61,
   "metadata": {
    "collapsed": false
   },
   "outputs": [],
   "source": [
    "theList = []\n",
    "for note in notes:\n",
    "    theDict = {}\n",
    "    theDict['note'] = note.name\n",
    "    theDict['pitch'] = note.step\n",
    "    theList.append(theDict)\n",
    "    "
   ]
  },
  {
   "cell_type": "code",
   "execution_count": 58,
   "metadata": {
    "collapsed": false
   },
   "outputs": [],
   "source": [
    "df = pd.DataFrame(theList)"
   ]
  },
  {
   "cell_type": "code",
   "execution_count": 59,
   "metadata": {
    "collapsed": false
   },
   "outputs": [
    {
     "data": {
      "text/html": [
       "<div>\n",
       "<table border=\"1\" class=\"dataframe\">\n",
       "  <thead>\n",
       "    <tr style=\"text-align: right;\">\n",
       "      <th></th>\n",
       "      <th>note</th>\n",
       "      <th>pitch</th>\n",
       "    </tr>\n",
       "  </thead>\n",
       "  <tbody>\n",
       "    <tr>\n",
       "      <th>0</th>\n",
       "      <td>note</td>\n",
       "      <td>None</td>\n",
       "    </tr>\n",
       "    <tr>\n",
       "      <th>1</th>\n",
       "      <td>note</td>\n",
       "      <td>&lt;step&gt;B&lt;/step&gt;</td>\n",
       "    </tr>\n",
       "    <tr>\n",
       "      <th>2</th>\n",
       "      <td>note</td>\n",
       "      <td>&lt;step&gt;A&lt;/step&gt;</td>\n",
       "    </tr>\n",
       "    <tr>\n",
       "      <th>3</th>\n",
       "      <td>note</td>\n",
       "      <td>&lt;step&gt;C&lt;/step&gt;</td>\n",
       "    </tr>\n",
       "    <tr>\n",
       "      <th>4</th>\n",
       "      <td>note</td>\n",
       "      <td>&lt;step&gt;G&lt;/step&gt;</td>\n",
       "    </tr>\n",
       "  </tbody>\n",
       "</table>\n",
       "</div>"
      ],
      "text/plain": [
       "   note           pitch\n",
       "0  note            None\n",
       "1  note  <step>B</step>\n",
       "2  note  <step>A</step>\n",
       "3  note  <step>C</step>\n",
       "4  note  <step>G</step>"
      ]
     },
     "execution_count": 59,
     "metadata": {},
     "output_type": "execute_result"
    }
   ],
   "source": [
    "df.head()"
   ]
  },
  {
   "cell_type": "code",
   "execution_count": 63,
   "metadata": {
    "collapsed": true
   },
   "outputs": [],
   "source": [
    "client = MongoClient()"
   ]
  },
  {
   "cell_type": "code",
   "execution_count": 68,
   "metadata": {
    "collapsed": false
   },
   "outputs": [],
   "source": [
    "db = client['music-search-data']"
   ]
  },
  {
   "cell_type": "code",
   "execution_count": 71,
   "metadata": {
    "collapsed": false
   },
   "outputs": [],
   "source": [
    "corpusV2 = db.corpusV2"
   ]
  },
  {
   "cell_type": "code",
   "execution_count": 86,
   "metadata": {
    "collapsed": false
   },
   "outputs": [
    {
     "data": {
      "text/plain": [
       "<pymongo.cursor.Cursor at 0x111a4c650>"
      ]
     },
     "execution_count": 86,
     "metadata": {},
     "output_type": "execute_result"
    }
   ],
   "source": [
    "db.corpusV2.find({'currentMeasure':287})"
   ]
  },
  {
   "cell_type": "code",
   "execution_count": 89,
   "metadata": {
    "collapsed": false
   },
   "outputs": [
    {
     "data": {
      "text/plain": [
       "[{u'_id': ObjectId('55a8806698e295f39b2b1d4d'),\n",
       "  u'nextTenChords': u'Bb min7-Eb dom7-Ab maj7-G min7b5-C dom7'},\n",
       " {u'_id': ObjectId('55a8806698e295f39b2b1d6e'),\n",
       "  u'nextTenChords': u'Bb min7-Eb dom7-Ab maj7-G min7b5-C dom7'},\n",
       " {u'_id': ObjectId('55a8806698e295f39b2b1e50'),\n",
       "  u'nextTenChords': u'Bb min7-Eb dom7-Ab maj7-G min7b5-C dom7'},\n",
       " {u'_id': ObjectId('55a8806698e295f39b2b1f0e'),\n",
       "  u'nextTenChords': u'Bb min7-Bb min7-Eb dom7-Ab maj7-G min7b5-C dom7'},\n",
       " {u'_id': ObjectId('55a8806698e295f39b2b1f31'),\n",
       "  u'nextTenChords': u'Bb min7-Eb dom7-Ab maj7-G min7b5-C dom7'},\n",
       " {u'_id': ObjectId('55a8806698e295f39b2b2166'),\n",
       "  u'nextTenChords': u'Bb min7-Eb dom7-Ab maj7-G min7b5-C dom7'},\n",
       " {u'_id': ObjectId('55a8806698e295f39b2b2437'),\n",
       "  u'nextTenChords': u'Bb min7-Bb min7-Eb dom7-Ab maj7-G min7b5-C dom7'},\n",
       " {u'_id': ObjectId('55a8806698e295f39b2b2489'),\n",
       "  u'nextTenChords': u'Bb min7-Eb dom7-Ab maj7-G min7b5-C dom7'},\n",
       " {u'_id': ObjectId('55a8806698e295f39b2b24bb'),\n",
       "  u'nextTenChords': u'Bb min7-Eb dom7-Ab maj7-G min7b5-C dom7'},\n",
       " {u'_id': ObjectId('55a8808898e295f39b2b33c0'),\n",
       "  u'nextTenChords': u'F min7-Ab min7-Db dom7-Eb maj7-Gb dom7-F min7-Bb dom7'},\n",
       " {u'_id': ObjectId('55a8808898e295f39b2b3566'),\n",
       "  u'nextTenChords': u'F min7-Ab min7-Db dom7-Eb maj7-Gb dom7-F min7-Bb dom7'},\n",
       " {u'_id': ObjectId('55a8808898e295f39b2b366a'),\n",
       "  u'nextTenChords': u'F min7-Ab min7-Db dom7-Eb maj7-Gb dom7-F min7-Bb dom7'},\n",
       " {u'_id': ObjectId('55a8808898e295f39b2b36e1'),\n",
       "  u'nextTenChords': u'F min7-Ab min7-Db dom7-Eb maj7-Gb dom7-F min7-Bb dom7'},\n",
       " {u'_id': ObjectId('55a8808898e295f39b2b3733'),\n",
       "  u'nextTenChords': u'F min7-Ab min7-Db dom7-Eb maj7-Gb dom7-F min7-Bb dom7'},\n",
       " {u'_id': ObjectId('55a8808898e295f39b2b390f'),\n",
       "  u'nextTenChords': u'F min7-Ab min7-Db dom7-Eb maj7-Gb dom7-F min7-Bb dom7'},\n",
       " {u'_id': ObjectId('55a8808898e295f39b2b3914'),\n",
       "  u'nextTenChords': u'F min7-Ab min7-Db dom7-Eb maj7-Gb dom7-F min7-Bb dom7'},\n",
       " {u'_id': ObjectId('55a8808898e295f39b2b3ad5'),\n",
       "  u'nextTenChords': u'F min7-Ab min7-Db dom7-Eb maj7-Gb dom7-F min7-Bb dom7'}]"
      ]
     },
     "execution_count": 89,
     "metadata": {},
     "output_type": "execute_result"
    }
   ],
   "source": [
    "list(corpusV2.find({u'currentMeasure':287},{'nextTenChords':1}))"
   ]
  },
  {
   "cell_type": "code",
   "execution_count": 87,
   "metadata": {
    "collapsed": false
   },
   "outputs": [
    {
     "data": {
      "text/plain": [
       "[u'yearOfComposition',\n",
       " u'scoreTextChord',\n",
       " u'ongoingScoretext',\n",
       " u'randomizer',\n",
       " u'nextNoteLocation',\n",
       " u'audioID',\n",
       " u'dynamics',\n",
       " u'scoreTextNonChord',\n",
       " u'currentMeasureAsPercentageOfPieceLength',\n",
       " u'nextTenChords',\n",
       " u'ongoingTempo',\n",
       " u'instrument',\n",
       " u'performerName',\n",
       " u'noteFrequency',\n",
       " u'currentTempo',\n",
       " u'nextNoteFrequency',\n",
       " u'scoreText',\n",
       " u'ancillaryNote',\n",
       " u'yearOfPerformance',\n",
       " u'composerName',\n",
       " u'currentMeasure',\n",
       " u'noteLocation',\n",
       " u'noteDuration',\n",
       " u'structuralNote',\n",
       " u'ongoingDynamics',\n",
       " u'globalCount',\n",
       " u'nextNoteDuration',\n",
       " u'title',\n",
       " u'_id']"
      ]
     },
     "execution_count": 87,
     "metadata": {},
     "output_type": "execute_result"
    }
   ],
   "source": [
    "list(corpusV2.find_one())"
   ]
  },
  {
   "cell_type": "code",
   "execution_count": null,
   "metadata": {
    "collapsed": true
   },
   "outputs": [],
   "source": []
  }
 ],
 "metadata": {
  "kernelspec": {
   "display_name": "Python 2",
   "language": "python",
   "name": "python2"
  },
  "language_info": {
   "codemirror_mode": {
    "name": "ipython",
    "version": 2
   },
   "file_extension": ".py",
   "mimetype": "text/x-python",
   "name": "python",
   "nbconvert_exporter": "python",
   "pygments_lexer": "ipython2",
   "version": "2.7.10"
  }
 },
 "nbformat": 4,
 "nbformat_minor": 0
}
