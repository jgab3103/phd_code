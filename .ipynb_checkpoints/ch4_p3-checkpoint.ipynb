{
 "cells": [
  {
   "cell_type": "code",
   "execution_count": 6,
   "metadata": {
    "collapsed": false
   },
   "outputs": [
    {
     "name": "stdout",
     "output_type": "stream",
     "text": [
      "The music21.ipython21.ipExtension extension is already loaded. To reload it, use:\n",
      "  %reload_ext music21.ipython21.ipExtension\n",
      "Populating the interactive namespace from numpy and matplotlib\n"
     ]
    }
   ],
   "source": [
    "import pandas as pd\n",
    "from IPython.core.display import HTML\n",
    "from IPython.core.display import Image \n",
    "%load_ext music21.ipython21.ipExtension\n",
    "import numpy as np\n",
    "import music21 as mu\n",
    "import pymongo\n",
    "%pylab inline\n",
    "from pymongo import MongoClient\n",
    "from bs4 import BeautifulSoup\n",
    "import re\n",
    "import pydash as py_\n",
    "pd.set_option('display.mpl_style', 'default')\n",
    "plt.rcParams['figure.figsize'] = (15, 5)\n",
    "import math\n",
    "import music21 as mu\n",
    "from functools import partial\n",
    "import itertools\n",
    "from itertools import chain\n",
    "# This is necessary to show lots of columns in pandas 0.12. \n",
    "# Not necessary in pandas 0.13.\n",
    "pd.set_option('display.width', 5000) \n",
    "pd.set_option('display.max_columns', 60)\n"
   ]
  },
  {
   "cell_type": "code",
   "execution_count": 7,
   "metadata": {
    "collapsed": false
   },
   "outputs": [],
   "source": [
    "muAllTheThingsYouAre = mu.converter.parse('FinalDataSet/XMLFiles/JazzSolos/KeithJarrettAllTheThingsYouAre.xml')\n",
    "muAutumnLeaves = mu.converter.parse('FinalDataSet/XMLFiles/JazzSolos/KeithJarrettAutumnLeaves.xml')\n",
    "muDaysOfWineAndRoses = mu.converter.parse('FinalDataSet/XMLFiles/JazzSolos/KeithJarrettDaysOfWineAndRoses.xml')\n",
    "muGroovingHigh = mu.converter.parse('FinalDataSet/XMLFiles/JazzSolos/KeithJarrettGroovinHigh.xml')\n",
    "muIfIWereABell = mu.converter.parse('FinalDataSet/XMLFiles/JazzSolos/KeithJarrettIfIWereABell.xml')\n",
    "muSomedayMyPrinceWillCome = mu.converter.parse('FinalDataSet/XMLFiles/JazzSolos/KeithJarrettSomedayMyPrinceWillCome.xml')\n",
    "muStellaByStarlight = mu.converter.parse('FinalDataSet/XMLFiles/JazzSolos/KeithJarrettStellaByStarlight.xml')\n"
   ]
  },
  {
   "cell_type": "code",
   "execution_count": 8,
   "metadata": {
    "collapsed": false
   },
   "outputs": [],
   "source": [
    "df = pd.read_pickle('data_set_as_pk.pkl')"
   ]
  },
  {
   "cell_type": "markdown",
   "metadata": {},
   "source": [
    "<h4><a id=\"microphrase\">Similar phrases, sequences and patterns</a></h4>"
   ]
  },
  {
   "cell_type": "markdown",
   "metadata": {},
   "source": [
    "<div>\n",
    "Similiarity, similiar contour is important...problematic to look for identical things, this prhases seem to be uildt as similtimiliar phrases seem to be in these corposes, so if we don't look for idetnical repetition, but similiartity what is found. This tells us about repetition in a different way, patterns also are revealed - looking at longer phrases\n",
    "</div>"
   ]
  },
  {
   "cell_type": "markdown",
   "metadata": {},
   "source": [
    "<div>To explore, this lets look at 3 and 8 note phrases. It becomes computational expensie possible to look at far longer, though they are computation expensive</div>"
   ]
  },
  {
   "cell_type": "code",
   "execution_count": 9,
   "metadata": {
    "collapsed": false
   },
   "outputs": [],
   "source": [
    "#utilitity methods to build phrases\n",
    "def titleAsString(data_row):\n",
    "    titleAsString = str(data_row[0][0:1][0])\n",
    "    locationAsString = str(data_row[0][1:2][0])\n",
    "    return titleAsString + ', measure: ' + locationAsString\n",
    "\n",
    "def concatenatePhrase(x, data_row):\n",
    "    phraseArray = []\n",
    "    startingIndexForNoteDetails = x[1]\n",
    "    endingIndexForNoteDetails = x[2]\n",
    "    \n",
    "    for i in range(0, x[0]):\n",
    "        phraseArray.append(data_row[i][startingIndexForNoteDetails:endingIndexForNoteDetails])\n",
    "\n",
    "    return phraseArray\n",
    "\n",
    "def flagIfNoFrequency(x, data_row):\n",
    "    flag = 0\n",
    "    for i in range(0, x):\n",
    "        if np.isnan(data_row[i][2]):\n",
    "            flag = 1\n",
    "    return flag\n",
    "\n",
    "def createStringForRelevativeFrequencyList(data_row):\n",
    "    return str(data_row['Phrase with relative frequency only'])\n",
    "\n",
    "def createFlexiblePhrases(data_row):\n",
    "    retArr = []\n",
    "    for item in data_row['Phrase with relative frequency only']:\n",
    "        arr = []\n",
    "        formattingArr = []\n",
    "        \n",
    "        formattingArr.append(item[0] - 1)\n",
    "        arr.append(formattingArr)\n",
    "        formattingArr = []\n",
    "        formattingArr.append(item[0])\n",
    "        arr.append(formattingArr)\n",
    "        formattingArr = []\n",
    "        formattingArr.append(item[0] + 1)\n",
    "        arr.append(formattingArr)\n",
    "        retArr.append(arr)\n",
    "        \n",
    "\n",
    "                \n",
    "    queryArray = []\n",
    "    for x in itertools.product(*retArr):\n",
    "        queryArray.append(x)\n",
    "                \n",
    "        \n",
    "    return queryArray"
   ]
  },
  {
   "cell_type": "code",
   "execution_count": 10,
   "metadata": {
    "collapsed": false
   },
   "outputs": [],
   "source": [
    "#class to break notes up into individual phrases and track different lengths of phrases\n",
    "class CreateDataFramesForPhraseAnalysis:\n",
    "    def __init__(self, dataFrame=\"\", numberOfNotesInPhrase = -1):\n",
    "        self.df = dataFrame\n",
    "        self.microPhraseArray = -1\n",
    "        self.twoNotePhrases = -1\n",
    "        self.startValueToIncludeFrequencyInPhrase = 2\n",
    "        self.startValueToExludeFrequency = 3\n",
    "        self.endValueToExcludeRelativeFrequency = 4\n",
    "        self.endValueToIncludeAllNoteDetails = 5\n",
    "        self.numberOfNotesInPhrase = numberOfNotesInPhrase\n",
    "\n",
    "    def createDataFrames(self):\n",
    "        dfForPhrasePatterns = self.df[self.df['Part name'] == 'P1'][['Title','Measure number', 'Midi number', 'Length in quarter notes', 'Semitone distance between current and next note', 'Location of note or rest', 'Location of note or rest within measure']]\n",
    "        listOfNotes = dfForPhrasePatterns.values.tolist()\n",
    "        microPhraseLength = self.numberOfNotesInPhrase\n",
    "        microPhraseArray = []\n",
    "        microPhrase = []\n",
    "        for x in range(0, len(listOfNotes)):\n",
    "            counter = 0\n",
    "            while(counter < microPhraseLength):\n",
    "                try:\n",
    "                    val = listOfNotes[x + counter]\n",
    "                except:\n",
    "                    pass\n",
    "                microPhrase.append(val)\n",
    "                counter = counter + 1\n",
    "            microPhraseArray.append(microPhrase)\n",
    "            microPhrase = []\n",
    "            \n",
    "        self.twoNotePhrases = pd.DataFrame(microPhraseArray)\n",
    "\n",
    "        self.twoNotePhrases['Title and location'] = self.twoNotePhrases.apply(titleAsString, axis=1)\n",
    "        self.twoNotePhrases['Phrase with relative frequency only'] = self.twoNotePhrases.apply(partial(concatenatePhrase, (self.numberOfNotesInPhrase, self.endValueToExcludeRelativeFrequency, self.endValueToIncludeAllNoteDetails)), axis=1)\n",
    "        self.twoNotePhrases['No Frequency'] = self.twoNotePhrases.apply(partial(flagIfNoFrequency, self.numberOfNotesInPhrase), axis=1)\n",
    "        self.twoNotePhrases['Phrase as string'] = self.twoNotePhrases.apply(createStringForRelevativeFrequencyList, axis=1)\n",
    "        self.twoNotePhrases['Structures of related phrases'] = self.twoNotePhrases.apply(createFlexiblePhrases, axis=1)\n",
    "        \n",
    "        \n",
    "    def removeGhostPhrasesAndUnneededColumns(self):\n",
    "        self.twoNotePhrases = self.twoNotePhrases[self.twoNotePhrases['No Frequency'] == 0]\n",
    "        for i in range(0, self.numberOfNotesInPhrase):\n",
    "            del self.twoNotePhrases[i]\n",
    "        del self.twoNotePhrases['No Frequency']\n",
    "        del self.twoNotePhrases['Phrase with relative frequency only']\n",
    "\n",
    "    def returnDataFramesForAnalysis(self):\n",
    "        #print self.twoNotePhrases\n",
    "        return self.twoNotePhrases\n"
   ]
  },
  {
   "cell_type": "markdown",
   "metadata": {},
   "source": [
    "<div>Again we will create a list of data frames that hold each of the phrases, and their related phrase</div>"
   ]
  },
  {
   "cell_type": "code",
   "execution_count": 11,
   "metadata": {
    "collapsed": false
   },
   "outputs": [],
   "source": [
    "createFiveNotePhraseData = CreateDataFramesForPhraseAnalysis(df, 5)\n",
    "createFiveNotePhraseData.createDataFrames()\n",
    "createFiveNotePhraseData.removeGhostPhrasesAndUnneededColumns()\n",
    "fiveNotephrases = createFiveNotePhraseData.returnDataFramesForAnalysis()\n",
    "\n"
   ]
  },
  {
   "cell_type": "markdown",
   "metadata": {},
   "source": [
    "<div>For this, we are looking at rel frequenciy, as that is where most of the commonality is found. The first this is to create a list that has the similiar phrase. So this would look like below</div>"
   ]
  },
  {
   "cell_type": "code",
   "execution_count": 12,
   "metadata": {
    "collapsed": false,
    "scrolled": true
   },
   "outputs": [
    {
     "data": {
      "text/html": [
       "<div>\n",
       "<table border=\"1\" class=\"dataframe\">\n",
       "  <thead>\n",
       "    <tr style=\"text-align: right;\">\n",
       "      <th></th>\n",
       "      <th>Title and location</th>\n",
       "      <th>Phrase as string</th>\n",
       "      <th>Structures of related phrases</th>\n",
       "    </tr>\n",
       "  </thead>\n",
       "  <tbody>\n",
       "    <tr>\n",
       "      <th>13</th>\n",
       "      <td>Stella By Starlight, measure: 3.0</td>\n",
       "      <td>[[2.0], [9.0], [-2.0], [-3.0], [-4.0]]</td>\n",
       "      <td>[([1.0], [8.0], [-3.0], [-4.0], [-5.0]), ([1.0...</td>\n",
       "    </tr>\n",
       "    <tr>\n",
       "      <th>14</th>\n",
       "      <td>Stella By Starlight, measure: 3.0</td>\n",
       "      <td>[[9.0], [-2.0], [-3.0], [-4.0], [-2.0]]</td>\n",
       "      <td>[([8.0], [-3.0], [-4.0], [-5.0], [-3.0]), ([8....</td>\n",
       "    </tr>\n",
       "    <tr>\n",
       "      <th>15</th>\n",
       "      <td>Stella By Starlight, measure: 3.0</td>\n",
       "      <td>[[-2.0], [-3.0], [-4.0], [-2.0], [-1.0]]</td>\n",
       "      <td>[([-3.0], [-4.0], [-5.0], [-3.0], [-2.0]), ([-...</td>\n",
       "    </tr>\n",
       "    <tr>\n",
       "      <th>16</th>\n",
       "      <td>Stella By Starlight, measure: 4.0</td>\n",
       "      <td>[[-3.0], [-4.0], [-2.0], [-1.0], [nan]]</td>\n",
       "      <td>[([-4.0], [-5.0], [-3.0], [-2.0], [nan]), ([-4...</td>\n",
       "    </tr>\n",
       "    <tr>\n",
       "      <th>23</th>\n",
       "      <td>Stella By Starlight, measure: 5.0</td>\n",
       "      <td>[[1.0], [1.0], [2.0], [1.0], [-1.0]]</td>\n",
       "      <td>[([0.0], [0.0], [1.0], [0.0], [-2.0]), ([0.0],...</td>\n",
       "    </tr>\n",
       "  </tbody>\n",
       "</table>\n",
       "</div>"
      ],
      "text/plain": [
       "                   Title and location                          Phrase as string                      Structures of related phrases\n",
       "13  Stella By Starlight, measure: 3.0    [[2.0], [9.0], [-2.0], [-3.0], [-4.0]]  [([1.0], [8.0], [-3.0], [-4.0], [-5.0]), ([1.0...\n",
       "14  Stella By Starlight, measure: 3.0   [[9.0], [-2.0], [-3.0], [-4.0], [-2.0]]  [([8.0], [-3.0], [-4.0], [-5.0], [-3.0]), ([8....\n",
       "15  Stella By Starlight, measure: 3.0  [[-2.0], [-3.0], [-4.0], [-2.0], [-1.0]]  [([-3.0], [-4.0], [-5.0], [-3.0], [-2.0]), ([-...\n",
       "16  Stella By Starlight, measure: 4.0   [[-3.0], [-4.0], [-2.0], [-1.0], [nan]]  [([-4.0], [-5.0], [-3.0], [-2.0], [nan]), ([-4...\n",
       "23  Stella By Starlight, measure: 5.0      [[1.0], [1.0], [2.0], [1.0], [-1.0]]  [([0.0], [0.0], [1.0], [0.0], [-2.0]), ([0.0],..."
      ]
     },
     "execution_count": 12,
     "metadata": {},
     "output_type": "execute_result"
    }
   ],
   "source": [
    "fiveNotephrases.head()"
   ]
  },
  {
   "cell_type": "markdown",
   "metadata": {},
   "source": [
    "<div>Look at each example of this in notation</div>"
   ]
  },
  {
   "cell_type": "code",
   "execution_count": 13,
   "metadata": {
    "collapsed": true
   },
   "outputs": [],
   "source": [
    "listOfQueriesRelatedToPhrases = fiveNotephrases['Structures of related phrases'].values"
   ]
  },
  {
   "cell_type": "markdown",
   "metadata": {},
   "source": [
    "<div>So what does one of these look like?</div>"
   ]
  },
  {
   "cell_type": "code",
   "execution_count": 14,
   "metadata": {
    "collapsed": true
   },
   "outputs": [],
   "source": [
    "def createDataFrameWithRelatedPhrases(phraseFromCorpus, phraseToSend):\n",
    "    listOfRelatedPhrasesInCorpus = []\n",
    "    for eachPhraseArchetype in phraseFromCorpus:\n",
    "        eachPhraseArchetypeAsString =  str(list(eachPhraseArchetype))\n",
    "        phraseQuery = fiveNotephrases[fiveNotephrases['Phrase as string'] == eachPhraseArchetypeAsString][['Title and location', 'Phrase as string']].values.tolist()\n",
    "        if len(phraseQuery) != 0:\n",
    "            listOfRelatedPhrasesInCorpus.append(phraseQuery)\n",
    "\n",
    "    a = list(chain.from_iterable(listOfRelatedPhrasesInCorpus))\n",
    "    b = pd.DataFrame(a, columns=('Title and location', 'Similiar Phrase'))\n",
    "    b['Original phrase'] = phraseToSend\n",
    "    #print b\n",
    "    return b"
   ]
  },
  {
   "cell_type": "code",
   "execution_count": 15,
   "metadata": {
    "collapsed": false,
    "scrolled": false
   },
   "outputs": [],
   "source": [
    "arrayOfPhraseQueries = []\n",
    "\n",
    "for i in range(0, 40):\n",
    "    phraseToSend = fiveNotephrases.iloc[i]['Phrase as string']\n",
    "    #print listOfQueriesRelatedToPhrases[i]\n",
    "    returnedVal = createDataFrameWithRelatedPhrases(listOfQueriesRelatedToPhrases[i], phraseToSend)\n",
    "    arrayOfPhraseQueries.append(returnedVal)\n",
    "    "
   ]
  },
  {
   "cell_type": "code",
   "execution_count": 16,
   "metadata": {
    "collapsed": false
   },
   "outputs": [
    {
     "name": "stdout",
     "output_type": "stream",
     "text": [
      "8\n",
      "<class 'pandas.core.frame.DataFrame'>\n",
      "6\n",
      "<class 'pandas.core.frame.DataFrame'>\n",
      "49\n",
      "<class 'pandas.core.frame.DataFrame'>\n",
      "36\n",
      "<class 'pandas.core.frame.DataFrame'>\n",
      "38\n",
      "<class 'pandas.core.frame.DataFrame'>\n",
      "74\n",
      "<class 'pandas.core.frame.DataFrame'>\n",
      "76\n",
      "<class 'pandas.core.frame.DataFrame'>\n",
      "76\n",
      "<class 'pandas.core.frame.DataFrame'>\n",
      "286\n",
      "<class 'pandas.core.frame.DataFrame'>\n",
      "129\n",
      "<class 'pandas.core.frame.DataFrame'>\n",
      "68\n",
      "<class 'pandas.core.frame.DataFrame'>\n",
      "64\n",
      "<class 'pandas.core.frame.DataFrame'>\n",
      "36\n",
      "<class 'pandas.core.frame.DataFrame'>\n",
      "10\n",
      "<class 'pandas.core.frame.DataFrame'>\n",
      "14\n",
      "<class 'pandas.core.frame.DataFrame'>\n",
      "9\n",
      "<class 'pandas.core.frame.DataFrame'>\n",
      "15\n",
      "<class 'pandas.core.frame.DataFrame'>\n",
      "20\n",
      "<class 'pandas.core.frame.DataFrame'>\n",
      "8\n",
      "<class 'pandas.core.frame.DataFrame'>\n",
      "9\n",
      "<class 'pandas.core.frame.DataFrame'>\n",
      "9\n",
      "<class 'pandas.core.frame.DataFrame'>\n",
      "12\n",
      "<class 'pandas.core.frame.DataFrame'>\n",
      "17\n",
      "<class 'pandas.core.frame.DataFrame'>\n",
      "56\n",
      "<class 'pandas.core.frame.DataFrame'>\n",
      "15\n",
      "<class 'pandas.core.frame.DataFrame'>\n",
      "12\n",
      "<class 'pandas.core.frame.DataFrame'>\n",
      "56\n",
      "<class 'pandas.core.frame.DataFrame'>\n",
      "15\n",
      "<class 'pandas.core.frame.DataFrame'>\n",
      "10\n",
      "<class 'pandas.core.frame.DataFrame'>\n",
      "9\n",
      "<class 'pandas.core.frame.DataFrame'>\n",
      "2\n",
      "<class 'pandas.core.frame.DataFrame'>\n",
      "1\n",
      "<class 'pandas.core.frame.DataFrame'>\n",
      "1\n",
      "<class 'pandas.core.frame.DataFrame'>\n",
      "2\n",
      "<class 'pandas.core.frame.DataFrame'>\n",
      "2\n",
      "<class 'pandas.core.frame.DataFrame'>\n",
      "8\n",
      "<class 'pandas.core.frame.DataFrame'>\n",
      "20\n",
      "<class 'pandas.core.frame.DataFrame'>\n",
      "8\n",
      "<class 'pandas.core.frame.DataFrame'>\n",
      "19\n",
      "<class 'pandas.core.frame.DataFrame'>\n",
      "4\n",
      "<class 'pandas.core.frame.DataFrame'>\n"
     ]
    }
   ],
   "source": [
    "for stuff in arrayOfPhraseQueries:\n",
    "    print len(stuff)\n",
    "    print type(stuff)"
   ]
  },
  {
   "cell_type": "code",
   "execution_count": null,
   "metadata": {
    "collapsed": true
   },
   "outputs": [],
   "source": []
  },
  {
   "cell_type": "code",
   "execution_count": 17,
   "metadata": {
    "collapsed": false
   },
   "outputs": [
    {
     "data": {
      "text/html": [
       "<div>\n",
       "<table border=\"1\" class=\"dataframe\">\n",
       "  <thead>\n",
       "    <tr style=\"text-align: right;\">\n",
       "      <th></th>\n",
       "      <th>Title and location</th>\n",
       "      <th>Similiar Phrase</th>\n",
       "      <th>Original phrase</th>\n",
       "    </tr>\n",
       "  </thead>\n",
       "  <tbody>\n",
       "    <tr>\n",
       "      <th>0</th>\n",
       "      <td>Days Of Wine And Roses, measure: 121.0</td>\n",
       "      <td>[[-2.0], [-3.0], [-2.0], [-2.0], [-3.0]]</td>\n",
       "      <td>[[-1.0], [-2.0], [-2.0], [-1.0], [-2.0]]</td>\n",
       "    </tr>\n",
       "    <tr>\n",
       "      <th>1</th>\n",
       "      <td>Groovin High, measure: 3.0</td>\n",
       "      <td>[[-2.0], [-3.0], [-2.0], [-2.0], [-1.0]]</td>\n",
       "      <td>[[-1.0], [-2.0], [-2.0], [-1.0], [-2.0]]</td>\n",
       "    </tr>\n",
       "    <tr>\n",
       "      <th>2</th>\n",
       "      <td>If I Were A Bell, measure: 205.0</td>\n",
       "      <td>[[-2.0], [-3.0], [-2.0], [-2.0], [-1.0]]</td>\n",
       "      <td>[[-1.0], [-2.0], [-2.0], [-1.0], [-2.0]]</td>\n",
       "    </tr>\n",
       "    <tr>\n",
       "      <th>3</th>\n",
       "      <td>All The Things You Are, measure: 225.0</td>\n",
       "      <td>[[-2.0], [-3.0], [-2.0], [-2.0], [-1.0]]</td>\n",
       "      <td>[[-1.0], [-2.0], [-2.0], [-1.0], [-2.0]]</td>\n",
       "    </tr>\n",
       "    <tr>\n",
       "      <th>4</th>\n",
       "      <td>Days Of Wine And Roses, measure: 42.0</td>\n",
       "      <td>[[-2.0], [-3.0], [-2.0], [-2.0], [-1.0]]</td>\n",
       "      <td>[[-1.0], [-2.0], [-2.0], [-1.0], [-2.0]]</td>\n",
       "    </tr>\n",
       "    <tr>\n",
       "      <th>5</th>\n",
       "      <td>Days Of Wine And Roses, measure: 44.0</td>\n",
       "      <td>[[-2.0], [-3.0], [-2.0], [-2.0], [-1.0]]</td>\n",
       "      <td>[[-1.0], [-2.0], [-2.0], [-1.0], [-2.0]]</td>\n",
       "    </tr>\n",
       "    <tr>\n",
       "      <th>6</th>\n",
       "      <td>If I Were A Bell, measure: 184.0</td>\n",
       "      <td>[[-2.0], [-3.0], [-2.0], [-1.0], [-2.0]]</td>\n",
       "      <td>[[-1.0], [-2.0], [-2.0], [-1.0], [-2.0]]</td>\n",
       "    </tr>\n",
       "    <tr>\n",
       "      <th>7</th>\n",
       "      <td>Someday My Prince Will Come, measure: 84.0</td>\n",
       "      <td>[[-2.0], [-3.0], [-2.0], [-1.0], [-2.0]]</td>\n",
       "      <td>[[-1.0], [-2.0], [-2.0], [-1.0], [-2.0]]</td>\n",
       "    </tr>\n",
       "    <tr>\n",
       "      <th>8</th>\n",
       "      <td>Autumn Leaves, measure: 138.0</td>\n",
       "      <td>[[-2.0], [-3.0], [-2.0], [-1.0], [-1.0]]</td>\n",
       "      <td>[[-1.0], [-2.0], [-2.0], [-1.0], [-2.0]]</td>\n",
       "    </tr>\n",
       "    <tr>\n",
       "      <th>9</th>\n",
       "      <td>Autumn Leaves, measure: 86.0</td>\n",
       "      <td>[[-2.0], [-3.0], [-1.0], [-1.0], [-1.0]]</td>\n",
       "      <td>[[-1.0], [-2.0], [-2.0], [-1.0], [-2.0]]</td>\n",
       "    </tr>\n",
       "    <tr>\n",
       "      <th>10</th>\n",
       "      <td>Autumn Leaves, measure: 46.0</td>\n",
       "      <td>[[-2.0], [-2.0], [-3.0], [-2.0], [-3.0]]</td>\n",
       "      <td>[[-1.0], [-2.0], [-2.0], [-1.0], [-2.0]]</td>\n",
       "    </tr>\n",
       "    <tr>\n",
       "      <th>11</th>\n",
       "      <td>Groovin High, measure: 3.0</td>\n",
       "      <td>[[-2.0], [-2.0], [-3.0], [-2.0], [-2.0]]</td>\n",
       "      <td>[[-1.0], [-2.0], [-2.0], [-1.0], [-2.0]]</td>\n",
       "    </tr>\n",
       "    <tr>\n",
       "      <th>12</th>\n",
       "      <td>Autumn Leaves, measure: 95.0</td>\n",
       "      <td>[[-2.0], [-2.0], [-3.0], [-2.0], [-2.0]]</td>\n",
       "      <td>[[-1.0], [-2.0], [-2.0], [-1.0], [-2.0]]</td>\n",
       "    </tr>\n",
       "    <tr>\n",
       "      <th>13</th>\n",
       "      <td>Days Of Wine And Roses, measure: 32.0</td>\n",
       "      <td>[[-2.0], [-2.0], [-3.0], [-2.0], [-2.0]]</td>\n",
       "      <td>[[-1.0], [-2.0], [-2.0], [-1.0], [-2.0]]</td>\n",
       "    </tr>\n",
       "    <tr>\n",
       "      <th>14</th>\n",
       "      <td>Days Of Wine And Roses, measure: 42.0</td>\n",
       "      <td>[[-2.0], [-2.0], [-3.0], [-2.0], [-2.0]]</td>\n",
       "      <td>[[-1.0], [-2.0], [-2.0], [-1.0], [-2.0]]</td>\n",
       "    </tr>\n",
       "    <tr>\n",
       "      <th>15</th>\n",
       "      <td>Days Of Wine And Roses, measure: 44.0</td>\n",
       "      <td>[[-2.0], [-2.0], [-3.0], [-2.0], [-2.0]]</td>\n",
       "      <td>[[-1.0], [-2.0], [-2.0], [-1.0], [-2.0]]</td>\n",
       "    </tr>\n",
       "    <tr>\n",
       "      <th>16</th>\n",
       "      <td>All The Things You Are, measure: 127.0</td>\n",
       "      <td>[[-2.0], [-2.0], [-3.0], [0.0], [-1.0]]</td>\n",
       "      <td>[[-1.0], [-2.0], [-2.0], [-1.0], [-2.0]]</td>\n",
       "    </tr>\n",
       "    <tr>\n",
       "      <th>17</th>\n",
       "      <td>Someday My Prince Will Come, measure: 211.0</td>\n",
       "      <td>[[-2.0], [-2.0], [-2.0], [-2.0], [-1.0]]</td>\n",
       "      <td>[[-1.0], [-2.0], [-2.0], [-1.0], [-2.0]]</td>\n",
       "    </tr>\n",
       "    <tr>\n",
       "      <th>18</th>\n",
       "      <td>Stella By Starlight, measure: 13.0</td>\n",
       "      <td>[[-2.0], [-2.0], [-2.0], [-1.0], [-2.0]]</td>\n",
       "      <td>[[-1.0], [-2.0], [-2.0], [-1.0], [-2.0]]</td>\n",
       "    </tr>\n",
       "    <tr>\n",
       "      <th>19</th>\n",
       "      <td>Stella By Starlight, measure: 160.0</td>\n",
       "      <td>[[-2.0], [-2.0], [-2.0], [-1.0], [-2.0]]</td>\n",
       "      <td>[[-1.0], [-2.0], [-2.0], [-1.0], [-2.0]]</td>\n",
       "    </tr>\n",
       "    <tr>\n",
       "      <th>20</th>\n",
       "      <td>If I Were A Bell, measure: 83.0</td>\n",
       "      <td>[[-2.0], [-2.0], [-2.0], [-1.0], [-2.0]]</td>\n",
       "      <td>[[-1.0], [-2.0], [-2.0], [-1.0], [-2.0]]</td>\n",
       "    </tr>\n",
       "    <tr>\n",
       "      <th>21</th>\n",
       "      <td>Someday My Prince Will Come, measure: 195.0</td>\n",
       "      <td>[[-2.0], [-2.0], [-2.0], [-1.0], [-2.0]]</td>\n",
       "      <td>[[-1.0], [-2.0], [-2.0], [-1.0], [-2.0]]</td>\n",
       "    </tr>\n",
       "    <tr>\n",
       "      <th>22</th>\n",
       "      <td>Someday My Prince Will Come, measure: 206.0</td>\n",
       "      <td>[[-2.0], [-2.0], [-2.0], [-1.0], [-2.0]]</td>\n",
       "      <td>[[-1.0], [-2.0], [-2.0], [-1.0], [-2.0]]</td>\n",
       "    </tr>\n",
       "    <tr>\n",
       "      <th>23</th>\n",
       "      <td>Someday My Prince Will Come, measure: 211.0</td>\n",
       "      <td>[[-2.0], [-2.0], [-2.0], [-1.0], [-2.0]]</td>\n",
       "      <td>[[-1.0], [-2.0], [-2.0], [-1.0], [-2.0]]</td>\n",
       "    </tr>\n",
       "    <tr>\n",
       "      <th>24</th>\n",
       "      <td>Someday My Prince Will Come, measure: 164.0</td>\n",
       "      <td>[[-2.0], [-2.0], [-2.0], [-1.0], [-1.0]]</td>\n",
       "      <td>[[-1.0], [-2.0], [-2.0], [-1.0], [-2.0]]</td>\n",
       "    </tr>\n",
       "    <tr>\n",
       "      <th>25</th>\n",
       "      <td>Stella By Starlight, measure: 97.0</td>\n",
       "      <td>[[-2.0], [-2.0], [-1.0], [-2.0], [-3.0]]</td>\n",
       "      <td>[[-1.0], [-2.0], [-2.0], [-1.0], [-2.0]]</td>\n",
       "    </tr>\n",
       "    <tr>\n",
       "      <th>26</th>\n",
       "      <td>Stella By Starlight, measure: 13.0</td>\n",
       "      <td>[[-2.0], [-2.0], [-1.0], [-2.0], [-2.0]]</td>\n",
       "      <td>[[-1.0], [-2.0], [-2.0], [-1.0], [-2.0]]</td>\n",
       "    </tr>\n",
       "    <tr>\n",
       "      <th>27</th>\n",
       "      <td>Stella By Starlight, measure: 75.0</td>\n",
       "      <td>[[-2.0], [-2.0], [-1.0], [-2.0], [-2.0]]</td>\n",
       "      <td>[[-1.0], [-2.0], [-2.0], [-1.0], [-2.0]]</td>\n",
       "    </tr>\n",
       "    <tr>\n",
       "      <th>28</th>\n",
       "      <td>Stella By Starlight, measure: 86.0</td>\n",
       "      <td>[[-2.0], [-2.0], [-1.0], [-2.0], [-2.0]]</td>\n",
       "      <td>[[-1.0], [-2.0], [-2.0], [-1.0], [-2.0]]</td>\n",
       "    </tr>\n",
       "    <tr>\n",
       "      <th>29</th>\n",
       "      <td>Stella By Starlight, measure: 160.0</td>\n",
       "      <td>[[-2.0], [-2.0], [-1.0], [-2.0], [-2.0]]</td>\n",
       "      <td>[[-1.0], [-2.0], [-2.0], [-1.0], [-2.0]]</td>\n",
       "    </tr>\n",
       "    <tr>\n",
       "      <th>...</th>\n",
       "      <td>...</td>\n",
       "      <td>...</td>\n",
       "      <td>...</td>\n",
       "    </tr>\n",
       "    <tr>\n",
       "      <th>256</th>\n",
       "      <td>If I Were A Bell, measure: 130.0</td>\n",
       "      <td>[[-1.0], [-1.0], [-1.0], [-1.0], [-2.0]]</td>\n",
       "      <td>[[-1.0], [-2.0], [-2.0], [-1.0], [-2.0]]</td>\n",
       "    </tr>\n",
       "    <tr>\n",
       "      <th>257</th>\n",
       "      <td>If I Were A Bell, measure: 193.0</td>\n",
       "      <td>[[-1.0], [-1.0], [-1.0], [-1.0], [-2.0]]</td>\n",
       "      <td>[[-1.0], [-2.0], [-2.0], [-1.0], [-2.0]]</td>\n",
       "    </tr>\n",
       "    <tr>\n",
       "      <th>258</th>\n",
       "      <td>If I Were A Bell, measure: 198.0</td>\n",
       "      <td>[[-1.0], [-1.0], [-1.0], [-1.0], [-2.0]]</td>\n",
       "      <td>[[-1.0], [-2.0], [-2.0], [-1.0], [-2.0]]</td>\n",
       "    </tr>\n",
       "    <tr>\n",
       "      <th>259</th>\n",
       "      <td>All The Things You Are, measure: 115.0</td>\n",
       "      <td>[[-1.0], [-1.0], [-1.0], [-1.0], [-2.0]]</td>\n",
       "      <td>[[-1.0], [-2.0], [-2.0], [-1.0], [-2.0]]</td>\n",
       "    </tr>\n",
       "    <tr>\n",
       "      <th>260</th>\n",
       "      <td>Groovin High, measure: 80.0</td>\n",
       "      <td>[[-1.0], [-1.0], [-1.0], [-1.0], [-1.0]]</td>\n",
       "      <td>[[-1.0], [-2.0], [-2.0], [-1.0], [-2.0]]</td>\n",
       "    </tr>\n",
       "    <tr>\n",
       "      <th>261</th>\n",
       "      <td>Groovin High, measure: 126.0</td>\n",
       "      <td>[[-1.0], [-1.0], [-1.0], [-1.0], [-1.0]]</td>\n",
       "      <td>[[-1.0], [-2.0], [-2.0], [-1.0], [-2.0]]</td>\n",
       "    </tr>\n",
       "    <tr>\n",
       "      <th>262</th>\n",
       "      <td>Groovin High, measure: 148.0</td>\n",
       "      <td>[[-1.0], [-1.0], [-1.0], [-1.0], [-1.0]]</td>\n",
       "      <td>[[-1.0], [-2.0], [-2.0], [-1.0], [-2.0]]</td>\n",
       "    </tr>\n",
       "    <tr>\n",
       "      <th>263</th>\n",
       "      <td>Groovin High, measure: 175.0</td>\n",
       "      <td>[[-1.0], [-1.0], [-1.0], [-1.0], [-1.0]]</td>\n",
       "      <td>[[-1.0], [-2.0], [-2.0], [-1.0], [-2.0]]</td>\n",
       "    </tr>\n",
       "    <tr>\n",
       "      <th>264</th>\n",
       "      <td>Groovin High, measure: 175.0</td>\n",
       "      <td>[[-1.0], [-1.0], [-1.0], [-1.0], [-1.0]]</td>\n",
       "      <td>[[-1.0], [-2.0], [-2.0], [-1.0], [-2.0]]</td>\n",
       "    </tr>\n",
       "    <tr>\n",
       "      <th>265</th>\n",
       "      <td>Groovin High, measure: 175.0</td>\n",
       "      <td>[[-1.0], [-1.0], [-1.0], [-1.0], [-1.0]]</td>\n",
       "      <td>[[-1.0], [-2.0], [-2.0], [-1.0], [-2.0]]</td>\n",
       "    </tr>\n",
       "    <tr>\n",
       "      <th>266</th>\n",
       "      <td>Groovin High, measure: 206.0</td>\n",
       "      <td>[[-1.0], [-1.0], [-1.0], [-1.0], [-1.0]]</td>\n",
       "      <td>[[-1.0], [-2.0], [-2.0], [-1.0], [-2.0]]</td>\n",
       "    </tr>\n",
       "    <tr>\n",
       "      <th>267</th>\n",
       "      <td>Groovin High, measure: 248.0</td>\n",
       "      <td>[[-1.0], [-1.0], [-1.0], [-1.0], [-1.0]]</td>\n",
       "      <td>[[-1.0], [-2.0], [-2.0], [-1.0], [-2.0]]</td>\n",
       "    </tr>\n",
       "    <tr>\n",
       "      <th>268</th>\n",
       "      <td>Groovin High, measure: 250.0</td>\n",
       "      <td>[[-1.0], [-1.0], [-1.0], [-1.0], [-1.0]]</td>\n",
       "      <td>[[-1.0], [-2.0], [-2.0], [-1.0], [-2.0]]</td>\n",
       "    </tr>\n",
       "    <tr>\n",
       "      <th>269</th>\n",
       "      <td>Groovin High, measure: 250.0</td>\n",
       "      <td>[[-1.0], [-1.0], [-1.0], [-1.0], [-1.0]]</td>\n",
       "      <td>[[-1.0], [-2.0], [-2.0], [-1.0], [-2.0]]</td>\n",
       "    </tr>\n",
       "    <tr>\n",
       "      <th>270</th>\n",
       "      <td>Groovin High, measure: 250.0</td>\n",
       "      <td>[[-1.0], [-1.0], [-1.0], [-1.0], [-1.0]]</td>\n",
       "      <td>[[-1.0], [-2.0], [-2.0], [-1.0], [-2.0]]</td>\n",
       "    </tr>\n",
       "    <tr>\n",
       "      <th>271</th>\n",
       "      <td>Groovin High, measure: 250.0</td>\n",
       "      <td>[[-1.0], [-1.0], [-1.0], [-1.0], [-1.0]]</td>\n",
       "      <td>[[-1.0], [-2.0], [-2.0], [-1.0], [-2.0]]</td>\n",
       "    </tr>\n",
       "    <tr>\n",
       "      <th>272</th>\n",
       "      <td>If I Were A Bell, measure: 73.0</td>\n",
       "      <td>[[-1.0], [-1.0], [-1.0], [-1.0], [-1.0]]</td>\n",
       "      <td>[[-1.0], [-2.0], [-2.0], [-1.0], [-2.0]]</td>\n",
       "    </tr>\n",
       "    <tr>\n",
       "      <th>273</th>\n",
       "      <td>If I Were A Bell, measure: 73.0</td>\n",
       "      <td>[[-1.0], [-1.0], [-1.0], [-1.0], [-1.0]]</td>\n",
       "      <td>[[-1.0], [-2.0], [-2.0], [-1.0], [-2.0]]</td>\n",
       "    </tr>\n",
       "    <tr>\n",
       "      <th>274</th>\n",
       "      <td>If I Were A Bell, measure: 116.0</td>\n",
       "      <td>[[-1.0], [-1.0], [-1.0], [-1.0], [-1.0]]</td>\n",
       "      <td>[[-1.0], [-2.0], [-2.0], [-1.0], [-2.0]]</td>\n",
       "    </tr>\n",
       "    <tr>\n",
       "      <th>275</th>\n",
       "      <td>If I Were A Bell, measure: 199.0</td>\n",
       "      <td>[[-1.0], [-1.0], [-1.0], [-1.0], [-1.0]]</td>\n",
       "      <td>[[-1.0], [-2.0], [-2.0], [-1.0], [-2.0]]</td>\n",
       "    </tr>\n",
       "    <tr>\n",
       "      <th>276</th>\n",
       "      <td>If I Were A Bell, measure: 211.0</td>\n",
       "      <td>[[-1.0], [-1.0], [-1.0], [-1.0], [-1.0]]</td>\n",
       "      <td>[[-1.0], [-2.0], [-2.0], [-1.0], [-2.0]]</td>\n",
       "    </tr>\n",
       "    <tr>\n",
       "      <th>277</th>\n",
       "      <td>Armandos Rhumba, measure: 42.0</td>\n",
       "      <td>[[-1.0], [-1.0], [-1.0], [-1.0], [-1.0]]</td>\n",
       "      <td>[[-1.0], [-2.0], [-2.0], [-1.0], [-2.0]]</td>\n",
       "    </tr>\n",
       "    <tr>\n",
       "      <th>278</th>\n",
       "      <td>Armandos Rhumba, measure: 72.0</td>\n",
       "      <td>[[-1.0], [-1.0], [-1.0], [-1.0], [-1.0]]</td>\n",
       "      <td>[[-1.0], [-2.0], [-2.0], [-1.0], [-2.0]]</td>\n",
       "    </tr>\n",
       "    <tr>\n",
       "      <th>279</th>\n",
       "      <td>Armandos Rhumba, measure: 72.0</td>\n",
       "      <td>[[-1.0], [-1.0], [-1.0], [-1.0], [-1.0]]</td>\n",
       "      <td>[[-1.0], [-2.0], [-2.0], [-1.0], [-2.0]]</td>\n",
       "    </tr>\n",
       "    <tr>\n",
       "      <th>280</th>\n",
       "      <td>Armandos Rhumba, measure: 72.0</td>\n",
       "      <td>[[-1.0], [-1.0], [-1.0], [-1.0], [-1.0]]</td>\n",
       "      <td>[[-1.0], [-2.0], [-2.0], [-1.0], [-2.0]]</td>\n",
       "    </tr>\n",
       "    <tr>\n",
       "      <th>281</th>\n",
       "      <td>Armandos Rhumba, measure: 72.0</td>\n",
       "      <td>[[-1.0], [-1.0], [-1.0], [-1.0], [-1.0]]</td>\n",
       "      <td>[[-1.0], [-2.0], [-2.0], [-1.0], [-2.0]]</td>\n",
       "    </tr>\n",
       "    <tr>\n",
       "      <th>282</th>\n",
       "      <td>Armandos Rhumba, measure: 72.0</td>\n",
       "      <td>[[-1.0], [-1.0], [-1.0], [-1.0], [-1.0]]</td>\n",
       "      <td>[[-1.0], [-2.0], [-2.0], [-1.0], [-2.0]]</td>\n",
       "    </tr>\n",
       "    <tr>\n",
       "      <th>283</th>\n",
       "      <td>Armandos Rhumba, measure: 72.0</td>\n",
       "      <td>[[-1.0], [-1.0], [-1.0], [-1.0], [-1.0]]</td>\n",
       "      <td>[[-1.0], [-2.0], [-2.0], [-1.0], [-2.0]]</td>\n",
       "    </tr>\n",
       "    <tr>\n",
       "      <th>284</th>\n",
       "      <td>Groovin High, measure: 81.0</td>\n",
       "      <td>[[0.0], [-2.0], [-2.0], [-1.0], [-2.0]]</td>\n",
       "      <td>[[-1.0], [-2.0], [-2.0], [-1.0], [-2.0]]</td>\n",
       "    </tr>\n",
       "    <tr>\n",
       "      <th>285</th>\n",
       "      <td>If I Were A Bell, measure: 136.0</td>\n",
       "      <td>[[0.0], [-1.0], [-1.0], [-1.0], [-3.0]]</td>\n",
       "      <td>[[-1.0], [-2.0], [-2.0], [-1.0], [-2.0]]</td>\n",
       "    </tr>\n",
       "  </tbody>\n",
       "</table>\n",
       "<p>286 rows × 3 columns</p>\n",
       "</div>"
      ],
      "text/plain": [
       "                              Title and location                           Similiar Phrase                           Original phrase\n",
       "0         Days Of Wine And Roses, measure: 121.0  [[-2.0], [-3.0], [-2.0], [-2.0], [-3.0]]  [[-1.0], [-2.0], [-2.0], [-1.0], [-2.0]]\n",
       "1                     Groovin High, measure: 3.0  [[-2.0], [-3.0], [-2.0], [-2.0], [-1.0]]  [[-1.0], [-2.0], [-2.0], [-1.0], [-2.0]]\n",
       "2               If I Were A Bell, measure: 205.0  [[-2.0], [-3.0], [-2.0], [-2.0], [-1.0]]  [[-1.0], [-2.0], [-2.0], [-1.0], [-2.0]]\n",
       "3         All The Things You Are, measure: 225.0  [[-2.0], [-3.0], [-2.0], [-2.0], [-1.0]]  [[-1.0], [-2.0], [-2.0], [-1.0], [-2.0]]\n",
       "4          Days Of Wine And Roses, measure: 42.0  [[-2.0], [-3.0], [-2.0], [-2.0], [-1.0]]  [[-1.0], [-2.0], [-2.0], [-1.0], [-2.0]]\n",
       "5          Days Of Wine And Roses, measure: 44.0  [[-2.0], [-3.0], [-2.0], [-2.0], [-1.0]]  [[-1.0], [-2.0], [-2.0], [-1.0], [-2.0]]\n",
       "6               If I Were A Bell, measure: 184.0  [[-2.0], [-3.0], [-2.0], [-1.0], [-2.0]]  [[-1.0], [-2.0], [-2.0], [-1.0], [-2.0]]\n",
       "7     Someday My Prince Will Come, measure: 84.0  [[-2.0], [-3.0], [-2.0], [-1.0], [-2.0]]  [[-1.0], [-2.0], [-2.0], [-1.0], [-2.0]]\n",
       "8                  Autumn Leaves, measure: 138.0  [[-2.0], [-3.0], [-2.0], [-1.0], [-1.0]]  [[-1.0], [-2.0], [-2.0], [-1.0], [-2.0]]\n",
       "9                   Autumn Leaves, measure: 86.0  [[-2.0], [-3.0], [-1.0], [-1.0], [-1.0]]  [[-1.0], [-2.0], [-2.0], [-1.0], [-2.0]]\n",
       "10                  Autumn Leaves, measure: 46.0  [[-2.0], [-2.0], [-3.0], [-2.0], [-3.0]]  [[-1.0], [-2.0], [-2.0], [-1.0], [-2.0]]\n",
       "11                    Groovin High, measure: 3.0  [[-2.0], [-2.0], [-3.0], [-2.0], [-2.0]]  [[-1.0], [-2.0], [-2.0], [-1.0], [-2.0]]\n",
       "12                  Autumn Leaves, measure: 95.0  [[-2.0], [-2.0], [-3.0], [-2.0], [-2.0]]  [[-1.0], [-2.0], [-2.0], [-1.0], [-2.0]]\n",
       "13         Days Of Wine And Roses, measure: 32.0  [[-2.0], [-2.0], [-3.0], [-2.0], [-2.0]]  [[-1.0], [-2.0], [-2.0], [-1.0], [-2.0]]\n",
       "14         Days Of Wine And Roses, measure: 42.0  [[-2.0], [-2.0], [-3.0], [-2.0], [-2.0]]  [[-1.0], [-2.0], [-2.0], [-1.0], [-2.0]]\n",
       "15         Days Of Wine And Roses, measure: 44.0  [[-2.0], [-2.0], [-3.0], [-2.0], [-2.0]]  [[-1.0], [-2.0], [-2.0], [-1.0], [-2.0]]\n",
       "16        All The Things You Are, measure: 127.0   [[-2.0], [-2.0], [-3.0], [0.0], [-1.0]]  [[-1.0], [-2.0], [-2.0], [-1.0], [-2.0]]\n",
       "17   Someday My Prince Will Come, measure: 211.0  [[-2.0], [-2.0], [-2.0], [-2.0], [-1.0]]  [[-1.0], [-2.0], [-2.0], [-1.0], [-2.0]]\n",
       "18            Stella By Starlight, measure: 13.0  [[-2.0], [-2.0], [-2.0], [-1.0], [-2.0]]  [[-1.0], [-2.0], [-2.0], [-1.0], [-2.0]]\n",
       "19           Stella By Starlight, measure: 160.0  [[-2.0], [-2.0], [-2.0], [-1.0], [-2.0]]  [[-1.0], [-2.0], [-2.0], [-1.0], [-2.0]]\n",
       "20               If I Were A Bell, measure: 83.0  [[-2.0], [-2.0], [-2.0], [-1.0], [-2.0]]  [[-1.0], [-2.0], [-2.0], [-1.0], [-2.0]]\n",
       "21   Someday My Prince Will Come, measure: 195.0  [[-2.0], [-2.0], [-2.0], [-1.0], [-2.0]]  [[-1.0], [-2.0], [-2.0], [-1.0], [-2.0]]\n",
       "22   Someday My Prince Will Come, measure: 206.0  [[-2.0], [-2.0], [-2.0], [-1.0], [-2.0]]  [[-1.0], [-2.0], [-2.0], [-1.0], [-2.0]]\n",
       "23   Someday My Prince Will Come, measure: 211.0  [[-2.0], [-2.0], [-2.0], [-1.0], [-2.0]]  [[-1.0], [-2.0], [-2.0], [-1.0], [-2.0]]\n",
       "24   Someday My Prince Will Come, measure: 164.0  [[-2.0], [-2.0], [-2.0], [-1.0], [-1.0]]  [[-1.0], [-2.0], [-2.0], [-1.0], [-2.0]]\n",
       "25            Stella By Starlight, measure: 97.0  [[-2.0], [-2.0], [-1.0], [-2.0], [-3.0]]  [[-1.0], [-2.0], [-2.0], [-1.0], [-2.0]]\n",
       "26            Stella By Starlight, measure: 13.0  [[-2.0], [-2.0], [-1.0], [-2.0], [-2.0]]  [[-1.0], [-2.0], [-2.0], [-1.0], [-2.0]]\n",
       "27            Stella By Starlight, measure: 75.0  [[-2.0], [-2.0], [-1.0], [-2.0], [-2.0]]  [[-1.0], [-2.0], [-2.0], [-1.0], [-2.0]]\n",
       "28            Stella By Starlight, measure: 86.0  [[-2.0], [-2.0], [-1.0], [-2.0], [-2.0]]  [[-1.0], [-2.0], [-2.0], [-1.0], [-2.0]]\n",
       "29           Stella By Starlight, measure: 160.0  [[-2.0], [-2.0], [-1.0], [-2.0], [-2.0]]  [[-1.0], [-2.0], [-2.0], [-1.0], [-2.0]]\n",
       "..                                           ...                                       ...                                       ...\n",
       "256             If I Were A Bell, measure: 130.0  [[-1.0], [-1.0], [-1.0], [-1.0], [-2.0]]  [[-1.0], [-2.0], [-2.0], [-1.0], [-2.0]]\n",
       "257             If I Were A Bell, measure: 193.0  [[-1.0], [-1.0], [-1.0], [-1.0], [-2.0]]  [[-1.0], [-2.0], [-2.0], [-1.0], [-2.0]]\n",
       "258             If I Were A Bell, measure: 198.0  [[-1.0], [-1.0], [-1.0], [-1.0], [-2.0]]  [[-1.0], [-2.0], [-2.0], [-1.0], [-2.0]]\n",
       "259       All The Things You Are, measure: 115.0  [[-1.0], [-1.0], [-1.0], [-1.0], [-2.0]]  [[-1.0], [-2.0], [-2.0], [-1.0], [-2.0]]\n",
       "260                  Groovin High, measure: 80.0  [[-1.0], [-1.0], [-1.0], [-1.0], [-1.0]]  [[-1.0], [-2.0], [-2.0], [-1.0], [-2.0]]\n",
       "261                 Groovin High, measure: 126.0  [[-1.0], [-1.0], [-1.0], [-1.0], [-1.0]]  [[-1.0], [-2.0], [-2.0], [-1.0], [-2.0]]\n",
       "262                 Groovin High, measure: 148.0  [[-1.0], [-1.0], [-1.0], [-1.0], [-1.0]]  [[-1.0], [-2.0], [-2.0], [-1.0], [-2.0]]\n",
       "263                 Groovin High, measure: 175.0  [[-1.0], [-1.0], [-1.0], [-1.0], [-1.0]]  [[-1.0], [-2.0], [-2.0], [-1.0], [-2.0]]\n",
       "264                 Groovin High, measure: 175.0  [[-1.0], [-1.0], [-1.0], [-1.0], [-1.0]]  [[-1.0], [-2.0], [-2.0], [-1.0], [-2.0]]\n",
       "265                 Groovin High, measure: 175.0  [[-1.0], [-1.0], [-1.0], [-1.0], [-1.0]]  [[-1.0], [-2.0], [-2.0], [-1.0], [-2.0]]\n",
       "266                 Groovin High, measure: 206.0  [[-1.0], [-1.0], [-1.0], [-1.0], [-1.0]]  [[-1.0], [-2.0], [-2.0], [-1.0], [-2.0]]\n",
       "267                 Groovin High, measure: 248.0  [[-1.0], [-1.0], [-1.0], [-1.0], [-1.0]]  [[-1.0], [-2.0], [-2.0], [-1.0], [-2.0]]\n",
       "268                 Groovin High, measure: 250.0  [[-1.0], [-1.0], [-1.0], [-1.0], [-1.0]]  [[-1.0], [-2.0], [-2.0], [-1.0], [-2.0]]\n",
       "269                 Groovin High, measure: 250.0  [[-1.0], [-1.0], [-1.0], [-1.0], [-1.0]]  [[-1.0], [-2.0], [-2.0], [-1.0], [-2.0]]\n",
       "270                 Groovin High, measure: 250.0  [[-1.0], [-1.0], [-1.0], [-1.0], [-1.0]]  [[-1.0], [-2.0], [-2.0], [-1.0], [-2.0]]\n",
       "271                 Groovin High, measure: 250.0  [[-1.0], [-1.0], [-1.0], [-1.0], [-1.0]]  [[-1.0], [-2.0], [-2.0], [-1.0], [-2.0]]\n",
       "272              If I Were A Bell, measure: 73.0  [[-1.0], [-1.0], [-1.0], [-1.0], [-1.0]]  [[-1.0], [-2.0], [-2.0], [-1.0], [-2.0]]\n",
       "273              If I Were A Bell, measure: 73.0  [[-1.0], [-1.0], [-1.0], [-1.0], [-1.0]]  [[-1.0], [-2.0], [-2.0], [-1.0], [-2.0]]\n",
       "274             If I Were A Bell, measure: 116.0  [[-1.0], [-1.0], [-1.0], [-1.0], [-1.0]]  [[-1.0], [-2.0], [-2.0], [-1.0], [-2.0]]\n",
       "275             If I Were A Bell, measure: 199.0  [[-1.0], [-1.0], [-1.0], [-1.0], [-1.0]]  [[-1.0], [-2.0], [-2.0], [-1.0], [-2.0]]\n",
       "276             If I Were A Bell, measure: 211.0  [[-1.0], [-1.0], [-1.0], [-1.0], [-1.0]]  [[-1.0], [-2.0], [-2.0], [-1.0], [-2.0]]\n",
       "277               Armandos Rhumba, measure: 42.0  [[-1.0], [-1.0], [-1.0], [-1.0], [-1.0]]  [[-1.0], [-2.0], [-2.0], [-1.0], [-2.0]]\n",
       "278               Armandos Rhumba, measure: 72.0  [[-1.0], [-1.0], [-1.0], [-1.0], [-1.0]]  [[-1.0], [-2.0], [-2.0], [-1.0], [-2.0]]\n",
       "279               Armandos Rhumba, measure: 72.0  [[-1.0], [-1.0], [-1.0], [-1.0], [-1.0]]  [[-1.0], [-2.0], [-2.0], [-1.0], [-2.0]]\n",
       "280               Armandos Rhumba, measure: 72.0  [[-1.0], [-1.0], [-1.0], [-1.0], [-1.0]]  [[-1.0], [-2.0], [-2.0], [-1.0], [-2.0]]\n",
       "281               Armandos Rhumba, measure: 72.0  [[-1.0], [-1.0], [-1.0], [-1.0], [-1.0]]  [[-1.0], [-2.0], [-2.0], [-1.0], [-2.0]]\n",
       "282               Armandos Rhumba, measure: 72.0  [[-1.0], [-1.0], [-1.0], [-1.0], [-1.0]]  [[-1.0], [-2.0], [-2.0], [-1.0], [-2.0]]\n",
       "283               Armandos Rhumba, measure: 72.0  [[-1.0], [-1.0], [-1.0], [-1.0], [-1.0]]  [[-1.0], [-2.0], [-2.0], [-1.0], [-2.0]]\n",
       "284                  Groovin High, measure: 81.0   [[0.0], [-2.0], [-2.0], [-1.0], [-2.0]]  [[-1.0], [-2.0], [-2.0], [-1.0], [-2.0]]\n",
       "285             If I Were A Bell, measure: 136.0   [[0.0], [-1.0], [-1.0], [-1.0], [-3.0]]  [[-1.0], [-2.0], [-2.0], [-1.0], [-2.0]]\n",
       "\n",
       "[286 rows x 3 columns]"
      ]
     },
     "execution_count": 17,
     "metadata": {},
     "output_type": "execute_result"
    }
   ],
   "source": [
    "arrayOfPhraseQueries[8]"
   ]
  },
  {
   "cell_type": "code",
   "execution_count": 18,
   "metadata": {
    "collapsed": false
   },
   "outputs": [
    {
     "data": {
      "text/plain": [
       "8845"
      ]
     },
     "execution_count": 18,
     "metadata": {},
     "output_type": "execute_result"
    }
   ],
   "source": [
    "len(fiveNotephrases)"
   ]
  },
  {
   "cell_type": "code",
   "execution_count": 19,
   "metadata": {
    "collapsed": false
   },
   "outputs": [
    {
     "data": {
      "image/png": "[encoded data removed]",
      "text/plain": [
       "<music21.ipython21.objects.IPythonPNGObject at 0x116a5d490>"
      ]
     },
     "execution_count": 19,
     "metadata": {},
     "output_type": "execute_result"
    }
   ],
   "source": [
    "select = muStellaByStarlight.parts[0].measures(5,6)\n",
    "select.show()"
   ]
  },
  {
   "cell_type": "code",
   "execution_count": 20,
   "metadata": {
    "collapsed": false
   },
   "outputs": [
    {
     "data": {
      "image/png": "[encoded data removed]",
      "text/plain": [
       "<music21.ipython21.objects.IPythonPNGObject at 0x1181ea910>"
      ]
     },
     "execution_count": 20,
     "metadata": {},
     "output_type": "execute_result"
    }
   ],
   "source": [
    "select = muAutumnLeaves.parts[0].measures(41,42)\n",
    "select.show()"
   ]
  },
  {
   "cell_type": "code",
   "execution_count": null,
   "metadata": {
    "collapsed": true
   },
   "outputs": [],
   "source": []
  },
  {
   "cell_type": "code",
   "execution_count": null,
   "metadata": {
    "collapsed": true
   },
   "outputs": [],
   "source": []
  },
  {
   "cell_type": "code",
   "execution_count": null,
   "metadata": {
    "collapsed": true
   },
   "outputs": [],
   "source": []
  },
  {
   "cell_type": "code",
   "execution_count": null,
   "metadata": {
    "collapsed": true
   },
   "outputs": [],
   "source": []
  },
  {
   "cell_type": "code",
   "execution_count": null,
   "metadata": {
    "collapsed": true
   },
   "outputs": [],
   "source": []
  },
  {
   "cell_type": "code",
   "execution_count": null,
   "metadata": {
    "collapsed": true
   },
   "outputs": [],
   "source": []
  },
  {
   "cell_type": "code",
   "execution_count": null,
   "metadata": {
    "collapsed": true
   },
   "outputs": [],
   "source": []
  },
  {
   "cell_type": "code",
   "execution_count": null,
   "metadata": {
    "collapsed": true
   },
   "outputs": [],
   "source": []
  },
  {
   "cell_type": "code",
   "execution_count": null,
   "metadata": {
    "collapsed": true
   },
   "outputs": [],
   "source": []
  },
  {
   "cell_type": "code",
   "execution_count": null,
   "metadata": {
    "collapsed": true
   },
   "outputs": [],
   "source": []
  }
 ],
 "metadata": {
  "kernelspec": {
   "display_name": "Python 2",
   "language": "python",
   "name": "python2"
  },
  "language_info": {
   "codemirror_mode": {
    "name": "ipython",
    "version": 2
   },
   "file_extension": ".py",
   "mimetype": "text/x-python",
   "name": "python",
   "nbconvert_exporter": "python",
   "pygments_lexer": "ipython2",
   "version": "2.7.6"
  }
 },
 "nbformat": 4,
 "nbformat_minor": 0
}
