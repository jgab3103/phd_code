{
 "cells": [
  {
   "cell_type": "code",
   "execution_count": 1,
   "metadata": {
    "collapsed": false
   },
   "outputs": [
    {
     "name": "stdout",
     "output_type": "stream",
     "text": [
      "Populating the interactive namespace from numpy and matplotlib\n"
     ]
    }
   ],
   "source": [
    "import pandas as pd\n",
    "from IPython.core.display import HTML\n",
    "from IPython.core.display import Image \n",
    "%load_ext music21.ipython21.ipExtension\n",
    "import numpy as np\n",
    "import music21 as mu\n",
    "import pymongo\n",
    "%pylab inline\n",
    "from pymongo import MongoClient\n",
    "from bs4 import BeautifulSoup\n",
    "import re\n",
    "import pydash as py_\n",
    "pd.set_option('display.mpl_style', 'default')\n",
    "plt.rcParams['figure.figsize'] = (15, 5)\n",
    "import math\n",
    "import music21 as mu\n",
    "from functools import partial\n",
    "import itertools\n",
    "from itertools import chain\n",
    "# This is necessary to show lots of columns in pandas 0.12. \n",
    "# Not necessary in pandas 0.13.\n",
    "pd.set_option('display.width', 5000) \n",
    "pd.set_option('display.max_columns', 60)\n"
   ]
  },
  {
   "cell_type": "code",
   "execution_count": 2,
   "metadata": {
    "collapsed": false
   },
   "outputs": [],
   "source": [
    "muAutumnLeaves = mu.converter.parse('FinalDataSet/XMLFiles/JazzSolos/KJAutumnLeaves1996_1371_192.xml')\n",
    "muStellaByStarlight = mu.converter.parse('FinalDataSet/XMLFiles/JazzSolos/KJStellaByStarlight1983_1534_161.xml')\n",
    "muGroovinHigh = mu.converter.parse('FinalDataSet/XMLFiles/JazzSolos/KJGroovinHigh1999_1996_290.xml')\n",
    "muAllTheThingsYouAre = mu.converter.parse('FinalDataSet/XMLFiles/JazzSolos/KJAllTheThingsYouAre1983_2143_290.xml')\n",
    "muIfIWereABell = mu.converter.parse('FinalDataSet/XMLFiles/JazzSolos/KJIfIWereABell2002_2161_227.xml')"
   ]
  },
  {
   "cell_type": "code",
   "execution_count": 3,
   "metadata": {
    "collapsed": false
   },
   "outputs": [],
   "source": [
    "df = pd.read_pickle('data_set_as_pk.pkl')"
   ]
  },
  {
   "cell_type": "markdown",
   "metadata": {},
   "source": [
    "<h4><a id=\"microphrase\">Similar phrases, sequences and patterns</a></h4>"
   ]
  },
  {
   "cell_type": "markdown",
   "metadata": {},
   "source": [
    "<div>\n",
    "Similiarity, similiar contour is important...problematic to look for identical things, this prhases seem to be uildt as similtimiliar phrases seem to be in these corposes, so if we don't look for idetnical repetition, but similiartity what is found. This tells us about repetition in a different way, patterns also are revealed - looking at longer phrases\n",
    "</div>"
   ]
  },
  {
   "cell_type": "markdown",
   "metadata": {},
   "source": [
    "<div>To explore, this lets look at 3 and 8 note phrases. It becomes computational expensie possible to look at far longer, though they are computation expensive</div>"
   ]
  },
  {
   "cell_type": "code",
   "execution_count": 4,
   "metadata": {
    "collapsed": false
   },
   "outputs": [],
   "source": [
    "#utilitity methods to build phrases\n",
    "def titleAsString(data_row):\n",
    "    titleAsString = str(data_row[0][0:1][0])\n",
    "    locationAsString = str(data_row[0][1:2][0])\n",
    "    return titleAsString + ', measure: ' + locationAsString\n",
    "\n",
    "def concatenatePhrase(x, data_row):\n",
    "    phraseArray = []\n",
    "    startingIndexForNoteDetails = x[1]\n",
    "    endingIndexForNoteDetails = x[2]\n",
    "    \n",
    "    for i in range(0, x[0]):\n",
    "        phraseArray.append(data_row[i][startingIndexForNoteDetails:endingIndexForNoteDetails])\n",
    "\n",
    "    return phraseArray\n",
    "\n",
    "def flagIfNoFrequency(x, data_row):\n",
    "    flag = 0\n",
    "    for i in range(0, x):\n",
    "        if np.isnan(data_row[i][2]):\n",
    "            flag = 1\n",
    "    return flag\n",
    "\n",
    "def createStringForRelevativeFrequencyList(data_row):\n",
    "    return str(data_row['Phrase with relative frequency only'])\n",
    "\n",
    "def createFlexiblePhrases(data_row):\n",
    "    retArr = []\n",
    "    for item in data_row['Phrase with relative frequency only']:\n",
    "        arr = []\n",
    "        formattingArr = []\n",
    "        \n",
    "        formattingArr.append(item[0] - 1)\n",
    "        arr.append(formattingArr)\n",
    "        formattingArr = []\n",
    "        formattingArr.append(item[0])\n",
    "        arr.append(formattingArr)\n",
    "        formattingArr = []\n",
    "        formattingArr.append(item[0] + 1)\n",
    "        arr.append(formattingArr)\n",
    "        retArr.append(arr)\n",
    "        \n",
    "\n",
    "                \n",
    "    queryArray = []\n",
    "    for x in itertools.product(*retArr):\n",
    "        queryArray.append(x)\n",
    "                \n",
    "        \n",
    "    return queryArray"
   ]
  },
  {
   "cell_type": "code",
   "execution_count": 5,
   "metadata": {
    "collapsed": false
   },
   "outputs": [],
   "source": [
    "#class to break notes up into individual phrases and track different lengths of phrases\n",
    "class CreateDataFramesForPhraseAnalysis:\n",
    "    def __init__(self, dataFrame=\"\", numberOfNotesInPhrase = -1):\n",
    "        self.df = dataFrame\n",
    "        self.microPhraseArray = -1\n",
    "        self.twoNotePhrases = -1\n",
    "        self.startValueToIncludeFrequencyInPhrase = 2\n",
    "        self.startValueToExludeFrequency = 3\n",
    "        self.endValueToExcludeRelativeFrequency = 4\n",
    "        self.endValueToIncludeAllNoteDetails = 5\n",
    "        self.numberOfNotesInPhrase = numberOfNotesInPhrase\n",
    "\n",
    "    def createDataFrames(self):\n",
    "        dfForPhrasePatterns = self.df[self.df['part'] == 'P1'][['title','measure', 'midiNumber', 'quarterNoteDuration', 'nextNoteFreqDistance', 'noteEventStartingLocation', 'Location in measure']]\n",
    "        listOfNotes = dfForPhrasePatterns.values.tolist()\n",
    "        microPhraseLength = self.numberOfNotesInPhrase\n",
    "        microPhraseArray = []\n",
    "        microPhrase = []\n",
    "        for x in range(0, len(listOfNotes)):\n",
    "            counter = 0\n",
    "            while(counter < microPhraseLength):\n",
    "                try:\n",
    "                    val = listOfNotes[x + counter]\n",
    "                except:\n",
    "                    pass\n",
    "                microPhrase.append(val)\n",
    "                counter = counter + 1\n",
    "            microPhraseArray.append(microPhrase)\n",
    "            microPhrase = []\n",
    "            \n",
    "        self.twoNotePhrases = pd.DataFrame(microPhraseArray)\n",
    "\n",
    "        self.twoNotePhrases['Title and location'] = self.twoNotePhrases.apply(titleAsString, axis=1)\n",
    "        self.twoNotePhrases['Phrase with relative frequency only'] = self.twoNotePhrases.apply(partial(concatenatePhrase, (self.numberOfNotesInPhrase, self.endValueToExcludeRelativeFrequency, self.endValueToIncludeAllNoteDetails)), axis=1)\n",
    "        self.twoNotePhrases['No Frequency'] = self.twoNotePhrases.apply(partial(flagIfNoFrequency, self.numberOfNotesInPhrase), axis=1)\n",
    "        self.twoNotePhrases['Phrase as string'] = self.twoNotePhrases.apply(createStringForRelevativeFrequencyList, axis=1)\n",
    "        self.twoNotePhrases['Structures of related phrases'] = self.twoNotePhrases.apply(createFlexiblePhrases, axis=1)\n",
    "        \n",
    "        \n",
    "    def removeGhostPhrasesAndUnneededColumns(self):\n",
    "        self.twoNotePhrases = self.twoNotePhrases[self.twoNotePhrases['No Frequency'] == 0]\n",
    "        for i in range(0, self.numberOfNotesInPhrase):\n",
    "            del self.twoNotePhrases[i]\n",
    "        del self.twoNotePhrases['No Frequency']\n",
    "        del self.twoNotePhrases['Phrase with relative frequency only']\n",
    "\n",
    "    def returnDataFramesForAnalysis(self):\n",
    "        #print self.twoNotePhrases\n",
    "        return self.twoNotePhrases\n"
   ]
  },
  {
   "cell_type": "markdown",
   "metadata": {},
   "source": [
    "<div>Again we will create a list of data frames that hold each of the phrases, and their related phrase</div>"
   ]
  },
  {
   "cell_type": "code",
   "execution_count": 6,
   "metadata": {
    "collapsed": false
   },
   "outputs": [],
   "source": [
    "createFiveNotePhraseData = CreateDataFramesForPhraseAnalysis(df, 5)\n",
    "createFiveNotePhraseData.createDataFrames()\n",
    "createFiveNotePhraseData.removeGhostPhrasesAndUnneededColumns()\n",
    "fiveNotephrases = createFiveNotePhraseData.returnDataFramesForAnalysis()\n",
    "\n"
   ]
  },
  {
   "cell_type": "markdown",
   "metadata": {},
   "source": [
    "<div>For this, we are looking at rel frequenciy, as that is where most of the commonality is found. The first this is to create a list that has the similiar phrase. So this would look like below</div>"
   ]
  },
  {
   "cell_type": "code",
   "execution_count": 7,
   "metadata": {
    "collapsed": false,
    "scrolled": true
   },
   "outputs": [
    {
     "data": {
      "text/html": [
       "<div>\n",
       "<table border=\"1\" class=\"dataframe\">\n",
       "  <thead>\n",
       "    <tr style=\"text-align: right;\">\n",
       "      <th></th>\n",
       "      <th>Title and location</th>\n",
       "      <th>Phrase as string</th>\n",
       "      <th>Structures of related phrases</th>\n",
       "    </tr>\n",
       "  </thead>\n",
       "  <tbody>\n",
       "    <tr>\n",
       "      <th>13</th>\n",
       "      <td>Stella By Starlight, measure: 3.0</td>\n",
       "      <td>[[2.0], [9.0], [-2.0], [-3.0], [-4.0]]</td>\n",
       "      <td>[([1.0], [8.0], [-3.0], [-4.0], [-5.0]), ([1.0...</td>\n",
       "    </tr>\n",
       "    <tr>\n",
       "      <th>14</th>\n",
       "      <td>Stella By Starlight, measure: 3.0</td>\n",
       "      <td>[[9.0], [-2.0], [-3.0], [-4.0], [-2.0]]</td>\n",
       "      <td>[([8.0], [-3.0], [-4.0], [-5.0], [-3.0]), ([8....</td>\n",
       "    </tr>\n",
       "    <tr>\n",
       "      <th>15</th>\n",
       "      <td>Stella By Starlight, measure: 3.0</td>\n",
       "      <td>[[-2.0], [-3.0], [-4.0], [-2.0], [-1.0]]</td>\n",
       "      <td>[([-3.0], [-4.0], [-5.0], [-3.0], [-2.0]), ([-...</td>\n",
       "    </tr>\n",
       "    <tr>\n",
       "      <th>16</th>\n",
       "      <td>Stella By Starlight, measure: 4.0</td>\n",
       "      <td>[[-3.0], [-4.0], [-2.0], [-1.0], [nan]]</td>\n",
       "      <td>[([-4.0], [-5.0], [-3.0], [-2.0], [nan]), ([-4...</td>\n",
       "    </tr>\n",
       "    <tr>\n",
       "      <th>23</th>\n",
       "      <td>Stella By Starlight, measure: 5.0</td>\n",
       "      <td>[[1.0], [1.0], [2.0], [1.0], [-1.0]]</td>\n",
       "      <td>[([0.0], [0.0], [1.0], [0.0], [-2.0]), ([0.0],...</td>\n",
       "    </tr>\n",
       "  </tbody>\n",
       "</table>\n",
       "</div>"
      ],
      "text/plain": [
       "                   Title and location                          Phrase as string                      Structures of related phrases\n",
       "13  Stella By Starlight, measure: 3.0    [[2.0], [9.0], [-2.0], [-3.0], [-4.0]]  [([1.0], [8.0], [-3.0], [-4.0], [-5.0]), ([1.0...\n",
       "14  Stella By Starlight, measure: 3.0   [[9.0], [-2.0], [-3.0], [-4.0], [-2.0]]  [([8.0], [-3.0], [-4.0], [-5.0], [-3.0]), ([8....\n",
       "15  Stella By Starlight, measure: 3.0  [[-2.0], [-3.0], [-4.0], [-2.0], [-1.0]]  [([-3.0], [-4.0], [-5.0], [-3.0], [-2.0]), ([-...\n",
       "16  Stella By Starlight, measure: 4.0   [[-3.0], [-4.0], [-2.0], [-1.0], [nan]]  [([-4.0], [-5.0], [-3.0], [-2.0], [nan]), ([-4...\n",
       "23  Stella By Starlight, measure: 5.0      [[1.0], [1.0], [2.0], [1.0], [-1.0]]  [([0.0], [0.0], [1.0], [0.0], [-2.0]), ([0.0],..."
      ]
     },
     "execution_count": 7,
     "metadata": {},
     "output_type": "execute_result"
    }
   ],
   "source": [
    "fiveNotephrases.head()"
   ]
  },
  {
   "cell_type": "markdown",
   "metadata": {},
   "source": [
    "<div>Look at each example of this in notation</div>"
   ]
  },
  {
   "cell_type": "code",
   "execution_count": 8,
   "metadata": {
    "collapsed": true
   },
   "outputs": [],
   "source": [
    "listOfQueriesRelatedToPhrases = fiveNotephrases['Structures of related phrases'].values"
   ]
  },
  {
   "cell_type": "markdown",
   "metadata": {},
   "source": [
    "<div>So what does one of these look like?</div>"
   ]
  },
  {
   "cell_type": "code",
   "execution_count": 12,
   "metadata": {
    "collapsed": true
   },
   "outputs": [],
   "source": [
    "def createDataFrameWithRelatedPhrases(phraseFromCorpus, phraseToSend):\n",
    "    listOfRelatedPhrasesInCorpus = []\n",
    "    for eachPhraseArchetype in phraseFromCorpus:\n",
    "        eachPhraseArchetypeAsString =  str(list(eachPhraseArchetype))\n",
    "        phraseQuery = fiveNotephrases[fiveNotephrases['Phrase as string'] == eachPhraseArchetypeAsString][['Title and location', 'Phrase as string']].values.tolist()\n",
    "        if len(phraseQuery) != 0:\n",
    "            listOfRelatedPhrasesInCorpus.append(phraseQuery)\n",
    "\n",
    "    a = list(chain.from_iterable(listOfRelatedPhrasesInCorpus))\n",
    "    b = pd.DataFrame(a)\n",
    "    b['Phrase archetype'] = phraseToSend\n",
    "    #print b\n",
    "    return b"
   ]
  },
  {
   "cell_type": "code",
   "execution_count": 22,
   "metadata": {
    "collapsed": false,
    "scrolled": false
   },
   "outputs": [],
   "source": [
    "arrayOfPhraseQueries = []\n",
    "\n",
    "for i in range(0, 5):\n",
    "    phraseToSend = fiveNotephrases.iloc[i]['Phrase as string']\n",
    "    #print listOfQueriesRelatedToPhrases[i]\n",
    "    returnedVal = createDataFrameWithRelatedPhrases(listOfQueriesRelatedToPhrases[i], phraseToSend)\n",
    "    arrayOfPhraseQueries.append(returnedVal)\n",
    "    "
   ]
  },
  {
   "cell_type": "code",
   "execution_count": 28,
   "metadata": {
    "collapsed": false
   },
   "outputs": [
    {
     "name": "stdout",
     "output_type": "stream",
     "text": [
      "6\n",
      "5\n",
      "35\n",
      "27\n",
      "34\n"
     ]
    }
   ],
   "source": [
    "for stuff in arrayOfPhraseQueries:\n",
    "    print len(stuff)"
   ]
  },
  {
   "cell_type": "code",
   "execution_count": 29,
   "metadata": {
    "collapsed": false
   },
   "outputs": [
    {
     "data": {
      "text/html": [
       "<div>\n",
       "<table border=\"1\" class=\"dataframe\">\n",
       "  <thead>\n",
       "    <tr style=\"text-align: right;\">\n",
       "      <th></th>\n",
       "      <th>0</th>\n",
       "      <th>1</th>\n",
       "      <th>Phrase archetype</th>\n",
       "    </tr>\n",
       "  </thead>\n",
       "  <tbody>\n",
       "    <tr>\n",
       "      <th>0</th>\n",
       "      <td>Stella By Starlight, measure: 156.0</td>\n",
       "      <td>[[0.0], [1.0], [2.0], [1.0], [-1.0]]</td>\n",
       "      <td>[[1.0], [1.0], [2.0], [1.0], [-1.0]]</td>\n",
       "    </tr>\n",
       "    <tr>\n",
       "      <th>1</th>\n",
       "      <td>All The Things You Are, measure: 67.0</td>\n",
       "      <td>[[1.0], [1.0], [1.0], [1.0], [-2.0]]</td>\n",
       "      <td>[[1.0], [1.0], [2.0], [1.0], [-1.0]]</td>\n",
       "    </tr>\n",
       "    <tr>\n",
       "      <th>2</th>\n",
       "      <td>All The Things You Are, measure: 164.0</td>\n",
       "      <td>[[1.0], [1.0], [1.0], [1.0], [-2.0]]</td>\n",
       "      <td>[[1.0], [1.0], [2.0], [1.0], [-1.0]]</td>\n",
       "    </tr>\n",
       "    <tr>\n",
       "      <th>3</th>\n",
       "      <td>Stella By Starlight, measure: 82.0</td>\n",
       "      <td>[[1.0], [1.0], [1.0], [1.0], [-1.0]]</td>\n",
       "      <td>[[1.0], [1.0], [2.0], [1.0], [-1.0]]</td>\n",
       "    </tr>\n",
       "    <tr>\n",
       "      <th>4</th>\n",
       "      <td>Autumn Leaves, measure: 102.0</td>\n",
       "      <td>[[1.0], [1.0], [1.0], [1.0], [-1.0]]</td>\n",
       "      <td>[[1.0], [1.0], [2.0], [1.0], [-1.0]]</td>\n",
       "    </tr>\n",
       "    <tr>\n",
       "      <th>5</th>\n",
       "      <td>If I Were A Bell, measure: 126.0</td>\n",
       "      <td>[[1.0], [1.0], [1.0], [1.0], [-1.0]]</td>\n",
       "      <td>[[1.0], [1.0], [2.0], [1.0], [-1.0]]</td>\n",
       "    </tr>\n",
       "    <tr>\n",
       "      <th>6</th>\n",
       "      <td>All The Things You Are, measure: 187.0</td>\n",
       "      <td>[[1.0], [1.0], [1.0], [2.0], [-2.0]]</td>\n",
       "      <td>[[1.0], [1.0], [2.0], [1.0], [-1.0]]</td>\n",
       "    </tr>\n",
       "    <tr>\n",
       "      <th>7</th>\n",
       "      <td>Autumn Leaves, measure: 26.0</td>\n",
       "      <td>[[1.0], [1.0], [1.0], [2.0], [-1.0]]</td>\n",
       "      <td>[[1.0], [1.0], [2.0], [1.0], [-1.0]]</td>\n",
       "    </tr>\n",
       "    <tr>\n",
       "      <th>8</th>\n",
       "      <td>Stella By Starlight, measure: 5.0</td>\n",
       "      <td>[[1.0], [1.0], [2.0], [1.0], [-1.0]]</td>\n",
       "      <td>[[1.0], [1.0], [2.0], [1.0], [-1.0]]</td>\n",
       "    </tr>\n",
       "    <tr>\n",
       "      <th>9</th>\n",
       "      <td>If I Were A Bell, measure: 221.0</td>\n",
       "      <td>[[1.0], [1.0], [2.0], [1.0], [-1.0]]</td>\n",
       "      <td>[[1.0], [1.0], [2.0], [1.0], [-1.0]]</td>\n",
       "    </tr>\n",
       "    <tr>\n",
       "      <th>10</th>\n",
       "      <td>All The Things You Are, measure: 31.0</td>\n",
       "      <td>[[1.0], [1.0], [2.0], [2.0], [-2.0]]</td>\n",
       "      <td>[[1.0], [1.0], [2.0], [1.0], [-1.0]]</td>\n",
       "    </tr>\n",
       "    <tr>\n",
       "      <th>11</th>\n",
       "      <td>Groovin High, measure: 223.0</td>\n",
       "      <td>[[1.0], [2.0], [1.0], [0.0], [-1.0]]</td>\n",
       "      <td>[[1.0], [1.0], [2.0], [1.0], [-1.0]]</td>\n",
       "    </tr>\n",
       "    <tr>\n",
       "      <th>12</th>\n",
       "      <td>If I Were A Bell, measure: 130.0</td>\n",
       "      <td>[[1.0], [2.0], [1.0], [1.0], [-1.0]]</td>\n",
       "      <td>[[1.0], [1.0], [2.0], [1.0], [-1.0]]</td>\n",
       "    </tr>\n",
       "    <tr>\n",
       "      <th>13</th>\n",
       "      <td>Stella By Starlight, measure: 14.0</td>\n",
       "      <td>[[1.0], [2.0], [1.0], [2.0], [-2.0]]</td>\n",
       "      <td>[[1.0], [1.0], [2.0], [1.0], [-1.0]]</td>\n",
       "    </tr>\n",
       "    <tr>\n",
       "      <th>14</th>\n",
       "      <td>All The Things You Are, measure: 284.0</td>\n",
       "      <td>[[1.0], [2.0], [1.0], [2.0], [-1.0]]</td>\n",
       "      <td>[[1.0], [1.0], [2.0], [1.0], [-1.0]]</td>\n",
       "    </tr>\n",
       "    <tr>\n",
       "      <th>15</th>\n",
       "      <td>Stella By Starlight, measure: 55.0</td>\n",
       "      <td>[[1.0], [2.0], [2.0], [1.0], [-1.0]]</td>\n",
       "      <td>[[1.0], [1.0], [2.0], [1.0], [-1.0]]</td>\n",
       "    </tr>\n",
       "    <tr>\n",
       "      <th>16</th>\n",
       "      <td>Groovin High, measure: 77.0</td>\n",
       "      <td>[[1.0], [2.0], [2.0], [1.0], [-1.0]]</td>\n",
       "      <td>[[1.0], [1.0], [2.0], [1.0], [-1.0]]</td>\n",
       "    </tr>\n",
       "    <tr>\n",
       "      <th>17</th>\n",
       "      <td>If I Were A Bell, measure: 30.0</td>\n",
       "      <td>[[1.0], [2.0], [2.0], [1.0], [-1.0]]</td>\n",
       "      <td>[[1.0], [1.0], [2.0], [1.0], [-1.0]]</td>\n",
       "    </tr>\n",
       "    <tr>\n",
       "      <th>18</th>\n",
       "      <td>All The Things You Are, measure: 15.0</td>\n",
       "      <td>[[1.0], [2.0], [2.0], [1.0], [-1.0]]</td>\n",
       "      <td>[[1.0], [1.0], [2.0], [1.0], [-1.0]]</td>\n",
       "    </tr>\n",
       "    <tr>\n",
       "      <th>19</th>\n",
       "      <td>All The Things You Are, measure: 129.0</td>\n",
       "      <td>[[1.0], [2.0], [2.0], [1.0], [-1.0]]</td>\n",
       "      <td>[[1.0], [1.0], [2.0], [1.0], [-1.0]]</td>\n",
       "    </tr>\n",
       "    <tr>\n",
       "      <th>20</th>\n",
       "      <td>Groovin High, measure: 222.0</td>\n",
       "      <td>[[1.0], [2.0], [2.0], [1.0], [0.0]]</td>\n",
       "      <td>[[1.0], [1.0], [2.0], [1.0], [-1.0]]</td>\n",
       "    </tr>\n",
       "    <tr>\n",
       "      <th>21</th>\n",
       "      <td>If I Were A Bell, measure: 150.0</td>\n",
       "      <td>[[1.0], [2.0], [2.0], [2.0], [-2.0]]</td>\n",
       "      <td>[[1.0], [1.0], [2.0], [1.0], [-1.0]]</td>\n",
       "    </tr>\n",
       "    <tr>\n",
       "      <th>22</th>\n",
       "      <td>Autumn Leaves, measure: 77.0</td>\n",
       "      <td>[[2.0], [1.0], [1.0], [1.0], [-1.0]]</td>\n",
       "      <td>[[1.0], [1.0], [2.0], [1.0], [-1.0]]</td>\n",
       "    </tr>\n",
       "    <tr>\n",
       "      <th>23</th>\n",
       "      <td>If I Were A Bell, measure: 93.0</td>\n",
       "      <td>[[2.0], [1.0], [1.0], [1.0], [-1.0]]</td>\n",
       "      <td>[[1.0], [1.0], [2.0], [1.0], [-1.0]]</td>\n",
       "    </tr>\n",
       "    <tr>\n",
       "      <th>24</th>\n",
       "      <td>All The Things You Are, measure: 87.0</td>\n",
       "      <td>[[2.0], [1.0], [1.0], [2.0], [-2.0]]</td>\n",
       "      <td>[[1.0], [1.0], [2.0], [1.0], [-1.0]]</td>\n",
       "    </tr>\n",
       "    <tr>\n",
       "      <th>25</th>\n",
       "      <td>All The Things You Are, measure: 43.0</td>\n",
       "      <td>[[2.0], [1.0], [1.0], [2.0], [-1.0]]</td>\n",
       "      <td>[[1.0], [1.0], [2.0], [1.0], [-1.0]]</td>\n",
       "    </tr>\n",
       "    <tr>\n",
       "      <th>26</th>\n",
       "      <td>Groovin High, measure: 63.0</td>\n",
       "      <td>[[2.0], [1.0], [2.0], [1.0], [-1.0]]</td>\n",
       "      <td>[[1.0], [1.0], [2.0], [1.0], [-1.0]]</td>\n",
       "    </tr>\n",
       "    <tr>\n",
       "      <th>27</th>\n",
       "      <td>Groovin High, measure: 223.0</td>\n",
       "      <td>[[2.0], [1.0], [2.0], [1.0], [0.0]]</td>\n",
       "      <td>[[1.0], [1.0], [2.0], [1.0], [-1.0]]</td>\n",
       "    </tr>\n",
       "    <tr>\n",
       "      <th>28</th>\n",
       "      <td>Groovin High, measure: 222.0</td>\n",
       "      <td>[[2.0], [2.0], [1.0], [0.0], [-1.0]]</td>\n",
       "      <td>[[1.0], [1.0], [2.0], [1.0], [-1.0]]</td>\n",
       "    </tr>\n",
       "    <tr>\n",
       "      <th>29</th>\n",
       "      <td>Autumn Leaves, measure: 41.0</td>\n",
       "      <td>[[2.0], [2.0], [1.0], [1.0], [-1.0]]</td>\n",
       "      <td>[[1.0], [1.0], [2.0], [1.0], [-1.0]]</td>\n",
       "    </tr>\n",
       "    <tr>\n",
       "      <th>30</th>\n",
       "      <td>Groovin High, measure: 205.0</td>\n",
       "      <td>[[2.0], [2.0], [1.0], [2.0], [-2.0]]</td>\n",
       "      <td>[[1.0], [1.0], [2.0], [1.0], [-1.0]]</td>\n",
       "    </tr>\n",
       "    <tr>\n",
       "      <th>31</th>\n",
       "      <td>All The Things You Are, measure: 162.0</td>\n",
       "      <td>[[2.0], [2.0], [1.0], [2.0], [-1.0]]</td>\n",
       "      <td>[[1.0], [1.0], [2.0], [1.0], [-1.0]]</td>\n",
       "    </tr>\n",
       "    <tr>\n",
       "      <th>32</th>\n",
       "      <td>Groovin High, measure: 271.0</td>\n",
       "      <td>[[2.0], [2.0], [2.0], [1.0], [-1.0]]</td>\n",
       "      <td>[[1.0], [1.0], [2.0], [1.0], [-1.0]]</td>\n",
       "    </tr>\n",
       "    <tr>\n",
       "      <th>33</th>\n",
       "      <td>Autumn Leaves, measure: 105.0</td>\n",
       "      <td>[[2.0], [2.0], [2.0], [1.0], [-1.0]]</td>\n",
       "      <td>[[1.0], [1.0], [2.0], [1.0], [-1.0]]</td>\n",
       "    </tr>\n",
       "  </tbody>\n",
       "</table>\n",
       "</div>"
      ],
      "text/plain": [
       "                                         0                                     1                      Phrase archetype\n",
       "0      Stella By Starlight, measure: 156.0  [[0.0], [1.0], [2.0], [1.0], [-1.0]]  [[1.0], [1.0], [2.0], [1.0], [-1.0]]\n",
       "1    All The Things You Are, measure: 67.0  [[1.0], [1.0], [1.0], [1.0], [-2.0]]  [[1.0], [1.0], [2.0], [1.0], [-1.0]]\n",
       "2   All The Things You Are, measure: 164.0  [[1.0], [1.0], [1.0], [1.0], [-2.0]]  [[1.0], [1.0], [2.0], [1.0], [-1.0]]\n",
       "3       Stella By Starlight, measure: 82.0  [[1.0], [1.0], [1.0], [1.0], [-1.0]]  [[1.0], [1.0], [2.0], [1.0], [-1.0]]\n",
       "4            Autumn Leaves, measure: 102.0  [[1.0], [1.0], [1.0], [1.0], [-1.0]]  [[1.0], [1.0], [2.0], [1.0], [-1.0]]\n",
       "5         If I Were A Bell, measure: 126.0  [[1.0], [1.0], [1.0], [1.0], [-1.0]]  [[1.0], [1.0], [2.0], [1.0], [-1.0]]\n",
       "6   All The Things You Are, measure: 187.0  [[1.0], [1.0], [1.0], [2.0], [-2.0]]  [[1.0], [1.0], [2.0], [1.0], [-1.0]]\n",
       "7             Autumn Leaves, measure: 26.0  [[1.0], [1.0], [1.0], [2.0], [-1.0]]  [[1.0], [1.0], [2.0], [1.0], [-1.0]]\n",
       "8        Stella By Starlight, measure: 5.0  [[1.0], [1.0], [2.0], [1.0], [-1.0]]  [[1.0], [1.0], [2.0], [1.0], [-1.0]]\n",
       "9         If I Were A Bell, measure: 221.0  [[1.0], [1.0], [2.0], [1.0], [-1.0]]  [[1.0], [1.0], [2.0], [1.0], [-1.0]]\n",
       "10   All The Things You Are, measure: 31.0  [[1.0], [1.0], [2.0], [2.0], [-2.0]]  [[1.0], [1.0], [2.0], [1.0], [-1.0]]\n",
       "11            Groovin High, measure: 223.0  [[1.0], [2.0], [1.0], [0.0], [-1.0]]  [[1.0], [1.0], [2.0], [1.0], [-1.0]]\n",
       "12        If I Were A Bell, measure: 130.0  [[1.0], [2.0], [1.0], [1.0], [-1.0]]  [[1.0], [1.0], [2.0], [1.0], [-1.0]]\n",
       "13      Stella By Starlight, measure: 14.0  [[1.0], [2.0], [1.0], [2.0], [-2.0]]  [[1.0], [1.0], [2.0], [1.0], [-1.0]]\n",
       "14  All The Things You Are, measure: 284.0  [[1.0], [2.0], [1.0], [2.0], [-1.0]]  [[1.0], [1.0], [2.0], [1.0], [-1.0]]\n",
       "15      Stella By Starlight, measure: 55.0  [[1.0], [2.0], [2.0], [1.0], [-1.0]]  [[1.0], [1.0], [2.0], [1.0], [-1.0]]\n",
       "16             Groovin High, measure: 77.0  [[1.0], [2.0], [2.0], [1.0], [-1.0]]  [[1.0], [1.0], [2.0], [1.0], [-1.0]]\n",
       "17         If I Were A Bell, measure: 30.0  [[1.0], [2.0], [2.0], [1.0], [-1.0]]  [[1.0], [1.0], [2.0], [1.0], [-1.0]]\n",
       "18   All The Things You Are, measure: 15.0  [[1.0], [2.0], [2.0], [1.0], [-1.0]]  [[1.0], [1.0], [2.0], [1.0], [-1.0]]\n",
       "19  All The Things You Are, measure: 129.0  [[1.0], [2.0], [2.0], [1.0], [-1.0]]  [[1.0], [1.0], [2.0], [1.0], [-1.0]]\n",
       "20            Groovin High, measure: 222.0   [[1.0], [2.0], [2.0], [1.0], [0.0]]  [[1.0], [1.0], [2.0], [1.0], [-1.0]]\n",
       "21        If I Were A Bell, measure: 150.0  [[1.0], [2.0], [2.0], [2.0], [-2.0]]  [[1.0], [1.0], [2.0], [1.0], [-1.0]]\n",
       "22            Autumn Leaves, measure: 77.0  [[2.0], [1.0], [1.0], [1.0], [-1.0]]  [[1.0], [1.0], [2.0], [1.0], [-1.0]]\n",
       "23         If I Were A Bell, measure: 93.0  [[2.0], [1.0], [1.0], [1.0], [-1.0]]  [[1.0], [1.0], [2.0], [1.0], [-1.0]]\n",
       "24   All The Things You Are, measure: 87.0  [[2.0], [1.0], [1.0], [2.0], [-2.0]]  [[1.0], [1.0], [2.0], [1.0], [-1.0]]\n",
       "25   All The Things You Are, measure: 43.0  [[2.0], [1.0], [1.0], [2.0], [-1.0]]  [[1.0], [1.0], [2.0], [1.0], [-1.0]]\n",
       "26             Groovin High, measure: 63.0  [[2.0], [1.0], [2.0], [1.0], [-1.0]]  [[1.0], [1.0], [2.0], [1.0], [-1.0]]\n",
       "27            Groovin High, measure: 223.0   [[2.0], [1.0], [2.0], [1.0], [0.0]]  [[1.0], [1.0], [2.0], [1.0], [-1.0]]\n",
       "28            Groovin High, measure: 222.0  [[2.0], [2.0], [1.0], [0.0], [-1.0]]  [[1.0], [1.0], [2.0], [1.0], [-1.0]]\n",
       "29            Autumn Leaves, measure: 41.0  [[2.0], [2.0], [1.0], [1.0], [-1.0]]  [[1.0], [1.0], [2.0], [1.0], [-1.0]]\n",
       "30            Groovin High, measure: 205.0  [[2.0], [2.0], [1.0], [2.0], [-2.0]]  [[1.0], [1.0], [2.0], [1.0], [-1.0]]\n",
       "31  All The Things You Are, measure: 162.0  [[2.0], [2.0], [1.0], [2.0], [-1.0]]  [[1.0], [1.0], [2.0], [1.0], [-1.0]]\n",
       "32            Groovin High, measure: 271.0  [[2.0], [2.0], [2.0], [1.0], [-1.0]]  [[1.0], [1.0], [2.0], [1.0], [-1.0]]\n",
       "33           Autumn Leaves, measure: 105.0  [[2.0], [2.0], [2.0], [1.0], [-1.0]]  [[1.0], [1.0], [2.0], [1.0], [-1.0]]"
      ]
     },
     "execution_count": 29,
     "metadata": {},
     "output_type": "execute_result"
    }
   ],
   "source": [
    "arrayOfPhraseQueries[4]"
   ]
  },
  {
   "cell_type": "code",
   "execution_count": 209,
   "metadata": {
    "collapsed": false
   },
   "outputs": [
    {
     "data": {
      "text/plain": [
       "6184"
      ]
     },
     "execution_count": 209,
     "metadata": {},
     "output_type": "execute_result"
    }
   ],
   "source": [
    "len(fiveNotephrases)"
   ]
  },
  {
   "cell_type": "code",
   "execution_count": 31,
   "metadata": {
    "collapsed": false
   },
   "outputs": [
    {
     "data": {
      "image/png": "[encoded data removed]",
      "text/plain": [
       "<music21.ipython21.objects.IPythonPNGObject at 0x116407e50>"
      ]
     },
     "execution_count": 31,
     "metadata": {},
     "output_type": "execute_result"
    }
   ],
   "source": [
    "select = muStellaByStarlight.parts[0].measures(5,6)\n",
    "select.show()"
   ]
  },
  {
   "cell_type": "code",
   "execution_count": 32,
   "metadata": {
    "collapsed": false
   },
   "outputs": [
    {
     "data": {
      "image/png": "[encoded data removed]",
      "text/plain": [
       "<music21.ipython21.objects.IPythonPNGObject at 0x1172ffbd0>"
      ]
     },
     "execution_count": 32,
     "metadata": {},
     "output_type": "execute_result"
    }
   ],
   "source": [
    "select = muAutumnLeaves.parts[0].measures(41,42)\n",
    "select.show()"
   ]
  },
  {
   "cell_type": "code",
   "execution_count": null,
   "metadata": {
    "collapsed": true
   },
   "outputs": [],
   "source": []
  }
 ],
 "metadata": {
  "kernelspec": {
   "display_name": "Python 2",
   "language": "python",
   "name": "python2"
  },
  "language_info": {
   "codemirror_mode": {
    "name": "ipython",
    "version": 2
   },
   "file_extension": ".py",
   "mimetype": "text/x-python",
   "name": "python",
   "nbconvert_exporter": "python",
   "pygments_lexer": "ipython2",
   "version": "2.7.6"
  }
 },
 "nbformat": 4,
 "nbformat_minor": 0
}
