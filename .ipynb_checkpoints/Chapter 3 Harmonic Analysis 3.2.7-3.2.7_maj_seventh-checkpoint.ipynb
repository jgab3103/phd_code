{
 "metadata": {
  "name": "",
  "signature": "sha256:299d231b9ad5f8c541a404e8391ec4b5c2b6dfb2760373e012c9afb3da3d29af"
 },
 "nbformat": 3,
 "nbformat_minor": 0,
 "worksheets": [
  {
   "cells": [
    {
     "cell_type": "code",
     "collapsed": false,
     "input": [
      "import music21 as mu\n",
      "import numpy as np\n",
      "import pandas as pd\n",
      "%pylab inline\n",
      "from IPython.core.display import HTML\n",
      "from IPython.core.display import Image \n",
      "%load_ext music21.ipython21.ipExtension"
     ],
     "language": "python",
     "metadata": {},
     "outputs": [
      {
       "output_type": "stream",
       "stream": "stdout",
       "text": [
        "Populating the interactive namespace from numpy and matplotlib\n"
       ]
      }
     ],
     "prompt_number": 1
    },
    {
     "cell_type": "code",
     "collapsed": false,
     "input": [
      "#utility method to track tables and figures in document\n",
      "class TableFigureCounter:\n",
      "    def __init__(self):\n",
      "        self.tab_count = 0\n",
      "        self.fig_count = 0\n",
      "    def get_next_tab(self, chapter=None):\n",
      "        self.tab_count = self.tab_count + 1\n",
      "        return 'Table ' + str(chapter) + '.' + str(self.tab_count)        \n",
      "    def get_next_fig(self, chapter=None):\n",
      "        self.fig_count = self.fig_count + 1\n",
      "        return 'Figure ' + str(chapter) + '.' + str(self.fig_count)\n",
      "    def reset(self):\n",
      "        self.tab_count = 0\n",
      "        self.fig_count = 0"
     ],
     "language": "python",
     "metadata": {},
     "outputs": [],
     "prompt_number": 2
    },
    {
     "cell_type": "code",
     "collapsed": false,
     "input": [
      "#load saved data\n",
      "data_set = pd.read_pickle('data_set_as_pk.pkl')\n",
      "mu_stella = mu.converter.parse('xml_files/stella_by_starlight.xml')\n",
      "mu_autumn = mu.converter.parse('xml_files/autumn_leaves_v2.xml')\n",
      "mu_if_i_were = mu.converter.parse('xml_files/if_i_were_a_bell.xml')\n",
      "mu_groovin = mu.converter.parse('xml_files/groovin_high.xml')\n",
      "mu_all_the_things = mu.converter.parse('xml_files/all_the_things_you_are.xml')"
     ],
     "language": "python",
     "metadata": {},
     "outputs": [],
     "prompt_number": 3
    },
    {
     "cell_type": "code",
     "collapsed": false,
     "input": [
      "tab_fig = TableFigureCounter()"
     ],
     "language": "python",
     "metadata": {},
     "outputs": [],
     "prompt_number": 4
    },
    {
     "cell_type": "markdown",
     "metadata": {},
     "source": [
      "<h3>3.2.7 Using the major seventh in the Dominant Seventh Chord</h3>"
     ]
    },
    {
     "cell_type": "markdown",
     "metadata": {},
     "source": [
      "<p>There are no wrong notes in jazz, but even this simplification, it still means that that some notes are problematic. So much of the distinctive sound of the dominant seventh chords chomes from the dissonance of the tritone (seen in Figure 3.x) and the tension and resolution in its voice leading can aslo  be seen in 3.x. By using a major seventh, this dissonance becomes a perfect fourth or perfect fifth depending on how the chord is voiced and so if the assumption tension of resolution, the movement of tension is undermined</p>"
     ]
    },
    {
     "cell_type": "code",
     "collapsed": false,
     "input": [
      "print tab_fig.get_next_fig(3)"
     ],
     "language": "python",
     "metadata": {},
     "outputs": [
      {
       "output_type": "stream",
       "stream": "stdout",
       "text": [
        "Figure 3.2\n"
       ]
      }
     ],
     "prompt_number": 12
    },
    {
     "cell_type": "code",
     "collapsed": false,
     "input": [
      "#music example"
     ],
     "language": "python",
     "metadata": {},
     "outputs": []
    },
    {
     "cell_type": "code",
     "collapsed": false,
     "input": [
      "print tab_fig.get_next_fig(3)"
     ],
     "language": "python",
     "metadata": {},
     "outputs": [
      {
       "output_type": "stream",
       "stream": "stdout",
       "text": [
        "Figure 3.1\n"
       ]
      }
     ],
     "prompt_number": 5
    },
    {
     "cell_type": "code",
     "collapsed": false,
     "input": [
      "#music example"
     ],
     "language": "python",
     "metadata": {},
     "outputs": [],
     "prompt_number": 13
    },
    {
     "cell_type": "markdown",
     "metadata": {},
     "source": [
      "<h4>3.2.2.1 Preparation and Resolution of the major seventh in the dominant chord</h4>"
     ]
    },
    {
     "cell_type": "markdown",
     "metadata": {},
     "source": [
      "<p>However, the major seventh is still used as note on the dominant seventh in a number of places and these can be seen in Table 3.x. As to be expected, there are far less examples than some of the other possible choices on a dominant chord. There are is also clear trend it most likely will be resolved upwards a semitone and it appears that it is quiet rare to see it with preparations of more than a tone</p>"
     ]
    },
    {
     "cell_type": "code",
     "collapsed": false,
     "input": [
      "print tab_fig.get_next_tab(3)"
     ],
     "language": "python",
     "metadata": {},
     "outputs": [
      {
       "output_type": "stream",
       "stream": "stdout",
       "text": [
        "Table 3.1\n"
       ]
      }
     ],
     "prompt_number": 14
    },
    {
     "cell_type": "code",
     "collapsed": false,
     "input": [
      "data_set[data_set.dist_note_to_root == 11]\\\n",
      "[data_set.chord_type=='dominant_seventh']\\\n",
      "[data_set.p_offset <= 0.5]\\\n",
      "[data_set.r_offset <= 0.5].prep.value_counts().plot(kind='bar')"
     ],
     "language": "python",
     "metadata": {},
     "outputs": [
      {
       "metadata": {},
       "output_type": "pyout",
       "prompt_number": 15,
       "text": [
        "<matplotlib.axes.AxesSubplot at 0x10a1dffd0>"
       ]
      },
      {
       "metadata": {},
       "output_type": "display_data",
       "png": "[encoded data removed]",
       "text": [
        "<matplotlib.figure.Figure at 0x10a2ae2d0>"
       ]
      }
     ],
     "prompt_number": 15
    },
    {
     "cell_type": "markdown",
     "metadata": {},
     "source": [
      "<p>There are more options to be found in the way that it is resolved, but again a ver clear towards a movement in semitones. Table 3.x shows the possible resolutions. There are more options available in the resolution that preparation, and, although rare, its about the same likelhood that the resolutions will be down 2 semitones, down 3 semitones, down 4 semitones or up 3 semitones</p>"
     ]
    },
    {
     "cell_type": "code",
     "collapsed": false,
     "input": [],
     "language": "python",
     "metadata": {},
     "outputs": []
    },
    {
     "cell_type": "code",
     "collapsed": false,
     "input": [
      "data_set[data_set.dist_note_to_root == 11]\\\n",
      "[data_set.chord_type=='dominant_seventh']\\\n",
      "[data_set.p_offset <= 0.5]\\\n",
      "[data_set.r_offset <= 0.5].res.value_counts().plot(kind='bar')"
     ],
     "language": "python",
     "metadata": {},
     "outputs": [
      {
       "metadata": {},
       "output_type": "pyout",
       "prompt_number": 16,
       "text": [
        "<matplotlib.axes.AxesSubplot at 0x10dcc4f90>"
       ]
      },
      {
       "metadata": {},
       "output_type": "display_data",
       "png": "[encoded data removed]",
       "text": [
        "<matplotlib.figure.Figure at 0x124f90c90>"
       ]
      }
     ],
     "prompt_number": 16
    },
    {
     "cell_type": "markdown",
     "metadata": {},
     "source": [
      "<h4>3.2.2.1 Preparation of the major seventh in the dominant chord</h4>"
     ]
    },
    {
     "cell_type": "markdown",
     "metadata": {},
     "source": [
      "<p>The most common preparation is from 1 semitone higher (for example a C5 leading to a B4 on a CDom7 chord) and Table 3.x lists these below. Overwhemingly, this is resolved to a semitone down. Again, if we were to ignore the chord present, the dominant seventh chord, the number of examples of using the major seventh in this way would almost triple, reinforcing the hypothesis that the chord is not the driving factor in note choice</p>"
     ]
    },
    {
     "cell_type": "code",
     "collapsed": false,
     "input": [
      "data_set[data_set.dist_note_to_root == 11] \\\n",
      "[data_set.chord_type=='dominant_seventh'][data_set.prep == 1] \\\n",
      "[data_set.p_offset <= 0.5].groupby(['prep', 'res']).count().sort('note', ascending = False)\n",
      "#Table 3.7"
     ],
     "language": "python",
     "metadata": {},
     "outputs": [
      {
       "html": [
        "<div style=\"max-height:1000px;max-width:1500px;overflow:auto;\">\n",
        "<table border=\"1\" class=\"dataframe\">\n",
        "  <thead>\n",
        "    <tr style=\"text-align: right;\">\n",
        "      <th></th>\n",
        "      <th></th>\n",
        "      <th>location</th>\n",
        "      <th>note</th>\n",
        "      <th>part</th>\n",
        "      <th>root</th>\n",
        "      <th>third</th>\n",
        "      <th>fifth</th>\n",
        "      <th>seventh</th>\n",
        "      <th>measure</th>\n",
        "      <th>prep</th>\n",
        "      <th>res</th>\n",
        "      <th>p_offset</th>\n",
        "      <th>r_offset</th>\n",
        "      <th>chord_type</th>\n",
        "      <th>dist_note_to_root</th>\n",
        "      <th>current_tempo</th>\n",
        "      <th>c_measure</th>\n",
        "      <th>name</th>\n",
        "    </tr>\n",
        "    <tr>\n",
        "      <th>prep</th>\n",
        "      <th>res</th>\n",
        "      <th></th>\n",
        "      <th></th>\n",
        "      <th></th>\n",
        "      <th></th>\n",
        "      <th></th>\n",
        "      <th></th>\n",
        "      <th></th>\n",
        "      <th></th>\n",
        "      <th></th>\n",
        "      <th></th>\n",
        "      <th></th>\n",
        "      <th></th>\n",
        "      <th></th>\n",
        "      <th></th>\n",
        "      <th></th>\n",
        "      <th></th>\n",
        "      <th></th>\n",
        "    </tr>\n",
        "  </thead>\n",
        "  <tbody>\n",
        "    <tr>\n",
        "      <th rowspan=\"6\" valign=\"top\">1</th>\n",
        "      <th>-1</th>\n",
        "      <td> 30</td>\n",
        "      <td> 30</td>\n",
        "      <td> 30</td>\n",
        "      <td> 30</td>\n",
        "      <td> 30</td>\n",
        "      <td> 30</td>\n",
        "      <td> 30</td>\n",
        "      <td> 30</td>\n",
        "      <td> 30</td>\n",
        "      <td> 30</td>\n",
        "      <td> 30</td>\n",
        "      <td> 30</td>\n",
        "      <td> 30</td>\n",
        "      <td> 30</td>\n",
        "      <td> 30</td>\n",
        "      <td> 30</td>\n",
        "      <td> 30</td>\n",
        "    </tr>\n",
        "    <tr>\n",
        "      <th>-2</th>\n",
        "      <td>  6</td>\n",
        "      <td>  6</td>\n",
        "      <td>  6</td>\n",
        "      <td>  6</td>\n",
        "      <td>  6</td>\n",
        "      <td>  6</td>\n",
        "      <td>  6</td>\n",
        "      <td>  6</td>\n",
        "      <td>  6</td>\n",
        "      <td>  6</td>\n",
        "      <td>  6</td>\n",
        "      <td>  6</td>\n",
        "      <td>  6</td>\n",
        "      <td>  6</td>\n",
        "      <td>  6</td>\n",
        "      <td>  6</td>\n",
        "      <td>  6</td>\n",
        "    </tr>\n",
        "    <tr>\n",
        "      <th> 1</th>\n",
        "      <td>  4</td>\n",
        "      <td>  4</td>\n",
        "      <td>  4</td>\n",
        "      <td>  4</td>\n",
        "      <td>  4</td>\n",
        "      <td>  4</td>\n",
        "      <td>  4</td>\n",
        "      <td>  4</td>\n",
        "      <td>  4</td>\n",
        "      <td>  4</td>\n",
        "      <td>  4</td>\n",
        "      <td>  4</td>\n",
        "      <td>  4</td>\n",
        "      <td>  4</td>\n",
        "      <td>  4</td>\n",
        "      <td>  4</td>\n",
        "      <td>  4</td>\n",
        "    </tr>\n",
        "    <tr>\n",
        "      <th>-4</th>\n",
        "      <td>  2</td>\n",
        "      <td>  2</td>\n",
        "      <td>  2</td>\n",
        "      <td>  2</td>\n",
        "      <td>  2</td>\n",
        "      <td>  2</td>\n",
        "      <td>  2</td>\n",
        "      <td>  2</td>\n",
        "      <td>  2</td>\n",
        "      <td>  2</td>\n",
        "      <td>  2</td>\n",
        "      <td>  2</td>\n",
        "      <td>  2</td>\n",
        "      <td>  2</td>\n",
        "      <td>  2</td>\n",
        "      <td>  2</td>\n",
        "      <td>  2</td>\n",
        "    </tr>\n",
        "    <tr>\n",
        "      <th> 6</th>\n",
        "      <td>  1</td>\n",
        "      <td>  1</td>\n",
        "      <td>  1</td>\n",
        "      <td>  1</td>\n",
        "      <td>  1</td>\n",
        "      <td>  1</td>\n",
        "      <td>  1</td>\n",
        "      <td>  1</td>\n",
        "      <td>  1</td>\n",
        "      <td>  1</td>\n",
        "      <td>  1</td>\n",
        "      <td>  1</td>\n",
        "      <td>  1</td>\n",
        "      <td>  1</td>\n",
        "      <td>  1</td>\n",
        "      <td>  1</td>\n",
        "      <td>  1</td>\n",
        "    </tr>\n",
        "    <tr>\n",
        "      <th>-3</th>\n",
        "      <td>  1</td>\n",
        "      <td>  1</td>\n",
        "      <td>  1</td>\n",
        "      <td>  1</td>\n",
        "      <td>  1</td>\n",
        "      <td>  1</td>\n",
        "      <td>  1</td>\n",
        "      <td>  1</td>\n",
        "      <td>  1</td>\n",
        "      <td>  1</td>\n",
        "      <td>  1</td>\n",
        "      <td>  1</td>\n",
        "      <td>  1</td>\n",
        "      <td>  1</td>\n",
        "      <td>  1</td>\n",
        "      <td>  1</td>\n",
        "      <td>  1</td>\n",
        "    </tr>\n",
        "  </tbody>\n",
        "</table>\n",
        "<p>6 rows \u00d7 17 columns</p>\n",
        "</div>"
       ],
       "metadata": {},
       "output_type": "pyout",
       "prompt_number": 23,
       "text": [
        "          location  note  part  root  third  fifth  seventh  measure  prep  \\\n",
        "prep res                                                                     \n",
        "1    -1         30    30    30    30     30     30       30       30    30   \n",
        "     -2          6     6     6     6      6      6        6        6     6   \n",
        "      1          4     4     4     4      4      4        4        4     4   \n",
        "     -4          2     2     2     2      2      2        2        2     2   \n",
        "      6          1     1     1     1      1      1        1        1     1   \n",
        "     -3          1     1     1     1      1      1        1        1     1   \n",
        "\n",
        "          res  p_offset  r_offset  chord_type  dist_note_to_root  \\\n",
        "prep res                                                           \n",
        "1    -1    30        30        30          30                 30   \n",
        "     -2     6         6         6           6                  6   \n",
        "      1     4         4         4           4                  4   \n",
        "     -4     2         2         2           2                  2   \n",
        "      6     1         1         1           1                  1   \n",
        "     -3     1         1         1           1                  1   \n",
        "\n",
        "          current_tempo  c_measure  name  \n",
        "prep res                                  \n",
        "1    -1              30         30    30  \n",
        "     -2               6          6     6  \n",
        "      1               4          4     4  \n",
        "     -4               2          2     2  \n",
        "      6               1          1     1  \n",
        "     -3               1          1     1  \n",
        "\n",
        "[6 rows x 17 columns]"
       ]
      }
     ],
     "prompt_number": 23
    },
    {
     "cell_type": "markdown",
     "metadata": {},
     "source": [
      "<p>Typical examples can be seen in Figures 3.x, 3.x and 3.x below and again note that each example, taken from different songs in the data set, is part of a four note pattern where, after the major seventh is resolved down a tone, it then moves down a major third, again a very common four note sequence that will be discussed in the following chapter</p>"
     ]
    },
    {
     "cell_type": "code",
     "collapsed": false,
     "input": [
      "print tab_fig.get_next_fig(3)"
     ],
     "language": "python",
     "metadata": {},
     "outputs": [
      {
       "output_type": "stream",
       "stream": "stdout",
       "text": [
        "Figure 3.4\n"
       ]
      }
     ],
     "prompt_number": 32
    },
    {
     "cell_type": "code",
     "collapsed": false,
     "input": [
      "select = mu_all_the_things.parts[1].measures(276,277)\n",
      "select.show()\n",
      "#on B7 Chord, passing betweetn B nat and A nat"
     ],
     "language": "python",
     "metadata": {},
     "outputs": [
      {
       "metadata": {},
       "output_type": "pyout",
       "png": "[encoded data removed]",
       "prompt_number": 33,
       "text": [
        "<music21.ipython21.objects.IPythonPNGObject at 0x1109e8ad0>"
       ]
      }
     ],
     "prompt_number": 33
    },
    {
     "cell_type": "code",
     "collapsed": false,
     "input": [
      "print tab_fig.get_next_fig(3)"
     ],
     "language": "python",
     "metadata": {},
     "outputs": [
      {
       "output_type": "stream",
       "stream": "stdout",
       "text": [
        "Figure 3.5\n"
       ]
      }
     ],
     "prompt_number": 34
    },
    {
     "cell_type": "code",
     "collapsed": false,
     "input": [
      "select = mu_stella.parts[1].measures(60,61)\n",
      "select.show()\n",
      "#G7 chord with F#"
     ],
     "language": "python",
     "metadata": {},
     "outputs": [
      {
       "metadata": {},
       "output_type": "pyout",
       "png": "[encoded data removed]",
       "prompt_number": 37,
       "text": [
        "<music21.ipython21.objects.IPythonPNGObject at 0x11589ba10>"
       ]
      }
     ],
     "prompt_number": 37
    },
    {
     "cell_type": "code",
     "collapsed": false,
     "input": [
      "print tab_fig.get_next_fig(3)"
     ],
     "language": "python",
     "metadata": {},
     "outputs": [
      {
       "output_type": "stream",
       "stream": "stdout",
       "text": [
        "Figure 3.6\n"
       ]
      }
     ],
     "prompt_number": 38
    },
    {
     "cell_type": "code",
     "collapsed": false,
     "input": [
      "select = mu_groovin.parts[1].measures(10,11)\n",
      "select.show()\n",
      "#C7 with b sound"
     ],
     "language": "python",
     "metadata": {},
     "outputs": [
      {
       "metadata": {},
       "output_type": "pyout",
       "png": "[encoded data removed]",
       "prompt_number": 39,
       "text": [
        "<music21.ipython21.objects.IPythonPNGObject at 0x110b1b710>"
       ]
      }
     ],
     "prompt_number": 39
    },
    {
     "cell_type": "markdown",
     "metadata": {},
     "source": [
      "<p>Alghough supported by far less examples, the major seventh when prepared a semitone updawards also can resolve down a tone. Figure 3.x shows an example of this where the dominant chord (here G7) leads to a C minor 7 chord but the resolution to is to an E5. This is unexpeted, challenges the appropriateness of playing a F# note and an E note when playing a G7 and C minor chord. Again, its comes that the voice leading is critical factor in play here</p>"
     ]
    },
    {
     "cell_type": "code",
     "collapsed": false,
     "input": [
      "print tab_fig.get_next_fig(3)"
     ],
     "language": "python",
     "metadata": {},
     "outputs": [
      {
       "output_type": "stream",
       "stream": "stdout",
       "text": [
        "Figure 3.7\n"
       ]
      }
     ],
     "prompt_number": 41
    },
    {
     "cell_type": "code",
     "collapsed": false,
     "input": [
      "select = mu_autumn.parts[1].measures(160,161)\n",
      "select.show()"
     ],
     "language": "python",
     "metadata": {},
     "outputs": [
      {
       "metadata": {},
       "output_type": "pyout",
       "png": "[encoded data removed]",
       "prompt_number": 42,
       "text": [
        "<music21.ipython21.objects.IPythonPNGObject at 0x1260355d0>"
       ]
      }
     ],
     "prompt_number": 42
    },
    {
     "cell_type": "markdown",
     "metadata": {},
     "source": [
      "<p>Its also possible to look at a very marginal case, when the major seventh is prepared by a note 3 semitones lower, (for example an Ab5 leading to a B5 on a CDom7 chord. For these cases, we can again see somethng local, on autumn leaves, G minor 7 to F#dominant seven and this can be seen in Figure 3.x</p>"
     ]
    },
    {
     "cell_type": "code",
     "collapsed": false,
     "input": [
      "print tab_fig.get_next_fig(3)"
     ],
     "language": "python",
     "metadata": {},
     "outputs": [
      {
       "output_type": "stream",
       "stream": "stdout",
       "text": [
        "Figure 3.8\n"
       ]
      }
     ],
     "prompt_number": 46
    },
    {
     "cell_type": "code",
     "collapsed": false,
     "input": [
      "select = mu_autumn.parts[1].measures(155,156)\n",
      "select.show()\n",
      "#F#7 chord"
     ],
     "language": "python",
     "metadata": {},
     "outputs": [
      {
       "metadata": {},
       "output_type": "pyout",
       "png": "[encoded data removed]",
       "prompt_number": 49,
       "text": [
        "<music21.ipython21.objects.IPythonPNGObject at 0x1260221d0>"
       ]
      }
     ],
     "prompt_number": 49
    },
    {
     "cell_type": "code",
     "collapsed": false,
     "input": [
      "print tab_fig.get_next_fig(3)"
     ],
     "language": "python",
     "metadata": {},
     "outputs": [
      {
       "output_type": "stream",
       "stream": "stdout",
       "text": [
        "Figure 3.9\n"
       ]
      }
     ],
     "prompt_number": 47
    },
    {
     "cell_type": "code",
     "collapsed": false,
     "input": [
      "select = mu_autumn.parts[1].measures(91,92)\n",
      "select.show()\n",
      "#F#7"
     ],
     "language": "python",
     "metadata": {},
     "outputs": [
      {
       "metadata": {},
       "output_type": "pyout",
       "png": "[encoded data removed]",
       "prompt_number": 50,
       "text": [
        "<music21.ipython21.objects.IPythonPNGObject at 0x12602bb90>"
       ]
      }
     ],
     "prompt_number": 50
    },
    {
     "cell_type": "markdown",
     "metadata": {},
     "source": [
      "<h4>Resolution of the fifth in the dominant chord</p>"
     ]
    },
    {
     "cell_type": "markdown",
     "metadata": {},
     "source": [
      "<p>THe resolution of the major seventh, small set of cases, does not provide much more information, as to be exapected, the types of examples of that covewr this have been seen above. There is a sense of binary, these more marginal cases have very strict limits around what preopares and resolves them. When they are execpions, they are local to a paricular (and in the examples above, local to a particular chord progression of descinding dominants</p>"
     ]
    },
    {
     "cell_type": "code",
     "collapsed": false,
     "input": [],
     "language": "python",
     "metadata": {},
     "outputs": []
    }
   ],
   "metadata": {}
  }
 ]
}