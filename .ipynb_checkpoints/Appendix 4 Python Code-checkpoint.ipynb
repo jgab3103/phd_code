{
 "metadata": {
  "name": "",
  "signature": "sha256:9686eb8a3a023607ff9ef81171ad275671b6731fbfbac534db77d0c76e2d9c7b"
 },
 "nbformat": 3,
 "nbformat_minor": 0,
 "worksheets": [
  {
   "cells": [
    {
     "cell_type": "code",
     "collapsed": true,
     "input": [
      "import music21 as mu\n",
      "import numpy as np\n",
      "import pandas as pd\n",
      "%pylab inline\n",
      "from IPython.core.display import HTML\n",
      "from IPython.core.display import Image \n",
      "%load_ext music21.ipython21.ipExtension"
     ],
     "language": "python",
     "metadata": {},
     "outputs": []
    },
    {
     "cell_type": "code",
     "collapsed": true,
     "input": [
      "#utility method to track tables and figures in document\n",
      "class TableFigureCounter:\n",
      "    def __init__(self):\n",
      "        self.tab_count = 0\n",
      "        self.fig_count = 0\n",
      "    def get_next_tab(self, chapter=None):\n",
      "        self.tab_count = self.tab_count + 1\n",
      "        return 'Table ' + str(chapter) + '.' + str(self.tab_count)        \n",
      "    def get_next_fig(self, chapter=None):\n",
      "        self.fig_count = self.fig_count + 1\n",
      "        return 'Figure ' + str(chapter) + '.' + str(self.fig_count)\n",
      "    def reset(self):\n",
      "        self.tab_count = 0\n",
      "        self.fig_count = 0"
     ],
     "language": "python",
     "metadata": {},
     "outputs": []
    },
    {
     "cell_type": "code",
     "collapsed": true,
     "input": [],
     "language": "python",
     "metadata": {},
     "outputs": []
    }
   ],
   "metadata": {}
  }
 ]
}