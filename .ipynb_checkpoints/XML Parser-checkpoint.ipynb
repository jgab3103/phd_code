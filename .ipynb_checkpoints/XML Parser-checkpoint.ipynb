{
 "cells": [
  {
   "cell_type": "code",
   "execution_count": 1,
   "metadata": {
    "collapsed": false
   },
   "outputs": [
    {
     "name": "stdout",
     "output_type": "stream",
     "text": [
      "Populating the interactive namespace from numpy and matplotlib\n"
     ]
    }
   ],
   "source": [
    "import pandas as pd\n",
    "%pylab inline\n",
    "import numpy as np\n",
    "import matplotlib\n",
    "import music21 as mu\n",
    "import pymongo\n",
    "from pymongo import MongoClient\n",
    "from bs4 import BeautifulSoup\n",
    "import re"
   ]
  },
  {
   "cell_type": "code",
   "execution_count": 2,
   "metadata": {
    "collapsed": false,
    "scrolled": true
   },
   "outputs": [],
   "source": [
    "xmlData = BeautifulSoup(open('FinalDataSet/XMLFiles/JazzSolos/KJAllTheThingsYouAre1983_2143_290.xml'))"
   ]
  },
  {
   "cell_type": "code",
   "execution_count": 3,
   "metadata": {
    "collapsed": false
   },
   "outputs": [],
   "source": [
    "#notesDataFrame = pd.DataFrame\n",
    "#notes = xmlData.find_all('note')\n",
    "#print xmlData"
   ]
  },
  {
   "cell_type": "code",
   "execution_count": 4,
   "metadata": {
    "collapsed": false
   },
   "outputs": [],
   "source": [
    "allNotes = xmlData.findAll('note')"
   ]
  },
  {
   "cell_type": "code",
   "execution_count": 5,
   "metadata": {
    "collapsed": false
   },
   "outputs": [],
   "source": [
    "#allNotes"
   ]
  },
  {
   "cell_type": "code",
   "execution_count": 6,
   "metadata": {
    "collapsed": false
   },
   "outputs": [],
   "source": [
    "listOfNoteEvents = []\n",
    "for note in allNotes:\n",
    "    #print note.pitch\n",
    "    #print note.instrument.attrs.values()\n",
    "    #print 'end'\n",
    "    dictForNoteEvent = {}\n",
    "    dictForNoteEvent['restFlag'] = note.rest\n",
    "    dictForNoteEvent['noteName'] = note.step\n",
    "    dictForNoteEvent['octave'] = note.octave\n",
    "    dictForNoteEvent['duration'] = note.duration.text\n",
    "    dictForNoteEvent['instrument'] = note.instrument.attrs.values()\n",
    "    dictForNoteEvent['accidental'] = note.alter\n",
    "    \n",
    "    listOfNoteEvents.append(dictForNoteEvent)\n",
    "\n"
   ]
  },
  {
   "cell_type": "code",
   "execution_count": 7,
   "metadata": {
    "collapsed": false
   },
   "outputs": [],
   "source": [
    "df = pd.DataFrame(listOfNoteEvents)"
   ]
  },
  {
   "cell_type": "code",
   "execution_count": 8,
   "metadata": {
    "collapsed": false
   },
   "outputs": [
    {
     "data": {
      "text/html": [
       "<div>\n",
       "<table border=\"1\" class=\"dataframe\">\n",
       "  <thead>\n",
       "    <tr style=\"text-align: right;\">\n",
       "      <th></th>\n",
       "      <th>accidental</th>\n",
       "      <th>duration</th>\n",
       "      <th>instrument</th>\n",
       "      <th>noteName</th>\n",
       "      <th>octave</th>\n",
       "      <th>restFlag</th>\n",
       "    </tr>\n",
       "  </thead>\n",
       "  <tbody>\n",
       "    <tr>\n",
       "      <th>0</th>\n",
       "      <td>None</td>\n",
       "      <td>256</td>\n",
       "      <td>[P1-I1]</td>\n",
       "      <td>None</td>\n",
       "      <td>None</td>\n",
       "      <td>&lt;rest&gt;&lt;/rest&gt;</td>\n",
       "    </tr>\n",
       "    <tr>\n",
       "      <th>1</th>\n",
       "      <td>&lt;alter&gt;-1&lt;/alter&gt;</td>\n",
       "      <td>256</td>\n",
       "      <td>[P1-I1]</td>\n",
       "      <td>&lt;step&gt;B&lt;/step&gt;</td>\n",
       "      <td>&lt;octave&gt;4&lt;/octave&gt;</td>\n",
       "      <td>None</td>\n",
       "    </tr>\n",
       "    <tr>\n",
       "      <th>2</th>\n",
       "      <td>&lt;alter&gt;-1&lt;/alter&gt;</td>\n",
       "      <td>512</td>\n",
       "      <td>[P1-I1]</td>\n",
       "      <td>&lt;step&gt;A&lt;/step&gt;</td>\n",
       "      <td>&lt;octave&gt;4&lt;/octave&gt;</td>\n",
       "      <td>None</td>\n",
       "    </tr>\n",
       "    <tr>\n",
       "      <th>3</th>\n",
       "      <td>None</td>\n",
       "      <td>384</td>\n",
       "      <td>[P1-I1]</td>\n",
       "      <td>&lt;step&gt;C&lt;/step&gt;</td>\n",
       "      <td>&lt;octave&gt;5&lt;/octave&gt;</td>\n",
       "      <td>None</td>\n",
       "    </tr>\n",
       "    <tr>\n",
       "      <th>4</th>\n",
       "      <td>None</td>\n",
       "      <td>128</td>\n",
       "      <td>[P1-I1]</td>\n",
       "      <td>&lt;step&gt;G&lt;/step&gt;</td>\n",
       "      <td>&lt;octave&gt;4&lt;/octave&gt;</td>\n",
       "      <td>None</td>\n",
       "    </tr>\n",
       "  </tbody>\n",
       "</table>\n",
       "</div>"
      ],
      "text/plain": [
       "          accidental duration instrument        noteName              octave  \\\n",
       "0               None      256    [P1-I1]            None                None   \n",
       "1  <alter>-1</alter>      256    [P1-I1]  <step>B</step>  <octave>4</octave>   \n",
       "2  <alter>-1</alter>      512    [P1-I1]  <step>A</step>  <octave>4</octave>   \n",
       "3               None      384    [P1-I1]  <step>C</step>  <octave>5</octave>   \n",
       "4               None      128    [P1-I1]  <step>G</step>  <octave>4</octave>   \n",
       "\n",
       "        restFlag  \n",
       "0  <rest></rest>  \n",
       "1           None  \n",
       "2           None  \n",
       "3           None  \n",
       "4           None  "
      ]
     },
     "execution_count": 8,
     "metadata": {},
     "output_type": "execute_result"
    }
   ],
   "source": [
    "df.head()"
   ]
  },
  {
   "cell_type": "code",
   "execution_count": 9,
   "metadata": {
    "collapsed": false
   },
   "outputs": [],
   "source": [
    "# first clean of data\n",
    "def cleanAccidental(data_row):\n",
    "    accidentalString = str(data_row['accidental'])\n",
    "    test = re.sub('<[^>]*>', '', accidentalString)\n",
    "    return str(test) \n",
    "    \n",
    "df['accidental'] = df.apply(cleanAccidental, axis=1) \n",
    "\n",
    "def cleanNoteName(data_row):\n",
    "    accidentalString = str(data_row['noteName'])\n",
    "    test = re.sub('<[^>]*>', '', accidentalString)\n",
    "    return str(test) \n",
    "    \n",
    "df['noteName'] = df.apply(cleanNoteName, axis=1) \n",
    "\n",
    "def cleanOctave(data_row):\n",
    "    accidentalString = str(data_row['octave'])\n",
    "    test = re.sub('<[^>]*>', '', accidentalString)\n",
    "    return str(test) \n",
    "    \n",
    "df['octave'] = df.apply(cleanOctave, axis=1) \n",
    "\n",
    "\n",
    "        \n",
    "def cleanRest(data_row):\n",
    "    restVal = -1\n",
    "    restAsString = str(data_row['restFlag'])\n",
    "    if restAsString != 'None':\n",
    "        restVal ='rest'\n",
    "    else:\n",
    "        restVal = 'note'\n",
    "\n",
    "    return str(restVal)\n",
    "    \n",
    "df['restFlag'] = df.apply(cleanRest, axis=1)\n",
    "\n"
   ]
  },
  {
   "cell_type": "code",
   "execution_count": 10,
   "metadata": {
    "collapsed": false
   },
   "outputs": [
    {
     "data": {
      "text/plain": [
       "note    2143\n",
       "rest     260\n",
       "dtype: int64"
      ]
     },
     "execution_count": 10,
     "metadata": {},
     "output_type": "execute_result"
    }
   ],
   "source": [
    "df['restFlag'].value_counts()"
   ]
  },
  {
   "cell_type": "code",
   "execution_count": 11,
   "metadata": {
    "collapsed": false
   },
   "outputs": [],
   "source": [
    "#second clean for parts and duration\n",
    "def cleanPart(data_row):\n",
    "    accidentalString = str(data_row['instrument'])\n",
    "    test = accidentalString[3:5]\n",
    "    return str(test) \n",
    "\n",
    "df['part'] = df.apply(cleanPart, axis=1)\n",
    "\n",
    "def convertDurationAsPerQuarterNoteIsOneBeat(data_row):\n",
    "    asFloat = float(data_row['duration'])\n",
    "    return asFloat / 256\n",
    "\n",
    "df['quarterNoteDuration'] = df.apply(convertDurationAsPerQuarterNoteIsOneBeat, axis=1)"
   ]
  },
  {
   "cell_type": "code",
   "execution_count": 12,
   "metadata": {
    "collapsed": false
   },
   "outputs": [
    {
     "data": {
      "text/html": [
       "<div>\n",
       "<table border=\"1\" class=\"dataframe\">\n",
       "  <thead>\n",
       "    <tr style=\"text-align: right;\">\n",
       "      <th></th>\n",
       "      <th>accidental</th>\n",
       "      <th>duration</th>\n",
       "      <th>instrument</th>\n",
       "      <th>noteName</th>\n",
       "      <th>octave</th>\n",
       "      <th>restFlag</th>\n",
       "      <th>part</th>\n",
       "      <th>quarterNoteDuration</th>\n",
       "    </tr>\n",
       "  </thead>\n",
       "  <tbody>\n",
       "    <tr>\n",
       "      <th>0</th>\n",
       "      <td>None</td>\n",
       "      <td>256</td>\n",
       "      <td>[P1-I1]</td>\n",
       "      <td>None</td>\n",
       "      <td>None</td>\n",
       "      <td>rest</td>\n",
       "      <td>P1</td>\n",
       "      <td>1.0</td>\n",
       "    </tr>\n",
       "    <tr>\n",
       "      <th>1</th>\n",
       "      <td>-1</td>\n",
       "      <td>256</td>\n",
       "      <td>[P1-I1]</td>\n",
       "      <td>B</td>\n",
       "      <td>4</td>\n",
       "      <td>note</td>\n",
       "      <td>P1</td>\n",
       "      <td>1.0</td>\n",
       "    </tr>\n",
       "    <tr>\n",
       "      <th>2</th>\n",
       "      <td>-1</td>\n",
       "      <td>512</td>\n",
       "      <td>[P1-I1]</td>\n",
       "      <td>A</td>\n",
       "      <td>4</td>\n",
       "      <td>note</td>\n",
       "      <td>P1</td>\n",
       "      <td>2.0</td>\n",
       "    </tr>\n",
       "    <tr>\n",
       "      <th>3</th>\n",
       "      <td>None</td>\n",
       "      <td>384</td>\n",
       "      <td>[P1-I1]</td>\n",
       "      <td>C</td>\n",
       "      <td>5</td>\n",
       "      <td>note</td>\n",
       "      <td>P1</td>\n",
       "      <td>1.5</td>\n",
       "    </tr>\n",
       "    <tr>\n",
       "      <th>4</th>\n",
       "      <td>None</td>\n",
       "      <td>128</td>\n",
       "      <td>[P1-I1]</td>\n",
       "      <td>G</td>\n",
       "      <td>4</td>\n",
       "      <td>note</td>\n",
       "      <td>P1</td>\n",
       "      <td>0.5</td>\n",
       "    </tr>\n",
       "  </tbody>\n",
       "</table>\n",
       "</div>"
      ],
      "text/plain": [
       "  accidental duration instrument noteName octave restFlag part  \\\n",
       "0       None      256    [P1-I1]     None   None     rest   P1   \n",
       "1         -1      256    [P1-I1]        B      4     note   P1   \n",
       "2         -1      512    [P1-I1]        A      4     note   P1   \n",
       "3       None      384    [P1-I1]        C      5     note   P1   \n",
       "4       None      128    [P1-I1]        G      4     note   P1   \n",
       "\n",
       "   quarterNoteDuration  \n",
       "0                  1.0  \n",
       "1                  1.0  \n",
       "2                  2.0  \n",
       "3                  1.5  \n",
       "4                  0.5  "
      ]
     },
     "execution_count": 12,
     "metadata": {},
     "output_type": "execute_result"
    }
   ],
   "source": [
    "df.head()"
   ]
  },
  {
   "cell_type": "code",
   "execution_count": 13,
   "metadata": {
    "collapsed": true
   },
   "outputs": [],
   "source": [
    "# divide parts to ascertain location\n",
    "partOne = df[df['part'] == 'P1']\n",
    "partTwo = df[df['part'] == 'P2']"
   ]
  },
  {
   "cell_type": "code",
   "execution_count": 14,
   "metadata": {
    "collapsed": false
   },
   "outputs": [],
   "source": [
    "partOne['noteEventLocation'] = partOne['quarterNoteDuration'].cumsum()\n",
    "partTwo['noteEventLocation'] = partTwo['quarterNoteDuration'].cumsum()\n",
    "\n",
    "partOne['noteEventStartingLocation'] = partOne['noteEventLocation'].shift()\n",
    "partTwo['noteEventStartingLocation'] = partTwo['noteEventLocation'].shift()\n"
   ]
  },
  {
   "cell_type": "code",
   "execution_count": 15,
   "metadata": {
    "collapsed": false
   },
   "outputs": [],
   "source": [
    "df = pd.concat([partOne, partTwo], axis=0)"
   ]
  },
  {
   "cell_type": "code",
   "execution_count": 16,
   "metadata": {
    "collapsed": false
   },
   "outputs": [
    {
     "data": {
      "text/html": [
       "<div>\n",
       "<table border=\"1\" class=\"dataframe\">\n",
       "  <thead>\n",
       "    <tr style=\"text-align: right;\">\n",
       "      <th></th>\n",
       "      <th>accidental</th>\n",
       "      <th>duration</th>\n",
       "      <th>instrument</th>\n",
       "      <th>noteName</th>\n",
       "      <th>octave</th>\n",
       "      <th>restFlag</th>\n",
       "      <th>part</th>\n",
       "      <th>quarterNoteDuration</th>\n",
       "      <th>noteEventLocation</th>\n",
       "      <th>noteEventStartingLocation</th>\n",
       "    </tr>\n",
       "  </thead>\n",
       "  <tbody>\n",
       "    <tr>\n",
       "      <th>0</th>\n",
       "      <td>None</td>\n",
       "      <td>256</td>\n",
       "      <td>[P1-I1]</td>\n",
       "      <td>None</td>\n",
       "      <td>None</td>\n",
       "      <td>rest</td>\n",
       "      <td>P1</td>\n",
       "      <td>1</td>\n",
       "      <td>1</td>\n",
       "      <td>NaN</td>\n",
       "    </tr>\n",
       "    <tr>\n",
       "      <th>1</th>\n",
       "      <td>-1</td>\n",
       "      <td>256</td>\n",
       "      <td>[P1-I1]</td>\n",
       "      <td>B</td>\n",
       "      <td>4</td>\n",
       "      <td>note</td>\n",
       "      <td>P1</td>\n",
       "      <td>1</td>\n",
       "      <td>2</td>\n",
       "      <td>1</td>\n",
       "    </tr>\n",
       "    <tr>\n",
       "      <th>2</th>\n",
       "      <td>-1</td>\n",
       "      <td>512</td>\n",
       "      <td>[P1-I1]</td>\n",
       "      <td>A</td>\n",
       "      <td>4</td>\n",
       "      <td>note</td>\n",
       "      <td>P1</td>\n",
       "      <td>2</td>\n",
       "      <td>4</td>\n",
       "      <td>2</td>\n",
       "    </tr>\n",
       "  </tbody>\n",
       "</table>\n",
       "</div>"
      ],
      "text/plain": [
       "  accidental duration instrument noteName octave restFlag part  \\\n",
       "0       None      256    [P1-I1]     None   None     rest   P1   \n",
       "1         -1      256    [P1-I1]        B      4     note   P1   \n",
       "2         -1      512    [P1-I1]        A      4     note   P1   \n",
       "\n",
       "   quarterNoteDuration  noteEventLocation  noteEventStartingLocation  \n",
       "0                    1                  1                        NaN  \n",
       "1                    1                  2                          1  \n",
       "2                    2                  4                          2  "
      ]
     },
     "execution_count": 16,
     "metadata": {},
     "output_type": "execute_result"
    }
   ],
   "source": [
    "df.head(3)"
   ]
  },
  {
   "cell_type": "code",
   "execution_count": 17,
   "metadata": {
    "collapsed": false
   },
   "outputs": [],
   "source": [
    "#df = df.sort('noteEventLocation')\n",
    "#df = df.reset_index()"
   ]
  },
  {
   "cell_type": "code",
   "execution_count": 18,
   "metadata": {
    "collapsed": false
   },
   "outputs": [
    {
     "data": {
      "text/html": [
       "<div>\n",
       "<table border=\"1\" class=\"dataframe\">\n",
       "  <thead>\n",
       "    <tr style=\"text-align: right;\">\n",
       "      <th></th>\n",
       "      <th>accidental</th>\n",
       "      <th>duration</th>\n",
       "      <th>instrument</th>\n",
       "      <th>noteName</th>\n",
       "      <th>octave</th>\n",
       "      <th>restFlag</th>\n",
       "      <th>part</th>\n",
       "      <th>quarterNoteDuration</th>\n",
       "      <th>noteEventLocation</th>\n",
       "      <th>noteEventStartingLocation</th>\n",
       "    </tr>\n",
       "  </thead>\n",
       "  <tbody>\n",
       "    <tr>\n",
       "      <th>0</th>\n",
       "      <td>None</td>\n",
       "      <td>256</td>\n",
       "      <td>[P1-I1]</td>\n",
       "      <td>None</td>\n",
       "      <td>None</td>\n",
       "      <td>rest</td>\n",
       "      <td>P1</td>\n",
       "      <td>1.0</td>\n",
       "      <td>1.0</td>\n",
       "      <td>NaN</td>\n",
       "    </tr>\n",
       "    <tr>\n",
       "      <th>1</th>\n",
       "      <td>-1</td>\n",
       "      <td>256</td>\n",
       "      <td>[P1-I1]</td>\n",
       "      <td>B</td>\n",
       "      <td>4</td>\n",
       "      <td>note</td>\n",
       "      <td>P1</td>\n",
       "      <td>1.0</td>\n",
       "      <td>2.0</td>\n",
       "      <td>1.0</td>\n",
       "    </tr>\n",
       "    <tr>\n",
       "      <th>2</th>\n",
       "      <td>-1</td>\n",
       "      <td>512</td>\n",
       "      <td>[P1-I1]</td>\n",
       "      <td>A</td>\n",
       "      <td>4</td>\n",
       "      <td>note</td>\n",
       "      <td>P1</td>\n",
       "      <td>2.0</td>\n",
       "      <td>4.0</td>\n",
       "      <td>2.0</td>\n",
       "    </tr>\n",
       "    <tr>\n",
       "      <th>3</th>\n",
       "      <td>None</td>\n",
       "      <td>384</td>\n",
       "      <td>[P1-I1]</td>\n",
       "      <td>C</td>\n",
       "      <td>5</td>\n",
       "      <td>note</td>\n",
       "      <td>P1</td>\n",
       "      <td>1.5</td>\n",
       "      <td>5.5</td>\n",
       "      <td>4.0</td>\n",
       "    </tr>\n",
       "    <tr>\n",
       "      <th>4</th>\n",
       "      <td>None</td>\n",
       "      <td>128</td>\n",
       "      <td>[P1-I1]</td>\n",
       "      <td>G</td>\n",
       "      <td>4</td>\n",
       "      <td>note</td>\n",
       "      <td>P1</td>\n",
       "      <td>0.5</td>\n",
       "      <td>6.0</td>\n",
       "      <td>5.5</td>\n",
       "    </tr>\n",
       "    <tr>\n",
       "      <th>5</th>\n",
       "      <td>None</td>\n",
       "      <td>256</td>\n",
       "      <td>[P1-I1]</td>\n",
       "      <td>F</td>\n",
       "      <td>4</td>\n",
       "      <td>note</td>\n",
       "      <td>P1</td>\n",
       "      <td>1.0</td>\n",
       "      <td>7.0</td>\n",
       "      <td>6.0</td>\n",
       "    </tr>\n",
       "    <tr>\n",
       "      <th>6</th>\n",
       "      <td>None</td>\n",
       "      <td>256</td>\n",
       "      <td>[P1-I1]</td>\n",
       "      <td>E</td>\n",
       "      <td>4</td>\n",
       "      <td>note</td>\n",
       "      <td>P1</td>\n",
       "      <td>1.0</td>\n",
       "      <td>8.0</td>\n",
       "      <td>7.0</td>\n",
       "    </tr>\n",
       "    <tr>\n",
       "      <th>7</th>\n",
       "      <td>None</td>\n",
       "      <td>128</td>\n",
       "      <td>[P1-I1]</td>\n",
       "      <td>None</td>\n",
       "      <td>None</td>\n",
       "      <td>rest</td>\n",
       "      <td>P1</td>\n",
       "      <td>0.5</td>\n",
       "      <td>8.5</td>\n",
       "      <td>8.0</td>\n",
       "    </tr>\n",
       "    <tr>\n",
       "      <th>8</th>\n",
       "      <td>None</td>\n",
       "      <td>128</td>\n",
       "      <td>[P1-I1]</td>\n",
       "      <td>F</td>\n",
       "      <td>4</td>\n",
       "      <td>note</td>\n",
       "      <td>P1</td>\n",
       "      <td>0.5</td>\n",
       "      <td>9.0</td>\n",
       "      <td>8.5</td>\n",
       "    </tr>\n",
       "    <tr>\n",
       "      <th>9</th>\n",
       "      <td>None</td>\n",
       "      <td>128</td>\n",
       "      <td>[P1-I1]</td>\n",
       "      <td>F</td>\n",
       "      <td>4</td>\n",
       "      <td>note</td>\n",
       "      <td>P1</td>\n",
       "      <td>0.5</td>\n",
       "      <td>9.5</td>\n",
       "      <td>9.0</td>\n",
       "    </tr>\n",
       "  </tbody>\n",
       "</table>\n",
       "</div>"
      ],
      "text/plain": [
       "  accidental duration instrument noteName octave restFlag part  \\\n",
       "0       None      256    [P1-I1]     None   None     rest   P1   \n",
       "1         -1      256    [P1-I1]        B      4     note   P1   \n",
       "2         -1      512    [P1-I1]        A      4     note   P1   \n",
       "3       None      384    [P1-I1]        C      5     note   P1   \n",
       "4       None      128    [P1-I1]        G      4     note   P1   \n",
       "5       None      256    [P1-I1]        F      4     note   P1   \n",
       "6       None      256    [P1-I1]        E      4     note   P1   \n",
       "7       None      128    [P1-I1]     None   None     rest   P1   \n",
       "8       None      128    [P1-I1]        F      4     note   P1   \n",
       "9       None      128    [P1-I1]        F      4     note   P1   \n",
       "\n",
       "   quarterNoteDuration  noteEventLocation  noteEventStartingLocation  \n",
       "0                  1.0                1.0                        NaN  \n",
       "1                  1.0                2.0                        1.0  \n",
       "2                  2.0                4.0                        2.0  \n",
       "3                  1.5                5.5                        4.0  \n",
       "4                  0.5                6.0                        5.5  \n",
       "5                  1.0                7.0                        6.0  \n",
       "6                  1.0                8.0                        7.0  \n",
       "7                  0.5                8.5                        8.0  \n",
       "8                  0.5                9.0                        8.5  \n",
       "9                  0.5                9.5                        9.0  "
      ]
     },
     "execution_count": 18,
     "metadata": {},
     "output_type": "execute_result"
    }
   ],
   "source": [
    "df.head(10)"
   ]
  },
  {
   "cell_type": "code",
   "execution_count": 19,
   "metadata": {
    "collapsed": false
   },
   "outputs": [],
   "source": [
    "#del df['index']\n",
    "del df['duration']\n",
    "del df['instrument']\n",
    "del df['noteEventLocation']"
   ]
  },
  {
   "cell_type": "code",
   "execution_count": 20,
   "metadata": {
    "collapsed": false
   },
   "outputs": [
    {
     "data": {
      "text/html": [
       "<div>\n",
       "<table border=\"1\" class=\"dataframe\">\n",
       "  <thead>\n",
       "    <tr style=\"text-align: right;\">\n",
       "      <th></th>\n",
       "      <th>accidental</th>\n",
       "      <th>noteName</th>\n",
       "      <th>octave</th>\n",
       "      <th>restFlag</th>\n",
       "      <th>part</th>\n",
       "      <th>quarterNoteDuration</th>\n",
       "      <th>noteEventStartingLocation</th>\n",
       "    </tr>\n",
       "  </thead>\n",
       "  <tbody>\n",
       "    <tr>\n",
       "      <th>0</th>\n",
       "      <td>None</td>\n",
       "      <td>None</td>\n",
       "      <td>None</td>\n",
       "      <td>rest</td>\n",
       "      <td>P1</td>\n",
       "      <td>1.0</td>\n",
       "      <td>NaN</td>\n",
       "    </tr>\n",
       "    <tr>\n",
       "      <th>1</th>\n",
       "      <td>-1</td>\n",
       "      <td>B</td>\n",
       "      <td>4</td>\n",
       "      <td>note</td>\n",
       "      <td>P1</td>\n",
       "      <td>1.0</td>\n",
       "      <td>1.0</td>\n",
       "    </tr>\n",
       "    <tr>\n",
       "      <th>2</th>\n",
       "      <td>-1</td>\n",
       "      <td>A</td>\n",
       "      <td>4</td>\n",
       "      <td>note</td>\n",
       "      <td>P1</td>\n",
       "      <td>2.0</td>\n",
       "      <td>2.0</td>\n",
       "    </tr>\n",
       "    <tr>\n",
       "      <th>3</th>\n",
       "      <td>None</td>\n",
       "      <td>C</td>\n",
       "      <td>5</td>\n",
       "      <td>note</td>\n",
       "      <td>P1</td>\n",
       "      <td>1.5</td>\n",
       "      <td>4.0</td>\n",
       "    </tr>\n",
       "    <tr>\n",
       "      <th>4</th>\n",
       "      <td>None</td>\n",
       "      <td>G</td>\n",
       "      <td>4</td>\n",
       "      <td>note</td>\n",
       "      <td>P1</td>\n",
       "      <td>0.5</td>\n",
       "      <td>5.5</td>\n",
       "    </tr>\n",
       "  </tbody>\n",
       "</table>\n",
       "</div>"
      ],
      "text/plain": [
       "  accidental noteName octave restFlag part  quarterNoteDuration  \\\n",
       "0       None     None   None     rest   P1                  1.0   \n",
       "1         -1        B      4     note   P1                  1.0   \n",
       "2         -1        A      4     note   P1                  2.0   \n",
       "3       None        C      5     note   P1                  1.5   \n",
       "4       None        G      4     note   P1                  0.5   \n",
       "\n",
       "   noteEventStartingLocation  \n",
       "0                        NaN  \n",
       "1                        1.0  \n",
       "2                        2.0  \n",
       "3                        4.0  \n",
       "4                        5.5  "
      ]
     },
     "execution_count": 20,
     "metadata": {},
     "output_type": "execute_result"
    }
   ],
   "source": [
    "df.head()"
   ]
  },
  {
   "cell_type": "code",
   "execution_count": 21,
   "metadata": {
    "collapsed": false
   },
   "outputs": [],
   "source": [
    "#create midi frequency value\n",
    "offsetForC = 0\n",
    "offsetForD = 2\n",
    "offsetForE = 4\n",
    "offsetForF = 5\n",
    "offsetForG = 7\n",
    "offsetForA = 9\n",
    "offsetForB = 11\n",
    "\n",
    "def midiNumberAssign(data_row):\n",
    "    \n",
    "    def adjustForAccidental(accidentalVal):\n",
    "        if accidentalVal == 'None':\n",
    "            return 0\n",
    "        else:\n",
    "            return int(accidentalVal)\n",
    "\n",
    "    if data_row['octave'] != \"None\":\n",
    "        baseVal = int(data_row['octave']) * 12\n",
    "        if data_row['noteName'] == 'C':\n",
    "            return baseVal + adjustForAccidental(data_row['accidental'])\n",
    "        elif data_row['noteName'] == 'D':\n",
    "            return baseVal + offsetForD + adjustForAccidental(data_row['accidental'])\n",
    "        elif data_row['noteName'] == 'E':\n",
    "            return baseVal + offsetForD + adjustForAccidental(data_row['accidental'])\n",
    "        elif data_row['noteName'] == 'F':\n",
    "            return baseVal + offsetForD + adjustForAccidental(data_row['accidental'])\n",
    "        elif data_row['noteName'] == 'G':\n",
    "            return baseVal + offsetForD + adjustForAccidental(data_row['accidental'])\n",
    "        elif data_row['noteName'] == 'A':\n",
    "            return baseVal + offsetForD + adjustForAccidental(data_row['accidental'])\n",
    "        elif data_row['noteName'] == 'B':\n",
    "            return baseVal + offsetForD + adjustForAccidental(data_row['accidental'])\n",
    "\n",
    "\n",
    "\n",
    "df['midiNumber'] = df.apply(midiNumberAssign, axis=1)"
   ]
  },
  {
   "cell_type": "code",
   "execution_count": 22,
   "metadata": {
    "collapsed": false
   },
   "outputs": [
    {
     "data": {
      "text/plain": [
       "accidental                    object\n",
       "noteName                      object\n",
       "octave                        object\n",
       "restFlag                      object\n",
       "part                          object\n",
       "quarterNoteDuration          float64\n",
       "noteEventStartingLocation    float64\n",
       "midiNumber                   float64\n",
       "dtype: object"
      ]
     },
     "execution_count": 22,
     "metadata": {},
     "output_type": "execute_result"
    }
   ],
   "source": [
    "df.dtypes"
   ]
  },
  {
   "cell_type": "code",
   "execution_count": 23,
   "metadata": {
    "collapsed": false,
    "scrolled": true
   },
   "outputs": [
    {
     "data": {
      "text/html": [
       "<div>\n",
       "<table border=\"1\" class=\"dataframe\">\n",
       "  <thead>\n",
       "    <tr style=\"text-align: right;\">\n",
       "      <th></th>\n",
       "      <th>accidental</th>\n",
       "      <th>noteName</th>\n",
       "      <th>octave</th>\n",
       "      <th>restFlag</th>\n",
       "      <th>part</th>\n",
       "      <th>quarterNoteDuration</th>\n",
       "      <th>noteEventStartingLocation</th>\n",
       "      <th>midiNumber</th>\n",
       "    </tr>\n",
       "  </thead>\n",
       "  <tbody>\n",
       "    <tr>\n",
       "      <th>0</th>\n",
       "      <td>None</td>\n",
       "      <td>None</td>\n",
       "      <td>None</td>\n",
       "      <td>rest</td>\n",
       "      <td>P1</td>\n",
       "      <td>1.0</td>\n",
       "      <td>NaN</td>\n",
       "      <td>NaN</td>\n",
       "    </tr>\n",
       "    <tr>\n",
       "      <th>1</th>\n",
       "      <td>-1</td>\n",
       "      <td>B</td>\n",
       "      <td>4</td>\n",
       "      <td>note</td>\n",
       "      <td>P1</td>\n",
       "      <td>1.0</td>\n",
       "      <td>1.0</td>\n",
       "      <td>49</td>\n",
       "    </tr>\n",
       "    <tr>\n",
       "      <th>2</th>\n",
       "      <td>-1</td>\n",
       "      <td>A</td>\n",
       "      <td>4</td>\n",
       "      <td>note</td>\n",
       "      <td>P1</td>\n",
       "      <td>2.0</td>\n",
       "      <td>2.0</td>\n",
       "      <td>49</td>\n",
       "    </tr>\n",
       "    <tr>\n",
       "      <th>3</th>\n",
       "      <td>None</td>\n",
       "      <td>C</td>\n",
       "      <td>5</td>\n",
       "      <td>note</td>\n",
       "      <td>P1</td>\n",
       "      <td>1.5</td>\n",
       "      <td>4.0</td>\n",
       "      <td>60</td>\n",
       "    </tr>\n",
       "    <tr>\n",
       "      <th>4</th>\n",
       "      <td>None</td>\n",
       "      <td>G</td>\n",
       "      <td>4</td>\n",
       "      <td>note</td>\n",
       "      <td>P1</td>\n",
       "      <td>0.5</td>\n",
       "      <td>5.5</td>\n",
       "      <td>50</td>\n",
       "    </tr>\n",
       "    <tr>\n",
       "      <th>5</th>\n",
       "      <td>None</td>\n",
       "      <td>F</td>\n",
       "      <td>4</td>\n",
       "      <td>note</td>\n",
       "      <td>P1</td>\n",
       "      <td>1.0</td>\n",
       "      <td>6.0</td>\n",
       "      <td>50</td>\n",
       "    </tr>\n",
       "    <tr>\n",
       "      <th>6</th>\n",
       "      <td>None</td>\n",
       "      <td>E</td>\n",
       "      <td>4</td>\n",
       "      <td>note</td>\n",
       "      <td>P1</td>\n",
       "      <td>1.0</td>\n",
       "      <td>7.0</td>\n",
       "      <td>50</td>\n",
       "    </tr>\n",
       "    <tr>\n",
       "      <th>7</th>\n",
       "      <td>None</td>\n",
       "      <td>None</td>\n",
       "      <td>None</td>\n",
       "      <td>rest</td>\n",
       "      <td>P1</td>\n",
       "      <td>0.5</td>\n",
       "      <td>8.0</td>\n",
       "      <td>NaN</td>\n",
       "    </tr>\n",
       "    <tr>\n",
       "      <th>8</th>\n",
       "      <td>None</td>\n",
       "      <td>F</td>\n",
       "      <td>4</td>\n",
       "      <td>note</td>\n",
       "      <td>P1</td>\n",
       "      <td>0.5</td>\n",
       "      <td>8.5</td>\n",
       "      <td>50</td>\n",
       "    </tr>\n",
       "    <tr>\n",
       "      <th>9</th>\n",
       "      <td>None</td>\n",
       "      <td>F</td>\n",
       "      <td>4</td>\n",
       "      <td>note</td>\n",
       "      <td>P1</td>\n",
       "      <td>0.5</td>\n",
       "      <td>9.0</td>\n",
       "      <td>50</td>\n",
       "    </tr>\n",
       "  </tbody>\n",
       "</table>\n",
       "</div>"
      ],
      "text/plain": [
       "  accidental noteName octave restFlag part  quarterNoteDuration  \\\n",
       "0       None     None   None     rest   P1                  1.0   \n",
       "1         -1        B      4     note   P1                  1.0   \n",
       "2         -1        A      4     note   P1                  2.0   \n",
       "3       None        C      5     note   P1                  1.5   \n",
       "4       None        G      4     note   P1                  0.5   \n",
       "5       None        F      4     note   P1                  1.0   \n",
       "6       None        E      4     note   P1                  1.0   \n",
       "7       None     None   None     rest   P1                  0.5   \n",
       "8       None        F      4     note   P1                  0.5   \n",
       "9       None        F      4     note   P1                  0.5   \n",
       "\n",
       "   noteEventStartingLocation  midiNumber  \n",
       "0                        NaN         NaN  \n",
       "1                        1.0          49  \n",
       "2                        2.0          49  \n",
       "3                        4.0          60  \n",
       "4                        5.5          50  \n",
       "5                        6.0          50  \n",
       "6                        7.0          50  \n",
       "7                        8.0         NaN  \n",
       "8                        8.5          50  \n",
       "9                        9.0          50  "
      ]
     },
     "execution_count": 23,
     "metadata": {},
     "output_type": "execute_result"
    }
   ],
   "source": [
    "df.head(10)"
   ]
  },
  {
   "cell_type": "code",
   "execution_count": 24,
   "metadata": {
    "collapsed": false
   },
   "outputs": [],
   "source": [
    "#get rid of unused columns\n",
    "\n",
    "del df['accidental']\n",
    "del df['noteName']\n",
    "del df['octave']"
   ]
  },
  {
   "cell_type": "code",
   "execution_count": 25,
   "metadata": {
    "collapsed": true
   },
   "outputs": [],
   "source": [
    "df['noteEventStartingLocation'].fillna(0.0, inplace=True)"
   ]
  },
  {
   "cell_type": "code",
   "execution_count": 26,
   "metadata": {
    "collapsed": true
   },
   "outputs": [],
   "source": [
    "#df['midiNumber'].fillna(-1, inplace=True)"
   ]
  },
  {
   "cell_type": "code",
   "execution_count": 27,
   "metadata": {
    "collapsed": false
   },
   "outputs": [
    {
     "data": {
      "text/html": [
       "<div>\n",
       "<table border=\"1\" class=\"dataframe\">\n",
       "  <thead>\n",
       "    <tr style=\"text-align: right;\">\n",
       "      <th></th>\n",
       "      <th>restFlag</th>\n",
       "      <th>part</th>\n",
       "      <th>quarterNoteDuration</th>\n",
       "      <th>noteEventStartingLocation</th>\n",
       "      <th>midiNumber</th>\n",
       "    </tr>\n",
       "  </thead>\n",
       "  <tbody>\n",
       "    <tr>\n",
       "      <th>0</th>\n",
       "      <td>rest</td>\n",
       "      <td>P1</td>\n",
       "      <td>1.0</td>\n",
       "      <td>0.0</td>\n",
       "      <td>NaN</td>\n",
       "    </tr>\n",
       "    <tr>\n",
       "      <th>1</th>\n",
       "      <td>note</td>\n",
       "      <td>P1</td>\n",
       "      <td>1.0</td>\n",
       "      <td>1.0</td>\n",
       "      <td>49</td>\n",
       "    </tr>\n",
       "    <tr>\n",
       "      <th>2</th>\n",
       "      <td>note</td>\n",
       "      <td>P1</td>\n",
       "      <td>2.0</td>\n",
       "      <td>2.0</td>\n",
       "      <td>49</td>\n",
       "    </tr>\n",
       "    <tr>\n",
       "      <th>3</th>\n",
       "      <td>note</td>\n",
       "      <td>P1</td>\n",
       "      <td>1.5</td>\n",
       "      <td>4.0</td>\n",
       "      <td>60</td>\n",
       "    </tr>\n",
       "    <tr>\n",
       "      <th>4</th>\n",
       "      <td>note</td>\n",
       "      <td>P1</td>\n",
       "      <td>0.5</td>\n",
       "      <td>5.5</td>\n",
       "      <td>50</td>\n",
       "    </tr>\n",
       "  </tbody>\n",
       "</table>\n",
       "</div>"
      ],
      "text/plain": [
       "  restFlag part  quarterNoteDuration  noteEventStartingLocation  midiNumber\n",
       "0     rest   P1                  1.0                        0.0         NaN\n",
       "1     note   P1                  1.0                        1.0          49\n",
       "2     note   P1                  2.0                        2.0          49\n",
       "3     note   P1                  1.5                        4.0          60\n",
       "4     note   P1                  0.5                        5.5          50"
      ]
     },
     "execution_count": 27,
     "metadata": {},
     "output_type": "execute_result"
    }
   ],
   "source": [
    "df.head()"
   ]
  },
  {
   "cell_type": "code",
   "execution_count": 28,
   "metadata": {
    "collapsed": false
   },
   "outputs": [
    {
     "data": {
      "text/plain": [
       "<matplotlib.axes.AxesSubplot at 0x10b3c3c50>"
      ]
     },
     "execution_count": 28,
     "metadata": {},
     "output_type": "execute_result"
    },
    {
     "data": {
      "image/png": "[encoded data removed]",
      "text/plain": [
       "<matplotlib.figure.Figure at 0x10b472b10>"
      ]
     },
     "metadata": {},
     "output_type": "display_data"
    }
   ],
   "source": [
    "df[df['part'] == 'P1']['midiNumber'][100:300].plot()"
   ]
  },
  {
   "cell_type": "code",
   "execution_count": 29,
   "metadata": {
    "collapsed": true
   },
   "outputs": [],
   "source": [
    "#find sequences and ngrams"
   ]
  },
  {
   "cell_type": "code",
   "execution_count": null,
   "metadata": {
    "collapsed": true
   },
   "outputs": [],
   "source": []
  },
  {
   "cell_type": "code",
   "execution_count": null,
   "metadata": {
    "collapsed": true
   },
   "outputs": [],
   "source": []
  },
  {
   "cell_type": "code",
   "execution_count": 30,
   "metadata": {
    "collapsed": true
   },
   "outputs": [],
   "source": [
    "partOneAsMatrix = df[df['part'] == 'P1']\n",
    "matrix = partOneAsMatrix[['part','quarterNoteDuration','noteEventStartingLocation', 'midiNumber']].as_matrix()"
   ]
  },
  {
   "cell_type": "code",
   "execution_count": 31,
   "metadata": {
    "collapsed": false
   },
   "outputs": [
    {
     "data": {
      "text/plain": [
       "array([['P1', 1.0, 0.0, nan],\n",
       "       ['P1', 1.0, 1.0, 49.0],\n",
       "       ['P1', 2.0, 2.0, 49.0],\n",
       "       ['P1', 1.5, 4.0, 60.0],\n",
       "       ['P1', 0.5, 5.5, 50.0],\n",
       "       ['P1', 1.0, 6.0, 50.0],\n",
       "       ['P1', 1.0, 7.0, 50.0],\n",
       "       ['P1', 0.5, 8.0, nan],\n",
       "       ['P1', 0.5, 8.5, 50.0],\n",
       "       ['P1', 0.5, 9.0, 50.0]], dtype=object)"
      ]
     },
     "execution_count": 31,
     "metadata": {},
     "output_type": "execute_result"
    }
   ],
   "source": [
    "matrix[0:10]"
   ]
  },
  {
   "cell_type": "code",
   "execution_count": 95,
   "metadata": {
    "collapsed": false
   },
   "outputs": [],
   "source": [
    "#create \n",
    "threeNoteSequences = []\n",
    "phraseLength = 3\n",
    "\n",
    "\n",
    "for x in range(len(matrix)):\n",
    "    noteTuple= []\n",
    "    currentNote = matrix[x][3]\n",
    "    #print matrix[x]\n",
    "    noteTuple.append(str(currentNote))\n",
    "    #secondNote = None\n",
    "    #thirdNote = None\n",
    "    \n",
    "    try:\n",
    "        secondNote = matrix[x+1][3]\n",
    "        noteTuple.append(str(secondNote))\n",
    "        \n",
    "    except: \n",
    "        pass\n",
    "    \n",
    "    try:\n",
    "        thirdNote = matrix[x+2][3]\n",
    "        noteTuple.append(str(thirdNote))\n",
    "    except: \n",
    "        pass\n",
    "    \n",
    "    threeNoteSequences.append(noteTuple)\n",
    "    \n",
    "    \n",
    "\n",
    "\n",
    "#print threeNoteSequences"
   ]
  },
  {
   "cell_type": "code",
   "execution_count": 100,
   "metadata": {
    "collapsed": true
   },
   "outputs": [],
   "source": [
    "df2 = pd.DataFrame(threeNoteSequences, columns=['one', 'two', 'three'])"
   ]
  },
  {
   "cell_type": "code",
   "execution_count": 103,
   "metadata": {
    "collapsed": false
   },
   "outputs": [],
   "source": [
    "df2['next'] = (df2['one'] +  df2['two'] +  df2['three'])"
   ]
  },
  {
   "cell_type": "code",
   "execution_count": 106,
   "metadata": {
    "collapsed": false
   },
   "outputs": [
    {
     "data": {
      "text/plain": [
       "421"
      ]
     },
     "execution_count": 106,
     "metadata": {},
     "output_type": "execute_result"
    }
   ],
   "source": [
    "len(df2['next'].value_counts())"
   ]
  },
  {
   "cell_type": "code",
   "execution_count": 84,
   "metadata": {
    "collapsed": false
   },
   "outputs": [],
   "source": [
    "df2['merged'] = str(df2[1]) + ',' + str(df2[2])"
   ]
  },
  {
   "cell_type": "code",
   "execution_count": 91,
   "metadata": {
    "collapsed": false
   },
   "outputs": [
    {
     "data": {
      "text/plain": [
       "0       49\\n1       49\\n2       60\\n3       50\\n4       50\\n5       50\\n6      NaN\\n7       50\\n8       50\\n9       50\\n10      50\\n11      49\\n12      49\\n13     NaN\\n14     NaN\\n15      49\\n16      60\\n17      61\\n18      61\\n19      50\\n20      50\\n21      49\\n22      60\\n23      60\\n24      50\\n25      50\\n26     NaN\\n27      50\\n28      50\\n29      50\\n        ..\\n2028   NaN\\n2029   NaN\\n2030   NaN\\n2031   NaN\\n2032   NaN\\n2033   NaN\\n2034   NaN\\n2035   NaN\\n2036   NaN\\n2037   NaN\\n2038   NaN\\n2039   NaN\\n2040   NaN\\n2041   NaN\\n2042   NaN\\n2043   NaN\\n2044   NaN\\n2045   NaN\\n2046   NaN\\n2047   NaN\\n2048   NaN\\n2049   NaN\\n2050   NaN\\n2051   NaN\\n2052   NaN\\n2053   NaN\\n2054   NaN\\n2055   NaN\\n2056   NaN\\n2057   NaN\\nName: 1, dtype: float64,0       49\\n1       60\\n2       50\\n3       50\\n4       50\\n5      NaN\\n6       50\\n7       50\\n8       50\\n9       50\\n10      49\\n11      49\\n12     NaN\\n13     NaN\\n14      49\\n15      60\\n16      61\\n17      61\\n18      50\\n19      50\\n20      49\\n21      60\\n22      60\\n23      50\\n24      50\\n25     NaN\\n26      50\\n27      50\\n28      50\\n29      50\\n        ..\\n2028   NaN\\n2029   NaN\\n2030   NaN\\n2031   NaN\\n2032   NaN\\n2033   NaN\\n2034   NaN\\n2035   NaN\\n2036   NaN\\n2037   NaN\\n2038   NaN\\n2039   NaN\\n2040   NaN\\n2041   NaN\\n2042   NaN\\n2043   NaN\\n2044   NaN\\n2045   NaN\\n2046   NaN\\n2047   NaN\\n2048   NaN\\n2049   NaN\\n2050   NaN\\n2051   NaN\\n2052   NaN\\n2053   NaN\\n2054   NaN\\n2055   NaN\\n2056   NaN\\n2057   NaN\\nName: 2, dtype: float64    2058\n",
       "dtype: int64"
      ]
     },
     "execution_count": 91,
     "metadata": {},
     "output_type": "execute_result"
    }
   ],
   "source": [
    "df2['merged'].value_counts()"
   ]
  },
  {
   "cell_type": "code",
   "execution_count": 74,
   "metadata": {
    "collapsed": false
   },
   "outputs": [],
   "source": [
    "df2 = df.groupby(['noteEventStartingLocation'])"
   ]
  },
  {
   "cell_type": "code",
   "execution_count": null,
   "metadata": {
    "collapsed": false
   },
   "outputs": [],
   "source": []
  },
  {
   "cell_type": "code",
   "execution_count": null,
   "metadata": {
    "collapsed": true
   },
   "outputs": [],
   "source": []
  }
 ],
 "metadata": {
  "kernelspec": {
   "display_name": "Python 2",
   "language": "python",
   "name": "python2"
  },
  "language_info": {
   "codemirror_mode": {
    "name": "ipython",
    "version": 2
   },
   "file_extension": ".py",
   "mimetype": "text/x-python",
   "name": "python",
   "nbconvert_exporter": "python",
   "pygments_lexer": "ipython2",
   "version": "2.7.6"
  }
 },
 "nbformat": 4,
 "nbformat_minor": 0
}
