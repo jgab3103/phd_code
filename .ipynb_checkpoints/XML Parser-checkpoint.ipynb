{
 "cells": [
  {
   "cell_type": "code",
   "execution_count": 36,
   "metadata": {
    "collapsed": false
   },
   "outputs": [
    {
     "name": "stdout",
     "output_type": "stream",
     "text": [
      "Populating the interactive namespace from numpy and matplotlib\n"
     ]
    }
   ],
   "source": [
    "import pandas as pd\n",
    "%pylab inline\n",
    "import numpy as np\n",
    "import matplotlib\n",
    "import music21 as mu\n",
    "import pymongo\n",
    "from pymongo import MongoClient\n",
    "from bs4 import BeautifulSoup\n",
    "import re"
   ]
  },
  {
   "cell_type": "code",
   "execution_count": 37,
   "metadata": {
    "collapsed": false,
    "scrolled": true
   },
   "outputs": [],
   "source": [
    "xmlData = BeautifulSoup(open('FinalDataSet/XMLFiles/JazzSolos/KJAllTheThingsYouAre1983_2143_290.xml'))"
   ]
  },
  {
   "cell_type": "code",
   "execution_count": 38,
   "metadata": {
    "collapsed": false
   },
   "outputs": [],
   "source": [
    "notesDataFrame = pd.DataFrame\n",
    "notes = xmlData.find_all('note')"
   ]
  },
  {
   "cell_type": "code",
   "execution_count": 39,
   "metadata": {
    "collapsed": false
   },
   "outputs": [],
   "source": [
    "listToHoldAllNoteEvents = []\n",
    "for note in notes:\n",
    "    #print note\n",
    "    theDict = {}\n",
    "    theDict['restFlag'] = note.rest\n",
    "    #theDict['durationModified'] = note.tuplet\n",
    "    theDict['noteName'] = note.step\n",
    "    theDict['accidental'] = note.alter\n",
    "    theDict['noteType'] = note.type\n",
    "    theDict['octave'] = note.octave\n",
    "    theDict['part'] = note.instrument\n",
    "    theDict['duration'] = note.duration\n",
    "    theDict['tieStatus'] = note.tie\n",
    "\n",
    "    listToHoldAllNoteEvents.append(theDict)\n",
    "    "
   ]
  },
  {
   "cell_type": "code",
   "execution_count": 40,
   "metadata": {
    "collapsed": false
   },
   "outputs": [],
   "source": [
    "df = pd.DataFrame(listToHoldAllNoteEvents)"
   ]
  },
  {
   "cell_type": "code",
   "execution_count": 41,
   "metadata": {
    "collapsed": false
   },
   "outputs": [],
   "source": [
    "# first clean of data\n",
    "def cleanAccidental(data_row):\n",
    "    accidentalString = str(data_row['accidental'])\n",
    "    test = re.sub('<[^>]*>', '', accidentalString)\n",
    "    return str(test) \n",
    "    \n",
    "df['accidental'] = df.apply(cleanAccidental, axis=1) \n",
    "\n",
    "def cleanDuration(data_row):\n",
    "    accidentalString = str(data_row['duration'])\n",
    "    test = re.sub('<[^>]*>', '', accidentalString)\n",
    "    return str(test) \n",
    "    \n",
    "df['duration'] = df.apply(cleanDuration, axis=1) \n",
    "\n",
    "def cleanNoteName(data_row):\n",
    "    accidentalString = str(data_row['noteName'])\n",
    "    test = re.sub('<[^>]*>', '', accidentalString)\n",
    "    return str(test)\n",
    "    \n",
    "df['noteName'] = df.apply(cleanNoteName, axis=1) \n",
    "\n",
    "def cleanNoteType(data_row):\n",
    "    accidentalString = str(data_row['noteType'])\n",
    "    test = re.sub('<[^>]*>', '', accidentalString)\n",
    "    return str(test) \n",
    "    \n",
    "df['noteType'] = df.apply(cleanNoteType, axis=1) \n",
    "\n",
    "def cleanOctave(data_row):\n",
    "    accidentalString = str(data_row['octave'])\n",
    "    test = re.sub('<[^>]*>', '', accidentalString)\n",
    "    return str(test) \n",
    "    \n",
    "df['octave'] = df.apply(cleanOctave, axis=1) \n",
    "        \n",
    "def cleanRest(data_row):\n",
    "    restVal = -1\n",
    "    restAsString = str(data_row['restFlag'])\n",
    "    if data_row['restFlag'] is not None:\n",
    "        restVal ='rest'\n",
    "    else:\n",
    "        restVal = 'note'\n",
    "\n",
    "    return str(restVal)\n",
    "    \n",
    "df['restFlag'] = df.apply(cleanRest, axis=1)\n",
    "\n"
   ]
  },
  {
   "cell_type": "code",
   "execution_count": 42,
   "metadata": {
    "collapsed": false
   },
   "outputs": [
    {
     "data": {
      "text/html": [
       "<div>\n",
       "<table border=\"1\" class=\"dataframe\">\n",
       "  <thead>\n",
       "    <tr style=\"text-align: right;\">\n",
       "      <th></th>\n",
       "      <th>accidental</th>\n",
       "      <th>duration</th>\n",
       "      <th>noteName</th>\n",
       "      <th>noteType</th>\n",
       "      <th>octave</th>\n",
       "      <th>part</th>\n",
       "      <th>restFlag</th>\n",
       "      <th>tieStatus</th>\n",
       "    </tr>\n",
       "  </thead>\n",
       "  <tbody>\n",
       "    <tr>\n",
       "      <th>0</th>\n",
       "      <td>None</td>\n",
       "      <td>256</td>\n",
       "      <td>None</td>\n",
       "      <td>quarter</td>\n",
       "      <td>None</td>\n",
       "      <td>&lt;instrument id=\"P1-I1\"&gt;&lt;/instrument&gt;</td>\n",
       "      <td>rest</td>\n",
       "      <td>None</td>\n",
       "    </tr>\n",
       "  </tbody>\n",
       "</table>\n",
       "</div>"
      ],
      "text/plain": [
       "  accidental duration noteName noteType octave  \\\n",
       "0       None      256     None  quarter   None   \n",
       "\n",
       "                                   part restFlag tieStatus  \n",
       "0  <instrument id=\"P1-I1\"></instrument>     rest      None  "
      ]
     },
     "execution_count": 42,
     "metadata": {},
     "output_type": "execute_result"
    }
   ],
   "source": [
    "df.head(1)"
   ]
  },
  {
   "cell_type": "code",
   "execution_count": 43,
   "metadata": {
    "collapsed": false
   },
   "outputs": [],
   "source": [
    "#second clean for parts and duration\n",
    "def cleanPart(data_row):\n",
    "    accidentalString = str(data_row['part'])\n",
    "    test = accidentalString[16:18]\n",
    "    return str(test) \n",
    "\n",
    "df['part'] = df.apply(cleanPart, axis=1)\n",
    "\n",
    "def convertDurationAsPerQuarterNoteIsOneBeat(data_row):\n",
    "    asFloat = float(data_row['duration'])\n",
    "    return asFloat / 256\n",
    "\n",
    "df['quarterNoteDuration'] = df.apply(convertDurationAsPerQuarterNoteIsOneBeat, axis=1)"
   ]
  },
  {
   "cell_type": "code",
   "execution_count": 44,
   "metadata": {
    "collapsed": false
   },
   "outputs": [
    {
     "data": {
      "text/html": [
       "<div>\n",
       "<table border=\"1\" class=\"dataframe\">\n",
       "  <thead>\n",
       "    <tr style=\"text-align: right;\">\n",
       "      <th></th>\n",
       "      <th>accidental</th>\n",
       "      <th>duration</th>\n",
       "      <th>noteName</th>\n",
       "      <th>noteType</th>\n",
       "      <th>octave</th>\n",
       "      <th>part</th>\n",
       "      <th>restFlag</th>\n",
       "      <th>tieStatus</th>\n",
       "      <th>quarterNoteDuration</th>\n",
       "    </tr>\n",
       "  </thead>\n",
       "  <tbody>\n",
       "    <tr>\n",
       "      <th>0</th>\n",
       "      <td>None</td>\n",
       "      <td>256</td>\n",
       "      <td>None</td>\n",
       "      <td>quarter</td>\n",
       "      <td>None</td>\n",
       "      <td>P1</td>\n",
       "      <td>rest</td>\n",
       "      <td>None</td>\n",
       "      <td>1</td>\n",
       "    </tr>\n",
       "  </tbody>\n",
       "</table>\n",
       "</div>"
      ],
      "text/plain": [
       "  accidental duration noteName noteType octave part restFlag tieStatus  \\\n",
       "0       None      256     None  quarter   None   P1     rest      None   \n",
       "\n",
       "   quarterNoteDuration  \n",
       "0                    1  "
      ]
     },
     "execution_count": 44,
     "metadata": {},
     "output_type": "execute_result"
    }
   ],
   "source": [
    "df.head(1)"
   ]
  },
  {
   "cell_type": "code",
   "execution_count": 45,
   "metadata": {
    "collapsed": true
   },
   "outputs": [],
   "source": [
    "# divide parts to ascertain location\n",
    "partOne = df[df['part'] == 'P1']\n",
    "partTwo = df[df['part'] == 'P2']"
   ]
  },
  {
   "cell_type": "code",
   "execution_count": 46,
   "metadata": {
    "collapsed": false
   },
   "outputs": [],
   "source": [
    "partOne['noteEventLocation'] = partOne['quarterNoteDuration'].cumsum()\n",
    "partTwo['noteEventLocation'] = partTwo['quarterNoteDuration'].cumsum()\n",
    "partOne['noteEventStartingLocation'] = partOne['noteEventLocation'].shift()\n",
    "partTwo['noteEventStartingLocation'] = partTwo['noteEventLocation'].shift()"
   ]
  },
  {
   "cell_type": "code",
   "execution_count": 47,
   "metadata": {
    "collapsed": false
   },
   "outputs": [],
   "source": [
    "df = partOne.append(partTwo)"
   ]
  },
  {
   "cell_type": "code",
   "execution_count": 48,
   "metadata": {
    "collapsed": false
   },
   "outputs": [],
   "source": [
    "df = df.sort('noteEventLocation')\n",
    "df = df.reset_index()"
   ]
  },
  {
   "cell_type": "code",
   "execution_count": 49,
   "metadata": {
    "collapsed": false
   },
   "outputs": [
    {
     "data": {
      "text/html": [
       "<div>\n",
       "<table border=\"1\" class=\"dataframe\">\n",
       "  <thead>\n",
       "    <tr style=\"text-align: right;\">\n",
       "      <th></th>\n",
       "      <th>index</th>\n",
       "      <th>accidental</th>\n",
       "      <th>duration</th>\n",
       "      <th>noteName</th>\n",
       "      <th>noteType</th>\n",
       "      <th>octave</th>\n",
       "      <th>part</th>\n",
       "      <th>restFlag</th>\n",
       "      <th>tieStatus</th>\n",
       "      <th>quarterNoteDuration</th>\n",
       "      <th>noteEventLocation</th>\n",
       "      <th>noteEventStartingLocation</th>\n",
       "    </tr>\n",
       "  </thead>\n",
       "  <tbody>\n",
       "    <tr>\n",
       "      <th>0</th>\n",
       "      <td>0</td>\n",
       "      <td>None</td>\n",
       "      <td>256</td>\n",
       "      <td>None</td>\n",
       "      <td>quarter</td>\n",
       "      <td>None</td>\n",
       "      <td>P1</td>\n",
       "      <td>rest</td>\n",
       "      <td>None</td>\n",
       "      <td>1</td>\n",
       "      <td>1</td>\n",
       "      <td>NaN</td>\n",
       "    </tr>\n",
       "  </tbody>\n",
       "</table>\n",
       "</div>"
      ],
      "text/plain": [
       "   index accidental duration noteName noteType octave part restFlag tieStatus  \\\n",
       "0      0       None      256     None  quarter   None   P1     rest      None   \n",
       "\n",
       "   quarterNoteDuration  noteEventLocation  noteEventStartingLocation  \n",
       "0                    1                  1                        NaN  "
      ]
     },
     "execution_count": 49,
     "metadata": {},
     "output_type": "execute_result"
    }
   ],
   "source": [
    "df.head(1)"
   ]
  },
  {
   "cell_type": "code",
   "execution_count": 50,
   "metadata": {
    "collapsed": false
   },
   "outputs": [],
   "source": [
    "#create midi frequency value\n",
    "offsetForC = 0\n",
    "offsetForD = 2\n",
    "offsetForE = 4\n",
    "offsetForF = 5\n",
    "offsetForG = 7\n",
    "offsetForA = 9\n",
    "offsetForB = 11\n",
    "\n",
    "def midiNumberAssign(data_row):\n",
    "    \n",
    "    def adjustForAccidental(accidentalVal):\n",
    "        if accidentalVal == 'None':\n",
    "            return 0\n",
    "        else:\n",
    "            return int(accidentalVal)\n",
    "\n",
    "    if data_row['octave'] != \"None\":\n",
    "        baseVal = int(data_row['octave']) * 12\n",
    "        if data_row['noteName'] == 'C':\n",
    "            return baseVal + adjustForAccidental(data_row['accidental'])\n",
    "        elif data_row['noteName'] == 'D':\n",
    "            return baseVal + offsetForD + adjustForAccidental(data_row['accidental'])\n",
    "        elif data_row['noteName'] == 'E':\n",
    "            return baseVal + offsetForD + adjustForAccidental(data_row['accidental'])\n",
    "        elif data_row['noteName'] == 'F':\n",
    "            return baseVal + offsetForD + adjustForAccidental(data_row['accidental'])\n",
    "        elif data_row['noteName'] == 'G':\n",
    "            return baseVal + offsetForD + adjustForAccidental(data_row['accidental'])\n",
    "        elif data_row['noteName'] == 'A':\n",
    "            return baseVal + offsetForD + adjustForAccidental(data_row['accidental'])\n",
    "        elif data_row['noteName'] == 'B':\n",
    "            return baseVal + offsetForD + adjustForAccidental(data_row['accidental'])\n",
    "\n",
    "\n",
    "\n",
    "df['midiNumber'] = df.apply(midiNumberAssign, axis=1)"
   ]
  },
  {
   "cell_type": "code",
   "execution_count": 51,
   "metadata": {
    "collapsed": false
   },
   "outputs": [
    {
     "data": {
      "text/html": [
       "<div>\n",
       "<table border=\"1\" class=\"dataframe\">\n",
       "  <thead>\n",
       "    <tr style=\"text-align: right;\">\n",
       "      <th></th>\n",
       "      <th>index</th>\n",
       "      <th>accidental</th>\n",
       "      <th>duration</th>\n",
       "      <th>noteName</th>\n",
       "      <th>noteType</th>\n",
       "      <th>octave</th>\n",
       "      <th>part</th>\n",
       "      <th>restFlag</th>\n",
       "      <th>tieStatus</th>\n",
       "      <th>quarterNoteDuration</th>\n",
       "      <th>noteEventLocation</th>\n",
       "      <th>noteEventStartingLocation</th>\n",
       "      <th>midiNumber</th>\n",
       "    </tr>\n",
       "  </thead>\n",
       "  <tbody>\n",
       "    <tr>\n",
       "      <th>0</th>\n",
       "      <td>0</td>\n",
       "      <td>None</td>\n",
       "      <td>256</td>\n",
       "      <td>None</td>\n",
       "      <td>quarter</td>\n",
       "      <td>None</td>\n",
       "      <td>P1</td>\n",
       "      <td>rest</td>\n",
       "      <td>None</td>\n",
       "      <td>1.0</td>\n",
       "      <td>1.0</td>\n",
       "      <td>NaN</td>\n",
       "      <td>NaN</td>\n",
       "    </tr>\n",
       "    <tr>\n",
       "      <th>1</th>\n",
       "      <td>1</td>\n",
       "      <td>-1</td>\n",
       "      <td>256</td>\n",
       "      <td>B</td>\n",
       "      <td>quarter</td>\n",
       "      <td>4</td>\n",
       "      <td>P1</td>\n",
       "      <td>note</td>\n",
       "      <td>None</td>\n",
       "      <td>1.0</td>\n",
       "      <td>2.0</td>\n",
       "      <td>1</td>\n",
       "      <td>49</td>\n",
       "    </tr>\n",
       "    <tr>\n",
       "      <th>2</th>\n",
       "      <td>2058</td>\n",
       "      <td>None</td>\n",
       "      <td>1024</td>\n",
       "      <td>G</td>\n",
       "      <td>whole</td>\n",
       "      <td>3</td>\n",
       "      <td>P2</td>\n",
       "      <td>note</td>\n",
       "      <td>None</td>\n",
       "      <td>4.0</td>\n",
       "      <td>4.0</td>\n",
       "      <td>NaN</td>\n",
       "      <td>38</td>\n",
       "    </tr>\n",
       "    <tr>\n",
       "      <th>3</th>\n",
       "      <td>2</td>\n",
       "      <td>-1</td>\n",
       "      <td>512</td>\n",
       "      <td>A</td>\n",
       "      <td>half</td>\n",
       "      <td>4</td>\n",
       "      <td>P1</td>\n",
       "      <td>note</td>\n",
       "      <td>None</td>\n",
       "      <td>2.0</td>\n",
       "      <td>4.0</td>\n",
       "      <td>2</td>\n",
       "      <td>49</td>\n",
       "    </tr>\n",
       "    <tr>\n",
       "      <th>4</th>\n",
       "      <td>3</td>\n",
       "      <td>None</td>\n",
       "      <td>384</td>\n",
       "      <td>C</td>\n",
       "      <td>quarter</td>\n",
       "      <td>5</td>\n",
       "      <td>P1</td>\n",
       "      <td>note</td>\n",
       "      <td>None</td>\n",
       "      <td>1.5</td>\n",
       "      <td>5.5</td>\n",
       "      <td>4</td>\n",
       "      <td>60</td>\n",
       "    </tr>\n",
       "  </tbody>\n",
       "</table>\n",
       "</div>"
      ],
      "text/plain": [
       "   index accidental duration noteName noteType octave part restFlag tieStatus  \\\n",
       "0      0       None      256     None  quarter   None   P1     rest      None   \n",
       "1      1         -1      256        B  quarter      4   P1     note      None   \n",
       "2   2058       None     1024        G    whole      3   P2     note      None   \n",
       "3      2         -1      512        A     half      4   P1     note      None   \n",
       "4      3       None      384        C  quarter      5   P1     note      None   \n",
       "\n",
       "   quarterNoteDuration  noteEventLocation  noteEventStartingLocation  \\\n",
       "0                  1.0                1.0                        NaN   \n",
       "1                  1.0                2.0                          1   \n",
       "2                  4.0                4.0                        NaN   \n",
       "3                  2.0                4.0                          2   \n",
       "4                  1.5                5.5                          4   \n",
       "\n",
       "   midiNumber  \n",
       "0         NaN  \n",
       "1          49  \n",
       "2          38  \n",
       "3          49  \n",
       "4          60  "
      ]
     },
     "execution_count": 51,
     "metadata": {},
     "output_type": "execute_result"
    }
   ],
   "source": [
    "df.head()"
   ]
  },
  {
   "cell_type": "code",
   "execution_count": 52,
   "metadata": {
    "collapsed": false
   },
   "outputs": [],
   "source": [
    "#get rid of unused columns\n",
    "del df['index']\n",
    "del df['accidental']\n",
    "del df['duration']\n",
    "del df['noteType']\n",
    "del df['octave']\n",
    "del df['noteEventLocation']\n",
    "del df['noteName']"
   ]
  },
  {
   "cell_type": "code",
   "execution_count": 53,
   "metadata": {
    "collapsed": false
   },
   "outputs": [
    {
     "data": {
      "text/html": [
       "<div>\n",
       "<table border=\"1\" class=\"dataframe\">\n",
       "  <thead>\n",
       "    <tr style=\"text-align: right;\">\n",
       "      <th></th>\n",
       "      <th>part</th>\n",
       "      <th>restFlag</th>\n",
       "      <th>tieStatus</th>\n",
       "      <th>quarterNoteDuration</th>\n",
       "      <th>noteEventStartingLocation</th>\n",
       "      <th>midiNumber</th>\n",
       "    </tr>\n",
       "  </thead>\n",
       "  <tbody>\n",
       "    <tr>\n",
       "      <th>0</th>\n",
       "      <td>P1</td>\n",
       "      <td>rest</td>\n",
       "      <td>None</td>\n",
       "      <td>1.0</td>\n",
       "      <td>NaN</td>\n",
       "      <td>NaN</td>\n",
       "    </tr>\n",
       "    <tr>\n",
       "      <th>1</th>\n",
       "      <td>P1</td>\n",
       "      <td>note</td>\n",
       "      <td>None</td>\n",
       "      <td>1.0</td>\n",
       "      <td>1</td>\n",
       "      <td>49</td>\n",
       "    </tr>\n",
       "    <tr>\n",
       "      <th>2</th>\n",
       "      <td>P2</td>\n",
       "      <td>note</td>\n",
       "      <td>None</td>\n",
       "      <td>4.0</td>\n",
       "      <td>NaN</td>\n",
       "      <td>38</td>\n",
       "    </tr>\n",
       "    <tr>\n",
       "      <th>3</th>\n",
       "      <td>P1</td>\n",
       "      <td>note</td>\n",
       "      <td>None</td>\n",
       "      <td>2.0</td>\n",
       "      <td>2</td>\n",
       "      <td>49</td>\n",
       "    </tr>\n",
       "    <tr>\n",
       "      <th>4</th>\n",
       "      <td>P1</td>\n",
       "      <td>note</td>\n",
       "      <td>None</td>\n",
       "      <td>1.5</td>\n",
       "      <td>4</td>\n",
       "      <td>60</td>\n",
       "    </tr>\n",
       "  </tbody>\n",
       "</table>\n",
       "</div>"
      ],
      "text/plain": [
       "  part restFlag tieStatus  quarterNoteDuration  noteEventStartingLocation  \\\n",
       "0   P1     rest      None                  1.0                        NaN   \n",
       "1   P1     note      None                  1.0                          1   \n",
       "2   P2     note      None                  4.0                        NaN   \n",
       "3   P1     note      None                  2.0                          2   \n",
       "4   P1     note      None                  1.5                          4   \n",
       "\n",
       "   midiNumber  \n",
       "0         NaN  \n",
       "1          49  \n",
       "2          38  \n",
       "3          49  \n",
       "4          60  "
      ]
     },
     "execution_count": 53,
     "metadata": {},
     "output_type": "execute_result"
    }
   ],
   "source": [
    "df.head(5)"
   ]
  },
  {
   "cell_type": "code",
   "execution_count": null,
   "metadata": {
    "collapsed": true
   },
   "outputs": [],
   "source": []
  },
  {
   "cell_type": "code",
   "execution_count": null,
   "metadata": {
    "collapsed": true
   },
   "outputs": [],
   "source": []
  }
 ],
 "metadata": {
  "kernelspec": {
   "display_name": "Python 2",
   "language": "python",
   "name": "python2"
  },
  "language_info": {
   "codemirror_mode": {
    "name": "ipython",
    "version": 2
   },
   "file_extension": ".py",
   "mimetype": "text/x-python",
   "name": "python",
   "nbconvert_exporter": "python",
   "pygments_lexer": "ipython2",
   "version": "2.7.6"
  }
 },
 "nbformat": 4,
 "nbformat_minor": 0
}
