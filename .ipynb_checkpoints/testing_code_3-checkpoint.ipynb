{
 "metadata": {
  "name": "",
  "signature": "sha256:19f6732bb9550cc8b2a3b272a2de6391250db3ba39e910ba0ae18c2aec90867b"
 },
 "nbformat": 3,
 "nbformat_minor": 0,
 "worksheets": [
  {
   "cells": [
    {
     "cell_type": "code",
     "collapsed": false,
     "input": [
      "from IPython.html.widgets import interact, interactive, fixed\n",
      "from IPython.html import widgets\n",
      "from IPython.display import clear_output, display, HTML"
     ],
     "language": "python",
     "metadata": {},
     "outputs": [],
     "prompt_number": 1
    },
    {
     "cell_type": "code",
     "collapsed": false,
     "input": [
      "def show_args(**kwargs):\n",
      "    s = '<h3>Arguments:</h3><table>\\n'\n",
      "    for k,v in kwargs.items():\n",
      "        s += '<tr><td>{0}</td><td>{1}</td></tr>\\n'.format(k,v)\n",
      "    s += '</table>'\n",
      "    display(HTML(s))"
     ],
     "language": "python",
     "metadata": {},
     "outputs": [],
     "prompt_number": 2
    },
    {
     "cell_type": "code",
     "collapsed": false,
     "input": [
      "show_args(a=10, b='Hi There', c=True)"
     ],
     "language": "python",
     "metadata": {},
     "outputs": [
      {
       "html": [
        "<h3>Arguments:</h3><table>\n",
        "<tr><td>a</td><td>10</td></tr>\n",
        "<tr><td>c</td><td>True</td></tr>\n",
        "<tr><td>b</td><td>Hi There</td></tr>\n",
        "</table>"
       ],
       "metadata": {},
       "output_type": "display_data",
       "text": [
        "<IPython.core.display.HTML at 0x103bae990>"
       ]
      }
     ],
     "prompt_number": 3
    },
    {
     "cell_type": "code",
     "collapsed": false,
     "input": [
      "i = interact(show_args,\n",
      "         Temp=(0,10),\n",
      "         Current=(0.,10.,0.01),\n",
      "         z=True,\n",
      "         Text=u'Type here!',\n",
      "         #Algorithm=['This','That','Other'],\n",
      "         a=widgets.FloatSliderWidget(min=-10.0, max=10.0, step=0.1, value=5.0, description=\"Float (a)\")\n",
      "         )"
     ],
     "language": "python",
     "metadata": {},
     "outputs": [
      {
       "html": [
        "<h3>Arguments:</h3><table>\n",
        "<tr><td>Current</td><td>4.45</td></tr>\n",
        "<tr><td>Text</td><td>hi there man....</td></tr>\n",
        "<tr><td>z</td><td>True</td></tr>\n",
        "<tr><td>Temp</td><td>8</td></tr>\n",
        "<tr><td>Float (a)</td><td>-6.0</td></tr>\n",
        "</table>"
       ],
       "metadata": {},
       "output_type": "display_data",
       "text": [
        "<IPython.core.display.HTML at 0x1038643d0>"
       ]
      }
     ],
     "prompt_number": 4
    },
    {
     "cell_type": "code",
     "collapsed": false,
     "input": [
      "i.widget"
     ],
     "language": "python",
     "metadata": {},
     "outputs": [
      {
       "html": [
        "<h3>Arguments:</h3><table>\n",
        "<tr><td>Current</td><td>6.89</td></tr>\n",
        "<tr><td>Text</td><td>hi there man....</td></tr>\n",
        "<tr><td>z</td><td>True</td></tr>\n",
        "<tr><td>Temp</td><td>8</td></tr>\n",
        "<tr><td>Float (a)</td><td>-6.0</td></tr>\n",
        "</table>"
       ],
       "metadata": {},
       "output_type": "display_data",
       "text": [
        "<IPython.core.display.HTML at 0x10387bcd0>"
       ]
      }
     ],
     "prompt_number": 6
    },
    {
     "cell_type": "code",
     "collapsed": false,
     "input": [
      "mywidget = widgets.FloatSliderWidget()\n",
      "mywidget.value = 33\n",
      "mywidget"
     ],
     "language": "python",
     "metadata": {},
     "outputs": [],
     "prompt_number": 10
    },
    {
     "cell_type": "code",
     "collapsed": false,
     "input": [
      "wid = widgets.ButtonWidget(description=\"Input\")\n",
      "wid.name = 'fasdf'\n",
      "wid"
     ],
     "language": "python",
     "metadata": {},
     "outputs": [],
     "prompt_number": 22
    },
    {
     "cell_type": "code",
     "collapsed": false,
     "input": [
      "textw = widgets.TextareaWidget()\n",
      "textw.placeholder = 'Ype'\n",
      "display(textw)\n",
      "textw.keys"
     ],
     "language": "python",
     "metadata": {},
     "outputs": [
      {
       "metadata": {},
       "output_type": "pyout",
       "prompt_number": 18,
       "text": [
        "['_view_name',\n",
        " 'description',\n",
        " 'msg_throttle',\n",
        " '_css',\n",
        " 'value',\n",
        " 'disabled',\n",
        " 'visible']"
       ]
      }
     ],
     "prompt_number": 18
    },
    {
     "cell_type": "code",
     "collapsed": false,
     "input": [
      "button = widgets.ButtonWidget(description=\"Click Me!\")\n",
      "display(button)\n",
      "\n",
      "def on_button_clicked(b):\n",
      "    print(\"Button clicked.\")\n",
      "\n",
      "button.on_click(on_button_clicked)"
     ],
     "language": "python",
     "metadata": {},
     "outputs": [
      {
       "output_type": "stream",
       "stream": "stdout",
       "text": [
        "Button clicked.\n"
       ]
      },
      {
       "output_type": "stream",
       "stream": "stdout",
       "text": [
        "Button clicked.\n"
       ]
      },
      {
       "output_type": "stream",
       "stream": "stdout",
       "text": [
        "Button clicked.\n"
       ]
      },
      {
       "output_type": "stream",
       "stream": "stdout",
       "text": [
        "Button clicked.\n"
       ]
      },
      {
       "output_type": "stream",
       "stream": "stdout",
       "text": [
        "Button clicked.\n"
       ]
      },
      {
       "output_type": "stream",
       "stream": "stdout",
       "text": [
        "Button clicked.\n"
       ]
      },
      {
       "output_type": "stream",
       "stream": "stdout",
       "text": [
        "Button clicked.\n"
       ]
      },
      {
       "output_type": "stream",
       "stream": "stdout",
       "text": [
        "Button clicked.\n"
       ]
      },
      {
       "output_type": "stream",
       "stream": "stdout",
       "text": [
        "Button clicked.\n"
       ]
      },
      {
       "output_type": "stream",
       "stream": "stdout",
       "text": [
        "Button clicked.\n"
       ]
      },
      {
       "output_type": "stream",
       "stream": "stdout",
       "text": [
        "Button clicked.\n"
       ]
      },
      {
       "output_type": "stream",
       "stream": "stdout",
       "text": [
        "Button clicked.\n"
       ]
      },
      {
       "output_type": "stream",
       "stream": "stdout",
       "text": [
        "Button clicked.\n"
       ]
      }
     ],
     "prompt_number": 23
    },
    {
     "cell_type": "code",
     "collapsed": false,
     "input": [
      "def new_button(clicked):\n",
      "    button = widgets.ButtonWidget()\n",
      "    button.clicks = 0\n",
      "    clicked.clicks += 1\n",
      "    button.description = \"%d\" % clicked.clicks\n",
      "    display(button)\n",
      "    button.on_click(new_button)\n",
      "button = widgets.ButtonWidget(description = \"Start\")\n",
      "button.clicks = 0\n",
      "display(button)\n",
      "button.on_click(new_button)"
     ],
     "language": "python",
     "metadata": {},
     "outputs": [],
     "prompt_number": 25
    },
    {
     "cell_type": "code",
     "collapsed": false,
     "input": [
      "form = widgets.ContainerWidget()\n",
      "first = widgets.TextWidget(description=\"First Name:\")\n",
      "last = widgets.TextWidget(description=\"Last Name:\")\n",
      "\n",
      "student = widgets.CheckboxWidget(description=\"Student:\", value=False)\n",
      "school_info = widgets.ContainerWidget(visible=False, children=[\n",
      "    widgets.TextWidget(description=\"School:\"),\n",
      "    widgets.IntTextWidget(description=\"Grade:\", min=0, max=12)\n",
      "    ])\n",
      "\n",
      "pet = widgets.TextWidget(description=\"Pet's Name:\")\n",
      "form.children = [first, last, student, school_info, pet]\n",
      "display(form)\n",
      "\n",
      "def on_student_toggle(name, value):\n",
      "    if value:\n",
      "        school_info.visible = True\n",
      "    else:\n",
      "        school_info.visible = False\n",
      "student.on_trait_change(on_student_toggle, 'value')"
     ],
     "language": "python",
     "metadata": {},
     "outputs": [],
     "prompt_number": 26
    },
    {
     "cell_type": "code",
     "collapsed": false,
     "input": [
      "button_classes = ['Default', 'btn-primary', 'btn-info', 'btn-success', \n",
      "                  'btn-warning', 'btn-danger', 'btn-inverse', 'btn-link']\n",
      "\n",
      "# Create each button and apply the style.  Also add margin to the buttons so they space\n",
      "# themselves nicely.\n",
      "for i in range(8):\n",
      "    button = widgets.ButtonWidget(description=button_classes[i])\n",
      "    button.set_css(\"margin\", \"5px\")\n",
      "    display(button)\n",
      "    if i > 0: # Don't add a class the first button.\n",
      "        button.add_class(button_classes[i])"
     ],
     "language": "python",
     "metadata": {},
     "outputs": [],
     "prompt_number": 27
    },
    {
     "cell_type": "code",
     "collapsed": false,
     "input": [
      "import time\n",
      "label = widgets.LatexWidget(value = \"$\\\\textbf{ALERT:} Hello World!$\")\n",
      "display(label)\n",
      "\n",
      "# Apply twitter bootstrap alert class to the label.\n",
      "label.add_class(\"alert\")\n",
      "\n",
      "# Animate through additional bootstrap label styles 3 times\n",
      "additional_alert_styles = ['alert-error', 'alert-info', 'alert-success']\n",
      "for i in range(3 * len(additional_alert_styles)):\n",
      "    label.add_class(additional_alert_styles[i % 3])\n",
      "    label.remove_class(additional_alert_styles[(i-1) % 3])\n",
      "    time.sleep(1)"
     ],
     "language": "python",
     "metadata": {},
     "outputs": [],
     "prompt_number": 28
    },
    {
     "cell_type": "code",
     "collapsed": false,
     "input": [
      "%matplotlib inline\n",
      "import matplotlib.pyplot as plt"
     ],
     "language": "python",
     "metadata": {},
     "outputs": [],
     "prompt_number": 29
    },
    {
     "cell_type": "code",
     "collapsed": false,
     "input": [
      "import networkx as nx"
     ],
     "language": "python",
     "metadata": {},
     "outputs": [],
     "prompt_number": 30
    },
    {
     "cell_type": "code",
     "collapsed": false,
     "input": [
      "def random_lobster(n, m, k, p):\n",
      "    return nx.random_lobster(n, p, p / m)\n",
      "\n",
      "def powerlaw_cluster(n, m, k, p):\n",
      "    return nx.powerlaw_cluster_graph(n, m, p)\n",
      "\n",
      "def erdos_renyi(n, m, k, p):\n",
      "    return nx.erdos_renyi_graph(n, p)\n",
      "\n",
      "def newman_watts_strogatz(n, m, k, p):\n",
      "    return nx.newman_watts_strogatz_graph(n, k, p)\n",
      "\n",
      "def plot_random_graph(n, m, k, p, generator):\n",
      "    g = generator(n, m, k, p)\n",
      "    nx.draw(g)\n",
      "    plt.show()"
     ],
     "language": "python",
     "metadata": {},
     "outputs": [],
     "prompt_number": 31
    },
    {
     "cell_type": "code",
     "collapsed": false,
     "input": [
      "interact(plot_random_graph, n=(2,30), m=(1,10), k=(1,10), p=(0.0, 1.0, 0.001),\n",
      "        generator={'lobster': random_lobster,\n",
      "                   'power law': powerlaw_cluster,\n",
      "                   'Newman-Watts-Strogatz': newman_watts_strogatz,\n",
      "                   u'Erd\u0151s-R\u00e9nyi': erdos_renyi,\n",
      "                   });"
     ],
     "language": "python",
     "metadata": {},
     "outputs": [
      {
       "metadata": {},
       "output_type": "display_data",
       "png": "[encoded data removed]",
       "text": [
        "<matplotlib.figure.Figure at 0x108745ad0>"
       ]
      }
     ],
     "prompt_number": 32
    },
    {
     "cell_type": "code",
     "collapsed": false,
     "input": [],
     "language": "python",
     "metadata": {},
     "outputs": []
    }
   ],
   "metadata": {}
  }
 ]
}