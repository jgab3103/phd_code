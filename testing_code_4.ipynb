{
 "metadata": {
  "name": "PhD Code"
 },
 "nbformat": 3,
 "nbformat_minor": 0,
 "worksheets": [
  {
   "cells": [
    {
     "cell_type": "code",
     "collapsed": false,
     "input": [
      "%pylab inline\n",
      "import pandas as pd\n",
      "import numpy as np\n",
      "import matplotlib as mpl"
     ],
     "language": "python",
     "metadata": {},
     "outputs": [
      {
       "output_type": "stream",
       "stream": "stdout",
       "text": [
        "\n",
        "Welcome to pylab, a matplotlib-based Python environment [backend: module://IPython.zmq.pylab.backend_inline].\n",
        "For more information, type 'help(pylab)'.\n"
       ]
      }
     ],
     "prompt_number": 126
    },
    {
     "cell_type": "code",
     "collapsed": false,
     "input": [
      "import music21 as mu"
     ],
     "language": "python",
     "metadata": {},
     "outputs": [],
     "prompt_number": 2
    },
    {
     "cell_type": "code",
     "collapsed": false,
     "input": [
      "sBach = mu.corpus.parse('bach/bwv7.7')"
     ],
     "language": "python",
     "metadata": {},
     "outputs": [],
     "prompt_number": 5
    },
    {
     "cell_type": "code",
     "collapsed": false,
     "input": [
      "sBach"
     ],
     "language": "python",
     "metadata": {},
     "outputs": [
      {
       "output_type": "pyout",
       "prompt_number": 6,
       "text": [
        "<music21.stream.Score 4431719056>"
       ]
      }
     ],
     "prompt_number": 6
    },
    {
     "cell_type": "code",
     "collapsed": false,
     "input": [
      "sBach.show('text')"
     ],
     "language": "python",
     "metadata": {},
     "outputs": [
      {
       "output_type": "stream",
       "stream": "stdout",
       "text": [
        "{0.0} <music21.metadata.Metadata object at 0x1085c0a50>\n",
        "{0.0} <music21.stream.Part Soprano>\n",
        "    {0.0} <music21.instrument.Instrument P1: Soprano: Instrument 1>\n",
        "    {0.0} <music21.stream.Measure 0 offset=0.0>\n",
        "        {0.0} <music21.clef.TrebleClef>\n",
        "        {0.0} <music21.key.KeySignature of 2 sharps, mode minor>\n",
        "        {0.0} <music21.meter.TimeSignature 4/4>\n",
        "        {0.0} <music21.note.Note E>\n",
        "        {0.5} <music21.note.Note F#>\n",
        "    {1.0} <music21.stream.Measure 1 offset=1.0>\n",
        "        {0.0} <music21.note.Note G>\n",
        "        {1.0} <music21.note.Note A>\n",
        "        {2.0} <music21.note.Note B>\n",
        "        {3.0} <music21.note.Note A>\n",
        "    {5.0} <music21.stream.Measure 2 offset=5.0>\n",
        "        {0.0} <music21.note.Note D>\n",
        "        {1.0} <music21.note.Note C#>\n",
        "        {2.0} <music21.note.Note B>\n",
        "        {3.0} <music21.note.Note A>\n",
        "    {9.0} <music21.stream.Measure 3 offset=9.0>\n",
        "        {0.0} <music21.note.Note D>\n",
        "        {1.0} <music21.note.Note C#>\n",
        "        {2.0} <music21.note.Note B>\n",
        "        {3.0} <music21.note.Note A>\n",
        "    {13.0} <music21.stream.Measure 4 offset=13.0>\n",
        "        {0.0} <music21.layout.SystemLayout>\n",
        "        {0.0} <music21.note.Note G>\n",
        "        {1.0} <music21.note.Note F#>\n",
        "        {2.0} <music21.note.Note E>\n",
        "        {3.0} <music21.note.Note E>\n",
        "        {3.5} <music21.note.Note F#>\n",
        "    {17.0} <music21.stream.Measure 5 offset=17.0>\n",
        "        {0.0} <music21.note.Note G>\n",
        "        {1.0} <music21.note.Note A>\n",
        "        {2.0} <music21.note.Note B>\n",
        "        {3.0} <music21.note.Note A>\n",
        "    {21.0} <music21.stream.Measure 6 offset=21.0>\n",
        "        {0.0} <music21.note.Note D>\n",
        "        {1.0} <music21.note.Note C#>\n",
        "        {2.0} <music21.note.Note B>\n",
        "        {3.0} <music21.note.Note A>\n",
        "    {25.0} <music21.stream.Measure 7 offset=25.0>\n",
        "        {0.0} <music21.note.Note D>\n",
        "        {1.0} <music21.note.Note C#>\n",
        "        {2.0} <music21.note.Note B>\n",
        "        {3.0} <music21.note.Note A>\n",
        "    {29.0} <music21.stream.Measure 8 offset=29.0>\n",
        "        {0.0} <music21.layout.SystemLayout>\n",
        "        {0.0} <music21.note.Note G>\n",
        "        {1.0} <music21.note.Note F#>\n",
        "        {2.0} <music21.note.Note E>\n",
        "        {3.0} <music21.note.Note E>\n",
        "    {33.0} <music21.stream.Measure 9 offset=33.0>\n",
        "        {0.0} <music21.note.Note A>\n",
        "        {1.0} <music21.note.Note A>\n",
        "        {1.5} <music21.note.Note G>\n",
        "        {2.0} <music21.note.Note F#>\n",
        "        {3.0} <music21.note.Note B>\n",
        "    {37.0} <music21.stream.Measure 10 offset=37.0>\n",
        "        {0.0} <music21.note.Note B>\n",
        "        {1.0} <music21.note.Note A#>\n",
        "        {2.0} <music21.note.Note B>\n",
        "        {3.0} <music21.note.Note B>\n",
        "    {41.0} <music21.stream.Measure 11 offset=41.0>\n",
        "        {0.0} <music21.note.Note E>\n",
        "        {1.0} <music21.note.Note E>\n",
        "        {2.0} <music21.note.Note F#>\n",
        "        {2.5} <music21.note.Note E>\n",
        "        {3.0} <music21.note.Note D>\n",
        "    {45.0} <music21.stream.Measure 12 offset=45.0>\n",
        "        {0.0} <music21.layout.PageLayout>\n",
        "        {0.0} <music21.note.Note E>\n",
        "        {0.5} <music21.note.Note D>\n",
        "        {1.0} <music21.note.Note C#>\n",
        "        {2.0} <music21.note.Note B>\n",
        "        {3.0} <music21.note.Note C#>\n",
        "    {49.0} <music21.stream.Measure 13 offset=49.0>\n",
        "        {0.0} <music21.note.Note D>\n",
        "        {1.0} <music21.note.Note C#>\n",
        "        {2.0} <music21.note.Note B>\n",
        "        {3.0} <music21.note.Note A>\n",
        "    {53.0} <music21.stream.Measure 14 offset=53.0>\n",
        "        {0.0} <music21.note.Note B>\n",
        "        {0.5} <music21.note.Note A>\n",
        "        {1.0} <music21.note.Note G>\n",
        "        {2.0} <music21.note.Note F#>\n",
        "        {3.0} <music21.note.Note E>\n",
        "        {3.5} <music21.note.Note F#>\n",
        "    {57.0} <music21.stream.Measure 15 offset=57.0>\n",
        "        {0.0} <music21.note.Note G>\n",
        "        {1.0} <music21.note.Note A>\n",
        "        {2.0} <music21.note.Note B>\n",
        "        {3.0} <music21.note.Note A>\n",
        "        {3.5} <music21.note.Note G>\n",
        "    {61.0} <music21.stream.Measure 16 offset=61.0>\n",
        "        {0.0} <music21.layout.SystemLayout>\n",
        "        {0.0} <music21.note.Note A>\n",
        "        {0.5} <music21.note.Note G>\n",
        "        {1.0} <music21.note.Note F#>\n",
        "        {2.0} <music21.note.Note E>\n",
        "        {3.0} <music21.note.Note E>\n",
        "    {65.0} <music21.stream.Measure 17 offset=65.0>\n",
        "        {0.0} <music21.note.Note E>\n",
        "        {1.0} <music21.note.Note E>\n",
        "        {2.0} <music21.note.Note F#>\n",
        "        {3.0} <music21.note.Note E>\n",
        "    {69.0} <music21.stream.Measure 18 offset=69.0>\n",
        "        {0.0} <music21.note.Note D>\n",
        "        {1.0} <music21.note.Note C#>\n",
        "        {2.0} <music21.note.Note B>\n",
        "        {3.0} <music21.bar.Barline style=final>\n",
        "{0.0} <music21.stream.Part Alto>\n",
        "    {0.0} <music21.instrument.Instrument P2: Alto: Instrument 2>\n",
        "    {0.0} <music21.stream.Measure 0 offset=0.0>\n",
        "        {0.0} <music21.clef.TrebleClef>\n",
        "        {0.0} <music21.key.KeySignature of 2 sharps, mode minor>\n",
        "        {0.0} <music21.meter.TimeSignature 4/4>\n",
        "        {0.0} <music21.note.Note B>\n",
        "    {1.0} <music21.stream.Measure 1 offset=1.0>\n",
        "        {0.0} <music21.note.Note E>\n",
        "        {1.0} <music21.note.Note F#>\n",
        "        {2.0} <music21.note.Note G>\n",
        "        {3.0} <music21.note.Note F#>\n",
        "    {5.0} <music21.stream.Measure 2 offset=5.0>\n",
        "        {0.0} <music21.note.Note B>\n",
        "        {1.5} <music21.note.Note A#>\n",
        "        {2.0} <music21.note.Note F#>\n",
        "        {3.0} <music21.note.Note F#>\n",
        "    {9.0} <music21.stream.Measure 3 offset=9.0>\n",
        "        {0.0} <music21.note.Note F#>\n",
        "        {0.5} <music21.note.Note G>\n",
        "        {1.0} <music21.note.Note G>\n",
        "        {1.5} <music21.note.Note F#>\n",
        "        {2.0} <music21.note.Note F#>\n",
        "        {2.5} <music21.note.Note E>\n",
        "        {3.0} <music21.note.Note E>\n",
        "        {3.5} <music21.note.Note D#>\n",
        "    {13.0} <music21.stream.Measure 4 offset=13.0>\n",
        "        {0.0} <music21.layout.SystemLayout>\n",
        "        {0.0} <music21.note.Note E>\n",
        "        {1.0} <music21.note.Note D#>\n",
        "        {2.0} <music21.note.Note B>\n",
        "        {3.0} <music21.note.Note B>\n",
        "    {17.0} <music21.stream.Measure 5 offset=17.0>\n",
        "        {0.0} <music21.note.Note E>\n",
        "        {1.0} <music21.note.Note F#>\n",
        "        {2.0} <music21.note.Note G>\n",
        "        {3.0} <music21.note.Note F#>\n",
        "    {21.0} <music21.stream.Measure 6 offset=21.0>\n",
        "        {0.0} <music21.note.Note B>\n",
        "        {1.5} <music21.note.Note A#>\n",
        "        {2.0} <music21.note.Note F#>\n",
        "        {3.0} <music21.note.Note F#>\n",
        "    {25.0} <music21.stream.Measure 7 offset=25.0>\n",
        "        {0.0} <music21.note.Note F#>\n",
        "        {0.5} <music21.note.Note G>\n",
        "        {1.0} <music21.note.Note G>\n",
        "        {1.5} <music21.note.Note F#>\n",
        "        {2.0} <music21.note.Note F#>\n",
        "        {2.5} <music21.note.Note E>\n",
        "        {3.0} <music21.note.Note E>\n",
        "        {3.5} <music21.note.Note D#>\n",
        "    {29.0} <music21.stream.Measure 8 offset=29.0>\n",
        "        {0.0} <music21.layout.SystemLayout>\n",
        "        {0.0} <music21.note.Note E>\n",
        "        {1.0} <music21.note.Note D#>\n",
        "        {2.0} <music21.note.Note B>\n",
        "        {3.0} <music21.note.Note B>\n",
        "    {33.0} <music21.stream.Measure 9 offset=33.0>\n",
        "        {0.0} <music21.note.Note E>\n",
        "        {0.5} <music21.note.Note D>\n",
        "        {1.0} <music21.note.Note E>\n",
        "        {1.5} <music21.note.Note C#>\n",
        "        {2.0} <music21.note.Note D>\n",
        "        {3.0} <music21.note.Note D>\n",
        "    {37.0} <music21.stream.Measure 10 offset=37.0>\n",
        "        {0.0} <music21.note.Note C#>\n",
        "        {1.0} <music21.note.Note C#>\n",
        "        {2.0} <music21.note.Note D#>\n",
        "        {3.0} <music21.note.Note E>\n",
        "    {41.0} <music21.stream.Measure 11 offset=41.0>\n",
        "        {0.0} <music21.note.Note E>\n",
        "        {0.5} <music21.note.Note F#>\n",
        "        {1.0} <music21.note.Note G>\n",
        "        {2.0} <music21.note.Note F#>\n",
        "        {3.0} <music21.note.Note B>\n",
        "        {3.5} <music21.note.Note A>\n",
        "    {45.0} <music21.stream.Measure 12 offset=45.0>\n",
        "        {0.0} <music21.layout.PageLayout>\n",
        "        {0.0} <music21.note.Note G>\n",
        "        {0.5} <music21.note.Note F#>\n",
        "        {1.0} <music21.note.Note E>\n",
        "        {2.0} <music21.note.Note D>\n",
        "        {3.0} <music21.note.Note F#>\n",
        "    {49.0} <music21.stream.Measure 13 offset=49.0>\n",
        "        {0.0} <music21.note.Note F#>\n",
        "        {1.0} <music21.note.Note E>\n",
        "        {2.0} <music21.note.Note D>\n",
        "        {2.5} <music21.note.Note E>\n",
        "        {3.0} <music21.note.Note F#>\n",
        "    {53.0} <music21.stream.Measure 14 offset=53.0>\n",
        "        {0.0} <music21.note.Note F#>\n",
        "        {1.0} <music21.note.Note E>\n",
        "        {2.0} <music21.note.Note D#>\n",
        "        {3.0} <music21.note.Note B>\n",
        "    {57.0} <music21.stream.Measure 15 offset=57.0>\n",
        "        {0.0} <music21.note.Note E>\n",
        "        {1.0} <music21.note.Note E>\n",
        "        {1.5} <music21.note.Note F#>\n",
        "        {2.0} <music21.note.Note G>\n",
        "        {3.0} <music21.note.Note F#>\n",
        "    {61.0} <music21.stream.Measure 16 offset=61.0>\n",
        "        {0.0} <music21.layout.SystemLayout>\n",
        "        {0.0} <music21.note.Note E>\n",
        "        {1.0} <music21.note.Note D#>\n",
        "        {2.0} <music21.note.Note B>\n",
        "        {3.0} <music21.note.Note G#>\n",
        "    {65.0} <music21.stream.Measure 17 offset=65.0>\n",
        "        {0.0} <music21.note.Note A>\n",
        "        {1.0} <music21.note.Note A>\n",
        "        {2.0} <music21.note.Note A>\n",
        "        {3.0} <music21.note.Note G>\n",
        "        {3.5} <music21.note.Note F#>\n",
        "    {69.0} <music21.stream.Measure 18 offset=69.0>\n",
        "        {0.0} <music21.note.Note B>\n",
        "        {1.0} <music21.note.Note A#>\n",
        "        {2.0} <music21.note.Note F#>\n",
        "        {3.0} <music21.bar.Barline style=final>\n",
        "{0.0} <music21.stream.Part Tenor>\n",
        "    {0.0} <music21.instrument.Instrument P3: Tenor: Instrument 3>\n",
        "    {0.0} <music21.stream.Measure 0 offset=0.0>\n",
        "        {0.0} <music21.clef.BassClef>\n",
        "        {0.0} <music21.key.KeySignature of 2 sharps, mode minor>\n",
        "        {0.0} <music21.meter.TimeSignature 4/4>\n",
        "        {0.0} <music21.note.Note G>\n",
        "        {0.5} <music21.note.Note A>\n",
        "    {1.0} <music21.stream.Measure 1 offset=1.0>\n",
        "        {0.0} <music21.note.Note B>\n",
        "        {1.0} <music21.note.Note D>\n",
        "        {2.0} <music21.note.Note D>\n",
        "        {3.0} <music21.note.Note D>\n",
        "        {3.5} <music21.note.Note E>\n",
        "    {5.0} <music21.stream.Measure 2 offset=5.0>\n",
        "        {0.0} <music21.note.Note F#>\n",
        "        {0.5} <music21.note.Note D>\n",
        "        {1.0} <music21.note.Note G>\n",
        "        {1.5} <music21.note.Note F#>\n",
        "        {2.0} <music21.note.Note D>\n",
        "        {3.0} <music21.note.Note C#>\n",
        "    {9.0} <music21.stream.Measure 3 offset=9.0>\n",
        "        {0.0} <music21.note.Note B>\n",
        "        {1.0} <music21.note.Note C#>\n",
        "        {2.0} <music21.note.Note D#>\n",
        "        {2.5} <music21.note.Note E>\n",
        "        {3.0} <music21.note.Note F#>\n",
        "    {13.0} <music21.stream.Measure 4 offset=13.0>\n",
        "        {0.0} <music21.layout.SystemLayout>\n",
        "        {0.0} <music21.note.Note B>\n",
        "        {1.5} <music21.note.Note A>\n",
        "        {2.0} <music21.note.Note G>\n",
        "        {3.0} <music21.note.Note G>\n",
        "        {3.5} <music21.note.Note A>\n",
        "    {17.0} <music21.stream.Measure 5 offset=17.0>\n",
        "        {0.0} <music21.note.Note B>\n",
        "        {1.0} <music21.note.Note D>\n",
        "        {2.0} <music21.note.Note D>\n",
        "        {3.0} <music21.note.Note D>\n",
        "        {3.5} <music21.note.Note E>\n",
        "    {21.0} <music21.stream.Measure 6 offset=21.0>\n",
        "        {0.0} <music21.note.Note F#>\n",
        "        {0.5} <music21.note.Note D>\n",
        "        {1.0} <music21.note.Note G>\n",
        "        {1.5} <music21.note.Note F#>\n",
        "        {2.0} <music21.note.Note D>\n",
        "        {3.0} <music21.note.Note C#>\n",
        "    {25.0} <music21.stream.Measure 7 offset=25.0>\n",
        "        {0.0} <music21.note.Note B>\n",
        "        {1.0} <music21.note.Note C#>\n",
        "        {2.0} <music21.note.Note D#>\n",
        "        {2.5} <music21.note.Note E>\n",
        "        {3.0} <music21.note.Note F#>\n",
        "    {29.0} <music21.stream.Measure 8 offset=29.0>\n",
        "        {0.0} <music21.layout.SystemLayout>\n",
        "        {0.0} <music21.note.Note B>\n",
        "        {1.5} <music21.note.Note A>\n",
        "        {2.0} <music21.note.Note G>\n",
        "        {3.0} <music21.note.Note G>\n",
        "    {33.0} <music21.stream.Measure 9 offset=33.0>\n",
        "        {0.0} <music21.note.Note A>\n",
        "        {1.0} <music21.note.Note A>\n",
        "        {2.0} <music21.note.Note A>\n",
        "        {3.0} <music21.note.Note G>\n",
        "    {37.0} <music21.stream.Measure 10 offset=37.0>\n",
        "        {0.0} <music21.note.Note G>\n",
        "        {1.0} <music21.note.Note F#>\n",
        "        {2.0} <music21.note.Note F#>\n",
        "        {3.0} <music21.note.Note G>\n",
        "        {3.5} <music21.note.Note A>\n",
        "    {41.0} <music21.stream.Measure 11 offset=41.0>\n",
        "        {0.0} <music21.note.Note B>\n",
        "        {1.0} <music21.note.Note C#>\n",
        "        {2.0} <music21.note.Note C#>\n",
        "        {3.0} <music21.note.Note B>\n",
        "    {45.0} <music21.stream.Measure 12 offset=45.0>\n",
        "        {0.0} <music21.layout.PageLayout>\n",
        "        {0.0} <music21.note.Note B>\n",
        "        {1.5} <music21.note.Note A#>\n",
        "        {2.0} <music21.note.Note F#>\n",
        "        {3.0} <music21.note.Note A#>\n",
        "    {49.0} <music21.stream.Measure 13 offset=49.0>\n",
        "        {0.0} <music21.note.Note B>\n",
        "        {0.5} <music21.note.Note A>\n",
        "        {1.0} <music21.note.Note G>\n",
        "        {1.5} <music21.note.Note A>\n",
        "        {2.0} <music21.note.Note B>\n",
        "        {2.5} <music21.note.Note C#>\n",
        "        {3.0} <music21.note.Note D>\n",
        "        {3.5} <music21.note.Note C>\n",
        "    {53.0} <music21.stream.Measure 14 offset=53.0>\n",
        "        {0.0} <music21.note.Note B>\n",
        "        {1.0} <music21.note.Note B>\n",
        "        {2.0} <music21.note.Note B>\n",
        "        {3.0} <music21.note.Note G>\n",
        "    {57.0} <music21.stream.Measure 15 offset=57.0>\n",
        "        {0.0} <music21.note.Note G>\n",
        "        {1.0} <music21.note.Note C>\n",
        "        {2.0} <music21.note.Note D>\n",
        "        {3.0} <music21.note.Note C#>\n",
        "        {3.5} <music21.note.Note D#>\n",
        "    {61.0} <music21.stream.Measure 16 offset=61.0>\n",
        "        {0.0} <music21.layout.SystemLayout>\n",
        "        {0.0} <music21.note.Note E>\n",
        "        {1.0} <music21.note.Note B>\n",
        "        {2.0} <music21.note.Note G>\n",
        "        {3.0} <music21.note.Note B>\n",
        "    {65.0} <music21.stream.Measure 17 offset=65.0>\n",
        "        {0.0} <music21.note.Note C#>\n",
        "        {1.0} <music21.note.Note C#>\n",
        "        {2.0} <music21.note.Note D>\n",
        "        {2.5} <music21.note.Note C#>\n",
        "        {3.0} <music21.note.Note B>\n",
        "        {3.5} <music21.note.Note A#>\n",
        "    {69.0} <music21.stream.Measure 18 offset=69.0>\n",
        "        {0.0} <music21.note.Note B>\n",
        "        {1.0} <music21.note.Note F#>\n",
        "        {1.5} <music21.note.Note E>\n",
        "        {2.0} <music21.note.Note D#>\n",
        "        {3.0} <music21.bar.Barline style=final>\n",
        "{0.0} <music21.stream.Part Bass>\n",
        "    {0.0} <music21.instrument.Instrument P4: Bass: Instrument 4>\n",
        "    {0.0} <music21.stream.Measure 0 offset=0.0>\n",
        "        {0.0} <music21.clef.BassClef>\n",
        "        {0.0} <music21.key.KeySignature of 2 sharps, mode minor>\n",
        "        {0.0} <music21.meter.TimeSignature 4/4>\n",
        "        {0.0} <music21.note.Note E>\n",
        "    {1.0} <music21.stream.Measure 1 offset=1.0>\n",
        "        {0.0} <music21.note.Note E>\n",
        "        {1.0} <music21.note.Note D>\n",
        "        {2.0} <music21.note.Note G>\n",
        "        {3.0} <music21.note.Note D>\n",
        "        {3.5} <music21.note.Note C#>\n",
        "    {5.0} <music21.stream.Measure 2 offset=5.0>\n",
        "        {0.0} <music21.note.Note B>\n",
        "        {0.5} <music21.note.Note G>\n",
        "        {1.0} <music21.note.Note E>\n",
        "        {1.5} <music21.note.Note F#>\n",
        "        {2.0} <music21.note.Note B>\n",
        "        {3.0} <music21.note.Note F#>\n",
        "    {9.0} <music21.stream.Measure 3 offset=9.0>\n",
        "        {0.0} <music21.note.Note B>\n",
        "        {1.0} <music21.note.Note A>\n",
        "        {2.0} <music21.note.Note G>\n",
        "        {3.0} <music21.note.Note F#>\n",
        "    {13.0} <music21.stream.Measure 4 offset=13.0>\n",
        "        {0.0} <music21.layout.SystemLayout>\n",
        "        {0.0} <music21.note.Note E>\n",
        "        {1.0} <music21.note.Note B>\n",
        "        {2.0} <music21.note.Note E>\n",
        "        {3.0} <music21.note.Note E>\n",
        "    {17.0} <music21.stream.Measure 5 offset=17.0>\n",
        "        {0.0} <music21.note.Note E>\n",
        "        {1.0} <music21.note.Note D>\n",
        "        {2.0} <music21.note.Note G>\n",
        "        {3.0} <music21.note.Note D>\n",
        "        {3.5} <music21.note.Note C#>\n",
        "    {21.0} <music21.stream.Measure 6 offset=21.0>\n",
        "        {0.0} <music21.note.Note B>\n",
        "        {0.5} <music21.note.Note G>\n",
        "        {1.0} <music21.note.Note E>\n",
        "        {1.5} <music21.note.Note F#>\n",
        "        {2.0} <music21.note.Note B>\n",
        "        {3.0} <music21.note.Note F#>\n",
        "    {25.0} <music21.stream.Measure 7 offset=25.0>\n",
        "        {0.0} <music21.note.Note B>\n",
        "        {1.0} <music21.note.Note A>\n",
        "        {2.0} <music21.note.Note G>\n",
        "        {3.0} <music21.note.Note F#>\n",
        "    {29.0} <music21.stream.Measure 8 offset=29.0>\n",
        "        {0.0} <music21.layout.SystemLayout>\n",
        "        {0.0} <music21.note.Note E>\n",
        "        {1.0} <music21.note.Note B>\n",
        "        {2.0} <music21.note.Note E>\n",
        "        {3.0} <music21.note.Note E>\n",
        "        {3.5} <music21.note.Note D>\n",
        "    {33.0} <music21.stream.Measure 9 offset=33.0>\n",
        "        {0.0} <music21.note.Note C#>\n",
        "        {0.5} <music21.note.Note B>\n",
        "        {1.0} <music21.note.Note C#>\n",
        "        {1.5} <music21.note.Note A>\n",
        "        {2.0} <music21.note.Note D>\n",
        "        {3.0} <music21.note.Note G>\n",
        "        {3.5} <music21.note.Note F#>\n",
        "    {37.0} <music21.stream.Measure 10 offset=37.0>\n",
        "        {0.0} <music21.note.Note E>\n",
        "        {1.0} <music21.note.Note F#>\n",
        "        {2.0} <music21.note.Note B>\n",
        "        {3.0} <music21.note.Note E>\n",
        "        {3.5} <music21.note.Note F#>\n",
        "    {41.0} <music21.stream.Measure 11 offset=41.0>\n",
        "        {0.0} <music21.note.Note G>\n",
        "        {1.0} <music21.note.Note A>\n",
        "        {2.0} <music21.note.Note D>\n",
        "        {3.0} <music21.note.Note G>\n",
        "        {3.5} <music21.note.Note F#>\n",
        "    {45.0} <music21.stream.Measure 12 offset=45.0>\n",
        "        {0.0} <music21.layout.PageLayout>\n",
        "        {0.0} <music21.note.Note E>\n",
        "        {1.0} <music21.note.Note F#>\n",
        "        {2.0} <music21.note.Note B>\n",
        "        {3.0} <music21.note.Note F#>\n",
        "    {49.0} <music21.stream.Measure 13 offset=49.0>\n",
        "        {0.0} <music21.note.Note B>\n",
        "        {1.0} <music21.note.Note E>\n",
        "        {1.5} <music21.note.Note F#>\n",
        "        {2.0} <music21.note.Note G>\n",
        "        {3.0} <music21.note.Note F#>\n",
        "        {3.5} <music21.note.Note E>\n",
        "    {53.0} <music21.stream.Measure 14 offset=53.0>\n",
        "        {0.0} <music21.note.Note D#>\n",
        "        {1.0} <music21.note.Note E>\n",
        "        {2.0} <music21.note.Note B>\n",
        "        {3.0} <music21.note.Note E>\n",
        "        {3.5} <music21.note.Note D>\n",
        "    {57.0} <music21.stream.Measure 15 offset=57.0>\n",
        "        {0.0} <music21.note.Note C>\n",
        "        {0.5} <music21.note.Note B>\n",
        "        {1.0} <music21.note.Note A>\n",
        "        {2.0} <music21.note.Note G>\n",
        "        {3.0} <music21.note.Note A>\n",
        "        {3.5} <music21.note.Note B>\n",
        "    {61.0} <music21.stream.Measure 16 offset=61.0>\n",
        "        {0.0} <music21.layout.SystemLayout>\n",
        "        {0.0} <music21.note.Note C>\n",
        "        {0.5} <music21.note.Note A>\n",
        "        {1.0} <music21.note.Note B>\n",
        "        {2.0} <music21.note.Note E>\n",
        "        {3.0} <music21.note.Note E>\n",
        "    {65.0} <music21.stream.Measure 17 offset=65.0>\n",
        "        {0.0} <music21.note.Note A>\n",
        "        {0.5} <music21.note.Note G>\n",
        "        {1.0} <music21.note.Note F#>\n",
        "        {1.5} <music21.note.Note E>\n",
        "        {2.0} <music21.note.Note D>\n",
        "        {3.0} <music21.note.Note E>\n",
        "        {3.5} <music21.note.Note F#>\n",
        "    {69.0} <music21.stream.Measure 18 offset=69.0>\n",
        "        {0.0} <music21.note.Note G>\n",
        "        {0.5} <music21.note.Note E>\n",
        "        {1.0} <music21.note.Note F#>\n",
        "        {2.0} <music21.note.Note B>\n",
        "        {3.0} <music21.bar.Barline style=final>\n",
        "{0.0} <music21.layout.StaffGroup <music21.stream.Part Soprano><music21.stream.Part Alto><music21.stream.Part Tenor><music21.stream.Part Bass>>\n"
       ]
      }
     ],
     "prompt_number": 9
    },
    {
     "cell_type": "code",
     "collapsed": false,
     "input": [
      "len(sBach)"
     ],
     "language": "python",
     "metadata": {},
     "outputs": [
      {
       "output_type": "pyout",
       "prompt_number": 10,
       "text": [
        "6"
       ]
      }
     ],
     "prompt_number": 10
    },
    {
     "cell_type": "code",
     "collapsed": false,
     "input": [
      "sBach[0]"
     ],
     "language": "python",
     "metadata": {},
     "outputs": [
      {
       "output_type": "pyout",
       "prompt_number": 13,
       "text": [
        "<music21.metadata.Metadata at 0x1085c0a50>"
       ]
      }
     ],
     "prompt_number": 13
    },
    {
     "cell_type": "code",
     "collapsed": false,
     "input": [
      "sBach[1]"
     ],
     "language": "python",
     "metadata": {},
     "outputs": [
      {
       "output_type": "pyout",
       "prompt_number": 14,
       "text": [
        "<music21.stream.Part Soprano>"
       ]
      }
     ],
     "prompt_number": 14
    },
    {
     "cell_type": "code",
     "collapsed": false,
     "input": [
      "for stuff in sBach:\n",
      "    print stuff"
     ],
     "language": "python",
     "metadata": {},
     "outputs": [
      {
       "output_type": "stream",
       "stream": "stdout",
       "text": [
        "<music21.metadata.Metadata object at 0x1085c0a50>\n",
        "<music21.stream.Part Soprano>\n",
        "<music21.stream.Part Alto>\n",
        "<music21.stream.Part Tenor>\n",
        "<music21.stream.Part Bass>\n",
        "<music21.layout.StaffGroup <music21.stream.Part Soprano><music21.stream.Part Alto><music21.stream.Part Tenor><music21.stream.Part Bass>>\n"
       ]
      }
     ],
     "prompt_number": 15
    },
    {
     "cell_type": "code",
     "collapsed": false,
     "input": [
      "sBach.parts.measures(3,4).show('text')"
     ],
     "language": "python",
     "metadata": {},
     "outputs": [
      {
       "output_type": "stream",
       "stream": "stdout",
       "text": [
        "{0.0} <music21.clef.BassClef>\n",
        "{0.0} <music21.instrument.Instrument P3: Tenor: Instrument 3>\n",
        "{0.0} <music21.key.KeySignature of 2 sharps, mode minor>\n",
        "{0.0} <music21.meter.TimeSignature 4/4>\n",
        "{0.0} <music21.stream.Measure 3 offset=0.0>\n",
        "    {0.0} <music21.note.Note A>\n",
        "    {0.0} <music21.note.Note F#>\n",
        "    {0.0} <music21.note.Note C#>\n",
        "    {0.0} <music21.note.Note F#>\n",
        "    {1.0} <music21.note.Note D>\n",
        "    {1.0} <music21.note.Note F#>\n",
        "    {1.0} <music21.note.Note B>\n",
        "    {1.0} <music21.note.Note B>\n",
        "    {1.5} <music21.note.Note G>\n",
        "    {2.0} <music21.note.Note C#>\n",
        "    {2.0} <music21.note.Note G>\n",
        "    {2.0} <music21.note.Note C#>\n",
        "    {2.0} <music21.note.Note A>\n",
        "    {2.5} <music21.note.Note F#>\n",
        "    {3.0} <music21.note.Note B>\n",
        "    {3.0} <music21.note.Note F#>\n",
        "    {3.0} <music21.note.Note D#>\n",
        "    {3.0} <music21.note.Note G>\n",
        "    {3.5} <music21.note.Note E>\n",
        "    {3.5} <music21.note.Note E>\n",
        "{4.0} <music21.stream.Measure 4 offset=4.0>\n",
        "    {0.0} <music21.note.Note A>\n",
        "    {0.0} <music21.note.Note E>\n",
        "    {0.0} <music21.note.Note F#>\n",
        "    {0.0} <music21.note.Note F#>\n",
        "    {0.5} <music21.note.Note D#>\n",
        "    {1.0} <music21.layout.SystemLayout>\n",
        "    {1.0} <music21.note.Note G>\n",
        "    {1.0} <music21.layout.SystemLayout>\n",
        "    {1.0} <music21.note.Note E>\n",
        "    {1.0} <music21.layout.SystemLayout>\n",
        "    {1.0} <music21.note.Note B>\n",
        "    {1.0} <music21.layout.SystemLayout>\n",
        "    {1.0} <music21.note.Note E>\n",
        "    {2.0} <music21.note.Note F#>\n",
        "    {2.0} <music21.note.Note D#>\n",
        "    {2.0} <music21.note.Note B>\n",
        "    {2.5} <music21.note.Note A>\n",
        "    {3.0} <music21.note.Note E>\n",
        "    {3.0} <music21.note.Note B>\n",
        "    {3.0} <music21.note.Note G>\n",
        "    {3.0} <music21.note.Note E>\n"
       ]
      }
     ],
     "prompt_number": 18
    },
    {
     "cell_type": "code",
     "collapsed": false,
     "input": [
      "sBach[0]"
     ],
     "language": "python",
     "metadata": {},
     "outputs": [
      {
       "output_type": "pyout",
       "prompt_number": 19,
       "text": [
        "<music21.metadata.Metadata at 0x1085c0a50>"
       ]
      }
     ],
     "prompt_number": 19
    },
    {
     "cell_type": "code",
     "collapsed": false,
     "input": [
      "[part.id for part in sBach.parts]"
     ],
     "language": "python",
     "metadata": {},
     "outputs": [
      {
       "output_type": "pyout",
       "prompt_number": 20,
       "text": [
        "[u'Soprano', u'Alto', u'Tenor', u'Bass']"
       ]
      }
     ],
     "prompt_number": 20
    },
    {
     "cell_type": "code",
     "collapsed": false,
     "input": [
      "sBach.parts"
     ],
     "language": "python",
     "metadata": {},
     "outputs": [
      {
       "output_type": "pyout",
       "prompt_number": 21,
       "text": [
        "<music21.stream.Stream 4434566672>"
       ]
      }
     ],
     "prompt_number": 21
    },
    {
     "cell_type": "code",
     "collapsed": false,
     "input": [
      "a = sBach.getElementById('note')"
     ],
     "language": "python",
     "metadata": {},
     "outputs": [],
     "prompt_number": 23
    },
    {
     "cell_type": "code",
     "collapsed": false,
     "input": [
      "print a"
     ],
     "language": "python",
     "metadata": {},
     "outputs": [
      {
       "output_type": "stream",
       "stream": "stdout",
       "text": [
        "None\n"
       ]
      }
     ],
     "prompt_number": 26
    },
    {
     "cell_type": "code",
     "collapsed": false,
     "input": [
      "sBach"
     ],
     "language": "python",
     "metadata": {},
     "outputs": [
      {
       "output_type": "pyout",
       "prompt_number": 27,
       "text": [
        "<music21.stream.Score 4431719056>"
       ]
      }
     ],
     "prompt_number": 27
    },
    {
     "cell_type": "code",
     "collapsed": false,
     "input": [
      "for stuf in sBach.parts.notesAndRests:\n",
      "    print stuf"
     ],
     "language": "python",
     "metadata": {},
     "outputs": [],
     "prompt_number": 33
    },
    {
     "cell_type": "code",
     "collapsed": false,
     "input": [
      "notes = sBach.getElementsByClass(mu.note.Note)"
     ],
     "language": "python",
     "metadata": {},
     "outputs": [],
     "prompt_number": 38
    },
    {
     "cell_type": "code",
     "collapsed": false,
     "input": [
      "notes.show('text')"
     ],
     "language": "python",
     "metadata": {},
     "outputs": [
      {
       "output_type": "stream",
       "stream": "stdout",
       "text": [
        "\n"
       ]
      }
     ],
     "prompt_number": 39
    },
    {
     "cell_type": "code",
     "collapsed": false,
     "input": [
      "part = sBach[2]"
     ],
     "language": "python",
     "metadata": {},
     "outputs": [],
     "prompt_number": 44
    },
    {
     "cell_type": "code",
     "collapsed": false,
     "input": [
      "notes = part.getElementsByClass(mu.note.Note)"
     ],
     "language": "python",
     "metadata": {},
     "outputs": [],
     "prompt_number": 45
    },
    {
     "cell_type": "code",
     "collapsed": false,
     "input": [
      "s = mu.stream.Stream()"
     ],
     "language": "python",
     "metadata": {},
     "outputs": [],
     "prompt_number": 46
    },
    {
     "cell_type": "code",
     "collapsed": false,
     "input": [
      "n1 = mu.note.Note()"
     ],
     "language": "python",
     "metadata": {},
     "outputs": [],
     "prompt_number": 47
    },
    {
     "cell_type": "code",
     "collapsed": false,
     "input": [
      "n1.pitch.name = 'E4'"
     ],
     "language": "python",
     "metadata": {},
     "outputs": [],
     "prompt_number": 48
    },
    {
     "cell_type": "code",
     "collapsed": false,
     "input": [
      "n1.duration.type = 'half'"
     ],
     "language": "python",
     "metadata": {},
     "outputs": [],
     "prompt_number": 49
    },
    {
     "cell_type": "code",
     "collapsed": false,
     "input": [
      "n1"
     ],
     "language": "python",
     "metadata": {},
     "outputs": [
      {
       "output_type": "pyout",
       "prompt_number": 50,
       "text": [
        "<music21.note.Note E>"
       ]
      }
     ],
     "prompt_number": 50
    },
    {
     "cell_type": "code",
     "collapsed": false,
     "input": [
      "s.append(n1)"
     ],
     "language": "python",
     "metadata": {},
     "outputs": [],
     "prompt_number": 51
    },
    {
     "cell_type": "code",
     "collapsed": false,
     "input": [
      "len(s)"
     ],
     "language": "python",
     "metadata": {},
     "outputs": [
      {
       "output_type": "pyout",
       "prompt_number": 52,
       "text": [
        "1"
       ]
      }
     ],
     "prompt_number": 52
    },
    {
     "cell_type": "code",
     "collapsed": false,
     "input": [
      "s"
     ],
     "language": "python",
     "metadata": {},
     "outputs": [
      {
       "output_type": "pyout",
       "prompt_number": 53,
       "text": [
        "<music21.stream.Stream 4462073616>"
       ]
      }
     ],
     "prompt_number": 53
    },
    {
     "cell_type": "code",
     "collapsed": false,
     "input": [
      "s.show('musicxml')"
     ],
     "language": "python",
     "metadata": {},
     "outputs": [],
     "prompt_number": 54
    },
    {
     "cell_type": "code",
     "collapsed": false,
     "input": [
      "s.show()"
     ],
     "language": "python",
     "metadata": {},
     "outputs": [
      {
       "output_type": "pyout",
       "prompt_number": 55,
       "text": [
        "<music21.ipython21.objects.IPythonPNGObject at 0x109f5d1d0>"
       ]
      }
     ],
     "prompt_number": 55
    },
    {
     "cell_type": "code",
     "collapsed": false,
     "input": [
      "n2 = mu.note.Note('f#4')"
     ],
     "language": "python",
     "metadata": {},
     "outputs": [],
     "prompt_number": 56
    },
    {
     "cell_type": "code",
     "collapsed": false,
     "input": [
      "n2.quarterLength = 0.5"
     ],
     "language": "python",
     "metadata": {},
     "outputs": [],
     "prompt_number": 57
    },
    {
     "cell_type": "code",
     "collapsed": false,
     "input": [
      "s.append(n2)"
     ],
     "language": "python",
     "metadata": {},
     "outputs": [],
     "prompt_number": 58
    },
    {
     "cell_type": "code",
     "collapsed": false,
     "input": [
      "s"
     ],
     "language": "python",
     "metadata": {},
     "outputs": [
      {
       "output_type": "pyout",
       "prompt_number": 59,
       "text": [
        "<music21.stream.Stream 4462073616>"
       ]
      }
     ],
     "prompt_number": 59
    },
    {
     "cell_type": "code",
     "collapsed": false,
     "input": [
      "len(s)"
     ],
     "language": "python",
     "metadata": {},
     "outputs": [
      {
       "output_type": "pyout",
       "prompt_number": 60,
       "text": [
        "2"
       ]
      }
     ],
     "prompt_number": 60
    },
    {
     "cell_type": "code",
     "collapsed": false,
     "input": [
      "s.repeatAppend(n2, 10)"
     ],
     "language": "python",
     "metadata": {},
     "outputs": [],
     "prompt_number": 61
    },
    {
     "cell_type": "code",
     "collapsed": false,
     "input": [
      "s.show('text')"
     ],
     "language": "python",
     "metadata": {},
     "outputs": [
      {
       "output_type": "stream",
       "stream": "stdout",
       "text": [
        "{0.0} <music21.note.Note E>\n",
        "{2.0} <music21.note.Note F#>\n",
        "{2.5} <music21.note.Note F#>\n",
        "{3.0} <music21.note.Note F#>\n",
        "{3.5} <music21.note.Note F#>\n",
        "{4.0} <music21.note.Note F#>\n",
        "{4.5} <music21.note.Note F#>\n",
        "{5.0} <music21.note.Note F#>\n",
        "{5.5} <music21.note.Note F#>\n",
        "{6.0} <music21.note.Note F#>\n",
        "{6.5} <music21.note.Note F#>\n",
        "{7.0} <music21.note.Note F#>\n"
       ]
      }
     ],
     "prompt_number": 62
    },
    {
     "cell_type": "code",
     "collapsed": false,
     "input": [
      "sNotes = s.getElementsByClass(mu.note.Note)"
     ],
     "language": "python",
     "metadata": {},
     "outputs": [],
     "prompt_number": 63
    },
    {
     "cell_type": "code",
     "collapsed": false,
     "input": [
      "sNotes"
     ],
     "language": "python",
     "metadata": {},
     "outputs": [
      {
       "output_type": "pyout",
       "prompt_number": 64,
       "text": [
        "<music21.stream.Stream 4461962704>"
       ]
      }
     ],
     "prompt_number": 64
    },
    {
     "cell_type": "code",
     "collapsed": false,
     "input": [
      "sNotes.show('text')"
     ],
     "language": "python",
     "metadata": {},
     "outputs": [
      {
       "output_type": "stream",
       "stream": "stdout",
       "text": [
        "{0.0} <music21.note.Note E>\n",
        "{2.0} <music21.note.Note F#>\n",
        "{2.5} <music21.note.Note F#>\n",
        "{3.0} <music21.note.Note F#>\n",
        "{3.5} <music21.note.Note F#>\n",
        "{4.0} <music21.note.Note F#>\n",
        "{4.5} <music21.note.Note F#>\n",
        "{5.0} <music21.note.Note F#>\n",
        "{5.5} <music21.note.Note F#>\n",
        "{6.0} <music21.note.Note F#>\n",
        "{6.5} <music21.note.Note F#>\n",
        "{7.0} <music21.note.Note F#>\n"
       ]
      }
     ],
     "prompt_number": 66
    },
    {
     "cell_type": "code",
     "collapsed": false,
     "input": [
      "sOut = s.getElementsByOffset(2,2)"
     ],
     "language": "python",
     "metadata": {},
     "outputs": [],
     "prompt_number": 67
    },
    {
     "cell_type": "code",
     "collapsed": false,
     "input": [
      "sOut"
     ],
     "language": "python",
     "metadata": {},
     "outputs": [
      {
       "output_type": "pyout",
       "prompt_number": 68,
       "text": [
        "<music21.stream.Stream 4459490576>"
       ]
      }
     ],
     "prompt_number": 68
    },
    {
     "cell_type": "code",
     "collapsed": false,
     "input": [
      "sBach"
     ],
     "language": "python",
     "metadata": {},
     "outputs": [
      {
       "output_type": "pyout",
       "prompt_number": 69,
       "text": [
        "<music21.stream.Score 4431719056>"
       ]
      }
     ],
     "prompt_number": 69
    },
    {
     "cell_type": "code",
     "collapsed": false,
     "input": [
      "s1 = sBach.getElementsByClass('Part')[0]"
     ],
     "language": "python",
     "metadata": {},
     "outputs": [],
     "prompt_number": 73
    },
    {
     "cell_type": "code",
     "collapsed": false,
     "input": [
      "s1"
     ],
     "language": "python",
     "metadata": {},
     "outputs": [
      {
       "output_type": "pyout",
       "prompt_number": 74,
       "text": [
        "<music21.stream.Part Soprano>"
       ]
      }
     ],
     "prompt_number": 74
    },
    {
     "cell_type": "code",
     "collapsed": false,
     "input": [
      "s1.show('text')"
     ],
     "language": "python",
     "metadata": {},
     "outputs": [
      {
       "output_type": "stream",
       "stream": "stdout",
       "text": [
        "{0.0} <music21.instrument.Instrument P1: Soprano: Instrument 1>\n",
        "{0.0} <music21.stream.Measure 0 offset=0.0>\n",
        "    {0.0} <music21.clef.TrebleClef>\n",
        "    {0.0} <music21.key.KeySignature of 2 sharps, mode minor>\n",
        "    {0.0} <music21.meter.TimeSignature 4/4>\n",
        "    {0.0} <music21.note.Note E>\n",
        "    {0.5} <music21.note.Note F#>\n",
        "{1.0} <music21.stream.Measure 1 offset=1.0>\n",
        "    {0.0} <music21.note.Note G>\n",
        "    {1.0} <music21.note.Note A>\n",
        "    {2.0} <music21.note.Note B>\n",
        "    {3.0} <music21.note.Note A>\n",
        "{5.0} <music21.stream.Measure 2 offset=5.0>\n",
        "    {0.0} <music21.note.Note D>\n",
        "    {1.0} <music21.note.Note C#>\n",
        "    {2.0} <music21.note.Note B>\n",
        "    {3.0} <music21.note.Note A>\n",
        "{9.0} <music21.stream.Measure 3 offset=9.0>\n",
        "    {0.0} <music21.note.Note D>\n",
        "    {1.0} <music21.note.Note C#>\n",
        "    {2.0} <music21.note.Note B>\n",
        "    {3.0} <music21.note.Note A>\n",
        "{13.0} <music21.stream.Measure 4 offset=13.0>\n",
        "    {0.0} <music21.layout.SystemLayout>\n",
        "    {0.0} <music21.note.Note G>\n",
        "    {1.0} <music21.note.Note F#>\n",
        "    {2.0} <music21.note.Note E>\n",
        "    {3.0} <music21.note.Note E>\n",
        "    {3.5} <music21.note.Note F#>\n",
        "{17.0} <music21.stream.Measure 5 offset=17.0>\n",
        "    {0.0} <music21.note.Note G>\n",
        "    {1.0} <music21.note.Note A>\n",
        "    {2.0} <music21.note.Note B>\n",
        "    {3.0} <music21.note.Note A>\n",
        "{21.0} <music21.stream.Measure 6 offset=21.0>\n",
        "    {0.0} <music21.note.Note D>\n",
        "    {1.0} <music21.note.Note C#>\n",
        "    {2.0} <music21.note.Note B>\n",
        "    {3.0} <music21.note.Note A>\n",
        "{25.0} <music21.stream.Measure 7 offset=25.0>\n",
        "    {0.0} <music21.note.Note D>\n",
        "    {1.0} <music21.note.Note C#>\n",
        "    {2.0} <music21.note.Note B>\n",
        "    {3.0} <music21.note.Note A>\n",
        "{29.0} <music21.stream.Measure 8 offset=29.0>\n",
        "    {0.0} <music21.layout.SystemLayout>\n",
        "    {0.0} <music21.note.Note G>\n",
        "    {1.0} <music21.note.Note F#>\n",
        "    {2.0} <music21.note.Note E>\n",
        "    {3.0} <music21.note.Note E>\n",
        "{33.0} <music21.stream.Measure 9 offset=33.0>\n",
        "    {0.0} <music21.note.Note A>\n",
        "    {1.0} <music21.note.Note A>\n",
        "    {1.5} <music21.note.Note G>\n",
        "    {2.0} <music21.note.Note F#>\n",
        "    {3.0} <music21.note.Note B>\n",
        "{37.0} <music21.stream.Measure 10 offset=37.0>\n",
        "    {0.0} <music21.note.Note B>\n",
        "    {1.0} <music21.note.Note A#>\n",
        "    {2.0} <music21.note.Note B>\n",
        "    {3.0} <music21.note.Note B>\n",
        "{41.0} <music21.stream.Measure 11 offset=41.0>\n",
        "    {0.0} <music21.note.Note E>\n",
        "    {1.0} <music21.note.Note E>\n",
        "    {2.0} <music21.note.Note F#>\n",
        "    {2.5} <music21.note.Note E>\n",
        "    {3.0} <music21.note.Note D>\n",
        "{45.0} <music21.stream.Measure 12 offset=45.0>\n",
        "    {0.0} <music21.layout.PageLayout>\n",
        "    {0.0} <music21.note.Note E>\n",
        "    {0.5} <music21.note.Note D>\n",
        "    {1.0} <music21.note.Note C#>\n",
        "    {2.0} <music21.note.Note B>\n",
        "    {3.0} <music21.note.Note C#>\n",
        "{49.0} <music21.stream.Measure 13 offset=49.0>\n",
        "    {0.0} <music21.note.Note D>\n",
        "    {1.0} <music21.note.Note C#>\n",
        "    {2.0} <music21.note.Note B>\n",
        "    {3.0} <music21.note.Note A>\n",
        "{53.0} <music21.stream.Measure 14 offset=53.0>\n",
        "    {0.0} <music21.note.Note B>\n",
        "    {0.5} <music21.note.Note A>\n",
        "    {1.0} <music21.note.Note G>\n",
        "    {2.0} <music21.note.Note F#>\n",
        "    {3.0} <music21.note.Note E>\n",
        "    {3.5} <music21.note.Note F#>\n",
        "{57.0} <music21.stream.Measure 15 offset=57.0>\n",
        "    {0.0} <music21.note.Note G>\n",
        "    {1.0} <music21.note.Note A>\n",
        "    {2.0} <music21.note.Note B>\n",
        "    {3.0} <music21.note.Note A>\n",
        "    {3.5} <music21.note.Note G>\n",
        "{61.0} <music21.stream.Measure 16 offset=61.0>\n",
        "    {0.0} <music21.layout.SystemLayout>\n",
        "    {0.0} <music21.note.Note A>\n",
        "    {0.5} <music21.note.Note G>\n",
        "    {1.0} <music21.note.Note F#>\n",
        "    {2.0} <music21.note.Note E>\n",
        "    {3.0} <music21.note.Note E>\n",
        "{65.0} <music21.stream.Measure 17 offset=65.0>\n",
        "    {0.0} <music21.note.Note E>\n",
        "    {1.0} <music21.note.Note E>\n",
        "    {2.0} <music21.note.Note F#>\n",
        "    {3.0} <music21.note.Note E>\n",
        "{69.0} <music21.stream.Measure 18 offset=69.0>\n",
        "    {0.0} <music21.note.Note D>\n",
        "    {1.0} <music21.note.Note C#>\n",
        "    {2.0} <music21.note.Note B>\n",
        "    {3.0} <music21.bar.Barline style=final>\n"
       ]
      }
     ],
     "prompt_number": 75
    },
    {
     "cell_type": "code",
     "collapsed": false,
     "input": [
      "s1 = sBach.getElementsByClass('Part')[0].getElementsByClass('Measure')[0]"
     ],
     "language": "python",
     "metadata": {},
     "outputs": [],
     "prompt_number": 79
    },
    {
     "cell_type": "code",
     "collapsed": false,
     "input": [
      "s1"
     ],
     "language": "python",
     "metadata": {},
     "outputs": [
      {
       "output_type": "pyout",
       "prompt_number": 80,
       "text": [
        "<music21.stream.Measure 0 offset=0.0>"
       ]
      }
     ],
     "prompt_number": 80
    },
    {
     "cell_type": "code",
     "collapsed": false,
     "input": [
      "s1.show('text')"
     ],
     "language": "python",
     "metadata": {},
     "outputs": [
      {
       "output_type": "stream",
       "stream": "stdout",
       "text": [
        "{0.0} <music21.clef.TrebleClef>\n",
        "{0.0} <music21.key.KeySignature of 2 sharps, mode minor>\n",
        "{0.0} <music21.meter.TimeSignature 4/4>\n",
        "{0.0} <music21.note.Note E>\n",
        "{0.5} <music21.note.Note F#>\n"
       ]
      }
     ],
     "prompt_number": 81
    },
    {
     "cell_type": "code",
     "collapsed": false,
     "input": [
      "for parts in sBach.parts:\n",
      "    print 'hello'"
     ],
     "language": "python",
     "metadata": {},
     "outputs": [
      {
       "output_type": "stream",
       "stream": "stdout",
       "text": [
        "hello\n",
        "hello\n",
        "hello\n",
        "hello\n"
       ]
      }
     ],
     "prompt_number": 82
    },
    {
     "cell_type": "code",
     "collapsed": false,
     "input": [
      "\n",
      "    "
     ],
     "language": "python",
     "metadata": {},
     "outputs": [],
     "prompt_number": 82
    },
    {
     "cell_type": "code",
     "collapsed": false,
     "input": [
      "s2 = sBach.flat.getElementsByClass(mu.note.Note)"
     ],
     "language": "python",
     "metadata": {},
     "outputs": [],
     "prompt_number": 84
    },
    {
     "cell_type": "code",
     "collapsed": false,
     "input": [
      "s2 = sBach.getElementsByClass('part')[0]"
     ],
     "language": "python",
     "metadata": {},
     "outputs": [
      {
       "ename": "StreamException",
       "evalue": "attempting to access index 0 while elements is of size 0",
       "output_type": "pyerr",
       "traceback": [
        "\u001b[0;31m---------------------------------------------------------------------------\u001b[0m\n\u001b[0;31mStreamException\u001b[0m                           Traceback (most recent call last)",
        "\u001b[0;32m<ipython-input-87-1d30694253e6>\u001b[0m in \u001b[0;36m<module>\u001b[0;34m()\u001b[0m\n\u001b[0;32m----> 1\u001b[0;31m \u001b[0ms2\u001b[0m \u001b[0;34m=\u001b[0m \u001b[0msBach\u001b[0m\u001b[0;34m.\u001b[0m\u001b[0mgetElementsByClass\u001b[0m\u001b[0;34m(\u001b[0m\u001b[0;34m'part'\u001b[0m\u001b[0;34m)\u001b[0m\u001b[0;34m[\u001b[0m\u001b[0;36m0\u001b[0m\u001b[0;34m]\u001b[0m\u001b[0;34m\u001b[0m\u001b[0m\n\u001b[0m",
        "\u001b[0;32m/Users/jamiegabriel/anaconda/lib/python2.7/site-packages/music21-1.6.0-py2.7.egg/music21/stream.pyc\u001b[0m in \u001b[0;36m__getitem__\u001b[0;34m(self, key)\u001b[0m\n\u001b[1;32m    328\u001b[0m                     \u001b[0mmatch\u001b[0m \u001b[0;34m=\u001b[0m \u001b[0mself\u001b[0m\u001b[0;34m.\u001b[0m\u001b[0melements\u001b[0m\u001b[0;34m[\u001b[0m\u001b[0mkey\u001b[0m\u001b[0;34m]\u001b[0m\u001b[0;34m\u001b[0m\u001b[0m\n\u001b[1;32m    329\u001b[0m                 \u001b[0;32mexcept\u001b[0m \u001b[0mIndexError\u001b[0m\u001b[0;34m:\u001b[0m\u001b[0;34m\u001b[0m\u001b[0m\n\u001b[0;32m--> 330\u001b[0;31m                     \u001b[0;32mraise\u001b[0m \u001b[0mStreamException\u001b[0m\u001b[0;34m(\u001b[0m\u001b[0;34m'attempting to access index %s while elements is of size %s'\u001b[0m \u001b[0;34m%\u001b[0m \u001b[0;34m(\u001b[0m\u001b[0mkey\u001b[0m\u001b[0;34m,\u001b[0m \u001b[0mlen\u001b[0m\u001b[0;34m(\u001b[0m\u001b[0mself\u001b[0m\u001b[0;34m.\u001b[0m\u001b[0melements\u001b[0m\u001b[0;34m)\u001b[0m\u001b[0;34m)\u001b[0m\u001b[0;34m)\u001b[0m\u001b[0;34m\u001b[0m\u001b[0m\n\u001b[0m\u001b[1;32m    331\u001b[0m             \u001b[0;31m# setting active site as cautionary measure\u001b[0m\u001b[0;34m\u001b[0m\u001b[0;34m\u001b[0m\u001b[0m\n\u001b[1;32m    332\u001b[0m             \u001b[0mmatch\u001b[0m\u001b[0;34m.\u001b[0m\u001b[0mactiveSite\u001b[0m \u001b[0;34m=\u001b[0m \u001b[0mself\u001b[0m\u001b[0;34m\u001b[0m\u001b[0m\n",
        "\u001b[0;31mStreamException\u001b[0m: attempting to access index 0 while elements is of size 0"
       ]
      }
     ],
     "prompt_number": 87
    },
    {
     "cell_type": "code",
     "collapsed": false,
     "input": [
      "s2.show('text')"
     ],
     "language": "python",
     "metadata": {},
     "outputs": [
      {
       "output_type": "stream",
       "stream": "stdout",
       "text": [
        "{0.0} <music21.note.Note E>\n",
        "{0.0} <music21.note.Note B>\n",
        "{0.0} <music21.note.Note G>\n",
        "{0.0} <music21.note.Note E>\n",
        "{0.5} <music21.note.Note F#>\n",
        "{0.5} <music21.note.Note A>\n",
        "{1.0} <music21.note.Note G>\n",
        "{1.0} <music21.note.Note E>\n",
        "{1.0} <music21.note.Note B>\n",
        "{1.0} <music21.note.Note E>\n",
        "{2.0} <music21.note.Note A>\n",
        "{2.0} <music21.note.Note F#>\n",
        "{2.0} <music21.note.Note D>\n",
        "{2.0} <music21.note.Note D>\n",
        "{3.0} <music21.note.Note B>\n",
        "{3.0} <music21.note.Note G>\n",
        "{3.0} <music21.note.Note D>\n",
        "{3.0} <music21.note.Note G>\n",
        "{4.0} <music21.note.Note A>\n",
        "{4.0} <music21.note.Note F#>\n",
        "{4.0} <music21.note.Note D>\n",
        "{4.0} <music21.note.Note D>\n",
        "{4.5} <music21.note.Note E>\n",
        "{4.5} <music21.note.Note C#>\n",
        "{5.0} <music21.note.Note D>\n",
        "{5.0} <music21.note.Note B>\n",
        "{5.0} <music21.note.Note F#>\n",
        "{5.0} <music21.note.Note B>\n",
        "{5.5} <music21.note.Note D>\n",
        "{5.5} <music21.note.Note G>\n",
        "{6.0} <music21.note.Note C#>\n",
        "{6.0} <music21.note.Note G>\n",
        "{6.0} <music21.note.Note E>\n",
        "{6.5} <music21.note.Note A#>\n",
        "{6.5} <music21.note.Note F#>\n",
        "{6.5} <music21.note.Note F#>\n",
        "{7.0} <music21.note.Note B>\n",
        "{7.0} <music21.note.Note F#>\n",
        "{7.0} <music21.note.Note D>\n",
        "{7.0} <music21.note.Note B>\n",
        "{8.0} <music21.note.Note A>\n",
        "{8.0} <music21.note.Note F#>\n",
        "{8.0} <music21.note.Note C#>\n",
        "{8.0} <music21.note.Note F#>\n",
        "{9.0} <music21.note.Note D>\n",
        "{9.0} <music21.note.Note F#>\n",
        "{9.0} <music21.note.Note B>\n",
        "{9.0} <music21.note.Note B>\n",
        "{9.5} <music21.note.Note G>\n",
        "{10.0} <music21.note.Note C#>\n",
        "{10.0} <music21.note.Note G>\n",
        "{10.0} <music21.note.Note C#>\n",
        "{10.0} <music21.note.Note A>\n",
        "{10.5} <music21.note.Note F#>\n",
        "{11.0} <music21.note.Note B>\n",
        "{11.0} <music21.note.Note F#>\n",
        "{11.0} <music21.note.Note D#>\n",
        "{11.0} <music21.note.Note G>\n",
        "{11.5} <music21.note.Note E>\n",
        "{11.5} <music21.note.Note E>\n",
        "{12.0} <music21.note.Note A>\n",
        "{12.0} <music21.note.Note E>\n",
        "{12.0} <music21.note.Note F#>\n",
        "{12.0} <music21.note.Note F#>\n",
        "{12.5} <music21.note.Note D#>\n",
        "{13.0} <music21.note.Note G>\n",
        "{13.0} <music21.note.Note E>\n",
        "{13.0} <music21.note.Note B>\n",
        "{13.0} <music21.note.Note E>\n",
        "{14.0} <music21.note.Note F#>\n",
        "{14.0} <music21.note.Note D#>\n",
        "{14.0} <music21.note.Note B>\n",
        "{14.5} <music21.note.Note A>\n",
        "{15.0} <music21.note.Note E>\n",
        "{15.0} <music21.note.Note B>\n",
        "{15.0} <music21.note.Note G>\n",
        "{15.0} <music21.note.Note E>\n",
        "{16.0} <music21.note.Note E>\n",
        "{16.0} <music21.note.Note B>\n",
        "{16.0} <music21.note.Note G>\n",
        "{16.0} <music21.note.Note E>\n",
        "{16.5} <music21.note.Note F#>\n",
        "{16.5} <music21.note.Note A>\n",
        "{17.0} <music21.note.Note G>\n",
        "{17.0} <music21.note.Note E>\n",
        "{17.0} <music21.note.Note B>\n",
        "{17.0} <music21.note.Note E>\n",
        "{18.0} <music21.note.Note A>\n",
        "{18.0} <music21.note.Note F#>\n",
        "{18.0} <music21.note.Note D>\n",
        "{18.0} <music21.note.Note D>\n",
        "{19.0} <music21.note.Note B>\n",
        "{19.0} <music21.note.Note G>\n",
        "{19.0} <music21.note.Note D>\n",
        "{19.0} <music21.note.Note G>\n",
        "{20.0} <music21.note.Note A>\n",
        "{20.0} <music21.note.Note F#>\n",
        "{20.0} <music21.note.Note D>\n",
        "{20.0} <music21.note.Note D>\n",
        "{20.5} <music21.note.Note E>\n",
        "{20.5} <music21.note.Note C#>\n",
        "{21.0} <music21.note.Note D>\n",
        "{21.0} <music21.note.Note B>\n",
        "{21.0} <music21.note.Note F#>\n",
        "{21.0} <music21.note.Note B>\n",
        "{21.5} <music21.note.Note D>\n",
        "{21.5} <music21.note.Note G>\n",
        "{22.0} <music21.note.Note C#>\n",
        "{22.0} <music21.note.Note G>\n",
        "{22.0} <music21.note.Note E>\n",
        "{22.5} <music21.note.Note A#>\n",
        "{22.5} <music21.note.Note F#>\n",
        "{22.5} <music21.note.Note F#>\n",
        "{23.0} <music21.note.Note B>\n",
        "{23.0} <music21.note.Note F#>\n",
        "{23.0} <music21.note.Note D>\n",
        "{23.0} <music21.note.Note B>\n",
        "{24.0} <music21.note.Note A>\n",
        "{24.0} <music21.note.Note F#>\n",
        "{24.0} <music21.note.Note C#>\n",
        "{24.0} <music21.note.Note F#>\n",
        "{25.0} <music21.note.Note D>\n",
        "{25.0} <music21.note.Note F#>\n",
        "{25.0} <music21.note.Note B>\n",
        "{25.0} <music21.note.Note B>\n",
        "{25.5} <music21.note.Note G>\n",
        "{26.0} <music21.note.Note C#>\n",
        "{26.0} <music21.note.Note G>\n",
        "{26.0} <music21.note.Note C#>\n",
        "{26.0} <music21.note.Note A>\n",
        "{26.5} <music21.note.Note F#>\n",
        "{27.0} <music21.note.Note B>\n",
        "{27.0} <music21.note.Note F#>\n",
        "{27.0} <music21.note.Note D#>\n",
        "{27.0} <music21.note.Note G>\n",
        "{27.5} <music21.note.Note E>\n",
        "{27.5} <music21.note.Note E>\n",
        "{28.0} <music21.note.Note A>\n",
        "{28.0} <music21.note.Note E>\n",
        "{28.0} <music21.note.Note F#>\n",
        "{28.0} <music21.note.Note F#>\n",
        "{28.5} <music21.note.Note D#>\n",
        "{29.0} <music21.note.Note G>\n",
        "{29.0} <music21.note.Note E>\n",
        "{29.0} <music21.note.Note B>\n",
        "{29.0} <music21.note.Note E>\n",
        "{30.0} <music21.note.Note F#>\n",
        "{30.0} <music21.note.Note D#>\n",
        "{30.0} <music21.note.Note B>\n",
        "{30.5} <music21.note.Note A>\n",
        "{31.0} <music21.note.Note E>\n",
        "{31.0} <music21.note.Note B>\n",
        "{31.0} <music21.note.Note G>\n",
        "{31.0} <music21.note.Note E>\n",
        "{32.0} <music21.note.Note E>\n",
        "{32.0} <music21.note.Note B>\n",
        "{32.0} <music21.note.Note G>\n",
        "{32.0} <music21.note.Note E>\n",
        "{32.5} <music21.note.Note D>\n",
        "{33.0} <music21.note.Note A>\n",
        "{33.0} <music21.note.Note E>\n",
        "{33.0} <music21.note.Note A>\n",
        "{33.0} <music21.note.Note C#>\n",
        "{33.5} <music21.note.Note D>\n",
        "{33.5} <music21.note.Note B>\n",
        "{34.0} <music21.note.Note A>\n",
        "{34.0} <music21.note.Note E>\n",
        "{34.0} <music21.note.Note A>\n",
        "{34.0} <music21.note.Note C#>\n",
        "{34.5} <music21.note.Note G>\n",
        "{34.5} <music21.note.Note C#>\n",
        "{34.5} <music21.note.Note A>\n",
        "{35.0} <music21.note.Note F#>\n",
        "{35.0} <music21.note.Note D>\n",
        "{35.0} <music21.note.Note A>\n",
        "{35.0} <music21.note.Note D>\n",
        "{36.0} <music21.note.Note B>\n",
        "{36.0} <music21.note.Note D>\n",
        "{36.0} <music21.note.Note G>\n",
        "{36.0} <music21.note.Note G>\n",
        "{36.5} <music21.note.Note F#>\n",
        "{37.0} <music21.note.Note B>\n",
        "{37.0} <music21.note.Note C#>\n",
        "{37.0} <music21.note.Note G>\n",
        "{37.0} <music21.note.Note E>\n",
        "{38.0} <music21.note.Note A#>\n",
        "{38.0} <music21.note.Note C#>\n",
        "{38.0} <music21.note.Note F#>\n",
        "{38.0} <music21.note.Note F#>\n",
        "{39.0} <music21.note.Note B>\n",
        "{39.0} <music21.note.Note D#>\n",
        "{39.0} <music21.note.Note F#>\n",
        "{39.0} <music21.note.Note B>\n",
        "{40.0} <music21.note.Note B>\n",
        "{40.0} <music21.note.Note E>\n",
        "{40.0} <music21.note.Note G>\n",
        "{40.0} <music21.note.Note E>\n",
        "{40.5} <music21.note.Note A>\n",
        "{40.5} <music21.note.Note F#>\n",
        "{41.0} <music21.note.Note E>\n",
        "{41.0} <music21.note.Note E>\n",
        "{41.0} <music21.note.Note B>\n",
        "{41.0} <music21.note.Note G>\n",
        "{41.5} <music21.note.Note F#>\n",
        "{42.0} <music21.note.Note E>\n",
        "{42.0} <music21.note.Note G>\n",
        "{42.0} <music21.note.Note C#>\n",
        "{42.0} <music21.note.Note A>\n",
        "{43.0} <music21.note.Note F#>\n",
        "{43.0} <music21.note.Note F#>\n",
        "{43.0} <music21.note.Note C#>\n",
        "{43.0} <music21.note.Note D>\n",
        "{43.5} <music21.note.Note E>\n",
        "{44.0} <music21.note.Note D>\n",
        "{44.0} <music21.note.Note B>\n",
        "{44.0} <music21.note.Note B>\n",
        "{44.0} <music21.note.Note G>\n",
        "{44.5} <music21.note.Note A>\n",
        "{44.5} <music21.note.Note F#>\n",
        "{45.0} <music21.note.Note E>\n",
        "{45.0} <music21.note.Note G>\n",
        "{45.0} <music21.note.Note B>\n",
        "{45.0} <music21.note.Note E>\n",
        "{45.5} <music21.note.Note D>\n",
        "{45.5} <music21.note.Note F#>\n",
        "{46.0} <music21.note.Note C#>\n",
        "{46.0} <music21.note.Note E>\n",
        "{46.0} <music21.note.Note F#>\n",
        "{46.5} <music21.note.Note A#>\n",
        "{47.0} <music21.note.Note B>\n",
        "{47.0} <music21.note.Note D>\n",
        "{47.0} <music21.note.Note F#>\n",
        "{47.0} <music21.note.Note B>\n",
        "{48.0} <music21.note.Note C#>\n",
        "{48.0} <music21.note.Note F#>\n",
        "{48.0} <music21.note.Note A#>\n",
        "{48.0} <music21.note.Note F#>\n",
        "{49.0} <music21.note.Note D>\n",
        "{49.0} <music21.note.Note F#>\n",
        "{49.0} <music21.note.Note B>\n",
        "{49.0} <music21.note.Note B>\n",
        "{49.5} <music21.note.Note A>\n",
        "{50.0} <music21.note.Note C#>\n",
        "{50.0} <music21.note.Note E>\n",
        "{50.0} <music21.note.Note G>\n",
        "{50.0} <music21.note.Note E>\n",
        "{50.5} <music21.note.Note A>\n",
        "{50.5} <music21.note.Note F#>\n",
        "{51.0} <music21.note.Note B>\n",
        "{51.0} <music21.note.Note D>\n",
        "{51.0} <music21.note.Note B>\n",
        "{51.0} <music21.note.Note G>\n",
        "{51.5} <music21.note.Note E>\n",
        "{51.5} <music21.note.Note C#>\n",
        "{52.0} <music21.note.Note A>\n",
        "{52.0} <music21.note.Note F#>\n",
        "{52.0} <music21.note.Note D>\n",
        "{52.0} <music21.note.Note F#>\n",
        "{52.5} <music21.note.Note C>\n",
        "{52.5} <music21.note.Note E>\n",
        "{53.0} <music21.note.Note B>\n",
        "{53.0} <music21.note.Note F#>\n",
        "{53.0} <music21.note.Note B>\n",
        "{53.0} <music21.note.Note D#>\n",
        "{53.5} <music21.note.Note A>\n",
        "{54.0} <music21.note.Note G>\n",
        "{54.0} <music21.note.Note E>\n",
        "{54.0} <music21.note.Note B>\n",
        "{54.0} <music21.note.Note E>\n",
        "{55.0} <music21.note.Note F#>\n",
        "{55.0} <music21.note.Note D#>\n",
        "{55.0} <music21.note.Note B>\n",
        "{55.0} <music21.note.Note B>\n",
        "{56.0} <music21.note.Note E>\n",
        "{56.0} <music21.note.Note B>\n",
        "{56.0} <music21.note.Note G>\n",
        "{56.0} <music21.note.Note E>\n",
        "{56.5} <music21.note.Note F#>\n",
        "{56.5} <music21.note.Note D>\n",
        "{57.0} <music21.note.Note G>\n",
        "{57.0} <music21.note.Note E>\n",
        "{57.0} <music21.note.Note G>\n",
        "{57.0} <music21.note.Note C>\n",
        "{57.5} <music21.note.Note B>\n",
        "{58.0} <music21.note.Note A>\n",
        "{58.0} <music21.note.Note E>\n",
        "{58.0} <music21.note.Note C>\n",
        "{58.0} <music21.note.Note A>\n",
        "{58.5} <music21.note.Note F#>\n",
        "{59.0} <music21.note.Note B>\n",
        "{59.0} <music21.note.Note G>\n",
        "{59.0} <music21.note.Note D>\n",
        "{59.0} <music21.note.Note G>\n",
        "{60.0} <music21.note.Note A>\n",
        "{60.0} <music21.note.Note F#>\n",
        "{60.0} <music21.note.Note C#>\n",
        "{60.0} <music21.note.Note A>\n",
        "{60.5} <music21.note.Note G>\n",
        "{60.5} <music21.note.Note D#>\n",
        "{60.5} <music21.note.Note B>\n",
        "{61.0} <music21.note.Note A>\n",
        "{61.0} <music21.note.Note E>\n",
        "{61.0} <music21.note.Note E>\n",
        "{61.0} <music21.note.Note C>\n",
        "{61.5} <music21.note.Note G>\n",
        "{61.5} <music21.note.Note A>\n",
        "{62.0} <music21.note.Note F#>\n",
        "{62.0} <music21.note.Note D#>\n",
        "{62.0} <music21.note.Note B>\n",
        "{62.0} <music21.note.Note B>\n",
        "{63.0} <music21.note.Note E>\n",
        "{63.0} <music21.note.Note B>\n",
        "{63.0} <music21.note.Note G>\n",
        "{63.0} <music21.note.Note E>\n",
        "{64.0} <music21.note.Note E>\n",
        "{64.0} <music21.note.Note G#>\n",
        "{64.0} <music21.note.Note B>\n",
        "{64.0} <music21.note.Note E>\n",
        "{65.0} <music21.note.Note E>\n",
        "{65.0} <music21.note.Note A>\n",
        "{65.0} <music21.note.Note C#>\n",
        "{65.0} <music21.note.Note A>\n",
        "{65.5} <music21.note.Note G>\n",
        "{66.0} <music21.note.Note E>\n",
        "{66.0} <music21.note.Note A>\n",
        "{66.0} <music21.note.Note C#>\n",
        "{66.0} <music21.note.Note F#>\n",
        "{66.5} <music21.note.Note E>\n",
        "{67.0} <music21.note.Note F#>\n",
        "{67.0} <music21.note.Note A>\n",
        "{67.0} <music21.note.Note D>\n",
        "{67.0} <music21.note.Note D>\n",
        "{67.5} <music21.note.Note C#>\n",
        "{68.0} <music21.note.Note E>\n",
        "{68.0} <music21.note.Note G>\n",
        "{68.0} <music21.note.Note B>\n",
        "{68.0} <music21.note.Note E>\n",
        "{68.5} <music21.note.Note F#>\n",
        "{68.5} <music21.note.Note A#>\n",
        "{68.5} <music21.note.Note F#>\n",
        "{69.0} <music21.note.Note D>\n",
        "{69.0} <music21.note.Note B>\n",
        "{69.0} <music21.note.Note B>\n",
        "{69.0} <music21.note.Note G>\n",
        "{69.5} <music21.note.Note E>\n",
        "{70.0} <music21.note.Note C#>\n",
        "{70.0} <music21.note.Note A#>\n",
        "{70.0} <music21.note.Note F#>\n",
        "{70.0} <music21.note.Note F#>\n",
        "{70.5} <music21.note.Note E>\n",
        "{71.0} <music21.note.Note B>\n",
        "{71.0} <music21.note.Note F#>\n",
        "{71.0} <music21.note.Note D#>\n",
        "{71.0} <music21.note.Note B>\n"
       ]
      }
     ],
     "prompt_number": 86
    },
    {
     "cell_type": "code",
     "collapsed": false,
     "input": [
      "s2 = sBach.getElementsByClass(part)[0]"
     ],
     "language": "python",
     "metadata": {},
     "outputs": [
      {
       "ename": "StreamException",
       "evalue": "attempting to access index 0 while elements is of size 0",
       "output_type": "pyerr",
       "traceback": [
        "\u001b[0;31m---------------------------------------------------------------------------\u001b[0m\n\u001b[0;31mStreamException\u001b[0m                           Traceback (most recent call last)",
        "\u001b[0;32m<ipython-input-90-d3629bd2e9ab>\u001b[0m in \u001b[0;36m<module>\u001b[0;34m()\u001b[0m\n\u001b[0;32m----> 1\u001b[0;31m \u001b[0ms2\u001b[0m \u001b[0;34m=\u001b[0m \u001b[0msBach\u001b[0m\u001b[0;34m.\u001b[0m\u001b[0mgetElementsByClass\u001b[0m\u001b[0;34m(\u001b[0m\u001b[0mpart\u001b[0m\u001b[0;34m)\u001b[0m\u001b[0;34m[\u001b[0m\u001b[0;36m0\u001b[0m\u001b[0;34m]\u001b[0m\u001b[0;34m\u001b[0m\u001b[0m\n\u001b[0m",
        "\u001b[0;32m/Users/jamiegabriel/anaconda/lib/python2.7/site-packages/music21-1.6.0-py2.7.egg/music21/stream.pyc\u001b[0m in \u001b[0;36m__getitem__\u001b[0;34m(self, key)\u001b[0m\n\u001b[1;32m    328\u001b[0m                     \u001b[0mmatch\u001b[0m \u001b[0;34m=\u001b[0m \u001b[0mself\u001b[0m\u001b[0;34m.\u001b[0m\u001b[0melements\u001b[0m\u001b[0;34m[\u001b[0m\u001b[0mkey\u001b[0m\u001b[0;34m]\u001b[0m\u001b[0;34m\u001b[0m\u001b[0m\n\u001b[1;32m    329\u001b[0m                 \u001b[0;32mexcept\u001b[0m \u001b[0mIndexError\u001b[0m\u001b[0;34m:\u001b[0m\u001b[0;34m\u001b[0m\u001b[0m\n\u001b[0;32m--> 330\u001b[0;31m                     \u001b[0;32mraise\u001b[0m \u001b[0mStreamException\u001b[0m\u001b[0;34m(\u001b[0m\u001b[0;34m'attempting to access index %s while elements is of size %s'\u001b[0m \u001b[0;34m%\u001b[0m \u001b[0;34m(\u001b[0m\u001b[0mkey\u001b[0m\u001b[0;34m,\u001b[0m \u001b[0mlen\u001b[0m\u001b[0;34m(\u001b[0m\u001b[0mself\u001b[0m\u001b[0;34m.\u001b[0m\u001b[0melements\u001b[0m\u001b[0;34m)\u001b[0m\u001b[0;34m)\u001b[0m\u001b[0;34m)\u001b[0m\u001b[0;34m\u001b[0m\u001b[0m\n\u001b[0m\u001b[1;32m    331\u001b[0m             \u001b[0;31m# setting active site as cautionary measure\u001b[0m\u001b[0;34m\u001b[0m\u001b[0;34m\u001b[0m\u001b[0m\n\u001b[1;32m    332\u001b[0m             \u001b[0mmatch\u001b[0m\u001b[0;34m.\u001b[0m\u001b[0mactiveSite\u001b[0m \u001b[0;34m=\u001b[0m \u001b[0mself\u001b[0m\u001b[0;34m\u001b[0m\u001b[0m\n",
        "\u001b[0;31mStreamException\u001b[0m: attempting to access index 0 while elements is of size 0"
       ]
      }
     ],
     "prompt_number": 90
    },
    {
     "cell_type": "code",
     "collapsed": false,
     "input": [
      "s1"
     ],
     "language": "python",
     "metadata": {},
     "outputs": [
      {
       "output_type": "pyout",
       "prompt_number": 89,
       "text": [
        "<music21.stream.Measure 0 offset=0.0>"
       ]
      }
     ],
     "prompt_number": 89
    },
    {
     "cell_type": "code",
     "collapsed": false,
     "input": [
      "sBach.parts[1]"
     ],
     "language": "python",
     "metadata": {},
     "outputs": [],
     "prompt_number": 91
    },
    {
     "cell_type": "code",
     "collapsed": false,
     "input": [
      "len(sBach.parts)"
     ],
     "language": "python",
     "metadata": {},
     "outputs": [
      {
       "output_type": "pyout",
       "prompt_number": 93,
       "text": [
        "4"
       ]
      }
     ],
     "prompt_number": 93
    },
    {
     "cell_type": "code",
     "collapsed": false,
     "input": [
      "p1 = sBach.parts[0]"
     ],
     "language": "python",
     "metadata": {},
     "outputs": [],
     "prompt_number": 96
    },
    {
     "cell_type": "code",
     "collapsed": false,
     "input": [
      "flatP1 = p1.flat.getElementsByClass(mu.note.Note)"
     ],
     "language": "python",
     "metadata": {},
     "outputs": [],
     "prompt_number": 102
    },
    {
     "cell_type": "code",
     "collapsed": false,
     "input": [
      "flatP1.show('text')"
     ],
     "language": "python",
     "metadata": {},
     "outputs": [
      {
       "output_type": "stream",
       "stream": "stdout",
       "text": [
        "{0.0} <music21.note.Note E>\n",
        "{0.5} <music21.note.Note F#>\n",
        "{1.0} <music21.note.Note G>\n",
        "{2.0} <music21.note.Note A>\n",
        "{3.0} <music21.note.Note B>\n",
        "{4.0} <music21.note.Note A>\n",
        "{5.0} <music21.note.Note D>\n",
        "{6.0} <music21.note.Note C#>\n",
        "{7.0} <music21.note.Note B>\n",
        "{8.0} <music21.note.Note A>\n",
        "{9.0} <music21.note.Note D>\n",
        "{10.0} <music21.note.Note C#>\n",
        "{11.0} <music21.note.Note B>\n",
        "{12.0} <music21.note.Note A>\n",
        "{13.0} <music21.note.Note G>\n",
        "{14.0} <music21.note.Note F#>\n",
        "{15.0} <music21.note.Note E>\n",
        "{16.0} <music21.note.Note E>\n",
        "{16.5} <music21.note.Note F#>\n",
        "{17.0} <music21.note.Note G>\n",
        "{18.0} <music21.note.Note A>\n",
        "{19.0} <music21.note.Note B>\n",
        "{20.0} <music21.note.Note A>\n",
        "{21.0} <music21.note.Note D>\n",
        "{22.0} <music21.note.Note C#>\n",
        "{23.0} <music21.note.Note B>\n",
        "{24.0} <music21.note.Note A>\n",
        "{25.0} <music21.note.Note D>\n",
        "{26.0} <music21.note.Note C#>\n",
        "{27.0} <music21.note.Note B>\n",
        "{28.0} <music21.note.Note A>\n",
        "{29.0} <music21.note.Note G>\n",
        "{30.0} <music21.note.Note F#>\n",
        "{31.0} <music21.note.Note E>\n",
        "{32.0} <music21.note.Note E>\n",
        "{33.0} <music21.note.Note A>\n",
        "{34.0} <music21.note.Note A>\n",
        "{34.5} <music21.note.Note G>\n",
        "{35.0} <music21.note.Note F#>\n",
        "{36.0} <music21.note.Note B>\n",
        "{37.0} <music21.note.Note B>\n",
        "{38.0} <music21.note.Note A#>\n",
        "{39.0} <music21.note.Note B>\n",
        "{40.0} <music21.note.Note B>\n",
        "{41.0} <music21.note.Note E>\n",
        "{42.0} <music21.note.Note E>\n",
        "{43.0} <music21.note.Note F#>\n",
        "{43.5} <music21.note.Note E>\n",
        "{44.0} <music21.note.Note D>\n",
        "{45.0} <music21.note.Note E>\n",
        "{45.5} <music21.note.Note D>\n",
        "{46.0} <music21.note.Note C#>\n",
        "{47.0} <music21.note.Note B>\n",
        "{48.0} <music21.note.Note C#>\n",
        "{49.0} <music21.note.Note D>\n",
        "{50.0} <music21.note.Note C#>\n",
        "{51.0} <music21.note.Note B>\n",
        "{52.0} <music21.note.Note A>\n",
        "{53.0} <music21.note.Note B>\n",
        "{53.5} <music21.note.Note A>\n",
        "{54.0} <music21.note.Note G>\n",
        "{55.0} <music21.note.Note F#>\n",
        "{56.0} <music21.note.Note E>\n",
        "{56.5} <music21.note.Note F#>\n",
        "{57.0} <music21.note.Note G>\n",
        "{58.0} <music21.note.Note A>\n",
        "{59.0} <music21.note.Note B>\n",
        "{60.0} <music21.note.Note A>\n",
        "{60.5} <music21.note.Note G>\n",
        "{61.0} <music21.note.Note A>\n",
        "{61.5} <music21.note.Note G>\n",
        "{62.0} <music21.note.Note F#>\n",
        "{63.0} <music21.note.Note E>\n",
        "{64.0} <music21.note.Note E>\n",
        "{65.0} <music21.note.Note E>\n",
        "{66.0} <music21.note.Note E>\n",
        "{67.0} <music21.note.Note F#>\n",
        "{68.0} <music21.note.Note E>\n",
        "{69.0} <music21.note.Note D>\n",
        "{70.0} <music21.note.Note C#>\n",
        "{71.0} <music21.note.Note B>\n"
       ]
      }
     ],
     "prompt_number": 103
    },
    {
     "cell_type": "code",
     "collapsed": false,
     "input": [
      "for stuff in flatP1:\n",
      "    print stuff.offset"
     ],
     "language": "python",
     "metadata": {},
     "outputs": [
      {
       "output_type": "stream",
       "stream": "stdout",
       "text": [
        "0.0\n",
        "0.5\n",
        "1.0\n",
        "2.0\n",
        "3.0\n",
        "4.0\n",
        "5.0\n",
        "6.0\n",
        "7.0\n",
        "8.0\n",
        "9.0\n",
        "10.0\n",
        "11.0\n",
        "12.0\n",
        "13.0\n",
        "14.0\n",
        "15.0\n",
        "16.0\n",
        "16.5\n",
        "17.0\n",
        "18.0\n",
        "19.0\n",
        "20.0\n",
        "21.0\n",
        "22.0\n",
        "23.0\n",
        "24.0\n",
        "25.0\n",
        "26.0\n",
        "27.0\n",
        "28.0\n",
        "29.0\n",
        "30.0\n",
        "31.0\n",
        "32.0\n",
        "33.0\n",
        "34.0\n",
        "34.5\n",
        "35.0\n",
        "36.0\n",
        "37.0\n",
        "38.0\n",
        "39.0\n",
        "40.0\n",
        "41.0\n",
        "42.0\n",
        "43.0\n",
        "43.5\n",
        "44.0\n",
        "45.0\n",
        "45.5\n",
        "46.0\n",
        "47.0\n",
        "48.0\n",
        "49.0\n",
        "50.0\n",
        "51.0\n",
        "52.0\n",
        "53.0\n",
        "53.5\n",
        "54.0\n",
        "55.0\n",
        "56.0\n",
        "56.5\n",
        "57.0\n",
        "58.0\n",
        "59.0\n",
        "60.0\n",
        "60.5\n",
        "61.0\n",
        "61.5\n",
        "62.0\n",
        "63.0\n",
        "64.0\n",
        "65.0\n",
        "66.0\n",
        "67.0\n",
        "68.0\n",
        "69.0\n",
        "70.0\n",
        "71.0\n"
       ]
      }
     ],
     "prompt_number": 114
    },
    {
     "cell_type": "code",
     "collapsed": false,
     "input": [
      "n_data = pd.DataFrame"
     ],
     "language": "python",
     "metadata": {},
     "outputs": [],
     "prompt_number": 129
    },
    {
     "cell_type": "code",
     "collapsed": false,
     "input": [
      "noteList = []\n",
      "for eachNote in flatP1:\n",
      "    innerList = []\n",
      "    innerList.append(eachNote.offset)\n",
      "    innerList.append(eachNote.midi)\n",
      "    innerList.append(eachNote.quarterLength)\n",
      "    noteList.append(innerList)\n",
      "    "
     ],
     "language": "python",
     "metadata": {},
     "outputs": [],
     "prompt_number": 119
    },
    {
     "cell_type": "code",
     "collapsed": false,
     "input": [
      "noteList"
     ],
     "language": "python",
     "metadata": {},
     "outputs": [
      {
       "output_type": "pyout",
       "prompt_number": 123,
       "text": [
        "[[0.0, 64, 0.5],\n",
        " [0.5, 66, 0.5],\n",
        " [1.0, 67, 1.0],\n",
        " [2.0, 69, 1.0],\n",
        " [3.0, 71, 1.0],\n",
        " [4.0, 69, 1.0],\n",
        " [5.0, 74, 1.0],\n",
        " [6.0, 73, 1.0],\n",
        " [7.0, 71, 1.0],\n",
        " [8.0, 69, 1.0],\n",
        " [9.0, 74, 1.0],\n",
        " [10.0, 73, 1.0],\n",
        " [11.0, 71, 1.0],\n",
        " [12.0, 69, 1.0],\n",
        " [13.0, 67, 1.0],\n",
        " [14.0, 66, 1.0],\n",
        " [15.0, 64, 1.0],\n",
        " [16.0, 64, 0.5],\n",
        " [16.5, 66, 0.5],\n",
        " [17.0, 67, 1.0],\n",
        " [18.0, 69, 1.0],\n",
        " [19.0, 71, 1.0],\n",
        " [20.0, 69, 1.0],\n",
        " [21.0, 74, 1.0],\n",
        " [22.0, 73, 1.0],\n",
        " [23.0, 71, 1.0],\n",
        " [24.0, 69, 1.0],\n",
        " [25.0, 74, 1.0],\n",
        " [26.0, 73, 1.0],\n",
        " [27.0, 71, 1.0],\n",
        " [28.0, 69, 1.0],\n",
        " [29.0, 67, 1.0],\n",
        " [30.0, 66, 1.0],\n",
        " [31.0, 64, 1.0],\n",
        " [32.0, 64, 1.0],\n",
        " [33.0, 69, 1.0],\n",
        " [34.0, 69, 0.5],\n",
        " [34.5, 67, 0.5],\n",
        " [35.0, 66, 1.0],\n",
        " [36.0, 71, 1.0],\n",
        " [37.0, 71, 1.0],\n",
        " [38.0, 70, 1.0],\n",
        " [39.0, 71, 1.0],\n",
        " [40.0, 71, 1.0],\n",
        " [41.0, 76, 1.0],\n",
        " [42.0, 76, 1.0],\n",
        " [43.0, 78, 0.5],\n",
        " [43.5, 76, 0.5],\n",
        " [44.0, 74, 1.0],\n",
        " [45.0, 76, 0.5],\n",
        " [45.5, 74, 0.5],\n",
        " [46.0, 73, 1.0],\n",
        " [47.0, 71, 1.0],\n",
        " [48.0, 73, 1.0],\n",
        " [49.0, 74, 1.0],\n",
        " [50.0, 73, 1.0],\n",
        " [51.0, 71, 1.0],\n",
        " [52.0, 69, 1.0],\n",
        " [53.0, 71, 0.5],\n",
        " [53.5, 69, 0.5],\n",
        " [54.0, 67, 1.0],\n",
        " [55.0, 66, 1.0],\n",
        " [56.0, 64, 0.5],\n",
        " [56.5, 66, 0.5],\n",
        " [57.0, 67, 1.0],\n",
        " [58.0, 69, 1.0],\n",
        " [59.0, 71, 1.0],\n",
        " [60.0, 69, 0.5],\n",
        " [60.5, 67, 0.5],\n",
        " [61.0, 69, 0.5],\n",
        " [61.5, 67, 0.5],\n",
        " [62.0, 66, 1.0],\n",
        " [63.0, 64, 1.0],\n",
        " [64.0, 76, 1.0],\n",
        " [65.0, 76, 1.0],\n",
        " [66.0, 76, 1.0],\n",
        " [67.0, 78, 1.0],\n",
        " [68.0, 76, 1.0],\n",
        " [69.0, 74, 1.0],\n",
        " [70.0, 73, 1.0],\n",
        " [71.0, 71, 1.0]]"
       ]
      }
     ],
     "prompt_number": 123
    },
    {
     "cell_type": "code",
     "collapsed": false,
     "input": [
      "n_data = pd.DataFrame({'name':range(3)})"
     ],
     "language": "python",
     "metadata": {},
     "outputs": [],
     "prompt_number": 127
    },
    {
     "cell_type": "code",
     "collapsed": false,
     "input": [
      "n_data"
     ],
     "language": "python",
     "metadata": {},
     "outputs": [
      {
       "html": [
        "<div style=\"max-height:1000px;max-width:1500px;overflow:auto;\">\n",
        "<table border=\"1\" class=\"dataframe\">\n",
        "  <thead>\n",
        "    <tr style=\"text-align: right;\">\n",
        "      <th></th>\n",
        "      <th>name</th>\n",
        "    </tr>\n",
        "  </thead>\n",
        "  <tbody>\n",
        "    <tr>\n",
        "      <th>0</th>\n",
        "      <td> 0</td>\n",
        "    </tr>\n",
        "    <tr>\n",
        "      <th>1</th>\n",
        "      <td> 1</td>\n",
        "    </tr>\n",
        "    <tr>\n",
        "      <th>2</th>\n",
        "      <td> 2</td>\n",
        "    </tr>\n",
        "  </tbody>\n",
        "</table>\n",
        "</div>"
       ],
       "output_type": "pyout",
       "prompt_number": 128,
       "text": [
        "   name\n",
        "0     0\n",
        "1     1\n",
        "2     2"
       ]
      }
     ],
     "prompt_number": 128
    },
    {
     "cell_type": "code",
     "collapsed": false,
     "input": [
      "a = n_data.to_dict()"
     ],
     "language": "python",
     "metadata": {},
     "outputs": [
      {
       "ename": "TypeError",
       "evalue": "unbound method to_dict() must be called with DataFrame instance as first argument (got nothing instead)",
       "output_type": "pyerr",
       "traceback": [
        "\u001b[0;31m---------------------------------------------------------------------------\u001b[0m\n\u001b[0;31mTypeError\u001b[0m                                 Traceback (most recent call last)",
        "\u001b[0;32m<ipython-input-137-0f0266a82982>\u001b[0m in \u001b[0;36m<module>\u001b[0;34m()\u001b[0m\n\u001b[0;32m----> 1\u001b[0;31m \u001b[0ma\u001b[0m \u001b[0;34m=\u001b[0m \u001b[0mn_data\u001b[0m\u001b[0;34m.\u001b[0m\u001b[0mto_dict\u001b[0m\u001b[0;34m(\u001b[0m\u001b[0;34m)\u001b[0m\u001b[0;34m\u001b[0m\u001b[0m\n\u001b[0m",
        "\u001b[0;31mTypeError\u001b[0m: unbound method to_dict() must be called with DataFrame instance as first argument (got nothing instead)"
       ]
      }
     ],
     "prompt_number": 137
    },
    {
     "cell_type": "code",
     "collapsed": false,
     "input": [
      "ls"
     ],
     "language": "python",
     "metadata": {},
     "outputs": [
      {
       "output_type": "stream",
       "stream": "stdout",
       "text": [
        "PhD Code.ipynb  \u001b[34mopus18no1\u001b[m\u001b[m/      opus18no5.mxl   \u001b[34mopus59no3\u001b[m\u001b[m/\r\n",
        "opus132.mxl     opus18no3.mxl   \u001b[34mopus59no1\u001b[m\u001b[m/      opus74.mxl\r\n",
        "opus133.mxl     opus18no4.mxl   \u001b[34mopus59no2\u001b[m\u001b[m/\r\n"
       ]
      }
     ],
     "prompt_number": 138
    },
    {
     "cell_type": "code",
     "collapsed": false,
     "input": [
      "cd ="
     ],
     "language": "python",
     "metadata": {},
     "outputs": [
      {
       "ename": "SyntaxError",
       "evalue": "invalid syntax (<ipython-input-139-8738c79feeff>, line 1)",
       "output_type": "pyerr",
       "traceback": [
        "\u001b[0;36m  File \u001b[0;32m\"<ipython-input-139-8738c79feeff>\"\u001b[0;36m, line \u001b[0;32m1\u001b[0m\n\u001b[0;31m    cd =\u001b[0m\n\u001b[0m        ^\u001b[0m\n\u001b[0;31mSyntaxError\u001b[0m\u001b[0;31m:\u001b[0m invalid syntax\n"
       ]
      }
     ],
     "prompt_number": 139
    },
    {
     "cell_type": "code",
     "collapsed": false,
     "input": [
      "cd"
     ],
     "language": "python",
     "metadata": {},
     "outputs": [
      {
       "output_type": "stream",
       "stream": "stdout",
       "text": [
        "/Users/jamiegabriel\n"
       ]
      }
     ],
     "prompt_number": 140
    },
    {
     "cell_type": "code",
     "collapsed": false,
     "input": [
      "cd Desktop/PandasTutorialFiles/\n"
     ],
     "language": "python",
     "metadata": {},
     "outputs": [
      {
       "output_type": "stream",
       "stream": "stdout",
       "text": [
        "/Users/jamiegabriel/Desktop/PandasTutorialFiles\n"
       ]
      }
     ],
     "prompt_number": 141
    },
    {
     "cell_type": "code",
     "collapsed": false,
     "input": [
      "ls"
     ],
     "language": "python",
     "metadata": {},
     "outputs": [
      {
       "output_type": "stream",
       "stream": "stdout",
       "text": [
        "Basics.ipynb                    Untitled5.ipynb\r\n",
        "ElectionData.ipynb              Untitled6.ipynb\r\n",
        "FEC.v2.ipynb                    \u001b[34ma\u001b[m\u001b[m/\r\n",
        "Learning Genome Analysis.ipynb  ade030.csv\r\n",
        "NYCPython_FoodDB.ipynb          ade030.xls\r\n",
        "P00000001-ALL.txt               baby-names2.csv\r\n",
        "PG_DATA.csv                     barrolee\r\n",
        "\u001b[31mPG_DATA.xlsx\u001b[m\u001b[m*                   births.csv\r\n",
        "Practice.ipynb                  convert.py\r\n",
        "Simple Notebook.ipynb           foo.csv\r\n",
        "Student Analytics.ipynb         foods-2011-10-03.json\r\n",
        "\u001b[31mUG_DATA.xlsx\u001b[m\u001b[m*                   \u001b[34msklearn_pycon2013-master\u001b[m\u001b[m/\r\n",
        "Untitled0.ipynb                 stock_data.csv\r\n",
        "Untitled1.ipynb                 tester.csv\r\n",
        "Untitled2.ipynb                 tips.csv\r\n",
        "Untitled3.ipynb                 ug_data.csv\r\n",
        "Untitled4.ipynb                 ug_data_2.csv\r\n"
       ]
      }
     ],
     "prompt_number": 142
    },
    {
     "cell_type": "code",
     "collapsed": false,
     "input": [
      "s1 = pd.read_csv('ade030.csv')"
     ],
     "language": "python",
     "metadata": {},
     "outputs": [],
     "prompt_number": 144
    },
    {
     "cell_type": "code",
     "collapsed": false,
     "input": [],
     "language": "python",
     "metadata": {},
     "outputs": [],
     "prompt_number": 149
    },
    {
     "cell_type": "code",
     "collapsed": false,
     "input": [],
     "language": "python",
     "metadata": {},
     "outputs": []
    }
   ],
   "metadata": {}
  }
 ]
}